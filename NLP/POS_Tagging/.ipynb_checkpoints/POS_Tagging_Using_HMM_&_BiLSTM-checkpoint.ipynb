{
 "cells": [
  {
   "cell_type": "markdown",
   "metadata": {},
   "source": [
    "Sequence Labeling:  Part-Of-Speech Tagging using HMM and Deep Learning\n",
    "=======================\n",
    "- The target domain is part-of-speech tagging on English and Norwegian from the Universal Dependencies dataset.\n",
    "\n",
    "Project Goals:\n",
    "- Do some basic preprocessing of the data\n",
    "- Build a naive classifier that tags each word with its most common tag\n",
    "- Implement a `Viterbi` tagger using `Hidden Markov Model` in PyTorch\n",
    "- Build a `Bi-LSTM` deep learning model using PyTorch"
   ]
  },
  {
   "cell_type": "code",
   "execution_count": 1,
   "metadata": {},
   "outputs": [],
   "source": [
    "import sys\n",
    "from importlib import reload"
   ]
  },
  {
   "cell_type": "code",
   "execution_count": 2,
   "metadata": {},
   "outputs": [
    {
     "name": "stdout",
     "output_type": "stream",
     "text": [
      "My Python version\n",
      "python: 3.8.13 (default, Mar 28 2022, 06:16:26) \n",
      "[Clang 12.0.0 ]\n"
     ]
    }
   ],
   "source": [
    "print('My Python version')\n",
    "\n",
    "print('python: {}'.format(sys.version))"
   ]
  },
  {
   "cell_type": "code",
   "execution_count": 2,
   "metadata": {},
   "outputs": [],
   "source": [
    "import nose\n",
    "\n",
    "import pandas as pd\n",
    "import numpy as np\n",
    "import matplotlib\n",
    "import matplotlib.pyplot as plt\n",
    "import math\n",
    "\n",
    "import torch\n",
    "import torch.nn as nn\n",
    "from torch.autograd import Variable\n",
    "from torch import optim\n",
    "\n",
    "%matplotlib inline"
   ]
  },
  {
   "cell_type": "code",
   "execution_count": 3,
   "metadata": {},
   "outputs": [
    {
     "name": "stdout",
     "output_type": "stream",
     "text": [
      "My library versions\n",
      "pandas: 1.4.4\n",
      "numpy: 1.23.3\n",
      "matplotlib: 3.5.1\n",
      "nose: 1.3.7\n",
      "torch: 1.4.0\n"
     ]
    }
   ],
   "source": [
    "print('My library versions')\n",
    "\n",
    "print('pandas: {}'.format(pd.__version__))\n",
    "print('numpy: {}'.format(np.__version__))\n",
    "print('matplotlib: {}'.format(matplotlib.__version__))\n",
    "print('nose: {}'.format(nose.__version__))\n",
    "print('torch: {}'.format(torch.__version__))"
   ]
  },
  {
   "cell_type": "markdown",
   "metadata": {},
   "source": [
    "To test whether your libraries are the right version, run:\n",
    "\n",
    "`nosetests tests/test_environment.py`"
   ]
  },
  {
   "cell_type": "code",
   "execution_count": 5,
   "metadata": {},
   "outputs": [
    {
     "name": "stdout",
     "output_type": "stream",
     "text": [
      ".\r\n",
      "----------------------------------------------------------------------\r\n",
      "Ran 1 test in 0.001s\r\n",
      "\r\n",
      "OK\r\n"
     ]
    }
   ],
   "source": [
    "# use ! to run shell commands in notebook\n",
    "! nosetests tests/test_environment.py"
   ]
  },
  {
   "cell_type": "code",
   "execution_count": 4,
   "metadata": {},
   "outputs": [],
   "source": [
    "from collections import defaultdict, Counter\n",
    "\n",
    "# importing all the necessary files from mynlplib\n",
    "from mynlplib import constants, preproc, most_common, clf_base, evaluation\n",
    "from mynlplib import scorer, tagger_base, naive_bayes, hmm, viterbi, bilstm"
   ]
  },
  {
   "cell_type": "markdown",
   "metadata": {},
   "source": [
    "# 1. Data Processing\n",
    "The part-of-speech tags are defined on the [universal dependencies website](http://universaldependencies.org/en/pos/index.html)."
   ]
  },
  {
   "cell_type": "code",
   "execution_count": 5,
   "metadata": {},
   "outputs": [],
   "source": [
    "reload(constants);\n",
    "## Define the file names\n",
    "TRAIN_FILE = constants.TRAIN_FILE\n",
    "DEV_FILE = constants.DEV_FILE\n",
    "TEST_FILE = constants.TEST_FILE\n",
    "TEST_FILE_HIDDEN = constants.TEST_FILE_UNLABELED\n",
    "NR_TRAIN_FILE = constants.NR_TRAIN_FILE\n",
    "NR_DEV_FILE = constants.NR_DEV_FILE\n",
    "NR_TEST_FILE = constants.NR_TEST_FILE\n",
    "NR_TEST_FILE_HIDDEN = constants.NR_TEST_FILE_UNLABELED"
   ]
  },
  {
   "cell_type": "code",
   "execution_count": 7,
   "metadata": {
    "scrolled": true
   },
   "outputs": [
    {
     "name": "stdout",
     "output_type": "stream",
     "text": [
      "['Al', '-', 'Zaman', ':', 'American', 'forces', 'killed', 'Shaikh', 'Abdullah', 'al', '-', 'Ani', ',', 'the', 'preacher', 'at', 'the', 'mosque', 'in', 'the', 'town', 'of', 'Qaim', ',', 'near', 'the', 'Syrian', 'border', '.']\n",
      "['PROPN', 'PUNCT', 'PROPN', 'PUNCT', 'ADJ', 'NOUN', 'VERB', 'PROPN', 'PROPN', 'PROPN', 'PUNCT', 'PROPN', 'PUNCT', 'DET', 'NOUN', 'ADP', 'DET', 'NOUN', 'ADP', 'DET', 'NOUN', 'ADP', 'PROPN', 'PUNCT', 'ADP', 'DET', 'ADJ', 'NOUN', 'PUNCT']\n",
      "['[', 'This', 'killing', 'of', 'a', 'respected', 'cleric', 'will', 'be', 'causing', 'us', 'trouble', 'for', 'years', 'to', 'come', '.', ']']\n",
      "['PUNCT', 'DET', 'NOUN', 'ADP', 'DET', 'ADJ', 'NOUN', 'AUX', 'AUX', 'VERB', 'PRON', 'NOUN', 'ADP', 'NOUN', 'PART', 'VERB', 'PUNCT', 'PUNCT']\n",
      "['DPA', ':', 'Iraqi', 'authorities', 'announced', 'that', 'they', 'had', 'busted', 'up', '3', 'terrorist', 'cells', 'operating', 'in', 'Baghdad', '.']\n",
      "['PROPN', 'PUNCT', 'ADJ', 'NOUN', 'VERB', 'SCONJ', 'PRON', 'AUX', 'VERB', 'ADP', 'NUM', 'ADJ', 'NOUN', 'VERB', 'ADP', 'PROPN', 'PUNCT']\n",
      "['Two', 'of', 'them', 'were', 'being', 'run', 'by', '2', 'officials', 'of', 'the', 'Ministry', 'of', 'the', 'Interior', '!']\n",
      "['NUM', 'ADP', 'PRON', 'AUX', 'AUX', 'VERB', 'ADP', 'NUM', 'NOUN', 'ADP', 'DET', 'PROPN', 'ADP', 'DET', 'PROPN', 'PUNCT']\n",
      "['The', 'MoI', 'in', 'Iraq', 'is', 'equivalent', 'to', 'the', 'US', 'FBI', ',', 'so', 'this', 'would', 'be', 'like', 'having', 'J.', 'Edgar', 'Hoover', 'unwittingly', 'employ', 'at', 'a', 'high', 'level', 'members', 'of', 'the', 'Weathermen', 'bombers', 'back', 'in', 'the', '1960s', '.']\n",
      "['DET', 'PROPN', 'ADP', 'PROPN', 'VERB', 'ADJ', 'ADP', 'DET', 'PROPN', 'PROPN', 'PUNCT', 'ADV', 'PRON', 'AUX', 'VERB', 'SCONJ', 'VERB', 'PROPN', 'PROPN', 'PROPN', 'ADV', 'VERB', 'ADP', 'DET', 'ADJ', 'NOUN', 'NOUN', 'ADP', 'DET', 'PROPN', 'NOUN', 'ADV', 'ADP', 'DET', 'NOUN', 'PUNCT']\n",
      "['The', 'third', 'was', 'being', 'run', 'by', 'the', 'head', 'of', 'an', 'investment', 'firm', '.']\n",
      "['DET', 'ADJ', 'AUX', 'AUX', 'VERB', 'ADP', 'DET', 'NOUN', 'ADP', 'DET', 'NOUN', 'NOUN', 'PUNCT']\n",
      "['You', 'wonder', 'if', 'he', 'was', 'manipulating', 'the', 'market', 'with', 'his', 'bombing', 'targets', '.']\n",
      "['PRON', 'VERB', 'SCONJ', 'PRON', 'AUX', 'VERB', 'DET', 'NOUN', 'ADP', 'PRON', 'NOUN', 'NOUN', 'PUNCT']\n",
      "['The', 'cells', 'were', 'operating', 'in', 'the', 'Ghazaliyah', 'and', 'al', '-', 'Jihad', 'districts', 'of', 'the', 'capital', '.']\n",
      "['DET', 'NOUN', 'AUX', 'VERB', 'ADP', 'DET', 'PROPN', 'CONJ', 'PROPN', 'PUNCT', 'PROPN', 'NOUN', 'ADP', 'DET', 'NOUN', 'PUNCT']\n",
      "['Although', 'the', 'announcement', 'was', 'probably', 'made', 'to', 'show', 'progress', 'in', 'identifying', 'and', 'breaking', 'up', 'terror', 'cells', ',', 'I', 'do', \"n't\", 'find', 'the', 'news', 'that', 'the', 'Baathists', 'continue', 'to', 'penetrate', 'the', 'Iraqi', 'government', 'very', 'hopeful', '.']\n",
      "['SCONJ', 'DET', 'NOUN', 'AUX', 'ADV', 'VERB', 'PART', 'VERB', 'NOUN', 'SCONJ', 'VERB', 'CONJ', 'VERB', 'ADP', 'NOUN', 'NOUN', 'PUNCT', 'PRON', 'AUX', 'PART', 'VERB', 'DET', 'NOUN', 'SCONJ', 'DET', 'PROPN', 'VERB', 'PART', 'VERB', 'DET', 'ADJ', 'NOUN', 'ADV', 'ADJ', 'PUNCT']\n",
      "['It', 'reminds', 'me', 'too', 'much', 'of', 'the', 'ARVN', 'officers', 'who', 'were', 'secretly', 'working', 'for', 'the', 'other', 'side', 'in', 'Vietnam', '.']\n",
      "['PRON', 'VERB', 'PRON', 'ADV', 'ADV', 'ADP', 'DET', 'PROPN', 'NOUN', 'PRON', 'AUX', 'ADV', 'VERB', 'ADP', 'DET', 'ADJ', 'NOUN', 'ADP', 'PROPN', 'PUNCT']\n",
      "['Al', '-', 'Zaman', ':', 'Guerrillas', 'killed', 'a', 'member', 'of', 'the', 'Kurdistan', 'Democratic', 'Party', 'after', 'kidnapping', 'him', 'in', 'Mosul', '.']\n",
      "['PROPN', 'PUNCT', 'PROPN', 'PUNCT', 'NOUN', 'VERB', 'DET', 'NOUN', 'ADP', 'DET', 'PROPN', 'PROPN', 'PROPN', 'SCONJ', 'VERB', 'PRON', 'ADP', 'PROPN', 'PUNCT']\n",
      "['The', 'police', 'commander', 'of', 'Ninevah', 'Province', 'announced', 'that', 'bombings', 'had', 'declined', '80', 'percent', 'in', 'Mosul', ',', 'whereas', 'there', 'had', 'been', 'a', 'big', 'jump', 'in', 'the', 'number', 'of', 'kidnappings', '.']\n",
      "['DET', 'NOUN', 'NOUN', 'ADP', 'PROPN', 'PROPN', 'VERB', 'SCONJ', 'NOUN', 'AUX', 'VERB', 'NUM', 'NOUN', 'ADP', 'PROPN', 'PUNCT', 'SCONJ', 'PRON', 'AUX', 'VERB', 'DET', 'ADJ', 'NOUN', 'ADP', 'DET', 'NOUN', 'ADP', 'NOUN', 'PUNCT']\n",
      "['On', 'Wednesday', 'guerrillas', 'had', 'kidnapped', 'a', 'cosmetic', 'surgeon', 'and', 'his', 'wife', 'while', 'they', 'were', 'on', 'their', 'way', 'home', '.']\n",
      "['ADP', 'PROPN', 'NOUN', 'AUX', 'VERB', 'DET', 'ADJ', 'NOUN', 'CONJ', 'PRON', 'NOUN', 'SCONJ', 'PRON', 'VERB', 'ADP', 'PRON', 'NOUN', 'ADV', 'PUNCT']\n",
      "['In', 'Suwayrah', ',', 'Kut', 'Province', ',', 'two', 'car', 'bombs', 'were', 'discovered', 'before', 'they', 'could', 'be', 'detonated', '.']\n",
      "['ADP', 'PROPN', 'PUNCT', 'PROPN', 'PROPN', 'PUNCT', 'NUM', 'NOUN', 'NOUN', 'AUX', 'VERB', 'SCONJ', 'PRON', 'AUX', 'AUX', 'VERB', 'PUNCT']\n",
      "['(', 'Kut', 'is', 'in', 'southeastern', 'Iraq', 'and', 'has', 'an', 'overwhelmingly', 'Shiite', 'population', ',', 'who', 'are', 'on', 'the', 'lookout', 'for', 'Baathist', 'saboteurs', 'and', 'willingly', 'turn', 'them', 'in', '.']\n",
      "['PUNCT', 'PROPN', 'VERB', 'ADP', 'ADJ', 'PROPN', 'CONJ', 'VERB', 'DET', 'ADV', 'ADJ', 'NOUN', 'PUNCT', 'PRON', 'VERB', 'ADP', 'DET', 'NOUN', 'ADP', 'PROPN', 'NOUN', 'CONJ', 'ADV', 'VERB', 'PRON', 'ADP', 'PUNCT']\n",
      "['This', 'willingness', 'is', 'the', 'main', 'difference', 'in', 'the', 'number', 'of', 'bombings', 'in', 'the', 'south', 'as', 'opposed', 'to', 'the', 'center', '-', 'north', 'of', 'the', 'country', '.', ')']\n",
      "['DET', 'NOUN', 'VERB', 'DET', 'ADJ', 'NOUN', 'ADP', 'DET', 'NOUN', 'ADP', 'NOUN', 'ADP', 'DET', 'NOUN', 'SCONJ', 'VERB', 'ADP', 'DET', 'NOUN', 'PUNCT', 'NOUN', 'ADP', 'DET', 'NOUN', 'PUNCT', 'PUNCT']\n",
      "['In', 'Baghdad', 'Kadhim', 'Talal', 'Husain', ',', 'assistant', 'dean', 'at', 'the', 'School', 'of', 'Education', 'at', 'Mustansiriyah', 'University', ',', 'was', 'assassinated', 'with', 'his', 'driver', 'in', 'the', 'Salikh', 'district', '.']\n",
      "['ADP', 'PROPN', 'PROPN', 'PROPN', 'PROPN', 'PUNCT', 'ADJ', 'NOUN', 'ADP', 'DET', 'PROPN', 'ADP', 'PROPN', 'ADP', 'PROPN', 'PROPN', 'PUNCT', 'AUX', 'VERB', 'ADP', 'PRON', 'NOUN', 'ADP', 'DET', 'PROPN', 'NOUN', 'PUNCT']\n",
      "['Guerrillas', 'killed', 'an', 'engineer', ',', 'Asi', 'Ali', ',', 'from', 'Tikrit', '.']\n",
      "['NOUN', 'VERB', 'DET', 'NOUN', 'PUNCT', 'PROPN', 'PROPN', 'PUNCT', 'ADP', 'PROPN', 'PUNCT']\n",
      "['They', 'also', 'killed', 'Shaikh', 'Hamid', \"'Akkab\", ',', 'a', 'clan', 'elder', 'of', 'a', 'branch', 'of', 'the', 'Dulaim', 'tribe', 'in', 'Tikrit', '.']\n",
      "['PRON', 'ADV', 'VERB', 'PROPN', 'PROPN', 'PROPN', 'PUNCT', 'DET', 'NOUN', 'NOUN', 'ADP', 'DET', 'NOUN', 'ADP', 'DET', 'PROPN', 'NOUN', 'ADP', 'PROPN', 'PUNCT']\n",
      "['His', 'mother', 'was', 'also', 'killed', 'in', 'the', 'attack', '.']\n",
      "['PRON', 'NOUN', 'AUX', 'ADV', 'VERB', 'ADP', 'DET', 'NOUN', 'PUNCT']\n",
      "['Two', 'other', 'Dulaim', 'leaders', 'have', 'been', 'killed', 'in', 'the', 'past', 'week', 'and', 'a', 'half', '.']\n",
      "['NUM', 'ADJ', 'PROPN', 'NOUN', 'AUX', 'AUX', 'VERB', 'ADP', 'DET', 'ADJ', 'NOUN', 'CONJ', 'DET', 'NOUN', 'PUNCT']\n",
      "['Guerrillas', 'near', 'Hawijah', 'launched', 'an', 'attack', 'that', 'left', '6', 'dead', ',', 'including', '4', 'Iraqi', 'soldiers', '.']\n",
      "['NOUN', 'ADP', 'PROPN', 'VERB', 'DET', 'NOUN', 'PRON', 'VERB', 'NUM', 'ADJ', 'PUNCT', 'VERB', 'NUM', 'ADJ', 'NOUN', 'PUNCT']\n",
      "['One', 'of', 'them', 'was', 'from', 'the', 'Jubur', 'tribe', 'and', 'was', 'deputy', 'commander', 'of', 'the', 'Hawijah', 'garrison', '.']\n",
      "['NUM', 'ADP', 'PRON', 'VERB', 'ADP', 'DET', 'PROPN', 'NOUN', 'CONJ', 'VERB', 'NOUN', 'NOUN', 'ADP', 'DET', 'PROPN', 'NOUN', 'PUNCT']\n",
      "['Two', 'hundred', 'members', 'of', 'the', 'Batawi', 'clan', 'of', 'the', 'Dulaim', 'demonstrated', 'in', 'Baghdad', 'on', 'Friday', ',', 'protesting', 'the', 'killing', 'of', 'their', 'clan', 'elder', ',', 'Shaikh', 'Kadhim', 'Sarhid', 'and', '4', 'of', 'his', 'sons', ',', 'by', 'gunmen', 'wearing', 'Iraqi', 'army', 'uniforms', '.']\n",
      "['NUM', 'NUM', 'NOUN', 'ADP', 'DET', 'PROPN', 'NOUN', 'ADP', 'DET', 'PROPN', 'VERB', 'ADP', 'PROPN', 'ADP', 'PROPN', 'PUNCT', 'VERB', 'DET', 'NOUN', 'ADP', 'PRON', 'NOUN', 'NOUN', 'PUNCT', 'PROPN', 'PROPN', 'PROPN', 'CONJ', 'NUM', 'ADP', 'PRON', 'NOUN', 'PUNCT', 'ADP', 'NOUN', 'VERB', 'ADJ', 'NOUN', 'NOUN', 'PUNCT']\n",
      "['(', 'This', 'is', 'a', 'largely', 'Sunni', 'Arab', 'clan', ',', 'and', 'some', 'Sunni', 'observers', 'have', 'accused', 'Shiite', 'elements', 'in', 'the', 'government', 'of', 'being', 'behind', 'the', 'assassination', ';', 'it', 'is', 'more', 'likely', 'the', 'work', 'of', 'Sunni', 'Arab', 'guerrillas', 'punishing', 'the', 'Batawi', 'leaders', 'for', 'cooperating', 'with', 'the', 'Dec.', '15', 'elections', '.', ')']\n",
      "['PUNCT', 'PRON', 'VERB', 'DET', 'ADV', 'ADJ', 'ADJ', 'NOUN', 'PUNCT', 'CONJ', 'DET', 'ADJ', 'NOUN', 'AUX', 'VERB', 'ADJ', 'NOUN', 'ADP', 'DET', 'NOUN', 'SCONJ', 'VERB', 'ADP', 'DET', 'NOUN', 'PUNCT', 'PRON', 'VERB', 'ADV', 'ADV', 'DET', 'NOUN', 'ADP', 'ADJ', 'ADJ', 'NOUN', 'VERB', 'DET', 'PROPN', 'NOUN', 'SCONJ', 'VERB', 'ADP', 'DET', 'PROPN', 'NUM', 'NOUN', 'PUNCT', 'PUNCT']\n",
      "['Al', '-', 'Zaman', ':', 'The', 'Iraqi', 'High', 'Electoral', 'Commission', 'on', 'Friday', 'denied', 'a', 'request', 'of', 'the', 'Debaathification', 'Commission', 'to', 'exclude', '51', 'individuals', 'from', 'running', 'on', 'party', 'lists', 'in', 'the', 'Dec.', '15', 'elections', 'on', 'grounds', 'of', 'having', 'been', 'sufficiently', 'involved', 'in', 'Baath', 'activities', 'to', 'warrant', 'their', 'being', 'excluded', 'from', 'civil', 'office', '.']\n",
      "['PROPN', 'PUNCT', 'PROPN', 'PUNCT', 'DET', 'ADJ', 'PROPN', 'PROPN', 'PROPN', 'ADP', 'PROPN', 'VERB', 'DET', 'NOUN', 'ADP', 'DET', 'PROPN', 'PROPN', 'PART', 'VERB', 'NUM', 'NOUN', 'SCONJ', 'VERB', 'ADP', 'NOUN', 'NOUN', 'ADP', 'DET', 'PROPN', 'NUM', 'NOUN', 'ADP', 'NOUN', 'SCONJ', 'AUX', 'VERB', 'ADV', 'ADJ', 'ADP', 'PROPN', 'NOUN', 'PART', 'VERB', 'PRON', 'AUX', 'VERB', 'ADP', 'ADJ', 'NOUN', 'PUNCT']\n",
      "['The', 'Commission', 'said', 'it', 'had', 'no', 'legal', 'grounds', 'for', 'such', 'an', 'exclusion', '.']\n",
      "['DET', 'NOUN', 'VERB', 'PRON', 'VERB', 'DET', 'ADJ', 'NOUN', 'ADP', 'DET', 'DET', 'NOUN', 'PUNCT']\n",
      "['This', 'item', 'is', 'a', 'small', 'one', 'and', 'easily', 'missed', '.']\n",
      "['DET', 'NOUN', 'VERB', 'DET', 'ADJ', 'NOUN', 'CONJ', 'ADV', 'VERB', 'PUNCT']\n",
      "['But', 'in', 'my', 'view', 'it', 'is', 'highly', 'significant', '.']\n",
      "['CONJ', 'ADP', 'PRON', 'NOUN', 'PRON', 'VERB', 'ADV', 'ADJ', 'PUNCT']\n",
      "['The', 'Debaathification', 'Commission', 'had', 'been', 'pushed', 'by', 'Ahmad', 'Chalabi', 'and', 'his', 'Iraqi', 'National', 'Congress', 'very', 'hard', ',', 'and', 'had', 'pushed', 'many', 'Sunni', 'Arabs', 'into', 'the', 'arms', 'of', 'the', 'guerrillas', '.']\n",
      "['DET', 'PROPN', 'PROPN', 'AUX', 'AUX', 'VERB', 'ADP', 'PROPN', 'PROPN', 'CONJ', 'PRON', 'PROPN', 'PROPN', 'PROPN', 'ADV', 'ADV', 'PUNCT', 'CONJ', 'AUX', 'VERB', 'ADJ', 'ADJ', 'PROPN', 'ADP', 'DET', 'NOUN', 'ADP', 'DET', 'NOUN', 'PUNCT']\n",
      "['Chalabi', 'has', 'been', 'increasingly', 'marginalized', 'within', 'Iraq', ',', 'however', ',', 'despite', 'his', 'ties', 'of', 'clientelage', 'with', 'Washington', 'and', 'Tehran', '.']\n",
      "['PROPN', 'AUX', 'AUX', 'ADV', 'VERB', 'ADP', 'PROPN', 'PUNCT', 'ADV', 'PUNCT', 'ADP', 'PRON', 'NOUN', 'ADP', 'NOUN', 'ADP', 'PROPN', 'CONJ', 'PROPN', 'PUNCT']\n",
      "['He', 'is', 'no', 'longer', 'in', 'the', 'dominant', 'Shiite', 'list', ',', 'the', 'United', 'Iraqi', 'Alliance', ',', 'and', 'wo', \"n't\", 'have', 'many', 'seats', 'in', 'the', 'new', 'parliament', '.']\n",
      "['PRON', 'VERB', 'ADV', 'ADV', 'ADP', 'DET', 'ADJ', 'ADJ', 'NOUN', 'PUNCT', 'DET', 'PROPN', 'PROPN', 'PROPN', 'PUNCT', 'CONJ', 'AUX', 'PART', 'VERB', 'ADJ', 'NOUN', 'ADP', 'DET', 'ADJ', 'NOUN', 'PUNCT']\n",
      "['Some', '2,000', 'junior', 'officers', 'of', 'the', 'old', 'Baath', 'army', 'have', 'been', 'recalled', 'to', 'duty', 'in', 'recent', 'months', ',', 'something', 'Chalabi', 'would', 'have', 'blocked', 'if', 'he', 'could', 'have', '.']\n",
      "['DET', 'NUM', 'ADJ', 'NOUN', 'ADP', 'DET', 'ADJ', 'PROPN', 'NOUN', 'AUX', 'AUX', 'VERB', 'ADP', 'NOUN', 'ADP', 'ADJ', 'NOUN', 'PUNCT', 'PRON', 'PROPN', 'AUX', 'AUX', 'VERB', 'SCONJ', 'PRON', 'AUX', 'VERB', 'PUNCT']\n",
      "['Now', 'the', 'Electoral', 'Commission', 'is', 'refusing', 'to', 'punish', 'people', 'for', 'mere', 'past', 'Baath', 'Party', 'membership', '.']\n",
      "['ADV', 'DET', 'PROPN', 'PROPN', 'AUX', 'VERB', 'PART', 'VERB', 'NOUN', 'ADP', 'ADJ', 'ADJ', 'PROPN', 'PROPN', 'NOUN', 'PUNCT']\n",
      "['The', 'situation', 'in', 'Iraq', 'is', 'only', 'going', 'to', 'get', 'better', 'this', 'way', '.']\n",
      "['DET', 'NOUN', 'ADP', 'PROPN', 'AUX', 'ADV', 'VERB', 'PART', 'VERB', 'ADJ', 'DET', 'NOUN', 'PUNCT']\n",
      "['If', 'someone', 'committed', 'a', 'crime', 'against', 'humanity', ',', 'prosecute', 'the', 'person', '.']\n",
      "['SCONJ', 'PRON', 'VERB', 'DET', 'NOUN', 'ADP', 'NOUN', 'PUNCT', 'VERB', 'DET', 'NOUN', 'PUNCT']\n",
      "['If', 'he', 'or', 'she', 'did', 'not', ',', 'then', 'they', 'should', 'have', 'all', 'the', 'same', 'rights', 'as', 'other', 'Iraqis', '.']\n",
      "['SCONJ', 'PRON', 'CONJ', 'PRON', 'VERB', 'PART', 'PUNCT', 'ADV', 'PRON', 'AUX', 'VERB', 'DET', 'DET', 'ADJ', 'NOUN', 'ADP', 'ADJ', 'PROPN', 'PUNCT']\n",
      "['Al', '-', 'Sharq', 'al', '-', 'Awsat', 'reports', 'that', 'a', 'key', 'eyewitness', 'in', 'the', 'trial', 'of', 'Saddam', 'Hussein', 'for', 'a', '1982', 'massacre', 'at', 'Dujail', 'has', 'died', '.']\n",
      "['PROPN', 'PUNCT', 'PROPN', 'PROPN', 'PUNCT', 'PROPN', 'VERB', 'SCONJ', 'DET', 'ADJ', 'NOUN', 'ADP', 'DET', 'NOUN', 'ADP', 'PROPN', 'PROPN', 'ADP', 'DET', 'NUM', 'NOUN', 'ADP', 'PROPN', 'AUX', 'VERB', 'PUNCT']\n",
      "['A', 'team', 'from', 'the', 'court', 'managed', 'to', 'take', 'his', 'deposition', 'before', 'he', 'died', '.']\n",
      "['DET', 'NOUN', 'ADP', 'DET', 'NOUN', 'VERB', 'PART', 'VERB', 'PRON', 'NOUN', 'SCONJ', 'PRON', 'VERB', 'PUNCT']\n",
      "['The', 'trial', 'begins', 'again', 'Nov.', '28', '.']\n",
      "['DET', 'NOUN', 'VERB', 'ADV', 'PROPN', 'NUM', 'PUNCT']\n",
      "['In', 'Baghdad', 'the', 'fighting', 'still', 'continues', 'in', 'several', 'areas', ',', 'mostly', 'in', 'Sadr', 'city', 'and', 'Adhamiya', '.']\n",
      "['ADP', 'PROPN', 'DET', 'NOUN', 'ADV', 'VERB', 'ADP', 'ADJ', 'NOUN', 'PUNCT', 'ADV', 'ADP', 'PROPN', 'NOUN', 'CONJ', 'PROPN', 'PUNCT']\n",
      "['Baghdadis', 'do', \"n't\", 'venture', 'much', 'out', 'of', 'their', 'neighbourhoods', 'any', 'more', ',', 'you', 'never', 'know', 'where', 'you', 'might', 'get', 'stuck', '.']\n",
      "['PROPN', 'AUX', 'PART', 'VERB', 'ADV', 'ADP', 'ADP', 'PRON', 'NOUN', 'ADV', 'ADV', 'PUNCT', 'PRON', 'ADV', 'VERB', 'ADV', 'PRON', 'AUX', 'VERB', 'ADJ', 'PUNCT']\n",
      "['There', 'has', 'been', 'talk', 'that', 'the', 'night', 'curfew', 'might', 'be', 'implemented', 'again', '.']\n",
      "['PRON', 'AUX', 'VERB', 'NOUN', 'SCONJ', 'DET', 'NOUN', 'NOUN', 'AUX', 'AUX', 'VERB', 'ADV', 'PUNCT']\n",
      "['My', 'neighbourhood', 'has', 'been', 'surrounded', 'by', 'American', 'troops', 'for', 'three', 'days', 'now', ',', 'helicopters', 'have', 'been', 'circling', 'over', 'our', 'heads', 'non-stop', '.']\n",
      "['PRON', 'NOUN', 'AUX', 'AUX', 'VERB', 'ADP', 'ADJ', 'NOUN', 'ADP', 'NUM', 'NOUN', 'ADV', 'PUNCT', 'NOUN', 'AUX', 'AUX', 'VERB', 'ADP', 'PRON', 'NOUN', 'ADV', 'PUNCT']\n",
      "['Fedayeen', 'are', 'now', 'visible', 'on', 'the', 'street', 'and', 'they', 'have', 'become', 'bolder', 'than', 'ever', '.']\n",
      "['NOUN', 'VERB', 'ADV', 'ADJ', 'ADP', 'DET', 'NOUN', 'CONJ', 'PRON', 'AUX', 'VERB', 'ADJ', 'ADP', 'ADV', 'PUNCT']\n",
      "['Yesterday', 'there', 'were', 'tens', 'of', 'them', 'putting', 'road', 'blocks', 'on', 'our', 'street', 'and', 'setting', 'up', 'mortars', ',', 'they', 'only', 'come', 'out', 'in', 'the', 'open', 'when', 'Americans', 'leave', 'the', 'area', ',', 'then', 'they', 'start', 'firing', 'mortars', 'indiscriminately', 'and', 'shooting', 'their', 'AK', '-', \"47's\", 'in', 'the', 'air', '.']\n",
      "['NOUN', 'PRON', 'VERB', 'NOUN', 'ADP', 'PRON', 'VERB', 'NOUN', 'NOUN', 'ADP', 'PRON', 'NOUN', 'CONJ', 'VERB', 'ADP', 'NOUN', 'PUNCT', 'PRON', 'ADV', 'VERB', 'ADV', 'ADP', 'DET', 'ADJ', 'ADV', 'PROPN', 'VERB', 'DET', 'NOUN', 'PUNCT', 'ADV', 'PRON', 'VERB', 'VERB', 'NOUN', 'ADV', 'CONJ', 'VERB', 'PRON', 'NOUN', 'PUNCT', 'NOUN', 'ADP', 'DET', 'NOUN', 'PUNCT']\n",
      "['They', 'are', 'setting', 'the', 'road', 'blocks', 'at', 'the', 'exact', 'same', 'positions', 'they', 'were', 'during', 'the', 'war', 'last', 'year', ',', 'which', 'indicates', 'they', 'are', 'the', 'same', 'people', '.']\n",
      "['PRON', 'AUX', 'VERB', 'DET', 'NOUN', 'NOUN', 'ADP', 'DET', 'ADV', 'ADJ', 'NOUN', 'PRON', 'VERB', 'ADP', 'DET', 'NOUN', 'ADJ', 'NOUN', 'PUNCT', 'PRON', 'VERB', 'PRON', 'VERB', 'DET', 'ADJ', 'NOUN', 'PUNCT']\n",
      "['And', 'there', 'is', 'nothing', 'we', 'can', 'do', 'about', 'it', 'really', ',', 'people', 'who', 'are', 'suggesting', 'that', 'we', 'go', 'out', 'and', 'fight', 'them', 'are', 'living', 'in', 'dream', 'land', '.']\n",
      "['CONJ', 'PRON', 'VERB', 'PRON', 'PRON', 'AUX', 'VERB', 'ADP', 'PRON', 'ADV', 'PUNCT', 'NOUN', 'PRON', 'AUX', 'VERB', 'SCONJ', 'PRON', 'VERB', 'ADV', 'CONJ', 'VERB', 'PRON', 'AUX', 'VERB', 'ADP', 'NOUN', 'NOUN', 'PUNCT']\n",
      "['Even', 'the', 'IP', 'and', 'ICDC', 'have', 'abandoned', 'the', 'neighbourhood', ',', 'and', 'those', 'are', 'trained', 'and', 'armed', ',', 'so', 'do', \"n't\", 'expect', 'scared', 'civilians', 'to', 'do', 'anything', 'except', 'to', 'hide', 'inside', 'and', 'pray', 'a', 'helicopter', 'or', 'a', 'tank', 'does', \"n't\", 'bomb', 'them', ',', 'and', 'also', 'how', 'are', 'American', 'soldiers', 'going', 'to', 'distinguish', 'the', 'brave', 'and', 'valiant', 'civilians', 'from', 'the', 'Fedayeen', '?']\n",
      "['ADV', 'DET', 'PROPN', 'CONJ', 'PROPN', 'AUX', 'VERB', 'DET', 'NOUN', 'PUNCT', 'CONJ', 'PRON', 'VERB', 'ADJ', 'CONJ', 'ADJ', 'PUNCT', 'ADV', 'AUX', 'PART', 'VERB', 'ADJ', 'NOUN', 'PART', 'VERB', 'PRON', 'SCONJ', 'PART', 'VERB', 'ADV', 'CONJ', 'VERB', 'DET', 'NOUN', 'CONJ', 'DET', 'NOUN', 'AUX', 'PART', 'VERB', 'PRON', 'PUNCT', 'CONJ', 'ADV', 'ADV', 'AUX', 'ADJ', 'NOUN', 'VERB', 'PART', 'VERB', 'DET', 'ADJ', 'CONJ', 'ADJ', 'NOUN', 'ADP', 'DET', 'NOUN', 'PUNCT']\n",
      "['Everyone', 'is', 'apprehensive', ',', 'there', 'is', 'some', 'talk', 'that', 'April', '9th', 'and', '10th', 'are', 'going', 'to', 'be', 'bloody', 'days', '.']\n",
      "['PRON', 'VERB', 'ADJ', 'PUNCT', 'PRON', 'VERB', 'DET', 'NOUN', 'SCONJ', 'PROPN', 'NOUN', 'CONJ', 'NOUN', 'AUX', 'VERB', 'PART', 'VERB', 'ADJ', 'NOUN', 'PUNCT']\n",
      "['Most', 'people', 'have', \"n't\", 'gone', 'to', 'work', 'the', 'last', 'few', 'days', ',', 'although', 'it', 'seems', 'that', 'the', 'rest', 'of', 'Baghdad', 'is', \"'\", 'normal', \"'\", '(', 'if', 'you', 'can', 'define', 'what', 'normal', 'is', ')', '.']\n",
      "['ADJ', 'NOUN', 'AUX', 'PART', 'VERB', 'ADP', 'NOUN', 'DET', 'ADJ', 'ADJ', 'NOUN', 'PUNCT', 'SCONJ', 'PRON', 'VERB', 'SCONJ', 'DET', 'NOUN', 'ADP', 'PROPN', 'VERB', 'PUNCT', 'ADJ', 'PUNCT', 'PUNCT', 'SCONJ', 'PRON', 'AUX', 'VERB', 'PRON', 'NOUN', 'VERB', 'PUNCT', 'PUNCT']\n",
      "['There', 'are', 'rumours', 'about', 'preparations', 'by', 'slum', 'dwellers', 'for', 'another', 'looting', 'spree', 'against', 'banks', ',', 'governmental', 'and', 'public', 'property', 'similar', 'to', 'the', 'one', 'that', 'took', 'place', 'last', 'April', ',', 'and', 'I', 'have', 'already', 'overheard', 'youngsters', 'in', 'my', 'neighbourhood', 'joking', 'about', 'it', 'and', 'saying', 'things', 'like', '\"', 'This', 'time', 'we', 'will', 'be', 'the', 'first', 'to', 'loot', ',', 'we', 'did', \"n't\", 'get', 'anything', 'the', 'last', 'time', '\"', '.']\n",
      "['PRON', 'VERB', 'NOUN', 'ADP', 'NOUN', 'ADP', 'NOUN', 'NOUN', 'ADP', 'DET', 'NOUN', 'NOUN', 'ADP', 'NOUN', 'PUNCT', 'ADJ', 'CONJ', 'ADJ', 'NOUN', 'ADJ', 'ADP', 'DET', 'NOUN', 'PRON', 'VERB', 'NOUN', 'ADJ', 'PROPN', 'PUNCT', 'CONJ', 'PRON', 'AUX', 'ADV', 'VERB', 'NOUN', 'ADP', 'PRON', 'NOUN', 'VERB', 'ADP', 'PRON', 'CONJ', 'VERB', 'NOUN', 'SCONJ', 'PUNCT', 'DET', 'NOUN', 'PRON', 'AUX', 'VERB', 'DET', 'ADJ', 'PART', 'VERB', 'PUNCT', 'PRON', 'AUX', 'PART', 'VERB', 'PRON', 'DET', 'ADJ', 'NOUN', 'PUNCT', 'PUNCT']\n",
      "['Mosques', 'are', 'calling', 'for', 'donating', 'blood', ',', 'food', ',', 'and', 'medicine', 'for', 'Fallujah', ',', 'and', 'several', 'convoys', 'have', 'already', 'headed', 'out', 'for', 'Fallujah', ',', 'most', 'of', 'them', 'returned', 'later', 'though', '.']\n",
      "['NOUN', 'AUX', 'VERB', 'SCONJ', 'VERB', 'NOUN', 'PUNCT', 'NOUN', 'PUNCT', 'CONJ', 'NOUN', 'ADP', 'PROPN', 'PUNCT', 'CONJ', 'ADJ', 'NOUN', 'AUX', 'ADV', 'VERB', 'ADV', 'ADP', 'PROPN', 'PUNCT', 'ADJ', 'ADP', 'PRON', 'VERB', 'ADV', 'ADV', 'PUNCT']\n",
      "['What', 'irritates', 'me', 'is', 'this', 'sudden', 'false', \"'\", 'solidarity', \"'\", 'between', 'Sunni', 'and', \"Shi'ite\", 'clerics', ',', 'we', 'all', 'know', 'that', 'they', 'would', 'be', 'glad', 'to', 'get', 'at', 'each', 'other', 's', 'throats', 'when', 'they', 'have', 'the', 'chance', ',', 'and', 'Shia', 'clerics', 'were', 'describing', 'Fallujan', 'insurgents', 'as', \"'\", \"Ba'athists\", \"'\", ',', \"'\", 'Saddamites', \"'\", ',', \"'\", 'Wahhabis', \"'\", ',', 'and', \"'\", 'terrorists', \"'\", 'just', 'a', 'few', 'days', 'ago', '.']\n",
      "['PRON', 'VERB', 'PRON', 'VERB', 'DET', 'ADJ', 'ADJ', 'PUNCT', 'NOUN', 'PUNCT', 'ADP', 'ADJ', 'CONJ', 'ADJ', 'NOUN', 'PUNCT', 'PRON', 'DET', 'VERB', 'SCONJ', 'PRON', 'AUX', 'VERB', 'ADJ', 'PART', 'VERB', 'ADP', 'DET', 'ADJ', 'PART', 'NOUN', 'ADV', 'PRON', 'VERB', 'DET', 'NOUN', 'PUNCT', 'CONJ', 'ADJ', 'NOUN', 'AUX', 'VERB', 'ADJ', 'NOUN', 'ADP', 'PUNCT', 'PROPN', 'PUNCT', 'PUNCT', 'PUNCT', 'PROPN', 'PUNCT', 'PUNCT', 'PUNCT', 'PROPN', 'PUNCT', 'PUNCT', 'CONJ', 'PUNCT', 'NOUN', 'PUNCT', 'ADV', 'DET', 'ADJ', 'NOUN', 'ADV', 'PUNCT']\n",
      "['So', 'what', 'happened', '?']\n",
      "['ADV', 'PRON', 'VERB', 'PUNCT']\n",
      "['I', 'guess', 'it', \"'s\", 'just', 'the', 'old', 'new', 'Arab', \"'\", 'Me', 'against', 'my', 'brother', ',', 'me', 'and', 'my', 'brother', 'against', 'my', 'cousin', ',', 'me', 'and', 'my', 'cousin', 'against', 'my', 'enemy', \"'\", ',', 'or', \"'\", 'The', 'enemy', 'of', 'my', 'enemy', 'is', 'my', 'friend', \"'\", 'thing', 'going', 'on', 'again', '.']\n",
      "['PRON', 'VERB', 'PRON', 'VERB', 'ADV', 'DET', 'ADJ', 'ADJ', 'ADJ', 'PUNCT', 'PRON', 'ADP', 'PRON', 'NOUN', 'PUNCT', 'PRON', 'CONJ', 'PRON', 'NOUN', 'ADP', 'PRON', 'NOUN', 'PUNCT', 'PRON', 'CONJ', 'PRON', 'NOUN', 'ADP', 'PRON', 'NOUN', 'PUNCT', 'PUNCT', 'CONJ', 'PUNCT', 'DET', 'NOUN', 'ADP', 'PRON', 'NOUN', 'VERB', 'PRON', 'NOUN', 'PUNCT', 'NOUN', 'VERB', 'ADP', 'ADV', 'PUNCT']\n",
      "['Speaking', 'of', 'Fallujah', ',', 'we', 'have', 'only', 'Al', '-', 'Jazeera', 'to', 'rely', 'on', 'for', 'our', 'news', 'from', 'there', '.']\n",
      "['VERB', 'ADP', 'PROPN', 'PUNCT', 'PRON', 'VERB', 'ADV', 'PROPN', 'PUNCT', 'PROPN', 'PART', 'VERB', 'ADP', 'ADP', 'PRON', 'NOUN', 'ADP', 'ADV', 'PUNCT']\n",
      "['They', 'have', 'sent', 'over', 'their', 'top', 'reporter', 'Ahmed', 'Mansour', 'to', 'the', 'town', ',', 'and', 'he', 'is', 'spouting', 'all', 'kinds', 'of', 'propaganda', 'hourly', 'reminding', 'me', 'of', 'Al', '-', 'Sahhaf', '.']\n",
      "['PRON', 'AUX', 'VERB', 'ADV', 'PRON', 'ADJ', 'NOUN', 'PROPN', 'PROPN', 'ADP', 'DET', 'NOUN', 'PUNCT', 'CONJ', 'PRON', 'AUX', 'VERB', 'DET', 'NOUN', 'ADP', 'NOUN', 'ADV', 'VERB', 'PRON', 'ADP', 'PROPN', 'PUNCT', 'PROPN', 'PUNCT']\n",
      "['\"', 'They', 'are', 'targetting', 'ambulances', '\"', ',', '\"', 'American', 'snipers', 'are', 'shooting', 'children', 'and', 'pregnant', 'women', '\"', ',', 'and', '\"', 'They', 'are', 'using', 'cluster', 'bombs', 'against', 'civilians', '\"', 'is', 'all', 'you', 'get', 'to', 'hear', 'from', 'him', '.']\n",
      "['PUNCT', 'PRON', 'AUX', 'VERB', 'NOUN', 'PUNCT', 'PUNCT', 'PUNCT', 'ADJ', 'NOUN', 'AUX', 'VERB', 'NOUN', 'CONJ', 'ADJ', 'NOUN', 'PUNCT', 'PUNCT', 'CONJ', 'PUNCT', 'PRON', 'AUX', 'VERB', 'NOUN', 'NOUN', 'ADP', 'NOUN', 'PUNCT', 'VERB', 'DET', 'PRON', 'VERB', 'PART', 'VERB', 'ADP', 'PRON', 'PUNCT']\n",
      "['He', 'did', 'once', 'make', 'an', 'unforgivable', 'error', 'when', 'he', 'mentioned', 'that', 'Fallujan', 'militants', 'were', 'shooting', 'at', 'the', 'Marines', 'from', 'the', 'roofs', 'of', 'mosques', 'and', 'houses', 'in', 'Hay', 'Al', '-', 'Golan', ',', 'but', 'of', 'course', 'that', 'is', 'okay', 'for', 'Al', '-', 'Jazeera', '.']\n",
      "['PRON', 'AUX', 'ADV', 'VERB', 'DET', 'ADJ', 'NOUN', 'ADV', 'PRON', 'VERB', 'SCONJ', 'ADJ', 'NOUN', 'AUX', 'VERB', 'ADP', 'DET', 'PROPN', 'ADP', 'DET', 'NOUN', 'ADP', 'NOUN', 'CONJ', 'NOUN', 'ADP', 'PROPN', 'PROPN', 'PUNCT', 'PROPN', 'PUNCT', 'CONJ', 'ADV', 'ADV', 'PRON', 'VERB', 'ADJ', 'ADP', 'PROPN', 'PUNCT', 'PROPN', 'PUNCT']\n",
      "['Someone', 'who', 'called', 'himself', 'Abu', 'Hafs', 'from', 'the', 'Ibn', 'Al', '-', 'Khattab', 'Brigades', '(', 'another', 'new', 'group', ')', 'was', 'on', 'Al', '-', 'Jazeera', 'describing', 'the', 'enormous', 'casualties', 'among', 'the', 'Marines', 'and', 'he', 'sweared', 'that', 'American', 'soldiers', 'were', 'mutilating', 'the', 'bodies', 'of', 'dead', 'insurgents', '.']\n",
      "['PRON', 'PRON', 'VERB', 'PRON', 'PROPN', 'PROPN', 'ADP', 'DET', 'PROPN', 'PROPN', 'PUNCT', 'PROPN', 'PROPN', 'PUNCT', 'DET', 'ADJ', 'NOUN', 'PUNCT', 'VERB', 'ADP', 'PROPN', 'PUNCT', 'PROPN', 'VERB', 'DET', 'ADJ', 'NOUN', 'ADP', 'DET', 'PROPN', 'CONJ', 'PRON', 'VERB', 'SCONJ', 'ADJ', 'NOUN', 'AUX', 'VERB', 'DET', 'NOUN', 'ADP', 'ADJ', 'NOUN', 'PUNCT']\n",
      "['Over', '300', 'Iraqis', 'are', 'reported', 'dead', 'and', '500', 'wounded', 'in', 'Fallujah', 'alone', '.']\n",
      "['ADV', 'NUM', 'PROPN', 'AUX', 'VERB', 'ADJ', 'CONJ', 'NUM', 'ADJ', 'ADP', 'PROPN', 'ADV', 'PUNCT']\n",
      "['Al', '-', 'Iraqiyah', 'tv', 'said', 'that', 'ICDC', 'were', 'controlling', 'Ramadi', '.']\n",
      "['PROPN', 'PUNCT', 'PROPN', 'PROPN', 'VERB', 'SCONJ', 'PROPN', 'AUX', 'VERB', 'PROPN', 'PUNCT']\n",
      "['Azzaman', 'newspaper', 'mentioned', 'an', 'announcement', 'signed', 'by', 'Abdul', 'Aziz', 'bin', 'Muqrin', ',', 'an', 'Al', '-', 'Qaeda', 'operative', 'in', 'Saudi', 'Arabia', 'on', 'an', 'Islamic', 'website', \"'\", 'the', 'voice', 'of', 'Jihad', \"'\", ',', 'in', 'which', 'he', 'stated', 'that', '\"', 'although', 'mutilating', 'dead', 'bodies', 'is', 'not', 'originally', 'permitted', 'in', 'Islam', ',', 'but', 'in', 'this', 'case', 'it', 'is', 'allowed', 'if', 'Muslims', 'use', 'it', 'against', 'infidels', 'to', 'deter', 'them', 'from', 'committing', 'criminal', 'actions', '\"', '.']\n",
      "['PROPN', 'NOUN', 'VERB', 'DET', 'NOUN', 'VERB', 'ADP', 'PROPN', 'PROPN', 'PROPN', 'PROPN', 'PUNCT', 'DET', 'PROPN', 'PUNCT', 'PROPN', 'NOUN', 'ADP', 'PROPN', 'PROPN', 'ADP', 'DET', 'ADJ', 'NOUN', 'PUNCT', 'DET', 'PROPN', 'ADP', 'PROPN', 'PUNCT', 'PUNCT', 'ADP', 'PRON', 'PRON', 'VERB', 'SCONJ', 'PUNCT', 'SCONJ', 'VERB', 'ADJ', 'NOUN', 'AUX', 'PART', 'ADV', 'VERB', 'ADP', 'PROPN', 'PUNCT', 'CONJ', 'ADP', 'DET', 'NOUN', 'PRON', 'AUX', 'VERB', 'SCONJ', 'PROPN', 'VERB', 'PRON', 'ADP', 'NOUN', 'PART', 'VERB', 'PRON', 'SCONJ', 'VERB', 'ADJ', 'NOUN', 'PUNCT', 'PUNCT']\n",
      "['He', 'added', 'that', '\"', 'America', 'does', 'not', 'understand', 'anything', 'except', 'the', 'language', 'of', 'force', 'and', 'retaliation', ',', 'they', 'were', 'kicked', 'out', 'of', 'Somalia', 'in', 'humiliation', 'after', 'that', 'soldier', 'was', 'dragged', 'in', 'Mogadishu', 'for', 'the', 'whole', 'world', 'to', 'see', '\"', ',', 'and', 'that', '\"', 'the', 'day', 'will', 'come', 'when', 'the', 'dead', 'bodies', 'of', 'Americans', 'and', 'Jews', 'would', 'be', 'dragged', ',', 'defiled', ',', 'and', 'stepped', 'on', 'in', 'the', 'Arabian', 'peninsula', 'together', 'with', 'their', 'agents', 'and', 'supporters', '\"', '.']\n",
      "['PRON', 'VERB', 'SCONJ', 'PUNCT', 'PROPN', 'AUX', 'PART', 'VERB', 'PRON', 'ADP', 'DET', 'NOUN', 'ADP', 'NOUN', 'CONJ', 'NOUN', 'PUNCT', 'PRON', 'AUX', 'VERB', 'ADP', 'ADP', 'PROPN', 'ADP', 'NOUN', 'SCONJ', 'DET', 'NOUN', 'AUX', 'VERB', 'ADP', 'PROPN', 'SCONJ', 'DET', 'ADJ', 'NOUN', 'PART', 'VERB', 'PUNCT', 'PUNCT', 'CONJ', 'SCONJ', 'PUNCT', 'DET', 'NOUN', 'AUX', 'VERB', 'ADV', 'DET', 'ADJ', 'NOUN', 'ADP', 'PROPN', 'CONJ', 'PROPN', 'AUX', 'AUX', 'VERB', 'PUNCT', 'VERB', 'PUNCT', 'CONJ', 'VERB', 'ADP', 'ADP', 'DET', 'PROPN', 'PROPN', 'ADV', 'ADP', 'PRON', 'NOUN', 'CONJ', 'NOUN', 'PUNCT', 'PUNCT']\n",
      "['Elena', \"'s\", 'motorcycle', 'tour', 'through', 'the', 'region', 'around', 'Chernobyl', 'has', 'revived', 'interest', 'in', 'one', 'of', 'the', 'most', 'serious', 'nuclear', 'disasters', 'in', 'history', '.']\n",
      "['PROPN', 'PART', 'NOUN', 'NOUN', 'ADP', 'DET', 'NOUN', 'ADP', 'PROPN', 'AUX', 'VERB', 'NOUN', 'ADP', 'NUM', 'ADP', 'DET', 'ADV', 'ADJ', 'ADJ', 'NOUN', 'ADP', 'NOUN', 'PUNCT']\n",
      "['We', 'all', 'know', 'what', 'happened', ',', 'but', 'even', 'to', 'this', 'day', ',', 'there', 'are', 'many', 'different', 'versions', 'and', 'opinions', 'on', 'how', 'it', 'happened', 'and', 'what', 'effect', 'Chernobyl', 'will', 'have', 'on', 'the', 'health', 'of', 'people', 'affected', 'by', 'the', 'fallout', '.']\n",
      "['PRON', 'DET', 'VERB', 'PRON', 'VERB', 'PUNCT', 'CONJ', 'ADV', 'ADP', 'DET', 'NOUN', 'PUNCT', 'PRON', 'VERB', 'ADJ', 'ADJ', 'NOUN', 'CONJ', 'NOUN', 'ADP', 'ADV', 'PRON', 'VERB', 'CONJ', 'DET', 'NOUN', 'PROPN', 'AUX', 'VERB', 'ADP', 'DET', 'NOUN', 'ADP', 'NOUN', 'VERB', 'ADP', 'DET', 'NOUN', 'PUNCT']\n",
      "['UPDATE', ':']\n",
      "['NOUN', 'PUNCT']\n",
      "['Now', 'you', 'can', 'tour', 'Chernobyl', 'and', 'write', 'your', 'own', 'story', '.']\n",
      "['ADV', 'PRON', 'AUX', 'VERB', 'PROPN', 'CONJ', 'VERB', 'PRON', 'ADJ', 'NOUN', 'PUNCT']\n",
      "['This', 'is', 'not', 'a', 'post', 'about', 'fault', '-', 'finding', 'or', 'assigning', 'blame', '.']\n",
      "['PRON', 'VERB', 'PART', 'DET', 'NOUN', 'ADP', 'NOUN', 'PUNCT', 'NOUN', 'CONJ', 'VERB', 'NOUN', 'PUNCT']\n",
      "['It', 'is', 'a', 'time', 'to', 'learn', 'what', 'happened', 'and', 'how', 'it', 'may', 'affect', 'the', 'future', '.']\n",
      "['PRON', 'VERB', 'DET', 'NOUN', 'PART', 'VERB', 'PRON', 'VERB', 'CONJ', 'ADV', 'PRON', 'AUX', 'VERB', 'DET', 'NOUN', 'PUNCT']\n",
      "['There', 'was', 'a', 'soothing', 'authoritative', 'UNSCEAR', '(', 'United', 'Nations', 'Scientific', 'Committee', 'on', 'the', 'Effects', 'of', 'Atomic', 'Radiation', ')', 'report', 'in', '2000', 'on', 'the', 'health', 'effects', 'of', 'Chernobyl', 'confirming', 'that', 'there', 'was', 'no', 'scientific', 'evidence', 'of', 'any', 'significant', 'radiation', '-', 'related', 'health', 'effects', 'to', 'most', 'people', 'exposed', '.']\n",
      "['PRON', 'AUX', 'DET', 'ADJ', 'ADJ', 'PROPN', 'PUNCT', 'PROPN', 'PROPN', 'PROPN', 'PROPN', 'ADP', 'DET', 'PROPN', 'ADP', 'PROPN', 'PROPN', 'PUNCT', 'NOUN', 'ADP', 'NUM', 'ADP', 'DET', 'NOUN', 'NOUN', 'ADP', 'PROPN', 'VERB', 'SCONJ', 'PRON', 'VERB', 'DET', 'ADJ', 'NOUN', 'ADP', 'DET', 'ADJ', 'NOUN', 'PUNCT', 'ADJ', 'NOUN', 'NOUN', 'ADP', 'ADJ', 'NOUN', 'VERB', 'PUNCT']\n",
      "['This', 'was', 'heavily', 'promoted', 'by', 'the', 'Australasian', 'Radiation', 'Protection', 'Society', 'in', 'a', 'press', 'release', 'titled', 'THE', 'MYTHS', 'OF', 'CHERNOBYL', 'which', 'contained', 'the', 'following', ':']\n",
      "['PRON', 'AUX', 'ADV', 'VERB', 'ADP', 'DET', 'PROPN', 'PROPN', 'PROPN', 'PROPN', 'ADP', 'DET', 'NOUN', 'NOUN', 'VERB', 'DET', 'PROPN', 'ADP', 'PROPN', 'PRON', 'VERB', 'DET', 'VERB', 'PUNCT']\n",
      "['One', 'of', 'the', 'most', 'widespread', 'myths', 'of', 'recent', 'times', 'is', 'that', 'the', 'Chernobyl', 'nuclear', 'reactor', 'accident', 'in', '1986', 'caused', 'many', 'thousands', 'of', 'extra', 'cancer', 'deaths', 'in', 'neighbouring', 'regions', ',', 'and', 'that', 'public', 'health', 'has', 'been', 'severely', 'affected', 'by', 'exposure', 'to', 'radiation', '.']\n",
      "['NUM', 'ADP', 'DET', 'ADV', 'ADJ', 'NOUN', 'ADP', 'ADJ', 'NOUN', 'VERB', 'SCONJ', 'DET', 'PROPN', 'ADJ', 'NOUN', 'NOUN', 'ADP', 'NUM', 'VERB', 'ADJ', 'NOUN', 'ADP', 'ADJ', 'NOUN', 'NOUN', 'ADP', 'VERB', 'NOUN', 'PUNCT', 'CONJ', 'SCONJ', 'ADJ', 'NOUN', 'AUX', 'AUX', 'ADV', 'VERB', 'ADP', 'NOUN', 'ADP', 'NOUN', 'PUNCT']\n",
      "['Many', 'people', 'still', 'believe', 'that', 'to', 'be', 'true', ',', 'even', 'though', 'the', 'Ministry', 'of', 'Russian', 'Federation', 'on', 'Civil', 'Defence', ',', 'Emergencies', 'and', 'Elimination', 'of', 'Conseguences', 'of', 'Natural', 'Disasters', '(', 'EMERCOM', 'of', 'Russia', ')', 'reported', 'this', 'in', '1996', ':']\n",
      "['ADJ', 'NOUN', 'ADV', 'VERB', 'PRON', 'PART', 'VERB', 'ADJ', 'PUNCT', 'ADV', 'SCONJ', 'DET', 'PROPN', 'ADP', 'PROPN', 'NOUN', 'ADP', 'PROPN', 'PROPN', 'PUNCT', 'PROPN', 'CONJ', 'PROPN', 'ADP', 'PROPN', 'ADP', 'PROPN', 'PROPN', 'PUNCT', 'PROPN', 'ADP', 'PROPN', 'PUNCT', 'VERB', 'PRON', 'ADP', 'NUM', 'PUNCT']\n",
      "['CHERNOBYL', 'ACCIDENT', ':', 'TEN', 'YEARS', 'ON']\n",
      "['PROPN', 'NOUN', 'PUNCT', 'NUM', 'NOUN', 'ADV']\n",
      "['In', 'the', 'last', 'decade', ',', 'there', 'has', 'been', 'a', 'real', 'and', 'significant', 'increase', 'in', 'childhood', 'and', ',', 'to', 'a', 'certain', 'extent', ',', 'adult', 'carcinoma', 'of', 'the', 'thyroid', 'in', 'contaminated', 'regions', 'of', 'the', 'former', 'Soviet', 'Union', '(', 'Wi940', ')', 'which', 'should', 'be', 'attributed', 'to', 'the', 'Chernobyl', 'accident', 'until', 'proven', 'otherwise', '.']\n",
      "['ADP', 'DET', 'ADJ', 'NOUN', 'PUNCT', 'PRON', 'AUX', 'VERB', 'DET', 'ADJ', 'CONJ', 'ADJ', 'NOUN', 'ADP', 'NOUN', 'CONJ', 'PUNCT', 'ADP', 'DET', 'ADJ', 'NOUN', 'PUNCT', 'NOUN', 'NOUN', 'ADP', 'DET', 'NOUN', 'ADP', 'VERB', 'NOUN', 'ADP', 'DET', 'ADJ', 'PROPN', 'PROPN', 'PUNCT', 'PROPN', 'PUNCT', 'PRON', 'AUX', 'AUX', 'VERB', 'ADP', 'DET', 'PROPN', 'NOUN', 'SCONJ', 'VERB', 'ADV', 'PUNCT']\n",
      "['The', 'prestigious', 'IAEA', '(', 'International', 'Atomic', 'Energy', 'Agency', ')', 'published', 'an', 'early', 'report', 'on', 'Chernobyl', 'which', 'was', 'based', 'on', 'information', 'from', 'Russian', 'sources', 'and', 'stated', 'that', 'there', 'was', 'no', 'significant', 'health', 'effects', '.']\n",
      "['DET', 'ADJ', 'PROPN', 'PUNCT', 'PROPN', 'PROPN', 'PROPN', 'PROPN', 'PUNCT', 'VERB', 'DET', 'ADJ', 'NOUN', 'ADP', 'PROPN', 'PRON', 'AUX', 'VERB', 'ADP', 'NOUN', 'ADP', 'ADJ', 'NOUN', 'CONJ', 'VERB', 'SCONJ', 'PRON', 'VERB', 'DET', 'ADJ', 'NOUN', 'NOUN', 'PUNCT']\n",
      "['However', ',', 'in', 'April', '2001', ',', 'the', 'IAEA', 'published', 'Fifteen', 'Years', 'after', 'the', 'Chernobyl', 'Accident', '-', 'Lessons', 'learned', '.', 'which', 'contradict', 'the', 'earlier', 'reports', '.']\n",
      "['ADV', 'PUNCT', 'ADP', 'PROPN', 'NUM', 'PUNCT', 'DET', 'PROPN', 'VERB', 'PROPN', 'PROPN', 'ADP', 'DET', 'PROPN', 'PROPN', 'PUNCT', 'PROPN', 'VERB', 'PUNCT', 'PRON', 'VERB', 'DET', 'ADJ', 'NOUN', 'PUNCT']\n",
      "['Here', 'are', 'some', 'excerpts', ':']\n",
      "['ADV', 'VERB', 'DET', 'NOUN', 'PUNCT']\n",
      "['The', 'dramatic', 'increase', 'in', 'radiation', '-', 'induced', 'thyroid', 'cancers', 'in', 'children', 'and', 'adolescents', 'in', 'Belarus', ',', 'Russia', ',', 'and', 'Ukraine', ',', 'which', 'have', 'been', 'observed', 'since', '1991', ',', 'continues', 'to', 'this', 'day', '.']\n",
      "['DET', 'ADJ', 'NOUN', 'ADP', 'NOUN', 'PUNCT', 'VERB', 'NOUN', 'NOUN', 'ADP', 'NOUN', 'CONJ', 'NOUN', 'ADP', 'PROPN', 'PUNCT', 'PROPN', 'PUNCT', 'CONJ', 'PROPN', 'PUNCT', 'PRON', 'AUX', 'AUX', 'VERB', 'ADP', 'NUM', 'PUNCT', 'VERB', 'ADP', 'DET', 'NOUN', 'PUNCT']\n",
      "['...', 'a', 'drop', 'in', 'the', 'birth', 'rate', ',', 'a', 'deterioration', 'in', 'women', \"'s\", 'reproductive', 'health', ',', 'an', 'increase', 'in', 'complications', 'during', 'pregnancy', 'and', 'birth', ',', 'and', 'a', 'deterioration', 'in', 'neonatal', 'health', '....']\n",
      "['PUNCT', 'DET', 'NOUN', 'ADP', 'DET', 'NOUN', 'NOUN', 'PUNCT', 'DET', 'NOUN', 'ADP', 'NOUN', 'PART', 'ADJ', 'NOUN', 'PUNCT', 'DET', 'NOUN', 'ADP', 'NOUN', 'ADP', 'NOUN', 'CONJ', 'NOUN', 'PUNCT', 'CONJ', 'DET', 'NOUN', 'ADP', 'ADJ', 'NOUN', 'PUNCT']\n",
      "['The', 'dynamics', 'of', 'change', 'in', 'the', 'state', 'of', 'health', 'of', 'children', 'affected', 'by', 'the', 'Chernobyl', 'accident', 'in', 'all', 'three', 'countries', '-', 'Belarus', ',', 'Russia', ',', 'and', 'Ukraine', '-', 'in', 'the', 'post-accident', 'period', 'is', 'characterized', 'by', 'persistent', 'negative', 'tendencies', ':', 'the', 'morbidity', 'rate', 'is', 'going', 'up', ',', 'the', 'number', 'of', 'really', 'healthy', 'children', 'is', 'dropping', ',', 'and', 'disability', 'is', 'increasing', '.']\n",
      "['DET', 'NOUN', 'ADP', 'NOUN', 'ADP', 'DET', 'NOUN', 'ADP', 'NOUN', 'ADP', 'NOUN', 'VERB', 'ADP', 'DET', 'PROPN', 'NOUN', 'ADP', 'DET', 'NUM', 'NOUN', 'PUNCT', 'PROPN', 'PUNCT', 'PROPN', 'PUNCT', 'CONJ', 'PROPN', 'PUNCT', 'ADP', 'DET', 'ADJ', 'NOUN', 'AUX', 'VERB', 'ADP', 'ADJ', 'ADJ', 'NOUN', 'PUNCT', 'DET', 'NOUN', 'NOUN', 'AUX', 'VERB', 'ADV', 'PUNCT', 'DET', 'NOUN', 'ADP', 'ADV', 'ADJ', 'NOUN', 'AUX', 'VERB', 'PUNCT', 'CONJ', 'NOUN', 'AUX', 'VERB', 'PUNCT']\n",
      "['As', 'a', 'parent', ',', 'I', 'can', 'well', 'imagine', 'how', 'painful', 'it', 'must', 'be', 'for', 'those', 'families', 'whose', 'children', 'are', 'succumbing', 'to', 'radiation', 'poisoning', '.']\n",
      "['ADP', 'DET', 'NOUN', 'PUNCT', 'PRON', 'AUX', 'ADV', 'VERB', 'ADV', 'ADJ', 'PRON', 'AUX', 'VERB', 'ADP', 'DET', 'NOUN', 'PRON', 'NOUN', 'AUX', 'VERB', 'ADP', 'NOUN', 'NOUN', 'PUNCT']\n",
      "['There', 'is', 'a', 'lot', 'to', 'learn', 'about', 'Chernobyl', '.']\n",
      "['PRON', 'VERB', 'DET', 'NOUN', 'PART', 'VERB', 'ADP', 'PROPN', 'PUNCT']\n",
      "['Being', 'well', '-', 'informed', 'will', 'give', 'you', 'certainty', 'and', 'that', 'is', 'desirable', 'in', 'a', 'world', 'of', 'conflicting', 'reports', '.']\n",
      "['VERB', 'ADV', 'PUNCT', 'VERB', 'AUX', 'VERB', 'PRON', 'NOUN', 'CONJ', 'PRON', 'VERB', 'ADJ', 'ADP', 'DET', 'NOUN', 'ADP', 'VERB', 'NOUN', 'PUNCT']\n",
      "['There', 'are', 'a', 'wealth', 'of', 'references', 'on', 'Chernobyl', '.']\n",
      "['PRON', 'VERB', 'DET', 'NOUN', 'ADP', 'NOUN', 'ADP', 'PROPN', 'PUNCT']\n",
      "['Read', 'some', 'of', 'the', 'following', 'links', 'and', 'draw', 'your', 'own', 'conclusions', '.']\n",
      "['VERB', 'DET', 'ADP', 'DET', 'VERB', 'NOUN', 'CONJ', 'VERB', 'PRON', 'ADJ', 'NOUN', 'PUNCT']\n",
      "['These', 'links', 'present', 'the', 'many', 'viewpoints', 'that', 'existed', 'and', 'still', 'exist', 'about', 'the', 'disaster', 'called', 'Chernobyl', ':']\n",
      "['DET', 'NOUN', 'VERB', 'DET', 'ADJ', 'NOUN', 'PRON', 'VERB', 'CONJ', 'ADV', 'VERB', 'ADP', 'DET', 'NOUN', 'VERB', 'PROPN', 'PUNCT']\n",
      "['IAEA', 'Report', 'Lessons', 'learned']\n",
      "['PROPN', 'NOUN', 'PROPN', 'VERB']\n",
      "['http://www.ibiblio.org/expo/soviet.exhibit/chernobyl.html']\n",
      "['X']\n",
      "['http://www.ibrae.ac.ru/IBRAE/eng/chernobyl/nat_rep/nat_repe.htm#24']\n",
      "['X']\n",
      "['http://www.nsrl.ttu.edu/chernobyl/wildlifepreserve.htm']\n",
      "['X']\n",
      "['http://www.environmentalchemistry.com/yogi/hazmat/articles/chernobyl1.html']\n",
      "['X']\n",
      "['http://digon_va.tripod.com/Chernobyl.htm']\n",
      "['X']\n",
      "['http://www.oneworld.org/index_oc/issue196/byckau.html']\n",
      "['X']\n",
      "['http://www.collectinghistory.net/chernobyl/']\n",
      "['X']\n",
      "['http://www.ukrainianweb.com/chernobyl_ukraine.htm']\n",
      "['X']\n",
      "['http://www.bullatomsci.org/issues/1993/s93/s93Marples.html']\n",
      "['X']\n",
      "['http://www.calguard.ca.gov/ia/Chernobyl-15%20years.htm']\n",
      "['X']\n",
      "['http://www.infoukes.com/history/chornobyl/gregorovich/index.html']\n",
      "['X']\n",
      "['http://www.un.org/ha/chernobyl/']\n",
      "['X']\n",
      "['http://www.tecsoc.org/pubs/history/2002/apr26.htm']\n",
      "['X']\n",
      "['http://www.chernobyl.org.uk/page2.htm']\n",
      "['X']\n",
      "['http://www.time.com/time/daily/chernobyl/860901.accident.html']\n",
      "['X']\n",
      "['http://www.infoukes.com/history/chornobyl/elg/']\n",
      "['X']\n",
      "['http://www.world-nuclear.org/info/chernobyl/inf07.htm']\n",
      "['X']\n",
      "['http://www.nea.fr/html/rp/chernobyl/conclusions5.html']\n",
      "['X']\n",
      "['http://www.nea.fr/html/rp/chernobyl/c01.html']\n",
      "['X']\n",
      "['http://www.nea.fr/html/rp/chernobyl/c05.html']\n",
      "['X']\n",
      "['http://www.physics.isu.edu/radinf/chern.htm']\n",
      "['X']\n",
      "['http://www.chernobyl.info/en']\n",
      "['X']\n",
      "['http://www.arps.org.au/Chernobyl.htm']\n",
      "['X']\n",
      "['http://www-formal.stanford.edu/jmc/progress/chernobyl.html']\n",
      "['X']\n",
      "['http://www.21stcenturysciencetech.com/articles/chernobyl.html']\n",
      "['X']\n",
      "['I', 'would', 'be', 'interested', 'in', 'hearing', 'what', 'conclusions', 'you', 'reached', 'and', 'what', 'you', 'found', 'that', 'was', 'most', 'convincing', '.']\n",
      "['PRON', 'AUX', 'VERB', 'ADJ', 'SCONJ', 'VERB', 'DET', 'NOUN', 'PRON', 'VERB', 'CONJ', 'PRON', 'PRON', 'VERB', 'PRON', 'VERB', 'ADV', 'ADJ', 'PUNCT']\n",
      "['radiation', ':']\n",
      "['NOUN', 'PUNCT']\n",
      "['As', 'a', 'child', 'in', 'the', \"50's\", 'I', 'had', 'a', 'lot', 'of', 'glandular', 'problems', 'and', 'they', 'treated', 'it', 'with', 'radiation', 'therapy', '(', 'primitive', 'at', 'best', '!', ')', 'and', 'stopped', 'when', 'a', 'lesion', 'on', 'my', 'neck', 'started', 'enlarging', '--', 'they', 'said', 'it', 'was', 'not', 'CA', 'but', 'stopped', 'the', 'treatments', '....']\n",
      "['ADP', 'DET', 'NOUN', 'ADP', 'DET', 'NOUN', 'PRON', 'VERB', 'DET', 'NOUN', 'ADP', 'ADJ', 'NOUN', 'CONJ', 'PRON', 'VERB', 'PRON', 'ADP', 'NOUN', 'NOUN', 'PUNCT', 'ADJ', 'ADP', 'ADJ', 'PUNCT', 'PUNCT', 'CONJ', 'VERB', 'ADV', 'DET', 'NOUN', 'ADP', 'PRON', 'NOUN', 'VERB', 'VERB', 'PUNCT', 'PRON', 'VERB', 'PRON', 'VERB', 'PART', 'NOUN', 'CONJ', 'VERB', 'DET', 'NOUN', 'PUNCT']\n",
      "['Remember', 'the', 'old', 'shoe', 'sizing', 'machines', 'that', 'was', 'a', 'form', 'of', 'radiation', 'xray', '?']\n",
      "['VERB', 'DET', 'ADJ', 'NOUN', 'VERB', 'NOUN', 'PRON', 'VERB', 'DET', 'NOUN', 'ADP', 'NOUN', 'NOUN', 'PUNCT']\n",
      "['That', 'too', 'was', 'stopped', '.']\n",
      "['PRON', 'ADV', 'AUX', 'VERB', 'PUNCT']\n",
      "['Do', \"n't\", 'have', 'to', 'mention', 'what', 'radiation', 'has', 'done', 'and', 'is', 'still', 'doing', 'to', 'Hirsohima', '&', 'Nagaski', 'folks', '--', 'there', 'can', 'be', 'no', 'doubts', 'about', 'the', 'effects', 'of', 'radiation', 'in', 'Chernobyl', '.......']\n",
      "['AUX', 'PART', 'VERB', 'PART', 'VERB', 'PRON', 'NOUN', 'AUX', 'VERB', 'CONJ', 'AUX', 'ADV', 'VERB', 'ADP', 'PROPN', 'CONJ', 'PROPN', 'NOUN', 'PUNCT', 'PRON', 'AUX', 'VERB', 'DET', 'NOUN', 'ADP', 'DET', 'NOUN', 'ADP', 'NOUN', 'ADP', 'PROPN', 'PUNCT']\n",
      "['The', 'Chernobyl', 'Children', \"'s\", 'Project', '(', 'http://www.adiccp.org/home/default.asp', ')', 'offers', 'several', 'ways', 'to', 'help', 'the', 'children', 'of', 'that', 'region', '.']\n",
      "['DET', 'PROPN', 'PROPN', 'PART', 'PROPN', 'PUNCT', 'X', 'PUNCT', 'VERB', 'ADJ', 'NOUN', 'PART', 'VERB', 'DET', 'NOUN', 'ADP', 'DET', 'NOUN', 'PUNCT']\n",
      "['One', 'of', 'them', 'is', 'the', 'Rest', 'and', 'Recuperation', 'Program', ',', 'wherein', 'a', 'child', 'can', 'come', 'to', 'the', 'US', 'for', 'a', 'few', 'weeks', 'in', 'the', 'summer', '.']\n",
      "['NUM', 'ADP', 'PRON', 'VERB', 'DET', 'PROPN', 'CONJ', 'PROPN', 'PROPN', 'PUNCT', 'ADV', 'DET', 'NOUN', 'AUX', 'VERB', 'ADP', 'DET', 'PROPN', 'ADP', 'DET', 'ADJ', 'NOUN', 'ADP', 'DET', 'NOUN', 'PUNCT']\n",
      "['Even', 'a', 'little', 'time', 'spent', 'receiving', 'wholesome', ',', 'uncontaminated', 'food', ',', 'good', 'medical', 'care', ',', 'etc.', 'can', 'add', 'years', 'to', 'their', 'lives', '.']\n",
      "['ADV', 'DET', 'ADJ', 'NOUN', 'VERB', 'VERB', 'ADJ', 'PUNCT', 'ADJ', 'NOUN', 'PUNCT', 'ADJ', 'ADJ', 'NOUN', 'PUNCT', 'X', 'AUX', 'VERB', 'NOUN', 'ADP', 'PRON', 'NOUN', 'PUNCT']\n",
      "['S.', 'and', 'I', 'have', 'an', 'acquaintance', 'who', 'has', 'hosted', 'several', 'of', 'these', 'children', 'for', 'many', 'years', ';', 'to', 'see', 'these', 'little', 'ones', 'breaks', 'the', 'heart', '.']\n",
      "['PROPN', 'CONJ', 'PRON', 'VERB', 'DET', 'NOUN', 'PRON', 'AUX', 'VERB', 'ADJ', 'ADP', 'DET', 'NOUN', 'ADP', 'ADJ', 'NOUN', 'PUNCT', 'PART', 'VERB', 'DET', 'ADJ', 'NOUN', 'VERB', 'DET', 'NOUN', 'PUNCT']\n",
      "['The', 'urge', 'to', 'protect', 'and', 'gather', 'them', 'all', 'in', 'is', 'almost', 'overwhelming', ',', 'and', 'makes', 'me', 'more', 'grateful', 'for', 'the', 'blessings', 'I', 'have', '.']\n",
      "['DET', 'NOUN', 'PART', 'VERB', 'CONJ', 'VERB', 'PRON', 'DET', 'ADV', 'VERB', 'ADV', 'ADJ', 'PUNCT', 'CONJ', 'VERB', 'PRON', 'ADV', 'ADJ', 'ADP', 'DET', 'NOUN', 'PRON', 'VERB', 'PUNCT']\n",
      "['Take', 'care', ',', 'my', 'friend', ',', 'Linda']\n",
      "['VERB', 'NOUN', 'PUNCT', 'PRON', 'NOUN', 'PUNCT', 'PROPN']\n",
      "['I', \"'m\", 'sorry', 'to', 'say', 'Elena', \"'s\", 'story', 'has', 'been', 'revealed', 'to', 'be', 'a', 'fake', '.']\n",
      "['PRON', 'VERB', 'ADJ', 'PART', 'VERB', 'PROPN', 'PART', 'NOUN', 'AUX', 'AUX', 'VERB', 'PART', 'VERB', 'DET', 'NOUN', 'PUNCT']\n",
      "['What', 'do', 'the', 'new', 'al', '-', 'Qaeda', 'videotape', 'and', 'audio', 'speeches', 'of', 'Bin', 'Laden', 'and', 'Ayman', 'al', '-', 'Zawahiri', 'tell', 'us', 'about', 'the', 'hopes', 'of', 'the', 'remaining', 'top', 'leadership', 'of', 'the', 'organization', '?']\n",
      "['PRON', 'AUX', 'DET', 'ADJ', 'PROPN', 'PUNCT', 'PROPN', 'NOUN', 'CONJ', 'NOUN', 'NOUN', 'ADP', 'PROPN', 'PROPN', 'CONJ', 'PROPN', 'PROPN', 'PUNCT', 'PROPN', 'VERB', 'PRON', 'ADP', 'DET', 'NOUN', 'ADP', 'DET', 'ADJ', 'ADJ', 'NOUN', 'ADP', 'DET', 'NOUN', 'PUNCT']\n",
      "['Because', 'the', 'US', 'and', 'Pakistan', 'have', 'managed', 'to', 'capture', 'or', 'kill', 'about', '2', '/', '3s', 'of', 'the', 'top', '25', 'al', '-', 'Qaeda', 'commanders', ',', 'the', 'middle', 'managers', 'are', 'not', 'in', 'close', 'contact', 'with', 'al', '-', 'Zawahiri', 'and', 'Bin', 'Laden', '.']\n",
      "['SCONJ', 'DET', 'PROPN', 'CONJ', 'PROPN', 'AUX', 'VERB', 'PART', 'VERB', 'CONJ', 'VERB', 'ADV', 'NUM', 'PUNCT', 'NOUN', 'ADP', 'DET', 'ADJ', 'NUM', 'PROPN', 'PUNCT', 'PROPN', 'NOUN', 'PUNCT', 'DET', 'ADJ', 'NOUN', 'VERB', 'PART', 'ADP', 'ADJ', 'NOUN', 'ADP', 'PROPN', 'PUNCT', 'PROPN', 'CONJ', 'PROPN', 'PROPN', 'PUNCT']\n",
      "['The', 'tape', 'was', 'a', 'way', 'to', 'signal', 'priorities', '.']\n",
      "['DET', 'NOUN', 'VERB', 'DET', 'NOUN', 'PART', 'VERB', 'NOUN', 'PUNCT']\n",
      "['These', 'are', '1', ')', 'Assassinate', 'or', 'overthrow', 'Gen.', 'Pervez', 'Musharraf', ',', 'the', 'Pakistani', 'military', '\"', 'president', '\"', 'who', 'had', 'made', 'a', 'coup', 'in', '1999', 'and', 'has', 'thrown', 'in', 'his', 'lot', 'with', 'the', 'United', 'States', 'against', 'the', 'Taliban', 'and', 'al', '-', 'Qaeda', '.']\n",
      "['PRON', 'VERB', 'X', 'PUNCT', 'VERB', 'CONJ', 'VERB', 'PROPN', 'PROPN', 'PROPN', 'PUNCT', 'DET', 'ADJ', 'ADJ', 'PUNCT', 'NOUN', 'PUNCT', 'PRON', 'AUX', 'VERB', 'DET', 'NOUN', 'ADP', 'NUM', 'CONJ', 'AUX', 'VERB', 'ADV', 'PRON', 'NOUN', 'ADP', 'DET', 'PROPN', 'PROPN', 'ADP', 'DET', 'PROPN', 'CONJ', 'PROPN', 'PUNCT', 'PROPN', 'PUNCT']\n",
      "['Musharraf', 'has', 'been', 'trying', 'to', 'purge', 'his', 'officer', 'corps', 'of', 'the', 'substantial', 'number', 'of', 'al', '-', 'Qaeda', 'sympathizers', '.']\n",
      "['PROPN', 'AUX', 'AUX', 'VERB', 'PART', 'VERB', 'PRON', 'NOUN', 'NOUN', 'ADP', 'DET', 'ADJ', 'NOUN', 'ADP', 'PROPN', 'PUNCT', 'PROPN', 'NOUN', 'PUNCT']\n",
      "['His', 'military', 'intelligence', 'has', 'captured', 'major', 'figures', 'like', 'Abu', 'Zubayda', 'and', 'Khalid', 'Shaykh', 'Muhammad', ',', 'as', 'well', 'as', 'nearly', '500', 'other', 'al', '-', 'Qaeda', 'operatives', ',', 'over', '400', 'of', 'whom', 'the', 'Pakistanis', 'have', 'turned', 'over', 'to', 'the', 'US', '.']\n",
      "['PRON', 'ADJ', 'NOUN', 'AUX', 'VERB', 'ADJ', 'NOUN', 'ADP', 'PROPN', 'PROPN', 'CONJ', 'PROPN', 'PROPN', 'PROPN', 'PUNCT', 'ADV', 'ADV', 'ADP', 'ADV', 'NUM', 'ADJ', 'PROPN', 'PUNCT', 'PROPN', 'NOUN', 'PUNCT', 'ADV', 'NUM', 'ADP', 'PRON', 'DET', 'PROPN', 'AUX', 'VERB', 'ADP', 'ADP', 'DET', 'PROPN', 'PUNCT']\n",
      "['Musharraf', 'held', 'elections', 'in', 'October', 'of', '2002', ',', 'in', 'which', 'center', '-', 'right', 'parties', 'did', 'well', ',', 'but', 'in', 'which', 'nearly', '20', 'percent', 'of', 'parliament', 'seats', 'went', 'to', 'the', 'fundamentalist', 'religious', 'party', 'coalition', ',', 'MMA', '.']\n",
      "['PROPN', 'VERB', 'NOUN', 'ADP', 'PROPN', 'ADP', 'NUM', 'PUNCT', 'ADP', 'PRON', 'NOUN', 'PUNCT', 'ADJ', 'NOUN', 'VERB', 'ADV', 'PUNCT', 'CONJ', 'ADP', 'PRON', 'ADV', 'NUM', 'NOUN', 'ADP', 'NOUN', 'NOUN', 'VERB', 'ADP', 'DET', 'ADJ', 'ADJ', 'NOUN', 'NOUN', 'PUNCT', 'PROPN', 'PUNCT']\n",
      "['MMA', 'also', 'captured', 'the', 'Northwest', 'Frontier', 'Province', ',', 'which', 'probably', 'shelters', 'Bin', 'Laden', 'and', 'al', '-', 'Zawahiri', ',', 'and', 'is', 'in', 'a', 'joint', 'government', 'of', 'Baluchistan', 'Province', ',', 'also', 'on', 'the', 'Afghanistan', 'border', '.']\n",
      "['PROPN', 'ADV', 'VERB', 'DET', 'PROPN', 'PROPN', 'PROPN', 'PUNCT', 'PRON', 'ADV', 'VERB', 'PROPN', 'PROPN', 'CONJ', 'PROPN', 'PUNCT', 'PROPN', 'PUNCT', 'CONJ', 'VERB', 'ADP', 'DET', 'ADJ', 'NOUN', 'ADP', 'PROPN', 'PROPN', 'PUNCT', 'ADV', 'ADP', 'DET', 'PROPN', 'NOUN', 'PUNCT']\n",
      "['If', 'al', '-', 'Qaeda', 'can', 'kill', 'Musharraf', 'or', 'instigate', 'a', 'military', 'coup', 'against', 'him', 'by', 'Islamist', 'junior', 'officers', ',', 'they', 'can', 'hope', 'to', 'catapult', 'the', 'MMA', 'to', 'power', 'as', 'political', 'allies', 'and', 'hosts', '.']\n",
      "['SCONJ', 'PROPN', 'PUNCT', 'PROPN', 'AUX', 'VERB', 'PROPN', 'CONJ', 'VERB', 'DET', 'ADJ', 'NOUN', 'ADP', 'PRON', 'ADP', 'PROPN', 'ADJ', 'NOUN', 'PUNCT', 'PRON', 'AUX', 'VERB', 'PART', 'VERB', 'DET', 'PROPN', 'ADP', 'NOUN', 'ADP', 'ADJ', 'NOUN', 'CONJ', 'NOUN', 'PUNCT']\n",
      "['They', 'would', 'thereby', 'gain', 'control', 'of', 'a', 'major', 'base', 'for', 'terrorist', 'operations', ',', 'which', 'is', 'also', 'a', 'nuclear', 'power', '.']\n",
      "['PRON', 'AUX', 'ADV', 'VERB', 'NOUN', 'ADP', 'DET', 'ADJ', 'NOUN', 'ADP', 'ADJ', 'NOUN', 'PUNCT', 'PRON', 'VERB', 'ADV', 'DET', 'ADJ', 'NOUN', 'PUNCT']\n",
      "['All', 'this', 'is', 'highly', 'unlikely', ',', 'as', 'with', 'most', 'al', '-', 'Qaeda', 'crackpot', 'schemes', '.']\n",
      "['DET', 'DET', 'VERB', 'ADV', 'ADJ', 'PUNCT', 'ADP', 'ADP', 'ADJ', 'PROPN', 'PUNCT', 'PROPN', 'NOUN', 'NOUN', 'PUNCT']\n",
      "['But', 'so', 'was', 'it', 'unlikely', 'that', 'a', 'small', 'group', 'of', 'Arab', 'mujahidin', 'would', 'virtually', 'take', 'over', 'Afghanistan', '.']\n",
      "['CONJ', 'ADV', 'VERB', 'PRON', 'ADJ', 'SCONJ', 'DET', 'ADJ', 'NOUN', 'ADP', 'ADJ', 'NOUN', 'AUX', 'ADV', 'VERB', 'ADP', 'PROPN', 'PUNCT']\n",
      "['Response', ':', 'The', 'US', 'must', 'do', 'whatever', 'it', 'can', 'to', 'strengthen', 'the', 'legitimacy', 'of', 'the', 'Pakistani', 'government', '.']\n",
      "['NOUN', 'PUNCT', 'DET', 'PROPN', 'AUX', 'VERB', 'PRON', 'PRON', 'AUX', 'PART', 'VERB', 'DET', 'NOUN', 'ADP', 'DET', 'ADJ', 'NOUN', 'PUNCT']\n",
      "['On', 'the', 'one', 'hand', ',', 'it', 'should', 'pressure', 'Musharraf', 'to', 'take', 'off', 'his', 'uniform', 'and', 'run', 'for', 'president', 'in', 'a', 'fair', 'election', ',', 'and', 'to', 'repeal', 'the', 'contentious', '\"', 'Legal', 'Framework', 'Order', '\"', 'that', 'essentially', 'perpetuates', 'his', 'dictatorship', '.']\n",
      "['ADP', 'DET', 'NUM', 'NOUN', 'PUNCT', 'PRON', 'AUX', 'VERB', 'PROPN', 'PART', 'VERB', 'ADP', 'PRON', 'NOUN', 'CONJ', 'VERB', 'ADP', 'NOUN', 'ADP', 'DET', 'ADJ', 'NOUN', 'PUNCT', 'CONJ', 'PART', 'VERB', 'DET', 'ADJ', 'PUNCT', 'PROPN', 'PROPN', 'PROPN', 'PUNCT', 'PRON', 'ADV', 'VERB', 'PRON', 'NOUN', 'PUNCT']\n",
      "['On', 'the', 'other', ',', 'restrictions', 'should', 'be', 'lifted', 'on', 'the', 'mainstream', 'Muslim', 'League', '-', 'N', 'and', 'Pakistan', 'People', \"'s\", 'Party', ',', 'who', 'can', 'defeat', 'the', 'MMA', 'in', 'fair', 'elections', 'if', 'not', 'hogtied', 'by', 'the', 'secret', 'police', '.']\n",
      "['ADP', 'DET', 'ADJ', 'PUNCT', 'NOUN', 'AUX', 'AUX', 'VERB', 'ADP', 'DET', 'ADJ', 'PROPN', 'PROPN', 'PUNCT', 'PROPN', 'CONJ', 'PROPN', 'PROPN', 'PART', 'PROPN', 'PUNCT', 'PRON', 'AUX', 'VERB', 'DET', 'PROPN', 'ADP', 'ADJ', 'NOUN', 'SCONJ', 'ADV', 'VERB', 'ADP', 'DET', 'ADJ', 'NOUN', 'PUNCT']\n",
      "['On', 'the', 'other', 'hand', ',', 'the', 'US', 'should', 'strong', '-', 'arm', 'India', 'and', 'Pakistan', 'into', 'a', 'final', 'settlement', 'of', 'the', 'Kashmir', 'issue', '.']\n",
      "['ADP', 'DET', 'ADJ', 'NOUN', 'PUNCT', 'DET', 'PROPN', 'AUX', 'ADJ', 'PUNCT', 'VERB', 'PROPN', 'CONJ', 'PROPN', 'ADP', 'DET', 'ADJ', 'NOUN', 'ADP', 'DET', 'PROPN', 'NOUN', 'PUNCT']\n",
      "['Al', '-', 'Zawahiri', 'attempted', 'to', 'use', 'Musharraf', \"'s\", 'lack', 'of', 'progress', 'in', 'helping', 'the', 'Muslims', 'of', 'that', 'Indian', 'state', 'as', 'a', 'justification', 'for', 'his', 'overthrow', '.']\n",
      "['PROPN', 'PUNCT', 'PROPN', 'VERB', 'PART', 'VERB', 'PROPN', 'PART', 'NOUN', 'ADP', 'NOUN', 'SCONJ', 'VERB', 'DET', 'PROPN', 'ADP', 'DET', 'ADJ', 'NOUN', 'ADP', 'DET', 'NOUN', 'ADP', 'PRON', 'NOUN', 'PUNCT']\n",
      "['The', 'Kashmir', 'issue', 'generates', 'far', 'more', 'terrorism', ',', 'and', 'even', 'the', 'threat', 'of', 'nuclear', 'war', ',', 'than', 'Iraq', 'ever', 'did', '.']\n",
      "['DET', 'PROPN', 'NOUN', 'VERB', 'ADV', 'ADJ', 'NOUN', 'PUNCT', 'CONJ', 'ADV', 'DET', 'NOUN', 'ADP', 'ADJ', 'NOUN', 'PUNCT', 'SCONJ', 'PROPN', 'ADV', 'VERB', 'PUNCT']\n",
      "['2', ')', 'Target', 'Israel', 'and', 'encourage', 'the', 'worst', 'elements', 'of', 'the', 'Palestinians', 'by', 'playing', 'on', 'the', 'iron', 'fist', 'policies', 'of', 'the', 'Sharon', 'government', '.']\n",
      "['X', 'PUNCT', 'VERB', 'PROPN', 'CONJ', 'VERB', 'DET', 'ADJ', 'NOUN', 'ADP', 'DET', 'PROPN', 'SCONJ', 'VERB', 'ADP', 'DET', 'ADJ', 'NOUN', 'NOUN', 'ADP', 'DET', 'PROPN', 'NOUN', 'PUNCT']\n",
      "['Response', ':', 'The', 'US', 'has', 'succeeded', 'in', 'politically', 'isolating', 'Hamas', ',', 'and', 'started', 'the', 'process', 'of', 'cutting', 'off', 'its', 'funding', '.']\n",
      "['NOUN', 'PUNCT', 'DET', 'PROPN', 'AUX', 'VERB', 'SCONJ', 'ADV', 'VERB', 'PROPN', 'PUNCT', 'CONJ', 'VERB', 'DET', 'NOUN', 'SCONJ', 'VERB', 'ADP', 'PRON', 'NOUN', 'PUNCT']\n",
      "['This', 'terrorist', 'organization', 'can', 'now', 'only', 'pull', 'off', 'far', 'less', 'sophisticated', 'bombings', 'and', 'attacks', '.']\n",
      "['DET', 'ADJ', 'NOUN', 'AUX', 'ADV', 'ADV', 'VERB', 'ADP', 'ADV', 'ADV', 'ADJ', 'NOUN', 'CONJ', 'NOUN', 'PUNCT']\n",
      "['It', 'should', 'continue', 'to', 'be', 'defanged', '.']\n",
      "['PRON', 'AUX', 'VERB', 'PART', 'AUX', 'VERB', 'PUNCT']\n",
      "['But', 'Sharon', \"'s\", 'iron', 'fist', 'is', 'simply', 'not', 'working', 'as', 'a', 'means', 'of', 'establishing', 'general', 'peace', ',', 'and', 'the', 'Bush', 'administration', 'will', 'have', 'to', 'finally', 'apply', 'effective', 'pressure', 'on', 'Sharon', 'to', 'stop', 'his', 'outrages', 'in', 'and', 'colonization', 'of', 'the', 'West', 'Bank', 'and', 'Gaza', '.']\n",
      "['CONJ', 'PROPN', 'PART', 'ADJ', 'NOUN', 'AUX', 'ADV', 'PART', 'VERB', 'ADP', 'DET', 'NOUN', 'SCONJ', 'VERB', 'ADJ', 'NOUN', 'PUNCT', 'CONJ', 'DET', 'PROPN', 'NOUN', 'AUX', 'VERB', 'PART', 'ADV', 'VERB', 'ADJ', 'NOUN', 'ADP', 'PROPN', 'PART', 'VERB', 'PRON', 'NOUN', 'ADP', 'CONJ', 'NOUN', 'ADP', 'DET', 'PROPN', 'PROPN', 'CONJ', 'PROPN', 'PUNCT']\n",
      "['Sharon', \"'s\", 'hard', 'line', 'has', 'worked', 'in', 'tandem', 'with', 'Hamas', \"'s\", 'terrorism', 'to', 'ratchet', 'up', 'tensions', 'further', 'and', 'further', ',', 'which', 'spill', 'over', 'into', 'the', 'Muslim', 'world', 'and', 'serve', 'as', 'a', 'recruiting', 'tool', 'for', 'al', '-', 'Qaeda', 'in', 'its', 'search', 'for', 'agents', 'willing', 'to', 'hit', 'the', 'United', 'States', '.']\n",
      "['PROPN', 'PART', 'ADJ', 'NOUN', 'AUX', 'VERB', 'ADP', 'NOUN', 'ADP', 'PROPN', 'PART', 'NOUN', 'PART', 'VERB', 'ADP', 'NOUN', 'ADV', 'CONJ', 'ADV', 'PUNCT', 'PRON', 'VERB', 'ADV', 'ADP', 'DET', 'ADJ', 'NOUN', 'CONJ', 'VERB', 'ADP', 'DET', 'NOUN', 'NOUN', 'ADP', 'PROPN', 'PUNCT', 'PROPN', 'ADP', 'PRON', 'NOUN', 'ADP', 'NOUN', 'ADJ', 'PART', 'VERB', 'DET', 'PROPN', 'PROPN', 'PUNCT']\n",
      "['Israel', 'owes', 'the', 'United', 'States', 'at', 'least', 'this', 'much', ',', 'in', 'this', 'crisis', ',', 'to', 'cease', 'militarily', 'unnecessary', 'provocations', 'and', 'establish', 'genuine', 'peace', '.']\n",
      "['PROPN', 'VERB', 'DET', 'PROPN', 'PROPN', 'ADV', 'ADV', 'ADV', 'ADJ', 'PUNCT', 'ADP', 'DET', 'NOUN', 'PUNCT', 'PART', 'VERB', 'ADV', 'ADJ', 'NOUN', 'CONJ', 'VERB', 'ADJ', 'NOUN', 'PUNCT']\n",
      "['3', ')', 'Make', 'Iraq', 'another', 'Afghanistan', ',', 'using', 'the', 'Republican', 'Right', \"'s\", 'own', 'tactics', 'against', 'them', '.']\n",
      "['X', 'PUNCT', 'VERB', 'PROPN', 'DET', 'PROPN', 'PUNCT', 'VERB', 'DET', 'PROPN', 'PROPN', 'PART', 'ADJ', 'NOUN', 'ADP', 'PRON', 'PUNCT']\n",
      "['Response', ':', 'Iraq', 'is', 'actually', 'hostile', 'territory', 'for', 'al', '-', 'Qaeda', ',', 'and', 'without', 'Iraqi', 'sympathizers', 'it', 'can', 'not', 'succeed', 'there', '.']\n",
      "['NOUN', 'PUNCT', 'PROPN', 'VERB', 'ADV', 'ADJ', 'NOUN', 'ADP', 'PROPN', 'PUNCT', 'PROPN', 'PUNCT', 'CONJ', 'ADP', 'ADJ', 'NOUN', 'PRON', 'AUX', 'PART', 'VERB', 'ADV', 'PUNCT']\n",
      "['By', 'moving', 'quickly', 'to', 'Iraqi', 'sovereignty', 'and', 'improvement', 'of', 'Iraqi', 'lives', ',', 'the', 'US', 'may', 'be', 'able', 'to', 'get', 'Iraqis', 'on', 'its', 'side', ',', 'so', 'that', 'they', 'turn', 'in', 'the', 'foreigners', '.']\n",
      "['SCONJ', 'VERB', 'ADV', 'ADP', 'ADJ', 'NOUN', 'CONJ', 'NOUN', 'ADP', 'ADJ', 'NOUN', 'PUNCT', 'DET', 'PROPN', 'AUX', 'VERB', 'ADJ', 'PART', 'VERB', 'PROPN', 'ADP', 'PRON', 'NOUN', 'PUNCT', 'SCONJ', 'SCONJ', 'PRON', 'VERB', 'ADP', 'DET', 'NOUN', 'PUNCT']\n",
      "['Certainly', ',', 'the', 'Shiites', 'already', 'hate', 'al', '-', 'Qaeda', 'and', 'would', 'help', ';', 'likewise', 'the', 'Kurds', '.']\n",
      "['ADV', 'PUNCT', 'DET', 'PROPN', 'ADV', 'VERB', 'PROPN', 'PUNCT', 'PROPN', 'CONJ', 'AUX', 'VERB', 'PUNCT', 'ADV', 'DET', 'PROPN', 'PUNCT']\n",
      "['The', 'problem', 'of', 'mollifying', 'the', 'Sunnis', ',', 'though', ',', 'has', 'to', 'be', 'solved', 'to', 'avoid', 'giving', 'al', '-', 'Qaeda', 'an', 'entree', '.']\n",
      "['DET', 'NOUN', 'SCONJ', 'VERB', 'DET', 'PROPN', 'PUNCT', 'ADV', 'PUNCT', 'VERB', 'PART', 'AUX', 'VERB', 'PART', 'VERB', 'VERB', 'PROPN', 'PUNCT', 'PROPN', 'DET', 'NOUN', 'PUNCT']\n",
      "['The', 'Americans', 'have', 'to', 'put', 'away', 'their', 'free', '-', 'market', 'fetishism', 'for', 'a', 'while', 'and', 'find', 'ways', 'of', 'creating', 'jobs', 'and', 'pumping', 'money', 'into', 'Iraqi', 'households', '.']\n",
      "['DET', 'PROPN', 'VERB', 'PART', 'VERB', 'ADV', 'PRON', 'ADJ', 'PUNCT', 'NOUN', 'NOUN', 'ADP', 'DET', 'NOUN', 'CONJ', 'VERB', 'NOUN', 'SCONJ', 'VERB', 'NOUN', 'CONJ', 'VERB', 'NOUN', 'ADP', 'ADJ', 'NOUN', 'PUNCT']\n",
      "['We', 'need', 'an', 'FDR', 'in', 'Iraq', ',', 'not', 'a', 'Ronald', 'Reagan', '.']\n",
      "['PRON', 'VERB', 'DET', 'PROPN', 'ADP', 'PROPN', 'PUNCT', 'ADV', 'DET', 'PROPN', 'PROPN', 'PUNCT']\n",
      "['Of', 'course', ',', 'the', 'sooner', 'the', 'US', 'soldiers', 'can', 'be', 'withdrawn', 'in', 'favor', 'of', 'less', '-', 'provocative', 'local', 'or', 'international', 'forces', ',', 'the', 'better', '.']\n",
      "['ADV', 'ADV', 'PUNCT', 'DET', 'ADV', 'DET', 'PROPN', 'NOUN', 'AUX', 'AUX', 'VERB', 'ADP', 'NOUN', 'ADP', 'ADV', 'PUNCT', 'ADJ', 'ADJ', 'CONJ', 'ADJ', 'NOUN', 'PUNCT', 'DET', 'ADJ', 'PUNCT']\n",
      "['Getting', 'the', 'Spanish', 'out', 'of', 'Iraq', 'is', \"n't\", 'nearly', 'as', 'good', 'a', 'rallying', 'cry', 'for', 'al', '-', 'Qaeda', 'in', 'the', 'Arab', 'world', 'as', 'getting', 'the', 'Americans', 'and', 'British', 'out', '.']\n",
      "['VERB', 'DET', 'ADJ', 'ADP', 'ADP', 'PROPN', 'VERB', 'PART', 'ADV', 'ADV', 'ADJ', 'DET', 'NOUN', 'NOUN', 'ADP', 'PROPN', 'PUNCT', 'PROPN', 'ADP', 'DET', 'ADJ', 'NOUN', 'SCONJ', 'VERB', 'DET', 'PROPN', 'CONJ', 'ADJ', 'ADV', 'PUNCT']\n",
      "['The', 'thing', 'to', 'keep', 'in', 'mind', 'is', 'that', 'Sunni', 'Arab', 'nationalists', 'and', 'Baathists', 'and', 'local', 'Sunni', 'radicals', 'are', 'likely', 'to', 'remain', 'far', 'more', 'dangerous', 'to', 'the', 'US', 'in', 'Iraq', 'than', 'al', '-', 'Qaeda', 'infiltrators', ',', 'and', 'it', 'would', 'be', 'dangerous', 'to', 'take', 'one', \"'s\", 'eyes', 'off', 'the', 'former', 'ball', '.']\n",
      "['DET', 'NOUN', 'PART', 'VERB', 'ADP', 'NOUN', 'VERB', 'SCONJ', 'ADJ', 'ADJ', 'NOUN', 'CONJ', 'PROPN', 'CONJ', 'ADJ', 'ADJ', 'NOUN', 'VERB', 'ADJ', 'PART', 'VERB', 'ADV', 'ADV', 'ADJ', 'ADP', 'DET', 'PROPN', 'ADP', 'PROPN', 'ADP', 'PROPN', 'PUNCT', 'PROPN', 'NOUN', 'PUNCT', 'CONJ', 'PRON', 'AUX', 'VERB', 'ADJ', 'PART', 'VERB', 'PRON', 'PART', 'NOUN', 'ADP', 'DET', 'ADJ', 'NOUN', 'PUNCT']\n",
      "['George', 'W.', 'Bush', 'alleged', 'Thursday', 'that', 'John', 'Edwards', 'lacks', 'the', 'experience', 'necessary', 'to', 'be', 'president', '.']\n",
      "['PROPN', 'PROPN', 'PROPN', 'VERB', 'PROPN', 'SCONJ', 'PROPN', 'PROPN', 'VERB', 'DET', 'NOUN', 'ADJ', 'PART', 'VERB', 'PROPN', 'PUNCT']\n",
      "['The', 'problem', 'with', 'this', 'argument', 'is', 'that', 'Bush', 'lacked', 'the', 'experience', 'necessary', 'to', 'be', 'president', 'when', 'he', 'ran', 'in', '2000', ',', 'so', 'this', 'sort', 'of', 'cheap', 'shot', 'just', 'hoists', 'him', 'by', 'his', 'own', 'petard', '.']\n",
      "['DET', 'NOUN', 'ADP', 'DET', 'NOUN', 'VERB', 'SCONJ', 'PROPN', 'VERB', 'DET', 'NOUN', 'ADJ', 'PART', 'VERB', 'PROPN', 'ADV', 'PRON', 'VERB', 'ADP', 'NUM', 'PUNCT', 'ADV', 'DET', 'NOUN', 'ADP', 'ADJ', 'NOUN', 'ADV', 'VERB', 'PRON', 'ADP', 'PRON', 'ADJ', 'NOUN', 'PUNCT']\n",
      "['Let', \"'s\", 'just', 'remember', 'a', 'seminal', 'Bush', 'moment', 'in', '1999', ':']\n",
      "['VERB', 'PRON', 'ADV', 'VERB', 'DET', 'ADJ', 'PROPN', 'NOUN', 'ADP', 'NUM', 'PUNCT']\n",
      "[\"'\", 'Bush', 'fails', 'reporter', \"'s\", 'pop', 'quiz', 'on', 'international', 'leaders']\n",
      "['PUNCT', 'PROPN', 'VERB', 'NOUN', 'PART', 'NOUN', 'NOUN', 'ADP', 'ADJ', 'NOUN']\n",
      "['November', '5', ',', '1999']\n",
      "['PROPN', 'NUM', 'PUNCT', 'NUM']\n",
      "['Web', 'posted', 'at', ':', '3:29', 'p.m.', 'EST', '(', '2029', 'GMT', ')']\n",
      "['NOUN', 'VERB', 'ADP', 'PUNCT', 'NUM', 'NOUN', 'PROPN', 'PUNCT', 'NUM', 'PROPN', 'PUNCT']\n",
      "['WASHINGTON', '(', 'CNN', ')', '--']\n",
      "['PROPN', 'PUNCT', 'PROPN', 'PUNCT', 'PUNCT']\n",
      "['Texas', 'Gov.', 'George', 'W.', 'Bush', 'is', 'enduring', 'sharp', 'criticism', 'for', 'being', 'unable', 'to', 'name', 'the', 'leaders', 'of', 'four', 'current', 'world', 'hot', 'spots', ',', 'but', 'President', 'Bill', 'Clinton', 'says', 'Bush', '\"', 'should', ',', 'and', 'probably', 'will', ',', 'pick', 'up', '\"', 'those', 'names', '.']\n",
      "['PROPN', 'PROPN', 'PROPN', 'PROPN', 'PROPN', 'AUX', 'VERB', 'ADJ', 'NOUN', 'SCONJ', 'VERB', 'ADJ', 'PART', 'VERB', 'DET', 'NOUN', 'ADP', 'NUM', 'ADJ', 'NOUN', 'ADJ', 'NOUN', 'PUNCT', 'CONJ', 'PROPN', 'PROPN', 'PROPN', 'VERB', 'PROPN', 'PUNCT', 'AUX', 'PUNCT', 'CONJ', 'ADV', 'AUX', 'PUNCT', 'VERB', 'ADP', 'PUNCT', 'DET', 'NOUN', 'PUNCT']\n",
      "['The', 'front', '-', 'runner', 'for', 'the', '2000', 'Republican', 'presidential', 'nomination', 'faltered', 'Thursday', 'in', 'an', 'international', 'affairs', 'pop', 'quiz', 'posed', 'by', 'Andy', 'Hiller', ',', 'a', 'political', 'reporter', 'for', 'WHDH', '-', 'TV', 'in', 'Boston', '.']\n",
      "['DET', 'ADJ', 'PUNCT', 'NOUN', 'ADP', 'DET', 'NUM', 'ADJ', 'ADJ', 'NOUN', 'VERB', 'PROPN', 'ADP', 'DET', 'ADJ', 'NOUN', 'NOUN', 'NOUN', 'VERB', 'ADP', 'PROPN', 'PROPN', 'PUNCT', 'DET', 'ADJ', 'NOUN', 'ADP', 'PROPN', 'PUNCT', 'PROPN', 'ADP', 'PROPN', 'PUNCT']\n",
      "['Bush']\n",
      "['PROPN']\n",
      "['Hiller', 'asked', 'Bush', 'to', 'name', 'the', 'leaders', 'of', 'Chechnya', ',', 'Taiwan', ',', 'India', 'and', 'Pakistan', '.']\n",
      "['PROPN', 'VERB', 'PROPN', 'PART', 'VERB', 'DET', 'NOUN', 'ADP', 'PROPN', 'PUNCT', 'PROPN', 'PUNCT', 'PROPN', 'CONJ', 'PROPN', 'PUNCT']\n",
      "['Bush', 'was', 'only', 'able', 'to', 'give', 'a', 'partial', 'response', 'to', 'the', 'query', 'on', 'the', 'leader', 'of', 'Taiwan', ',', 'referring', 'to', 'Taiwanese', 'President', 'Lee', 'Teng', '-', 'hui', 'simply', 'as', '\"', 'Lee', '.', '\"']\n",
      "['PROPN', 'VERB', 'ADV', 'ADJ', 'PART', 'VERB', 'DET', 'ADJ', 'NOUN', 'ADP', 'DET', 'NOUN', 'ADP', 'DET', 'NOUN', 'ADP', 'PROPN', 'PUNCT', 'VERB', 'ADP', 'ADJ', 'PROPN', 'PROPN', 'PROPN', 'PUNCT', 'PROPN', 'ADV', 'ADP', 'PUNCT', 'PROPN', 'PUNCT', 'PUNCT']\n",
      "['He', 'could', 'not', 'name', 'the', 'others', '.']\n",
      "['PRON', 'AUX', 'PART', 'VERB', 'DET', 'NOUN', 'PUNCT']\n",
      "['\"', 'Can', 'you', 'name', 'the', 'general', 'who', 'is', 'in', 'charge', 'of', 'Pakistan', '?', '\"']\n",
      "['PUNCT', 'AUX', 'PRON', 'VERB', 'DET', 'NOUN', 'PRON', 'VERB', 'ADP', 'NOUN', 'ADP', 'PROPN', 'PUNCT', 'PUNCT']\n",
      "['Hiller', 'asked', ',', 'inquiring', 'about', 'Gen.', 'Pervaiz', 'Musharraf', ',', 'who', 'seized', 'control', 'of', 'the', 'country', 'October', '12', '.']\n",
      "['PROPN', 'VERB', 'PUNCT', 'VERB', 'ADP', 'PROPN', 'PROPN', 'PROPN', 'PUNCT', 'PRON', 'VERB', 'NOUN', 'ADP', 'DET', 'NOUN', 'PROPN', 'NUM', 'PUNCT']\n",
      "['\"', 'Wait', ',', 'wait', ',', 'is', 'this', '50', 'questions', '?', '\"', 'asked', 'Bush', '.']\n",
      "['PUNCT', 'VERB', 'PUNCT', 'VERB', 'PUNCT', 'VERB', 'PRON', 'NUM', 'NOUN', 'PUNCT', 'PUNCT', 'VERB', 'PROPN', 'PUNCT']\n",
      "['Hiller', 'replied', ':', '\"', 'No', ',', 'it', \"'s\", 'four', 'questions', 'of', 'four', 'leaders', 'in', 'four', 'hot', 'spots', '.', '\"', '.', '.', '.']\n",
      "['PROPN', 'VERB', 'PUNCT', 'PUNCT', 'INTJ', 'PUNCT', 'PRON', 'VERB', 'NUM', 'NOUN', 'ADP', 'NUM', 'NOUN', 'ADP', 'NUM', 'ADJ', 'NOUN', 'PUNCT', 'PUNCT', 'PUNCT', 'PUNCT', 'PUNCT']\n",
      "['Bush', ',', 'in', 'answering', 'the', 'question', 'about', 'the', 'leader', 'of', 'Pakistan', ',', 'also', 'said', ':', '\"', 'The', 'new', 'Pakistani', 'general', ',', 'he', \"'s\", 'just', 'been', 'elected', '--', 'not', 'elected', ',', 'this', 'guy', 'took', 'over', 'office', '.']\n",
      "['PROPN', 'PUNCT', 'SCONJ', 'VERB', 'DET', 'NOUN', 'ADP', 'DET', 'NOUN', 'ADP', 'PROPN', 'PUNCT', 'ADV', 'VERB', 'PUNCT', 'PUNCT', 'DET', 'ADJ', 'ADJ', 'NOUN', 'PUNCT', 'PRON', 'AUX', 'ADV', 'AUX', 'VERB', 'PUNCT', 'ADV', 'VERB', 'PUNCT', 'DET', 'NOUN', 'VERB', 'ADP', 'NOUN', 'PUNCT']\n",
      "['It', 'appears', 'this', 'guy', 'is', 'going', 'to', 'bring', 'stability', 'to', 'the', 'country', 'and', 'I', 'think', 'that', \"'s\", 'good', 'news', 'for', 'the', 'subcontinent', '.', '\"']\n",
      "['PRON', 'VERB', 'DET', 'NOUN', 'AUX', 'VERB', 'PART', 'VERB', 'NOUN', 'ADP', 'DET', 'NOUN', 'CONJ', 'PRON', 'VERB', 'PRON', 'VERB', 'ADJ', 'NOUN', 'ADP', 'DET', 'NOUN', 'PUNCT', 'PUNCT']\n",
      "['Gore', 'released', 'a', 'statement', 'Friday', 'taking', 'Bush', 'to', 'task', 'for', 'his', 'comments', 'on', 'Pakistan', \"'s\", 'recent', 'coup', '.']\n",
      "['PROPN', 'VERB', 'DET', 'NOUN', 'PROPN', 'VERB', 'PROPN', 'ADP', 'NOUN', 'ADP', 'PRON', 'NOUN', 'ADP', 'PROPN', 'PART', 'ADJ', 'NOUN', 'PUNCT']\n",
      "['\"', 'I', 'find', 'it', 'troubling', 'that', 'a', 'candidate', 'for', 'president', 'in', 'our', 'country', '--', 'the', 'world', \"'s\", 'oldest', 'democracy', '--', 'would', 'characterize', 'the', 'military', 'takeover', 'as', '\"', 'good', 'news', ',', '\"', 'Gore', 'said', '.']\n",
      "['PUNCT', 'PRON', 'VERB', 'PRON', 'ADJ', 'SCONJ', 'DET', 'NOUN', 'ADP', 'PROPN', 'ADP', 'PRON', 'NOUN', 'PUNCT', 'DET', 'NOUN', 'PART', 'ADJ', 'NOUN', 'PUNCT', 'AUX', 'VERB', 'DET', 'ADJ', 'NOUN', 'ADP', 'PUNCT', 'ADJ', 'NOUN', 'PUNCT', 'PUNCT', 'PROPN', 'VERB', 'PUNCT']\n",
      "['\"', 'Further', ',', 'I', 'find', 'it', 'even', 'more', 'disturbing', 'that', 'he', 'made', 'these', 'comments', 'about', 'a', 'nation', 'that', 'just', 'last', 'year', 'tested', 'nuclear', 'weapons', '--', 'shortly', 'after', 'voicing', 'his', 'public', 'opposition', 'to', 'the', 'Comprehensive', 'Test', 'Ban', 'Treaty', '.']\n",
      "['PUNCT', 'ADV', 'PUNCT', 'PRON', 'VERB', 'PRON', 'ADV', 'ADV', 'ADJ', 'SCONJ', 'PRON', 'VERB', 'DET', 'NOUN', 'ADP', 'DET', 'NOUN', 'PRON', 'ADV', 'ADJ', 'NOUN', 'VERB', 'ADJ', 'NOUN', 'PUNCT', 'ADV', 'SCONJ', 'VERB', 'PRON', 'ADJ', 'NOUN', 'ADP', 'DET', 'PROPN', 'PROPN', 'PROPN', 'PROPN', 'PUNCT']\n",
      "['A', 'spokesman', 'for', 'President', 'Clinton', 'also', 'criticized', 'Bush', \"'s\", 'comments', '.']\n",
      "['DET', 'NOUN', 'ADP', 'PROPN', 'PROPN', 'ADV', 'VERB', 'PROPN', 'PART', 'NOUN', 'PUNCT']\n",
      "['\"', 'It', 'is', 'very', 'dangerous', 'for', 'this', 'country', 'to', 'condone', 'the', 'overthrow', 'of', 'democratically', 'elected', 'governments', ',', '\"', 'said', 'David', 'Leavy', ',', 'spokesman', 'for', 'the', 'National', 'Security', 'Council', '.']\n",
      "['PUNCT', 'PRON', 'VERB', 'ADV', 'ADJ', 'SCONJ', 'DET', 'NOUN', 'PART', 'VERB', 'DET', 'NOUN', 'ADP', 'ADV', 'VERB', 'NOUN', 'PUNCT', 'PUNCT', 'VERB', 'PROPN', 'PROPN', 'PUNCT', 'NOUN', 'ADP', 'DET', 'PROPN', 'PROPN', 'PROPN', 'PUNCT']\n",
      "['Not', 'only', 'did', 'Bush', 'not', 'know', 'who', 'General', 'Pervez', 'Musharraf', 'was', ',', 'he', 'seems', 'to', 'have', 'confused', 'coup', '-', 'making', 'with', '\"', 'taking', 'office', ',', '\"', 'and', 'moreover', 'went', 'on', 'to', 'suggest', 'that', 'the', 'overthrow', 'of', 'an', 'elected', 'prime', 'minister', 'and', 'the', 'installation', 'in', 'power', 'of', 'the', 'Pakistan', 'military', ',', 'then', 'the', 'world', \"'s\", 'strongest', 'supporter', 'of', 'the', 'Taliban', ',', 'would', 'bring', '\"', 'stability', '!', '\"']\n",
      "['ADV', 'ADV', 'AUX', 'PROPN', 'PART', 'VERB', 'PRON', 'PROPN', 'PROPN', 'PROPN', 'VERB', 'PUNCT', 'PRON', 'VERB', 'PART', 'AUX', 'VERB', 'NOUN', 'PUNCT', 'NOUN', 'ADP', 'PUNCT', 'VERB', 'NOUN', 'PUNCT', 'PUNCT', 'CONJ', 'ADV', 'VERB', 'ADV', 'PART', 'VERB', 'SCONJ', 'DET', 'NOUN', 'ADP', 'DET', 'VERB', 'ADJ', 'NOUN', 'CONJ', 'DET', 'NOUN', 'ADP', 'NOUN', 'ADP', 'DET', 'PROPN', 'NOUN', 'PUNCT', 'ADV', 'DET', 'NOUN', 'PART', 'ADJ', 'NOUN', 'ADP', 'DET', 'PROPN', 'PUNCT', 'AUX', 'VERB', 'PUNCT', 'NOUN', 'PUNCT', 'PUNCT']\n",
      "['Musharraf', 'made', 'his', 'coup', 'in', 'part', 'because', 'of', 'the', 'military', \"'s\", 'anger', 'over', 'Prime', 'Minister', 'Nawaz', 'Sharif', \"'s\", 'willingness', 'to', 'back', 'down', 'from', 'confronting', 'India', 'over', 'Kashmir', ',', 'so', 'that', 'he', 'explicitly', 'came', 'to', 'power', 'as', 'a', 'warmonger', '.']\n",
      "['PROPN', 'VERB', 'PRON', 'NOUN', 'ADP', 'ADJ', 'ADP', 'ADP', 'DET', 'NOUN', 'PART', 'NOUN', 'ADP', 'PROPN', 'PROPN', 'PROPN', 'PROPN', 'PART', 'NOUN', 'PART', 'VERB', 'ADP', 'SCONJ', 'VERB', 'PROPN', 'ADP', 'PROPN', 'PUNCT', 'SCONJ', 'SCONJ', 'PRON', 'ADV', 'VERB', 'ADP', 'NOUN', 'ADP', 'DET', 'NOUN', 'PUNCT']\n",
      "['I', 'ca', \"n't\", 'tell', 'you', 'how', 'ominous', 'I', 'found', 'Bush', \"'s\", 'performance', 'in', 'that', 'interview', '.']\n",
      "['PRON', 'AUX', 'PART', 'VERB', 'PRON', 'ADV', 'ADJ', 'PRON', 'VERB', 'PROPN', 'PART', 'NOUN', 'ADP', 'DET', 'NOUN', 'PUNCT']\n",
      "['I', 'still', 'remember', 'him', 'stuttering', 'about', '\"', 'the', 'General', ',', '\"', 'unable', 'to', 'remember', 'Musharraf', \"'s\", 'name', '.']\n",
      "['PRON', 'ADV', 'VERB', 'PRON', 'VERB', 'ADP', 'PUNCT', 'DET', 'NOUN', 'PUNCT', 'PUNCT', 'ADJ', 'PART', 'VERB', 'PROPN', 'PART', 'NOUN', 'PUNCT']\n",
      "['He', 'obviously', 'had', 'no', 'idea', 'what', 'he', 'was', 'talking', 'about', ',', 'though', 'he', 'demonstrated', 'a', 'number', 'of', 'ill', '-', 'fated', 'instincts', '.']\n",
      "['PRON', 'ADV', 'VERB', 'DET', 'NOUN', 'PRON', 'PRON', 'AUX', 'VERB', 'ADP', 'PUNCT', 'SCONJ', 'PRON', 'VERB', 'DET', 'NOUN', 'ADP', 'ADJ', 'PUNCT', 'ADJ', 'NOUN', 'PUNCT']\n",
      "['He', 'obviously', 'liked', 'authoritarian', 'rule', 'better', 'than', 'democracy', ',', 'equating', 'dictatorship', 'with', '\"', 'stability', '.', '\"']\n",
      "['PRON', 'ADV', 'VERB', 'ADJ', 'NOUN', 'ADV', 'ADP', 'NOUN', 'PUNCT', 'VERB', 'NOUN', 'ADP', 'PUNCT', 'NOUN', 'PUNCT', 'PUNCT']\n",
      "['And', ',', 'he', 'did', \"n't\", 'think', 'he', 'needed', 'to', 'know', 'anything', 'about', 'South', 'Asia', ',', 'with', 'its', 'nuclear', 'giants', 'and', 'radical', 'religious', 'politics', '--', 'the', 'latter', 'a', 'dire', 'security', 'threat', 'to', 'the', 'US', '.']\n",
      "['CONJ', 'PUNCT', 'PRON', 'AUX', 'PART', 'VERB', 'PRON', 'VERB', 'PART', 'VERB', 'PRON', 'ADP', 'PROPN', 'PROPN', 'PUNCT', 'ADP', 'PRON', 'ADJ', 'NOUN', 'CONJ', 'ADJ', 'ADJ', 'NOUN', 'PUNCT', 'DET', 'ADJ', 'DET', 'ADJ', 'NOUN', 'NOUN', 'ADP', 'DET', 'PROPN', 'PUNCT']\n",
      "['He', 'could', \"n't\", 'tell', 'when', 'things', 'were', 'becoming', 'more', 'unstable', 'as', 'opposed', 'to', 'less', '.']\n",
      "['PRON', 'AUX', 'PART', 'VERB', 'ADV', 'NOUN', 'AUX', 'VERB', 'ADV', 'ADJ', 'SCONJ', 'VERB', 'ADP', 'ADJ', 'PUNCT']\n",
      "['Musharraf', 'went', 'on', 'to', 'play', 'nuclear', 'brinkmanship', 'with', 'India', 'in', '2002', ',', 'risking', 'war', 'twice', 'that', 'year', '.']\n",
      "['PROPN', 'VERB', 'ADV', 'PART', 'VERB', 'ADJ', 'NOUN', 'ADP', 'PROPN', 'ADP', 'NUM', 'PUNCT', 'VERB', 'NOUN', 'ADV', 'DET', 'NOUN', 'PUNCT']\n",
      "['Although', 'Musharraf', 'did', 'turn', 'against', 'the', 'Taliban', 'after', 'September', '11', ',', 'under', 'extreme', 'duress', 'from', 'the', 'US', ',', 'elements', 'of', 'his', 'military', 'continued', 'to', 'support', 'radical', 'Islamism', 'and', 'have', 'recently', 'been', 'implicated', 'in', 'assassination', 'attempts', 'on', 'Musharraf', 'himself', '.']\n",
      "['SCONJ', 'PROPN', 'AUX', 'VERB', 'ADP', 'DET', 'PROPN', 'ADP', 'PROPN', 'NUM', 'PUNCT', 'ADP', 'ADJ', 'NOUN', 'ADP', 'DET', 'PROPN', 'PUNCT', 'NOUN', 'ADP', 'PRON', 'NOUN', 'VERB', 'PART', 'VERB', 'ADJ', 'PROPN', 'CONJ', 'AUX', 'ADV', 'AUX', 'VERB', 'ADP', 'NOUN', 'NOUN', 'ADP', 'PROPN', 'PRON', 'PUNCT']\n",
      "['This', 'was', 'the', 'body', 'that', 'Bush', 'proclaimed', 'was', 'bringing', '\"', 'stability', '\"', 'to', 'the', 'region', 'in', 'fall', 'of', '1999', '.']\n",
      "['PRON', 'VERB', 'DET', 'NOUN', 'PRON', 'PROPN', 'VERB', 'AUX', 'VERB', 'PUNCT', 'NOUN', 'PUNCT', 'ADP', 'DET', 'NOUN', 'ADP', 'NOUN', 'ADP', 'NUM', 'PUNCT']\n",
      "['So', ',', 'one', 'answer', 'to', 'Bush', \"'s\", 'charge', 'about', 'Edwards', 'is', 'that', 'if', 'it', 'had', 'any', 'merit', ',', 'Bush', 'should', 'have', 'declined', 'to', 'run', 'himself', '.']\n",
      "['ADV', 'PUNCT', 'NUM', 'NOUN', 'ADP', 'PROPN', 'PART', 'NOUN', 'ADP', 'PROPN', 'VERB', 'SCONJ', 'SCONJ', 'PRON', 'VERB', 'DET', 'NOUN', 'PUNCT', 'PROPN', 'AUX', 'AUX', 'VERB', 'PART', 'VERB', 'PRON', 'PUNCT']\n",
      "['Another', 'answer', 'is', 'that', 'Edwards', 'certainly', 'knows', 'far', 'more', 'about', 'foreign', 'affairs', 'now', 'than', 'Bush', 'did', 'then', '.']\n",
      "['DET', 'NOUN', 'VERB', 'SCONJ', 'PROPN', 'ADV', 'VERB', 'ADV', 'ADJ', 'ADP', 'ADJ', 'NOUN', 'ADV', 'SCONJ', 'PROPN', 'AUX', 'ADV', 'PUNCT']\n",
      "['Indeed', ',', 'given', 'how', 'Bush', 'has', 'rampaged', 'around', 'the', 'world', 'alienating', 'allies', 'and', 'ignoring', 'vital', 'conflicts', 'with', 'the', 'potential', 'to', 'blow', 'back', 'on', 'the', 'US', ',', 'one', 'might', 'well', 'argue', 'that', 'Edwards', 'knows', 'more', 'now', 'than', 'Bush', 'does', '.']\n",
      "['ADV', 'PUNCT', 'VERB', 'ADV', 'PROPN', 'AUX', 'VERB', 'ADP', 'DET', 'NOUN', 'VERB', 'NOUN', 'CONJ', 'VERB', 'ADJ', 'NOUN', 'ADP', 'DET', 'NOUN', 'PART', 'VERB', 'ADV', 'ADP', 'DET', 'PROPN', 'PUNCT', 'PRON', 'AUX', 'ADV', 'VERB', 'SCONJ', 'PROPN', 'VERB', 'ADJ', 'ADV', 'SCONJ', 'PROPN', 'VERB', 'PUNCT']\n",
      "['This', 'is', 'what', 'Edwards', \"'\", 'campaign', 'literature', 'said', 'about', 'his', 'positions', ':', '\"', 'Edwards', 'believes', 'that', 'the', 'U.S.', 'must', 'be', 'an', 'active', 'leader', 'to', 'help', 'resolve', 'conflicts', ',', 'from', 'reducing', 'tensions', 'between', 'India', 'and', 'Pakistan', 'to', 'the', 'peace', 'process', 'in', 'Northern', 'Ireland', '.']\n",
      "['PRON', 'VERB', 'PRON', 'PROPN', 'PART', 'NOUN', 'NOUN', 'VERB', 'ADP', 'PRON', 'NOUN', 'PUNCT', 'PUNCT', 'PROPN', 'VERB', 'SCONJ', 'DET', 'PROPN', 'AUX', 'VERB', 'DET', 'ADJ', 'NOUN', 'PART', 'VERB', 'VERB', 'NOUN', 'PUNCT', 'SCONJ', 'VERB', 'NOUN', 'ADP', 'PROPN', 'CONJ', 'PROPN', 'ADP', 'DET', 'NOUN', 'NOUN', 'ADP', 'PROPN', 'PROPN', 'PUNCT']\n",
      "['Edwards', 'is', 'a', 'strong', 'supporter', 'of', 'Israel', ',', 'and', 'believes', 'that', 'the', 'U.S.', 'has', 'a', 'vital', 'role', 'in', 'promoting', 'peace', 'between', 'the', 'Israelis', 'and', 'the', 'Palestinians', '.', '\"']\n",
      "['PROPN', 'VERB', 'DET', 'ADJ', 'NOUN', 'ADP', 'PROPN', 'PUNCT', 'CONJ', 'VERB', 'SCONJ', 'DET', 'PROPN', 'VERB', 'DET', 'ADJ', 'NOUN', 'SCONJ', 'VERB', 'NOUN', 'ADP', 'DET', 'PROPN', 'CONJ', 'DET', 'PROPN', 'PUNCT', 'PUNCT']\n",
      "['I', 'do', \"n't\", 'see', 'Bush', 'doing', 'any', 'of', 'this', '.']\n",
      "['PRON', 'AUX', 'PART', 'VERB', 'PROPN', 'VERB', 'DET', 'ADP', 'PRON', 'PUNCT']\n",
      "['From', 'Friday', \"'s\", 'Daily', 'Star']\n",
      "['ADP', 'PROPN', 'PART', 'PROPN', 'PROPN']\n",
      "['By', 'Juan', 'Cole']\n",
      "['ADP', 'PROPN', 'PROPN']\n",
      "['Friday', ',', 'June', '04', ',', '2004']\n",
      "['PROPN', 'PUNCT', 'PROPN', 'NUM', 'PUNCT', 'NUM']\n",
      "['As', 'the', 'American', 'public', 'gradually', 'wearies', 'of', 'the', 'Iraq', 'crisis', ',', 'some', 'have', 'begun', 'worrying', 'that', 'the', 'war', 'could', 'blow', 'back', 'on', 'the', 'US', 'by', 'creating', 'the', 'conditions', 'for', 'anti-American', 'terrorism', '.']\n",
      "['SCONJ', 'DET', 'ADJ', 'NOUN', 'ADV', 'VERB', 'ADP', 'DET', 'PROPN', 'NOUN', 'PUNCT', 'DET', 'AUX', 'VERB', 'VERB', 'SCONJ', 'DET', 'NOUN', 'AUX', 'VERB', 'ADV', 'ADP', 'DET', 'PROPN', 'SCONJ', 'VERB', 'DET', 'NOUN', 'ADP', 'ADJ', 'NOUN', 'PUNCT']\n",
      "['Israel', ',', 'however', ',', 'is', 'much', 'closer', 'to', 'Iraq', 'and', 'is', 'likely', 'to', 'suffer', 'from', 'Iraqi', 'instability', 'much', 'more', 'acutely', 'than', 'will', 'the', 'United', 'States', '.']\n",
      "['PROPN', 'PUNCT', 'ADV', 'PUNCT', 'VERB', 'ADV', 'ADJ', 'ADP', 'PROPN', 'CONJ', 'VERB', 'ADJ', 'PART', 'VERB', 'ADP', 'ADJ', 'NOUN', 'ADV', 'ADV', 'ADV', 'SCONJ', 'AUX', 'DET', 'PROPN', 'PROPN', 'PUNCT']\n",
      "['Ironically', ',', 'among', 'the', 'strongest', 'proponents', 'of', 'war', 'in', 'Iraq', 'were', 'Israeli', 'Prime', 'Minister', 'Ariel', 'Sharon', 'and', 'his', 'neoconservative', 'supporters', 'in', 'the', 'US', '.']\n",
      "['ADV', 'PUNCT', 'ADP', 'DET', 'ADJ', 'NOUN', 'ADP', 'NOUN', 'ADP', 'PROPN', 'VERB', 'ADJ', 'PROPN', 'PROPN', 'PROPN', 'PROPN', 'CONJ', 'PRON', 'ADJ', 'NOUN', 'ADP', 'DET', 'PROPN', 'PUNCT']\n",
      "['Have', 'they', ',', 'however', ',', 'actually', 'weakened', 'Israeli', 'security', '?']\n",
      "['AUX', 'PRON', 'PUNCT', 'ADV', 'PUNCT', 'ADV', 'VERB', 'ADJ', 'NOUN', 'PUNCT']\n",
      "['The', 'biggest', 'threat', 'Israel', 'faces', 'is', 'not', 'from', 'conventional', 'armies', 'but', 'from', 'the', 'asymmetrical', 'tactics', 'of', 'Palestinian', 'national', 'liberation', 'movements', '.']\n",
      "['DET', 'ADJ', 'NOUN', 'PROPN', 'VERB', 'VERB', 'ADV', 'ADP', 'ADJ', 'NOUN', 'CONJ', 'ADP', 'DET', 'ADJ', 'NOUN', 'ADP', 'ADJ', 'ADJ', 'NOUN', 'NOUN', 'PUNCT']\n",
      "['The', 'derailing', 'of', 'the', 'Oslo', 'peace', 'process', 'by', 'the', 'hard', '-', 'line', 'policies', 'of', 'Sharon', 'and', 'the', 'Palestinian', 'intifada', 'has', 'encouraged', 'suicide', 'bombings', '.']\n",
      "['DET', 'NOUN', 'ADP', 'DET', 'PROPN', 'NOUN', 'NOUN', 'ADP', 'DET', 'ADJ', 'PUNCT', 'NOUN', 'NOUN', 'ADP', 'PROPN', 'CONJ', 'DET', 'ADJ', 'NOUN', 'AUX', 'VERB', 'NOUN', 'NOUN', 'PUNCT']\n",
      "['This', ',', 'in', 'turn', ',', 'has', 'discouraged', 'international', 'investment', 'in', 'Israel', 'and', 'has', 'made', 'it', 'less', 'likely', 'that', 'immigrants', 'to', 'the', 'country', 'will', 'actually', 'remain', 'there', '.']\n",
      "['PRON', 'PUNCT', 'ADP', 'NOUN', 'PUNCT', 'AUX', 'VERB', 'ADJ', 'NOUN', 'ADP', 'PROPN', 'CONJ', 'AUX', 'VERB', 'PRON', 'ADV', 'ADJ', 'SCONJ', 'NOUN', 'ADP', 'DET', 'NOUN', 'AUX', 'ADV', 'VERB', 'ADV', 'PUNCT']\n",
      "['Although', 'Israel', 'withdrew', 'from', 'Lebanese', 'territory', 'in', 'May', '2000', ',', 'the', 'radical', 'Lebanese', 'Shiite', 'party', ',', 'Hizbullah', ',', 'has', 'not', 'been', 'mollified', '.']\n",
      "['SCONJ', 'PROPN', 'VERB', 'ADP', 'ADJ', 'NOUN', 'ADP', 'PROPN', 'NUM', 'PUNCT', 'DET', 'ADJ', 'ADJ', 'ADJ', 'NOUN', 'PUNCT', 'PROPN', 'PUNCT', 'AUX', 'PART', 'AUX', 'VERB', 'PUNCT']\n",
      "['It', 'is', 'estimated', 'to', 'have', 'some', '5,000', 'armed', 'fighters', ',', 'and', 'they', 'have', 'pursued', 'attacks', 'against', 'Israeli', 'forces', 'to', 'compel', 'them', 'to', 'withdraw', 'from', 'the', 'Shebaa', 'Farms', ',', 'a', 'sliver', 'of', 'Syrian', 'territory', 'that', 'Israel', 'annexed', 'after', 'the', '1967', 'war', '.']\n",
      "['PRON', 'AUX', 'VERB', 'PART', 'VERB', 'DET', 'NUM', 'ADJ', 'NOUN', 'PUNCT', 'CONJ', 'PRON', 'AUX', 'VERB', 'NOUN', 'ADP', 'ADJ', 'NOUN', 'PART', 'VERB', 'PRON', 'PART', 'VERB', 'ADP', 'DET', 'PROPN', 'PROPN', 'PUNCT', 'DET', 'NOUN', 'ADP', 'ADJ', 'NOUN', 'PRON', 'PROPN', 'VERB', 'ADP', 'DET', 'NUM', 'NOUN', 'PUNCT']\n",
      "['Any', 'thorough', 'assessment', 'of', 'the', 'impact', 'of', 'the', 'Iraq', 'war', 'and', 'its', 'aftermath', 'on', 'Israel', \"'s\", 'security', 'environment', 'must', ',', 'therefore', ',', 'closely', 'examine', 'its', 'likely', 'effect', 'on', 'the', 'conduct', 'of', 'asymmetrical', 'warfare', '.']\n",
      "['DET', 'ADJ', 'NOUN', 'ADP', 'DET', 'NOUN', 'ADP', 'DET', 'PROPN', 'NOUN', 'CONJ', 'PRON', 'NOUN', 'ADP', 'PROPN', 'PART', 'NOUN', 'NOUN', 'AUX', 'PUNCT', 'ADV', 'PUNCT', 'ADV', 'VERB', 'PRON', 'ADJ', 'NOUN', 'ADP', 'DET', 'NOUN', 'ADP', 'ADJ', 'NOUN', 'PUNCT']\n",
      "['Although', 'it', 'is', 'often', 'alleged', '(', 'without', 'much', 'evidence', ')', 'that', 'Saddam', 'Hussein', 'gave', 'money', 'to', 'the', 'families', 'of', 'Palestinian', 'suicide', 'bombers', 'and', 'so', 'encouraged', 'asymmetrical', 'warfare', ',', 'it', 'is', 'not', 'clear', 'that', 'he', 'actually', 'posed', 'a', 'danger', 'to', 'Israel', '.']\n",
      "['SCONJ', 'PRON', 'AUX', 'ADV', 'VERB', 'PUNCT', 'ADP', 'ADJ', 'NOUN', 'PUNCT', 'SCONJ', 'PROPN', 'PROPN', 'VERB', 'NOUN', 'ADP', 'DET', 'NOUN', 'ADP', 'ADJ', 'NOUN', 'NOUN', 'CONJ', 'ADV', 'VERB', 'ADJ', 'NOUN', 'PUNCT', 'PRON', 'VERB', 'PART', 'ADJ', 'SCONJ', 'PRON', 'ADV', 'VERB', 'DET', 'NOUN', 'ADP', 'PROPN', 'PUNCT']\n",
      "['The', 'Palestinians', 'who', 'have', 'been', 'willing', 'to', 'kill', 'themselves', 'to', 'end', 'the', 'Israeli', 'occupation', 'of', 'the', 'Gaza', 'Strip', 'and', 'the', 'West', 'Bank', 'were', 'not', 'driven', 'by', 'economic', 'considerations', '.']\n",
      "['DET', 'PROPN', 'PRON', 'AUX', 'VERB', 'ADJ', 'PART', 'VERB', 'PRON', 'PART', 'VERB', 'DET', 'ADJ', 'NOUN', 'ADP', 'DET', 'PROPN', 'PROPN', 'CONJ', 'DET', 'PROPN', 'PROPN', 'AUX', 'PART', 'VERB', 'ADP', 'ADJ', 'NOUN', 'PUNCT']\n",
      "['Saddam', 'never', 'did', 'anything', 'practical', 'to', 'help', 'the', 'Palestinians', '.']\n",
      "['PROPN', 'ADV', 'VERB', 'PRON', 'ADJ', 'PART', 'VERB', 'DET', 'PROPN', 'PUNCT']\n",
      "['At', 'some', 'points', ',', 'as', 'in', 'the', 'late', '1980s', ',', 'he', 'reportedly', 'made', 'behind', '-', 'the', '-', 'scenes', 'overtures', 'to', 'the', 'Israelis', 'to', 'arrive', 'at', 'some', 'sort', 'of', 'a', 'deal', '.']\n",
      "['ADP', 'DET', 'NOUN', 'PUNCT', 'ADP', 'ADP', 'DET', 'ADJ', 'NOUN', 'PUNCT', 'PRON', 'ADV', 'VERB', 'ADP', 'PUNCT', 'DET', 'PUNCT', 'NOUN', 'NOUN', 'ADP', 'DET', 'PROPN', 'PART', 'VERB', 'ADP', 'DET', 'NOUN', 'ADP', 'DET', 'NOUN', 'PUNCT']\n",
      "['He', 'did', 'not', 'allow', 'Palestinian', 'radicals', 'to', 'launch', 'operations', 'against', 'Israel', 'from', 'Iraq', '.']\n",
      "['PRON', 'AUX', 'PART', 'VERB', 'ADJ', 'NOUN', 'PART', 'VERB', 'NOUN', 'ADP', 'PROPN', 'ADP', 'PROPN', 'PUNCT']\n",
      "['By', 'the', 'late', '1990s', ',', 'Iraq', 'had', 'no', 'nuclear', 'or', 'biological', 'weapons', 'program', ',', 'and', 'had', 'destroyed', 'its', 'chemical', 'weapons', 'stockpiles', '.']\n",
      "['ADP', 'DET', 'ADJ', 'NOUN', 'PUNCT', 'PROPN', 'VERB', 'DET', 'ADJ', 'CONJ', 'ADJ', 'NOUN', 'NOUN', 'PUNCT', 'CONJ', 'AUX', 'VERB', 'PRON', 'ADJ', 'NOUN', 'NOUN', 'PUNCT']\n",
      "['Its', 'ramshackle', 'army', 'had', 'virtually', 'collapsed', 'before', 'the', 'American', 'invasion', 'in', '2003', '.']\n",
      "['PRON', 'ADJ', 'NOUN', 'AUX', 'ADV', 'VERB', 'ADP', 'DET', 'ADJ', 'NOUN', 'ADP', 'NUM', 'PUNCT']\n",
      "['If', 'it', 'is', 'hard', 'to', 'see', 'how', 'Baathist', 'Iraq', 'posed', 'any', 'real', 'threat', 'to', 'Israel', ',', 'it', 'is', 'not', 'so', 'difficult', 'to', 'see', 'a', 'menace', 'in', 'the', 'current', 'instability', '.']\n",
      "['SCONJ', 'PRON', 'VERB', 'ADJ', 'PART', 'VERB', 'ADV', 'ADJ', 'PROPN', 'VERB', 'DET', 'ADJ', 'NOUN', 'ADP', 'PROPN', 'PUNCT', 'PRON', 'VERB', 'PART', 'ADV', 'ADJ', 'PART', 'VERB', 'DET', 'NOUN', 'ADP', 'DET', 'ADJ', 'NOUN', 'PUNCT']\n",
      "['The', 'bungling', 'of', 'post-war', 'Iraq', 'by', 'the', 'Bush', 'administration', 'created', 'a', 'weak', 'and', 'failed', 'state', '.']\n",
      "['DET', 'NOUN', 'ADP', 'ADJ', 'PROPN', 'ADP', 'DET', 'PROPN', 'NOUN', 'VERB', 'DET', 'ADJ', 'CONJ', 'VERB', 'NOUN', 'PUNCT']\n",
      "['Armed', 'militias', ',', 'many', 'staffed', 'by', 'former', 'Iraqi', 'military', 'men', 'with', 'substantial', 'training', 'and', 'experience', ',', 'have', 'proliferated', '.']\n",
      "['ADJ', 'NOUN', 'PUNCT', 'ADJ', 'VERB', 'ADP', 'ADJ', 'ADJ', 'ADJ', 'NOUN', 'ADP', 'ADJ', 'NOUN', 'CONJ', 'NOUN', 'PUNCT', 'AUX', 'VERB', 'PUNCT']\n",
      "['The', 'US', 'chose', 'to', 'ally', 'itself', 'with', 'such', 'groups', 'as', 'the', 'Supreme', 'Council', 'for', 'the', 'Islamic', 'Revolution', 'in', 'Iraq', ',', 'whose', '15,000', '-', 'strong', 'Badr', 'Corps', 'paramilitary', 'was', 'trained', 'by', 'the', 'Iranian', 'Revolutionary', 'Guards', '.']\n",
      "['DET', 'PROPN', 'VERB', 'PART', 'VERB', 'PRON', 'ADP', 'ADJ', 'NOUN', 'ADP', 'DET', 'PROPN', 'PROPN', 'ADP', 'DET', 'PROPN', 'PROPN', 'ADP', 'PROPN', 'PUNCT', 'PRON', 'NUM', 'PUNCT', 'ADJ', 'PROPN', 'PROPN', 'NOUN', 'AUX', 'VERB', 'ADP', 'DET', 'PROPN', 'PROPN', 'PROPN', 'PUNCT']\n",
      "['Anti-Israeli', 'and', 'pro-Palestinian', 'feeling', 'is', 'strong', 'among', 'several', 'major', 'Iraqi', 'ideological', 'groups', 'and', 'currents', '.']\n",
      "['ADJ', 'CONJ', 'ADJ', 'NOUN', 'VERB', 'ADJ', 'ADP', 'ADJ', 'ADJ', 'ADJ', 'ADJ', 'NOUN', 'CONJ', 'NOUN', 'PUNCT']\n",
      "['The', 'more', 'radical', 'Shiites', ',', 'who', 'generally', 'follow', 'the', 'theocratic', 'notions', 'of', 'Iran', \"'s\", 'Ayatollah', 'Ruhollah', 'Khomeini', ',', 'routinely', 'chant', 'and', 'demonstrate', 'against', 'Israel', '.']\n",
      "['DET', 'ADV', 'ADJ', 'PROPN', 'PUNCT', 'PRON', 'ADV', 'VERB', 'DET', 'ADJ', 'NOUN', 'ADP', 'PROPN', 'PART', 'PROPN', 'PROPN', 'PROPN', 'PUNCT', 'ADV', 'VERB', 'CONJ', 'VERB', 'ADP', 'PROPN', 'PUNCT']\n",
      "['They', 'vehemently', 'protested', 'the', 'Israeli', 'assassination', 'of', 'Sheikh', 'Ahmed', 'Yassin', ',', 'the', 'leader', 'of', 'Hamas', ',', 'last', 'March', '.']\n",
      "['PRON', 'ADV', 'VERB', 'DET', 'ADJ', 'NOUN', 'ADP', 'PROPN', 'PROPN', 'PROPN', 'PUNCT', 'DET', 'NOUN', 'ADP', 'PROPN', 'PUNCT', 'ADJ', 'PROPN', 'PUNCT']\n",
      "['Worse', 'for', 'Israel', ',', 'the', 'assassination', 'drew', 'a', 'denunciation', 'even', 'from', 'the', 'moderate', 'and', 'cautious', 'Grand', 'Ayatollah', 'Ali', 'Sistani', ',', 'who', 'wields', 'enormous', 'moral', 'authority', 'over', 'Iraqi', 'Shiites', '.']\n",
      "['ADJ', 'ADP', 'PROPN', 'PUNCT', 'DET', 'NOUN', 'VERB', 'DET', 'NOUN', 'ADV', 'ADP', 'DET', 'ADJ', 'CONJ', 'ADJ', 'PROPN', 'PROPN', 'PROPN', 'PROPN', 'PUNCT', 'PRON', 'VERB', 'ADJ', 'ADJ', 'NOUN', 'ADP', 'ADJ', 'PROPN', 'PUNCT']\n",
      "['These', 'Shiite', 'movements', 'had', 'been', 'suppressed', 'by', 'Saddam', 'Hussein', \"'s\", 'regime', ',', 'but', 'have', 'now', 'organized', 'and', 'armed', 'themselves', '.']\n",
      "['DET', 'ADJ', 'NOUN', 'AUX', 'AUX', 'VERB', 'ADP', 'PROPN', 'PROPN', 'PART', 'NOUN', 'PUNCT', 'CONJ', 'AUX', 'ADV', 'VERB', 'CONJ', 'VERB', 'PRON', 'PUNCT']\n",
      "['They', 'have', 'also', 'reestablished', 'their', 'historical', 'links', 'with', 'Lebanese', 'and', 'Iranian', 'Shiites', '.']\n",
      "['PRON', 'AUX', 'ADV', 'VERB', 'PRON', 'ADJ', 'NOUN', 'ADP', 'ADJ', 'CONJ', 'ADJ', 'PROPN', 'PUNCT']\n",
      "['It', 'is', 'inevitable', 'that', 'most', 'Iraqi', 'Shiites', 'will', 'side', 'with', 'their', 'Hizbullah', 'coreligionists', 'against', 'Israel', ',', 'and', 'it', 'seems', 'likely', 'that', 'Iraqi', 'Shiites', 'will', 'get', 'rich', 'enough', 'from', 'Iraqi', 'petroleum', 'sales', 'in', 'the', 'future', 'that', 'they', 'will', 'be', 'in', 'a', 'good', 'position', 'to', 'bankroll', 'Lebanese', 'Shiite', 'radicals', '.']\n",
      "['PRON', 'VERB', 'ADJ', 'SCONJ', 'ADJ', 'ADJ', 'PROPN', 'AUX', 'VERB', 'ADP', 'PRON', 'PROPN', 'NOUN', 'ADP', 'PROPN', 'PUNCT', 'CONJ', 'PRON', 'VERB', 'ADJ', 'SCONJ', 'ADJ', 'PROPN', 'AUX', 'VERB', 'ADJ', 'ADV', 'ADP', 'ADJ', 'NOUN', 'NOUN', 'ADP', 'DET', 'NOUN', 'SCONJ', 'PRON', 'AUX', 'VERB', 'ADP', 'DET', 'ADJ', 'NOUN', 'PART', 'VERB', 'ADJ', 'ADJ', 'NOUN', 'PUNCT']\n",
      "['Sunni', 'Arab', 'fundamentalists', 'deeply', 'sympathize', 'with', 'the', 'Palestinians', 'and', 'with', 'Hamas', ',', 'and', 'those', 'in', 'Iraq', 'have', 'deep', 'historical', 'inks', 'with', 'fundamentalists', 'in', 'Jordan', 'and', 'Palestine', '.']\n",
      "['ADJ', 'ADJ', 'NOUN', 'ADV', 'VERB', 'ADP', 'DET', 'PROPN', 'CONJ', 'ADP', 'PROPN', 'PUNCT', 'CONJ', 'PRON', 'ADP', 'PROPN', 'VERB', 'VERB', 'ADJ', 'NOUN', 'ADP', 'NOUN', 'ADP', 'PROPN', 'CONJ', 'PROPN', 'PUNCT']\n",
      "['Iraqi', 'cities', 'such', 'as', 'Fallujah', 'and', 'Ramadi', 'were', 'on', 'the', 'truck', 'route', 'from', 'Amman', 'to', 'Baghdad', ',', 'and', 'so', 'came', 'under', 'the', 'influence', 'of', 'the', 'Salafi', 'movement', ',', 'which', 'is', 'popular', 'in', 'Jordan', '.']\n",
      "['ADJ', 'NOUN', 'ADJ', 'ADP', 'PROPN', 'CONJ', 'PROPN', 'VERB', 'ADP', 'DET', 'NOUN', 'NOUN', 'ADP', 'PROPN', 'ADP', 'PROPN', 'PUNCT', 'CONJ', 'ADV', 'VERB', 'ADP', 'DET', 'NOUN', 'ADP', 'DET', 'PROPN', 'NOUN', 'PUNCT', 'PRON', 'VERB', 'ADJ', 'ADP', 'PROPN', 'PUNCT']\n",
      "['Secular', 'Arab', 'nationalist', 'groups', 'also', 'universally', 'sympathize', 'with', 'the', 'Palestinians', ',', 'and', 'those', 'in', 'post-Saddam', 'Iraq', 'are', 'no', 'exception', '.']\n",
      "['ADJ', 'ADJ', 'NOUN', 'NOUN', 'ADV', 'ADV', 'VERB', 'ADP', 'DET', 'PROPN', 'PUNCT', 'CONJ', 'PRON', 'ADP', 'ADJ', 'PROPN', 'VERB', 'DET', 'NOUN', 'PUNCT']\n",
      "['Whereas', 'Saddam', 'Hussein', \"'s\", 'dictatorship', 'ensured', 'that', 'such', 'populist', 'currents', 'were', 'kept', 'firmly', 'under', 'control', ',', 'they', 'are', 'now', 'free', 'to', 'organize', '.']\n",
      "['SCONJ', 'PROPN', 'PROPN', 'PART', 'NOUN', 'VERB', 'SCONJ', 'ADJ', 'ADJ', 'NOUN', 'AUX', 'VERB', 'ADV', 'ADP', 'NOUN', 'PUNCT', 'PRON', 'VERB', 'ADV', 'ADJ', 'PART', 'VERB', 'PUNCT']\n",
      "['An', 'Iraq', 'in', 'which', 'armed', 'fundamentalist', 'and', 'nationalist', 'militias', 'proliferate', 'is', 'inevitably', 'a', 'security', 'worry', 'for', 'Israel', '.']\n",
      "['DET', 'PROPN', 'ADP', 'PRON', 'ADJ', 'ADJ', 'CONJ', 'ADJ', 'NOUN', 'VERB', 'VERB', 'ADV', 'DET', 'NOUN', 'NOUN', 'ADP', 'PROPN', 'PUNCT']\n",
      "['If', 'even', 'a', 'modicum', 'of', 'normality', 'and', 'security', 'can', 'be', 'returned', 'to', 'Iraq', ',', 'its', 'citizens', 'will', 'be', 'able', 'to', 'benefit', 'from', 'the', 'country', \"'s\", 'petroleum', 'reserves', '.']\n",
      "['SCONJ', 'ADV', 'DET', 'NOUN', 'ADP', 'NOUN', 'CONJ', 'NOUN', 'AUX', 'AUX', 'VERB', 'ADP', 'PROPN', 'PUNCT', 'PRON', 'NOUN', 'AUX', 'VERB', 'ADJ', 'PART', 'VERB', 'ADP', 'DET', 'NOUN', 'PART', 'NOUN', 'NOUN', 'PUNCT']\n",
      "['That', 'private', 'wealth', 'can', 'easily', 'be', 'funneled', 'into', 'aid', 'for', 'the', 'Palestinians', 'and', 'for', 'Lebanese', 'Shiites', '.']\n",
      "['DET', 'ADJ', 'NOUN', 'AUX', 'ADV', 'AUX', 'VERB', 'ADP', 'NOUN', 'ADP', 'DET', 'PROPN', 'CONJ', 'ADP', 'ADJ', 'PROPN', 'PUNCT']\n",
      "['Israel', \"'s\", 'security', 'interests', 'are', 'best', 'served', 'by', 'peace', 'with', 'its', 'neighbors', ',', 'which', 'can', 'only', 'be', 'achieved', 'by', 'trading', 'land', 'for', 'peace', 'with', 'the', 'Palestinians', '.']\n",
      "['PROPN', 'PART', 'NOUN', 'NOUN', 'AUX', 'ADV', 'VERB', 'ADP', 'NOUN', 'ADP', 'PRON', 'NOUN', 'PUNCT', 'PRON', 'AUX', 'ADV', 'AUX', 'VERB', 'SCONJ', 'VERB', 'NOUN', 'ADP', 'NOUN', 'ADP', 'DET', 'PROPN', 'PUNCT']\n",
      "['Ariel', 'Sharon', \"'s\", 'aggressive', 'near', 'annexation', 'of', 'almost', 'half', 'of', 'the', 'occupied', 'West', 'Bank', 'and', 'his', 'indefinite', 'postponement', 'of', 'any', 'Palestinian', 'state', 'have', 'created', 'unprecedented', 'rage', 'and', 'violence', '.']\n",
      "['PROPN', 'PROPN', 'PART', 'ADJ', 'ADJ', 'NOUN', 'ADP', 'ADV', 'NOUN', 'ADP', 'DET', 'VERB', 'PROPN', 'PROPN', 'CONJ', 'PRON', 'ADJ', 'NOUN', 'ADP', 'DET', 'ADJ', 'NOUN', 'AUX', 'VERB', 'ADJ', 'NOUN', 'CONJ', 'NOUN', 'PUNCT']\n",
      "['The', 'anger', 'has', 'spread', 'throughout', 'the', 'Muslim', 'world', ',', 'including', 'Iraq', '.']\n",
      "['DET', 'NOUN', 'AUX', 'VERB', 'ADP', 'DET', 'ADJ', 'NOUN', 'PUNCT', 'VERB', 'PROPN', 'PUNCT']\n",
      "['The', 'promotion', 'by', 'the', 'pro-Zionist', 'right', 'of', 'twin', 'occupations', '-', 'in', 'the', 'West', 'Bank', 'and', 'in', 'Iraq', '-', 'has', 'profoundly', 'weakened', ',', 'not', 'strengthened', ',', 'Israeli', 'security', '.']\n",
      "['DET', 'NOUN', 'ADP', 'DET', 'ADJ', 'NOUN', 'ADP', 'NOUN', 'NOUN', 'PUNCT', 'ADP', 'DET', 'PROPN', 'PROPN', 'CONJ', 'ADP', 'PROPN', 'PUNCT', 'AUX', 'ADV', 'VERB', 'PUNCT', 'PART', 'VERB', 'PUNCT', 'ADJ', 'NOUN', 'PUNCT']\n",
      "['Juan', 'Cole', '(', 'www.juancole.com', ')', 'is', 'a', 'professor', 'of', 'modern', 'Middle', 'East', 'history', 'at', 'the', 'University', 'of', 'Michigan', 'and', 'author', 'of', '\"', 'Sacred', 'Space', 'and', 'Holy', 'War', '\"', '(', 'I.B.', 'Tauris', ',', '2002', ')', '.']\n",
      "['PROPN', 'PROPN', 'PUNCT', 'X', 'PUNCT', 'VERB', 'DET', 'NOUN', 'ADP', 'ADJ', 'PROPN', 'PROPN', 'NOUN', 'ADP', 'DET', 'PROPN', 'ADP', 'PROPN', 'CONJ', 'NOUN', 'ADP', 'PUNCT', 'PROPN', 'PROPN', 'CONJ', 'PROPN', 'PROPN', 'PUNCT', 'PUNCT', 'PROPN', 'PROPN', 'PUNCT', 'NUM', 'PUNCT', 'PUNCT']\n",
      "['THE', 'DAILY', 'STAR', 'publishes', 'this', 'commentary', 'in', 'agreement', 'with', 'Agence', 'Global']\n",
      "['DET', 'PROPN', 'PROPN', 'VERB', 'DET', 'NOUN', 'ADP', 'NOUN', 'ADP', 'PROPN', 'PROPN']\n",
      "['Tamils', 'feel', 'that', 'the', 'proposed', 'defense', 'agreement', 'between', 'India', 'and', 'Sri', 'Lanka', 'would', 'encourage', 'Sinhala', 'rulers', 'to', 'prepare', 'for', 'another', 'war', 'abandoning', 'the', 'current', 'peace', 'process']\n",
      "['PROPN', 'VERB', 'SCONJ', 'DET', 'VERB', 'NOUN', 'NOUN', 'ADP', 'PROPN', 'CONJ', 'PROPN', 'PROPN', 'AUX', 'VERB', 'ADJ', 'NOUN', 'PART', 'VERB', 'ADP', 'DET', 'NOUN', 'VERB', 'DET', 'ADJ', 'NOUN', 'NOUN']\n",
      "['But', 'there', 'are', 'strong', 'hints', 'in', 'the', 'country', 'that', 'a', 'new', 'Indo', '-', 'Sri', 'Lanka', 'defense', 'deal', 'could', 'be', 'in', 'the', 'making', '.']\n",
      "['CONJ', 'PRON', 'VERB', 'ADJ', 'NOUN', 'ADP', 'DET', 'NOUN', 'SCONJ', 'DET', 'ADJ', 'X', 'PUNCT', 'PROPN', 'PROPN', 'NOUN', 'NOUN', 'AUX', 'VERB', 'ADP', 'DET', 'NOUN', 'PUNCT']\n",
      "['And', 'this', 'has', 'already', 'drawn', 'protests', 'from', 'the', 'Tamil', 'National', 'Alliance', '(', 'TNA', ')', 'which', 'was', 'backed', 'by', 'the', 'LTTE', 'in', 'the', 'April', 'general', 'elections', 'held', 'in', 'Sri', 'Lanka', '.']\n",
      "['CONJ', 'PRON', 'AUX', 'ADV', 'VERB', 'NOUN', 'ADP', 'DET', 'PROPN', 'PROPN', 'PROPN', 'PUNCT', 'PROPN', 'PUNCT', 'PRON', 'AUX', 'VERB', 'ADP', 'DET', 'PROPN', 'ADP', 'DET', 'PROPN', 'ADJ', 'NOUN', 'VERB', 'ADP', 'PROPN', 'PROPN', 'PUNCT']\n",
      "['Apart', 'from', 'the', '1,200', 'Indian', 'lives', 'lost', 'in', '1987', ',', 'the', 'Indian', 'peacekeeping', 'force', 'was', 'immensely', 'unpopular', 'not', 'only', 'in', 'Tamil', 'Nadu', 'and', 'the', 'Jaffna', 'peninsula', 'but', 'also', 'among', 'the', 'Sinhalese', 'majority', 'who', 'considered', 'it', 'a', 'violation', 'of', 'their', 'country', \"'s\", 'sovereignty', '.']\n",
      "['ADV', 'ADP', 'DET', 'NUM', 'ADJ', 'NOUN', 'VERB', 'ADP', 'NUM', 'PUNCT', 'DET', 'ADJ', 'NOUN', 'NOUN', 'VERB', 'ADV', 'ADJ', 'ADV', 'ADV', 'ADP', 'PROPN', 'PROPN', 'CONJ', 'DET', 'PROPN', 'NOUN', 'CONJ', 'ADV', 'ADP', 'DET', 'ADJ', 'NOUN', 'PRON', 'VERB', 'PRON', 'DET', 'NOUN', 'ADP', 'PRON', 'NOUN', 'PART', 'NOUN', 'PUNCT']\n",
      "['India', 'defensive', 'over', 'Sri', 'Lanka']\n",
      "['PROPN', 'ADJ', 'ADP', 'PROPN', 'PROPN']\n",
      "['By', 'Ranjit', 'Devraj']\n",
      "['ADP', 'PROPN', 'PROPN']\n",
      "['NEW', 'DELHI', '-']\n",
      "['PROPN', 'PROPN', 'PUNCT']\n",
      "['While', 'India', 'is', 'ready', 'to', 'enter', 'into', 'a', '\"', 'defense', 'cooperation', 'agreement', '\"', 'with', 'Sri', 'Lanka', ',', 'it', 'is', 'wary', 'of', 'being', 'drawn', 'into', 'any', 'military', 'involvement', 'in', 'the', 'island', 'nation', \"'s\", 'two', 'decades', '-', 'old', 'civil', 'war', 'that', 'has', 'seen', 'violent', 'strife', 'between', 'ethnic', 'Tamils', 'and', 'the', 'Sinhalese', 'majority', '-', 'leaving', 'over', '60,000', 'dead', 'on', 'both', 'sides', '.']\n",
      "['SCONJ', 'PROPN', 'VERB', 'ADJ', 'PART', 'VERB', 'ADP', 'DET', 'PUNCT', 'NOUN', 'NOUN', 'NOUN', 'PUNCT', 'ADP', 'PROPN', 'PROPN', 'PUNCT', 'PRON', 'VERB', 'ADJ', 'SCONJ', 'AUX', 'VERB', 'ADP', 'DET', 'ADJ', 'NOUN', 'ADP', 'DET', 'NOUN', 'NOUN', 'PART', 'NUM', 'NOUN', 'PUNCT', 'ADJ', 'ADJ', 'NOUN', 'PRON', 'AUX', 'VERB', 'ADJ', 'NOUN', 'ADP', 'ADJ', 'PROPN', 'CONJ', 'DET', 'ADJ', 'NOUN', 'PUNCT', 'VERB', 'ADV', 'NUM', 'ADJ', 'ADP', 'DET', 'NOUN', 'PUNCT']\n",
      "['And', 'that', 'explains', 'the', 'delay', 'in', 'the', 'signing', 'of', 'a', 'formal', 'defense', 'agreement', 'that', 'was', 'at', 'the', 'heart', 'of', 'Sri', 'Lankan', 'President', 'Chandrika', 'Kumaratunga', \"'s\", 'four', '-', 'day', 'visit', 'to', 'India', 'recently', '.']\n",
      "['CONJ', 'PRON', 'VERB', 'DET', 'NOUN', 'ADP', 'DET', 'NOUN', 'ADP', 'DET', 'ADJ', 'NOUN', 'NOUN', 'PRON', 'VERB', 'ADP', 'DET', 'NOUN', 'ADP', 'ADJ', 'ADJ', 'PROPN', 'PROPN', 'PROPN', 'PART', 'NUM', 'PUNCT', 'NOUN', 'NOUN', 'ADP', 'PROPN', 'ADV', 'PUNCT']\n",
      "['According', 'to', 'Professor', 'S', 'D', 'Muni', ',', 'South', 'Asia', 'expert', 'at', 'the', 'Jawaharal', 'Nehru', 'University', ',', 'the', 'two', '-', 'year', 'peace', 'talks', 'between', 'Colombo', 'and', 'the', 'Liberation', 'Tigers', 'of', 'Tamil', 'Eelam', '(', 'LTTE', ')', 'are', 'stalemated', '.']\n",
      "['VERB', 'ADP', 'PROPN', 'PROPN', 'PROPN', 'PROPN', 'PUNCT', 'PROPN', 'PROPN', 'NOUN', 'ADP', 'DET', 'PROPN', 'PROPN', 'PROPN', 'PUNCT', 'DET', 'NUM', 'PUNCT', 'NOUN', 'NOUN', 'NOUN', 'ADP', 'PROPN', 'CONJ', 'DET', 'PROPN', 'PROPN', 'ADP', 'PROPN', 'PROPN', 'PUNCT', 'PROPN', 'PUNCT', 'AUX', 'VERB', 'PUNCT']\n",
      "['For', 'that', 'reason', ',', 'he', 'said', ',', 'Kumaratunga', \"'s\", 'government', 'was', 'keen', 'to', 'beef', 'up', 'military', 'preparedness', 'with', 'Indian', 'support', '.']\n",
      "['ADP', 'DET', 'NOUN', 'PUNCT', 'PRON', 'VERB', 'PUNCT', 'PROPN', 'PART', 'NOUN', 'VERB', 'ADJ', 'PART', 'VERB', 'ADP', 'ADJ', 'NOUN', 'ADP', 'ADJ', 'NOUN', 'PUNCT']\n",
      "['\"', 'The', 'Sri', 'Lankan', 'government', 'does', 'not', 'want', 'to', 'initiate', 'a', 'conflict', 'but', 'would', 'be', 'interested', 'in', 'deterring', 'the', 'LTTE', 'from', 'starting', 'one', '.']\n",
      "['PUNCT', 'DET', 'ADJ', 'ADJ', 'NOUN', 'AUX', 'PART', 'VERB', 'PART', 'VERB', 'DET', 'NOUN', 'CONJ', 'AUX', 'VERB', 'ADJ', 'SCONJ', 'VERB', 'DET', 'PROPN', 'SCONJ', 'VERB', 'NUM', 'PUNCT']\n",
      "['And', 'the', 'Tigers', 'look', 'as', 'if', 'they', 'are', 'on', 'the', 'brink', 'of', 'launching', 'another', 'offensive', ',', '\"', 'Muni', 'told', 'IPS', '.']\n",
      "['CONJ', 'DET', 'PROPN', 'VERB', 'SCONJ', 'SCONJ', 'PRON', 'VERB', 'ADP', 'DET', 'NOUN', 'SCONJ', 'VERB', 'DET', 'NOUN', 'PUNCT', 'PUNCT', 'PROPN', 'VERB', 'PROPN', 'PUNCT']\n",
      "['Colombo', 'held', 'six', 'rounds', 'of', 'talks', 'with', 'the', 'Tigers', 'between', 'September', '2002', 'and', 'March', '2003', '.']\n",
      "['PROPN', 'VERB', 'NUM', 'NOUN', 'ADP', 'NOUN', 'ADP', 'DET', 'PROPN', 'ADP', 'PROPN', 'NUM', 'CONJ', 'PROPN', 'NUM', 'PUNCT']\n",
      "['But', 'last', 'April', ',', 'the', 'rebels', 'abruptly', 'pulled', 'out', 'of', 'negotiations', 'demanding', 'recognition', ',', 'first', ',', 'for', 'the', 'right', 'to', 'self', '-', 'rule', 'before', 'proceeding', 'any', 'further', '.']\n",
      "['CONJ', 'ADJ', 'PROPN', 'PUNCT', 'DET', 'NOUN', 'ADV', 'VERB', 'ADP', 'ADP', 'NOUN', 'VERB', 'NOUN', 'PUNCT', 'ADV', 'PUNCT', 'ADP', 'DET', 'NOUN', 'ADP', 'NOUN', 'PUNCT', 'NOUN', 'SCONJ', 'VERB', 'ADV', 'ADV', 'PUNCT']\n",
      "['Kumaratunga', \"'s\", 'India', 'tour', 'preceded', 'a', 'three', '-', 'day', 'visit', 'to', 'Sri', 'Lanka', 'by', 'Norwegian', 'Foreign', 'Minister', 'Jan', 'Petersen', 'in', 'a', 'new', 'bid', 'to', 'revive', 'the', 'peace', 'talks', 'that', 'were', 'supposed', 'to', 'follow', 'a', 'ceasefire', 'that', 'Oslo', 'successfully', 'brokered', 'in', 'February', '2002', '.']\n",
      "['PROPN', 'PART', 'PROPN', 'NOUN', 'VERB', 'DET', 'NUM', 'PUNCT', 'NOUN', 'NOUN', 'ADP', 'PROPN', 'PROPN', 'ADP', 'ADJ', 'PROPN', 'PROPN', 'PROPN', 'PROPN', 'ADP', 'DET', 'ADJ', 'NOUN', 'PART', 'VERB', 'DET', 'NOUN', 'NOUN', 'PRON', 'AUX', 'VERB', 'PART', 'VERB', 'DET', 'NOUN', 'PRON', 'PROPN', 'ADV', 'VERB', 'ADP', 'PROPN', 'NUM', 'PUNCT']\n",
      "['Petersen', 'held', 'discussions', 'with', 'both', 'Kumaratunga', 'and', 'the', 'reclusive', 'LTTE', 'leader', 'Velupillai', 'Prabhakaran', 'in', 'the', 'rebel', 'stronghold', 'of', 'Kilinochchi', 'without', 'success', ',', 'and', 'chief', 'Tamil', 'rebel', 'negotiator', 'Anton', 'Balasingham', 'and', 'Norwegian', 'envoy', 'Erik', 'Solheim', 'held', 'closed', '-', 'door', 'talks', 'at', 'the', 'international', 'airport', 'late', 'Saturday', 'in', 'an', 'effort', 'to', 'keep', 'the', 'salvage', 'effort', 'on', 'track', ',', 'diplomatic', 'sources', 'said', '.']\n",
      "['PROPN', 'VERB', 'NOUN', 'ADP', 'CONJ', 'PROPN', 'CONJ', 'DET', 'ADJ', 'PROPN', 'NOUN', 'PROPN', 'PROPN', 'ADP', 'DET', 'NOUN', 'NOUN', 'ADP', 'PROPN', 'ADP', 'NOUN', 'PUNCT', 'CONJ', 'ADJ', 'ADJ', 'NOUN', 'NOUN', 'PROPN', 'PROPN', 'CONJ', 'ADJ', 'NOUN', 'PROPN', 'PROPN', 'VERB', 'VERB', 'PUNCT', 'NOUN', 'NOUN', 'ADP', 'DET', 'ADJ', 'NOUN', 'ADV', 'PROPN', 'ADP', 'DET', 'NOUN', 'PART', 'VERB', 'DET', 'NOUN', 'NOUN', 'ADP', 'NOUN', 'PUNCT', 'ADJ', 'NOUN', 'VERB', 'PUNCT']\n",
      "['But', 'they', ',', 'too', ',', 'failed', '.']\n",
      "['CONJ', 'PRON', 'PUNCT', 'ADV', 'PUNCT', 'VERB', 'PUNCT']\n",
      "['Colombo', ',', 'too', ',', 'seems', 'to', 'be', 'in', 'an', 'intractable', 'position', '.']\n",
      "['PROPN', 'PUNCT', 'ADV', 'PUNCT', 'VERB', 'PART', 'VERB', 'ADP', 'DET', 'ADJ', 'NOUN', 'PUNCT']\n",
      "['According', 'to', 'former', 'Indian', 'army', 'general', 'A', 'S', 'Kalkat', ',', 'the', 'difficulty', 'for', 'Kumaratunga', \"'s\", 'government', 'lay', 'in', 'the', 'fact', 'that', 'the', 'LTTE', 'had', 'become', 'a', 'de', 'jure', 'power', 'in', 'the', 'north', 'and', 'east', 'of', 'the', 'island', 'and', 'was', 'running', 'every', 'aspect', 'of', 'civil', 'administration', 'in', 'the', 'areas', 'within', 'its', 'control', '.']\n",
      "['VERB', 'ADP', 'ADJ', 'ADJ', 'NOUN', 'NOUN', 'PROPN', 'PROPN', 'PROPN', 'PUNCT', 'DET', 'NOUN', 'ADP', 'PROPN', 'PART', 'NOUN', 'VERB', 'ADP', 'DET', 'NOUN', 'SCONJ', 'DET', 'PROPN', 'AUX', 'VERB', 'DET', 'X', 'X', 'NOUN', 'ADP', 'DET', 'NOUN', 'CONJ', 'NOUN', 'ADP', 'DET', 'NOUN', 'CONJ', 'AUX', 'VERB', 'DET', 'NOUN', 'ADP', 'ADJ', 'NOUN', 'ADP', 'DET', 'NOUN', 'ADP', 'PRON', 'NOUN', 'PUNCT']\n",
      "['A', 'veteran', 'of', 'India', \"'s\", 'military', 'intervention', 'in', 'the', 'Jaffna', 'peninsula', 'to', 'help', 'implement', 'the', '1987', 'Indo', '-', 'Sri', 'Lanka', 'Peace', 'Accord', '-', 'which', 'ambitiously', 'provided', 'for', 'the', 'disarming', 'of', 'the', 'formidable', 'LTTE', '-', 'Kalkat', 'said', 'the', 'new', 'defense', 'deal', 'would', 'essentially', 'be', 'a', 'reiteration', 'of', 'the', 'older', 'one', 'minus', 'its', 'military', 'commitment', '.']\n",
      "['DET', 'NOUN', 'ADP', 'PROPN', 'PART', 'ADJ', 'NOUN', 'ADP', 'DET', 'PROPN', 'NOUN', 'PART', 'VERB', 'VERB', 'DET', 'NUM', 'X', 'PUNCT', 'PROPN', 'PROPN', 'PROPN', 'PROPN', 'PUNCT', 'PRON', 'ADV', 'VERB', 'ADP', 'DET', 'NOUN', 'ADP', 'DET', 'ADJ', 'PROPN', 'PUNCT', 'PROPN', 'VERB', 'DET', 'ADJ', 'NOUN', 'NOUN', 'AUX', 'ADV', 'VERB', 'DET', 'NOUN', 'ADP', 'DET', 'ADJ', 'NOUN', 'CONJ', 'PRON', 'ADJ', 'NOUN', 'PUNCT']\n",
      "['Kalkat', ',', 'who', 'currently', 'chairs', 'the', 'independent', 'US', '-', 'based', 'International', 'Council', 'on', 'Conflict', 'Resolution', ',', 'said', 'despite', 'the', 'failure', 'of', 'the', 'Indian', 'army', 'to', 'disarm', 'or', 'even', 'subdue', 'the', 'Tigers', ',', 'India', 'remained', 'the', 'only', 'power', 'capable', 'of', 'influencing', 'the', 'course', 'of', 'the', 'current', 'peace', 'talks', '.']\n",
      "['PROPN', 'PUNCT', 'PRON', 'ADV', 'VERB', 'DET', 'ADJ', 'PROPN', 'PUNCT', 'VERB', 'PROPN', 'PROPN', 'ADP', 'PROPN', 'PROPN', 'PUNCT', 'VERB', 'ADP', 'DET', 'NOUN', 'ADP', 'DET', 'ADJ', 'NOUN', 'PART', 'VERB', 'CONJ', 'ADV', 'VERB', 'DET', 'PROPN', 'PUNCT', 'PROPN', 'VERB', 'DET', 'ADJ', 'NOUN', 'ADJ', 'SCONJ', 'VERB', 'DET', 'NOUN', 'ADP', 'DET', 'ADJ', 'NOUN', 'NOUN', 'PUNCT']\n",
      "['\"', 'The', 'Norwegians', 'mean', 'well', 'but', 'their', 'role', 'is', 'limited', 'to', 'that', 'of', 'honest', 'broker', 'and', 'the', 'LTTE', 'is', 'keenly', 'aware', 'that', 'they', 'do', 'not', 'have', 'the', 'power', '[', 'unlike', 'India', ']', 'to', 'underwrite', 'any', 'arrangement', ',', '\"', 'Kalkat', 'told', 'IPS', 'in', 'an', 'interview', '.']\n",
      "['PUNCT', 'DET', 'PROPN', 'VERB', 'ADV', 'CONJ', 'PRON', 'NOUN', 'VERB', 'ADJ', 'ADP', 'PRON', 'ADP', 'ADJ', 'NOUN', 'CONJ', 'DET', 'PROPN', 'VERB', 'ADV', 'ADJ', 'SCONJ', 'PRON', 'AUX', 'PART', 'VERB', 'DET', 'NOUN', 'PUNCT', 'ADP', 'PROPN', 'PUNCT', 'PART', 'VERB', 'DET', 'NOUN', 'PUNCT', 'PUNCT', 'PROPN', 'VERB', 'PROPN', 'ADP', 'DET', 'NOUN', 'PUNCT']\n",
      "['In', '1987', ',', 'the', 'Tamil', 'Tigers', 'reluctantly', 'accepted', 'the', 'peace', 'accord', 'under', 'Indian', 'pressure', '.']\n",
      "['ADP', 'NUM', 'PUNCT', 'DET', 'PROPN', 'PROPN', 'ADV', 'VERB', 'DET', 'NOUN', 'NOUN', 'ADP', 'ADJ', 'NOUN', 'PUNCT']\n",
      "['Under', 'the', 'accord', ',', 'a', 'new', 'northeastern', 'provincial', 'council', 'was', 'formed', 'and', 'the', 'Indian', 'army', 'was', 'deployed', 'as', 'peacekeepers', 'in', 'the', 'north', 'and', 'east', '.']\n",
      "['ADP', 'DET', 'NOUN', 'PUNCT', 'DET', 'ADJ', 'ADJ', 'ADJ', 'NOUN', 'AUX', 'VERB', 'CONJ', 'DET', 'ADJ', 'NOUN', 'AUX', 'VERB', 'ADP', 'NOUN', 'ADP', 'DET', 'NOUN', 'CONJ', 'NOUN', 'PUNCT']\n",
      "['However', ',', 'differences', 'between', 'India', 'and', 'LTTE', 'soon', 'surfaced', 'and', 'led', 'to', 'clashes', 'between', 'Tiger', 'guerrillas', 'and', 'the', 'Indian', 'peace', 'keeping', 'force', '.']\n",
      "['ADV', 'PUNCT', 'NOUN', 'ADP', 'PROPN', 'CONJ', 'PROPN', 'ADV', 'VERB', 'CONJ', 'VERB', 'ADP', 'NOUN', 'ADP', 'PROPN', 'NOUN', 'CONJ', 'DET', 'ADJ', 'NOUN', 'NOUN', 'NOUN', 'PUNCT']\n",
      "['About', '1,200', 'Indian', 'soldiers', 'were', 'killed', 'during', 'this', 'phase', 'of', 'the', 'conflict', '.']\n",
      "['ADV', 'NUM', 'ADJ', 'NOUN', 'AUX', 'VERB', 'ADP', 'DET', 'NOUN', 'ADP', 'DET', 'NOUN', 'PUNCT']\n",
      "['India', 'had', 'to', 'pull', 'back', 'its', 'forces', 'from', 'Sri', 'Lanka', 'in', '1989', 'following', 'the', 'election', 'of', 'Ranasinghe', 'Premadasa', ',', 'a', 'strong', 'critic', 'of', 'Indian', 'mediation', '.']\n",
      "['PROPN', 'VERB', 'PART', 'VERB', 'ADV', 'PRON', 'NOUN', 'ADP', 'PROPN', 'PROPN', 'ADP', 'NUM', 'VERB', 'DET', 'NOUN', 'ADP', 'PROPN', 'PROPN', 'PUNCT', 'DET', 'ADJ', 'NOUN', 'ADP', 'ADJ', 'NOUN', 'PUNCT']\n",
      "['Last', 'June', ',', 'an', 'international', 'initiative', 'led', 'by', 'Japan', 'to', 'persuade', 'the', 'LTTE', 'to', 'come', 'back', 'to', 'the', 'negotiating', 'table', 'failed', 'despite', 'an', 'aid', 'package', 'offer', 'of', 'US$', '4.5', 'billion', '.']\n",
      "['ADJ', 'PROPN', 'PUNCT', 'DET', 'ADJ', 'NOUN', 'VERB', 'ADP', 'PROPN', 'PART', 'VERB', 'DET', 'PROPN', 'PART', 'VERB', 'ADV', 'ADP', 'DET', 'NOUN', 'NOUN', 'VERB', 'ADP', 'DET', 'NOUN', 'NOUN', 'NOUN', 'ADP', 'SYM', 'NUM', 'NUM', 'PUNCT']\n",
      "['Japan', \"'s\", 'special', 'envoy', ',', 'Yasushi', 'Akashi', ',', 'who', 'called', 'for', 'tangible', 'progress', 'in', 'the', 'peace', 'process', 'before', 'the', 'money', 'would', 'be', 'released', ',', 'came', 'back', 'from', 'visits', 'to', 'Colombo', 'and', 'Kilinochchi', 'in', 'early', 'November', 'a', 'frustrated', 'man', '.']\n",
      "['PROPN', 'PART', 'ADJ', 'NOUN', 'PUNCT', 'PROPN', 'PROPN', 'PUNCT', 'PRON', 'VERB', 'ADP', 'ADJ', 'NOUN', 'ADP', 'DET', 'NOUN', 'NOUN', 'SCONJ', 'DET', 'NOUN', 'AUX', 'AUX', 'VERB', 'PUNCT', 'VERB', 'ADV', 'ADP', 'NOUN', 'ADP', 'PROPN', 'CONJ', 'PROPN', 'ADP', 'ADJ', 'PROPN', 'DET', 'ADJ', 'NOUN', 'PUNCT']\n",
      "['He', 'complained', 'about', 'the', '\"', 'visible', 'lack', 'of', 'progress', '\"', 'and', 'reaching', 'an', 'impasse', 'in', 'talks', 'with', 'both', 'sides', '.']\n",
      "['PRON', 'VERB', 'ADP', 'DET', 'PUNCT', 'ADJ', 'NOUN', 'ADP', 'NOUN', 'PUNCT', 'CONJ', 'VERB', 'DET', 'NOUN', 'ADP', 'NOUN', 'ADP', 'DET', 'NOUN', 'PUNCT']\n",
      "['The', 'Tigers', \"'\", 'chief', 'ideologue', ',', 'Balasingham', ',', 'sniffed', 'at', 'the', 'proposal', 'saying', 'that', '\"', 'a', 'solution', 'to', 'the', 'ethnic', 'conflict', 'can', 'not', 'be', 'predetermined', 'by', 'the', 'resolutions', 'or', 'declarations', 'of', 'donor', 'conferences', ',', 'but', 'has', 'to', 'be', 'negotiated', 'by', 'the', 'parties', 'in', 'conflict', 'without', 'the', 'constraints', 'of', 'external', 'forces', '.', '\"']\n",
      "['DET', 'PROPN', 'PART', 'ADJ', 'NOUN', 'PUNCT', 'PROPN', 'PUNCT', 'VERB', 'ADP', 'DET', 'NOUN', 'VERB', 'SCONJ', 'PUNCT', 'DET', 'NOUN', 'ADP', 'DET', 'ADJ', 'NOUN', 'AUX', 'PART', 'AUX', 'VERB', 'ADP', 'DET', 'NOUN', 'CONJ', 'NOUN', 'ADP', 'NOUN', 'NOUN', 'PUNCT', 'CONJ', 'VERB', 'PART', 'AUX', 'VERB', 'ADP', 'DET', 'NOUN', 'ADP', 'NOUN', 'ADP', 'DET', 'NOUN', 'ADP', 'ADJ', 'NOUN', 'PUNCT', 'PUNCT']\n",
      "['But', 'there', 'are', 'strong', 'hints', 'in', 'the', 'country', 'that', 'a', 'new', 'Indo', '-', 'Sri', 'Lanka', 'defense', 'deal', 'could', 'be', 'in', 'the', 'making', '.']\n",
      "['CONJ', 'PRON', 'VERB', 'ADJ', 'NOUN', 'ADP', 'DET', 'NOUN', 'SCONJ', 'DET', 'ADJ', 'X', 'PUNCT', 'PROPN', 'PROPN', 'NOUN', 'NOUN', 'AUX', 'VERB', 'ADP', 'DET', 'NOUN', 'PUNCT']\n",
      "['And', 'this', 'has', 'already', 'drawn', 'protests', 'from', 'the', 'Tamil', 'National', 'Alliance', '(', 'TNA', ')', 'which', 'was', 'backed', 'by', 'the', 'LTTE', 'in', 'the', 'April', 'general', 'elections', 'held', 'in', 'Sri', 'Lanka', '.']\n",
      "['CONJ', 'PRON', 'AUX', 'ADV', 'VERB', 'NOUN', 'ADP', 'DET', 'PROPN', 'PROPN', 'PROPN', 'PUNCT', 'PROPN', 'PUNCT', 'PRON', 'AUX', 'VERB', 'ADP', 'DET', 'PROPN', 'ADP', 'DET', 'PROPN', 'ADJ', 'NOUN', 'VERB', 'ADP', 'PROPN', 'PROPN', 'PUNCT']\n",
      "['\"', 'Tamils', 'feel', 'that', 'the', 'proposed', 'defense', 'agreement', 'between', 'India', 'and', 'Sri', 'Lanka', 'would', 'encourage', 'Sinhala', 'rulers', 'to', 'prepare', 'for', 'another', 'war', 'abandoning', 'the', 'current', 'peace', 'process', ',', '\"', 'TNA', 'member', 'of', 'parliament', 'P', 'Sithamparanathan', 'was', 'quoted', 'as', 'saying', 'in', 'a', 'statement', '.']\n",
      "['PUNCT', 'PROPN', 'VERB', 'SCONJ', 'DET', 'VERB', 'NOUN', 'NOUN', 'ADP', 'PROPN', 'CONJ', 'PROPN', 'PROPN', 'AUX', 'VERB', 'PROPN', 'NOUN', 'PART', 'VERB', 'ADP', 'DET', 'NOUN', 'VERB', 'DET', 'ADJ', 'NOUN', 'NOUN', 'PUNCT', 'PUNCT', 'PROPN', 'NOUN', 'ADP', 'NOUN', 'PROPN', 'PROPN', 'AUX', 'VERB', 'SCONJ', 'VERB', 'ADP', 'DET', 'NOUN', 'PUNCT']\n",
      "['She', 'added', 'that', 'recent', 'visits', 'to', 'the', 'island', 'by', 'India', \"'s\", 'top', 'military', 'brass', 'including', 'army', 'chief', 'General', 'Nirmal', 'Chander', 'Vij', 'have', '\"', 'caused', 'apprehension', 'among', 'Tamils', 'that', 'preparations', 'are', 'under', 'way', 'for', 'another', 'war', 'in', 'the', 'island', '\"', '.']\n",
      "['PRON', 'VERB', 'SCONJ', 'ADJ', 'NOUN', 'ADP', 'DET', 'NOUN', 'ADP', 'PROPN', 'PART', 'ADJ', 'ADJ', 'NOUN', 'VERB', 'NOUN', 'NOUN', 'PROPN', 'PROPN', 'PROPN', 'PROPN', 'AUX', 'PUNCT', 'VERB', 'NOUN', 'ADP', 'PROPN', 'SCONJ', 'NOUN', 'VERB', 'ADP', 'NOUN', 'ADP', 'DET', 'NOUN', 'ADP', 'DET', 'NOUN', 'PUNCT', 'PUNCT']\n",
      "['But', 'Kalkat', 'pointed', 'out', 'that', 'India', 'would', 'be', 'ill', '-', 'advised', 'to', 'be', 'involved', 'again', ',', 'militarily', ',', 'with', 'Sri', 'Lanka', 'if', 'only', 'because', 'it', 'still', 'had', 'to', 'consider', 'the', 'sentiments', 'of', '45', 'million', 'ethnic', 'Tamils', 'in', 'the', 'Indian', 'state', 'of', 'Tamil', 'Nadu', '-', 'separated', 'from', 'Sri', 'Lanka', \"'s\", 'Jaffna', 'peninsula', 'by', 'the', 'narrow', 'Palk', 'Straits', '.']\n",
      "['CONJ', 'PROPN', 'VERB', 'ADP', 'SCONJ', 'PROPN', 'AUX', 'VERB', 'ADV', 'PUNCT', 'VERB', 'PART', 'VERB', 'ADJ', 'ADV', 'PUNCT', 'ADV', 'PUNCT', 'ADP', 'PROPN', 'PROPN', 'SCONJ', 'ADV', 'SCONJ', 'PRON', 'ADV', 'VERB', 'PART', 'VERB', 'DET', 'NOUN', 'ADP', 'NUM', 'NUM', 'ADJ', 'PROPN', 'ADP', 'DET', 'ADJ', 'NOUN', 'ADP', 'PROPN', 'PROPN', 'PUNCT', 'VERB', 'ADP', 'PROPN', 'PROPN', 'PART', 'PROPN', 'NOUN', 'ADP', 'DET', 'ADJ', 'PROPN', 'PROPN', 'PUNCT']\n",
      "['Apart', 'from', 'the', '1,200', 'Indian', 'lives', 'lost', 'in', '1987', ',', 'the', 'Indian', 'peacekeeping', 'force', 'was', 'immensely', 'unpopular', 'not', 'only', 'in', 'Tamil', 'Nadu', 'and', 'the', 'Jaffna', 'peninsula', 'but', 'also', 'among', 'the', 'Sinhalese', 'majority', 'who', 'considered', 'it', 'a', 'violation', 'of', 'their', 'country', \"'s\", 'sovereignty', '.']\n",
      "['ADV', 'ADP', 'DET', 'NUM', 'ADJ', 'NOUN', 'VERB', 'ADP', 'NUM', 'PUNCT', 'DET', 'ADJ', 'NOUN', 'NOUN', 'VERB', 'ADV', 'ADJ', 'ADV', 'ADV', 'ADP', 'PROPN', 'PROPN', 'CONJ', 'DET', 'PROPN', 'NOUN', 'CONJ', 'ADV', 'ADP', 'DET', 'ADJ', 'NOUN', 'PRON', 'VERB', 'PRON', 'DET', 'NOUN', 'ADP', 'PRON', 'NOUN', 'PART', 'NOUN', 'PUNCT']\n",
      "['The', 'best', 'option', ',', 'now', ',', 'under', 'the', 'present', 'difficult', 'circumstances', 'is', 'for', 'Colombo', 'to', 'do', 'its', 'own', 'dirty', 'work', ',', 'although', 'New', 'Delhi', 'can', 'always', 'be', 'counted', 'on', 'to', 'render', 'good', 'neighborly', 'help', 'because', 'of', 'the', 'shared', 'belief', 'that', 'religion', ',', 'ethnicity', 'and', 'language', 'can', 'not', 'be', 'the', 'basis', 'for', 'secession', '.']\n",
      "['DET', 'ADJ', 'NOUN', 'PUNCT', 'ADV', 'PUNCT', 'ADP', 'DET', 'ADJ', 'ADJ', 'NOUN', 'VERB', 'SCONJ', 'PROPN', 'PART', 'VERB', 'PRON', 'ADJ', 'ADJ', 'NOUN', 'PUNCT', 'SCONJ', 'PROPN', 'PROPN', 'AUX', 'ADV', 'AUX', 'VERB', 'ADP', 'PART', 'VERB', 'ADJ', 'ADJ', 'NOUN', 'ADP', 'ADP', 'DET', 'VERB', 'NOUN', 'SCONJ', 'NOUN', 'PUNCT', 'NOUN', 'CONJ', 'NOUN', 'AUX', 'PART', 'VERB', 'DET', 'NOUN', 'ADP', 'NOUN', 'PUNCT']\n",
      "['In', 'any', 'case', ',', 'Kalkat', 'puts', 'it', 'succinctly', ':', '\"', 'There', 'can', 'not', 'be', 'a', 'military', 'option', 'to', 'what', 'is', 'a', 'political', 'situation', '.', '\"']\n",
      "['ADP', 'DET', 'NOUN', 'PUNCT', 'PROPN', 'VERB', 'PRON', 'ADV', 'PUNCT', 'PUNCT', 'PRON', 'AUX', 'PART', 'VERB', 'DET', 'ADJ', 'NOUN', 'SCONJ', 'PRON', 'VERB', 'DET', 'ADJ', 'NOUN', 'PUNCT', 'PUNCT']\n",
      "['Asia', 'Times', 'Online', '16/11/2004']\n",
      "['PROPN', 'PROPN', 'PROPN', 'NUM']\n",
      "['Unreported', 'by', 'the', 'international', 'media', ',', 'the', 'Valley', 'of', 'Kashmir', 'has', 'seen', 'an', 'ethnic', 'and', 'cultural', 'genocide', 'that', 'has', 'resulted', 'in', 'the', 'fleeing', 'from', 'the', 'valley', 'of', 'almost', 'all', 'the', 'Hindu', 'families', 'who', 'have', 'been', 'living', 'there', 'since', 'human', 'habitation', 'was', 'first', 'recorded', '.']\n",
      "['VERB', 'ADP', 'DET', 'ADJ', 'NOUN', 'PUNCT', 'DET', 'PROPN', 'ADP', 'PROPN', 'AUX', 'VERB', 'DET', 'ADJ', 'CONJ', 'ADJ', 'NOUN', 'PRON', 'AUX', 'VERB', 'ADP', 'DET', 'NOUN', 'ADP', 'DET', 'NOUN', 'ADP', 'ADV', 'DET', 'DET', 'ADJ', 'NOUN', 'PRON', 'AUX', 'AUX', 'VERB', 'ADV', 'SCONJ', 'ADJ', 'NOUN', 'AUX', 'ADV', 'VERB', 'PUNCT']\n",
      "['Over', 'nine', 'dozen', 'temples', 'that', 'had', 'served', 'the', 'Hindu', 'population', 'have', 'been', 'destroyed', ',', 'with', 'some', 'used', 'as', 'building', 'material', 'and', 'others', 'as', 'urinals', '.']\n",
      "['ADP', 'NUM', 'NOUN', 'NOUN', 'PRON', 'AUX', 'VERB', 'DET', 'ADJ', 'NOUN', 'AUX', 'AUX', 'VERB', 'PUNCT', 'SCONJ', 'DET', 'VERB', 'ADP', 'NOUN', 'NOUN', 'CONJ', 'NOUN', 'ADP', 'NOUN', 'PUNCT']\n",
      "['Thus', 'far', ',', 'none', 'of', 'the', 'many', '\"', 'human', 'rights', '\"', 'busybodies', 'across', 'the', 'world', 'have', 'bothered', 'to', 'even', 'notice', 'such', 'a', 'development', '.']\n",
      "['ADV', 'ADV', 'PUNCT', 'NOUN', 'ADP', 'DET', 'ADJ', 'PUNCT', 'ADJ', 'NOUN', 'PUNCT', 'NOUN', 'ADP', 'DET', 'NOUN', 'AUX', 'VERB', 'PART', 'ADV', 'VERB', 'DET', 'DET', 'NOUN', 'PUNCT']\n",
      "['Musharraf', 'calls', 'the', 'bluff']\n",
      "['PROPN', 'VERB', 'DET', 'NOUN']\n",
      "['M.D.', 'Nalapat']\n",
      "['PROPN', 'PROPN']\n",
      "['While', 'most', 'U.S.', 'secretaries', 'of', 'state', '--', 'save', 'perhaps', 'Dean', 'Rusk', '--', 'have', 'gobbled', 'up', 'credit', 'for', 'outcomes', 'that', 'they', 'had', 'little', 'to', 'do', 'with', ',', 'few', 'have', 'been', 'as', 'brazen', 'as', 'Colin', 'Powell', '.']\n",
      "['SCONJ', 'ADJ', 'PROPN', 'NOUN', 'ADP', 'NOUN', 'PUNCT', 'ADP', 'ADV', 'PROPN', 'PROPN', 'PUNCT', 'AUX', 'VERB', 'ADP', 'NOUN', 'ADP', 'NOUN', 'PRON', 'PRON', 'VERB', 'ADJ', 'PART', 'VERB', 'ADP', 'PUNCT', 'ADJ', 'AUX', 'VERB', 'ADV', 'ADJ', 'ADP', 'PROPN', 'PROPN', 'PUNCT']\n",
      "['Two', 'years', 'ago', ',', 'Pakistani', 'President', 'Pervez', 'Musharraf', 'was', 'surprised', 'when', 'the', 'leader', 'of', 'the', 'main', 'Islamist', 'alliance', '--', 'Maulana', 'Fazlur', 'Rahman', '--', 'visited', 'India', 'and', 'issued', 'a', 'series', 'of', 'highly', 'conciliatory', 'statements', '.']\n",
      "['NUM', 'NOUN', 'ADV', 'PUNCT', 'ADJ', 'PROPN', 'PROPN', 'PROPN', 'VERB', 'ADJ', 'ADV', 'DET', 'NOUN', 'ADP', 'DET', 'ADJ', 'PROPN', 'NOUN', 'PUNCT', 'PROPN', 'PROPN', 'PROPN', 'PUNCT', 'VERB', 'PROPN', 'CONJ', 'VERB', 'DET', 'NOUN', 'ADP', 'ADV', 'ADJ', 'NOUN', 'PUNCT']\n",
      "['As', 'Pakistan', \"'s\", 'president', 'had', 'been', 'telling', 'the', 'United', 'States', 'he', 'was', '\"', 'forced', '\"', 'into', 'taking', 'a', 'hawkish', 'line', 'on', 'India', 'precisely', 'by', 'the', 'likes', 'of', 'Rahman', ',', 'this', 'was', 'an', 'embarrassment', '.']\n",
      "['SCONJ', 'PROPN', 'PART', 'NOUN', 'AUX', 'AUX', 'VERB', 'DET', 'PROPN', 'PROPN', 'PRON', 'AUX', 'PUNCT', 'VERB', 'PUNCT', 'SCONJ', 'VERB', 'DET', 'ADJ', 'NOUN', 'ADP', 'PROPN', 'ADV', 'ADP', 'DET', 'NOUN', 'ADP', 'PROPN', 'PUNCT', 'PRON', 'VERB', 'DET', 'NOUN', 'PUNCT']\n",
      "['The', 'reality', 'is', 'that', 'India', 'is', 'no', 'longer', 'the', 'enemy', 'of', 'choice', 'for', 'the', 'people', 'of', 'Pakistan', '.']\n",
      "['DET', 'NOUN', 'VERB', 'SCONJ', 'PROPN', 'VERB', 'ADV', 'ADV', 'DET', 'NOUN', 'ADP', 'NOUN', 'ADP', 'DET', 'NOUN', 'ADP', 'PROPN', 'PUNCT']\n",
      "['That', 'distinction', 'has', 'now', 'gone', 'to', 'the', 'United', 'States', '.']\n",
      "['DET', 'NOUN', 'AUX', 'ADV', 'VERB', 'ADP', 'DET', 'PROPN', 'PROPN', 'PUNCT']\n",
      "['Realists', ',', 'and', 'this', 'even', 'includes', 'members', 'of', 'the', 'U.S.', 'Democratic', 'foreign', 'policy', 'establishment', 'such', 'as', 'Strobe', 'Talbott', ',', 'who', 'have', 'long', 'sought', 'to', 'divest', 'India', 'of', 'its', 'defensive', 'capability', 'against', 'another', 'nuclear', 'power', 'in', 'Asia', ',', 'understand', 'the', 'only', 'feasible', 'solution', 'for', 'Kashmir', 'is', 'the', 'acceptance', 'of', 'the', 'status', 'quo', '.']\n",
      "['NOUN', 'PUNCT', 'CONJ', 'PRON', 'ADV', 'VERB', 'NOUN', 'ADP', 'DET', 'PROPN', 'ADJ', 'ADJ', 'NOUN', 'NOUN', 'ADJ', 'ADP', 'PROPN', 'PROPN', 'PUNCT', 'PRON', 'AUX', 'ADV', 'VERB', 'PART', 'VERB', 'PROPN', 'ADP', 'PRON', 'ADJ', 'NOUN', 'ADP', 'DET', 'ADJ', 'NOUN', 'ADP', 'PROPN', 'PUNCT', 'VERB', 'DET', 'ADV', 'ADJ', 'NOUN', 'ADP', 'PROPN', 'VERB', 'DET', 'NOUN', 'ADP', 'DET', 'NOUN', 'NOUN', 'PUNCT']\n",
      "['India', 'keeps', 'what', 'it', 'has', 'while', 'Pakistan', 'and', 'China', '(', 'which', 'was', 'gifted', 'a', 'slice', 'of', 'the', 'territory', 'three', 'decades', 'ago', ')', 'do', 'likewise', '.']\n",
      "['PROPN', 'VERB', 'PRON', 'PRON', 'VERB', 'SCONJ', 'PROPN', 'CONJ', 'PROPN', 'PUNCT', 'PRON', 'AUX', 'VERB', 'DET', 'NOUN', 'ADP', 'DET', 'NOUN', 'NUM', 'NOUN', 'ADV', 'PUNCT', 'VERB', 'ADV', 'PUNCT']\n",
      "['Simultaneously', ',', 'New', 'Delhi', 'would', 'ensure', 'a', 'degree', 'of', 'autonomy', 'for', 'the', 'state', 'that', 'would', 'help', 'cut', 'popular', 'support', 'off', 'from', 'jihadis', 'attempting', 'to', 'convert', 'Kashmir', 'into', 'a', 'second', 'Afghanistan', '.']\n",
      "['ADV', 'PUNCT', 'PROPN', 'PROPN', 'AUX', 'VERB', 'DET', 'NOUN', 'ADP', 'NOUN', 'ADP', 'DET', 'NOUN', 'PRON', 'AUX', 'VERB', 'VERB', 'ADJ', 'NOUN', 'ADP', 'ADP', 'NOUN', 'VERB', 'PART', 'VERB', 'PROPN', 'ADP', 'DET', 'ADJ', 'PROPN', 'PUNCT']\n",
      "['Bill', 'Clinton', 'understood', 'this', 'at', 'the', 'end', 'of', 'his', 'term', 'in', 'office', 'yet', ',', 'under', 'Colin', 'Powell', '(', 'who', 'appears', 'to', 'have', 'an', 'affinity', 'for', 'generals', 'active', 'in', 'politics', ')', ',', 'the', 'pendulum', 'of', 'U.S.', 'policy', 'has', 'once', 'again', 'swung', 'toward', 'a', 'quixotic', 'effort', 'to', 'prize', 'at', 'least', 'the', 'Valley', 'of', 'Kashmir', 'loose', 'from', 'India', '.']\n",
      "['PROPN', 'PROPN', 'VERB', 'PRON', 'ADP', 'DET', 'NOUN', 'ADP', 'PRON', 'NOUN', 'ADP', 'NOUN', 'CONJ', 'PUNCT', 'ADP', 'PROPN', 'PROPN', 'PUNCT', 'PRON', 'VERB', 'PART', 'VERB', 'DET', 'NOUN', 'ADP', 'NOUN', 'ADJ', 'ADP', 'NOUN', 'PUNCT', 'PUNCT', 'DET', 'NOUN', 'ADP', 'PROPN', 'NOUN', 'AUX', 'ADV', 'ADV', 'VERB', 'ADP', 'DET', 'ADJ', 'NOUN', 'PART', 'VERB', 'ADV', 'ADV', 'DET', 'PROPN', 'ADP', 'PROPN', 'ADV', 'ADP', 'PROPN', 'PUNCT']\n",
      "['This', ',', 'Pakistan', \"'s\", 'lobbyist', 'in', 'Washington', 'Christina', 'Rocca', 'has', 'been', 'told', ',', 'is', 'the', '\"', 'minimum', '\"', 'that', 'the', 'Pakistan', 'army', 'will', 'accept', '.']\n",
      "['PRON', 'PUNCT', 'PROPN', 'PART', 'NOUN', 'ADP', 'PROPN', 'PROPN', 'PROPN', 'AUX', 'AUX', 'VERB', 'PUNCT', 'VERB', 'DET', 'PUNCT', 'NOUN', 'PUNCT', 'PRON', 'DET', 'PROPN', 'NOUN', 'AUX', 'VERB', 'PUNCT']\n",
      "['It', 'is', 'also', 'far', 'more', 'than', 'what', 'any', 'administration', 'in', 'New', 'Delhi', 'can', 'deliver', '.']\n",
      "['PRON', 'VERB', 'ADV', 'ADV', 'ADJ', 'SCONJ', 'PRON', 'DET', 'NOUN', 'ADP', 'PROPN', 'PROPN', 'AUX', 'VERB', 'PUNCT']\n",
      "['This', 'writer', 'has', 'for', 'years', 'regarded', 'the', 'best', 'solution', 'to', 'the', 'Kashmir', 'problem', 'as', 'being', 'the', 'trifurcation', 'of', 'the', 'Indian', 'part', 'of', 'the', 'state', 'into', 'a', 'Hindu', '-', 'majority', 'Jammu', ',', 'a', 'Buddhist', '-', 'dominated', 'Ladakh', 'and', 'the', 'overwhelmingly', 'Muslim', 'Kashmir', 'Valley', ',', 'with', 'the', 'third', 'state', 'given', 'little', 'of', 'taxpayers', \"'\", 'money', 'but', 'substantial', 'autonomy', '.']\n",
      "['DET', 'NOUN', 'AUX', 'ADP', 'NOUN', 'VERB', 'DET', 'ADJ', 'NOUN', 'ADP', 'DET', 'PROPN', 'NOUN', 'SCONJ', 'VERB', 'DET', 'NOUN', 'ADP', 'DET', 'ADJ', 'NOUN', 'ADP', 'DET', 'NOUN', 'ADP', 'DET', 'ADJ', 'PUNCT', 'NOUN', 'PROPN', 'PUNCT', 'DET', 'PROPN', 'PUNCT', 'VERB', 'PROPN', 'CONJ', 'DET', 'ADV', 'ADJ', 'PROPN', 'PROPN', 'PUNCT', 'SCONJ', 'DET', 'ADJ', 'NOUN', 'VERB', 'NOUN', 'ADP', 'NOUN', 'PART', 'NOUN', 'CONJ', 'ADJ', 'NOUN', 'PUNCT']\n",
      "['With', 'luck', ',', 'the', 'Kashmir', 'Valley', 'can', 'attract', 'investment', 'from', 'the', 'Middle', 'East', 'and', 'other', 'locations', 'where', 'Muslims', 'are', 'dominant', 'and', 'become', 'a', 'tourist', ',', 'education', 'and', 'services', 'haven', 'within', 'India', '.']\n",
      "['ADP', 'NOUN', 'PUNCT', 'DET', 'PROPN', 'PROPN', 'AUX', 'VERB', 'NOUN', 'ADP', 'DET', 'PROPN', 'PROPN', 'CONJ', 'ADJ', 'NOUN', 'ADV', 'PROPN', 'VERB', 'ADJ', 'CONJ', 'VERB', 'DET', 'NOUN', 'PUNCT', 'NOUN', 'CONJ', 'NOUN', 'NOUN', 'ADP', 'PROPN', 'PUNCT']\n",
      "['The', 'overwhelming', 'majority', 'of', 'Muslims', 'in', 'Kashmir', 'would', 'be', 'happy', 'with', 'such', 'an', 'outcome', ',', 'except', 'for', 'the', 'tiny', 'jihadi', 'segment', 'patronized', 'by', 'the', 'U.S.', 'State', 'Department', 'and', 'the', 'Pakistan', 'Army', ',', 'which', 'would', 'like', 'to', 'even', 'the', 'score', 'with', 'India', 'for', 'their', 'catastrophic', 'defeat', 'in', 'Bangladesh', 'in', '1971', '.']\n",
      "['DET', 'ADJ', 'NOUN', 'ADP', 'PROPN', 'ADP', 'PROPN', 'AUX', 'VERB', 'ADJ', 'ADP', 'DET', 'DET', 'NOUN', 'PUNCT', 'ADP', 'ADP', 'DET', 'ADJ', 'ADJ', 'NOUN', 'VERB', 'ADP', 'DET', 'PROPN', 'PROPN', 'PROPN', 'CONJ', 'DET', 'PROPN', 'PROPN', 'PUNCT', 'PRON', 'AUX', 'VERB', 'PART', 'VERB', 'DET', 'NOUN', 'ADP', 'PROPN', 'ADP', 'PRON', 'ADJ', 'NOUN', 'ADP', 'PROPN', 'ADP', 'NUM', 'PUNCT']\n",
      "['Unreported', 'by', 'the', 'international', 'media', ',', 'the', 'Valley', 'of', 'Kashmir', 'has', 'seen', 'an', 'ethnic', 'and', 'cultural', 'genocide', 'that', 'has', 'resulted', 'in', 'the', 'fleeing', 'from', 'the', 'valley', 'of', 'almost', 'all', 'the', 'Hindu', 'families', 'who', 'have', 'been', 'living', 'there', 'since', 'human', 'habitation', 'was', 'first', 'recorded', '.']\n",
      "['VERB', 'ADP', 'DET', 'ADJ', 'NOUN', 'PUNCT', 'DET', 'PROPN', 'ADP', 'PROPN', 'AUX', 'VERB', 'DET', 'ADJ', 'CONJ', 'ADJ', 'NOUN', 'PRON', 'AUX', 'VERB', 'ADP', 'DET', 'NOUN', 'ADP', 'DET', 'NOUN', 'ADP', 'ADV', 'DET', 'DET', 'PROPN', 'NOUN', 'PRON', 'AUX', 'AUX', 'VERB', 'ADV', 'SCONJ', 'ADJ', 'NOUN', 'AUX', 'ADV', 'VERB', 'PUNCT']\n",
      "['Over', 'nine', 'dozen', 'temples', 'that', 'had', 'served', 'the', 'Hindu', 'population', 'have', 'been', 'destroyed', ',', 'with', 'some', 'used', 'as', 'building', 'material', 'and', 'others', 'as', 'urinals', '.']\n",
      "['ADV', 'NUM', 'NOUN', 'NOUN', 'PRON', 'AUX', 'VERB', 'DET', 'ADJ', 'NOUN', 'AUX', 'AUX', 'VERB', 'PUNCT', 'SCONJ', 'DET', 'VERB', 'ADP', 'NOUN', 'NOUN', 'CONJ', 'NOUN', 'ADP', 'NOUN', 'PUNCT']\n",
      "['Thus', 'far', ',', 'none', 'of', 'the', 'many', '\"', 'human', 'rights', '\"', 'busybodies', 'across', 'the', 'world', 'have', 'bothered', 'to', 'even', 'notice', 'such', 'a', 'development', '.']\n",
      "['ADV', 'ADV', 'PUNCT', 'NOUN', 'ADP', 'DET', 'ADJ', 'PUNCT', 'ADJ', 'NOUN', 'PUNCT', 'NOUN', 'ADP', 'DET', 'NOUN', 'AUX', 'VERB', 'PART', 'ADV', 'VERB', 'DET', 'DET', 'NOUN', 'PUNCT']\n",
      "['Indeed', ',', 'their', 'reports', 'are', 'filled', 'with', 'tales', 'of', 'the', '\"', 'atrocities', '\"', 'of', 'Indian', 'troops', 'on', 'the', 'innocent', 'jihadis', '.']\n",
      "['ADV', 'PUNCT', 'PRON', 'NOUN', 'AUX', 'VERB', 'ADP', 'NOUN', 'ADP', 'DET', 'PUNCT', 'NOUN', 'PUNCT', 'ADP', 'ADJ', 'NOUN', 'ADP', 'DET', 'ADJ', 'NOUN', 'PUNCT']\n",
      "['Despite', 'Sept.', '11', ',', 'the', 'United', 'States', 'still', 'supports', 'the', 'Kashmir', 'groups', 'that', 'back', 'jihad', 'as', 'part', 'of', 'the', 'price', 'Washington', 'is', 'paying', 'to', 'keep', 'Pervez', 'Musharraf', 'happy', '.']\n",
      "['ADP', 'PROPN', 'NUM', 'PUNCT', 'DET', 'PROPN', 'PROPN', 'ADV', 'VERB', 'DET', 'PROPN', 'NOUN', 'PRON', 'VERB', 'NOUN', 'ADP', 'NOUN', 'ADP', 'DET', 'NOUN', 'PROPN', 'AUX', 'VERB', 'PART', 'VERB', 'PROPN', 'PROPN', 'ADJ', 'PUNCT']\n",
      "['Unfortunately', 'for', 'them', ',', 'the', 'general', 'has', 'decided', 'to', 'take', 'seriously', 'Colin', 'Powell', \"'s\", 'frequent', 'boasts', 'that', 'it', 'was', 'on', 'his', 'nudging', 'that', 'the', 'Indians', 'made', 'conciliatory', 'gestures', 'toward', 'Islamabad', '.']\n",
      "['ADV', 'ADP', 'PRON', 'PUNCT', 'DET', 'NOUN', 'AUX', 'VERB', 'PART', 'VERB', 'ADV', 'PROPN', 'PROPN', 'PART', 'ADJ', 'NOUN', 'SCONJ', 'PRON', 'VERB', 'ADP', 'PRON', 'NOUN', 'ADV', 'DET', 'PROPN', 'VERB', 'ADJ', 'NOUN', 'ADP', 'PROPN', 'PUNCT']\n",
      "['The', 'U.S.', 'State', 'Department', 'and', 'the', 'misnamed', 'think', 'tanks', 'that', 'follow', 'its', 'lead', 'have', 'held', 'numerous', 'conferences', 'on', 'Kashmir', 'and', ',', 'in', 'most', 'of', 'them', ',', 'the', 'solution', 'that', 'has', 'emerged', 'is', 'a', 'valley', 'prized', 'loose', 'from', 'Indian', 'control', 'and', 'under', 'its', 'own', 'version', 'of', 'Ibrahim', 'Rugova', '.']\n",
      "['DET', 'PROPN', 'PROPN', 'PROPN', 'CONJ', 'DET', 'VERB', 'NOUN', 'NOUN', 'PRON', 'VERB', 'PRON', 'NOUN', 'AUX', 'VERB', 'ADJ', 'NOUN', 'ADP', 'PROPN', 'CONJ', 'PUNCT', 'ADP', 'ADJ', 'ADP', 'PRON', 'PUNCT', 'DET', 'NOUN', 'PRON', 'AUX', 'VERB', 'VERB', 'DET', 'NOUN', 'VERB', 'ADV', 'ADP', 'ADJ', 'NOUN', 'CONJ', 'ADP', 'PRON', 'ADJ', 'NOUN', 'ADP', 'PROPN', 'PROPN', 'PUNCT']\n",
      "['That', 'India', 'is', 'not', 'Yugoslavia', 'and', 'that', 'the', '\"', 'foreigner', '-', 'led', '\"', 'Indian', 'National', 'Congress', 'can', 'least', 'afford', 'to', 'ignore', 'Indian', 'nationalism', ',', 'has', 'not', 'struck', 'the', 'conferees', ',', 'among', 'whom', 'have', 'been', 'several', 'Indian', '\"', 'scholars', '\"', 'and', '\"', 'analysts', '\"', 'ready', 'to', 'say', 'and', 'endorse', 'anything', 'for', 'the', 'sake', 'of', 'a', 'free', 'trip', 'to', 'New', 'York', 'or', 'Vienna', '.']\n",
      "['SCONJ', 'PROPN', 'VERB', 'PART', 'PROPN', 'CONJ', 'SCONJ', 'DET', 'PUNCT', 'NOUN', 'PUNCT', 'VERB', 'PUNCT', 'PROPN', 'PROPN', 'PROPN', 'AUX', 'ADV', 'VERB', 'PART', 'VERB', 'ADJ', 'NOUN', 'PUNCT', 'AUX', 'PART', 'VERB', 'DET', 'NOUN', 'PUNCT', 'ADP', 'PRON', 'AUX', 'VERB', 'ADJ', 'ADJ', 'PUNCT', 'NOUN', 'PUNCT', 'CONJ', 'PUNCT', 'NOUN', 'PUNCT', 'ADJ', 'PART', 'VERB', 'CONJ', 'VERB', 'PRON', 'ADP', 'DET', 'NOUN', 'ADP', 'DET', 'ADJ', 'NOUN', 'ADP', 'PROPN', 'PROPN', 'CONJ', 'PROPN', 'PUNCT']\n",
      "['Despite', 'many', 'wrinkles', ',', 'India', 'remains', 'a', 'part', '-', 'democracy', 'and', 'merely', 'signing', 'on', 'to', 'a', 'piece', 'of', 'paper', 'that', 'calls', 'for', 'an', 'independent', 'Kashmir', 'does', 'not', 'get', 'you', 'into', 'the', 'trouble', 'that', 'writing', 'an', 'op', '-', 'ed', 'piece', 'against', 'Sonia', 'Gandhi', 'or', 'Atal', 'Behari', 'Vajpayee', 'would', 'instantly', '.']\n",
      "['ADP', 'ADJ', 'NOUN', 'PUNCT', 'PROPN', 'VERB', 'DET', 'NOUN', 'PUNCT', 'NOUN', 'CONJ', 'ADV', 'VERB', 'ADP', 'ADP', 'DET', 'NOUN', 'ADP', 'NOUN', 'PRON', 'VERB', 'ADP', 'DET', 'ADJ', 'PROPN', 'AUX', 'PART', 'VERB', 'PRON', 'ADP', 'DET', 'NOUN', 'PRON', 'VERB', 'DET', 'NOUN', 'PUNCT', 'NOUN', 'NOUN', 'ADP', 'PROPN', 'PROPN', 'CONJ', 'PROPN', 'PROPN', 'PROPN', 'AUX', 'ADV', 'PUNCT']\n",
      "['It', 'was', 'the', 'business', 'community', 'in', 'India', 'that', 'stepped', 'in', 'after', 'Vajpayee', 'indulged', 'in', 'an', 'empty', 'bout', 'of', 'saber', 'rattling', 'in', '2002', ',', 'pointing', 'out', 'that', 'the', 'only', 'beneficiary', 'of', 'the', 'mythical', 'perception', 'that', 'war', '--', 'especially', 'nuclear', 'war', '--', 'was', 'around', 'the', 'corner', 'in', 'the', 'subcontinent', 'was', 'China', '.']\n",
      "['PRON', 'VERB', 'DET', 'NOUN', 'NOUN', 'ADP', 'PROPN', 'PRON', 'VERB', 'ADP', 'SCONJ', 'PROPN', 'VERB', 'ADP', 'DET', 'ADJ', 'NOUN', 'ADP', 'NOUN', 'NOUN', 'ADP', 'NUM', 'PUNCT', 'VERB', 'ADP', 'SCONJ', 'DET', 'ADJ', 'NOUN', 'ADP', 'DET', 'ADJ', 'NOUN', 'SCONJ', 'NOUN', 'PUNCT', 'ADV', 'ADJ', 'NOUN', 'PUNCT', 'VERB', 'ADP', 'DET', 'NOUN', 'ADP', 'DET', 'NOUN', 'VERB', 'PROPN', 'PUNCT']\n",
      "['The', 'reason', 'for', 'this', 'is', 'that', 'India', 'is', 'emerging', 'as', 'an', 'alternative', 'investment', 'destination', 'to', 'China', ',', 'hence', 'the', 'favor', 'that', 'the', 'generals', 'in', 'Islamabad', 'do', 'to', 'their', 'trusty', 'supplier', 'of', 'nukes', 'and', 'missiles', 'by', 'creating', 'a', 'scare', 'about', 'war', 'involving', 'India', 'when', 'in', 'fact', 'the', 'real', 'flashpoints', 'are', 'the', 'Taiwan', 'Straits', 'and', 'North', 'Korea', '.']\n",
      "['DET', 'NOUN', 'ADP', 'PRON', 'VERB', 'SCONJ', 'PROPN', 'AUX', 'VERB', 'ADP', 'DET', 'ADJ', 'NOUN', 'NOUN', 'ADP', 'PROPN', 'PUNCT', 'ADV', 'DET', 'NOUN', 'PRON', 'DET', 'NOUN', 'ADP', 'PROPN', 'VERB', 'ADP', 'PRON', 'ADJ', 'NOUN', 'ADP', 'NOUN', 'CONJ', 'NOUN', 'SCONJ', 'VERB', 'DET', 'NOUN', 'ADP', 'NOUN', 'VERB', 'PROPN', 'ADV', 'ADP', 'NOUN', 'DET', 'ADJ', 'NOUN', 'VERB', 'DET', 'PROPN', 'PROPN', 'CONJ', 'PROPN', 'PROPN', 'PUNCT']\n",
      "['Since', 'then', ',', 'India', 'has', 'talked', 'peace', 'while', 'always', 'signaling', 'that', 'only', 'the', 'status', 'quo', 'would', 'be', 'acceptable', 'as', 'a', 'final', 'settlement', ':', 'a', 'line', 'of', 'action', 'that', 'is', 'followed', 'in', 'the', 'case', 'of', 'disputes', 'with', 'China', 'as', 'well', '.']\n",
      "['ADP', 'ADV', 'PUNCT', 'PROPN', 'AUX', 'VERB', 'NOUN', 'SCONJ', 'ADV', 'VERB', 'SCONJ', 'ADV', 'DET', 'NOUN', 'NOUN', 'AUX', 'VERB', 'ADJ', 'ADP', 'DET', 'ADJ', 'NOUN', 'PUNCT', 'DET', 'NOUN', 'ADP', 'NOUN', 'PRON', 'AUX', 'VERB', 'ADP', 'DET', 'NOUN', 'ADP', 'NOUN', 'ADP', 'PROPN', 'ADV', 'ADV', 'PUNCT']\n",
      "['Unfortunately', 'for', 'those', 'eager', 'to', 'indefinitely', 'carry', 'on', 'with', 'the', 'lucrative', 'business', 'of', 'conflict', 'resolution', 'in', 'South', 'Asia', ',', 'Pervez', 'Musharraf', 'has', 'now', 'called', 'Colin', 'Powell', \"'s\", 'bluff', ',', 'challenging', 'him', 'to', 'deliver', 'on', 'his', 'frequent', 'statements', 'implying', 'that', 'the', 'Indians', 'jump', 'to', 'his', 'commands', '.']\n",
      "['ADV', 'ADP', 'PRON', 'ADJ', 'PART', 'ADV', 'VERB', 'ADP', 'ADP', 'DET', 'ADJ', 'NOUN', 'ADP', 'NOUN', 'NOUN', 'ADP', 'PROPN', 'PROPN', 'PUNCT', 'PROPN', 'PROPN', 'AUX', 'ADV', 'VERB', 'PROPN', 'PROPN', 'PART', 'NOUN', 'PUNCT', 'VERB', 'PRON', 'PART', 'VERB', 'ADP', 'PRON', 'ADJ', 'NOUN', 'VERB', 'SCONJ', 'DET', 'PROPN', 'VERB', 'ADP', 'PRON', 'NOUN', 'PUNCT']\n",
      "['Once', 'the', 'Manmohan', 'Singh', 'government', 'shows', 'that', 'it', 'has', 'little', 'appetite', 'for', 'suicide', ',', 'Musharraf', 'will', 'face', 'the', 'moment', 'of', 'truth', ':', 'accept', 'the', 'inevitable', ',', 'or', 'once', 'again', 'ramp', 'up', 'the', 'insurgency', 'and', 'spawn', 'a', 'fresh', 'lot', 'of', 'killers', 'that', 'can', 'hit', 'not', 'merely', 'Mumbai', 'and', 'New', 'Delhi', 'but', 'London', 'and', 'Chicago', 'as', 'well', '.']\n",
      "['SCONJ', 'DET', 'PROPN', 'PROPN', 'NOUN', 'VERB', 'SCONJ', 'PRON', 'VERB', 'ADJ', 'NOUN', 'ADP', 'NOUN', 'PUNCT', 'PROPN', 'AUX', 'VERB', 'DET', 'NOUN', 'ADP', 'NOUN', 'PUNCT', 'VERB', 'DET', 'ADJ', 'PUNCT', 'CONJ', 'ADV', 'ADV', 'VERB', 'ADP', 'DET', 'NOUN', 'CONJ', 'VERB', 'DET', 'ADJ', 'NOUN', 'ADP', 'NOUN', 'PRON', 'AUX', 'VERB', 'ADV', 'ADV', 'PROPN', 'CONJ', 'PROPN', 'PROPN', 'CONJ', 'PROPN', 'CONJ', 'PROPN', 'ADV', 'ADV', 'PUNCT']\n",
      "['The', 'one', 'country', 'that', 'has', 'shown', 'that', 'it', 'understands', 'the', 'realities', 'in', 'South', 'Asia', 'is', 'China', '.']\n",
      "['DET', 'NUM', 'NOUN', 'PRON', 'AUX', 'VERB', 'SCONJ', 'PRON', 'VERB', 'DET', 'NOUN', 'ADP', 'PROPN', 'PROPN', 'VERB', 'PROPN', 'PUNCT']\n",
      "['Under', 'President', 'Hu', 'Jintao', ',', 'Beijing', 'has', 'opened', 'out', 'to', 'New', 'Delhi', 'and', 'Prime', 'Minister', 'Wen', 'Jiabao', 'is', 'expected', 'to', 'visit', 'early', 'next', 'year', ',', 'making', 'friends', 'by', 'formally', 'accepting', 'Sikkim', 'as', 'part', 'of', 'India', 'and', 'backing', 'India', 'as', 'a', 'permanent', 'member', 'of', 'the', 'U.N.', 'Security', 'Council', '--', 'thus', 'leaving', 'Washington', 'as', 'the', 'only', 'one', 'of', 'the', '\"', 'permanent', 'five', '\"', 'that', 'has', 'not', 'yet', 'done', 'so', '.']\n",
      "['ADP', 'PROPN', 'PROPN', 'PROPN', 'PUNCT', 'PROPN', 'AUX', 'VERB', 'ADP', 'ADP', 'PROPN', 'PROPN', 'CONJ', 'PROPN', 'PROPN', 'PROPN', 'PROPN', 'AUX', 'VERB', 'PART', 'VERB', 'ADV', 'ADJ', 'NOUN', 'PUNCT', 'VERB', 'NOUN', 'SCONJ', 'ADV', 'VERB', 'PROPN', 'ADP', 'NOUN', 'ADP', 'PROPN', 'CONJ', 'VERB', 'PROPN', 'ADP', 'DET', 'ADJ', 'NOUN', 'ADP', 'DET', 'PROPN', 'PROPN', 'PROPN', 'PUNCT', 'ADV', 'VERB', 'PROPN', 'ADP', 'DET', 'ADJ', 'NOUN', 'ADP', 'DET', 'PUNCT', 'ADJ', 'NUM', 'PUNCT', 'PRON', 'AUX', 'PART', 'ADV', 'VERB', 'ADV', 'PUNCT']\n",
      "['With', 'Colin', 'Powell', 'around', ',', 'the', 'U.S.', 'has', 'no', 'need', 'of', 'an', 'Osama', 'bin', 'Laden']\n",
      "['SCONJ', 'PROPN', 'PROPN', 'ADV', 'PUNCT', 'DET', 'PROPN', 'VERB', 'DET', 'NOUN', 'ADP', 'DET', 'PROPN', 'PROPN', 'PROPN']\n",
      "['M.D.', 'Nalapat', ',', 'an', 'expert', 'on', 'jihad', ',', 'is', 'professor', 'of', 'geopolitics', 'at', 'the', 'Manipal', 'Academy', 'of', 'Higher', 'Education', ',', 'India', '.']\n",
      "['PROPN', 'PROPN', 'PUNCT', 'DET', 'NOUN', 'ADP', 'NOUN', 'PUNCT', 'VERB', 'NOUN', 'ADP', 'NOUN', 'ADP', 'DET', 'PROPN', 'PROPN', 'ADP', 'PROPN', 'PROPN', 'PUNCT', 'PROPN', 'PUNCT']\n",
      "['Washington', 'Times', '28/10/2004']\n",
      "['PROPN', 'PROPN', 'NUM']\n",
      "['Ok', '.']\n",
      "['INTJ', 'PUNCT']\n",
      "['We', 'all', 'know', 'that', 'John', 'Kerry', 'served', 'in', 'Vietnam', '.']\n",
      "['PRON', 'DET', 'VERB', 'SCONJ', 'PROPN', 'PROPN', 'VERB', 'ADP', 'PROPN', 'PUNCT']\n",
      "['Four', 'whole', 'months', ',', 'after', 'which', 'he', 'took', 'advantage', 'of', 'a', 'little', '-', 'known', ',', 'little', '-', 'invoked', 'regulation', 'that', 'allowed', 'him', 'to', 'desert', 'his', '\"', 'band', 'of', 'brothers', '\"', '.']\n",
      "['NUM', 'ADJ', 'NOUN', 'PUNCT', 'ADP', 'PRON', 'PRON', 'VERB', 'NOUN', 'ADP', 'DET', 'ADV', 'PUNCT', 'VERB', 'PUNCT', 'ADV', 'PUNCT', 'VERB', 'NOUN', 'PRON', 'VERB', 'PRON', 'PART', 'VERB', 'PRON', 'PUNCT', 'NOUN', 'ADP', 'NOUN', 'PUNCT', 'PUNCT']\n",
      "['We', 'also', 'know', 'how', 'Dan', 'Rather', 'libeled', 'George', 'Bush', 'and', 'impugned', 'his', 'service', 'in', 'the', 'Texas', 'Air', 'National', 'Guard', 'on', 'a', '\"', '60', 'Minutes', 'II', '\"', 'report', 'based', 'largely', 'on', 'forged', 'documents', '.']\n",
      "['PRON', 'ADV', 'VERB', 'ADV', 'PROPN', 'PROPN', 'VERB', 'PROPN', 'PROPN', 'CONJ', 'VERB', 'PRON', 'NOUN', 'ADP', 'DET', 'PROPN', 'PROPN', 'PROPN', 'PROPN', 'ADP', 'DET', 'PUNCT', 'NUM', 'PROPN', 'NUM', 'PUNCT', 'NOUN', 'VERB', 'ADV', 'ADP', 'VERB', 'NOUN', 'PUNCT']\n",
      "['During', 'his', 'time', 'in', 'the', 'Guard', ',', 'George', 'Bush', 'flew', 'the', 'F', '-', '102', 'Delta', 'Dagger', 'fighter', '-', 'interceptor', '.']\n",
      "['ADP', 'PRON', 'NOUN', 'ADP', 'DET', 'PROPN', 'PUNCT', 'PROPN', 'PROPN', 'VERB', 'DET', 'PROPN', 'PUNCT', 'NUM', 'PROPN', 'PROPN', 'NOUN', 'PUNCT', 'NOUN', 'PUNCT']\n",
      "['The', 'F', '-', '102', 'saw', 'service', 'in', 'the', 'Vietnam', 'theater', 'between', 'March', '1962', 'and', 'December', '1969', '.']\n",
      "['DET', 'PROPN', 'PUNCT', 'NUM', 'VERB', 'NOUN', 'ADP', 'DET', 'PROPN', 'NOUN', 'ADP', 'PROPN', 'NUM', 'CONJ', 'PROPN', 'NUM', 'PUNCT']\n",
      "['During', 'this', 'time', ',', 'F', '-', '102', 'squadrons', 'were', 'based', 'out', 'of', 'Tan', 'Son', 'Nhut', ',', 'Da', 'Nang', 'and', 'Bien', 'Hoa', 'in', 'Vietnam', ',', 'and', 'Udorn', 'and', 'Don', 'Muang', 'in', 'Thailand', '.']\n",
      "['ADP', 'DET', 'NOUN', 'PUNCT', 'PROPN', 'PUNCT', 'NUM', 'NOUN', 'AUX', 'VERB', 'ADP', 'ADP', 'PROPN', 'PROPN', 'PROPN', 'PUNCT', 'PROPN', 'PROPN', 'CONJ', 'PROPN', 'PROPN', 'ADP', 'PROPN', 'PUNCT', 'CONJ', 'PROPN', 'CONJ', 'PROPN', 'PROPN', 'ADP', 'PROPN', 'PUNCT']\n",
      "['(', 'Click', 'here', 'for', 'source', '.', ')']\n",
      "['PUNCT', 'VERB', 'ADV', 'ADP', 'NOUN', 'PUNCT', 'PUNCT']\n",
      "['As', 'far', 'as', 'George', 'Bush', 'knew', ',', 'he', 'and', 'his', 'unit', 'could', 'have', 'been', 'transferred', 'to', 'Vietnam', '.']\n",
      "['ADV', 'ADV', 'SCONJ', 'PROPN', 'PROPN', 'VERB', 'PUNCT', 'PRON', 'CONJ', 'PRON', 'NOUN', 'AUX', 'AUX', 'AUX', 'VERB', 'ADP', 'PROPN', 'PUNCT']\n",
      "['In', 'all', 'this', 'so', '-', 'called', 'controversy', ',', 'has', 'anyone', 'considered', 'that', 'perhaps', 'George', 'Bush', 'just', 'wanted', 'to', 'fly', 'jets', '?']\n",
      "['ADP', 'DET', 'DET', 'ADV', 'PUNCT', 'VERB', 'NOUN', 'PUNCT', 'AUX', 'PRON', 'VERB', 'SCONJ', 'ADV', 'PROPN', 'PROPN', 'ADV', 'VERB', 'PART', 'VERB', 'NOUN', 'PUNCT']\n",
      "['And', ',', 'let', \"'s\", 'remember', ',', 'flying', 'supersonic', 'fighter', 'jets', 'is', 'dangerous', '!']\n",
      "['CONJ', 'PUNCT', 'VERB', 'PRON', 'VERB', 'PUNCT', 'VERB', 'ADJ', 'NOUN', 'NOUN', 'VERB', 'ADJ', 'PUNCT']\n",
      "['They', 'do', \"n't\", 'let', 'just', 'anybody', 'do', 'it', '.']\n",
      "['PRON', 'AUX', 'PART', 'VERB', 'ADV', 'PRON', 'VERB', 'PRON', 'PUNCT']\n",
      "['Some', 'reporters', '(', 'you', 'know', ',', 'the', 'ones', 'with', 'journalistic', 'ethics', ')', 'have', 'actually', 'uncovered', 'the', 'truth', 'about', 'George', 'Bush', \"'s\", 'service', 'in', 'the', 'Texas', 'Air', 'National', 'Guard', '.']\n",
      "['DET', 'NOUN', 'PUNCT', 'PRON', 'VERB', 'PUNCT', 'DET', 'NOUN', 'ADP', 'ADJ', 'NOUN', 'PUNCT', 'AUX', 'ADV', 'VERB', 'DET', 'NOUN', 'ADP', 'PROPN', 'PROPN', 'PART', 'NOUN', 'ADP', 'DET', 'PROPN', 'PROPN', 'PROPN', 'PROPN', 'PUNCT']\n",
      "['For', 'example', ',', 'did', 'you', 'know', 'that', 'George', 'Bush', 'spent', 'considerably', 'more', 'time', 'in', 'uniform', 'than', 'John', 'Kerry', '?']\n",
      "['ADP', 'NOUN', 'PUNCT', 'AUX', 'PRON', 'VERB', 'SCONJ', 'PROPN', 'PROPN', 'VERB', 'ADV', 'ADJ', 'NOUN', 'ADP', 'NOUN', 'ADP', 'PROPN', 'PROPN', 'PUNCT']\n",
      "['What', 'follows', 'is', 'the', 'text', 'of', 'an', 'e-mail', 'sent', 'to', 'me', 'by', 'a', 'friend', 'of', 'mine', '(', 'thanks', 'to', 'Dave', 'Manzano', ')', '.']\n",
      "['PRON', 'VERB', 'VERB', 'DET', 'NOUN', 'ADP', 'DET', 'NOUN', 'VERB', 'ADP', 'PRON', 'ADP', 'DET', 'NOUN', 'ADP', 'PRON', 'PUNCT', 'NOUN', 'ADP', 'PROPN', 'PROPN', 'PUNCT', 'PUNCT']\n",
      "['Read', 'on', 'to', 'learn', 'the', 'facts', '.']\n",
      "['VERB', 'ADV', 'PART', 'VERB', 'DET', 'NOUN', 'PUNCT']\n",
      "['---------']\n",
      "['PUNCT']\n",
      "['Bush', \"'s\", 'National', 'Guard', 'years']\n",
      "['PROPN', 'PART', 'PROPN', 'PROPN', 'NOUN']\n",
      "['Before', 'you', 'fall', 'for', 'Dems', \"'\", 'spin', ',', 'here', 'are', 'the', 'facts']\n",
      "['SCONJ', 'PRON', 'VERB', 'ADP', 'PROPN', 'PART', 'NOUN', 'PUNCT', 'ADV', 'VERB', 'DET', 'NOUN']\n",
      "['What', 'do', 'you', 'really', 'know', 'about', 'George', 'W.', 'Bush', \"'s\", 'time', 'in', 'the', 'Air', 'National', 'Guard', '?']\n",
      "['PRON', 'AUX', 'PRON', 'ADV', 'VERB', 'ADP', 'PROPN', 'PROPN', 'PROPN', 'PART', 'NOUN', 'ADP', 'DET', 'PROPN', 'PROPN', 'PROPN', 'PUNCT']\n",
      "['That', 'he', 'did', \"n't\", 'show', 'up', 'for', 'duty', 'in', 'Alabama', '?']\n",
      "['SCONJ', 'PRON', 'AUX', 'PART', 'VERB', 'ADP', 'ADP', 'NOUN', 'ADP', 'PROPN', 'PUNCT']\n",
      "['That', 'he', 'missed', 'a', 'physical', '?']\n",
      "['SCONJ', 'PRON', 'VERB', 'DET', 'NOUN', 'PUNCT']\n",
      "['That', 'his', 'daddy', 'got', 'him', 'in', '?']\n",
      "['SCONJ', 'PRON', 'NOUN', 'VERB', 'PRON', 'ADV', 'PUNCT']\n",
      "['News', 'coverage', 'of', 'the', 'president', \"'s\", 'years', 'in', 'the', 'Guard', 'has', 'tended', 'to', 'focus', 'on', 'one', 'brief', 'portion', 'of', 'that', 'time', '-', 'to', 'the', 'exclusion', 'of', 'virtually', 'everything', 'else', '.']\n",
      "['NOUN', 'NOUN', 'ADP', 'DET', 'PROPN', 'PART', 'NOUN', 'ADP', 'DET', 'PROPN', 'AUX', 'VERB', 'PART', 'VERB', 'ADP', 'NUM', 'ADJ', 'NOUN', 'ADP', 'DET', 'NOUN', 'PUNCT', 'ADP', 'DET', 'NOUN', 'ADP', 'ADV', 'PRON', 'ADJ', 'PUNCT']\n",
      "['So', 'just', 'for', 'the', 'record', ',', 'here', ',', 'in', 'full', ',', 'is', 'what', 'Bush', 'did', ':']\n",
      "['ADV', 'ADV', 'ADP', 'DET', 'NOUN', 'PUNCT', 'ADV', 'PUNCT', 'ADP', 'ADJ', 'PUNCT', 'VERB', 'PRON', 'PROPN', 'VERB', 'PUNCT']\n",
      "['The', 'future', 'president', 'joined', 'the', 'Guard', 'in', 'May', '1968', '.']\n",
      "['DET', 'ADJ', 'NOUN', 'VERB', 'DET', 'PROPN', 'ADP', 'PROPN', 'NUM', 'PUNCT']\n",
      "['Almost', 'immediately', ',', 'he', 'began', 'an', 'extended', 'period', 'of', 'training', '.']\n",
      "['ADV', 'ADV', 'PUNCT', 'PRON', 'VERB', 'DET', 'ADJ', 'NOUN', 'ADP', 'NOUN', 'PUNCT']\n",
      "['Six', 'weeks', 'of', 'basic', 'training', '.']\n",
      "['NUM', 'NOUN', 'ADP', 'ADJ', 'NOUN', 'PUNCT']\n",
      "['Fifty', '-', 'three', 'weeks', 'of', 'flight', 'training', '.']\n",
      "['NUM', 'PUNCT', 'NUM', 'NOUN', 'ADP', 'NOUN', 'NOUN', 'PUNCT']\n",
      "['Twenty', '-', 'one', 'weeks', 'of', 'fighter', '-', 'interceptor', 'training', '.']\n",
      "['NUM', 'PUNCT', 'NUM', 'NOUN', 'ADP', 'NOUN', 'PUNCT', 'NOUN', 'NOUN', 'PUNCT']\n",
      "['That', 'was', '80', 'weeks', 'to', 'begin', 'with', ',', 'and', 'there', 'were', 'other', 'training', 'periods', 'thrown', 'in', 'as', 'well', '.']\n",
      "['PRON', 'VERB', 'NUM', 'NOUN', 'PART', 'VERB', 'ADP', 'PUNCT', 'CONJ', 'PRON', 'VERB', 'ADJ', 'NOUN', 'NOUN', 'VERB', 'ADV', 'ADV', 'ADV', 'PUNCT']\n",
      "['It', 'was', 'full', '-', 'time', 'work', '.']\n",
      "['PRON', 'VERB', 'ADJ', 'PUNCT', 'NOUN', 'NOUN', 'PUNCT']\n",
      "['By', 'the', 'time', 'it', 'was', 'over', ',', 'Bush', 'had', 'served', 'nearly', 'two', 'years', '.']\n",
      "['ADP', 'DET', 'NOUN', 'PRON', 'VERB', 'ADV', 'PUNCT', 'PROPN', 'AUX', 'VERB', 'ADV', 'NUM', 'NOUN', 'PUNCT']\n",
      "['Not', 'two', 'years', 'of', 'weekends', '.']\n",
      "['ADV', 'NUM', 'NOUN', 'ADP', 'NOUN', 'PUNCT']\n",
      "['Two', 'years', '.']\n",
      "['NUM', 'NOUN', 'PUNCT']\n",
      "['After', 'training', ',', 'Bush', 'kept', 'flying', ',', 'racking', 'up', 'hundreds', 'of', 'hours', 'in', 'F', '-', '102', 'jets', '.']\n",
      "['ADP', 'NOUN', 'PUNCT', 'PROPN', 'VERB', 'VERB', 'PUNCT', 'VERB', 'ADP', 'NOUN', 'ADP', 'NOUN', 'ADP', 'PROPN', 'PUNCT', 'NUM', 'NOUN', 'PUNCT']\n",
      "['As', 'he', 'did', ',', 'he', 'accumulated', 'points', 'toward', 'his', 'National', 'Guard', 'service', 'requirements', '.']\n",
      "['SCONJ', 'PRON', 'VERB', 'PUNCT', 'PRON', 'VERB', 'NOUN', 'ADP', 'PRON', 'PROPN', 'PROPN', 'NOUN', 'NOUN', 'PUNCT']\n",
      "['At', 'the', 'time', ',', 'guardsmen', 'were', 'required', 'to', 'accumulate', 'a', 'minimum', 'of', '50', 'points', 'to', 'meet', 'their', 'yearly', 'obligation', '.']\n",
      "['ADP', 'DET', 'NOUN', 'PUNCT', 'NOUN', 'AUX', 'VERB', 'PART', 'VERB', 'DET', 'NOUN', 'ADP', 'NUM', 'NOUN', 'PART', 'VERB', 'PRON', 'ADJ', 'NOUN', 'PUNCT']\n",
      "['According', 'to', 'records', 'released', 'earlier', 'this', 'year', ',', 'Bush', 'earned', '253', 'points', 'in', 'his', 'first', 'year', ',', 'May', '1968', 'to', 'May', '1969', '(', 'since', 'he', 'joined', 'in', 'May', '1968', ',', 'his', 'service', 'thereafter', 'was', 'measured', 'on', 'a', 'May', '-', 'to', '-', 'May', 'basis', ')', '.']\n",
      "['VERB', 'ADP', 'NOUN', 'VERB', 'ADV', 'DET', 'NOUN', 'PUNCT', 'PROPN', 'VERB', 'NUM', 'NOUN', 'ADP', 'PRON', 'ADJ', 'NOUN', 'PUNCT', 'PROPN', 'NUM', 'ADP', 'PROPN', 'NUM', 'PUNCT', 'SCONJ', 'PRON', 'VERB', 'ADP', 'PROPN', 'NUM', 'PUNCT', 'PRON', 'NOUN', 'ADV', 'AUX', 'VERB', 'ADP', 'DET', 'PROPN', 'PUNCT', 'ADP', 'PUNCT', 'PROPN', 'NOUN', 'PUNCT', 'PUNCT']\n",
      "['Bush', 'earned', '340', 'points', 'in', '1969', '-', '1970', '.']\n",
      "['PROPN', 'VERB', 'NUM', 'NOUN', 'ADP', 'NUM', 'SYM', 'NUM', 'PUNCT']\n",
      "['[', 'In', 'other', 'words', ',', 'Bush', 'earned', 'enough', 'points', 'to', 'satisfy', 'the', 'requirements', 'for', 'his', 'entire', 'six', 'year', 'hitch', 'in', '1969', '-', '1970', 'alone', '.']\n",
      "['PUNCT', 'ADP', 'ADJ', 'NOUN', 'PUNCT', 'PROPN', 'VERB', 'ADJ', 'NOUN', 'PART', 'VERB', 'DET', 'NOUN', 'ADP', 'PRON', 'ADJ', 'NUM', 'NOUN', 'NOUN', 'ADP', 'NUM', 'SYM', 'NUM', 'ADV', 'PUNCT']\n",
      "['-', 'acd', ']']\n",
      "['PUNCT', 'PROPN', 'PUNCT']\n",
      "['He', 'earned', '137', 'points', 'in', '1970', '-', '1971', '.']\n",
      "['PRON', 'VERB', 'NUM', 'NOUN', 'ADP', 'NUM', 'SYM', 'NUM', 'PUNCT']\n",
      "['And', 'he', 'earned', '112', 'points', 'in', '1971', '-', '1972', '.']\n",
      "['CONJ', 'PRON', 'VERB', 'NUM', 'NOUN', 'ADP', 'NUM', 'SYM', 'NUM', 'PUNCT']\n",
      "['The', 'numbers', 'indicate', 'that', 'in', 'his', 'first', 'four', 'years', ',', 'Bush', 'not', 'only', 'showed', 'up', ',', 'he', 'showed', 'up', 'a', 'lot', '.']\n",
      "['DET', 'NOUN', 'VERB', 'SCONJ', 'ADP', 'PRON', 'ADJ', 'NUM', 'NOUN', 'PUNCT', 'PROPN', 'PART', 'ADV', 'VERB', 'ADP', 'PUNCT', 'PRON', 'VERB', 'ADP', 'DET', 'NOUN', 'PUNCT']\n",
      "['Did', 'you', 'know', 'that', '?']\n",
      "['AUX', 'PRON', 'VERB', 'PRON', 'PUNCT']\n",
      "['That', 'brings', 'the', 'story', 'to', 'May', '1972', '-', 'the', 'time', 'that', 'has', 'been', 'the', 'focus', 'of', 'so', 'many', 'news', 'reports', '-', 'when', 'Bush', '\"', 'deserted', '\"', '(', 'according', 'to', 'anti-Bush', 'filmmaker', 'Michael', 'Moore', ')', 'or', 'went', '\"', 'AWOL', '\"', '(', 'according', 'to', 'Terry', 'McAuliffe', ',', 'chairman', 'of', 'the', 'Democratic', 'National', 'Committee', ')', '.']\n",
      "['PRON', 'VERB', 'DET', 'NOUN', 'ADP', 'PROPN', 'NUM', 'PUNCT', 'DET', 'NOUN', 'PRON', 'AUX', 'VERB', 'DET', 'NOUN', 'ADP', 'ADV', 'ADJ', 'NOUN', 'NOUN', 'PUNCT', 'ADV', 'PROPN', 'PUNCT', 'VERB', 'PUNCT', 'PUNCT', 'VERB', 'ADP', 'ADJ', 'NOUN', 'PROPN', 'PROPN', 'PUNCT', 'CONJ', 'VERB', 'PUNCT', 'ADJ', 'PUNCT', 'PUNCT', 'VERB', 'ADP', 'PROPN', 'PROPN', 'PUNCT', 'NOUN', 'ADP', 'DET', 'PROPN', 'PROPN', 'PROPN', 'PUNCT', 'PUNCT']\n",
      "['Bush', 'asked', 'for', 'permission', 'to', 'go', 'to', 'Alabama', 'to', 'work', 'on', 'a', 'Senate', 'campaign', '.']\n",
      "['PROPN', 'VERB', 'ADP', 'NOUN', 'PART', 'VERB', 'ADP', 'PROPN', 'PART', 'VERB', 'ADP', 'DET', 'PROPN', 'NOUN', 'PUNCT']\n",
      "['His', 'superior', 'officers', 'said', 'OK', '.']\n",
      "['PRON', 'ADJ', 'NOUN', 'VERB', 'INTJ', 'PUNCT']\n",
      "['Requests', 'like', 'that', 'were', \"n't\", 'unusual', ',', 'says', 'retired', 'Col.', 'William', 'Campenni', ',', 'who', 'flew', 'with', 'Bush', 'in', '1970', 'and', '1971', '.']\n",
      "['NOUN', 'ADP', 'PRON', 'VERB', 'PART', 'ADJ', 'PUNCT', 'VERB', 'VERB', 'PROPN', 'PROPN', 'PROPN', 'PUNCT', 'PRON', 'VERB', 'ADP', 'PROPN', 'ADP', 'NUM', 'CONJ', 'NUM', 'PUNCT']\n",
      "['\"', 'In', '1972', ',', 'there', 'was', 'an', 'enormous', 'glut', 'of', 'pilots', ',', '\"', 'Campenni', 'says', '.']\n",
      "['PUNCT', 'ADP', 'NUM', 'PUNCT', 'PRON', 'VERB', 'DET', 'ADJ', 'NOUN', 'ADP', 'NOUN', 'PUNCT', 'PUNCT', 'PROPN', 'VERB', 'PUNCT']\n",
      "['\"', 'The', 'Vietnam', 'War', 'was', 'winding', 'down', ',', 'and', 'the', 'Air', 'Force', 'was', 'putting', 'pilots', 'in', 'desk', 'jobs', '.']\n",
      "['PUNCT', 'DET', 'PROPN', 'PROPN', 'AUX', 'VERB', 'ADP', 'PUNCT', 'CONJ', 'DET', 'PROPN', 'PROPN', 'AUX', 'VERB', 'NOUN', 'ADP', 'NOUN', 'NOUN', 'PUNCT']\n",
      "['In', \"'72\", 'or', \"'73\", ',', 'if', 'you', 'were', 'a', 'pilot', ',', 'active', 'or', 'Guard', ',', 'and', 'you', 'had', 'an', 'obligation', 'and', 'wanted', 'to', 'get', 'out', ',', 'no', 'problem', '.']\n",
      "['ADP', 'NUM', 'CONJ', 'NUM', 'PUNCT', 'SCONJ', 'PRON', 'VERB', 'DET', 'NOUN', 'PUNCT', 'ADJ', 'CONJ', 'PROPN', 'PUNCT', 'CONJ', 'PRON', 'VERB', 'DET', 'NOUN', 'CONJ', 'VERB', 'PART', 'VERB', 'ADV', 'PUNCT', 'DET', 'NOUN', 'PUNCT']\n",
      "['In', 'fact', ',', 'you', 'were', 'helping', 'them', 'solve', 'their', 'problem', '.', '\"']\n",
      "['ADP', 'NOUN', 'PUNCT', 'PRON', 'AUX', 'VERB', 'PRON', 'VERB', 'PRON', 'NOUN', 'PUNCT', 'PUNCT']\n",
      "['So', 'Bush', 'stopped', 'flying', '.']\n",
      "['ADV', 'PROPN', 'VERB', 'VERB', 'PUNCT']\n",
      "['From', 'May', '1972', 'to', 'May', '1973', ',', 'he', 'earned', 'just', '56', 'points', '-', 'not', 'much', ',', 'but', 'enough', 'to', 'meet', 'his', 'requirement', '.']\n",
      "['ADP', 'PROPN', 'NUM', 'ADP', 'PROPN', 'NUM', 'PUNCT', 'PRON', 'VERB', 'ADV', 'NUM', 'NOUN', 'PUNCT', 'ADV', 'ADJ', 'PUNCT', 'CONJ', 'ADJ', 'PART', 'VERB', 'PRON', 'NOUN', 'PUNCT']\n",
      "['Then', ',', 'in', '1973', ',', 'as', 'Bush', 'made', 'plans', 'to', 'leave', 'the', 'Guard', 'and', 'go', 'to', 'Harvard', 'Business', 'School', ',', 'he', 'again', 'started', 'showing', 'up', 'frequently', '.']\n",
      "['ADV', 'PUNCT', 'ADP', 'NUM', 'PUNCT', 'SCONJ', 'PROPN', 'VERB', 'NOUN', 'PART', 'VERB', 'DET', 'PROPN', 'CONJ', 'VERB', 'ADP', 'PROPN', 'PROPN', 'PROPN', 'PUNCT', 'PRON', 'ADV', 'VERB', 'VERB', 'ADP', 'ADV', 'PUNCT']\n",
      "['In', 'June', 'and', 'July', 'of', '1973', ',', 'he', 'accumulated', '56', 'points', ',', 'enough', 'to', 'meet', 'the', 'minimum', 'requirement', 'for', 'the', '1973', '-', '1974', 'year', '.']\n",
      "['ADP', 'PROPN', 'CONJ', 'PROPN', 'ADP', 'NUM', 'PUNCT', 'PRON', 'VERB', 'NUM', 'NOUN', 'PUNCT', 'ADJ', 'PART', 'VERB', 'DET', 'NOUN', 'NOUN', 'ADP', 'DET', 'NUM', 'SYM', 'NUM', 'NOUN', 'PUNCT']\n",
      "['Then', ',', 'at', 'his', 'request', ',', 'he', 'was', 'given', 'permission', 'to', 'go', '.']\n",
      "['ADV', 'PUNCT', 'ADP', 'PRON', 'NOUN', 'PUNCT', 'PRON', 'AUX', 'VERB', 'NOUN', 'PART', 'VERB', 'PUNCT']\n",
      "['Bush', 'received', 'an', 'honorable', 'discharge', 'after', 'serving', 'five', 'years', ',', 'four', 'months', 'and', 'five', 'days', 'of', 'his', 'original', 'six', '-', 'year', 'commitment', '.']\n",
      "['PROPN', 'VERB', 'DET', 'ADJ', 'NOUN', 'SCONJ', 'VERB', 'NUM', 'NOUN', 'PUNCT', 'NUM', 'NOUN', 'CONJ', 'NUM', 'NOUN', 'ADP', 'PRON', 'ADJ', 'NUM', 'PUNCT', 'NOUN', 'NOUN', 'PUNCT']\n",
      "['By', 'that', 'time', ',', 'however', ',', 'he', 'had', 'accumulated', 'enough', 'points', 'in', 'each', 'year', 'to', 'cover', 'six', 'years', 'of', 'service', '.']\n",
      "['ADP', 'DET', 'NOUN', 'PUNCT', 'ADV', 'PUNCT', 'PRON', 'AUX', 'VERB', 'ADJ', 'NOUN', 'ADP', 'DET', 'NOUN', 'PART', 'VERB', 'NUM', 'NOUN', 'ADP', 'NOUN', 'PUNCT']\n",
      "['During', 'his', 'service', ',', 'Bush', 'received', 'high', 'marks', 'as', 'a', 'pilot', '.']\n",
      "['ADP', 'PRON', 'NOUN', 'PUNCT', 'PROPN', 'VERB', 'ADJ', 'NOUN', 'ADP', 'DET', 'NOUN', 'PUNCT']\n",
      "['A', '1970', 'evaluation', 'said', 'Bush', '\"', 'clearly', 'stands', 'out', 'as', 'a', 'top', 'notch', 'fighter', 'interceptor', 'pilot', '\"', 'and', 'was', '\"', 'a', 'natural', 'leader', 'whom', 'his', 'contemporaries', 'look', 'to', 'for', 'leadership', '.', '\"']\n",
      "['DET', 'NUM', 'NOUN', 'VERB', 'PROPN', 'PUNCT', 'ADV', 'VERB', 'ADP', 'ADP', 'DET', 'ADJ', 'NOUN', 'NOUN', 'NOUN', 'NOUN', 'PUNCT', 'CONJ', 'VERB', 'PUNCT', 'DET', 'ADJ', 'NOUN', 'PRON', 'PRON', 'NOUN', 'VERB', 'ADP', 'ADP', 'NOUN', 'PUNCT', 'PUNCT']\n",
      "['A', '1971', 'evaluation', 'called', 'Bush', '\"', 'an', 'exceptionally', 'fine', 'young', 'officer', 'and', 'pilot', '\"', 'who', '\"', 'continually', 'flies', 'intercept', 'missions', 'with', 'the', 'unit', 'to', 'increase', 'his', 'proficiency', 'even', 'further', '.', '\"']\n",
      "['DET', 'NUM', 'NOUN', 'VERB', 'PROPN', 'PUNCT', 'DET', 'ADV', 'ADJ', 'ADJ', 'NOUN', 'CONJ', 'NOUN', 'PUNCT', 'PRON', 'PUNCT', 'ADV', 'VERB', 'NOUN', 'NOUN', 'ADP', 'DET', 'NOUN', 'PART', 'VERB', 'PRON', 'NOUN', 'ADV', 'ADV', 'PUNCT', 'PUNCT']\n",
      "['And', 'a', '1972', 'evaluation', 'called', 'Bush', '\"', 'an', 'exceptional', 'fighter', 'interceptor', 'pilot', 'and', 'officer', '.', '\"']\n",
      "['CONJ', 'DET', 'NUM', 'NOUN', 'VERB', 'PROPN', 'PUNCT', 'DET', 'ADJ', 'NOUN', 'NOUN', 'NOUN', 'CONJ', 'NOUN', 'PUNCT', 'PUNCT']\n",
      "['Now', ',', 'it', 'is', 'only', 'natural', 'that', 'news', 'reports', 'questioning', 'Bush', \"'s\", 'service', '-', 'in', 'The', 'Boston', 'Globe', 'and', 'The', 'New', 'York', 'Times', ',', 'on', 'CBS', 'and', 'in', 'other', 'outlets', '-', 'would', 'come', 'out', 'now', '.']\n",
      "['ADV', 'PUNCT', 'PRON', 'VERB', 'ADV', 'ADJ', 'SCONJ', 'NOUN', 'NOUN', 'VERB', 'PROPN', 'PART', 'NOUN', 'PUNCT', 'ADP', 'DET', 'PROPN', 'PROPN', 'CONJ', 'DET', 'PROPN', 'PROPN', 'PROPN', 'PUNCT', 'ADP', 'PROPN', 'CONJ', 'ADP', 'ADJ', 'NOUN', 'PUNCT', 'AUX', 'VERB', 'ADV', 'ADV', 'PUNCT']\n",
      "['Democrats', 'are', 'spitting', 'mad', 'over', 'attacks', 'on', 'John', 'Kerry', \"'s\", 'record', 'by', 'the', 'group', 'Swift', 'Boat', 'Veterans', 'for', 'Truth', '.']\n",
      "['PROPN', 'VERB', 'ADV', 'ADJ', 'ADP', 'NOUN', 'ADP', 'PROPN', 'PROPN', 'PART', 'NOUN', 'ADP', 'DET', 'NOUN', 'PROPN', 'PROPN', 'PROPN', 'ADP', 'PROPN', 'PUNCT']\n",
      "['And', ',', 'as', 'it', 'is', 'with', 'Kerry', ',', 'it', \"'s\", 'reasonable', 'to', 'look', 'at', 'a', 'candidate', \"'s\", 'entire', 'record', ',', 'including', 'his', 'military', 'service', '-', 'or', 'lack', 'of', 'it', '.']\n",
      "['CONJ', 'PUNCT', 'SCONJ', 'PRON', 'VERB', 'ADP', 'PROPN', 'PUNCT', 'PRON', 'VERB', 'ADJ', 'PART', 'VERB', 'ADP', 'DET', 'NOUN', 'PART', 'ADJ', 'NOUN', 'PUNCT', 'VERB', 'PRON', 'ADJ', 'NOUN', 'PUNCT', 'CONJ', 'NOUN', 'ADP', 'PRON', 'PUNCT']\n",
      "['Voters', 'are', 'perfectly', 'able', 'to', 'decide', 'whether', 'it', \"'s\", 'important', 'or', 'not', 'in', 'November', '.']\n",
      "['NOUN', 'VERB', 'ADV', 'ADJ', 'PART', 'VERB', 'SCONJ', 'PRON', 'VERB', 'ADJ', 'CONJ', 'PART', 'ADP', 'PROPN', 'PUNCT']\n",
      "['The', 'Kerry', 'camp', 'blames', 'Bush', 'for', 'the', 'Swift', 'boat', 'veterans', \"'\", 'attack', ',', 'but', 'anyone', 'who', 'has', 'spent', 'much', 'time', 'talking', 'to', 'the', 'Swifties', 'gets', 'the', 'sense', 'that', 'they', 'are', 'doing', 'it', 'entirely', 'for', 'their', 'own', 'reasons', '.']\n",
      "['DET', 'PROPN', 'NOUN', 'VERB', 'PROPN', 'ADP', 'DET', 'PROPN', 'PROPN', 'PROPN', 'PART', 'NOUN', 'PUNCT', 'CONJ', 'PRON', 'PRON', 'AUX', 'VERB', 'ADJ', 'NOUN', 'VERB', 'ADP', 'DET', 'PROPN', 'VERB', 'DET', 'NOUN', 'SCONJ', 'PRON', 'AUX', 'VERB', 'PRON', 'ADV', 'ADP', 'PRON', 'ADJ', 'NOUN', 'PUNCT']\n",
      "['And', 'it', 'should', 'be', 'noted', 'in', 'passing', 'that', 'Kerry', 'has', 'personally', 'questioned', 'Bush', \"'s\", 'service', ',', 'while', 'Bush', 'has', 'not', 'personally', 'questioned', 'Kerry', \"'s\", '.']\n",
      "['CONJ', 'PRON', 'AUX', 'AUX', 'VERB', 'ADP', 'NOUN', 'SCONJ', 'PROPN', 'AUX', 'ADV', 'VERB', 'PROPN', 'PART', 'NOUN', 'PUNCT', 'SCONJ', 'PROPN', 'AUX', 'PART', 'ADV', 'VERB', 'PROPN', 'PART', 'PUNCT']\n",
      "['In', 'April', '-', 'before', 'the', 'Swift', 'boat', 'veterans', 'had', 'said', 'a', 'word', '-', 'Kerry', 'said', 'Bush', '\"', 'has', 'yet', 'to', 'explain', 'to', 'America', 'whether', 'or', 'not', ',', 'and', 'tell', 'the', 'truth', ',', 'about', 'whether', 'he', 'showed', 'up', 'for', 'duty', '.', '\"']\n",
      "['ADP', 'PROPN', 'PUNCT', 'SCONJ', 'DET', 'PROPN', 'PROPN', 'PROPN', 'AUX', 'VERB', 'DET', 'NOUN', 'PUNCT', 'PROPN', 'VERB', 'PROPN', 'PUNCT', 'VERB', 'ADV', 'PART', 'VERB', 'ADP', 'PROPN', 'ADP', 'CONJ', 'ADV', 'PUNCT', 'CONJ', 'VERB', 'DET', 'NOUN', 'PUNCT', 'SCONJ', 'ADP', 'PRON', 'VERB', 'ADP', 'ADP', 'NOUN', 'PUNCT', 'PUNCT']\n",
      "['Earlier', ',', 'Kerry', 'said', ',', '\"', 'Just', 'because', 'you', 'get', 'an', 'honorable', 'discharge', 'does', 'not', ',', 'in', 'fact', ',', 'answer', 'that', 'question', '.', '\"']\n",
      "['ADV', 'PUNCT', 'PROPN', 'VERB', 'PUNCT', 'PUNCT', 'ADV', 'SCONJ', 'PRON', 'VERB', 'DET', 'ADJ', 'NOUN', 'AUX', 'PART', 'PUNCT', 'ADP', 'NOUN', 'PUNCT', 'VERB', 'DET', 'NOUN', 'PUNCT', 'PUNCT']\n",
      "['Now', ',', 'after', 'the', 'Swift', 'boat', 'episode', ',', 'the', 'spotlight', 'has', 'returned', 'to', 'Bush', '.']\n",
      "['ADV', 'PUNCT', 'ADP', 'DET', 'PROPN', 'PROPN', 'NOUN', 'PUNCT', 'DET', 'NOUN', 'AUX', 'VERB', 'ADP', 'PROPN', 'PUNCT']\n",
      "['That', \"'s\", 'fine', '.']\n",
      "['PRON', 'VERB', 'ADJ', 'PUNCT']\n",
      "['We', 'should', 'know', 'as', 'much', 'as', 'we', 'can', '.']\n",
      "['PRON', 'AUX', 'VERB', 'ADV', 'ADJ', 'SCONJ', 'PRON', 'AUX', 'PUNCT']\n",
      "['And', 'perhaps', 'someday', 'Kerry', 'will', 'release', 'more', 'of', 'his', 'military', 'records', 'as', 'well', '.']\n",
      "['CONJ', 'ADV', 'NOUN', 'PROPN', 'AUX', 'VERB', 'ADJ', 'ADP', 'PRON', 'ADJ', 'NOUN', 'ADV', 'ADV', 'PUNCT']\n",
      "['Byron', 'York', 'is', 'a', 'White', 'House', 'correspondent', 'for', 'National', 'Review', '.']\n",
      "['PROPN', 'PROPN', 'VERB', 'DET', 'PROPN', 'PROPN', 'NOUN', 'ADP', 'PROPN', 'PROPN', 'PUNCT']\n",
      "['His', 'column', 'appears', 'in', 'The', 'Hill', 'each', 'week', '.']\n",
      "['PRON', 'NOUN', 'VERB', 'ADP', 'DET', 'PROPN', 'DET', 'NOUN', 'PUNCT']\n",
      "['One', 'week', 'to', 'elections', 'day', 'and', 'the', 'general', 'atmosphere', 'in', 'the', 'capital', 'is', 'eerie', ',', 'yet', 'strikingly', 'familiar', '.']\n",
      "['NUM', 'NOUN', 'ADP', 'NOUN', 'NOUN', 'CONJ', 'DET', 'ADJ', 'NOUN', 'ADP', 'DET', 'NOUN', 'VERB', 'ADJ', 'PUNCT', 'CONJ', 'ADV', 'ADJ', 'PUNCT']\n",
      "['I', 'suspect', 'the', 'streets', 'of', 'Baghdad', 'will', 'look', 'as', 'if', 'a', 'war', 'is', 'looming', 'this', 'week', '.']\n",
      "['PRON', 'VERB', 'DET', 'NOUN', 'ADP', 'PROPN', 'AUX', 'VERB', 'SCONJ', 'SCONJ', 'DET', 'NOUN', 'AUX', 'VERB', 'DET', 'NOUN', 'PUNCT']\n",
      "['There', 'is', 'no', 'doubt', 'that', 'many', 'Iraqis', 'regard', 'the', 'date', 'of', '30', 'January', 'as', 'a', 'day', 'of', 'renewed', 'hope', ',', 'one', 'they', 'have', 'been', 'awaiting', 'all', 'their', 'lives', ',', 'but', 'at', 'the', 'same', 'time', ',', 'many', 'others', 'are', 'already', 'dreading', 'it', '.']\n",
      "['PRON', 'VERB', 'DET', 'NOUN', 'SCONJ', 'ADJ', 'PROPN', 'VERB', 'DET', 'NOUN', 'ADP', 'NUM', 'PROPN', 'ADP', 'DET', 'NOUN', 'ADP', 'VERB', 'NOUN', 'PUNCT', 'NUM', 'PRON', 'AUX', 'AUX', 'VERB', 'DET', 'PRON', 'NOUN', 'PUNCT', 'CONJ', 'ADP', 'DET', 'ADJ', 'NOUN', 'PUNCT', 'ADJ', 'NOUN', 'AUX', 'ADV', 'VERB', 'PRON', 'PUNCT']\n",
      "['The', 'interim', 'government', 'has', 'promised', 'security', 'measures', 'that', 'would', 'reduce', 'the', 'violence', 'on', 'the', 'day', 'of', 'elections', ',', 'but', 'I', 'fail', 'to', 'see', 'how', 'they', 'will', 'be', 'able', 'to', 'protect', 'all', '5,000', '(', 'or', 'so', ')', 'balloting', 'centres', '.']\n",
      "['DET', 'ADJ', 'NOUN', 'AUX', 'VERB', 'NOUN', 'NOUN', 'PRON', 'AUX', 'VERB', 'DET', 'NOUN', 'ADP', 'DET', 'NOUN', 'ADP', 'NOUN', 'PUNCT', 'CONJ', 'PRON', 'VERB', 'PART', 'VERB', 'ADV', 'PRON', 'AUX', 'VERB', 'ADJ', 'PART', 'VERB', 'DET', 'NUM', 'PUNCT', 'CONJ', 'ADV', 'PUNCT', 'NOUN', 'NOUN', 'PUNCT']\n",
      "['Many', 'voting', 'centres', 'have', 'already', 'been', 'successfully', 'attacked', 'or', 'destroyed', 'in', 'many', 'areas', '.']\n",
      "['ADJ', 'NOUN', 'NOUN', 'AUX', 'ADV', 'AUX', 'ADV', 'VERB', 'CONJ', 'VERB', 'ADP', 'ADJ', 'NOUN', 'PUNCT']\n",
      "['Now', 'that', 'the', 'picture', 'is', 'clear', ',', 'the', 'two', 'main', 'competing', 'lists', 'seem', 'to', 'be', 'the', 'United', 'Iraqi', 'Coalition', 'list', 'and', 'Allawi', \"'s\", 'Al', '-', 'Iraqiya', 'list', '.']\n",
      "['ADV', 'SCONJ', 'DET', 'NOUN', 'VERB', 'ADJ', 'PUNCT', 'DET', 'NUM', 'ADJ', 'VERB', 'NOUN', 'VERB', 'PART', 'VERB', 'DET', 'PROPN', 'PROPN', 'PROPN', 'NOUN', 'CONJ', 'PROPN', 'PART', 'PROPN', 'PUNCT', 'PROPN', 'NOUN', 'PUNCT']\n",
      "['Ayad', 'Allawi', ',', 'and', 'other', 'ministers', 'running', 'on', 'his', 'list', ',', 'have', 'quite', 'expectedly', 'used', 'their', 'governmental', 'positions', 'in', 'campaigning', '.']\n",
      "['PROPN', 'PROPN', 'PUNCT', 'CONJ', 'ADJ', 'NOUN', 'VERB', 'ADP', 'PRON', 'NOUN', 'PUNCT', 'AUX', 'ADV', 'ADV', 'VERB', 'PRON', 'ADJ', 'NOUN', 'ADP', 'NOUN', 'PUNCT']\n",
      "['One', 'minister', 'reportedly', 'handed', 'out', '100', 'dollar', \"'\", 'gifts', \"'\", 'to', 'journalists', 'attending', 'a', 'press', 'conference', 'for', 'Allawi', ',', 'a', 'practice', 'that', 'brings', 'back', 'bad', 'memories', 'to', 'many', 'Iraqis', '.']\n",
      "['NUM', 'NOUN', 'ADV', 'VERB', 'ADP', 'NUM', 'NOUN', 'PUNCT', 'NOUN', 'PUNCT', 'ADP', 'NOUN', 'VERB', 'DET', 'NOUN', 'NOUN', 'ADP', 'PROPN', 'PUNCT', 'DET', 'NOUN', 'PRON', 'VERB', 'ADV', 'ADJ', 'NOUN', 'ADP', 'ADJ', 'PROPN', 'PUNCT']\n",
      "['Sheikh', 'Naji', 'Al', '-', 'Abbudi', ',', 'a', 'spokesman', 'for', 'Sistani', ',', 'affirmed', 'the', 'claims', 'that', 'the', 'Grand', 'Ayatollah', 'is', 'backing', 'the', 'United', 'Iraqi', 'Coalition', 'list', '.']\n",
      "['PROPN', 'PROPN', 'PROPN', 'PUNCT', 'PROPN', 'PUNCT', 'DET', 'NOUN', 'ADP', 'PROPN', 'PUNCT', 'VERB', 'DET', 'NOUN', 'SCONJ', 'DET', 'PROPN', 'PROPN', 'AUX', 'VERB', 'DET', 'PROPN', 'PROPN', 'PROPN', 'NOUN', 'PUNCT']\n",
      "['Indeed', ',', 'Sistani', \"'s\", 'agents', 'all', 'over', 'the', 'country', 'have', 'been', 'quite', 'active', 'in', 'educating', 'Iraqi', 'Shia', 'on', 'the', 'merits', 'of', 'elections', ',', 'which', 'has', 'led', 'to', 'the', 'assassination', 'of', 'at', 'least', 'two', 'of', 'them', '.']\n",
      "['ADV', 'PUNCT', 'PROPN', 'PART', 'NOUN', 'ADV', 'ADP', 'DET', 'NOUN', 'AUX', 'VERB', 'ADV', 'ADJ', 'SCONJ', 'VERB', 'ADJ', 'PROPN', 'ADP', 'DET', 'NOUN', 'ADP', 'NOUN', 'PUNCT', 'PRON', 'AUX', 'VERB', 'ADP', 'DET', 'NOUN', 'ADP', 'ADV', 'ADV', 'NUM', 'ADP', 'PRON', 'PUNCT']\n",
      "['Al', '-', 'Abbudi', 'stated', 'that', '\"', 'His', 'Emminence', '\"', 'decided', 'to', 'openly', 'support', 'the', 'list', 'because', '\"', 'others', '\"', '(', 'obviously', 'a', 'reference', 'to', 'Allawi', ')', 'have', 'been', 'abusing', 'official', 'state', 'positions', 'and', 'media', 'outlets', 'in', 'their', 'campaigning', '.']\n",
      "['PROPN', 'PUNCT', 'PROPN', 'VERB', 'SCONJ', 'PUNCT', 'PRON', 'PROPN', 'PUNCT', 'VERB', 'PART', 'ADV', 'VERB', 'DET', 'NOUN', 'SCONJ', 'PUNCT', 'NOUN', 'PUNCT', 'PUNCT', 'ADV', 'DET', 'NOUN', 'ADP', 'PROPN', 'PUNCT', 'AUX', 'AUX', 'VERB', 'ADJ', 'NOUN', 'NOUN', 'CONJ', 'NOUN', 'NOUN', 'ADP', 'PRON', 'NOUN', 'PUNCT']\n",
      "['Again', 'there', 'is', 'no', 'official', 'written', 'statement', 'from', 'Sistani', \"'s\", 'office', 'confirming', 'this', 'allegation', ',', 'which', 'I', 'think', 'is', 'intentional', '.']\n",
      "['ADV', 'PRON', 'VERB', 'DET', 'ADJ', 'VERB', 'NOUN', 'ADP', 'PROPN', 'PART', 'NOUN', 'VERB', 'DET', 'NOUN', 'PUNCT', 'PRON', 'PRON', 'VERB', 'VERB', 'ADJ', 'PUNCT']\n",
      "['Ahmed', 'Al', '-', 'Chalabi', 'and', 'defense', 'minister', 'Hazim', 'Al', '-', \"Sha'lan\", 'have', 'been', 'engaging', 'in', 'shrill', 'public', 'attacks', 'over', 'the', 'media', '.']\n",
      "['PROPN', 'PROPN', 'PUNCT', 'PROPN', 'CONJ', 'NOUN', 'NOUN', 'PROPN', 'PROPN', 'PUNCT', 'PROPN', 'AUX', 'AUX', 'VERB', 'ADP', 'ADJ', 'ADJ', 'NOUN', 'ADP', 'DET', 'NOUN', 'PUNCT']\n",
      "['Chalabi', 'describing', \"Sha'lan\", 'as', 'a', '\"', \"Ba'athist\", '\"', 'and', 'a', '\"', 'former', 'double', 'agent', 'for', 'Saddam', 'and', 'the', 'CIA', '\"', ',', 'while', \"Sha'lan\", 'dismisses', 'Chalabi', 'as', 'a', '\"', 'thief', '\"', 'and', 'an', '\"', 'Iranian', 'stooge', 'who', 'longs', 'for', 'his', 'own', 'origins', 'by', 'defending', 'Iran', '\"', '.']\n",
      "['PROPN', 'VERB', 'PROPN', 'ADP', 'DET', 'PUNCT', 'PROPN', 'PUNCT', 'CONJ', 'DET', 'PUNCT', 'ADJ', 'ADJ', 'NOUN', 'ADP', 'PROPN', 'CONJ', 'DET', 'PROPN', 'PUNCT', 'PUNCT', 'SCONJ', 'PROPN', 'VERB', 'PROPN', 'ADP', 'DET', 'PUNCT', 'NOUN', 'PUNCT', 'CONJ', 'DET', 'PUNCT', 'ADJ', 'NOUN', 'PRON', 'VERB', 'ADP', 'PRON', 'ADJ', 'NOUN', 'SCONJ', 'VERB', 'PROPN', 'PUNCT', 'PUNCT']\n",
      "['One', 'remark', 'made', 'by', \"Sha'lan\", 'on', 'Al', '-', 'Arabiya', 'TV', ',', 'that', 'he', 'could', \"n't\", 'say', 'more', 'about', 'Chalabi', 'because', 'he', 'would', 'embarrass', 'himself', 'and', 'the', 'viewers', 'almost', 'made', 'me', 'roll', 'on', 'the', 'floor', '.']\n",
      "['NUM', 'NOUN', 'VERB', 'ADP', 'PROPN', 'ADP', 'PROPN', 'PUNCT', 'PROPN', 'PROPN', 'PUNCT', 'SCONJ', 'PRON', 'AUX', 'PART', 'VERB', 'ADJ', 'ADP', 'PROPN', 'SCONJ', 'PRON', 'AUX', 'VERB', 'PRON', 'CONJ', 'DET', 'NOUN', 'ADV', 'VERB', 'PRON', 'VERB', 'ADP', 'DET', 'NOUN', 'PUNCT']\n",
      "['It', 'was', 'an', 'extremely', 'amusing', 'episode', ',', 'watching', 'Chalabi', 'looking', 'smug', 'and', 'amused', ',', 'contrasted', 'with', \"Sha'lan\", ',', 'all', 'serious', 'and', 'barely', 'keeping', 'himself', 'from', 'swearing', '.']\n",
      "['PRON', 'VERB', 'DET', 'ADV', 'ADJ', 'NOUN', 'PUNCT', 'VERB', 'PROPN', 'VERB', 'ADJ', 'CONJ', 'ADJ', 'PUNCT', 'VERB', 'ADP', 'PROPN', 'PUNCT', 'ADV', 'ADJ', 'CONJ', 'ADV', 'VERB', 'PRON', 'SCONJ', 'VERB', 'PUNCT']\n",
      "['Fistfights', ',', 'please', '.']\n",
      "['NOUN', 'PUNCT', 'INTJ', 'PUNCT']\n",
      "['Hazim', 'Al', '-', \"Sha'lan\", ',', 'by', 'the', 'way', ',', 'is', 'the', 'son', 'of', 'the', 'late', 'Sheikh', 'of', 'Al', '-', \"Khaza'il\", 'in', 'Diwaniya', 'and', 'has', 'the', 'potential', 'to', 'replace', 'former', 'information', 'minister', ',', 'M.S.', 'Al', '-', 'Sahaf', ',', 'in', 'his', 'nonsensical', 'media', 'statements', ',', 'which', 'can', 'be', 'passed', 'as', 'jokes', '.']\n",
      "['PROPN', 'PROPN', 'PUNCT', 'PROPN', 'PUNCT', 'ADP', 'DET', 'NOUN', 'PUNCT', 'VERB', 'DET', 'NOUN', 'ADP', 'DET', 'ADJ', 'PROPN', 'ADP', 'PROPN', 'PUNCT', 'PROPN', 'ADP', 'PROPN', 'CONJ', 'VERB', 'DET', 'NOUN', 'PART', 'VERB', 'ADJ', 'NOUN', 'NOUN', 'PUNCT', 'PROPN', 'PROPN', 'PUNCT', 'PROPN', 'PUNCT', 'ADP', 'PRON', 'ADJ', 'NOUN', 'NOUN', 'PUNCT', 'PRON', 'AUX', 'AUX', 'VERB', 'ADP', 'NOUN', 'PUNCT']\n",
      "['The', 'main', 'Kurdish', 'coalition', 'list', '(', 'PUK', 'and', 'KDP', ')', 'is', 'barely', 'mentioned', 'outside', 'the', 'Kurdish', 'region', '.']\n",
      "['DET', 'ADJ', 'ADJ', 'NOUN', 'NOUN', 'PUNCT', 'PROPN', 'CONJ', 'PROPN', 'PUNCT', 'AUX', 'ADV', 'VERB', 'ADP', 'DET', 'ADJ', 'NOUN', 'PUNCT']\n",
      "['Even', 'there', ',', 'many', 'Kurds', 'look', 'and', 'act', 'as', 'if', 'they', 'are', 'going', 'to', 'grab', 'the', 'chance', 'to', 'vote', 'them', 'out', 'of', 'power', '.']\n",
      "['ADV', 'ADV', 'PUNCT', 'ADJ', 'PROPN', 'VERB', 'CONJ', 'VERB', 'SCONJ', 'SCONJ', 'PRON', 'AUX', 'VERB', 'PART', 'VERB', 'DET', 'NOUN', 'PART', 'VERB', 'PRON', 'ADP', 'ADP', 'NOUN', 'PUNCT']\n",
      "['I', 'doubt', 'that', 'will', 'be', 'the', 'outcome', 'though', '.']\n",
      "['PRON', 'VERB', 'PRON', 'AUX', 'VERB', 'DET', 'NOUN', 'ADV', 'PUNCT']\n",
      "['Many', 'Iraqis', ',', 'including', 'conservative', 'and', 'religious', 'Iraqis', ',', 'are', 'surprisingly', 'rooting', 'for', 'the', 'Iraqi', 'Communist', 'party', ',', 'probably', 'in', 'an', 'attempt', 'to', 'counter', 'the', 'influence', 'of', 'Islamists', 'in', 'the', 'forthcoming', 'National', 'Assembly', '.']\n",
      "['ADJ', 'PROPN', 'PUNCT', 'VERB', 'ADJ', 'CONJ', 'ADJ', 'PROPN', 'PUNCT', 'AUX', 'ADV', 'VERB', 'ADP', 'DET', 'PROPN', 'PROPN', 'PROPN', 'PUNCT', 'ADV', 'ADP', 'DET', 'NOUN', 'PART', 'VERB', 'DET', 'NOUN', 'ADP', 'PROPN', 'ADP', 'DET', 'ADJ', 'PROPN', 'PROPN', 'PUNCT']\n",
      "['The', 'Communist', 'party', 'has', 'the', 'largest', 'number', 'of', 'registered', 'party', 'members', 'in', 'the', 'country', 'and', 'can', 'be', 'considered', 'as', 'the', 'oldest', 'popular', 'political', 'party', 'in', 'Iraq', '.']\n",
      "['DET', 'PROPN', 'PROPN', 'VERB', 'DET', 'ADJ', 'NOUN', 'ADP', 'VERB', 'NOUN', 'NOUN', 'ADP', 'DET', 'NOUN', 'CONJ', 'AUX', 'AUX', 'VERB', 'ADP', 'DET', 'ADJ', 'ADJ', 'ADJ', 'NOUN', 'ADP', 'PROPN', 'PUNCT']\n",
      "['Its', 'support', 'base', 'is', 'much', 'larger', 'than', 'what', 'it', 'seems', '.']\n",
      "['PRON', 'NOUN', 'NOUN', 'VERB', 'ADV', 'ADJ', 'SCONJ', 'PRON', 'PRON', 'VERB', 'PUNCT']\n",
      "['***']\n",
      "['PUNCT']\n",
      "['Several', 'candidates', 'were', 'assassinated', 'and', 'targeted', 'these', 'last', 'two', 'weeks', ',', 'others', 'have', 'been', 'forced', 'under', 'threats', 'to', 'withdraw', 'and', 'to', 'follow', 'the', 'example', 'of', 'the', 'Islamic', 'party', '.']\n",
      "['ADJ', 'NOUN', 'AUX', 'VERB', 'CONJ', 'VERB', 'DET', 'ADJ', 'NUM', 'NOUN', 'PUNCT', 'NOUN', 'AUX', 'AUX', 'VERB', 'ADP', 'NOUN', 'PART', 'VERB', 'CONJ', 'PART', 'VERB', 'DET', 'NOUN', 'ADP', 'DET', 'PROPN', 'PROPN', 'PUNCT']\n",
      "['Sectarian', 'tensions', 'are', 'at', 'their', 'highest', 'since', 'April', ',', '2004', ',', 'with', 'Sunni', 'insurgents', 'now', 'openly', 'attacking', 'Husseiniyas', 'and', 'Shia', 'mosques', '.']\n",
      "['ADJ', 'NOUN', 'VERB', 'ADP', 'PRON', 'ADJ', 'ADP', 'PROPN', 'PUNCT', 'NUM', 'PUNCT', 'SCONJ', 'ADJ', 'VERB', 'ADV', 'ADV', 'VERB', 'PROPN', 'CONJ', 'ADJ', 'NOUN', 'PUNCT']\n",
      "['I', 'had', 'an', 'interesting', 'conversation', 'with', 'a', 'middle', '-', 'aged', 'taxi', 'driver', 'who', 'used', 'to', 'live', 'in', 'Fallujah', 'and', 'is', 'now', 'at', 'relatives', 'in', 'Amiriya', ',', 'Baghdad', '.']\n",
      "['PRON', 'VERB', 'DET', 'ADJ', 'NOUN', 'ADP', 'DET', 'ADJ', 'PUNCT', 'ADJ', 'NOUN', 'NOUN', 'PRON', 'VERB', 'PART', 'VERB', 'ADP', 'PROPN', 'CONJ', 'VERB', 'ADV', 'ADP', 'NOUN', 'ADP', 'PROPN', 'PUNCT', 'PROPN', 'PUNCT']\n",
      "['After', 'asking', 'me', 'which', 'tribe', 'I', 'belong', 'to', '(', 'thus', 'assessing', 'my', 'sectarian', 'background', ')', 'he', 'started', 'hurling', 'abuses', 'at', 'the', 'Shia', ',', 'calling', 'them', 'Persians', ',', 'Majoos', '(', 'fire', 'worshippers', ')', ',', 'rabid', 'dogs', 'and', 'a', 'handful', 'of', 'other', 'descriptions', 'that', 'I', 'ca', \"n't\", 'mention', 'here', '.']\n",
      "['SCONJ', 'VERB', 'PRON', 'DET', 'NOUN', 'PRON', 'VERB', 'ADP', 'PUNCT', 'ADV', 'VERB', 'PRON', 'ADJ', 'NOUN', 'PUNCT', 'PRON', 'VERB', 'VERB', 'NOUN', 'ADP', 'DET', 'PROPN', 'PUNCT', 'VERB', 'PRON', 'PROPN', 'PUNCT', 'PROPN', 'PUNCT', 'NOUN', 'NOUN', 'PUNCT', 'PUNCT', 'ADJ', 'NOUN', 'CONJ', 'DET', 'NOUN', 'ADP', 'ADJ', 'NOUN', 'PRON', 'PRON', 'AUX', 'PART', 'VERB', 'ADV', 'PUNCT']\n",
      "['He', 'described', 'Allawi', \"'s\", 'face', 'as', 'that', 'of', 'a', 'f*ed', 'horse', 'and', 'he', 'dismissed', 'the', 'whole', 'government', 'as', 'a', 'band', 'of', 'thieves', 'and', 'traitors', '.']\n",
      "['PRON', 'VERB', 'PROPN', 'PART', 'NOUN', 'ADP', 'PRON', 'ADP', 'DET', 'VERB', 'NOUN', 'CONJ', 'PRON', 'VERB', 'DET', 'ADJ', 'NOUN', 'ADP', 'DET', 'NOUN', 'ADP', 'NOUN', 'CONJ', 'NOUN', 'PUNCT']\n",
      "['I', 'did', \"n't\", 'argue', 'with', 'him', 'but', 'I', 'asked', 'him', 'what', 'he', 'believed', 'would', 'be', 'a', 'viable', 'solution', 'to', 'this', 'mess', '.']\n",
      "['PRON', 'AUX', 'PART', 'VERB', 'ADP', 'PRON', 'CONJ', 'PRON', 'VERB', 'PRON', 'PRON', 'PRON', 'VERB', 'AUX', 'VERB', 'DET', 'ADJ', 'NOUN', 'ADP', 'DET', 'NOUN', 'PUNCT']\n",
      "['He', 'said', 'that', 'resistance', 'was', 'the', 'only', 'commonsense', 'solution', '.']\n",
      "['PRON', 'VERB', 'SCONJ', 'NOUN', 'VERB', 'DET', 'ADJ', 'ADJ', 'NOUN', 'PUNCT']\n",
      "['First', 'driving', 'out', 'the', 'Americans', ',', 'then', 'fighting', 'the', 'Shia', 'back', 'into', 'submission', '(', 'as', 'in', '1991', ')', '.']\n",
      "['ADV', 'VERB', 'ADP', 'DET', 'PROPN', 'PUNCT', 'ADV', 'VERB', 'DET', 'PROPN', 'ADV', 'ADP', 'NOUN', 'PUNCT', 'ADP', 'ADP', 'NUM', 'PUNCT', 'PUNCT']\n",
      "['Sunni', 'Iraqis', 'contend', 'that', 'elections', 'are', 'impossible', 'to', 'hold', 'under', 'occupation', '.']\n",
      "['ADJ', 'PROPN', 'VERB', 'SCONJ', 'NOUN', 'VERB', 'ADJ', 'PART', 'VERB', 'ADP', 'NOUN', 'PUNCT']\n",
      "['Leaving', 'aside', 'the', 'fact', 'that', 'this', 'views', 'conflicts', 'with', 'other', 'historical', 'examples', 'in', 'the', 'region', ',', 'Sunnis', 'have', 'never', 'offered', 'an', 'alternative', 'choice', ',', 'which', 'eventually', 'leads', 'one', 'to', 'guess', 'that', 'the', 'opinion', 'held', 'by', 'the', 'Fallujan', 'taxi', 'driver', 'above', 'is', 'precisely', 'what', 'they', 'are', 'planning', 'to', 'implement', '.']\n",
      "['VERB', 'ADV', 'DET', 'NOUN', 'SCONJ', 'DET', 'NOUN', 'VERB', 'ADP', 'ADJ', 'ADJ', 'NOUN', 'ADP', 'DET', 'NOUN', 'PUNCT', 'PROPN', 'AUX', 'ADV', 'VERB', 'DET', 'ADJ', 'NOUN', 'PUNCT', 'PRON', 'ADV', 'VERB', 'PRON', 'PART', 'VERB', 'SCONJ', 'DET', 'NOUN', 'VERB', 'ADP', 'DET', 'ADJ', 'NOUN', 'NOUN', 'ADV', 'VERB', 'ADV', 'PRON', 'PRON', 'AUX', 'VERB', 'PART', 'VERB', 'PUNCT']\n",
      "['I', 'had', 'another', 'conversation', 'some', 'months', 'ago', 'with', 'a', 'retired', \"Ba'athist\", 'old', '-', 'timer', 'who', 'claimed', 'that', \"Ba'athists\", 'have', 'the', 'means', 'to', 'stage', 'a', 'third', 'coup', \"d'etat\", 'and', 'return', 'to', 'power', 'within', '10', 'hours', 'of', 'an', 'American', 'withdrawal', '.']\n",
      "['PRON', 'VERB', 'DET', 'NOUN', 'DET', 'NOUN', 'ADV', 'ADP', 'DET', 'VERB', 'PROPN', 'ADJ', 'PUNCT', 'NOUN', 'PRON', 'VERB', 'SCONJ', 'PROPN', 'VERB', 'DET', 'NOUN', 'PART', 'VERB', 'DET', 'ADJ', 'NOUN', 'NOUN', 'CONJ', 'VERB', 'ADP', 'NOUN', 'ADP', 'NUM', 'NOUN', 'ADP', 'DET', 'ADJ', 'NOUN', 'PUNCT']\n",
      "['On', 'sensing', 'my', 'incredulity', 'to', 'his', 'statement', 'he', 'asserted', 'that', \"Ba'athist\", 'cells', 'exist', 'in', 'all', 'parts', 'of', 'the', 'country', 'and', 'that', 'they', 'do', 'have', 'a', 'central', 'command', ',', 'even', 'though', 'many', 'have', 'formed', 'seperate', 'cells', '(', 'often', 'under', 'Islamic', 'labels', ')', 'with', 'their', 'own', 'leaderships', '.']\n",
      "['SCONJ', 'VERB', 'PRON', 'NOUN', 'ADP', 'PRON', 'NOUN', 'PRON', 'VERB', 'SCONJ', 'PROPN', 'NOUN', 'VERB', 'ADP', 'DET', 'NOUN', 'ADP', 'DET', 'NOUN', 'CONJ', 'SCONJ', 'PRON', 'AUX', 'VERB', 'DET', 'ADJ', 'NOUN', 'PUNCT', 'ADV', 'SCONJ', 'ADJ', 'AUX', 'VERB', 'ADJ', 'NOUN', 'PUNCT', 'ADV', 'ADP', 'ADJ', 'NOUN', 'PUNCT', 'ADP', 'PRON', 'ADJ', 'NOUN', 'PUNCT']\n",
      "['He', 'said', 'that', 'they', 'have', 'the', 'training', 'and', 'the', 'funding', 'as', 'well', 'as', 'the', 'support', 'of', 'neighbouring', 'and', 'regional', 'governments', '.']\n",
      "['PRON', 'VERB', 'SCONJ', 'PRON', 'VERB', 'DET', 'NOUN', 'CONJ', 'DET', 'NOUN', 'ADV', 'ADV', 'ADP', 'DET', 'NOUN', 'ADP', 'VERB', 'CONJ', 'ADJ', 'NOUN', 'PUNCT']\n",
      "['I', 'concur', 'that', \"Ba'athists\", 'and', 'former', 'security', 'forces', 'are', 'capable', 'of', 'immediately', 'controlling', 'at', 'least', '5', 'out', 'of', '18', 'governorates', ',', 'along', 'with', 'the', 'capital', ',', 'if', 'Americans', 'are', 'to', 'be', 'removed', 'from', 'the', 'picture', 'entirely', '.']\n",
      "['PRON', 'VERB', 'SCONJ', 'PROPN', 'CONJ', 'ADJ', 'NOUN', 'NOUN', 'VERB', 'ADJ', 'SCONJ', 'ADV', 'VERB', 'ADV', 'ADV', 'NUM', 'ADP', 'ADP', 'NUM', 'NOUN', 'PUNCT', 'ADP', 'ADP', 'DET', 'NOUN', 'PUNCT', 'SCONJ', 'PROPN', 'VERB', 'PART', 'AUX', 'VERB', 'ADP', 'DET', 'NOUN', 'ADV', 'PUNCT']\n",
      "['But', 'I', 'also', 'see', 'that', 'as', 'a', 'fatal', 'misconception', ',', 'which', 'is', 'doing', 'Sunnis', 'harm', ',', 'because', 'I', 'do', \"n't\", 'believe', 'the', 'US', 'is', 'going', 'anywhere', 'so', 'soon', '.']\n",
      "['CONJ', 'PRON', 'ADV', 'VERB', 'PRON', 'ADP', 'DET', 'ADJ', 'NOUN', 'PUNCT', 'PRON', 'AUX', 'VERB', 'PROPN', 'NOUN', 'PUNCT', 'SCONJ', 'PRON', 'AUX', 'PART', 'VERB', 'DET', 'PROPN', 'AUX', 'VERB', 'ADV', 'ADV', 'ADV', 'PUNCT']\n",
      "['Any', 'government', 'that', 'assumes', 'power', 'after', 'the', 'elections', 'also', 'realises', 'this', ',', 'so', 'not', 'even', 'Sistani', 'is', 'going', 'to', 'call', 'the', 'US', 'to', 'withdraw', 'its', 'troops', ',', 'despite', 'what', 'he', 'is', 'saying', 'now', ',', 'not', 'until', 'they', 'are', 'ensured', 'the', 'insurgency', 'is', 'out', 'of', 'the', 'picture', ',', 'or', 'that', 'they', 'have', 'an', 'alternative', 'foreign', 'power', '(', 'in', 'this', 'case', 'Iran', ')', 'to', 'back', 'them', 'up', '.']\n",
      "['DET', 'NOUN', 'PRON', 'VERB', 'NOUN', 'ADP', 'DET', 'NOUN', 'ADV', 'VERB', 'PRON', 'PUNCT', 'ADV', 'ADV', 'ADV', 'PROPN', 'AUX', 'VERB', 'PART', 'VERB', 'DET', 'PROPN', 'PART', 'VERB', 'PRON', 'NOUN', 'PUNCT', 'SCONJ', 'PRON', 'PRON', 'AUX', 'VERB', 'ADV', 'PUNCT', 'PART', 'SCONJ', 'PRON', 'AUX', 'VERB', 'DET', 'NOUN', 'VERB', 'ADP', 'ADP', 'DET', 'NOUN', 'PUNCT', 'CONJ', 'SCONJ', 'PRON', 'VERB', 'DET', 'ADJ', 'ADJ', 'NOUN', 'PUNCT', 'ADP', 'DET', 'NOUN', 'PROPN', 'PUNCT', 'PART', 'VERB', 'PRON', 'ADP', 'PUNCT']\n",
      "['The', 'only', 'hope', 'now', 'is', 'that', ',', 'following', 'the', 'elections', ',', 'the', 'National', 'Assembly', 'would', 'offer', 'the', 'hand', 'of', 'peace', 'and', 'reconciliation', 'to', 'the', 'dissenting', 'parties', '.']\n",
      "['DET', 'ADJ', 'NOUN', 'ADV', 'VERB', 'SCONJ', 'PUNCT', 'VERB', 'DET', 'NOUN', 'PUNCT', 'DET', 'PROPN', 'PROPN', 'AUX', 'VERB', 'DET', 'NOUN', 'ADP', 'NOUN', 'CONJ', 'NOUN', 'ADP', 'DET', 'VERB', 'NOUN', 'PUNCT']\n",
      "['I', 'would', 'suggest', 'going', 'for', 'tribal', 'Sheikhs', 'rather', 'than', 'clerics', ',', 'since', 'they', 'have', 'the', 'upper', 'hand', 'in', 'their', 'areas', 'and', 'can', 'effectively', 'root', 'out', 'any', \"Ba'athists\", 'in', 'their', 'midst', 'in', 'return', 'for', 'a', 'promise', 'of', 'sharing', 'power', 'and', 'authority', '.']\n",
      "['PRON', 'AUX', 'VERB', 'VERB', 'ADP', 'ADJ', 'NOUN', 'ADP', 'ADP', 'NOUN', 'PUNCT', 'SCONJ', 'PRON', 'VERB', 'DET', 'ADJ', 'NOUN', 'ADP', 'PRON', 'NOUN', 'CONJ', 'AUX', 'ADV', 'VERB', 'ADP', 'DET', 'PROPN', 'ADP', 'PRON', 'NOUN', 'ADP', 'NOUN', 'ADP', 'DET', 'NOUN', 'SCONJ', 'VERB', 'NOUN', 'CONJ', 'NOUN', 'PUNCT']\n",
      "['Many', 'of', 'these', 'Sheikhs', 'have', 'been', 'disenfranchised', 'and', 'abused', 'over', 'the', 'last', 'two', 'years', '.']\n",
      "['ADJ', 'ADP', 'DET', 'NOUN', 'AUX', 'AUX', 'VERB', 'CONJ', 'VERB', 'ADP', 'DET', 'ADJ', 'NUM', 'NOUN', 'PUNCT']\n",
      "['Very', 'recently', ',', 'US', 'forces', 'in', 'Al', '-', 'Anbar', 'made', 'a', 'terrible', 'blunder', 'by', 'accidentally', 'killing', 'Abdul', '-', 'Razaq', 'Inad', 'Al', '-', \"Gu'ud\", ',', 'Sheikh', 'of', 'the', 'Al', '-', 'Bu', 'Nimr', 'clan', 'from', 'the', 'powerful', 'Dulaym', 'tribe', '.']\n",
      "['ADV', 'ADV', 'PUNCT', 'PROPN', 'NOUN', 'ADP', 'PROPN', 'PUNCT', 'PROPN', 'VERB', 'DET', 'ADJ', 'NOUN', 'SCONJ', 'ADV', 'VERB', 'PROPN', 'PUNCT', 'PROPN', 'PROPN', 'PROPN', 'PUNCT', 'PROPN', 'PUNCT', 'PROPN', 'ADP', 'DET', 'PROPN', 'PUNCT', 'PROPN', 'PROPN', 'NOUN', 'ADP', 'DET', 'ADJ', 'PROPN', 'NOUN', 'PUNCT']\n",
      "['Al', '-', \"Gu'ud\", 'had', 'favoured', 'elections', 'and', 'was', 'in', 'good', 'terms', 'with', 'the', 'government', '.']\n",
      "['PROPN', 'PUNCT', 'PROPN', 'AUX', 'VERB', 'NOUN', 'CONJ', 'VERB', 'ADP', 'ADJ', 'NOUN', 'ADP', 'DET', 'NOUN', 'PUNCT']\n",
      "['The', \"Gu'ud\", 'family', 'even', 'accepted', 'to', 'be', 'offered', 'the', 'seat', 'of', 'Al', '-', 'Anbar', 'governor', 'some', 'months', 'back', '.']\n",
      "['DET', 'PROPN', 'NOUN', 'ADV', 'VERB', 'PART', 'AUX', 'VERB', 'DET', 'NOUN', 'ADP', 'PROPN', 'PUNCT', 'PROPN', 'NOUN', 'DET', 'NOUN', 'ADV', 'PUNCT']\n",
      "['The', 'Al', '-', 'Bu', 'Nimr', 'in', 'Ramadi', 'and', 'Al', '-', 'Qaim', 'rose', 'in', 'arms', 'against', 'Saddam', 'in', 'the', 'mid-nineties', 'following', 'the', 'execution', 'of', 'Thamir', 'Madhlum', 'Al', '-', 'Dulaymi', ',', 'an', 'Air', 'Force', 'general', 'belonging', 'to', 'their', 'tribe', '.']\n",
      "['DET', 'PROPN', 'PUNCT', 'PROPN', 'PROPN', 'ADP', 'PROPN', 'CONJ', 'PROPN', 'PUNCT', 'PROPN', 'VERB', 'ADP', 'NOUN', 'ADP', 'PROPN', 'ADP', 'DET', 'NOUN', 'VERB', 'DET', 'NOUN', 'ADP', 'PROPN', 'PROPN', 'PROPN', 'PUNCT', 'PROPN', 'PUNCT', 'DET', 'PROPN', 'PROPN', 'NOUN', 'VERB', 'ADP', 'PRON', 'NOUN', 'PUNCT']\n",
      "['The', 'revolt', 'took', 'two', 'weeks', 'to', 'be', 'suppressed', 'by', 'the', 'Republican', 'Guard', '.']\n",
      "['DET', 'NOUN', 'VERB', 'NUM', 'NOUN', 'PART', 'AUX', 'VERB', 'ADP', 'DET', 'PROPN', 'PROPN', 'PUNCT']\n",
      "['Another', 'bad', 'step', 'was', 'the', 'recent', 'arrest', 'of', 'Sheikh', 'Hassan', 'Al', '-', 'Lihabi', ',', 'of', 'the', 'Lihaib', 'tribe', 'which', 'is', 'scattered', 'between', 'the', 'governorates', 'of', 'Al', '-', 'Anbar', ',', 'Mosul', 'and', 'Salah', 'Al', '-', 'Din', '.']\n",
      "['DET', 'ADJ', 'NOUN', 'VERB', 'DET', 'ADJ', 'NOUN', 'ADP', 'PROPN', 'PROPN', 'PROPN', 'PUNCT', 'PROPN', 'PUNCT', 'ADP', 'DET', 'PROPN', 'NOUN', 'PRON', 'AUX', 'VERB', 'ADP', 'DET', 'NOUN', 'ADP', 'PROPN', 'PUNCT', 'PROPN', 'PUNCT', 'PROPN', 'CONJ', 'PROPN', 'PROPN', 'PUNCT', 'PROPN', 'PUNCT']\n",
      "['Al', '-', 'Lihaibi', 'was', 'running', 'in', 'elections', 'and', 'is', 'now', 'said', 'to', 'have', 'withdrawn', 'following', 'this', 'incident', '.']\n",
      "['PROPN', 'PUNCT', 'PROPN', 'AUX', 'VERB', 'ADP', 'NOUN', 'CONJ', 'AUX', 'ADV', 'VERB', 'PART', 'AUX', 'VERB', 'VERB', 'DET', 'NOUN', 'PUNCT']\n",
      "['I', 'believe', 'national', 'reconciliation', 'to', 'be', 'the', 'only', 'path', 'forward', 'to', 'a', 'new', 'Iraq', '.']\n",
      "['PRON', 'VERB', 'ADJ', 'NOUN', 'PART', 'VERB', 'DET', 'ADJ', 'NOUN', 'ADV', 'ADP', 'DET', 'ADJ', 'PROPN', 'PUNCT']\n",
      "['The', 'Shia', 'can', 'not', 'live', 'without', 'the', 'Sunnis', ',', 'and', 'vice', 'versa', '.']\n",
      "['DET', 'PROPN', 'AUX', 'PART', 'VERB', 'ADP', 'DET', 'PROPN', 'PUNCT', 'CONJ', 'ADV', 'ADV', 'PUNCT']\n",
      "['Both', 'have', 'shared', 'this', 'country', 'for', 'the', 'last', '14', 'centuries', 'and', 'there', 'is', 'no', 'possible', 'way', 'that', 'one', 'can', 'live', 'without', 'the', 'other', '.']\n",
      "['DET', 'AUX', 'VERB', 'DET', 'NOUN', 'ADP', 'DET', 'ADJ', 'NUM', 'NOUN', 'CONJ', 'PRON', 'VERB', 'DET', 'ADJ', 'NOUN', 'ADV', 'NUM', 'AUX', 'VERB', 'ADP', 'DET', 'ADJ', 'PUNCT']\n",
      "['Even', 'partition', 'is', 'not', 'a', 'possibility', ',', 'there', 'are', 'no', 'clear', 'borders', 'between', 'the', 'two', '.']\n",
      "['ADV', 'NOUN', 'VERB', 'PART', 'DET', 'NOUN', 'PUNCT', 'PRON', 'VERB', 'DET', 'ADJ', 'NOUN', 'ADP', 'DET', 'NUM', 'PUNCT']\n",
      "['Remember', 'Luis', 'Posada', 'Carriles', '?']\n",
      "['VERB', 'PROPN', 'PROPN', 'PROPN', 'PUNCT']\n",
      "['Here', \"'s\", 'a', 'Miami', 'Herald', 'interview', 'with', 'the', 'relaxed', 'terrorist', 'and', 'former', 'CIA', 'operative', 'in', 'a', 'luxury', 'condo', ',', 'published', 'yesterday', '.']\n",
      "['ADV', 'VERB', 'DET', 'PROPN', 'PROPN', 'NOUN', 'ADP', 'DET', 'ADJ', 'NOUN', 'CONJ', 'ADJ', 'PROPN', 'NOUN', 'ADP', 'DET', 'NOUN', 'NOUN', 'PUNCT', 'VERB', 'NOUN', 'PUNCT']\n",
      "['(', '\"', 'At', 'first', 'I', 'hid', 'a', 'lot', '.']\n",
      "['PUNCT', 'PUNCT', 'ADV', 'ADV', 'PRON', 'VERB', 'DET', 'NOUN', 'PUNCT']\n",
      "['I', 'thought', 'the', 'US', 'government', 'was', 'looking', 'for', 'me', '.']\n",
      "['PRON', 'VERB', 'DET', 'PROPN', 'NOUN', 'AUX', 'VERB', 'ADP', 'PRON', 'PUNCT']\n",
      "['Now', 'I', 'hide', 'a', 'lot', 'less', '.', '\"', ')']\n",
      "['ADV', 'PRON', 'VERB', 'DET', 'NOUN', 'ADV', 'PUNCT', 'PUNCT', 'PUNCT']\n",
      "['Because', 'of', 'such', 'talk', ',', 'Posada', 'has', 'been', 'taken', 'into', 'custody', 'by', 'Immigration', 'officials', '.']\n",
      "['ADP', 'ADP', 'ADJ', 'NOUN', 'PUNCT', 'PROPN', 'AUX', 'AUX', 'VERB', 'ADP', 'NOUN', 'ADP', 'NOUN', 'NOUN', 'PUNCT']\n",
      "['I', 'ca', \"n't\", 'imagine', 'they', 'wanted', 'to', 'do', 'this', '.']\n",
      "['PRON', 'AUX', 'PART', 'VERB', 'PRON', 'VERB', 'PART', 'VERB', 'PRON', 'PUNCT']\n",
      "['Authorities', 'would', 'likely', 'have', 'been', 'happy', 'answering', 'questions', 'about', 'Posada', \"'s\", 'whereabouts', 'with', 'an', 'indefinite', 'shrug', '.']\n",
      "['NOUN', 'AUX', 'ADV', 'AUX', 'VERB', 'ADJ', 'VERB', 'NOUN', 'ADP', 'PROPN', 'PART', 'NOUN', 'ADP', 'DET', 'ADJ', 'NOUN', 'PUNCT']\n",
      "['As', 'recently', 'as', 'last', 'week', 'the', 'official', 'line', 'stated', 'they', 'had', 'no', 'knowledge', 'he', 'had', 'entered', 'the', 'country', '.']\n",
      "['ADV', 'ADV', 'ADP', 'ADJ', 'NOUN', 'DET', 'ADJ', 'NOUN', 'VERB', 'PRON', 'VERB', 'DET', 'NOUN', 'PRON', 'AUX', 'VERB', 'DET', 'NOUN', 'PUNCT']\n",
      "['But', 'comfortable', 'among', 'the', 'thugs', ',', 'Posada', 'overplayed', 'his', 'hand', 'and', 'embarrassed', 'his', 'old', 'patron', ',', 'the', 'US', 'government', '.']\n",
      "['CONJ', 'ADJ', 'ADP', 'DET', 'NOUN', 'PUNCT', 'PROPN', 'VERB', 'PRON', 'NOUN', 'CONJ', 'VERB', 'PRON', 'ADJ', 'NOUN', 'PUNCT', 'DET', 'PROPN', 'NOUN', 'PUNCT']\n",
      "['And', 'though', 'he', \"'d\", 'been', 'a', 'faithful', 'servant', ',', 'he', 'was', 'not', 'such', 'a', 'player', 'that', 'he', 'could', 'get', 'away', 'with', 'that', '.']\n",
      "['CONJ', 'SCONJ', 'PRON', 'AUX', 'VERB', 'DET', 'ADJ', 'NOUN', 'PUNCT', 'PRON', 'VERB', 'PART', 'DET', 'DET', 'NOUN', 'SCONJ', 'PRON', 'AUX', 'VERB', 'ADV', 'ADP', 'PRON', 'PUNCT']\n",
      "['He', 'should', 'have', 'taken', 'a', 'cue', 'from', 'another', 'bomber', 'some', 'pesky', 'dark', '-', 'skinned', 'foreigners', 'want', 'extradited', ',', 'CIA', 'operative', 'Michael', 'Meiring', '.']\n",
      "['PRON', 'AUX', 'AUX', 'VERB', 'DET', 'NOUN', 'ADP', 'DET', 'NOUN', 'DET', 'ADJ', 'ADJ', 'PUNCT', 'ADJ', 'NOUN', 'VERB', 'VERB', 'PUNCT', 'PROPN', 'NOUN', 'PROPN', 'PROPN', 'PUNCT']\n",
      "['Posada', 'should', 'have', 'told', 'any', 'inquisitive', 'journalist', 'at', 'his', 'doorstep', 'something', 'like', 'Meiring', 'told', 'the', 'single', 'American', 'reporter', 'who', 'bothered', 'following', 'his', 'bloody', 'trail', 'from', 'the', 'Philippines', ',', 'that', '\"', 'If', 'this', 'harms', 'me', 'in', 'any', 'way', ',', 'you', 'will', 'find', 'my', 'power', 'then', ',', 'and', 'you', \"'ll\", 'find', 'out', 'who', 'I', 'am', '.', '\"']\n",
      "['PROPN', 'AUX', 'AUX', 'VERB', 'DET', 'ADJ', 'NOUN', 'ADP', 'PRON', 'NOUN', 'PRON', 'SCONJ', 'PROPN', 'VERB', 'DET', 'ADJ', 'ADJ', 'NOUN', 'PRON', 'VERB', 'VERB', 'PRON', 'ADJ', 'NOUN', 'ADP', 'DET', 'PROPN', 'PUNCT', 'SCONJ', 'PUNCT', 'SCONJ', 'PRON', 'VERB', 'PRON', 'ADP', 'DET', 'NOUN', 'PUNCT', 'PRON', 'AUX', 'VERB', 'PRON', 'NOUN', 'ADV', 'PUNCT', 'CONJ', 'PRON', 'AUX', 'VERB', 'ADP', 'PRON', 'PRON', 'VERB', 'PUNCT', 'PUNCT']\n",
      "['But', 'then', ',', 'maybe', 'that', 'would', \"n't\", 'have', 'saved', 'him', 'either', ',', 'because', 'Posada', 'is', 'not', 'Meiring', '.']\n",
      "['CONJ', 'ADV', 'PUNCT', 'ADV', 'PRON', 'AUX', 'PART', 'AUX', 'VERB', 'PRON', 'ADV', 'PUNCT', 'SCONJ', 'PROPN', 'VERB', 'PART', 'PROPN', 'PUNCT']\n",
      "['Posada', 'can', 'be', 'given', 'up', ',', 'but', 'Meiring', 'ca', \"n't\", '.']\n",
      "['PROPN', 'AUX', 'AUX', 'VERB', 'ADP', 'PUNCT', 'CONJ', 'PROPN', 'AUX', 'PART', 'PUNCT']\n",
      "['Meiring', \"'s\", 'crimes', 'are', 'fresh', ',', 'and', 'wave', 'the', 'false', 'flag', 'which', 'is', 'the', '\"', 'War', 'on', 'Terror', '.', '\"']\n",
      "['PROPN', 'PART', 'NOUN', 'VERB', 'ADJ', 'PUNCT', 'CONJ', 'VERB', 'DET', 'ADJ', 'NOUN', 'PRON', 'VERB', 'DET', 'PUNCT', 'NOUN', 'ADP', 'NOUN', 'PUNCT', 'PUNCT']\n",
      "['They', 'happened', 'in', 'the', 'Philippines', 'which', ',', 'like', 'Pakistan', ',', 'is', 'an', 'important', 'and', 'vulnerable', 'node', 'for', 'the', 'business', 'which', 'intelligence', 'agencies', 'and', 'terrorist', 'organizations', 'conduct', 'with', 'each', 'other', '.']\n",
      "['PRON', 'VERB', 'ADP', 'DET', 'PROPN', 'PRON', 'PUNCT', 'ADP', 'PROPN', 'PUNCT', 'VERB', 'DET', 'ADJ', 'CONJ', 'ADJ', 'NOUN', 'ADP', 'DET', 'NOUN', 'PRON', 'NOUN', 'NOUN', 'CONJ', 'NOUN', 'NOUN', 'VERB', 'ADP', 'DET', 'ADJ', 'PUNCT']\n",
      "['(', 'Ask', 'Terry', 'Nichols', 'about', 'the', 'Philippines', '.', ')']\n",
      "['PUNCT', 'VERB', 'PROPN', 'PROPN', 'ADP', 'DET', 'PROPN', 'PUNCT', 'PUNCT']\n",
      "['The', 'bombings', 'implicated', 'Muslims', ',', 'and', 'exacerbated', 'regional', 'tensions', 'which', 'the', 'Bush', 'regime', 'and', 'its', 'friends', 'wearing', 'the', 'brass', 'in', 'the', 'Philippine', 'military', 'sought', 'to', 'exploit', '.']\n",
      "['DET', 'NOUN', 'VERB', 'PROPN', 'PUNCT', 'CONJ', 'VERB', 'ADJ', 'NOUN', 'PRON', 'DET', 'PROPN', 'NOUN', 'CONJ', 'PRON', 'NOUN', 'VERB', 'DET', 'NOUN', 'ADP', 'DET', 'ADJ', 'NOUN', 'VERB', 'PART', 'VERB', 'PUNCT']\n",
      "['Posada', \"'s\", 'crimes', ',', 'on', 'the', 'other', 'hand', ',', 'must', 'seem', 'like', 'ancient', 'history', ',', 'especially', 'to', 'a', 'people', 'who', 'do', \"n't\", 'know', 'their', 'history', '.']\n",
      "['PROPN', 'PART', 'NOUN', 'PUNCT', 'ADP', 'DET', 'ADJ', 'NOUN', 'PUNCT', 'AUX', 'VERB', 'ADP', 'ADJ', 'NOUN', 'PUNCT', 'ADV', 'ADP', 'DET', 'NOUN', 'PRON', 'AUX', 'PART', 'VERB', 'PRON', 'NOUN', 'PUNCT']\n",
      "['And', 'to', 'those', 'who', 'do', \"n't\", 'even', 'know', 'their', 'crimes', ',', 'not', 'even', 'that', '.']\n",
      "['CONJ', 'ADP', 'PRON', 'PRON', 'AUX', 'PART', 'ADV', 'VERB', 'PRON', 'NOUN', 'PUNCT', 'PART', 'ADV', 'DET', 'PUNCT']\n",
      "['But', 'will', 'Posada', 'be', 'given', 'up', '?']\n",
      "['CONJ', 'AUX', 'PROPN', 'AUX', 'VERB', 'ADP', 'PUNCT']\n",
      "['I', 'doubt', 'he', 'will', 'be', 'extradited', 'to', 'Venezuela', ',', 'which', 'is', 'the', 'only', 'way', 'that', 'question', 'could', 'be', 'answered', 'with', 'a', 'Yes', '.']\n",
      "['PRON', 'VERB', 'PRON', 'AUX', 'AUX', 'VERB', 'ADP', 'PROPN', 'PUNCT', 'PRON', 'VERB', 'DET', 'ADJ', 'NOUN', 'DET', 'NOUN', 'AUX', 'AUX', 'VERB', 'ADP', 'DET', 'NOUN', 'PUNCT']\n",
      "['I', 'expect', 'it', 'will', 'be', 'determined', 'that', ',', 'under', '\"', 'Strong', 'Man', '\"', 'Hugo', 'Chavez', ',', 'Posada', 'could', 'not', 'be', 'guaranteed', 'a', 'fair', 'trial', '.']\n",
      "['PRON', 'VERB', 'PRON', 'AUX', 'AUX', 'VERB', 'SCONJ', 'PUNCT', 'ADP', 'PUNCT', 'ADJ', 'NOUN', 'PUNCT', 'PROPN', 'PROPN', 'PUNCT', 'PROPN', 'AUX', 'PART', 'AUX', 'VERB', 'DET', 'ADJ', 'NOUN', 'PUNCT']\n",
      "['The', 'hope', 'may', 'be', 'that', 'Posada', 'can', 'soon', 'be', 'offered', 'to', 'a', 'post-Chavez', 'Allawi', '-', 'like', 'puppet', 'in', 'Caracas', '.']\n",
      "['DET', 'NOUN', 'AUX', 'VERB', 'SCONJ', 'PROPN', 'AUX', 'ADV', 'AUX', 'VERB', 'ADP', 'DET', 'ADJ', 'PROPN', 'PUNCT', 'ADJ', 'NOUN', 'ADP', 'PROPN', 'PUNCT']\n",
      "['Whether', 'such', 'an', 'offer', 'were', 'accepted', 'or', 'declined', 'would', 'make', 'no', 'difference', ';', 'justice', 'would', 'not', 'be', 'served', 'then', '.']\n",
      "['SCONJ', 'DET', 'DET', 'NOUN', 'AUX', 'VERB', 'CONJ', 'VERB', 'AUX', 'VERB', 'DET', 'NOUN', 'PUNCT', 'NOUN', 'AUX', 'PART', 'AUX', 'VERB', 'ADV', 'PUNCT']\n",
      "['But', 'Posada', \"'s\", 'nearly', '80', 'years', 'old', ',', 'and', 'the', 'Venezuelan', 'people', 'will', 'ensure', 'that', \"'s\", 'a', 'vain', 'hope', '.']\n",
      "['CONJ', 'PROPN', 'VERB', 'ADV', 'NUM', 'NOUN', 'ADJ', 'PUNCT', 'CONJ', 'DET', 'ADJ', 'NOUN', 'AUX', 'VERB', 'PRON', 'VERB', 'DET', 'ADJ', 'NOUN', 'PUNCT']\n",
      "['So', 'instead', 'Posada', 'may', 'be', 'held', 'indefinitely', ',', 'in', 'comfortable', 'custody', '.']\n",
      "['ADV', 'ADV', 'PROPN', 'AUX', 'AUX', 'VERB', 'ADV', 'PUNCT', 'ADP', 'ADJ', 'NOUN', 'PUNCT']\n",
      "['An', 'embarrassment', 'to', 'the', 'US', 'still', ',', 'just', 'not', 'as', 'embarrassing', 'as', 'having', 'the', 'old', 'killer', 'strut', 'about', 'Miami', ',', 'gloating', 'in', 'his', 'freedom', '.']\n",
      "['DET', 'NOUN', 'ADP', 'DET', 'PROPN', 'ADV', 'PUNCT', 'ADV', 'PART', 'ADV', 'ADJ', 'SCONJ', 'VERB', 'DET', 'ADJ', 'NOUN', 'VERB', 'ADP', 'PROPN', 'PUNCT', 'VERB', 'ADP', 'PRON', 'NOUN', 'PUNCT']\n",
      "['Meiring', 'is', 'more', 'than', 'an', 'embarrassment', '.']\n",
      "['PROPN', 'VERB', 'ADJ', 'ADP', 'DET', 'NOUN', 'PUNCT']\n",
      "['His', 'case', 'threatens', 'the', 'consensus', 'fiction', 'of', 'the', '\"', 'War', 'on', 'Terror', '.', '\"']\n",
      "['PRON', 'NOUN', 'VERB', 'DET', 'NOUN', 'NOUN', 'ADP', 'DET', 'PUNCT', 'NOUN', 'ADP', 'NOUN', 'PUNCT', 'PUNCT']\n",
      "['So', 'his', 'name', 'will', 'remain', 'unspoken', '.']\n",
      "['ADV', 'PRON', 'NOUN', 'AUX', 'VERB', 'ADJ', 'PUNCT']\n",
      "['Another', 'connection', 'to', 'Philippine', 'terror', 'and', 'weapons', 'smuggling', '-', 'dating', 'from', 'the', '1980s', '-', 'is', 'alleged', 'in', 'the', 'book', 'Disposable', 'Patriot', ',', 'by', 'Jack', 'Terrell', '.']\n",
      "['DET', 'NOUN', 'ADP', 'ADJ', 'NOUN', 'CONJ', 'NOUN', 'VERB', 'PUNCT', 'VERB', 'ADP', 'DET', 'NOUN', 'PUNCT', 'AUX', 'VERB', 'ADP', 'DET', 'NOUN', 'PROPN', 'PROPN', 'PUNCT', 'ADP', 'PROPN', 'PROPN', 'PUNCT']\n",
      "['Terrell', ',', 'a', 'CIA', 'asset', 'originally', 'recruited', 'for', 'the', 'Contra', 'effort', ',', 'identifies', 'the', 'man', 'attempting', 'to', 'recruit', 'him', 'into', 'the', 'Philippine', 'scheme', 'as', 'Oliver', 'North', '...']\n",
      "['PROPN', 'PUNCT', 'DET', 'PROPN', 'NOUN', 'ADV', 'VERB', 'ADP', 'DET', 'PROPN', 'NOUN', 'PUNCT', 'VERB', 'DET', 'NOUN', 'VERB', 'PART', 'VERB', 'PRON', 'ADP', 'DET', 'ADJ', 'NOUN', 'ADP', 'PROPN', 'PROPN', 'PUNCT']\n",
      "['I', 'seem', 'to', 'recall', 'the', 'object', 'was', 'to', 'smuggle', 'explosives', '.']\n",
      "['PRON', 'VERB', 'PART', 'VERB', 'DET', 'NOUN', 'VERB', 'PART', 'VERB', 'NOUN', 'PUNCT']\n",
      "['http://www.amazon.ca/exec/obidos/ASIN/0915765381/701-3377456-8181939']\n",
      "['X']\n",
      "['I', \"'ve\", 'read', 'the', 'book', '-', 'it', \"'s\", 'a', 'first', 'person', 'memoir', 'with', 'the', 'ring', 'of', 'truth', ',', 'especially', 'since', 'so', 'much', 'of', 'the', 'wider', 'context', 'has', 'confirmed', 'the', 'allegations', 'of', 'Contra', 'drug', 'connections', 'that', 'led', 'to', 'Terrell', 'becoming', 'a', 'target', 'for', 'discrediting', 'by', 'the', 'TWIG', 'counterintelligence', 'group', 'that', 'ran', 'interference', 'for', 'the', 'Contra', 'effort', ',', 'staffed', 'by', 'covert', 'ops', 'types', 'including', 'Ollie', 'North', ',', 'Robert', 'Owen', ',', 'Vince', 'Cannistaro', 'and', 'Buck', 'Revell', '.']\n",
      "['PRON', 'AUX', 'VERB', 'DET', 'NOUN', 'PUNCT', 'PRON', 'VERB', 'DET', 'ADJ', 'NOUN', 'NOUN', 'ADP', 'DET', 'NOUN', 'ADP', 'NOUN', 'PUNCT', 'ADV', 'SCONJ', 'ADV', 'ADJ', 'ADP', 'DET', 'ADJ', 'NOUN', 'AUX', 'VERB', 'DET', 'NOUN', 'ADP', 'PROPN', 'NOUN', 'NOUN', 'PRON', 'VERB', 'SCONJ', 'PROPN', 'VERB', 'DET', 'NOUN', 'ADP', 'NOUN', 'ADP', 'DET', 'PROPN', 'NOUN', 'NOUN', 'PRON', 'VERB', 'NOUN', 'ADP', 'DET', 'PROPN', 'NOUN', 'PUNCT', 'VERB', 'ADP', 'ADJ', 'NOUN', 'NOUN', 'VERB', 'PROPN', 'PROPN', 'PUNCT', 'PROPN', 'PROPN', 'PUNCT', 'PROPN', 'PROPN', 'CONJ', 'PROPN', 'PROPN', 'PUNCT']\n",
      "['Peter', 'Dale', 'Scott', 'includes', 'an', 'account', 'of', 'how', 'Terrell', \"'s\", 'whistleblowing', 'was', 'stifled', 'by', 'them', 'in', 'his', 'book', 'Cocaine', 'Politics', '.']\n",
      "['PROPN', 'PROPN', 'PROPN', 'VERB', 'DET', 'NOUN', 'SCONJ', 'ADV', 'PROPN', 'PART', 'NOUN', 'AUX', 'VERB', 'ADP', 'PRON', 'ADP', 'PRON', 'NOUN', 'PROPN', 'PROPN', 'PUNCT']\n",
      "['...', 'same', 'ole', ',', 'same', 'ole', '...']\n",
      "['PUNCT', 'ADJ', 'ADJ', 'PUNCT', 'ADJ', 'ADJ', 'PUNCT']\n",
      "['Due', 'to', 'the', 'Judge', 'in', 'the', '1983', 'case', 'ruling', 'that', 'a', 'CIA', 'agent', 'could', 'not', 'testify', 'using', 'a', 'pseudonym', ',', 'therefore', 'opening', 'him', 'to', 'cross-examination', 'by', 'Wilson', ',', 'the', 'prosecution', 'had', 'a', 'problem', '.']\n",
      "['ADP', 'SCONJ', 'DET', 'NOUN', 'ADP', 'DET', 'NUM', 'NOUN', 'VERB', 'SCONJ', 'DET', 'PROPN', 'NOUN', 'AUX', 'PART', 'VERB', 'VERB', 'DET', 'NOUN', 'PUNCT', 'ADV', 'VERB', 'PRON', 'ADP', 'NOUN', 'ADP', 'PROPN', 'PUNCT', 'DET', 'NOUN', 'VERB', 'DET', 'NOUN', 'PUNCT']\n",
      "['They', 'needed', 'someone', 'that', 'could', 'convince', 'the', 'jury', 'they', 'had', 'been', 'able', 'to', 'see', 'all', 'relevant', 'documents', 'in', 'CIA', 'files', 'on', 'Wilson', '.']\n",
      "['PRON', 'VERB', 'PRON', 'PRON', 'AUX', 'VERB', 'DET', 'NOUN', 'PRON', 'AUX', 'VERB', 'ADJ', 'PART', 'VERB', 'DET', 'ADJ', 'NOUN', 'ADP', 'PROPN', 'NOUN', 'ADP', 'PROPN', 'PUNCT']\n",
      "['Wilson', 'was', 'claiming', 'that', 'he', 'had', 'been', 'working', 'for', 'the', 'CIA', 'when', 'he', 'sold', 'the', 'C', '-', '4', 'to', 'Quaddaffi', '.']\n",
      "['PROPN', 'AUX', 'VERB', 'SCONJ', 'PRON', 'AUX', 'AUX', 'VERB', 'ADP', 'DET', 'PROPN', 'ADV', 'PRON', 'VERB', 'DET', 'NOUN', 'PUNCT', 'NUM', 'ADP', 'PROPN', 'PUNCT']\n",
      "['The', 'prosecution', 'was', 'charging', 'he', 'was', 'a', 'rogue', 'using', 'his', 'contacts', 'from', 'former', 'service', 'in', 'both', 'CIA', 'and', 'the', \"'\", 'Office', 'of', 'Naval', 'Intelligence', \"'\", '.']\n",
      "['DET', 'NOUN', 'AUX', 'VERB', 'PRON', 'VERB', 'DET', 'NOUN', 'VERB', 'PRON', 'NOUN', 'ADP', 'ADJ', 'NOUN', 'ADP', 'CONJ', 'PROPN', 'CONJ', 'DET', 'PUNCT', 'PROPN', 'ADP', 'PROPN', 'PROPN', 'PUNCT', 'PUNCT']\n",
      "['Wilson', 'had', 'been', 'able', 'to', 'show', 'that', 'he', \"'d\", 'had', 'more', 'than', '80', '\"', 'non-social', 'contacts', '\"', 'with', 'the', 'CIA', 'since', 'his', 'retirement', 'in', '1971', ',', 'leaving', 'the', 'prosecution', \"'s\", 'case', 'in', 'turmoil', '.']\n",
      "['PROPN', 'AUX', 'VERB', 'ADJ', 'PART', 'VERB', 'SCONJ', 'PRON', 'AUX', 'VERB', 'ADJ', 'ADP', 'NUM', 'PUNCT', 'ADJ', 'NOUN', 'PUNCT', 'ADP', 'DET', 'PROPN', 'ADP', 'PRON', 'NOUN', 'ADP', 'NUM', 'PUNCT', 'VERB', 'DET', 'NOUN', 'PART', 'NOUN', 'ADP', 'NOUN', 'PUNCT']\n",
      "['Then', 'Charles', 'A.', 'Briggs', 'came', 'to', 'the', 'rescue', '.']\n",
      "['ADV', 'PROPN', 'PROPN', 'PROPN', 'VERB', 'ADP', 'DET', 'NOUN', 'PUNCT']\n",
      "['Third', 'ranking', 'CIA', 'officer', ',', 'Briggs', 'signed', 'a', 'declaration', 'on', 'February', '3rd', ',', '1983', ',', 'that', 'on', 'November', '8th', ',', '1982', ',', 'he', 'had', 'authorized', 'a', 'search', 'of', 'CIA', 'records', '\"', 'for', 'any', 'material', 'that', 'in', 'any', 'way', 'pertains', 'to', 'Edwin', 'P.', 'Wilson', ',', 'or', 'the', 'various', 'allegations', 'concerning', 'his', 'activities', 'after', 'February', '28th', ',', '1971', ',', 'when', 'he', 'retired', 'from', 'the', 'CIA', '.', '\"']\n",
      "['ADV', 'VERB', 'PROPN', 'NOUN', 'PUNCT', 'PROPN', 'VERB', 'DET', 'NOUN', 'ADP', 'PROPN', 'NOUN', 'PUNCT', 'NUM', 'PUNCT', 'SCONJ', 'ADP', 'PROPN', 'NOUN', 'PUNCT', 'NUM', 'PUNCT', 'PRON', 'AUX', 'VERB', 'DET', 'NOUN', 'ADP', 'PROPN', 'NOUN', 'PUNCT', 'ADP', 'DET', 'ADJ', 'PRON', 'ADP', 'DET', 'NOUN', 'VERB', 'ADP', 'PROPN', 'PROPN', 'PROPN', 'PUNCT', 'CONJ', 'DET', 'ADJ', 'NOUN', 'VERB', 'PRON', 'NOUN', 'ADP', 'PROPN', 'NOUN', 'PUNCT', 'NUM', 'PUNCT', 'ADV', 'PRON', 'VERB', 'ADP', 'DET', 'PROPN', 'PUNCT', 'PUNCT']\n",
      "['The', 'Briggs', 'Declaration', 'states', 'that', 'with', 'one', 'exception', 'in', '1972', ',', 'Wilson', 'did', 'not', 'work', '\"', 'directly', 'or', 'indirectly', '\"', 'for', 'the', 'CIA', 'since', 'retiring', '.']\n",
      "['DET', 'PROPN', 'PROPN', 'VERB', 'SCONJ', 'ADP', 'NUM', 'NOUN', 'ADP', 'NUM', 'PUNCT', 'PROPN', 'AUX', 'PART', 'VERB', 'PUNCT', 'ADV', 'CONJ', 'ADV', 'PUNCT', 'ADP', 'DET', 'PROPN', 'SCONJ', 'VERB', 'PUNCT']\n",
      "['http://www.disinfo.com/archive/pages/dossier/id334/pg1/']\n",
      "['X']\n",
      "['Last', 'week', ',', 'Federal', 'District', 'Judge', 'Lynn', 'Hughes', 'in', 'Huston', ',', 'Texas', ',', 'threw', 'out', 'Wilson', \"'s\", 'two', '-', 'decades', 'old', 'conviction', '.']\n",
      "['ADJ', 'NOUN', 'PUNCT', 'PROPN', 'PROPN', 'PROPN', 'PROPN', 'PROPN', 'ADP', 'PROPN', 'PUNCT', 'PROPN', 'PUNCT', 'VERB', 'ADP', 'PROPN', 'PART', 'NUM', 'PUNCT', 'NOUN', 'ADJ', 'NOUN', 'PUNCT']\n",
      "['Judge', 'Hughes', 'wrote', ':', '`', 'government', 'knowingly', 'used', 'false', 'evidence', 'against', 'him', ',', \"'\", 'concluding', '`', 'honesty', 'comes', 'hard', 'to', 'government', '.', \"'\"]\n",
      "['PROPN', 'PROPN', 'VERB', 'PUNCT', 'PUNCT', 'NOUN', 'ADV', 'VERB', 'ADJ', 'NOUN', 'ADP', 'PRON', 'PUNCT', 'PUNCT', 'VERB', 'PUNCT', 'NOUN', 'VERB', 'ADV', 'ADP', 'NOUN', 'PUNCT', 'PUNCT']\n",
      "['http://www.bigeye.com/111003.htm']\n",
      "['X']\n",
      "['http://www.thekcrachannel.com/news/4503872/detail.html']\n",
      "['X']\n",
      "['looks', 'like', 'it', 'is', 'rearing', 'its', 'head', 'again', 'in', 'Louisianna', '..']\n",
      "['VERB', 'SCONJ', 'PRON', 'AUX', 'VERB', 'PRON', 'NOUN', 'ADV', 'ADP', 'PROPN', 'PUNCT']\n",
      "['Former', 'Pastor', ',', 'Deputy', 'Implicated', 'In', 'Church', 'Child', 'Sex', 'Abuse']\n",
      "['ADJ', 'NOUN', 'PUNCT', 'NOUN', 'VERB', 'ADP', 'NOUN', 'NOUN', 'NOUN', 'NOUN']\n",
      "['PONCHATOULA', ',', 'La.', '--']\n",
      "['PROPN', 'PUNCT', 'PROPN', 'PUNCT']\n",
      "['Sheriff', \"'s\", 'deputies', 'in', 'Louisiana', 'made', 'a', 'third', 'arrest', 'Wednesday', 'in', 'the', 'ongoing', 'investigation', 'of', 'a', 'case', 'involving', 'allegations', 'of', 'sexual', 'abuse', 'of', 'children', 'and', 'animals', 'at', 'a', 'Ponchatoula', ',', 'La.', ',', 'church', '.']\n",
      "['NOUN', 'PART', 'NOUN', 'ADP', 'PROPN', 'VERB', 'DET', 'ADJ', 'NOUN', 'PROPN', 'ADP', 'DET', 'ADJ', 'NOUN', 'ADP', 'DET', 'NOUN', 'VERB', 'NOUN', 'ADP', 'ADJ', 'NOUN', 'ADP', 'NOUN', 'CONJ', 'NOUN', 'ADP', 'DET', 'PROPN', 'PUNCT', 'PROPN', 'PUNCT', 'NOUN', 'PUNCT']\n",
      "['Austin', 'Aaron', 'Bernard', 'III', ',', '36', ',', 'was', 'arrested', 'on', 'a', 'charge', 'of', 'aggravated', 'rape', 'of', 'a', 'child', 'under', 'the', 'age', 'of', '13', '.']\n",
      "['PROPN', 'PROPN', 'PROPN', 'PROPN', 'PUNCT', 'NUM', 'PUNCT', 'AUX', 'VERB', 'ADP', 'DET', 'NOUN', 'ADP', 'VERB', 'NOUN', 'ADP', 'DET', 'NOUN', 'ADP', 'DET', 'NOUN', 'ADP', 'NUM', 'PUNCT']\n",
      "['Police', 'said', 'Bernard', 'confessed', 'to', 'detectives', 'that', 'he', 'had', 'sex', 'with', 'a', 'young', 'girl', 'in', 'November', '2002', 'and', 'admitted', 'to', 'knowing', 'about', 'sexual', 'acts', 'involving', 'children', 'and', 'a', 'dog', 'that', 'occurred', 'at', 'Hosanna', 'Church', '.']\n",
      "['NOUN', 'VERB', 'PROPN', 'VERB', 'ADP', 'NOUN', 'SCONJ', 'PRON', 'VERB', 'NOUN', 'ADP', 'DET', 'ADJ', 'NOUN', 'ADP', 'PROPN', 'NUM', 'CONJ', 'VERB', 'SCONJ', 'VERB', 'ADP', 'ADJ', 'NOUN', 'VERB', 'NOUN', 'CONJ', 'DET', 'NOUN', 'PRON', 'VERB', 'ADP', 'PROPN', 'PROPN', 'PUNCT']\n",
      "['Tangipahoa', 'Parish', 'sheriff', \"'s\", 'deputy', 'Christopher', 'Blair', 'Labat', ',', '24', ',', 'was', 'booked', 'Tuesday', 'on', 'one', 'count', 'of', 'aggravated', 'rape', 'and', 'one', 'count', 'of', 'crime', 'against', 'nature', '.']\n",
      "['PROPN', 'PROPN', 'NOUN', 'PART', 'NOUN', 'PROPN', 'PROPN', 'PROPN', 'PUNCT', 'NUM', 'PUNCT', 'AUX', 'VERB', 'PROPN', 'ADP', 'NUM', 'NOUN', 'ADP', 'VERB', 'NOUN', 'CONJ', 'NUM', 'NOUN', 'ADP', 'NOUN', 'ADP', 'NOUN', 'PUNCT']\n",
      "['On', 'Monday', ',', 'Louis', 'Lamonica', ',', '45', ',', 'the', 'former', 'pastor', 'of', 'Hosanna', 'Church', ',', 'was', 'booked', 'with', 'two', 'counts', 'of', 'aggravated', 'rape', 'and', 'one', 'count', 'of', 'crime', 'against', 'nature', 'after', 'he', 'walked', 'in', 'to', 'the', 'Livingston', 'Parish', 'Sheriff', \"'s\", 'Office', 'and', 'said', 'he', 'could', 'implicate', 'others', 'in', 'a', 'situation', 'at', 'the', 'church', 'that', 'reportedly', 'occurred', 'two', 'years', 'ago', '.']\n",
      "['ADP', 'PROPN', 'PUNCT', 'PROPN', 'PROPN', 'PUNCT', 'NUM', 'PUNCT', 'DET', 'ADJ', 'NOUN', 'ADP', 'PROPN', 'PROPN', 'PUNCT', 'AUX', 'VERB', 'ADP', 'NUM', 'NOUN', 'ADP', 'VERB', 'NOUN', 'CONJ', 'NUM', 'NOUN', 'ADP', 'NOUN', 'ADP', 'NOUN', 'SCONJ', 'PRON', 'VERB', 'ADP', 'ADP', 'DET', 'PROPN', 'PROPN', 'PROPN', 'PART', 'PROPN', 'CONJ', 'VERB', 'PRON', 'AUX', 'VERB', 'NOUN', 'ADP', 'DET', 'NOUN', 'ADP', 'DET', 'NOUN', 'PRON', 'ADV', 'VERB', 'NUM', 'NOUN', 'ADV', 'PUNCT']\n",
      "['We', 'have', 'a', 'similar', 'case', 'unravelling', 'up', 'here', 'in', 'the', 'northwest', 'with', 'a', 'murder', 'of', 'a', 'family', 'and', 'missing', 'children', 'taken', 'for', 'some', 'purpose', '.']\n",
      "['PRON', 'VERB', 'DET', 'ADJ', 'NOUN', 'VERB', 'ADV', 'ADV', 'ADP', 'DET', 'NOUN', 'ADP', 'DET', 'NOUN', 'ADP', 'DET', 'NOUN', 'CONJ', 'ADJ', 'NOUN', 'VERB', 'ADP', 'DET', 'NOUN', 'PUNCT']\n",
      "['If', 'I', 'was', 'Rummy', 'I', \"'d\", 'send', 'Posada', 'to', 'Iraq', 'to', 'blow', 'things', 'up', 'there', '.']\n",
      "['SCONJ', 'PRON', 'VERB', 'PROPN', 'PRON', 'AUX', 'VERB', 'PROPN', 'ADP', 'PROPN', 'PART', 'VERB', 'NOUN', 'ADP', 'ADV', 'PUNCT']\n",
      "['yeah', ',', '\"', 'things', '\"', '...']\n",
      "['INTJ', 'PUNCT', 'PUNCT', 'NOUN', 'PUNCT', 'PUNCT']\n",
      "['Yesterday', 'evening', ',', 'the', 'Posada', 'story', 'was', 'featured', 'in', 'the', 'public', 'television', 'news', 'show', 'in', 'Germany', '(', 'ARD', ',', 'Tagesthemen', ')', '.']\n",
      "['NOUN', 'NOUN', 'PUNCT', 'DET', 'PROPN', 'NOUN', 'AUX', 'VERB', 'ADP', 'DET', 'ADJ', 'NOUN', 'NOUN', 'NOUN', 'ADP', 'PROPN', 'PUNCT', 'PROPN', 'PUNCT', 'PROPN', 'PUNCT', 'PUNCT']\n",
      "['The', 'newly', 'released', 'papers', ',', 'showing', 'him', 'complicit', 'in', 'the', 'airliner', 'bombing', ',', 'were', 'mentioned']\n",
      "['DET', 'ADV', 'VERB', 'NOUN', 'PUNCT', 'VERB', 'PRON', 'ADJ', 'ADP', 'DET', 'NOUN', 'NOUN', 'PUNCT', 'AUX', 'VERB']\n",
      "['gandalf']\n",
      "['PROPN']\n",
      "['Now', 'that', \"'s\", 'a', 'post', 'I', 'can', 'relate', 'to', '.']\n",
      "['ADV', 'PRON', 'VERB', 'DET', 'NOUN', 'PRON', 'AUX', 'VERB', 'ADP', 'PUNCT']\n",
      "['You', 'really', 'got', 'me', 'thinking', ',', 'I', 'enjoy', 'reading', 'this', 'blog', '.']\n",
      "['PRON', 'ADV', 'VERB', 'PRON', 'VERB', 'PUNCT', 'PRON', 'VERB', 'VERB', 'DET', 'NOUN', 'PUNCT']\n",
      "['I', 'do', \"n't\", 'know', 'how', 'others', 'feel', ',', 'but', 'I', \"'m\", 'definitely', 'looking', 'into', 'immigration', 'to', 'Canada', 'as', 'an', 'option', '.']\n",
      "['PRON', 'AUX', 'PART', 'VERB', 'ADV', 'NOUN', 'VERB', 'PUNCT', 'CONJ', 'PRON', 'AUX', 'ADV', 'VERB', 'ADP', 'NOUN', 'ADP', 'PROPN', 'ADP', 'DET', 'NOUN', 'PUNCT']\n",
      "['The', 'good', 'A3l', 'US', 'of', 'A', 'ai', 'nt', 'what', 'it', 'used', 'to', 'be', '.']\n",
      "['DET', 'ADJ', 'ADJ', 'PROPN', 'ADP', 'PROPN', 'VERB', 'PART', 'PRON', 'PRON', 'VERB', 'PART', 'VERB', 'PUNCT']\n",
      "['I', 'like', 'yuor', 'blog', '.']\n",
      "['PRON', 'VERB', 'PRON', 'NOUN', 'PUNCT']\n",
      "['Please', 'check', 'out', 'my', 'who', 'let', 'the', 'dog', 'out', 'blog', '.']\n",
      "['INTJ', 'VERB', 'ADP', 'PRON', 'PRON', 'VERB', 'DET', 'NOUN', 'ADP', 'NOUN', 'PUNCT']\n",
      "['hey', 'that', \"'s\", 'a', 'great', 'blog', ',', 'I', 'also', 'have', 'a', 'site', 'about', 'los', 'angeles', 'online', 'dating']\n",
      "['INTJ', 'PRON', 'VERB', 'DET', 'ADJ', 'NOUN', 'PUNCT', 'PRON', 'ADV', 'VERB', 'DET', 'NOUN', 'ADP', 'PROPN', 'PROPN', 'ADJ', 'NOUN']\n",
      "['you', 'can', 'check', 'it', 'out', ':', 'los', 'angeles', 'online', 'dating']\n",
      "['PRON', 'AUX', 'VERB', 'PRON', 'ADP', 'PUNCT', 'PROPN', 'PROPN', 'ADJ', 'NOUN']\n",
      "['This', 'is', 'a', 'excellent', 'blog', '.']\n",
      "['PRON', 'VERB', 'DET', 'ADJ', 'NOUN', 'PUNCT']\n",
      "['Keep', 'it', 'going', '.']\n",
      "['VERB', 'PRON', 'VERB', 'PUNCT']\n",
      "['This', 'may', 'be', 'of', 'interest', 'to', 'you', 'I', 'have', 'a', 'free', 'online', 'dating', 'service', '.']\n",
      "['PRON', 'AUX', 'VERB', 'ADP', 'NOUN', 'ADP', 'PRON', 'PRON', 'VERB', 'DET', 'ADJ', 'ADJ', 'NOUN', 'NOUN', 'PUNCT']\n",
      "['It', 'pretty', 'much', 'covers', 'dating', 'stuff', '.']\n",
      "['PRON', 'ADV', 'ADV', 'VERB', 'NOUN', 'NOUN', 'PUNCT']\n",
      "['I', \"'ll\", 'be', 'sure', 'to', 'come', 'back', '.']\n",
      "['PRON', 'AUX', 'VERB', 'ADJ', 'PART', 'VERB', 'ADV', 'PUNCT']\n",
      "['Hey', 'I', 'just', 'love', 'your', 'blog', '.']\n",
      "['INTJ', 'PRON', 'ADV', 'VERB', 'PRON', 'NOUN', 'PUNCT']\n",
      "['I', 'also', 'have', 'a', 'dating', 'advice', 'blog', '/', 'site', '.']\n",
      "['PRON', 'ADV', 'VERB', 'DET', 'NOUN', 'NOUN', 'NOUN', 'SYM', 'NOUN', 'PUNCT']\n",
      "['I', 'mostly', 'deals', 'with', 'dating', 'advice']\n",
      "['PRON', 'ADV', 'VERB', 'ADP', 'NOUN', 'NOUN']\n",
      "['Please', 'come', 'and', 'check', 'it', 'out', 'if', 'you', 'get', 'the', 'time', '!']\n",
      "['INTJ', 'VERB', 'CONJ', 'VERB', 'PRON', 'ADP', 'SCONJ', 'PRON', 'VERB', 'DET', 'NOUN', 'PUNCT']\n",
      "['I', 'was', 'searching', 'for', 'dog', 'food', 'info', 'and', 'found', 'this', 'post', '.']\n",
      "['PRON', 'AUX', 'VERB', 'ADP', 'NOUN', 'NOUN', 'NOUN', 'CONJ', 'VERB', 'DET', 'NOUN', 'PUNCT']\n",
      "['I', 'agree', 'totally', '!']\n",
      "['PRON', 'VERB', 'ADV', 'PUNCT']\n",
      "['Paul']\n",
      "['PROPN']\n",
      "['How', 'Would', 'You', 'Like', 'To', 'Know', 'How', 'YOU', 'Can', 'Live', 'In', 'A', 'Beautiful', 'NEW', 'House', 'That', 'Is', 'Custom', '-', 'Designed', 'To', 'YOUR', 'Specifications', '.........', 'And', 'At', 'NO', 'COST', 'To', 'You', '?']\n",
      "['ADV', 'AUX', 'PRON', 'VERB', 'PART', 'VERB', 'ADV', 'PRON', 'AUX', 'VERB', 'ADP', 'DET', 'ADJ', 'ADJ', 'NOUN', 'PRON', 'AUX', 'NOUN', 'PUNCT', 'VERB', 'ADP', 'PRON', 'NOUN', 'PUNCT', 'CONJ', 'ADP', 'DET', 'NOUN', 'ADP', 'PRON', 'PUNCT']\n",
      "['You', 'CAN', 'Do', 'It', '.']\n",
      "['PRON', 'AUX', 'VERB', 'PRON', 'PUNCT']\n",
      "['And', 'It', \"'s\", 'Not', 'Hard', 'To', 'Do', '....', 'IF', 'You', 'Know', 'HOW', '.']\n",
      "['CONJ', 'PRON', 'VERB', 'PART', 'ADJ', 'PART', 'VERB', 'PUNCT', 'SCONJ', 'PRON', 'VERB', 'ADV', 'PUNCT']\n",
      "['Do', \"n't\", 'Let', 'This', 'Pass', 'You', 'By', 'Without', 'At', 'Least', 'Taking', 'A', 'Look', '.']\n",
      "['AUX', 'PART', 'VERB', 'PRON', 'VERB', 'PRON', 'ADV', 'SCONJ', 'ADV', 'ADV', 'VERB', 'DET', 'NOUN', 'PUNCT']\n",
      "['The', 'Only', 'Catch', 'Is', 'That', 'You', 'HAVE', 'To', 'Have', 'An', 'Income', 'ABOVE', '$', '21,000', '......', 'And', '......', 'You', 'HAVE', 'To', 'Follow', 'The', 'Easy', 'Instructions', 'Provided', 'To', 'You', '.']\n",
      "['DET', 'ADJ', 'NOUN', 'VERB', 'SCONJ', 'PRON', 'VERB', 'PART', 'VERB', 'DET', 'NOUN', 'ADP', 'SYM', 'NUM', 'PUNCT', 'CONJ', 'PUNCT', 'PRON', 'VERB', 'PART', 'VERB', 'DET', 'ADJ', 'NOUN', 'VERB', 'ADP', 'PRON', 'PUNCT']\n",
      "['Get-A-Free-House.com']\n",
      "['X']\n",
      "['+', 'As', 'the', 'implications', 'of', 'the', 'Andaman', 'Islands', 'situation', 'sink', 'in', ',', 'Indian', 'intelligence', 'has', 'inevitably', 'come', 'under', 'scrutiny', '.']\n",
      "['SYM', 'SCONJ', 'DET', 'NOUN', 'ADP', 'DET', 'PROPN', 'PROPN', 'NOUN', 'VERB', 'ADV', 'PUNCT', 'ADJ', 'NOUN', 'AUX', 'ADV', 'VERB', 'ADP', 'NOUN', 'PUNCT']\n",
      "['In', 'recent', 'months', ',', 'its', 'fallibility', 'has', 'become', 'evident', '.']\n",
      "['ADP', 'ADJ', 'NOUN', 'PUNCT', 'PRON', 'NOUN', 'AUX', 'VERB', 'ADJ', 'PUNCT']\n",
      "['The', 'inability', 'to', 'foresee', 'in', 'advance', 'the', 'assassination', 'attempt', 'on', 'the', 'pro-India', 'political', 'leader', 'and', 'former', 'Bangladeshi', 'prime', 'minister', 'Sheikh', 'Hasina', 'Wazed', 'last', 'August', '21', 'at', 'a', 'political', 'rally', 'in', 'Dhaka', ',', 'and', 'the', 'recent', '\"', 'coup', '\"', 'by', 'Nepalese', 'King', 'Gyanendra', 'dismissing', 'his', 'government', 'and', 'imposing', 'a', 'virtual', 'absolute', 'monarchy', ',', 'are', 'glaring', 'examples', 'of', 'intelligence', 'failure', '.', '+']\n",
      "['DET', 'NOUN', 'PART', 'VERB', 'ADP', 'NOUN', 'DET', 'NOUN', 'NOUN', 'ADP', 'DET', 'ADJ', 'ADJ', 'NOUN', 'CONJ', 'ADJ', 'ADJ', 'ADJ', 'NOUN', 'PROPN', 'PROPN', 'PROPN', 'ADJ', 'PROPN', 'NUM', 'ADP', 'DET', 'ADJ', 'NOUN', 'ADP', 'PROPN', 'PUNCT', 'CONJ', 'DET', 'ADJ', 'PUNCT', 'NOUN', 'PUNCT', 'ADP', 'ADJ', 'PROPN', 'PROPN', 'VERB', 'PRON', 'NOUN', 'CONJ', 'VERB', 'DET', 'ADJ', 'ADJ', 'NOUN', 'PUNCT', 'VERB', 'ADJ', 'NOUN', 'ADP', 'NOUN', 'NOUN', 'PUNCT', 'SYM']\n",
      "['Trouble', 'on', 'India', \"'s\", 'islands']\n",
      "['NOUN', 'ADP', 'PROPN', 'PART', 'NOUN']\n",
      "['Ramtanu', 'Maitra']\n",
      "['PROPN', 'PROPN']\n",
      "['In', 'early', 'February', ',', 'India', 'charged', '34', 'Arakan', 'separatists', 'from', 'Myanmar', 'with', 'hiding', 'in', 'the', 'Landfall', 'Islands', ',', 'part', 'of', 'the', 'Andaman', 'Islands', 'group', '(', 'see', 'end', 'note', ')', '.']\n",
      "['ADP', 'ADJ', 'PROPN', 'PUNCT', 'PROPN', 'VERB', 'NUM', 'ADJ', 'NOUN', 'ADP', 'PROPN', 'SCONJ', 'VERB', 'ADP', 'DET', 'PROPN', 'PROPN', 'PUNCT', 'NOUN', 'ADP', 'DET', 'PROPN', 'PROPN', 'NOUN', 'PUNCT', 'VERB', 'NOUN', 'NOUN', 'PUNCT', 'PUNCT']\n",
      "['These', 'alleged', 'members', 'of', 'the', 'Arakan', 'Army', ',', 'the', 'military', 'wing', 'of', 'the', 'National', 'Unity', 'Party', 'in', 'Myanmar', ',', 'have', 'been', 'charged', 'with', 'illegal', 'entry', '.']\n",
      "['DET', 'ADJ', 'NOUN', 'ADP', 'DET', 'PROPN', 'PROPN', 'PUNCT', 'DET', 'ADJ', 'NOUN', 'ADP', 'DET', 'PROPN', 'PROPN', 'PROPN', 'ADP', 'PROPN', 'PUNCT', 'AUX', 'AUX', 'VERB', 'ADP', 'ADJ', 'NOUN', 'PUNCT']\n",
      "['It', 'is', 'likely', ',', 'but', 'not', 'certain', ',', 'that', 'they', 'will', 'be', 'deported', 'to', 'Myanmar', '.']\n",
      "['PRON', 'VERB', 'ADJ', 'PUNCT', 'CONJ', 'ADV', 'ADJ', 'PUNCT', 'SCONJ', 'PRON', 'AUX', 'AUX', 'VERB', 'ADP', 'PROPN', 'PUNCT']\n",
      "['But', 'the', 'news', 'of', 'the', 'Arakan', 'rebels', 'is', 'just', 'the', 'tip', 'of', 'the', 'iceberg', 'when', 'it', 'comes', 'to', 'growing', 'concern', 'in', 'New', 'Delhi', 'over', 'the', 'security', 'of', 'the', 'Andaman', 'Islands', '.']\n",
      "['CONJ', 'DET', 'NOUN', 'ADP', 'DET', 'ADJ', 'NOUN', 'VERB', 'ADV', 'DET', 'NOUN', 'ADP', 'DET', 'NOUN', 'ADV', 'PRON', 'VERB', 'ADP', 'VERB', 'NOUN', 'ADP', 'PROPN', 'PROPN', 'ADP', 'DET', 'NOUN', 'ADP', 'DET', 'PROPN', 'PROPN', 'PUNCT']\n",
      "['Reports', 'are', 'circulating', 'in', 'the', 'intelligence', 'community', 'that', 'the', 'Andaman', 'Islands', 'are', 'not', 'only', 'thick', 'with', 'Myanmar', 'rebels', '.']\n",
      "['NOUN', 'AUX', 'VERB', 'ADP', 'DET', 'NOUN', 'NOUN', 'SCONJ', 'DET', 'PROPN', 'PROPN', 'VERB', 'PART', 'ADV', 'ADJ', 'ADP', 'PROPN', 'NOUN', 'PUNCT']\n",
      "['It', 'has', 'also', 'become', 'an', 'arms', 'depot', 'of', 'the', 'Liberation', 'Tigers', 'of', 'Tamil', 'Eelam', '(', 'LTTE', ')', ',', 'who', 'operate', 'almost', 'freely', 'in', 'the', 'Andaman', 'Sea', '.']\n",
      "['PRON', 'AUX', 'ADV', 'VERB', 'DET', 'NOUN', 'NOUN', 'ADP', 'DET', 'PROPN', 'PROPN', 'ADP', 'PROPN', 'PROPN', 'PUNCT', 'PROPN', 'PUNCT', 'PUNCT', 'PRON', 'VERB', 'ADV', 'ADV', 'ADP', 'DET', 'PROPN', 'PROPN', 'PUNCT']\n",
      "['Information', 'pointing', 'in', 'this', 'direction', 'came', 'to', 'light', 'after', 'the', 'December', '26', 'tsunami', ',', 'which', 'took', 'a', 'heavy', 'toll', 'on', 'the', 'Andamans', '.']\n",
      "['NOUN', 'VERB', 'ADP', 'DET', 'NOUN', 'VERB', 'ADP', 'NOUN', 'ADP', 'DET', 'PROPN', 'NUM', 'NOUN', 'PUNCT', 'PRON', 'VERB', 'DET', 'ADJ', 'NOUN', 'ADP', 'DET', 'PROPN', 'PUNCT']\n",
      "['Correspondents', 'who', 'flocked', 'in', 'to', 'cover', 'the', 'tsunami', 'found', 'they', 'also', 'had', 'another', 'story', '-', 'the', 'miserable', 'security', 'situation', 'surrounding', 'the', 'Indian', 'navy', \"'s\", 'Far', 'Eastern', 'Naval', 'Command', ',', 'now', 'being', 'established', 'along', 'with', 'India', \"'s\", '\"', 'blue', 'water', 'navy', '\"', '.']\n",
      "['NOUN', 'PRON', 'VERB', 'ADV', 'PART', 'VERB', 'DET', 'NOUN', 'VERB', 'PRON', 'ADV', 'VERB', 'DET', 'NOUN', 'PUNCT', 'DET', 'ADJ', 'NOUN', 'NOUN', 'VERB', 'DET', 'ADJ', 'NOUN', 'PART', 'PROPN', 'PROPN', 'PROPN', 'PROPN', 'PUNCT', 'ADV', 'AUX', 'VERB', 'ADP', 'ADP', 'PROPN', 'PART', 'PUNCT', 'ADJ', 'NOUN', 'NOUN', 'PUNCT', 'PUNCT']\n",
      "['Deteriorating', 'security']\n",
      "['VERB', 'NOUN']\n",
      "['Security', 'problems', 'in', 'the', 'Andaman', 'Sea', 'are', 'not', 'new', ',', 'but', 'they', 'have', 'deteriorated', 'during', 'the', 'past', 'few', 'years', ',', 'in', 'tandem', 'with', 'a', 'deterioration', 'in', 'the', 'security', 'situation', 'in', 'Bangladesh', ',', 'Nepal', 'and', 'Bhutan', ',', 'and', 'particularly', 'in', 'the', 'northeastern', 'Indian', 'states', 'of', 'Manipur', ',', 'Nagaland', 'and', 'Tripura', '.']\n",
      "['NOUN', 'NOUN', 'ADP', 'DET', 'PROPN', 'PROPN', 'VERB', 'PART', 'ADJ', 'PUNCT', 'CONJ', 'PRON', 'AUX', 'VERB', 'ADP', 'DET', 'ADJ', 'ADJ', 'NOUN', 'PUNCT', 'ADP', 'NOUN', 'ADP', 'DET', 'NOUN', 'ADP', 'DET', 'NOUN', 'NOUN', 'ADP', 'PROPN', 'PUNCT', 'PROPN', 'CONJ', 'PROPN', 'PUNCT', 'CONJ', 'ADV', 'ADP', 'DET', 'ADJ', 'ADJ', 'NOUN', 'ADP', 'PROPN', 'PUNCT', 'PROPN', 'CONJ', 'PROPN', 'PUNCT']\n",
      "['While', 'the', 'Indian', 'army', 'has', 'become', 'rock', '-', 'solid', 'in', 'the', 'western', 'front', ',', 'and', 'has', 'developed', 'the', 'capability', 'of', 'withstanding', 'any', 'Pakistani', 'adventure', 'in', 'that', 'sector', ',', 'it', 'has', 'become', 'highly', 'vulnerable', 'in', 'its', 'eastern', 'sector', ',', 'where', 'its', 'enemy', 'is', 'not', 'a', 'national', 'army', 'but', 'a', 'multitude', 'of', 'secessionist', ',', 'terrorist', 'and', 'drug', '-', 'running', 'militants', 'operating', 'between', 'Southeast', 'Asia', 'and', 'northeastern', 'India', 'through', 'Bangladesh', '.']\n",
      "['SCONJ', 'DET', 'ADJ', 'NOUN', 'AUX', 'VERB', 'NOUN', 'PUNCT', 'ADJ', 'ADP', 'DET', 'ADJ', 'NOUN', 'PUNCT', 'CONJ', 'AUX', 'VERB', 'DET', 'NOUN', 'SCONJ', 'VERB', 'DET', 'ADJ', 'NOUN', 'ADP', 'DET', 'NOUN', 'PUNCT', 'PRON', 'AUX', 'VERB', 'ADV', 'ADJ', 'ADP', 'PRON', 'ADJ', 'NOUN', 'PUNCT', 'ADV', 'PRON', 'NOUN', 'VERB', 'PART', 'DET', 'ADJ', 'NOUN', 'CONJ', 'DET', 'NOUN', 'ADP', 'ADJ', 'PUNCT', 'ADJ', 'CONJ', 'NOUN', 'PUNCT', 'VERB', 'NOUN', 'VERB', 'ADP', 'PROPN', 'PROPN', 'CONJ', 'ADJ', 'PROPN', 'ADP', 'PROPN', 'PUNCT']\n",
      "['The', 'Andaman', 'Sea', 'is', 'a', 'major', 'conduit', 'for', 'this', 'traffic', ',', 'and', 'the', '572', 'large', 'and', 'small', 'islands', 'that', 'constitute', 'the', 'Andaman', 'and', 'Nicobar', 'group', 'are', 'a', 'natural', 'transit', 'base', '.']\n",
      "['DET', 'PROPN', 'PROPN', 'VERB', 'DET', 'ADJ', 'NOUN', 'ADP', 'DET', 'NOUN', 'PUNCT', 'CONJ', 'DET', 'NUM', 'ADJ', 'CONJ', 'ADJ', 'NOUN', 'PRON', 'VERB', 'DET', 'PROPN', 'CONJ', 'PROPN', 'NOUN', 'VERB', 'DET', 'ADJ', 'NOUN', 'NOUN', 'PUNCT']\n",
      "['The', 'drugs', 'and', 'arms', 'travel', 'in', 'all', 'directions', '.']\n",
      "['DET', 'NOUN', 'CONJ', 'NOUN', 'VERB', 'ADP', 'DET', 'NOUN', 'PUNCT']\n",
      "['Since', 'the', '\"', 'Sea', 'Tigers', '\"', 'of', 'the', 'LTTE', ',', 'better', 'known', 'as', 'the', 'Tamil', 'Tigers', ',', 'are', 'the', 'ones', 'who', 'rule', 'the', 'Andaman', 'Sea', ':', 'they', 'carry', 'the', 'arms', 'and', 'drugs', 'for', 'their', 'own', 'use', 'and', 'also', 'to', 'deliver', 'to', 'rebels', 'in', 'Aceh', 'and', 'all', 'along', 'the', 'east', 'coast', 'of', 'Africa', '.']\n",
      "['SCONJ', 'DET', 'PUNCT', 'PROPN', 'PROPN', 'PUNCT', 'ADP', 'DET', 'PROPN', 'PUNCT', 'ADV', 'VERB', 'ADP', 'DET', 'PROPN', 'PROPN', 'PUNCT', 'VERB', 'DET', 'NOUN', 'PRON', 'VERB', 'DET', 'PROPN', 'PROPN', 'PUNCT', 'PRON', 'VERB', 'DET', 'NOUN', 'CONJ', 'NOUN', 'ADP', 'PRON', 'ADJ', 'NOUN', 'CONJ', 'ADV', 'PART', 'VERB', 'ADP', 'NOUN', 'ADP', 'PROPN', 'CONJ', 'ADV', 'ADP', 'DET', 'ADJ', 'NOUN', 'ADP', 'PROPN', 'PUNCT']\n",
      "['It', 'is', 'old', 'news', 'that', 'the', 'Tamil', 'Tigers', 'have', 'developed', 'a', 'strong', 'network', 'within', 'South', 'Africa', '.']\n",
      "['PRON', 'VERB', 'ADJ', 'NOUN', 'SCONJ', 'DET', 'PROPN', 'PROPN', 'AUX', 'VERB', 'DET', 'ADJ', 'NOUN', 'ADP', 'PROPN', 'PROPN', 'PUNCT']\n",
      "['This', 'is', 'not', 'unknown', 'to', 'New', 'Delhi', '.']\n",
      "['PRON', 'VERB', 'PART', 'ADJ', 'ADP', 'PROPN', 'PROPN', 'PUNCT']\n",
      "['A', 'recent', 'report', 'by', 'a', 'journalist', 'from', 'Port', 'Blair', ',', 'in', 'the', 'Andamans', ',', 'quoted', 'an', 'unnamed', 'official', 'saying', 'that', 'foreigners', 'from', 'Myanmar', ',', 'Bangladesh', 'and', 'Sri', 'Lanka', 'have', 'permanently', 'settled', 'in', 'the', 'islands', ',', 'using', 'fake', 'Indian', 'ration', 'cards', ',', 'while', 'citizens', 'of', 'Thailand', ',', 'China', ',', 'Indonesia', 'and', 'Malaysia', 'have', 'migrated', 'temporarily', 'to', 'plunder', 'the', 'natural', 'resources', 'and', 'leave', '.']\n",
      "['DET', 'ADJ', 'NOUN', 'ADP', 'DET', 'NOUN', 'ADP', 'PROPN', 'PROPN', 'PUNCT', 'ADP', 'DET', 'PROPN', 'PUNCT', 'VERB', 'DET', 'ADJ', 'NOUN', 'VERB', 'SCONJ', 'NOUN', 'ADP', 'PROPN', 'PUNCT', 'PROPN', 'CONJ', 'PROPN', 'PROPN', 'AUX', 'ADV', 'VERB', 'ADP', 'DET', 'NOUN', 'PUNCT', 'VERB', 'ADJ', 'ADJ', 'NOUN', 'NOUN', 'PUNCT', 'SCONJ', 'NOUN', 'ADP', 'PROPN', 'PUNCT', 'PROPN', 'PUNCT', 'PROPN', 'CONJ', 'PROPN', 'AUX', 'VERB', 'ADV', 'PART', 'VERB', 'DET', 'ADJ', 'NOUN', 'CONJ', 'VERB', 'PUNCT']\n",
      "['\"', 'Port', 'Blair', ',', 'Havelock', 'Islands', ',', 'Diglipur', ',', 'Middle', 'Nicobar', ',', 'Campbell', \"'s\", 'Bay', ',', 'Neil', 'Islands', 'and', 'Rangott', 'are', 'mostly', 'overrun', 'by', 'foreigners', ',', '\"', 'he', 'said', '.']\n",
      "['PUNCT', 'PROPN', 'PROPN', 'PUNCT', 'PROPN', 'PROPN', 'PUNCT', 'PROPN', 'PUNCT', 'PROPN', 'PROPN', 'PUNCT', 'PROPN', 'PART', 'PROPN', 'PUNCT', 'PROPN', 'PROPN', 'CONJ', 'PROPN', 'AUX', 'ADV', 'VERB', 'ADP', 'NOUN', 'PUNCT', 'PUNCT', 'PRON', 'VERB', 'PUNCT']\n",
      "['An', 'official', 'estimate', 'issued', 'in', '2003', 'suggests', 'there', 'are', '50,000', '\"', 'foreigners', '\"', 'in', 'the', 'Andaman', 'Islands', ',', 'but', 'unofficial', 'figures', 'are', 'much', 'higher', 'than', 'this', '.']\n",
      "['DET', 'ADJ', 'NOUN', 'VERB', 'ADP', 'NUM', 'VERB', 'PRON', 'VERB', 'NUM', 'PUNCT', 'NOUN', 'PUNCT', 'ADP', 'DET', 'PROPN', 'PROPN', 'PUNCT', 'CONJ', 'ADJ', 'NOUN', 'VERB', 'ADV', 'ADJ', 'ADP', 'PRON', 'PUNCT']\n",
      "['A', 'large', 'number', 'of', 'them', 'are', 'Bangladeshis', ',', 'who', 'like', 'millions', 'of', 'their', 'countrymen', 'have', 'left', 'their', 'densely', 'populated', 'homeland', 'to', 'settle', 'elsewhere', '.']\n",
      "['DET', 'ADJ', 'NOUN', 'ADP', 'PRON', 'VERB', 'PROPN', 'PUNCT', 'PRON', 'ADP', 'NOUN', 'ADP', 'PRON', 'NOUN', 'AUX', 'VERB', 'PRON', 'ADV', 'VERB', 'NOUN', 'PART', 'VERB', 'ADV', 'PUNCT']\n",
      "['As', 'most', 'of', 'them', 'have', 'few', 'technical', 'skills', ',', 'and', 'the', 'Andamans', 'have', 'little', 'demand', 'for', 'them', 'in', 'any', 'case', ',', 'they', 'turn', 'to', 'smuggling', 'and', 'other', 'unlawful', 'activities', '.']\n",
      "['SCONJ', 'ADJ', 'ADP', 'PRON', 'VERB', 'ADJ', 'ADJ', 'NOUN', 'PUNCT', 'CONJ', 'DET', 'PROPN', 'VERB', 'ADJ', 'NOUN', 'ADP', 'PRON', 'ADP', 'DET', 'NOUN', 'PUNCT', 'PRON', 'VERB', 'ADP', 'NOUN', 'CONJ', 'ADJ', 'ADJ', 'NOUN', 'PUNCT']\n",
      "['The', 'presence', 'of', 'the', 'Sea', 'Tigers', 'in', 'the', 'area', 'with', 'guns', ',', 'cash', 'and', 'drugs', 'makes', 'the', 'situation', 'extremely', 'dangerous', '.']\n",
      "['DET', 'NOUN', 'ADP', 'DET', 'PROPN', 'PROPN', 'ADP', 'DET', 'NOUN', 'ADP', 'NOUN', 'PUNCT', 'NOUN', 'CONJ', 'NOUN', 'VERB', 'DET', 'NOUN', 'ADV', 'ADJ', 'PUNCT']\n",
      "['Reports', 'from', 'Port', 'Blair', 'make', 'it', 'evident', 'that', 'New', 'Delhi', 'gets', 'little', 'on', '-', 'the', '-', 'ground', 'intelligence', ',', 'and', 'the', 'Indian', 'Coast', 'Guard', 'is', 'grossly', 'unequipped', 'to', 'deal', 'with', 'the', 'surge', 'of', 'illegal', 'migrants', 'to', 'the', 'islands', '.']\n",
      "['NOUN', 'ADP', 'PROPN', 'PROPN', 'VERB', 'PRON', 'ADJ', 'SCONJ', 'PROPN', 'PROPN', 'VERB', 'ADJ', 'ADP', 'PUNCT', 'DET', 'PUNCT', 'NOUN', 'NOUN', 'PUNCT', 'CONJ', 'DET', 'ADJ', 'PROPN', 'PROPN', 'VERB', 'ADV', 'ADJ', 'PART', 'VERB', 'ADP', 'DET', 'NOUN', 'ADP', 'ADJ', 'NOUN', 'ADP', 'DET', 'NOUN', 'PUNCT']\n",
      "['One', 'unnamed', 'naval', 'officer', 'was', 'quoted', 'saying', ',', '\"', 'Arms', 'smuggling', 'is', 'a', 'very', 'profitable', 'business', 'in', 'this', 'region', '.', '\"']\n",
      "['NUM', 'ADJ', 'ADJ', 'NOUN', 'AUX', 'VERB', 'VERB', 'PUNCT', 'PUNCT', 'NOUN', 'NOUN', 'VERB', 'DET', 'ADV', 'ADJ', 'NOUN', 'ADP', 'DET', 'NOUN', 'PUNCT', 'PUNCT']\n",
      "['Considering', 'the', 'islands', \"'\", 'huge', 'strategic', 'importance', ',', 'it', 'is', 'amazing', 'how', 'lax', 'New', 'Delhi', 'has', 'been', '.']\n",
      "['VERB', 'DET', 'NOUN', 'PART', 'ADJ', 'ADJ', 'NOUN', 'PUNCT', 'PRON', 'VERB', 'ADJ', 'ADV', 'ADJ', 'PROPN', 'PROPN', 'AUX', 'VERB', 'PUNCT']\n",
      "['These', 'islands', 'sit', 'aside', 'the', 'vital', 'sea', 'lanes', 'of', 'the', 'Strait', 'of', 'Malacca', ',', 'through', 'which', '300', 'tankers', 'and', 'merchant', 'ships', 'pass', 'daily', ',', 'bringing', 'in', 'oil', 'for', 'the', 'Far', 'East', 'and', 'Southeast', 'Asia', '.']\n",
      "['DET', 'NOUN', 'VERB', 'ADP', 'DET', 'ADJ', 'NOUN', 'NOUN', 'ADP', 'DET', 'PROPN', 'ADP', 'PROPN', 'PUNCT', 'ADP', 'PRON', 'NUM', 'NOUN', 'CONJ', 'NOUN', 'NOUN', 'VERB', 'ADV', 'PUNCT', 'VERB', 'ADV', 'NOUN', 'ADP', 'DET', 'PROPN', 'PROPN', 'CONJ', 'PROPN', 'PROPN', 'PUNCT']\n",
      "['Intelligence', 'lapses']\n",
      "['NOUN', 'NOUN']\n",
      "['As', 'the', 'implications', 'of', 'the', 'Andaman', 'Islands', 'situation', 'sink', 'in', ',', 'Indian', 'intelligence', 'has', 'inevitably', 'come', 'under', 'scrutiny', '.']\n",
      "['SCONJ', 'DET', 'NOUN', 'ADP', 'DET', 'PROPN', 'PROPN', 'NOUN', 'VERB', 'ADV', 'PUNCT', 'ADJ', 'NOUN', 'AUX', 'ADV', 'VERB', 'ADP', 'NOUN', 'PUNCT']\n",
      "['In', 'recent', 'months', ',', 'its', 'fallibility', 'has', 'become', 'evident', '.']\n",
      "['ADP', 'ADJ', 'NOUN', 'PUNCT', 'PRON', 'NOUN', 'AUX', 'VERB', 'ADJ', 'PUNCT']\n",
      "['The', 'inability', 'to', 'foresee', 'in', 'advance', 'the', 'assassination', 'attempt', 'on', 'the', 'pro-India', 'political', 'leader', 'and', 'former', 'Bangladeshi', 'prime', 'minister', 'Sheikh', 'Hasina', 'Wazed', 'last', 'August', '21', 'at', 'a', 'political', 'rally', 'in', 'Dhaka', ',', 'and', 'the', 'recent', '\"', 'coup', '\"', 'by', 'Nepalese', 'King', 'Gyanendra', 'dismissing', 'his', 'government', 'and', 'imposing', 'a', 'virtual', 'absolute', 'monarchy', ',', 'are', 'glaring', 'examples', 'of', 'intelligence', 'failure', '.']\n",
      "['DET', 'NOUN', 'PART', 'VERB', 'ADP', 'NOUN', 'DET', 'NOUN', 'NOUN', 'ADP', 'DET', 'ADJ', 'ADJ', 'NOUN', 'CONJ', 'ADJ', 'ADJ', 'ADJ', 'NOUN', 'PROPN', 'PROPN', 'PROPN', 'ADJ', 'PROPN', 'NUM', 'ADP', 'DET', 'ADJ', 'NOUN', 'ADP', 'PROPN', 'PUNCT', 'CONJ', 'DET', 'ADJ', 'PUNCT', 'NOUN', 'PUNCT', 'ADP', 'ADJ', 'PROPN', 'PROPN', 'VERB', 'PRON', 'NOUN', 'CONJ', 'VERB', 'DET', 'ADJ', 'ADJ', 'NOUN', 'PUNCT', 'VERB', 'ADJ', 'NOUN', 'ADP', 'NOUN', 'NOUN', 'PUNCT']\n",
      "['With', 'growing', 'economic', 'and', 'military', 'power', ',', 'India', 'will', 'be', 'dependent', 'on', 'smaller', 'nations', 'in', 'the', 'region', 'increasingly', 'to', 'maintain', 'regional', 'security', '.']\n",
      "['ADP', 'VERB', 'ADJ', 'CONJ', 'ADJ', 'NOUN', 'PUNCT', 'PROPN', 'AUX', 'VERB', 'ADJ', 'ADP', 'ADJ', 'NOUN', 'ADP', 'DET', 'NOUN', 'ADV', 'PART', 'VERB', 'ADJ', 'NOUN', 'PUNCT']\n",
      "['Unless', 'New', 'Delhi', 'does', 'better', 'in', 'providing', 'security', 'to', 'its', 'own', 'nationals', 'against', 'rebels', ',', 'secessionists', ',', 'drug', 'runners', 'and', 'arms', 'traffickers', ',', 'it', 'will', 'not', 'generate', 'much', 'confidence', 'in', 'the', 'capitals', 'of', 'surrounding', 'nations', '.']\n",
      "['SCONJ', 'PROPN', 'PROPN', 'VERB', 'ADV', 'SCONJ', 'VERB', 'NOUN', 'ADP', 'PRON', 'ADJ', 'NOUN', 'ADP', 'NOUN', 'PUNCT', 'NOUN', 'PUNCT', 'NOUN', 'NOUN', 'CONJ', 'NOUN', 'NOUN', 'PUNCT', 'PRON', 'AUX', 'PART', 'VERB', 'ADJ', 'NOUN', 'ADP', 'DET', 'NOUN', 'ADP', 'VERB', 'NOUN', 'PUNCT']\n",
      "['In', 'fact', ',', 'it', 'would', 'tend', 'to', 'encourage', 'more', 'organized', 'anti-India', 'outfits', ',', 'such', 'as', 'the', 'Pakistani', 'Inter-', 'Services', 'Intelligence', '(', 'ISI', ')', 'and', 'outside', '-', 'linked', 'Maoists', ',', 'to', 'exploit', 'these', 'networks', 'and', 'weaken', 'India', \"'s\", 'eastern', 'flank', '.']\n",
      "['ADP', 'NOUN', 'PUNCT', 'PRON', 'AUX', 'VERB', 'PART', 'VERB', 'ADV', 'ADJ', 'ADJ', 'NOUN', 'PUNCT', 'ADJ', 'ADP', 'DET', 'ADJ', 'X', 'PROPN', 'PROPN', 'PUNCT', 'PROPN', 'PUNCT', 'CONJ', 'ADV', 'PUNCT', 'VERB', 'PROPN', 'PUNCT', 'PART', 'VERB', 'DET', 'NOUN', 'CONJ', 'VERB', 'PROPN', 'PART', 'ADJ', 'NOUN', 'PUNCT']\n",
      "['Indian', 'intelligence', \"'s\", 'lackluster', 'performance', 'in', 'dealing', 'with', 'the', 'LTTE', 'is', 'startling', '.']\n",
      "['ADJ', 'NOUN', 'PART', 'ADJ', 'NOUN', 'SCONJ', 'VERB', 'ADP', 'DET', 'PROPN', 'VERB', 'ADJ', 'PUNCT']\n",
      "['This', 'formidable', 'enemy', ',', 'which', 'gave', 'the', 'Indian', 'army', 'a', 'black', 'eye', 'in', 'the', 'mid-1980s', ',', 'has', 'been', 'operating', 'in', 'northeastern', 'India', 'and', 'in', 'the', 'Andaman', 'Sea', 'for', 'a', 'long', 'time', '.']\n",
      "['DET', 'ADJ', 'NOUN', 'PUNCT', 'PRON', 'VERB', 'DET', 'ADJ', 'NOUN', 'DET', 'ADJ', 'NOUN', 'ADP', 'DET', 'NOUN', 'PUNCT', 'AUX', 'AUX', 'VERB', 'ADP', 'ADJ', 'PROPN', 'CONJ', 'ADP', 'DET', 'PROPN', 'PROPN', 'ADP', 'DET', 'ADJ', 'NOUN', 'PUNCT']\n",
      "['In', '2001', ',', 'according', 'to', 'Indian', 'army', 'officials', ',', 'security', 'forces', 'launched', 'a', 'wide', '-', 'ranging', 'operation', 'in', 'the', '300', '-', 'some', 'inhabited', 'islands', 'neighboring', 'Andaman', 'and', 'Nicobar', ',', 'and', 'found', 'huge', 'caches', 'of', 'arms', '.']\n",
      "['ADP', 'NUM', 'PUNCT', 'VERB', 'ADP', 'ADJ', 'NOUN', 'NOUN', 'PUNCT', 'NOUN', 'NOUN', 'VERB', 'DET', 'ADV', 'PUNCT', 'VERB', 'NOUN', 'ADP', 'DET', 'NUM', 'PUNCT', 'DET', 'VERB', 'NOUN', 'VERB', 'PROPN', 'CONJ', 'PROPN', 'PUNCT', 'CONJ', 'VERB', 'ADJ', 'NOUN', 'ADP', 'NOUN', 'PUNCT']\n",
      "['The', 'arms', 'were', 'said', 'to', 'belong', 'to', 'the', 'LTTE', 'and', '\"', 'other', 'terrorist', 'groups', '\"', '.']\n",
      "['DET', 'NOUN', 'AUX', 'VERB', 'PART', 'VERB', 'ADP', 'DET', 'PROPN', 'CONJ', 'PUNCT', 'ADJ', 'NOUN', 'NOUN', 'PUNCT', 'PUNCT']\n",
      "['The', 'search', '-', 'and', '-', 'destroy', 'operation', 'was', 'carried', 'out', 'by', 'the', 'Indian', 'government', 'after', 'repeated', 'requests', 'from', 'Colombo', '.']\n",
      "['DET', 'VERB', 'PUNCT', 'CONJ', 'PUNCT', 'VERB', 'NOUN', 'AUX', 'VERB', 'ADP', 'ADP', 'DET', 'ADJ', 'NOUN', 'ADP', 'VERB', 'NOUN', 'ADP', 'PROPN', 'PUNCT']\n",
      "['In', 'addition', ',', 'LTTE', 'activity', 'in', 'the', 'Andaman', 'Sea', 'is', 'well', 'known', 'to', 'local', 'observers', '.']\n",
      "['ADP', 'NOUN', 'PUNCT', 'PROPN', 'NOUN', 'ADP', 'DET', 'PROPN', 'PROPN', 'VERB', 'ADV', 'ADJ', 'ADP', 'ADJ', 'NOUN', 'PUNCT']\n",
      "['The', 'biggest', 'LTTE', 'maritime', 'disaster', 'was', 'reported', 'in', 'the', 'now', '-', 'defunct', 'Asiaweek', 'in', '2001', '.']\n",
      "['DET', 'ADJ', 'PROPN', 'ADJ', 'NOUN', 'AUX', 'VERB', 'ADP', 'DET', 'ADV', 'PUNCT', 'ADJ', 'PROPN', 'ADP', 'NUM', 'PUNCT']\n",
      "['A', 'shipment', 'of', 'weapons', ',', 'ammunition', 'and', 'explosives', ',', 'believed', 'to', 'have', 'been', 'purchased', 'from', 'Cambodia', 'and', 'worth', 'several', 'million', 'dollars', ',', 'left', 'the', 'port', 'of', 'Phuket', 'in', 'Thailand', 'in', 'early', 'February', '2001', 'aboard', 'the', 'freighter', 'Comex', '-', 'Joux', '3', '.']\n",
      "['DET', 'NOUN', 'ADP', 'NOUN', 'PUNCT', 'NOUN', 'CONJ', 'NOUN', 'PUNCT', 'VERB', 'PART', 'AUX', 'AUX', 'VERB', 'ADP', 'PROPN', 'CONJ', 'ADJ', 'ADJ', 'NUM', 'NOUN', 'PUNCT', 'VERB', 'DET', 'NOUN', 'ADP', 'PROPN', 'ADP', 'PROPN', 'ADP', 'ADJ', 'PROPN', 'NUM', 'ADP', 'DET', 'NOUN', 'PROPN', 'PUNCT', 'PROPN', 'NUM', 'PUNCT']\n",
      "['As', 'is', 'LTTE', 'standard', 'procedure', ',', 'the', 'vessel', 'changed', 'its', 'name', 'at', 'sea', 'to', 'Horizon', '.']\n",
      "['SCONJ', 'VERB', 'PROPN', 'ADJ', 'NOUN', 'PUNCT', 'DET', 'NOUN', 'VERB', 'PRON', 'NOUN', 'ADP', 'NOUN', 'ADP', 'PROPN', 'PUNCT']\n",
      "['On', 'its', 'journey', 'across', 'the', 'Bay', 'of', 'Bengal', 'the', 'freighter', 'was', 'tracked', 'by', 'the', 'Indian', 'navy', 'and', 'Orissa', '-', 'based', 'spy', 'planes', 'of', 'India', \"'s\", 'Aviation', 'Research', 'Center', ';', 'it', 'was', 'intercepted', 'by', 'Indian', 'naval', 'vessels', 'off', 'Sri', 'Lanka', \"'s\", 'east', 'coast', '.']\n",
      "['ADP', 'PRON', 'NOUN', 'ADP', 'DET', 'PROPN', 'ADP', 'PROPN', 'DET', 'NOUN', 'AUX', 'VERB', 'ADP', 'DET', 'ADJ', 'NOUN', 'CONJ', 'PROPN', 'PUNCT', 'VERB', 'NOUN', 'NOUN', 'ADP', 'PROPN', 'PART', 'PROPN', 'PROPN', 'PROPN', 'PUNCT', 'PRON', 'AUX', 'VERB', 'ADP', 'ADJ', 'ADJ', 'NOUN', 'ADP', 'PROPN', 'PROPN', 'PART', 'ADJ', 'NOUN', 'PUNCT']\n",
      "['LTTE', 'arms', '-', 'running']\n",
      "['PROPN', 'NOUN', 'PUNCT', 'NOUN']\n",
      "['In', '1997', ',', 'the', 'Thai', 'navy', 'reported', 'the', 'interception', 'of', 'a', '16', '-', 'meter', 'boat', 'after', 'a', 'chase', 'off', 'the', 'Thai', 'port', 'of', 'Ranong', ',', 'and', 'the', 'confiscation', 'of', 'two', 'tons', 'of', 'weapons', 'and', 'ammunition', '.']\n",
      "['ADP', 'NUM', 'PUNCT', 'DET', 'ADJ', 'NOUN', 'VERB', 'DET', 'NOUN', 'ADP', 'DET', 'NUM', 'PUNCT', 'NOUN', 'NOUN', 'ADP', 'DET', 'NOUN', 'ADP', 'DET', 'ADJ', 'NOUN', 'ADP', 'PROPN', 'PUNCT', 'CONJ', 'DET', 'NOUN', 'ADP', 'NUM', 'NOUN', 'ADP', 'NOUN', 'CONJ', 'NOUN', 'PUNCT']\n",
      "['Among', 'the', 'weapons', 'intercepted', 'were', 'two', 'rocket', '-', 'propelled', '-', 'grenade', 'launchers', ',', '20', 'assault', 'rifles', ',', 'M', '-', '79', 'grenade', 'launchers', 'and', 'more', 'than', '10,000', 'rounds', 'of', 'ammunition', '.']\n",
      "['ADP', 'DET', 'NOUN', 'VERB', 'VERB', 'NUM', 'NOUN', 'PUNCT', 'VERB', 'PUNCT', 'NOUN', 'NOUN', 'PUNCT', 'NUM', 'NOUN', 'NOUN', 'PUNCT', 'NOUN', 'PUNCT', 'NUM', 'NOUN', 'NOUN', 'CONJ', 'ADJ', 'ADP', 'NUM', 'NOUN', 'ADP', 'NOUN', 'PUNCT']\n",
      "['Four', 'persons', 'were', 'arrested', ',', 'reportedly', 'belonging', 'to', 'the', 'Manipur', 'Revolutionary', 'People', \"'s\", 'Front', '.']\n",
      "['NUM', 'NOUN', 'AUX', 'VERB', 'PUNCT', 'ADV', 'VERB', 'ADP', 'DET', 'PROPN', 'PROPN', 'PROPN', 'PART', 'PROPN', 'PUNCT']\n",
      "['Six', 'crew', 'members', 'were', 'from', 'the', 'Arakan', 'region', 'of', 'Myanmar', '.']\n",
      "['NUM', 'NOUN', 'NOUN', 'VERB', 'ADP', 'DET', 'PROPN', 'NOUN', 'ADP', 'PROPN', 'PUNCT']\n",
      "['The', 'boat', 'was', 'heading', 'toward', 'Cox', \"'s\", 'Bazar', 'in', 'Bangladesh', '.']\n",
      "['DET', 'NOUN', 'AUX', 'VERB', 'ADP', 'PROPN', 'PART', 'PROPN', 'ADP', 'PROPN', 'PUNCT']\n",
      "['Until', '1995', 'the', 'LTTE', 'maintained', 'a', 'base', 'at', 'Twante', ',', 'an', 'island', 'off', 'the', 'coat', 'of', 'Myanmar', ',', 'west', 'of', 'the', 'Andaman', 'islands', '.']\n",
      "['ADP', 'NUM', 'DET', 'PROPN', 'VERB', 'DET', 'NOUN', 'ADP', 'PROPN', 'PUNCT', 'DET', 'NOUN', 'ADP', 'DET', 'NOUN', 'ADP', 'PROPN', 'PUNCT', 'ADV', 'ADP', 'DET', 'PROPN', 'NOUN', 'PUNCT']\n",
      "['Subsequently', ',', 'Phuket', 'became', 'the', 'LTTE', \"'s\", 'main', 'backup', 'base', '.']\n",
      "['ADV', 'PUNCT', 'PROPN', 'VERB', 'DET', 'PROPN', 'PART', 'ADJ', 'NOUN', 'NOUN', 'PUNCT']\n",
      "['A', 'Sri', 'Lanka', '-', 'born', 'Tamil', 'with', 'a', 'Norwegian', 'passport', 'was', 'arrested', 'by', 'Thai', 'authorities', 'in', '2000', 'for', 'his', 'links', 'with', 'the', 'LTTE', '.']\n",
      "['DET', 'PROPN', 'PROPN', 'PUNCT', 'VERB', 'PROPN', 'ADP', 'DET', 'ADJ', 'NOUN', 'AUX', 'VERB', 'ADP', 'ADJ', 'NOUN', 'ADP', 'NUM', 'ADP', 'PRON', 'NOUN', 'ADP', 'DET', 'PROPN', 'PUNCT']\n",
      "['At', 'the', 'time', 'of', 'his', 'arrest', ',', 'the', 'suspect', 'was', 'allegedly', 'involved', 'in', 'constructing', 'a', '\"', 'submarine', '\"', 'in', 'a', 'shipyard', 'on', 'the', 'island', 'of', 'Sirae', 'near', 'Phuket', 'on', 'the', 'Andaman', 'Sea', 'coast', '.']\n",
      "['ADP', 'DET', 'NOUN', 'ADP', 'PRON', 'NOUN', 'PUNCT', 'DET', 'NOUN', 'VERB', 'ADV', 'ADJ', 'SCONJ', 'VERB', 'DET', 'PUNCT', 'NOUN', 'PUNCT', 'ADP', 'DET', 'NOUN', 'ADP', 'DET', 'NOUN', 'ADP', 'PROPN', 'ADP', 'PROPN', 'ADP', 'DET', 'PROPN', 'PROPN', 'NOUN', 'PUNCT']\n",
      "['Steady', 'buildup']\n",
      "['ADJ', 'NOUN']\n",
      "['The', 'real', 'threat', 'to', 'the', 'Andaman', 'Islands', 'is', 'the', 'steady', 'building', '-', 'up', 'of', 'ports', 'and', 'conduits', 'that', 'serve', 'the', 'Tamil', 'Tigers', 'and', 'a', 'host', 'of', 'less', '-', 'strong', 'militant', 'groups', '.']\n",
      "['DET', 'ADJ', 'NOUN', 'ADP', 'DET', 'PROPN', 'NOUN', 'VERB', 'DET', 'ADJ', 'NOUN', 'PUNCT', 'NOUN', 'ADP', 'NOUN', 'CONJ', 'NOUN', 'PRON', 'VERB', 'DET', 'PROPN', 'PROPN', 'CONJ', 'DET', 'NOUN', 'ADP', 'ADV', 'PUNCT', 'ADJ', 'ADJ', 'NOUN', 'PUNCT']\n",
      "['Over', 'the', 'past', 'decade', ',', 'Bangladesh', 'has', 'steadily', 'moved', 'into', 'a', 'state', 'of', 'lawlessness', '.']\n",
      "['ADP', 'DET', 'ADJ', 'NOUN', 'PUNCT', 'PROPN', 'AUX', 'ADV', 'VERB', 'ADP', 'DET', 'NOUN', 'ADP', 'NOUN', 'PUNCT']\n",
      "['A', 'number', 'of', 'extremist', 'groups', ',', 'under', 'the', 'cover', 'of', 'the', 'Islamist', 'movement', ',', 'have', 'become', 'active', 'in', 'drug', 'trafficking', ',', 'gun', 'running', 'and', 'anti-Indian', 'activities', '.']\n",
      "['DET', 'NOUN', 'ADP', 'NOUN', 'NOUN', 'PUNCT', 'ADP', 'DET', 'NOUN', 'ADP', 'DET', 'PROPN', 'NOUN', 'PUNCT', 'AUX', 'VERB', 'ADJ', 'ADP', 'NOUN', 'NOUN', 'PUNCT', 'NOUN', 'NOUN', 'CONJ', 'ADJ', 'NOUN', 'PUNCT']\n",
      "['It', 'is', 'widely', 'acknowledged', 'that', 'the', 'Pakistani', 'ISI', 'has', 'nurtured', 'a', 'number', 'of', 'extremist', 'Islamist', 'groups', ',', 'such', 'as', 'the', 'Harkat', '-', 'ul', '-', 'Jehad', '-', 'al', '-', 'Islami', ',', 'in', 'the', 'port', 'city', 'of', 'Chittagong', ',', 'and', 'put', 'a', 'number', 'of', 'secessionist', 'rebels', 'from', 'India', \"'s\", 'northeast', 'in', 'touch', 'with', 'this', 'terrorist', 'network', '.']\n",
      "['PRON', 'AUX', 'ADV', 'VERB', 'SCONJ', 'DET', 'ADJ', 'PROPN', 'AUX', 'VERB', 'DET', 'NOUN', 'ADP', 'NOUN', 'PROPN', 'NOUN', 'PUNCT', 'ADJ', 'ADP', 'DET', 'PROPN', 'PUNCT', 'PROPN', 'PUNCT', 'PROPN', 'PUNCT', 'PROPN', 'PUNCT', 'PROPN', 'PUNCT', 'ADP', 'DET', 'NOUN', 'NOUN', 'ADP', 'PROPN', 'PUNCT', 'CONJ', 'VERB', 'DET', 'NOUN', 'ADP', 'NOUN', 'NOUN', 'ADP', 'PROPN', 'PART', 'NOUN', 'ADP', 'NOUN', 'ADP', 'DET', 'NOUN', 'NOUN', 'PUNCT']\n",
      "['As', 'a', 'result', ',', 'north', 'of', 'the', 'Andaman', 'Islands', ',', 'Bangladeshi', 'coastal', 'areas', 'have', 'become', 'a', 'nest', 'of', 'terrorists', 'involved', 'in', 'the', 'shipment', 'of', 'drugs', 'and', 'arms', '.']\n",
      "['ADP', 'DET', 'NOUN', 'PUNCT', 'ADV', 'ADP', 'DET', 'PROPN', 'PROPN', 'PUNCT', 'ADJ', 'NOUN', 'NOUN', 'AUX', 'VERB', 'DET', 'NOUN', 'ADP', 'NOUN', 'ADJ', 'ADP', 'DET', 'NOUN', 'ADP', 'NOUN', 'CONJ', 'NOUN', 'PUNCT']\n",
      "['A', 'pattern', 'of', 'arrests', 'and', 'seizures', 'indicate', 'that', 'arms', 'are', 'brought', 'by', 'the', 'LTTE', 'from', 'Laos', ',', 'Cambodia', 'and', 'Thailand', 'into', 'Chittagong', ',', 'from', 'where', 'they', 'are', 'transported', 'northward', 'by', 'land', 'to', 'Bhutan', '.']\n",
      "['DET', 'NOUN', 'ADP', 'NOUN', 'CONJ', 'NOUN', 'VERB', 'SCONJ', 'NOUN', 'AUX', 'VERB', 'ADP', 'DET', 'PROPN', 'ADP', 'PROPN', 'PUNCT', 'PROPN', 'CONJ', 'PROPN', 'ADP', 'PROPN', 'PUNCT', 'ADP', 'ADV', 'PRON', 'AUX', 'VERB', 'ADV', 'ADP', 'NOUN', 'ADP', 'PROPN', 'PUNCT']\n",
      "['The', 'route', 'from', 'Kalikhola', 'in', 'Bhutan', 'to', 'Cox', \"'s\", 'Bazar', 'passes', 'through', 'northern', 'Bengal', ',', 'Assam', 'and', 'Meghalaya', ',', 'and', 'on', 'into', 'Chittagong', '.']\n",
      "['DET', 'NOUN', 'ADP', 'PROPN', 'ADP', 'PROPN', 'ADP', 'PROPN', 'PART', 'PROPN', 'VERB', 'ADP', 'ADJ', 'PROPN', 'PUNCT', 'PROPN', 'CONJ', 'PROPN', 'PUNCT', 'CONJ', 'ADV', 'ADP', 'PROPN', 'PUNCT']\n",
      "['Note']\n",
      "['NOUN']\n",
      "['India', \"'s\", 'Andaman', 'and', 'Nicobar', 'Islands', 'comprise', 'more', 'than', '500', 'islands', 'lying', '1,000', 'kilometers', 'east', 'of', 'Sri', 'Lanka', 'in', 'the', 'Bay', 'of', 'Bengal', '.']\n",
      "['PROPN', 'PART', 'PROPN', 'CONJ', 'PROPN', 'PROPN', 'VERB', 'ADJ', 'ADP', 'NUM', 'NOUN', 'VERB', 'NUM', 'NOUN', 'ADV', 'ADP', 'PROPN', 'PROPN', 'ADP', 'DET', 'PROPN', 'ADP', 'PROPN', 'PUNCT']\n",
      "['Stretching', '750', 'kilometers', 'from', 'end', 'to', 'end', ',', 'they', 'reach', 'from', 'near', 'the', 'coast', 'of', 'Myanmar', 'almost', 'to', 'Sumatra', 'in', 'Indonesia', '.']\n",
      "['VERB', 'NUM', 'NOUN', 'ADP', 'NOUN', 'ADP', 'NOUN', 'PUNCT', 'PRON', 'VERB', 'ADP', 'ADP', 'DET', 'NOUN', 'ADP', 'PROPN', 'ADV', 'ADP', 'PROPN', 'ADP', 'PROPN', 'PUNCT']\n",
      "['The', 'Ten', 'Degree', 'Channel', 'divides', 'the', 'Andamans', ',', 'which', 'are', 'the', 'larger', 'and', 'more', 'heavily', 'populated', 'northern', 'islands', ',', 'from', 'the', '20', 'or', 'so', 'Nicobar', 'Islands', 'in', 'the', 'south', '.']\n",
      "['DET', 'PROPN', 'PROPN', 'PROPN', 'VERB', 'DET', 'PROPN', 'PUNCT', 'PRON', 'VERB', 'DET', 'ADJ', 'CONJ', 'ADV', 'ADV', 'VERB', 'ADJ', 'NOUN', 'PUNCT', 'ADP', 'DET', 'NUM', 'CONJ', 'ADV', 'PROPN', 'PROPN', 'ADP', 'DET', 'NOUN', 'PUNCT']\n",
      "['On', 'South', 'Andaman', ',', 'the', 'most', 'heavily', 'populated', 'island', ',', 'is', 'Port', 'Blair', ',', 'which', 'is', 'the', 'capital', 'and', 'the', 'only', 'large', 'town', 'in', 'the', 'entire', 'archipelago', '.']\n",
      "['ADP', 'PROPN', 'PROPN', 'PUNCT', 'DET', 'ADV', 'ADV', 'VERB', 'NOUN', 'PUNCT', 'VERB', 'PROPN', 'PROPN', 'PUNCT', 'PRON', 'VERB', 'DET', 'NOUN', 'CONJ', 'DET', 'ADV', 'ADJ', 'NOUN', 'ADP', 'DET', 'ADJ', 'NOUN', 'PUNCT']\n",
      "['Travel', 'to', 'the', 'Nicobar', 'Islands', 'is', 'forbidden', 'to', 'non-Indians', ',', 'and', 'they', 'are', 'also', 'not', 'allowed', 'in', 'some', 'parts', 'of', 'South', 'Andaman', 'Island', '.']\n",
      "['NOUN', 'ADP', 'DET', 'PROPN', 'PROPN', 'VERB', 'ADJ', 'ADP', 'PROPN', 'PUNCT', 'CONJ', 'PRON', 'AUX', 'ADV', 'PART', 'VERB', 'ADP', 'DET', 'NOUN', 'ADP', 'PROPN', 'PROPN', 'PROPN', 'PUNCT']\n",
      "['Ramtanu', 'Maitra', 'writes', 'for', 'a', 'number', 'of', 'international', 'journals', 'and', 'is', 'a', 'regular', 'contributor', 'to', 'the', 'Washington', '-', 'based', 'EIR', 'and', 'the', 'New', 'Delhi', '-', 'based', 'Indian', 'Defense', 'Review', '.']\n",
      "['PROPN', 'PROPN', 'VERB', 'ADP', 'DET', 'NOUN', 'ADP', 'ADJ', 'NOUN', 'CONJ', 'VERB', 'DET', 'ADJ', 'NOUN', 'ADP', 'DET', 'PROPN', 'PUNCT', 'VERB', 'PROPN', 'CONJ', 'DET', 'PROPN', 'PROPN', 'PUNCT', 'VERB', 'PROPN', 'PROPN', 'PROPN', 'PUNCT']\n",
      "['He', 'also', 'writes', 'for', 'Aakrosh', ',', 'India', \"'s\", 'defense', '-', 'tied', 'quarterly', 'journal', '.']\n",
      "['PRON', 'ADV', 'VERB', 'ADP', 'PROPN', 'PUNCT', 'PROPN', 'PART', 'NOUN', 'PUNCT', 'VERB', 'ADJ', 'NOUN', 'PUNCT']\n",
      "['[', 'Karzai', 'also', 'has', 'to', 'deal', 'with', 'the', 'stepped', 'up', 'rivalry', 'between', 'India', 'and', 'Pakistan', 'in', 'Afghanistan', '.']\n",
      "['PUNCT', 'PROPN', 'ADV', 'VERB', 'PART', 'VERB', 'ADP', 'DET', 'VERB', 'ADP', 'NOUN', 'ADP', 'PROPN', 'CONJ', 'PROPN', 'ADP', 'PROPN', 'PUNCT']\n",
      "['Islamabad', 'accuses', 'New', 'Delhi', 'of', 'using', 'its', 'consulates', 'in', 'Kandahar', 'and', 'Jalalabad', 'to', 'train', 'Balochi', 'insurgents', 'who', 'are', 'active', 'in', 'Pakistani', 'Balochistan', '.']\n",
      "['PROPN', 'VERB', 'PROPN', 'PROPN', 'SCONJ', 'VERB', 'PRON', 'NOUN', 'ADP', 'PROPN', 'CONJ', 'PROPN', 'PART', 'VERB', 'ADJ', 'NOUN', 'PRON', 'VERB', 'ADJ', 'ADP', 'ADJ', 'PROPN', 'PUNCT']\n",
      "['Pakistani', 'officials', 'claim', 'there', 'are', 'as', 'many', 'as', '42', 'RAW', 'agents', 'based', 'in', 'Kandahar', 'and', 'another', '12', 'in', 'Jalalabad', '.']\n",
      "['ADJ', 'NOUN', 'VERB', 'PRON', 'VERB', 'ADV', 'ADJ', 'ADP', 'NUM', 'PROPN', 'NOUN', 'VERB', 'ADP', 'PROPN', 'CONJ', 'DET', 'NUM', 'ADP', 'PROPN', 'PUNCT']\n",
      "['\"', 'There', 'have', 'no', 'business', 'being', 'there', 'unless', 'they', 'are', 'undermining', 'Pakistan', ',', \"''\", 'says', 'a', 'Pakistani', 'official', '.']\n",
      "['PUNCT', 'PRON', 'VERB', 'DET', 'NOUN', 'VERB', 'ADV', 'SCONJ', 'PRON', 'AUX', 'VERB', 'PROPN', 'PUNCT', 'PUNCT', 'VERB', 'DET', 'ADJ', 'NOUN', 'PUNCT']\n",
      "['Both', 'India', 'and', 'Afghanistan', 'deny', 'the', 'claim', '.']\n",
      "['CONJ', 'PROPN', 'CONJ', 'PROPN', 'VERB', 'DET', 'NOUN', 'PUNCT']\n",
      "[\"''\", 'Should', 'Pakistan', 'show', 'us', 'any', 'evidence', 'of', 'an', 'Indian', 'hand', 'using', 'Afghan', 'soil', 'to', 'work', 'against', 'our', 'neighbours', 'we', 'will', 'take', 'it', 'very', 'seriously', ',', '\"', 'says', 'Amrullah', 'Saleh', 'the', 'head', 'of', 'Afghanistan', \"'s\", 'National', 'Security', 'Directorate', '.', ']']\n",
      "['PUNCT', 'AUX', 'PROPN', 'VERB', 'PRON', 'DET', 'NOUN', 'ADP', 'DET', 'ADJ', 'NOUN', 'VERB', 'ADJ', 'NOUN', 'PART', 'VERB', 'ADP', 'PRON', 'NOUN', 'PRON', 'AUX', 'VERB', 'PRON', 'ADV', 'ADV', 'PUNCT', 'PUNCT', 'VERB', 'PROPN', 'PROPN', 'DET', 'NOUN', 'ADP', 'PROPN', 'PART', 'PROPN', 'PROPN', 'PROPN', 'PUNCT', 'PUNCT']\n",
      "['Karzai', ',', 'Musharraf', 'new', 'regional', 'equations']\n",
      "['PROPN', 'PUNCT', 'PROPN', 'ADJ', 'ADJ', 'NOUN']\n",
      "['KABUL', ':']\n",
      "['PROPN', 'PUNCT']\n",
      "['For', 'the', 'past', '25', 'years', 'landlocked', 'Afghanistan', 'has', 'suffered', 'from', 'constant', 'interference', 'from', 'its', 'neighbours', '-', 'Pakistan', ',', 'Iran', 'and', 'the', 'Central', 'Asian', 'Republics', '-', 'and', 'regional', 'powers', '-', 'Russia', 'and', 'India', '.']\n",
      "['ADP', 'DET', 'ADJ', 'NUM', 'NOUN', 'ADJ', 'PROPN', 'AUX', 'VERB', 'ADP', 'ADJ', 'NOUN', 'ADP', 'PRON', 'NOUN', 'PUNCT', 'PROPN', 'PUNCT', 'PROPN', 'CONJ', 'DET', 'ADJ', 'ADJ', 'NOUN', 'PUNCT', 'CONJ', 'ADJ', 'NOUN', 'PUNCT', 'PROPN', 'CONJ', 'PROPN', 'PUNCT']\n",
      "['The', 'neighbours', 'are', 'still', 'interfering', ',', 'but', 'there', 'are', 'signs', 'that', 'rather', 'than', 'undermining', 'Afghanistan', \"'s\", 'stability', 'they', 'may', 'now', 'be', 'trying', 'to', 'strengthen', 'it', '.']\n",
      "['DET', 'NOUN', 'AUX', 'ADV', 'VERB', 'PUNCT', 'CONJ', 'PRON', 'VERB', 'NOUN', 'SCONJ', 'ADP', 'SCONJ', 'VERB', 'PROPN', 'PART', 'NOUN', 'PRON', 'AUX', 'ADV', 'AUX', 'VERB', 'PART', 'VERB', 'PRON', 'PUNCT']\n",
      "['\"', 'The', 'elections', 'should', 'be', 'a', 'reassurance', 'to', 'all', 'our', 'neighbours', 'that', 'a', 'stable', 'Afghanistan', ',', 'a', 'peaceful', 'Afghanistan', 'is', 'good', 'for', 'all', '.']\n",
      "['PUNCT', 'DET', 'NOUN', 'AUX', 'VERB', 'DET', 'NOUN', 'ADP', 'DET', 'PRON', 'NOUN', 'SCONJ', 'DET', 'ADJ', 'PROPN', 'PUNCT', 'DET', 'ADJ', 'PROPN', 'VERB', 'ADJ', 'ADP', 'DET', 'PUNCT']\n",
      "['Nobody', 'should', 'feel', 'a', 'looser', 'in', 'Afghanistan', ',', \"''\", 'President', 'Hamid', 'Karzai', 'told', 'Pakistan', \"'s\", 'English', 'daily', 'The', 'Nation', '.']\n",
      "['PRON', 'AUX', 'VERB', 'DET', 'NOUN', 'ADP', 'PROPN', 'PUNCT', 'PUNCT', 'PROPN', 'PROPN', 'PROPN', 'VERB', 'PROPN', 'PART', 'PROPN', 'NOUN', 'DET', 'PROPN', 'PUNCT']\n",
      "['All', 'the', 'regional', 'countries', 'have', 'publicly', 'backed', 'the', 'Karzai', 'government', 'and', 'supported', 'the', 'electoral', 'process', ',', 'but', 'serious', 'undercurrents', 'remain', 'as', 'they', 'all', 'have', 'their', 'favourite', 'contenders', 'in', 'Afghanistan', '.']\n",
      "['PUNCT', 'DET', 'ADJ', 'NOUN', 'AUX', 'ADV', 'VERB', 'DET', 'PROPN', 'NOUN', 'CONJ', 'VERB', 'DET', 'ADJ', 'NOUN', 'PUNCT', 'CONJ', 'ADJ', 'NOUN', 'VERB', 'SCONJ', 'PRON', 'DET', 'VERB', 'PRON', 'ADJ', 'NOUN', 'ADP', 'PROPN', 'PUNCT']\n",
      "['Since', 'September', '11', ',', 'Pakistan', 'has', 'been', 'repeatedly', 'accused', 'by', 'Afghan', 'and', 'Western', 'leaders', 'of', 'harbouring', 'Taliban', 'extremists', 'who', 'had', 'pledged', 'to', 'disrupt', 'the', 'elections', ',', 'but', 'at', 'the', 'highest', 'level', 'the', 'US', 'has', 'avoided', 'criticising', 'President', 'Pervaiz', 'Musharraf', 'on', 'the', 'grounds', 'that', 'he', 'is', 'helping', 'the', 'US', 'catch', 'Al', 'Qaeda', 'elements', 'inside', 'Pakistan', '.']\n",
      "['ADP', 'PROPN', 'NUM', 'PUNCT', 'PROPN', 'AUX', 'AUX', 'ADV', 'VERB', 'ADP', 'ADJ', 'CONJ', 'ADJ', 'NOUN', 'SCONJ', 'VERB', 'PROPN', 'NOUN', 'PRON', 'AUX', 'VERB', 'PART', 'VERB', 'DET', 'NOUN', 'PUNCT', 'CONJ', 'ADP', 'DET', 'ADJ', 'NOUN', 'DET', 'PROPN', 'AUX', 'VERB', 'VERB', 'PROPN', 'PROPN', 'PROPN', 'ADP', 'DET', 'NOUN', 'SCONJ', 'PRON', 'AUX', 'VERB', 'DET', 'PROPN', 'VERB', 'PROPN', 'PROPN', 'NOUN', 'ADP', 'PROPN', 'PUNCT']\n",
      "['That', 'changed', 'on', 'September', '22', 'when', 'President', 'George', 'W.', 'Bush', ',', 'Musharraf', 'and', 'Karzai', 'held', 'a', 'three', 'way', 'meeting', 'in', 'New', 'York', 'on', 'the', 'sidelines', 'of', 'the', 'UN', 'General', 'Assembly', '.']\n",
      "['PRON', 'VERB', 'ADP', 'PROPN', 'NUM', 'ADV', 'PROPN', 'PROPN', 'PROPN', 'PROPN', 'PUNCT', 'PROPN', 'CONJ', 'PROPN', 'VERB', 'DET', 'NUM', 'NOUN', 'NOUN', 'ADP', 'PROPN', 'PROPN', 'ADP', 'DET', 'NOUN', 'ADP', 'DET', 'PROPN', 'PROPN', 'PROPN', 'PUNCT']\n",
      "['The', 'meeting', 'was', 'pushed', 'together', 'by', 'the', 'CIA', 'and', 'the', 'US', 'Defence', 'Department', 'who', 'were', 'desperately', 'anxious', 'to', 'secure', 'a', 'peaceful', 'election', 'in', 'Afghanistan', 'and', 'the', 'non-interference', 'of', 'alleged', 'Pakistani', 'backed', 'Taliban', '.']\n",
      "['DET', 'NOUN', 'AUX', 'VERB', 'ADV', 'ADP', 'DET', 'PROPN', 'CONJ', 'DET', 'PROPN', 'PROPN', 'PROPN', 'PRON', 'VERB', 'ADV', 'ADJ', 'PART', 'VERB', 'DET', 'ADJ', 'NOUN', 'ADP', 'PROPN', 'CONJ', 'DET', 'NOUN', 'ADP', 'ADJ', 'ADJ', 'VERB', 'PROPN', 'PUNCT']\n",
      "['Western', 'and', 'Afghan', 'diplomats', 'intimately', 'involved', 'with', 'the', 'meeting', ',', 'said', 'Bush', 'pushed', 'Musharraf', 'hard', 'on', 'reigning', 'in', 'the', 'Taliban', 'so', 'the', 'elections', 'could', 'take', 'place', 'peacefully', '.']\n",
      "['ADJ', 'CONJ', 'ADJ', 'NOUN', 'ADV', 'ADJ', 'ADP', 'DET', 'NOUN', 'PUNCT', 'VERB', 'PROPN', 'VERB', 'PROPN', 'ADV', 'SCONJ', 'VERB', 'ADP', 'DET', 'PROPN', 'SCONJ', 'DET', 'NOUN', 'AUX', 'VERB', 'NOUN', 'ADV', 'PUNCT']\n",
      "[\"''\", 'Where', 'are', 'Mullah', 'Omar', ',', 'Mullah', 'Usmani', 'and', 'Gulbuddin', 'Hikmetar', '?', \"''\"]\n",
      "['PUNCT', 'ADV', 'VERB', 'PROPN', 'PROPN', 'PUNCT', 'PROPN', 'PROPN', 'CONJ', 'PROPN', 'PROPN', 'PUNCT', 'PUNCT']\n",
      "['Bush', 'is', 'reported', 'to', 'have', 'asked', 'a', 'flustered', 'Musharraf', '.']\n",
      "['PROPN', 'AUX', 'VERB', 'PART', 'AUX', 'VERB', 'DET', 'ADJ', 'PROPN', 'PUNCT']\n",
      "['All', 'three', 'are', 'extremist', 'Taliban', 'or', 'their', 'allies', 'and', 'known', 'to', 'be', 'living', 'in', 'Pakistan', '.']\n",
      "['DET', 'NUM', 'VERB', 'NOUN', 'PROPN', 'CONJ', 'PRON', 'NOUN', 'CONJ', 'VERB', 'PART', 'AUX', 'VERB', 'ADP', 'PROPN', 'PUNCT']\n",
      "['(', 'Mullah', 'Omar', 'is', 'leader', 'of', 'the', 'Taliban', ',', 'Usmani', 'is', 'the', 'former', 'corps', 'commander', 'of', 'Kandahar', 'under', 'the', 'Taliban', 'regime', 'and', 'now', 'a', 'commander', 'of', 'Taliban', 'forces', 'while', 'Hikmetyar', 'heads', 'the', 'extremist', 'Hizb', '-', 'e', '-', 'Islami', '.', ')']\n",
      "['PUNCT', 'PROPN', 'PROPN', 'VERB', 'NOUN', 'ADP', 'DET', 'PROPN', 'PUNCT', 'PROPN', 'VERB', 'DET', 'ADJ', 'NOUN', 'NOUN', 'ADP', 'PROPN', 'ADP', 'DET', 'PROPN', 'NOUN', 'CONJ', 'ADV', 'DET', 'NOUN', 'ADP', 'PROPN', 'NOUN', 'SCONJ', 'PROPN', 'VERB', 'DET', 'NOUN', 'PROPN', 'PUNCT', 'PROPN', 'PUNCT', 'PROPN', 'PUNCT', 'PUNCT']\n",
      "[\"''\", 'It', 'was', 'the', 'first', 'time', 'that', 'Bush', 'totally', 'focused', 'on', 'the', 'Taliban', 'threat', 'rather', 'than', 'Al', 'Qaeda', 'with', 'the', 'Pakistanis', ',', \"''\", 'says', 'a', 'Western', 'diplomat', '.']\n",
      "['PUNCT', 'PRON', 'VERB', 'DET', 'ADJ', 'NOUN', 'ADV', 'PROPN', 'ADV', 'VERB', 'ADP', 'DET', 'PROPN', 'NOUN', 'ADP', 'ADP', 'PROPN', 'PROPN', 'ADP', 'DET', 'PROPN', 'PUNCT', 'PUNCT', 'VERB', 'DET', 'ADJ', 'NOUN', 'PUNCT']\n",
      "[\"''\", 'Bush', 'was', 'very', 'well', 'briefed', 'before', 'the', 'meeting', ',', \"''\", 'the', 'diplomat', 'said', '.']\n",
      "['PUNCT', 'PROPN', 'AUX', 'ADV', 'ADV', 'VERB', 'ADP', 'DET', 'NOUN', 'PUNCT', 'PUNCT', 'DET', 'NOUN', 'VERB', 'PUNCT']\n",
      "['An', 'Afghan', 'official', 'at', 'the', 'meeting', 'added', ',', \"''\", 'The', 'Americans', 'now', 'realise', 'that', 'the', 'Taliban', 'are', 'a', 'bigger', 'threat', 'to', 'our', 'security', 'than', 'Al', 'Qaeda', '.', \"''\"]\n",
      "['DET', 'ADJ', 'NOUN', 'ADP', 'DET', 'NOUN', 'VERB', 'PUNCT', 'PUNCT', 'DET', 'PROPN', 'ADV', 'VERB', 'SCONJ', 'DET', 'PROPN', 'VERB', 'DET', 'ADJ', 'NOUN', 'ADP', 'PRON', 'NOUN', 'ADP', 'PROPN', 'PROPN', 'PUNCT', 'PUNCT']\n",
      "['Karzai', 'was', 'clearly', 'pleased', 'at', 'the', 'results', '.']\n",
      "['PROPN', 'VERB', 'ADV', 'ADJ', 'ADP', 'DET', 'NOUN', 'PUNCT']\n",
      "[\"''\", 'President', 'Musharraf', 'promised', 'to', 'help', 'us', 'and', 'cooperate', 'with', 'us', 'on', 'curbing', 'terrorist', 'activity', 'by', 'the', 'Taliban', ',', \"''\", 'says', 'Karzai', '.']\n",
      "['PUNCT', 'PROPN', 'PROPN', 'VERB', 'PART', 'VERB', 'PRON', 'CONJ', 'VERB', 'ADP', 'PRON', 'SCONJ', 'VERB', 'ADJ', 'NOUN', 'ADP', 'DET', 'PROPN', 'PUNCT', 'PUNCT', 'VERB', 'PROPN', 'PUNCT']\n",
      "['The', 'next', 'day', 'an', 'angry', 'Musharraf', 'categorically', 'said', 'that', 'Pakistan', 'would', 'not', 'send', 'Pakistani', 'troops', 'to', 'Iraq', ',', 'a', 'clear', 'snub', 'to', 'the', 'Americans', '.']\n",
      "['DET', 'ADJ', 'NOUN', 'DET', 'ADJ', 'PROPN', 'ADV', 'VERB', 'SCONJ', 'PROPN', 'AUX', 'PART', 'VERB', 'ADJ', 'NOUN', 'ADP', 'PROPN', 'PUNCT', 'DET', 'ADJ', 'NOUN', 'ADP', 'DET', 'PROPN', 'PUNCT']\n",
      "['Until', 'then', 'he', 'had', 'said', 'Pakistan', \"'s\", 'options', 'were', 'open', '.']\n",
      "['ADP', 'ADV', 'PRON', 'AUX', 'VERB', 'PROPN', 'PART', 'NOUN', 'VERB', 'ADJ', 'PUNCT']\n",
      "['However', 'Pakistani', 'officials', 'insist', 'that', 'the', 'decision', 'was', 'unconnected', 'to', 'the', 'tripartite', 'meeting', '.']\n",
      "['ADV', 'ADJ', 'NOUN', 'VERB', 'SCONJ', 'DET', 'NOUN', 'VERB', 'ADJ', 'ADP', 'DET', 'ADJ', 'NOUN', 'PUNCT']\n",
      "['US', 'and', 'NATO', 'military', 'officers', 'in', 'Kabul', 'say', 'it', 'is', 'too', 'early', 'to', 'say', 'whether', 'Bush', \"'s\", 'tough', 'message', 'was', 'instrumental', 'in', 'persuading', 'Musharraf', 'and', 'the', 'ISI', 'to', 'pressure', 'the', 'Taliban', 'to', 'restrain', 'from', 'disrupting', 'the', 'elections', '.']\n",
      "['PROPN', 'CONJ', 'PROPN', 'ADJ', 'NOUN', 'ADP', 'PROPN', 'VERB', 'PRON', 'VERB', 'ADV', 'ADJ', 'PART', 'VERB', 'SCONJ', 'PROPN', 'PART', 'ADJ', 'NOUN', 'VERB', 'ADJ', 'SCONJ', 'VERB', 'PROPN', 'CONJ', 'DET', 'PROPN', 'PART', 'VERB', 'DET', 'PROPN', 'PART', 'VERB', 'SCONJ', 'VERB', 'DET', 'NOUN', 'PUNCT']\n",
      "['However', 'there', 'were', 'visible', 'signs', 'of', 'a', 'crackdown', 'on', 'the', 'Pakistan', 'side', '.']\n",
      "['ADV', 'PRON', 'VERB', 'ADJ', 'NOUN', 'ADP', 'DET', 'NOUN', 'ADP', 'DET', 'PROPN', 'NOUN', 'PUNCT']\n",
      "[\"''\", 'Pakistan', 'now', 'has', 'a', 'large', 'force', 'deployed', 'in', 'Baluchistan', 'which', 'was', 'not', 'there', 'before', ',', \"''\", 'says', 'Lt.', 'General', 'David', 'Barno', '.']\n",
      "['PUNCT', 'PROPN', 'ADV', 'VERB', 'DET', 'ADJ', 'NOUN', 'VERB', 'ADP', 'PROPN', 'PRON', 'VERB', 'PART', 'ADV', 'ADV', 'PUNCT', 'PUNCT', 'VERB', 'PROPN', 'PROPN', 'PROPN', 'PROPN', 'PUNCT']\n",
      "[\"''\", 'There', 'is', 'much', 'better', 'tactical', 'cooperation', 'between', 'our', 'forces', 'on', 'both', 'sides', 'of', 'the', 'border', ',', 'but', 'the', 'movement', 'of', 'Taliban', 'still', 'goes', 'on', 'both', 'ways', ',', \"''\", 'he', 'adds', '.']\n",
      "['PUNCT', 'PRON', 'VERB', 'ADV', 'ADJ', 'ADJ', 'NOUN', 'ADP', 'PRON', 'NOUN', 'ADP', 'DET', 'NOUN', 'ADP', 'DET', 'NOUN', 'PUNCT', 'CONJ', 'DET', 'NOUN', 'ADP', 'PROPN', 'ADV', 'VERB', 'ADP', 'DET', 'NOUN', 'PUNCT', 'PUNCT', 'PRON', 'VERB', 'PUNCT']\n",
      "['Also', 'several', 'days', 'before', 'the', 'elections', 'Pakistan', 'closed', 'the', 'border', 'crossing', 'point', 'at', 'Chaman', 'in', 'Baluchistan', 'which', 'is', 'a', 'key', 'entry', 'point', 'for', 'the', 'Taliban', 'into', 'Afghanistan', '.']\n",
      "['ADV', 'ADJ', 'NOUN', 'ADP', 'DET', 'NOUN', 'PROPN', 'VERB', 'DET', 'NOUN', 'NOUN', 'NOUN', 'ADP', 'PROPN', 'ADP', 'PROPN', 'PRON', 'VERB', 'DET', 'ADJ', 'NOUN', 'NOUN', 'ADP', 'DET', 'PROPN', 'ADP', 'PROPN', 'PUNCT']\n",
      "['However', 'US', 'military', 'officers', 'say', 'regular', 'army', 'officers', '-', 'many', 'of', 'them', 'Pashtun', '-', 'leading', 'units', 'of', 'the', 'Frontier', 'Corps', 'who', 'are', 'on', 'the', 'border', 'remain', 'deeply', 'sympathetic', 'to', 'the', 'Taliban', 'and', 'the', 'mullahs', 'of', 'the', 'JUI', '.']\n",
      "['ADV', 'PROPN', 'ADJ', 'NOUN', 'VERB', 'ADJ', 'NOUN', 'NOUN', 'PUNCT', 'ADJ', 'ADP', 'PRON', 'ADJ', 'PUNCT', 'VERB', 'NOUN', 'ADP', 'DET', 'PROPN', 'PROPN', 'PRON', 'VERB', 'ADP', 'DET', 'NOUN', 'VERB', 'ADV', 'ADJ', 'ADP', 'DET', 'PROPN', 'CONJ', 'DET', 'NOUN', 'ADP', 'DET', 'PROPN', 'PUNCT']\n",
      "['At', 'the', 'same', 'time', 'the', 'US', 'remains', 'oblivious', 'of', 'the', 'serious', 'problems', 'and', 'political', 'fallout', 'which', 'the', 'army', 'is', 'facing', 'in', 'its', 'operations', 'in', 'Waziristan', '.']\n",
      "['ADP', 'DET', 'ADJ', 'NOUN', 'DET', 'PROPN', 'VERB', 'ADJ', 'ADP', 'DET', 'ADJ', 'NOUN', 'CONJ', 'ADJ', 'NOUN', 'PRON', 'DET', 'NOUN', 'AUX', 'VERB', 'ADP', 'PRON', 'NOUN', 'ADP', 'PROPN', 'PUNCT']\n",
      "['Not', 'only', 'is', 'the', 'army', 'facing', 'serious', 'political', 'fallout', ',', 'growing', 'anti-Americanism', 'and', 'anti-army', 'feeling', 'in', 'the', 'tribal', 'areas', 'but', 'it', 'is', 'also', 'taking', 'heavy', 'casualties', '-', 'between', '400', '-', '500', 'Pakistani', 'soldiers', 'have', 'been', 'killed', 'in', 'the', 'region', 'since', 'March', '.']\n",
      "['ADV', 'ADV', 'AUX', 'DET', 'NOUN', 'VERB', 'ADJ', 'ADJ', 'NOUN', 'PUNCT', 'VERB', 'NOUN', 'CONJ', 'ADJ', 'NOUN', 'ADP', 'DET', 'ADJ', 'NOUN', 'CONJ', 'PRON', 'AUX', 'ADV', 'VERB', 'ADJ', 'NOUN', 'PUNCT', 'ADP', 'NUM', 'SYM', 'NUM', 'ADJ', 'NOUN', 'AUX', 'AUX', 'VERB', 'ADP', 'DET', 'NOUN', 'ADP', 'PROPN', 'PUNCT']\n",
      "['Musharraf', 'has', 'always', 'maintained', 'that', 'the', 'US', 'has', 'never', 'provided', 'actionable', 'intelligence', 'about', 'Taliban', 'leaders', 'hiding', 'in', 'Baluchistan', '.']\n",
      "['PROPN', 'AUX', 'ADV', 'VERB', 'SCONJ', 'DET', 'PROPN', 'AUX', 'ADV', 'VERB', 'ADJ', 'NOUN', 'ADP', 'PROPN', 'NOUN', 'VERB', 'ADP', 'PROPN', 'PUNCT']\n",
      "['That', 'too', 'may', 'change', '.']\n",
      "['PRON', 'ADV', 'AUX', 'VERB', 'PUNCT']\n",
      "['US', 'and', 'Afghan', 'intelligence', 'will', 'shortly', 'be', 'presenting', 'the', 'ISI', 'with', 'a', 'list', 'of', 'Taliban', 'extremists', 'and', 'their', 'suspected', 'whereabouts', '.']\n",
      "['PROPN', 'CONJ', 'ADJ', 'NOUN', 'AUX', 'ADV', 'AUX', 'VERB', 'DET', 'PROPN', 'ADP', 'DET', 'NOUN', 'ADP', 'PROPN', 'NOUN', 'CONJ', 'PRON', 'VERB', 'NOUN', 'PUNCT']\n",
      "['Moreover', 'there', 'are', 'now', 'major', 'covert', 'attempts', 'under', 'way', 'to', 'try', 'and', 'bring', 'back', 'to', 'Kabul', 'leading', 'Taliban', 'commanders', ',', 'who', 'have', 'been', 'living', 'quietly', 'in', 'Pakistan', 'and', 'have', 'taken', 'no', 'part', 'in', 'the', 'Taliban', 'insurgency', '.']\n",
      "['ADV', 'PRON', 'VERB', 'ADV', 'ADJ', 'ADJ', 'NOUN', 'ADP', 'NOUN', 'PART', 'VERB', 'CONJ', 'VERB', 'ADV', 'ADP', 'PROPN', 'VERB', 'PROPN', 'NOUN', 'PUNCT', 'PRON', 'AUX', 'AUX', 'VERB', 'ADV', 'ADP', 'PROPN', 'CONJ', 'AUX', 'VERB', 'DET', 'NOUN', 'ADP', 'DET', 'PROPN', 'NOUN', 'PUNCT']\n",
      "['With', 'the', 'Taliban', 'failure', 'to', 'disrupt', 'the', 'Afghan', 'elections', ',', 'the', 'militants', 'are', 'even', 'more', 'isolated', 'from', 'the', 'mainstream', 'Taliban', 'who', 'want', 'to', 'return', 'home', '.']\n",
      "['ADP', 'DET', 'PROPN', 'NOUN', 'PART', 'VERB', 'DET', 'ADJ', 'NOUN', 'PUNCT', 'DET', 'NOUN', 'VERB', 'ADV', 'ADV', 'ADJ', 'ADP', 'DET', 'ADJ', 'PROPN', 'PRON', 'VERB', 'PART', 'VERB', 'ADV', 'PUNCT']\n",
      "['Until', 'now', 'Pakistan', 'has', 'not', 'facilitated', 'such', 'a', 'return', 'and', 'clearly', 'it', 'can', 'not', 'happen', 'until', 'there', 'is', 'both', 'a', 'pull', 'from', 'Kabul', 'and', 'a', 'push', 'from', 'Islamabad', '.']\n",
      "['ADP', 'ADV', 'PROPN', 'AUX', 'PART', 'VERB', 'DET', 'DET', 'NOUN', 'CONJ', 'ADV', 'PRON', 'AUX', 'PART', 'VERB', 'SCONJ', 'PRON', 'VERB', 'CONJ', 'DET', 'NOUN', 'ADP', 'PROPN', 'CONJ', 'DET', 'NOUN', 'ADP', 'PROPN', 'PUNCT']\n",
      "['With', 'President', 'Karzai', 'certain', 'to', 'win', 'the', 'elections', 'and', 'the', 'demotion', 'of', 'key', 'former', 'Northern', 'Alliance', 'figures', 'such', 'as', 'General', 'Fahim', 'and', 'warlord', 'Ismail', 'Khan', ',', 'there', 'is', 'now', 'little', 'reason', 'for', 'moderate', 'Taliban', 'leaders', 'to', 'fear', 'reprisals', 'from', 'former', 'Northern', 'Alliance', 'figures', 'if', 'they', 'return', 'home', '.']\n",
      "['ADP', 'PROPN', 'PROPN', 'ADJ', 'PART', 'VERB', 'DET', 'NOUN', 'CONJ', 'DET', 'NOUN', 'ADP', 'ADJ', 'ADJ', 'PROPN', 'PROPN', 'NOUN', 'ADJ', 'ADP', 'PROPN', 'PROPN', 'CONJ', 'NOUN', 'PROPN', 'PROPN', 'PUNCT', 'PRON', 'VERB', 'ADV', 'ADJ', 'NOUN', 'SCONJ', 'ADJ', 'PROPN', 'NOUN', 'PART', 'VERB', 'NOUN', 'ADP', 'ADJ', 'PROPN', 'PROPN', 'NOUN', 'SCONJ', 'PRON', 'VERB', 'ADV', 'PUNCT']\n",
      "['Their', 'removal', 'should', 'also', 'provide', 'increased', 'motivation', 'for', 'Pakistan', 'to', 'help', 'the', 'return', 'of', 'moderate', 'Taliban', '.']\n",
      "['PRON', 'NOUN', 'AUX', 'ADV', 'VERB', 'VERB', 'NOUN', 'SCONJ', 'PROPN', 'PART', 'VERB', 'DET', 'NOUN', 'ADP', 'ADJ', 'PROPN', 'PUNCT']\n",
      "['Afghan', 'officials', 'welcomed', 'the', 'appointment', 'on', 'October', '3', 'of', 'Lt.', 'General', 'Ashfaq', 'Kiyani', 'as', 'the', 'new', 'ISI', 'chief', '.']\n",
      "['ADJ', 'NOUN', 'VERB', 'DET', 'NOUN', 'ADP', 'PROPN', 'NUM', 'ADP', 'PROPN', 'PROPN', 'PROPN', 'PROPN', 'ADP', 'DET', 'ADJ', 'PROPN', 'NOUN', 'PUNCT']\n",
      "['Kayani', 'is', 'well', 'known', 'and', 'liked', 'in', 'Kabul', 'as', 'during', 'the', 'last', 'year', 'he', 'led', 'the', 'Pakistani', 'delegation', 'in', 'the', 'tripartite', 'military', 'meetings', 'with', 'the', 'Afghan', 'and', 'US', 'military', 'on', 'issues', 'related', 'to', 'border', 'issues', '.']\n",
      "['PROPN', 'AUX', 'ADV', 'VERB', 'CONJ', 'VERB', 'ADP', 'PROPN', 'SCONJ', 'ADP', 'DET', 'ADJ', 'NOUN', 'PRON', 'VERB', 'DET', 'ADJ', 'NOUN', 'ADP', 'DET', 'ADJ', 'ADJ', 'NOUN', 'ADP', 'DET', 'ADJ', 'CONJ', 'PROPN', 'NOUN', 'ADP', 'NOUN', 'ADJ', 'ADP', 'NOUN', 'NOUN', 'PUNCT']\n",
      "['Karzai', 'also', 'has', 'to', 'deal', 'with', 'the', 'stepped', 'up', 'rivalry', 'between', 'India', 'and', 'Pakistan', 'in', 'Afghanistan', '.']\n",
      "['PROPN', 'ADV', 'VERB', 'PART', 'VERB', 'ADP', 'DET', 'VERB', 'ADP', 'NOUN', 'ADP', 'PROPN', 'CONJ', 'PROPN', 'ADP', 'PROPN', 'PUNCT']\n",
      "['Islamabad', 'accuses', 'New', 'Delhi', 'of', 'using', 'its', 'consulates', 'in', 'Kandahar', 'and', 'Jalalabad', 'to', 'train', 'Balochi', 'insurgents', 'who', 'are', 'active', 'in', 'Pakistani', 'Balochistan', '.']\n",
      "['PROPN', 'VERB', 'PROPN', 'PROPN', 'SCONJ', 'VERB', 'PRON', 'NOUN', 'ADP', 'PROPN', 'CONJ', 'PROPN', 'PART', 'VERB', 'ADJ', 'NOUN', 'PRON', 'VERB', 'ADJ', 'ADP', 'ADJ', 'PROPN', 'PUNCT']\n",
      "['Pakistani', 'officials', 'claim', 'there', 'are', 'as', 'many', 'as', '42', 'RAW', 'agents', 'based', 'in', 'Kandahar', 'and', 'another', '12', 'in', 'Jalalabad', '.']\n",
      "['ADJ', 'NOUN', 'VERB', 'PRON', 'VERB', 'ADV', 'ADJ', 'ADP', 'NUM', 'PROPN', 'NOUN', 'VERB', 'ADP', 'PROPN', 'CONJ', 'DET', 'NUM', 'ADP', 'PROPN', 'PUNCT']\n",
      "['\"', 'There', 'have', 'no', 'business', 'being', 'there', 'unless', 'they', 'are', 'undermining', 'Pakistan', ',', \"''\", 'says', 'a', 'Pakistani', 'official', '.']\n",
      "['PUNCT', 'PRON', 'VERB', 'DET', 'NOUN', 'VERB', 'ADV', 'SCONJ', 'PRON', 'AUX', 'VERB', 'PROPN', 'PUNCT', 'PUNCT', 'VERB', 'DET', 'ADJ', 'NOUN', 'PUNCT']\n",
      "['Both', 'India', 'and', 'Afghanistan', 'deny', 'the', 'claim', '.']\n",
      "['CONJ', 'PROPN', 'CONJ', 'PROPN', 'VERB', 'DET', 'NOUN', 'PUNCT']\n",
      "[\"''\", 'Should', 'Pakistan', 'show', 'us', 'any', 'evidence', 'of', 'an', 'Indian', 'hand', 'using', 'Afghan', 'soil', 'to', 'work', 'against', 'our', 'neighbours', 'we', 'will', 'take', 'it', 'very', 'seriously', ',', '\"', 'says', 'Amrullah', 'Saleh', 'the', 'head', 'of', 'Afghanistan', \"'s\", 'National', 'Security', 'Directorate', '.']\n",
      "['PUNCT', 'AUX', 'PROPN', 'VERB', 'PRON', 'DET', 'NOUN', 'ADP', 'DET', 'ADJ', 'NOUN', 'VERB', 'ADJ', 'NOUN', 'PART', 'VERB', 'ADP', 'PRON', 'NOUN', 'PRON', 'AUX', 'VERB', 'PRON', 'ADV', 'ADV', 'PUNCT', 'PUNCT', 'VERB', 'PROPN', 'PROPN', 'DET', 'NOUN', 'ADP', 'PROPN', 'PART', 'PROPN', 'PROPN', 'PROPN', 'PUNCT']\n",
      "['Karzai', 'categorically', 'said', 'that', 'he', 'has', 'assured', 'Musharraf', 'repeatedly', 'that', 'any', 'adverse', 'action', 'against', 'Pakistan', 'taken', 'by', 'Indian', 'diplomats', 'inside', 'Afghanistan', 'would', 'be', 'acted', 'upon', 'swiftly', '.']\n",
      "['PROPN', 'ADV', 'VERB', 'SCONJ', 'PRON', 'AUX', 'VERB', 'PROPN', 'ADV', 'SCONJ', 'DET', 'ADJ', 'NOUN', 'ADP', 'PROPN', 'VERB', 'ADP', 'ADJ', 'NOUN', 'ADP', 'PROPN', 'AUX', 'AUX', 'VERB', 'ADP', 'ADV', 'PUNCT']\n",
      "['Senior', 'US', 'diplomats', 'and', 'military', 'officials', 'have', 'warned', 'India', 'also', '.']\n",
      "['ADJ', 'PROPN', 'NOUN', 'CONJ', 'ADJ', 'NOUN', 'AUX', 'VERB', 'PROPN', 'ADV', 'PUNCT']\n",
      "['In', 'a', 'major', 'regional', 'shift', 'reflecting', 'the', 'newly', 'strengthened', 'position', 'of', 'Karzai', ',', 'Iran', ',', 'Russia', 'and', 'India', 'which', 'have', 'traditionally', 'backed', 'the', 'Tajik', 'dominated', 'former', 'Northern', 'Alliance', 'made', 'strenuous', 'efforts', 'to', 'convince', 'presidential', 'candidate', 'Younis', 'Qanooni', 'to', 'strike', 'a', 'deal', 'with', 'Karzai', 'before', 'the', 'elections', 'and', 'not', 'to', 'oppose', 'Karzai', '.']\n",
      "['ADP', 'DET', 'ADJ', 'ADJ', 'NOUN', 'VERB', 'DET', 'ADV', 'VERB', 'NOUN', 'ADP', 'PROPN', 'PUNCT', 'PROPN', 'PUNCT', 'PROPN', 'CONJ', 'PROPN', 'PRON', 'AUX', 'ADV', 'VERB', 'DET', 'PROPN', 'VERB', 'ADJ', 'PROPN', 'PROPN', 'VERB', 'ADJ', 'NOUN', 'PART', 'VERB', 'ADJ', 'NOUN', 'PROPN', 'PROPN', 'PART', 'VERB', 'DET', 'NOUN', 'ADP', 'PROPN', 'ADP', 'DET', 'NOUN', 'CONJ', 'PART', 'PART', 'VERB', 'PROPN', 'PUNCT']\n",
      "['Iran', 'in', 'particular', 'feared', 'that', 'Qanooni', 'would', 'loose', 'and', 'then', 'be', 'politically', 'isolated', 'from', 'the', 'mainstream', '.']\n",
      "['PROPN', 'ADP', 'ADJ', 'VERB', 'SCONJ', 'PROPN', 'AUX', 'VERB', 'CONJ', 'ADV', 'AUX', 'ADV', 'VERB', 'ADP', 'DET', 'NOUN', 'PUNCT']\n",
      "['Qanooni', 'refused', 'to', 'accept', 'the', 'Iranian', 'advice', 'as', 'his', 'fellow', 'Panjsheri', 'Tajiks', 'urged', 'him', 'to', 'stand', 'against', 'Karzai', '.']\n",
      "['PROPN', 'VERB', 'PART', 'VERB', 'DET', 'ADJ', 'NOUN', 'SCONJ', 'PRON', 'ADJ', 'ADJ', 'PROPN', 'VERB', 'PRON', 'PART', 'VERB', 'ADP', 'PROPN', 'PUNCT']\n",
      "['However', 'since', 'the', 'elections', 'Iranian', 'influence', 'has', 'proved', 'critical', 'in', 'convincing', 'the', 'Hazara', 'Shia', 'candidate', 'Mohammed', 'Mohaqeq', 'to', 'accept', 'the', 'results', 'of', 'the', 'elections', 'and', 'later', 'convincing', 'Qanooni', 'to', 'do', 'the', 'same', '.']\n",
      "['ADV', 'ADP', 'DET', 'NOUN', 'ADJ', 'NOUN', 'AUX', 'VERB', 'ADJ', 'SCONJ', 'VERB', 'DET', 'PROPN', 'PROPN', 'NOUN', 'PROPN', 'PROPN', 'PART', 'VERB', 'DET', 'NOUN', 'ADP', 'DET', 'NOUN', 'CONJ', 'ADV', 'VERB', 'PROPN', 'PART', 'VERB', 'DET', 'ADJ', 'PUNCT']\n",
      "['With', 'the', 'US', 'military', 'presence', 'posing', 'a', 'threat', 'on', 'their', 'borders', 'in', 'both', 'Iraq', 'and', 'Afghanistan', ',', 'Iran', \"'s\", 'moderate', 'leadership', 'is', 'keen', 'to', 'help', 'stabilise', 'Karzai', 'so', 'that', 'the', 'US', 'presence', 'in', 'Afghanistan', 'is', 'reduced', '.']\n",
      "['SCONJ', 'DET', 'PROPN', 'ADJ', 'NOUN', 'VERB', 'DET', 'NOUN', 'ADP', 'PRON', 'NOUN', 'ADP', 'CONJ', 'PROPN', 'CONJ', 'PROPN', 'PUNCT', 'PROPN', 'PART', 'ADJ', 'NOUN', 'VERB', 'ADJ', 'PART', 'VERB', 'VERB', 'PROPN', 'SCONJ', 'SCONJ', 'DET', 'PROPN', 'NOUN', 'ADP', 'PROPN', 'AUX', 'VERB', 'PUNCT']\n",
      "['However', 'powerful', 'hardliners', 'in', 'Tehran', 'may', 'be', 'trying', 'to', 'undermine', 'that', 'strategy', 'and', 'a', 'new', 'issue', 'is', 'likely', 'to', 'deepen', 'the', 'rift', 'with', 'the', 'moderates', '.']\n",
      "['ADV', 'ADJ', 'NOUN', 'ADP', 'PROPN', 'AUX', 'AUX', 'VERB', 'PART', 'VERB', 'DET', 'NOUN', 'CONJ', 'DET', 'ADJ', 'NOUN', 'VERB', 'ADJ', 'PART', 'VERB', 'DET', 'NOUN', 'ADP', 'DET', 'NOUN', 'PUNCT']\n",
      "['Iranian', 'officials', 'are', 'deeply', 'concerned', 'about', 'the', 'US', 'occupation', 'of', 'Shindand', ',', 'a', 'massive', 'Soviet', '-', 'era', 'airbase', 'just', '30', 'kilometres', 'from', 'Iran', \"'s\", 'border', '.']\n",
      "['ADJ', 'NOUN', 'VERB', 'ADV', 'ADJ', 'ADP', 'DET', 'PROPN', 'NOUN', 'ADP', 'PROPN', 'PUNCT', 'DET', 'ADJ', 'PROPN', 'PUNCT', 'NOUN', 'NOUN', 'ADV', 'NUM', 'NOUN', 'ADP', 'PROPN', 'PART', 'NOUN', 'PUNCT']\n",
      "['The', 'enhanced', 'US', 'presence', 'in', 'western', 'Afghanistan', 'was', 'only', 'made', 'possible', 'after', 'the', 'ousting', 'of', 'Ismail', 'Khan', ',', 'the', 'warlord', 'and', 'Governor', 'of', 'Herat', 'province', 'last', 'month', ',', 'who', 'was', 'a', 'close', 'ally', 'of', 'Iranian', 'hardliners', '.']\n",
      "['DET', 'VERB', 'PROPN', 'NOUN', 'ADP', 'ADJ', 'PROPN', 'AUX', 'ADV', 'VERB', 'ADJ', 'ADP', 'DET', 'NOUN', 'ADP', 'PROPN', 'PROPN', 'PUNCT', 'DET', 'NOUN', 'CONJ', 'PROPN', 'ADP', 'PROPN', 'NOUN', 'ADJ', 'NOUN', 'PUNCT', 'PRON', 'VERB', 'DET', 'ADJ', 'NOUN', 'ADP', 'ADJ', 'NOUN', 'PUNCT']\n",
      "['Iranian', 'officials', 'say', 'they', 'made', 'no', 'objections', 'to', 'Khan', \"'s\", 'ouster', 'because', 'they', 'want', 'to', 'strengthen', 'Karzai', \"'s\", 'campaign', 'against', 'warlords', '.']\n",
      "['ADJ', 'NOUN', 'VERB', 'PRON', 'VERB', 'DET', 'NOUN', 'ADP', 'PROPN', 'PART', 'NOUN', 'SCONJ', 'PRON', 'VERB', 'PART', 'VERB', 'PROPN', 'PART', 'NOUN', 'ADP', 'NOUN', 'PUNCT']\n",
      "['At', 'a', 'time', 'of', 'heightened', 'tensions', 'between', 'Tehran', 'and', 'Washington', 'over', 'Iran', \"'s\", 'nuclear', 'weapons', 'program', 'and', 'calls', 'by', 'neo-conservatives', 'in', 'Washington', 'that', 'a', 'second', 'Bush', 'term', 'should', 'deal', 'with', 'Iran', 'aggressively', ',', 'the', 'Iranians', 'fear', 'that', 'Shindand', 'could', 'be', 'used', 'as', 'a', 'listening', 'post', ',', 'spying', 'facility', 'and', 'even', 'a', 'launching', 'pad', 'for', 'any', 'future', 'US', 'actions', 'against', 'Iran', '.']\n",
      "['ADP', 'DET', 'NOUN', 'ADP', 'VERB', 'NOUN', 'ADP', 'PROPN', 'CONJ', 'PROPN', 'ADP', 'PROPN', 'PART', 'ADJ', 'NOUN', 'NOUN', 'CONJ', 'NOUN', 'ADP', 'NOUN', 'ADP', 'PROPN', 'SCONJ', 'DET', 'ADJ', 'PROPN', 'NOUN', 'AUX', 'VERB', 'ADP', 'PROPN', 'ADV', 'PUNCT', 'DET', 'PROPN', 'VERB', 'SCONJ', 'PROPN', 'AUX', 'AUX', 'VERB', 'ADP', 'DET', 'NOUN', 'NOUN', 'PUNCT', 'NOUN', 'NOUN', 'CONJ', 'ADV', 'DET', 'NOUN', 'NOUN', 'ADP', 'DET', 'ADJ', 'PROPN', 'NOUN', 'ADP', 'PROPN', 'PUNCT']\n",
      "['Afghan', 'officials', 'say', 'the', 'Americans', 'have', 'moved', 'over', '100', 'Special', 'Forces', 'and', 'helicopters', 'to', 'Shindand', '.']\n",
      "['ADJ', 'NOUN', 'VERB', 'DET', 'PROPN', 'AUX', 'VERB', 'ADV', 'NUM', 'ADJ', 'NOUN', 'CONJ', 'NOUN', 'ADP', 'PROPN', 'PUNCT']\n",
      "['However', 'General', 'Barno', 'insists', 'the', 'US', 'presence', 'poses', 'no', 'threat', 'to', 'Iran', '.']\n",
      "['ADV', 'PROPN', 'PROPN', 'VERB', 'DET', 'PROPN', 'NOUN', 'VERB', 'DET', 'NOUN', 'ADP', 'PROPN', 'PUNCT']\n",
      "[\"''\", 'We', 'have', 'a', 'very', 'small', 'number', 'of', 'forces', 'in', 'Shindand', 'with', 'a', 'few', 'helicopters', ',', \"''\", 'says', 'Barno', '.']\n",
      "['PUNCT', 'PRON', 'VERB', 'DET', 'ADV', 'ADJ', 'NOUN', 'ADP', 'NOUN', 'ADP', 'PROPN', 'ADP', 'DET', 'ADJ', 'NOUN', 'PUNCT', 'PUNCT', 'VERB', 'PROPN', 'PUNCT']\n",
      "['Nevertheless', 'this', 'places', 'Karzai', 'in', 'a', 'difficult', 'and', 'sensitive', 'situation', 'because', 'he', 'has', 'to', 'maintain', 'excellent', 'relations', 'with', 'both', 'the', 'US', 'and', 'Iran', '.']\n",
      "['ADV', 'PRON', 'VERB', 'PROPN', 'ADP', 'DET', 'ADJ', 'CONJ', 'ADJ', 'NOUN', 'SCONJ', 'PRON', 'VERB', 'PART', 'VERB', 'ADJ', 'NOUN', 'ADP', 'CONJ', 'DET', 'PROPN', 'CONJ', 'PROPN', 'PUNCT']\n",
      "[\"''\", 'Afghanistan', 'has', 'had', 'the', 'benefit', 'of', 'cooperation', 'from', 'both', 'the', 'US', 'and', 'Iran', '.']\n",
      "['PUNCT', 'PROPN', 'AUX', 'VERB', 'DET', 'NOUN', 'ADP', 'NOUN', 'ADP', 'CONJ', 'DET', 'PROPN', 'CONJ', 'PROPN', 'PUNCT']\n",
      "['So', 'far', 'what', 'they', 'have', 'done', 'together', 'has', 'been', 'good', 'for', 'us', 'and', 'that', \"'s\", 'how', 'we', 'would', 'like', 'to', 'keep', 'it', \"''\", ',', 'says', 'Karzai', '.']\n",
      "['ADV', 'ADV', 'PRON', 'PRON', 'AUX', 'VERB', 'ADV', 'AUX', 'VERB', 'ADJ', 'ADP', 'PRON', 'CONJ', 'PRON', 'VERB', 'ADV', 'PRON', 'AUX', 'VERB', 'PART', 'VERB', 'PRON', 'PUNCT', 'PUNCT', 'VERB', 'PROPN', 'PUNCT']\n",
      "['Nobody', 'can', 'claim', 'that', 'the', 'interference', 'of', 'Afghanistan', \"'s\", 'neighbours', 'is', 'over', ',', 'but', 'the', 'elections', 'will', 'do', 'much', 'to', 'strengthen', 'Karzai', 'and', 'deal', 'more', 'firmly', 'with', 'neighbours', \"'\", 'interference', '.']\n",
      "['PRON', 'AUX', 'VERB', 'SCONJ', 'DET', 'NOUN', 'ADP', 'PROPN', 'PART', 'NOUN', 'VERB', 'ADV', 'PUNCT', 'CONJ', 'DET', 'NOUN', 'AUX', 'VERB', 'ADJ', 'PART', 'VERB', 'PROPN', 'CONJ', 'VERB', 'ADV', 'ADV', 'ADP', 'NOUN', 'PART', 'NOUN', 'PUNCT']\n",
      "['In', 'the', 'post', 'election', 'scenario', 'it', 'is', 'becoming', 'abundantly', 'clear', 'that', 'the', 'Taliban', 'do', 'not', 'have', 'the', 'support', 'of', 'the', 'Afghan', 'people', 'nor', 'the', 'Afghan', 'Pashtuns', '.']\n",
      "['ADP', 'DET', 'X', 'ADJ', 'NOUN', 'PRON', 'AUX', 'VERB', 'ADV', 'ADJ', 'SCONJ', 'DET', 'PROPN', 'AUX', 'PART', 'VERB', 'DET', 'NOUN', 'ADP', 'DET', 'ADJ', 'NOUN', 'CONJ', 'DET', 'ADJ', 'PROPN', 'PUNCT']\n",
      "['In', 'a', 'highly', 'significant', 'move', 'Afghan', 'Pashtun', 'tribes', 'along', 'the', 'Pakistan', 'border', 'warned', 'the', 'Taliban', 'in', 'Quetta', 'and', 'Chaman', 'that', 'if', 'they', 'try', 'and', 'disrupt', 'the', 'elections', ',', 'they', 'would', 'be', 'resisted', '.']\n",
      "['ADP', 'DET', 'ADV', 'ADJ', 'NOUN', 'ADJ', 'ADJ', 'NOUN', 'ADP', 'DET', 'PROPN', 'NOUN', 'VERB', 'DET', 'PROPN', 'ADP', 'PROPN', 'CONJ', 'PROPN', 'SCONJ', 'SCONJ', 'PRON', 'VERB', 'CONJ', 'VERB', 'DET', 'NOUN', 'PUNCT', 'PRON', 'AUX', 'AUX', 'VERB', 'PUNCT']\n",
      "['Many', 'Taliban', 'living', 'in', 'Afghanistan', 'voted', 'for', 'President', 'Karzai', '.']\n",
      "['ADJ', 'PROPN', 'VERB', 'ADP', 'PROPN', 'VERB', 'ADP', 'PROPN', 'PROPN', 'PUNCT']\n",
      "['It', 'is', 'now', 'abundantly', 'clear', 'that', 'with', 'the', 'rapidly', 'changing', 'face', 'of', 'Afghanistan', ',', 'the', 'demise', 'of', 'key', 'Northern', 'Alliance', 'figures', 'and', 'the', 'fluid', 'political', 'situation', 'in', 'Afghanistan', ',', 'Pakistan', 'should', 'reconsider', 'its', 'policy', 'of', 'giving', 'unlimited', 'sanctuary', 'to', 'Taliban', 'extremists', 'living', 'on', 'Pakistani', 'soil', '.']\n",
      "['PRON', 'VERB', 'ADV', 'ADV', 'ADJ', 'SCONJ', 'ADP', 'DET', 'ADV', 'VERB', 'NOUN', 'ADP', 'PROPN', 'PUNCT', 'DET', 'NOUN', 'ADP', 'ADJ', 'PROPN', 'PROPN', 'NOUN', 'CONJ', 'DET', 'ADJ', 'ADJ', 'NOUN', 'ADP', 'PROPN', 'PUNCT', 'PROPN', 'AUX', 'VERB', 'PRON', 'NOUN', 'SCONJ', 'VERB', 'ADJ', 'NOUN', 'ADP', 'PROPN', 'NOUN', 'VERB', 'ADP', 'ADJ', 'NOUN', 'PUNCT']\n",
      "['Pakistan', 'Link', '16/10/2004']\n",
      "['PROPN', 'PROPN', 'NUM']\n",
      "['The', 'debate', 'that', 'a', 'handful', 'of', 'Texas', 'multi-millionnaires', 'close', 'to', 'the', 'Bush', 'family', 'have', 'cleverly', 'manufactured', 'over', 'John', 'Kerry', \"'s\", 'war', 'record', 'is', 'absurd', 'in', 'every', 'way', '.']\n",
      "['DET', 'NOUN', 'PRON', 'DET', 'NOUN', 'ADP', 'PROPN', 'NOUN', 'ADJ', 'ADP', 'DET', 'PROPN', 'NOUN', 'AUX', 'ADV', 'VERB', 'ADP', 'PROPN', 'PROPN', 'PART', 'NOUN', 'NOUN', 'VERB', 'ADJ', 'ADP', 'DET', 'NOUN', 'PUNCT']\n",
      "['The', 'charges', 'that', 'they', 'have', 'put', 'some', 'vets', 'up', 'to', 'making', 'against', 'Kerry', 'are', 'false', 'and', 'can', 'be', 'demonstrated', 'by', 'the', 'historical', 'record', 'to', 'be', 'false', '.']\n",
      "['DET', 'NOUN', 'PRON', 'PRON', 'AUX', 'VERB', 'DET', 'NOUN', 'ADP', 'SCONJ', 'VERB', 'ADP', 'PROPN', 'VERB', 'ADJ', 'CONJ', 'AUX', 'AUX', 'VERB', 'ADP', 'DET', 'ADJ', 'NOUN', 'PART', 'VERB', 'ADJ', 'PUNCT']\n",
      "['Most', 'of', 'those', 'making', 'the', 'charges', 'have', 'even', 'flip', '-', 'flopped', ',', 'contradicting', 'themselves', '.']\n",
      "['ADJ', 'ADP', 'PRON', 'VERB', 'DET', 'NOUN', 'AUX', 'ADV', 'VERB', 'PUNCT', 'VERB', 'PUNCT', 'VERB', 'PRON', 'PUNCT']\n",
      "['Or', 'they', 'were', \"n't\", 'eyewitnesses', 'and', 'are', 'just', 'lying', '.']\n",
      "['CONJ', 'PRON', 'VERB', 'PART', 'NOUN', 'CONJ', 'AUX', 'ADV', 'VERB', 'PUNCT']\n",
      "['But', 'to', 'address', 'the', 'substance', 'of', 'this', 'Big', 'Lie', 'is', 'to', 'risk', 'falling', 'into', 'its', 'logic', '.']\n",
      "['CONJ', 'PART', 'VERB', 'DET', 'NOUN', 'ADP', 'DET', 'ADJ', 'NOUN', 'VERB', 'PART', 'VERB', 'VERB', 'ADP', 'PRON', 'NOUN', 'PUNCT']\n",
      "['The', 'true', 'absurdity', 'of', 'the', 'entire', 'situation', 'is', 'easily', 'appreciated', 'when', 'we', 'consider', 'that', 'George', 'W.', 'Bush', 'never', 'showed', 'any', 'bravery', 'at', 'all', 'at', 'any', 'point', 'in', 'his', 'life', '.']\n",
      "['DET', 'ADJ', 'NOUN', 'ADP', 'DET', 'ADJ', 'NOUN', 'AUX', 'ADV', 'VERB', 'ADV', 'PRON', 'VERB', 'SCONJ', 'PROPN', 'PROPN', 'PROPN', 'ADV', 'VERB', 'DET', 'NOUN', 'ADV', 'ADV', 'ADP', 'DET', 'NOUN', 'ADP', 'PRON', 'NOUN', 'PUNCT']\n",
      "['He', 'has', 'never', 'lived', 'in', 'a', 'war', 'zone', '.']\n",
      "['PRON', 'AUX', 'ADV', 'VERB', 'ADP', 'DET', 'NOUN', 'NOUN', 'PUNCT']\n",
      "['If', 'some', 'of', 'John', 'Kerry', \"'s\", 'wounds', 'were', 'superficial', ',', 'Bush', 'received', 'no', 'wounds', '.']\n",
      "['SCONJ', 'DET', 'ADP', 'PROPN', 'PROPN', 'PART', 'NOUN', 'VERB', 'ADJ', 'PUNCT', 'PROPN', 'VERB', 'DET', 'NOUN', 'PUNCT']\n",
      "['(', 'And', ',', 'a', 'piece', 'of', 'shrapnel', 'in', 'the', 'forearm', 'that', 'caused', 'only', 'a', 'minor', 'wound', 'would', 'have', 'killed', 'had', 'it', 'hit', 'an', 'eye', 'and', 'gone', 'into', 'the', 'brain', ';', 'the', 'shrapnel', 'being', 'in', 'your', 'body', 'demonstrates', 'you', 'were', 'in', 'mortal', 'danger', 'and', 'did', \"n't\", 'absent', 'yourself', 'from', 'it', '.']\n",
      "['PUNCT', 'CONJ', 'PUNCT', 'DET', 'NOUN', 'ADP', 'NOUN', 'ADP', 'DET', 'NOUN', 'PRON', 'VERB', 'ADV', 'DET', 'ADJ', 'NOUN', 'AUX', 'AUX', 'VERB', 'AUX', 'PRON', 'VERB', 'DET', 'NOUN', 'CONJ', 'VERB', 'ADP', 'DET', 'NOUN', 'PUNCT', 'DET', 'NOUN', 'VERB', 'ADP', 'PRON', 'NOUN', 'VERB', 'PRON', 'VERB', 'ADP', 'ADJ', 'NOUN', 'CONJ', 'AUX', 'PART', 'VERB', 'PRON', 'ADP', 'PRON', 'PUNCT']\n",
      "['That', 'is', 'the', 'logic', 'of', 'the', 'medal', ')', '.']\n",
      "['PRON', 'VERB', 'DET', 'NOUN', 'ADP', 'DET', 'NOUN', 'PUNCT', 'PUNCT']\n",
      "['Kerry', 'saved', 'a', 'man', \"'s\", 'life', 'while', 'under', 'fire', '.']\n",
      "['PROPN', 'VERB', 'DET', 'NOUN', 'PART', 'NOUN', 'SCONJ', 'ADP', 'NOUN', 'PUNCT']\n",
      "['Bush', 'did', 'no', 'such', 'thing', '.']\n",
      "['PROPN', 'VERB', 'DET', 'ADJ', 'NOUN', 'PUNCT']\n",
      "['What', 'was', 'Bush', 'doing', 'with', 'his', 'youth', '?']\n",
      "['PRON', 'AUX', 'PROPN', 'VERB', 'ADP', 'PRON', 'NOUN', 'PUNCT']\n",
      "['He', 'was', 'drinking', '.']\n",
      "['PRON', 'AUX', 'VERB', 'PUNCT']\n",
      "['He', 'was', 'drinking', 'like', 'a', 'fish', ',', 'every', 'night', ',', 'into', 'the', 'wee', 'hours', '.']\n",
      "['PRON', 'AUX', 'VERB', 'ADP', 'DET', 'NOUN', 'PUNCT', 'DET', 'NOUN', 'PUNCT', 'ADP', 'DET', 'ADJ', 'NOUN', 'PUNCT']\n",
      "['For', 'decades', '.']\n",
      "['ADP', 'NOUN', 'PUNCT']\n",
      "['He', 'gave', 'no', 'service', 'to', 'anyone', ',', 'risked', 'nothing', ',', 'and', 'did', 'not', 'even', 'slack', 'off', 'efficiently', '.']\n",
      "['PRON', 'VERB', 'DET', 'NOUN', 'ADP', 'PRON', 'PUNCT', 'VERB', 'PRON', 'PUNCT', 'CONJ', 'AUX', 'PART', 'ADV', 'VERB', 'ADP', 'ADV', 'PUNCT']\n",
      "['The', 'history', 'of', 'alcoholism', 'and', 'possibly', 'other', 'drug', 'use', 'is', 'a', 'key', 'issue', 'because', 'it', 'not', 'only', 'speaks', 'to', 'Bush', \"'s\", 'character', 'as', 'an', 'addictive', 'personality', ',', 'but', 'may', 'tell', 'us', 'something', 'about', 'his', 'erratic', 'and', 'alarming', 'actions', 'as', 'president', '.']\n",
      "['DET', 'NOUN', 'ADP', 'NOUN', 'CONJ', 'ADV', 'ADJ', 'NOUN', 'NOUN', 'VERB', 'DET', 'ADJ', 'NOUN', 'SCONJ', 'PRON', 'ADV', 'ADV', 'VERB', 'ADP', 'PROPN', 'PART', 'NOUN', 'ADP', 'DET', 'ADJ', 'NOUN', 'PUNCT', 'CONJ', 'AUX', 'VERB', 'PRON', 'PRON', 'ADP', 'PRON', 'ADJ', 'CONJ', 'ADJ', 'NOUN', 'ADP', 'NOUN', 'PUNCT']\n",
      "['His', 'explosive', 'temper', 'probably', 'provoked', 'the', 'disastrous', 'siege', 'of', 'Fallujah', 'last', 'spring', ',', 'killing', '600', 'Iraqis', ',', 'most', 'of', 'them', 'women', 'and', 'children', ',', 'in', 'revenge', 'for', 'the', 'deaths', 'of', '4', 'civilian', 'mercenaries', ',', 'one', 'of', 'them', 'a', 'South', 'African', '.']\n",
      "['PRON', 'ADJ', 'NOUN', 'ADV', 'VERB', 'DET', 'ADJ', 'NOUN', 'ADP', 'PROPN', 'ADJ', 'NOUN', 'PUNCT', 'VERB', 'NUM', 'PROPN', 'PUNCT', 'ADJ', 'ADP', 'PRON', 'NOUN', 'CONJ', 'NOUN', 'PUNCT', 'ADP', 'NOUN', 'ADP', 'DET', 'NOUN', 'ADP', 'NUM', 'ADJ', 'NOUN', 'PUNCT', 'NUM', 'ADP', 'PRON', 'DET', 'PROPN', 'PROPN', 'PUNCT']\n",
      "['(', 'Newsweek', 'reported', 'that', 'Bush', 'commanded', 'his', 'cabinet', ',', '\"', 'Let', 'heads', 'roll', '!', '\"', ')']\n",
      "['PUNCT', 'PROPN', 'VERB', 'SCONJ', 'PROPN', 'VERB', 'PRON', 'NOUN', 'PUNCT', 'PUNCT', 'VERB', 'NOUN', 'VERB', 'PUNCT', 'PUNCT', 'PUNCT']\n",
      "['That', 'temper', 'is', 'only', 'one', 'problem', '.']\n",
      "['DET', 'NOUN', 'VERB', 'ADV', 'NUM', 'NOUN', 'PUNCT']\n",
      "['Bush', 'has', 'a', 'sadistic', 'streak', '.']\n",
      "['PROPN', 'VERB', 'DET', 'ADJ', 'NOUN', 'PUNCT']\n",
      "['He', 'clearly', 'enjoyed', ',', 'as', 'governor', ',', 'watching', 'executions', '.']\n",
      "['PRON', 'ADV', 'VERB', 'PUNCT', 'ADP', 'NOUN', 'PUNCT', 'VERB', 'NOUN', 'PUNCT']\n",
      "['His', 'delight', 'in', 'killing', 'people', 'became', 'a', 'campaign', 'issue', 'in', '2000', 'when', 'he', 'seemed', ',', 'in', 'one', 'debate', ',', 'to', 'enjoy', 'the', 'prospect', 'of', 'executing', 'wrong', '-', 'doers', 'a', 'little', 'too', 'much', '.']\n",
      "['PRON', 'NOUN', 'SCONJ', 'VERB', 'NOUN', 'VERB', 'DET', 'NOUN', 'NOUN', 'ADP', 'NUM', 'ADV', 'PRON', 'VERB', 'PUNCT', 'ADP', 'NUM', 'NOUN', 'PUNCT', 'PART', 'VERB', 'DET', 'NOUN', 'SCONJ', 'VERB', 'ADJ', 'PUNCT', 'NOUN', 'DET', 'ADJ', 'ADV', 'ADV', 'PUNCT']\n",
      "['He', 'has', 'clearly', 'gone', 'on', 'enjoying', 'killing', 'people', 'on', 'a', 'large', 'scale', 'in', 'Iraq', '.']\n",
      "['PRON', 'AUX', 'ADV', 'VERB', 'ADP', 'VERB', 'VERB', 'NOUN', 'ADP', 'DET', 'ADJ', 'NOUN', 'ADP', 'PROPN', 'PUNCT']\n",
      "['Drug', 'abuse', 'can', 'affect', 'the', 'ability', 'of', 'the', 'person', 'to', 'feel', 'deep', 'emotions', 'like', 'empathy', '.']\n",
      "['NOUN', 'NOUN', 'AUX', 'VERB', 'DET', 'NOUN', 'ADP', 'DET', 'NOUN', 'PART', 'VERB', 'ADJ', 'NOUN', 'ADP', 'NOUN', 'PUNCT']\n",
      "['Two', 'decades', 'of', 'pickling', 'his', 'nervous', 'system', 'in', 'various', 'highly', 'toxic', 'substances', 'have', 'left', 'Bush', 'damaged', 'goods', '.']\n",
      "['NUM', 'NOUN', 'SCONJ', 'VERB', 'PRON', 'ADJ', 'NOUN', 'ADP', 'ADJ', 'ADV', 'ADJ', 'NOUN', 'AUX', 'VERB', 'PROPN', 'VERB', 'NOUN', 'PUNCT']\n",
      "['Even', 'for', 'those', 'who', 'later', 'abstain', ',', '\"', 'visual', '-', 'spatial', 'abilities', ',', 'abstraction', ',', 'problem', 'solving', ',', 'and', 'short', '-', 'term', 'memory', ',', 'are', 'the', 'slowest', 'to', 'recover', '.', '\"']\n",
      "['ADV', 'ADP', 'PRON', 'PRON', 'ADV', 'VERB', 'PUNCT', 'PUNCT', 'ADJ', 'PUNCT', 'ADJ', 'NOUN', 'PUNCT', 'NOUN', 'PUNCT', 'NOUN', 'NOUN', 'PUNCT', 'CONJ', 'ADJ', 'PUNCT', 'NOUN', 'NOUN', 'PUNCT', 'VERB', 'DET', 'ADJ', 'PART', 'VERB', 'PUNCT', 'PUNCT']\n",
      "['That', 'he', 'managed', 'to', 'get', 'on', 'the', 'wagon', '(', 'though', 'with', 'that', 'pretzel', 'incident', ',', 'you', 'wonder', 'how', 'firmly', ')', 'is', 'laudable', '.']\n",
      "['SCONJ', 'PRON', 'VERB', 'PART', 'VERB', 'ADP', 'DET', 'NOUN', 'PUNCT', 'SCONJ', 'ADP', 'DET', 'NOUN', 'NOUN', 'PUNCT', 'PRON', 'VERB', 'ADV', 'ADV', 'PUNCT', 'VERB', 'ADJ', 'PUNCT']\n",
      "['But', 'he', 'suffers', 'the', 'severe', 'effects', 'of', 'the', 'aftermath', ',', 'and', 'we', 'are', 'all', 'suffering', 'along', 'with', 'him', 'now', ',', 'since', 'he', 'is', 'the', 'most', 'powerful', 'man', 'in', 'the', 'world', '.']\n",
      "['CONJ', 'PRON', 'VERB', 'DET', 'ADJ', 'NOUN', 'ADP', 'DET', 'NOUN', 'PUNCT', 'CONJ', 'PRON', 'AUX', 'ADV', 'VERB', 'ADP', 'ADP', 'PRON', 'ADV', 'PUNCT', 'SCONJ', 'PRON', 'VERB', 'DET', 'ADV', 'ADJ', 'NOUN', 'ADP', 'DET', 'NOUN', 'PUNCT']\n",
      "['We', 'all', 'know', 'by', 'now', 'that', 'Bush', 'did', 'not', 'even', 'do', 'his', 'full', 'service', 'with', 'the', 'Texas', 'Air', 'National', 'Guard', ',', 'absenting', 'himself', 'to', 'work', 'on', 'the', 'Alabama', 'senate', 'campaign', 'of', 'Winton', '\"', 'Red', '\"', 'Blount', '.']\n",
      "['PRON', 'DET', 'VERB', 'ADP', 'ADV', 'SCONJ', 'PROPN', 'AUX', 'PART', 'ADV', 'VERB', 'PRON', 'ADJ', 'NOUN', 'ADP', 'DET', 'PROPN', 'PROPN', 'PROPN', 'PROPN', 'PUNCT', 'VERB', 'PRON', 'PART', 'VERB', 'ADP', 'DET', 'PROPN', 'NOUN', 'NOUN', 'ADP', 'PROPN', 'PUNCT', 'PROPN', 'PUNCT', 'PROPN', 'PUNCT']\n",
      "['Whether', 'he', 'was', 'actually', 'AWOL', 'during', 'this', 'stint', 'is', 'unclear', '.']\n",
      "['SCONJ', 'PRON', 'VERB', 'ADV', 'ADJ', 'ADP', 'DET', 'NOUN', 'VERB', 'ADJ', 'PUNCT']\n",
      "['But', 'it', 'is', 'clear', 'that', 'not', 'only', 'did', 'Bush', 'slack', 'off', 'on', 'his', 'National', 'Guard', 'service', ',', 'but', 'he', 'slacked', 'off', 'from', 'his', 'campaign', 'work', '.']\n",
      "['CONJ', 'PRON', 'VERB', 'ADJ', 'SCONJ', 'PART', 'ADV', 'AUX', 'PROPN', 'VERB', 'ADP', 'ADP', 'PRON', 'PROPN', 'PROPN', 'NOUN', 'PUNCT', 'CONJ', 'PRON', 'VERB', 'ADP', 'ADP', 'PRON', 'NOUN', 'NOUN', 'PUNCT']\n",
      "['This', 'little', '-', 'noted', 'interview', 'with', 'Blount', \"'s\", 'nephew', 'Murph', 'Archibald', ',', 'which', 'appeared', 'on', 'National', 'Public', 'Radio', \"'s\", '\"', 'All', 'Things', 'Considered', 'on', 'March', '30', ',', '2004', ',', 'gives', 'a', 'devastating', 'insight', 'into', 'what', 'it', 'was', 'like', 'to', 'have', 'to', 'suffer', 'through', 'Bush', 'in', 'that', 'period', '.']\n",
      "['DET', 'ADV', 'PUNCT', 'VERB', 'NOUN', 'ADP', 'PROPN', 'PART', 'NOUN', 'PROPN', 'PROPN', 'PUNCT', 'PRON', 'VERB', 'ADP', 'PROPN', 'PROPN', 'PROPN', 'PART', 'PUNCT', 'DET', 'PROPN', 'VERB', 'ADP', 'PROPN', 'NUM', 'PUNCT', 'NUM', 'PUNCT', 'VERB', 'DET', 'ADJ', 'NOUN', 'SCONJ', 'PRON', 'PRON', 'VERB', 'ADP', 'PART', 'VERB', 'PART', 'VERB', 'ADP', 'PROPN', 'ADP', 'DET', 'NOUN', 'PUNCT']\n",
      "['\"', 'All', 'Things', 'Considered', '(', '8:00', 'PM', 'ET', ')', '-', 'NPR', 'March', '30', ',', '2004', 'Tuesday']\n",
      "['PUNCT', 'DET', 'PROPN', 'VERB', 'PUNCT', 'NUM', 'NOUN', 'PROPN', 'PUNCT', 'PUNCT', 'PROPN', 'PROPN', 'NUM', 'PUNCT', 'NUM', 'PROPN']\n",
      "['This', 'campaign', 'season', ',', 'there', 'have', 'been', 'questions', 'about', 'whether', 'George', 'W.', 'Bush', 'fulfilled', 'his', 'obligations', 'to', 'the', 'National', 'Guard', 'as', 'a', 'young', 'lieutenant', 'in', 'the', 'early', '1970s', '.']\n",
      "['DET', 'NOUN', 'NOUN', 'PUNCT', 'PRON', 'AUX', 'VERB', 'NOUN', 'SCONJ', 'SCONJ', 'PROPN', 'PROPN', 'PROPN', 'VERB', 'PRON', 'NOUN', 'ADP', 'DET', 'PROPN', 'PROPN', 'ADP', 'DET', 'ADJ', 'NOUN', 'ADP', 'DET', 'ADJ', 'NOUN', 'PUNCT']\n",
      "['For', 'weeks', ',', 'reporters', 'scoured', 'Alabama', 'in', 'search', 'of', 'pilots', 'or', 'anyone', 'who', 'might', 'have', 'remembered', 'seeing', 'Mr.', 'Bush', 'at', 'the', 'time', 'he', 'was', 'serving', 'in', 'the', 'National', 'Guard', 'there', '.']\n",
      "['ADP', 'NOUN', 'PUNCT', 'NOUN', 'VERB', 'PROPN', 'ADP', 'NOUN', 'ADP', 'NOUN', 'CONJ', 'PRON', 'PRON', 'AUX', 'AUX', 'VERB', 'VERB', 'PROPN', 'PROPN', 'ADP', 'DET', 'NOUN', 'PRON', 'AUX', 'VERB', 'ADP', 'DET', 'PROPN', 'PROPN', 'ADV', 'PUNCT']\n",
      "['There', 'is', 'one', 'place', 'in', 'Alabama', 'where', 'Mr.', 'Bush', 'was', 'present', 'nearly', 'every', 'day', ':', 'the', 'headquarters', 'in', 'Montgomery', 'of', 'US', 'Senate', 'candidate', 'Winton', '\"', 'Red', '\"', 'Blount', '.']\n",
      "['PRON', 'VERB', 'NUM', 'NOUN', 'ADP', 'PROPN', 'ADV', 'PROPN', 'PROPN', 'VERB', 'ADJ', 'ADV', 'ADV', 'NOUN', 'PUNCT', 'DET', 'NOUN', 'ADP', 'PROPN', 'ADP', 'PROPN', 'PROPN', 'NOUN', 'PROPN', 'PUNCT', 'PROPN', 'PUNCT', 'PROPN', 'PUNCT']\n",
      "['President', 'Bush', 'has', 'always', 'said', 'that', 'working', 'for', 'Blount', 'was', 'the', 'reason', 'he', 'transferred', 'to', 'the', 'Alabama', 'Air', 'National', 'Guard', '.']\n",
      "['PROPN', 'PROPN', 'AUX', 'ADV', 'VERB', 'SCONJ', 'VERB', 'ADP', 'PROPN', 'VERB', 'DET', 'NOUN', 'PRON', 'VERB', 'ADP', 'DET', 'PROPN', 'PROPN', 'PROPN', 'PROPN', 'PUNCT']\n",
      "['NPR', \"'s\", 'Wade', 'Goodwyn', 'has', 'this', 'report', 'about', 'Mr.', 'Bush', \"'s\", 'time', 'on', 'that', 'campaign', '.']\n",
      "['PROPN', 'PART', 'PROPN', 'PROPN', 'VERB', 'DET', 'NOUN', 'ADP', 'PROPN', 'PROPN', 'PART', 'NOUN', 'ADP', 'DET', 'NOUN', 'PUNCT']\n",
      "['WADE', 'GOODWYN', 'reporting', ':']\n",
      "['PROPN', 'PROPN', 'VERB', 'PUNCT']\n",
      "['In', '1972', ',', 'Baba', 'Groom', 'was', 'a', 'smart', ',', 'funny', 'young', 'woman', 'smack', '-', 'dab', 'in', 'the', 'middle', 'of', 'an', 'exciting', 'US', 'Senate', 'campaign', '.']\n",
      "['ADP', 'NUM', 'PUNCT', 'PROPN', 'PROPN', 'VERB', 'DET', 'ADJ', 'PUNCT', 'ADJ', 'ADJ', 'NOUN', 'ADV', 'PUNCT', 'ADV', 'ADP', 'DET', 'NOUN', 'ADP', 'DET', 'ADJ', 'PROPN', 'PROPN', 'NOUN', 'PUNCT']\n",
      "['Groom', 'was', 'Republican', 'Red', 'Blount', \"'s\", 'scheduler', ',', 'and', 'in', 'that', 'job', ',', 'she', 'was', 'the', 'hub', 'in', 'the', 'campaign', 'wheel', '.']\n",
      "['PROPN', 'VERB', 'PROPN', 'PROPN', 'PROPN', 'PART', 'NOUN', 'PUNCT', 'CONJ', 'ADP', 'DET', 'NOUN', 'PUNCT', 'PRON', 'VERB', 'DET', 'NOUN', 'ADP', 'DET', 'NOUN', 'NOUN', 'PUNCT']\n",
      "['Ask', 'her', 'about', 'the', 'handsome', 'young', 'man', 'from', 'Texas', ',', 'and', 'she', 'remembers', 'him', '32', 'years', 'later', 'like', 'it', 'was', 'yesterday', '.']\n",
      "['VERB', 'PRON', 'ADP', 'DET', 'ADJ', 'ADJ', 'NOUN', 'ADP', 'PROPN', 'PUNCT', 'CONJ', 'PRON', 'VERB', 'PRON', 'NUM', 'NOUN', 'ADV', 'SCONJ', 'PRON', 'VERB', 'NOUN', 'PUNCT']\n",
      "['Ms.', 'BABA', 'GROOM', '(', 'Former', 'Campaign', 'Worker', ')', ':']\n",
      "['PROPN', 'PROPN', 'PROPN', 'PUNCT', 'ADJ', 'NOUN', 'NOUN', 'PUNCT', 'PUNCT']\n",
      "['He', 'would', 'wear', 'khaki', 'trousers', 'and', 'some', 'old', 'jacket', '.']\n",
      "['PRON', 'AUX', 'VERB', 'NOUN', 'NOUN', 'CONJ', 'DET', 'ADJ', 'NOUN', 'PUNCT']\n",
      "['He', 'was', 'always', 'ready', 'to', 'go', 'out', 'on', 'the', 'road', '.']\n",
      "['PRON', 'VERB', 'ADV', 'ADJ', 'PART', 'VERB', 'ADV', 'ADP', 'DET', 'NOUN', 'PUNCT']\n",
      "['On', 'the', 'phone', ',', 'you', 'could', 'hear', 'his', 'accent', '.']\n",
      "['ADP', 'DET', 'NOUN', 'PUNCT', 'PRON', 'AUX', 'VERB', 'PRON', 'NOUN', 'PUNCT']\n",
      "['It', 'was', 'a', 'Texas', 'accent', '.']\n",
      "['PRON', 'VERB', 'DET', 'PROPN', 'NOUN', 'PUNCT']\n",
      "['But', 'he', 'just', 'melded', 'with', 'everybody', '.']\n",
      "['CONJ', 'PRON', 'ADV', 'VERB', 'ADP', 'PRON', 'PUNCT']\n",
      "['GOODWYN', ':', 'The', 'candidate', 'Mr.', 'Bush', 'was', 'working', 'for', ',', 'Red', 'Blount', ',', 'had', 'gotten', 'rich', 'in', 'Alabama', 'in', 'the', 'construction', 'business', '.']\n",
      "['PROPN', 'PUNCT', 'DET', 'NOUN', 'PROPN', 'PROPN', 'AUX', 'VERB', 'ADP', 'PUNCT', 'PROPN', 'PROPN', 'PUNCT', 'AUX', 'VERB', 'ADJ', 'ADP', 'PROPN', 'ADP', 'DET', 'NOUN', 'NOUN', 'PUNCT']\n",
      "['Prominent', 'Southern', 'Republicans', 'were', 'something', 'of', 'a', 'rare', 'breed', 'in', 'those', 'days', '.']\n",
      "['ADJ', 'ADJ', 'PROPN', 'VERB', 'PRON', 'ADP', 'DET', 'ADJ', 'NOUN', 'ADP', 'DET', 'NOUN', 'PUNCT']\n",
      "['Blount', \"'s\", 'support', 'of', 'the', 'party', 'led', 'him', 'to', 'be', 'appointed', 'Richard', 'Nixon', \"'s\", 'postmaster', 'general', '.']\n",
      "['PROPN', 'PART', 'NOUN', 'ADP', 'DET', 'NOUN', 'VERB', 'PRON', 'PART', 'AUX', 'VERB', 'PROPN', 'PROPN', 'PART', 'PROPN', 'PROPN', 'PUNCT']\n",
      "['In', 'Washington', ',', 'Blount', 'became', 'friends', 'and', 'tennis', 'partners', 'with', 'Mr.', 'Bush', \"'s\", 'father', ',', 'then', 'Congressman', 'Bush', '.']\n",
      "['ADP', 'PROPN', 'PUNCT', 'PROPN', 'VERB', 'NOUN', 'CONJ', 'NOUN', 'NOUN', 'ADP', 'PROPN', 'PROPN', 'PART', 'NOUN', 'PUNCT', 'ADV', 'PROPN', 'PROPN', 'PUNCT']\n",
      "['That', 'was', 'how', '26', '-', 'year', '-', 'old', 'Lieutenant', 'Bush', 'came', 'to', 'Montgomery', ',', 'at', 'his', 'father', \"'s\", 'urging', '.', '.', '.']\n",
      "['PRON', 'VERB', 'ADV', 'NUM', 'PUNCT', 'NOUN', 'PUNCT', 'ADJ', 'PROPN', 'PROPN', 'VERB', 'ADP', 'PROPN', 'PUNCT', 'ADP', 'PRON', 'NOUN', 'PART', 'NOUN', 'PUNCT', 'PUNCT', 'PUNCT']\n",
      "['It', 'was', 'Mr.', 'Bush', \"'s\", 'job', 'to', 'organize', 'the', 'Republican', 'county', 'chairpersons', 'in', 'the', '67', 'Alabama', 'counties', '.']\n",
      "['PRON', 'VERB', 'PROPN', 'PROPN', 'PART', 'NOUN', 'PART', 'VERB', 'DET', 'ADJ', 'NOUN', 'NOUN', 'ADP', 'DET', 'NUM', 'PROPN', 'NOUN', 'PUNCT']\n",
      "['Back', 'in', '1972', 'in', 'the', 'Deep', 'South', ',', 'many', 'rural', 'counties', 'did', \"n't\", 'have', 'much', 'in', 'the', 'way', 'of', 'official', 'Republican', 'Party', 'apparatus', '.']\n",
      "['ADV', 'ADP', 'NUM', 'ADP', 'DET', 'ADJ', 'NOUN', 'PUNCT', 'ADJ', 'ADJ', 'NOUN', 'AUX', 'PART', 'VERB', 'ADJ', 'ADP', 'DET', 'NOUN', 'ADP', 'ADJ', 'PROPN', 'PROPN', 'NOUN', 'PUNCT']\n",
      "['But', 'throughout', 'Alabama', ',', 'there', 'were', 'Republicans', 'and', 'Democrats', 'who', 'wanted', 'to', 'help', 'Red', 'Blount', '.']\n",
      "['CONJ', 'ADP', 'PROPN', 'PUNCT', 'PRON', 'VERB', 'PROPN', 'CONJ', 'PROPN', 'PRON', 'VERB', 'PART', 'VERB', 'PROPN', 'PROPN', 'PUNCT']\n",
      "['It', 'was', 'the', 'young', 'Texan', \"'s\", 'job', 'to', 'find', 'out', 'what', 'each', 'county', 'leader', 'needed', 'in', 'the', 'way', 'of', 'campaign', 'supplies', 'and', 'get', 'those', 'supplies', 'to', 'them', '.']\n",
      "['PRON', 'VERB', 'DET', 'ADJ', 'PROPN', 'PART', 'NOUN', 'PART', 'VERB', 'ADP', 'PRON', 'DET', 'NOUN', 'NOUN', 'VERB', 'ADP', 'DET', 'NOUN', 'ADP', 'NOUN', 'NOUN', 'CONJ', 'VERB', 'DET', 'NOUN', 'ADP', 'PRON', 'PUNCT']\n",
      "['Groom', 'says', 'this', 'job', 'helped', 'Mr.', 'Bush', 'understand', 'how', 'even', 'in', 'a', 'statewide', 'Senate', 'campaign', ',', 'politics', 'are', 'local', '.']\n",
      "['PROPN', 'VERB', 'DET', 'NOUN', 'VERB', 'PROPN', 'PROPN', 'VERB', 'ADV', 'ADV', 'ADP', 'DET', 'ADJ', 'PROPN', 'NOUN', 'PUNCT', 'NOUN', 'VERB', 'ADJ', 'PUNCT']\n",
      "['.', '.', '.', 'Murph', 'Archibald', 'is', 'Red', 'Blount', \"'s\", 'nephew', 'by', 'marriage', ',', 'and', 'in', '1972', ',', 'he', 'was', 'coming', 'off', 'a', '15', '-', 'month', 'tour', 'in', 'Vietnam', 'in', 'the', 'infantry', '.']\n",
      "['PUNCT', 'PUNCT', 'PUNCT', 'PROPN', 'PROPN', 'VERB', 'PROPN', 'PROPN', 'PART', 'NOUN', 'ADP', 'NOUN', 'PUNCT', 'CONJ', 'ADP', 'NUM', 'PUNCT', 'PRON', 'AUX', 'VERB', 'ADP', 'DET', 'NUM', 'PUNCT', 'NOUN', 'NOUN', 'ADP', 'PROPN', 'ADP', 'DET', 'NOUN', 'PUNCT']\n",
      "['Archibald', 'says', 'that', 'in', 'a', 'campaign', 'full', 'of', 'dedicated', 'workers', ',', 'Mr.', 'Bush', 'was', 'not', 'one', 'of', 'them', '.']\n",
      "['PROPN', 'VERB', 'SCONJ', 'ADP', 'DET', 'NOUN', 'ADJ', 'ADP', 'ADJ', 'NOUN', 'PUNCT', 'PROPN', 'PROPN', 'VERB', 'PART', 'NUM', 'ADP', 'PRON', 'PUNCT']\n",
      "['Mr.', 'MURPH', 'ARCHIBALD', '(', 'Nephew', 'of', 'Red', 'Blount', ')', ':', 'Well', ',', 'I', 'was', 'coming', 'in', 'early', 'in', 'the', 'morning', 'and', 'leaving', 'in', 'mid-evenings', '.']\n",
      "['PROPN', 'PROPN', 'PROPN', 'PUNCT', 'NOUN', 'ADP', 'PROPN', 'PROPN', 'PUNCT', 'PUNCT', 'INTJ', 'PUNCT', 'PRON', 'AUX', 'VERB', 'ADV', 'ADV', 'ADP', 'DET', 'NOUN', 'CONJ', 'VERB', 'ADP', 'NOUN', 'PUNCT']\n",
      "['Ordinarily', ',', 'George', 'would', 'come', 'in', 'around', 'noon', ';', 'he', 'would', 'ordinarily', 'leave', 'around', '5:30', 'or', '6:00', 'in', 'the', 'evening', '.']\n",
      "['ADV', 'PUNCT', 'PROPN', 'AUX', 'VERB', 'ADV', 'ADV', 'NOUN', 'PUNCT', 'PRON', 'AUX', 'ADV', 'VERB', 'ADV', 'NUM', 'CONJ', 'NUM', 'ADP', 'DET', 'NOUN', 'PUNCT']\n",
      "['GOODWYN', ':', 'Archibald', 'says', 'that', 'two', 'months', 'before', 'the', 'election', ',', 'in', 'September', 'of', \"'72\", ',', 'Red', 'Blount', \"'s\", 'campaign', 'manager', 'came', 'to', 'him', 'and', 'asked', 'that', 'he', 'quietly', 'take', 'over', 'Mr.', 'Bush', \"'s\", 'job', 'because', 'the', 'campaign', 'materials', 'were', 'not', 'getting', 'out', 'to', 'the', 'counties', '.']\n",
      "['PROPN', 'PUNCT', 'PROPN', 'VERB', 'SCONJ', 'NUM', 'NOUN', 'ADP', 'DET', 'NOUN', 'PUNCT', 'ADP', 'PROPN', 'ADP', 'NUM', 'PUNCT', 'PROPN', 'PROPN', 'PART', 'NOUN', 'NOUN', 'VERB', 'ADP', 'PRON', 'CONJ', 'VERB', 'SCONJ', 'PRON', 'ADV', 'VERB', 'ADP', 'PROPN', 'PROPN', 'PART', 'NOUN', 'SCONJ', 'DET', 'NOUN', 'NOUN', 'AUX', 'PART', 'VERB', 'ADV', 'ADP', 'DET', 'NOUN', 'PUNCT']\n",
      "['Mr.', 'ARCHIBALD', ':', 'George', 'certainly', 'did', \"n't\", 'seem', 'to', 'have', 'any', 'concerns', 'about', 'my', 'taking', 'over', 'this', 'work', 'with', 'the', 'campaign', 'workers', 'there', '.']\n",
      "['PROPN', 'PROPN', 'PUNCT', 'PROPN', 'ADV', 'AUX', 'PART', 'VERB', 'PART', 'VERB', 'DET', 'NOUN', 'SCONJ', 'PRON', 'VERB', 'ADP', 'DET', 'NOUN', 'ADP', 'DET', 'NOUN', 'NOUN', 'ADV', 'PUNCT']\n",
      "['My', 'overall', 'impression', 'was', 'that', 'he', 'did', \"n't\", 'seem', 'as', 'interested', 'in', 'the', 'campaign', 'as', 'the', 'other', 'people', 'who', 'were', 'working', 'at', 'the', 'state', 'headquarters', '.']\n",
      "['PRON', 'ADJ', 'NOUN', 'VERB', 'SCONJ', 'PRON', 'AUX', 'PART', 'VERB', 'ADV', 'ADJ', 'ADP', 'DET', 'NOUN', 'ADP', 'DET', 'ADJ', 'NOUN', 'PRON', 'AUX', 'VERB', 'ADP', 'DET', 'NOUN', 'NOUN', 'PUNCT']\n",
      "['GOODWYN', ':', 'Murph', 'Archibald', 'says', 'that', 'at', 'first', ',', 'he', 'did', \"n't\", 'know', 'that', 'Mr.', 'Bush', 'was', 'serving', 'in', 'the', 'Air', 'National', 'Guard', '.']\n",
      "['PROPN', 'PUNCT', 'PROPN', 'PROPN', 'VERB', 'SCONJ', 'ADV', 'ADV', 'PUNCT', 'PRON', 'AUX', 'PART', 'VERB', 'SCONJ', 'PROPN', 'PROPN', 'AUX', 'VERB', 'ADP', 'DET', 'PROPN', 'PROPN', 'PROPN', 'PUNCT']\n",
      "['After', 'he', 'found', 'out', 'from', 'somebody', 'else', ',', 'Archibald', 'attempted', 'to', 'talk', 'to', 'Mr.', 'Bush', 'about', 'it', '.']\n",
      "['SCONJ', 'PRON', 'VERB', 'ADP', 'ADP', 'PRON', 'ADJ', 'PUNCT', 'PROPN', 'VERB', 'PART', 'VERB', 'ADP', 'PROPN', 'PROPN', 'ADP', 'PRON', 'PUNCT']\n",
      "['The', 'president', 'was', 'a', 'lieutenant', 'and', 'Archibald', 'had', 'been', 'a', 'lieutenant', ',', 'too', ';', 'he', 'figured', 'they', 'had', 'something', 'to', 'talk', 'about', '.']\n",
      "['DET', 'PROPN', 'VERB', 'DET', 'NOUN', 'CONJ', 'PROPN', 'AUX', 'VERB', 'DET', 'NOUN', 'PUNCT', 'ADV', 'PUNCT', 'PRON', 'VERB', 'PRON', 'VERB', 'PRON', 'PART', 'VERB', 'ADP', 'PUNCT']\n",
      "['Mr.', 'ARCHIBALD', ':', 'George', 'did', \"n't\", 'have', 'any', 'interest', 'at', 'all', 'in', 'talking', 'about', 'the', 'military', '.']\n",
      "['PROPN', 'PROPN', 'PUNCT', 'PROPN', 'AUX', 'PART', 'VERB', 'DET', 'NOUN', 'ADV', 'ADV', 'SCONJ', 'VERB', 'ADP', 'DET', 'NOUN', 'PUNCT']\n",
      "['In', 'fact', ',', 'when', 'I', 'broached', 'the', 'subject', 'with', 'him', ',', 'he', 'simply', 'changed', 'the', 'subject', '.']\n",
      "['ADP', 'NOUN', 'PUNCT', 'ADV', 'PRON', 'VERB', 'DET', 'NOUN', 'ADP', 'PRON', 'PUNCT', 'PRON', 'ADV', 'VERB', 'DET', 'NOUN', 'PUNCT']\n",
      "['He', 'was', \"n't\", 'unpleasant', 'about', 'it', ',', 'but', 'he', 'just', 'changed', 'the', 'subject', 'and', 'would', \"n't\", 'talk', 'about', 'it', '.']\n",
      "['PRON', 'VERB', 'PART', 'ADJ', 'ADP', 'PRON', 'PUNCT', 'CONJ', 'PRON', 'ADV', 'VERB', 'DET', 'NOUN', 'CONJ', 'AUX', 'PART', 'VERB', 'ADP', 'PRON', 'PUNCT']\n",
      "['GOODWYN', ':', 'Far', 'from', 'Texas', 'and', 'Washington', ',', 'DC', ',', 'Mr.', 'Bush', 'enjoyed', 'his', 'freedom', '.']\n",
      "['PROPN', 'PUNCT', 'ADV', 'ADP', 'PROPN', 'CONJ', 'PROPN', 'PUNCT', 'PROPN', 'PUNCT', 'PROPN', 'PROPN', 'VERB', 'PRON', 'NOUN', 'PUNCT']\n",
      "['He', 'dated', 'a', 'beautiful', 'young', 'woman', 'working', 'on', 'the', 'campaign', '.']\n",
      "['PRON', 'VERB', 'DET', 'ADJ', 'ADJ', 'NOUN', 'VERB', 'ADP', 'DET', 'NOUN', 'PUNCT']\n",
      "['He', 'went', 'out', 'in', 'the', 'evenings', 'and', 'had', 'a', 'good', 'time', '.']\n",
      "['PRON', 'VERB', 'ADV', 'ADP', 'DET', 'NOUN', 'CONJ', 'VERB', 'DET', 'ADJ', 'NOUN', 'PUNCT']\n",
      "['In', 'fact', ',', 'he', 'left', 'the', 'house', 'he', 'rented', 'in', 'such', 'disrepair', '--', 'with', 'damage', 'to', 'the', 'walls', 'and', 'a', 'chandelier', 'destroyed', '--', 'that', 'the', 'Montgomery', 'family', 'who', 'owned', 'it', 'still', 'grumble', 'about', 'the', 'unpaid', 'repair', 'bill', '.']\n",
      "['ADP', 'NOUN', 'PUNCT', 'PRON', 'VERB', 'DET', 'NOUN', 'PRON', 'VERB', 'ADP', 'ADJ', 'NOUN', 'PUNCT', 'ADP', 'NOUN', 'ADP', 'DET', 'NOUN', 'CONJ', 'DET', 'NOUN', 'VERB', 'PUNCT', 'SCONJ', 'DET', 'PROPN', 'NOUN', 'PRON', 'VERB', 'PRON', 'ADV', 'VERB', 'ADP', 'DET', 'ADJ', 'NOUN', 'NOUN', 'PUNCT']\n",
      "['Archibald', 'says', 'Mr.', 'Bush', 'would', 'come', 'into', 'the', 'office', 'and', ',', 'in', 'a', 'friendly', 'way', ',', 'offer', 'up', 'stories', 'about', 'the', 'drinking', 'he', \"'d\", 'done', 'the', 'night', 'before', ',', 'kind', 'of', 'as', 'a', 'conversation', 'starter', '.']\n",
      "['PROPN', 'VERB', 'PROPN', 'PROPN', 'AUX', 'VERB', 'ADP', 'DET', 'NOUN', 'CONJ', 'PUNCT', 'ADP', 'DET', 'ADJ', 'NOUN', 'PUNCT', 'VERB', 'ADP', 'NOUN', 'ADP', 'DET', 'NOUN', 'PRON', 'AUX', 'VERB', 'DET', 'NOUN', 'ADV', 'PUNCT', 'ADV', 'ADV', 'ADP', 'DET', 'NOUN', 'NOUN', 'PUNCT']\n",
      "['Mr.', 'ARCHIBALD', ':', 'People', 'have', 'different', 'ways', 'of', 'starting', 'the', 'days', 'in', 'any', 'office', '.']\n",
      "['PROPN', 'PROPN', 'PUNCT', 'NOUN', 'VERB', 'ADJ', 'NOUN', 'SCONJ', 'VERB', 'DET', 'NOUN', 'ADP', 'DET', 'NOUN', 'PUNCT']\n",
      "['They', \"'re\", 'going', 'to', 'talk', 'about', 'their', 'kids', ',', 'they', \"'re\", 'going', 'to', 'talk', 'about', 'football', ',', 'they', \"'re\", 'going', 'to', 'talk', 'about', 'the', 'weather', '.']\n",
      "['PRON', 'AUX', 'VERB', 'PART', 'VERB', 'ADP', 'PRON', 'NOUN', 'PUNCT', 'PRON', 'AUX', 'VERB', 'PART', 'VERB', 'ADP', 'NOUN', 'PUNCT', 'PRON', 'AUX', 'VERB', 'PART', 'VERB', 'ADP', 'DET', 'NOUN', 'PUNCT']\n",
      "['And', 'this', 'was', 'simply', 'his', 'opening', 'gambit', ';', 'he', 'would', 'start', 'talking', 'about', 'that', 'he', 'had', 'been', 'out', 'late', 'the', 'night', 'before', 'drinking', '.']\n",
      "['CONJ', 'PRON', 'VERB', 'ADV', 'PRON', 'VERB', 'NOUN', 'PUNCT', 'PRON', 'AUX', 'VERB', 'VERB', 'SCONJ', 'SCONJ', 'PRON', 'AUX', 'VERB', 'ADV', 'ADV', 'DET', 'NOUN', 'ADV', 'VERB', 'PUNCT']\n",
      "['GOODWYN', ':', 'Archibald', 'says', 'the', 'frequency', 'with', 'which', 'Mr.', 'Bush', 'discussed', 'the', 'subject', 'was', 'off', '-', 'putting', 'to', 'him', '.']\n",
      "['PROPN', 'PUNCT', 'PROPN', 'VERB', 'DET', 'NOUN', 'ADP', 'PRON', 'PROPN', 'PROPN', 'VERB', 'DET', 'NOUN', 'VERB', 'ADV', 'PUNCT', 'ADJ', 'ADP', 'PRON', 'PUNCT']\n",
      "['Mr.', 'ARCHIBALD', ':', 'I', 'mean', ',', 'at', 'that', 'time', ',', 'I', 'was', '28', ';', 'George', 'would', 'have', 'been', '25', 'or', '26', '.']\n",
      "['PROPN', 'PROPN', 'PUNCT', 'PRON', 'VERB', 'PUNCT', 'ADP', 'DET', 'NOUN', 'PUNCT', 'PRON', 'VERB', 'NUM', 'PUNCT', 'PROPN', 'AUX', 'AUX', 'VERB', 'NUM', 'CONJ', 'NUM', 'PUNCT']\n",
      "['And', 'I', 'thought', 'it', 'was', 'really', 'unusual', 'that', 'someone', 'in', 'their', 'mid-20s', 'would', 'initiate', 'conversations', ',', 'particularly', 'in', 'the', 'context', 'of', 'something', 'as', 'serious', 'as', 'a', 'US', 'senatorial', 'campaign', ',', 'by', 'talking', 'about', 'their', 'drinking', 'the', 'night', 'before', '.']\n",
      "['CONJ', 'PRON', 'VERB', 'PRON', 'VERB', 'ADV', 'ADJ', 'SCONJ', 'PRON', 'ADP', 'PRON', 'NOUN', 'AUX', 'VERB', 'NOUN', 'PUNCT', 'ADV', 'ADP', 'DET', 'NOUN', 'ADP', 'PRON', 'ADV', 'ADV', 'ADP', 'DET', 'PROPN', 'ADJ', 'NOUN', 'PUNCT', 'SCONJ', 'VERB', 'ADP', 'PRON', 'NOUN', 'DET', 'NOUN', 'ADV', 'PUNCT']\n",
      "['I', 'thought', 'it', 'unusual', 'and', ',', 'frankly', ',', 'inappropriate', '.']\n",
      "['PRON', 'VERB', 'PRON', 'ADJ', 'CONJ', 'PUNCT', 'ADV', 'PUNCT', 'ADJ', 'PUNCT']\n",
      "['GOODWYN', ':', 'According', 'to', 'Archibald', ',', 'Mr.', 'Bush', 'would', 'also', 'sometimes', 'tell', 'stories', 'about', 'his', 'days', 'at', 'Yale', 'in', 'New', 'Haven', ',', 'and', 'how', 'whenever', 'he', 'got', 'pulled', 'over', 'for', 'erratic', 'driving', ',', 'he', 'was', 'let', 'go', 'after', 'the', 'officers', 'discovered', 'he', 'was', 'the', 'grandson', 'of', 'a', 'Connecticut', 'US', 'senator', '.']\n",
      "['PROPN', 'PUNCT', 'VERB', 'ADP', 'PROPN', 'PUNCT', 'PROPN', 'PROPN', 'AUX', 'ADV', 'ADV', 'VERB', 'NOUN', 'ADP', 'PRON', 'NOUN', 'ADP', 'PROPN', 'ADP', 'PROPN', 'PROPN', 'PUNCT', 'CONJ', 'ADV', 'ADV', 'PRON', 'AUX', 'VERB', 'ADV', 'ADP', 'ADJ', 'NOUN', 'PUNCT', 'PRON', 'AUX', 'VERB', 'VERB', 'SCONJ', 'DET', 'NOUN', 'VERB', 'PRON', 'VERB', 'DET', 'NOUN', 'ADP', 'DET', 'PROPN', 'PROPN', 'PROPN', 'PUNCT']\n",
      "['Archibald', ',', 'a', 'middle', '-', 'class', 'Alabama', 'boy', '--', 'who', ',', 'by', 'the', 'way', ',', 'is', 'now', 'a', 'registered', 'Democrat', '--', 'did', \"n't\", 'like', 'that', 'story', '.']\n",
      "['PROPN', 'PUNCT', 'DET', 'ADJ', 'PUNCT', 'NOUN', 'PROPN', 'NOUN', 'PUNCT', 'PRON', 'PUNCT', 'ADP', 'DET', 'NOUN', 'PUNCT', 'VERB', 'ADV', 'DET', 'VERB', 'PROPN', 'PUNCT', 'AUX', 'PART', 'VERB', 'DET', 'NOUN', 'PUNCT']\n",
      "['Mr.', 'ARCHIBALD', ':', 'He', 'told', 'us', 'whenever', 'he', 'was', 'stopped', ',', 'as', 'soon', 'as', 'the', 'law', 'enforcement', 'found', 'out', 'that', 'he', 'was', 'the', 'grandson', 'of', 'Prescott', 'Bush', ',', 'they', 'would', 'let', 'him', 'go', '.']\n",
      "['PROPN', 'PROPN', 'PUNCT', 'PRON', 'VERB', 'PRON', 'ADV', 'PRON', 'AUX', 'VERB', 'PUNCT', 'ADV', 'ADV', 'SCONJ', 'DET', 'NOUN', 'NOUN', 'VERB', 'ADP', 'SCONJ', 'PRON', 'VERB', 'DET', 'NOUN', 'ADP', 'PROPN', 'PROPN', 'PUNCT', 'PRON', 'AUX', 'VERB', 'PRON', 'VERB', 'PUNCT']\n",
      "['And', 'he', 'would', 'always', 'laugh', 'about', 'that', '.', '\"']\n",
      "['CONJ', 'PRON', 'AUX', 'ADV', 'VERB', 'ADP', 'PRON', 'PUNCT', 'PUNCT']\n",
      "['Goodwyn', 'dutifully', 'notes', 'that', 'Baba', 'Groom', 'did', \"n't\", 'remember', 'George', 'telling', 'drunk', 'stories', '.']\n",
      "['PROPN', 'ADV', 'VERB', 'SCONJ', 'PROPN', 'PROPN', 'AUX', 'PART', 'VERB', 'PROPN', 'VERB', 'ADJ', 'NOUN', 'PUNCT']\n",
      "['But', 'that', 'means', 'nothing', ',', 'since', 'they', 'were', \"n't\", 'the', 'sort', 'of', 'things', 'guys', 'like', 'Bush', 'told', 'the', '\"', 'girls', '\"', '.']\n",
      "['CONJ', 'PRON', 'VERB', 'PRON', 'PUNCT', 'SCONJ', 'PRON', 'VERB', 'PART', 'DET', 'NOUN', 'ADP', 'NOUN', 'NOUN', 'ADP', 'PROPN', 'VERB', 'DET', 'PUNCT', 'NOUN', 'PUNCT', 'PUNCT']\n",
      "['He', 'was', 'trying', 'to', 'buddy', 'with', 'Archibald', 'and', 'impress', 'him', '.']\n",
      "['PRON', 'AUX', 'VERB', 'PART', 'VERB', 'ADP', 'PROPN', 'CONJ', 'VERB', 'PRON', 'PUNCT']\n",
      "['Again', ',', 'decades', 'of', 'this', 'sort', 'of', 'behavior', 'do', 'not', 'leave', 'a', 'person', 'untouched', '.']\n",
      "['ADV', 'PUNCT', 'NOUN', 'ADP', 'DET', 'NOUN', 'ADP', 'NOUN', 'AUX', 'PART', 'VERB', 'DET', 'NOUN', 'ADJ', 'PUNCT']\n",
      "['Our', 'world', 'is', 'in', 'crisis', 'and', 'our', 'Republic', 'is', 'in', 'danger', '.']\n",
      "['PRON', 'NOUN', 'VERB', 'ADP', 'NOUN', 'CONJ', 'PRON', 'NOUN', 'VERB', 'ADP', 'NOUN', 'PUNCT']\n",
      "['It', 'should', 'not', 'be', 'left', 'in', 'the', 'hands', 'of', 'a', 'man', 'who', 'spent', 'his', 'life', 'like', 'this', '.']\n",
      "['PRON', 'AUX', 'PART', 'AUX', 'VERB', 'ADP', 'DET', 'NOUN', 'ADP', 'DET', 'NOUN', 'PRON', 'VERB', 'PRON', 'NOUN', 'ADP', 'PRON', 'PUNCT']\n",
      "['When', 'the', 'cities', 'are', 'on', 'fire', 'with', 'the', 'burning', 'flesh', 'of', 'men']\n",
      "['ADV', 'DET', 'NOUN', 'VERB', 'ADP', 'NOUN', 'ADP', 'DET', 'VERB', 'NOUN', 'ADP', 'NOUN']\n",
      "['Just', 'remember', 'that', 'death', 'is', 'not', 'the', 'end']\n",
      "['ADV', 'VERB', 'SCONJ', 'NOUN', 'VERB', 'PART', 'DET', 'NOUN']\n",
      "['And', 'you', 'search', 'in', 'vain', 'to', 'find', 'just', 'one', 'law', 'abiding', 'citizen']\n",
      "['CONJ', 'PRON', 'VERB', 'ADP', 'ADJ', 'PART', 'VERB', 'ADV', 'NUM', 'NOUN', 'VERB', 'NOUN']\n",
      "['Just', 'remember', 'that', 'death', 'is', 'not', 'the', 'end', '-', 'Bob', 'Dylan']\n",
      "['ADV', 'VERB', 'SCONJ', 'NOUN', 'VERB', 'PART', 'DET', 'NOUN', 'PUNCT', 'PROPN', 'PROPN']\n",
      "['Afraid', 'I', 'do', \"n't\", 'have', 'time', 'today', 'to', 'discuss', 'these', ',', 'but', 'some', 'stories', 'need', 'attention', ':']\n",
      "['ADJ', 'PRON', 'AUX', 'PART', 'VERB', 'NOUN', 'NOUN', 'PART', 'VERB', 'PRON', 'PUNCT', 'CONJ', 'DET', 'NOUN', 'VERB', 'NOUN', 'PUNCT']\n",
      "['From', 'Wednesday', \"'s\", 'Mirror', 'the', 'headline', ',', '\"', 'Have', '200,000', 'AK47s', 'Fallen', 'Into', 'the', 'Hands', 'of', 'Iraq', 'Terrorists', '?', '\"']\n",
      "['ADP', 'PROPN', 'PART', 'PROPN', 'DET', 'NOUN', 'PUNCT', 'PUNCT', 'AUX', 'NUM', 'NOUN', 'VERB', 'ADP', 'DET', 'NOUN', 'ADP', 'PROPN', 'NOUN', 'PUNCT', 'PUNCT']\n",
      "['(', 'also', 'see', 'this', 'thread', 'on', 'the', 'RI', 'discussion', 'board', ')', ':']\n",
      "['PUNCT', 'ADV', 'VERB', 'DET', 'NOUN', 'ADP', 'DET', 'PROPN', 'NOUN', 'NOUN', 'PUNCT', 'PUNCT']\n",
      "['Some', '200,000', 'guns', 'the', 'US', 'sent', 'to', 'Iraqi', 'security', 'forces', 'may', 'have', 'been', 'smuggled', 'to', 'terrorists', ',', 'it', 'was', 'feared', 'yesterday', '.']\n",
      "['DET', 'NUM', 'NOUN', 'DET', 'PROPN', 'VERB', 'ADP', 'ADJ', 'NOUN', 'NOUN', 'AUX', 'AUX', 'AUX', 'VERB', 'ADP', 'NOUN', 'PUNCT', 'PRON', 'AUX', 'VERB', 'NOUN', 'PUNCT']\n",
      "['The', '99', '-', 'tonne', 'cache', 'of', 'AK47s', 'was', 'to', 'have', 'been', 'secretly', 'flown', 'out', 'from', 'a', 'US', 'base', 'in', 'Bosnia', '.']\n",
      "['DET', 'NUM', 'PUNCT', 'NOUN', 'NOUN', 'ADP', 'NOUN', 'VERB', 'PART', 'AUX', 'AUX', 'ADV', 'VERB', 'ADV', 'ADP', 'DET', 'PROPN', 'NOUN', 'ADP', 'PROPN', 'PUNCT']\n",
      "['But', 'the', 'four', 'planeloads', 'of', 'arms', 'have', 'vanished', '.']\n",
      "['CONJ', 'DET', 'NUM', 'NOUN', 'ADP', 'NOUN', 'AUX', 'VERB', 'PUNCT']\n",
      "['Orders', 'for', 'the', 'deal', 'to', 'go', 'ahead', 'were', 'given', 'by', 'the', 'US', 'Department', 'of', 'Defense', '.']\n",
      "['NOUN', 'SCONJ', 'DET', 'NOUN', 'PART', 'VERB', 'ADV', 'AUX', 'VERB', 'ADP', 'DET', 'PROPN', 'PROPN', 'ADP', 'PROPN', 'PUNCT']\n",
      "['But', 'the', 'work', 'was', 'contracted', 'out', 'via', 'a', 'complex', 'web', 'of', 'private', 'arms', 'traders', '.']\n",
      "['CONJ', 'DET', 'NOUN', 'AUX', 'VERB', 'ADP', 'ADP', 'DET', 'ADJ', 'NOUN', 'ADP', 'ADJ', 'NOUN', 'NOUN', 'PUNCT']\n",
      "['And', 'the', 'Moldovan', 'airline', 'used', 'to', 'transport', 'the', 'shipment', 'was', 'blasted', 'by', 'the', 'UN', 'in', '2003', 'for', 'smuggling', 'arms', 'to', 'Liberia', ',', 'human', 'rights', 'group', 'Amnesty', 'has', 'discovered', '.']\n",
      "['CONJ', 'DET', 'ADJ', 'NOUN', 'VERB', 'PART', 'VERB', 'DET', 'NOUN', 'AUX', 'VERB', 'ADP', 'DET', 'PROPN', 'ADP', 'NUM', 'SCONJ', 'VERB', 'NOUN', 'ADP', 'PROPN', 'PUNCT', 'ADJ', 'NOUN', 'NOUN', 'PROPN', 'AUX', 'VERB', 'PUNCT']\n",
      "['It', 'follows', 'a', 'separate', 'probe', 'claiming', 'that', 'thousands', 'of', 'guns', 'meant', 'for', 'Iraq', \"'s\", 'police', 'and', 'army', 'instead', 'went', 'to', 'al', '-', 'Qaeda', '.']\n",
      "['PRON', 'VERB', 'DET', 'ADJ', 'NOUN', 'VERB', 'SCONJ', 'NOUN', 'ADP', 'NOUN', 'VERB', 'ADP', 'PROPN', 'PART', 'NOUN', 'CONJ', 'NOUN', 'ADV', 'VERB', 'ADP', 'PROPN', 'PUNCT', 'PROPN', 'PUNCT']\n",
      "['Amnesty', 'chief', 'spokesman', 'Mike', 'Blakemore', 'said', ':', '\"', 'It', \"'s\", 'unbelievable', 'that', 'no', 'one', 'can', 'account', 'for', '200,000', 'assault', 'rifles', '.']\n",
      "['PROPN', 'ADJ', 'NOUN', 'PROPN', 'PROPN', 'VERB', 'PUNCT', 'PUNCT', 'PRON', 'VERB', 'ADJ', 'SCONJ', 'DET', 'NOUN', 'AUX', 'VERB', 'ADP', 'NUM', 'NOUN', 'NOUN', 'PUNCT']\n",
      "['If', 'these', 'weapons', 'have', 'gone', 'missing', 'it', \"'s\", 'a', 'terrifying', 'prospect', '.', '\"']\n",
      "['SCONJ', 'DET', 'NOUN', 'AUX', 'VERB', 'ADJ', 'PRON', 'VERB', 'DET', 'ADJ', 'NOUN', 'PUNCT', 'PUNCT']\n",
      "['American', 'defence', 'chiefs', 'hired', 'a', 'US', 'firm', 'to', 'take', 'the', 'guns', ',', 'from', 'the', '90s', 'Bosnian', 'war', ',', 'to', 'Iraq', '.']\n",
      "['ADJ', 'NOUN', 'NOUN', 'VERB', 'DET', 'PROPN', 'NOUN', 'PART', 'VERB', 'DET', 'NOUN', 'PUNCT', 'ADP', 'DET', 'NOUN', 'ADJ', 'NOUN', 'PUNCT', 'ADP', 'PROPN', 'PUNCT']\n",
      "['But', 'air', 'traffic', 'controllers', 'in', 'Baghdad', 'have', 'no', 'record', 'of', 'the', 'flights', ',', 'which', 'supposedly', 'took', 'off', 'between', 'July', '2004', 'and', 'July', '2005', '.']\n",
      "['CONJ', 'NOUN', 'NOUN', 'NOUN', 'ADP', 'PROPN', 'VERB', 'DET', 'NOUN', 'ADP', 'DET', 'NOUN', 'PUNCT', 'PRON', 'ADV', 'VERB', 'ADP', 'ADP', 'PROPN', 'NUM', 'CONJ', 'PROPN', 'NUM', 'PUNCT']\n",
      "['A', 'coalition', 'forces', 'spokesman', 'confirmed', 'they', 'had', 'not', 'received', '\"', 'any', 'weapons', 'from', 'Bosnia', '\"', 'and', 'added', 'they', 'were', '\"', 'not', 'aware', 'of', 'any', 'purchases', 'for', 'Iraq', 'from', 'Bosnia', '\"', '.']\n",
      "['DET', 'NOUN', 'NOUN', 'NOUN', 'VERB', 'PRON', 'AUX', 'PART', 'VERB', 'PUNCT', 'DET', 'NOUN', 'ADP', 'PROPN', 'PUNCT', 'CONJ', 'VERB', 'PRON', 'VERB', 'PUNCT', 'PART', 'ADJ', 'ADP', 'DET', 'NOUN', 'ADP', 'PROPN', 'ADP', 'PROPN', 'PUNCT', 'PUNCT']\n",
      "['Nato', 'and', 'US', 'officials', 'have', 'already', 'voiced', 'fears', 'that', 'Bosnian', 'arms', '-', 'sold', 'by', 'US', ',', 'British', 'and', 'Swiss', 'firms', '-', 'are', 'being', 'passed', 'to', 'insurgents', '.']\n",
      "['PROPN', 'CONJ', 'PROPN', 'NOUN', 'AUX', 'ADV', 'VERB', 'NOUN', 'SCONJ', 'ADJ', 'NOUN', 'PUNCT', 'VERB', 'ADP', 'PROPN', 'PUNCT', 'ADJ', 'CONJ', 'ADJ', 'NOUN', 'PUNCT', 'AUX', 'AUX', 'VERB', 'ADP', 'NOUN', 'PUNCT']\n",
      "['A', 'NATO', 'spokesman', 'said', ':', '\"', 'There', \"'s\", 'no', 'tracking', 'mechanism', 'to', 'ensure', 'they', 'do', \"n't\", 'fall', 'into', 'the', 'wrong', 'hands', '.']\n",
      "['DET', 'PROPN', 'NOUN', 'VERB', 'PUNCT', 'PUNCT', 'PRON', 'VERB', 'DET', 'NOUN', 'NOUN', 'PART', 'VERB', 'PRON', 'AUX', 'PART', 'VERB', 'ADP', 'DET', 'ADJ', 'NOUN', 'PUNCT']\n",
      "['There', 'are', 'concerns', 'that', 'some', 'may', 'have', 'been', 'siphoned', 'off', '.', '\"']\n",
      "['PRON', 'VERB', 'NOUN', 'SCONJ', 'DET', 'AUX', 'AUX', 'AUX', 'VERB', 'ADP', 'PUNCT', 'PUNCT']\n",
      "['This', 'year', 'a', 'newspaper', 'claimed', 'two', 'UK', 'firms', 'were', 'involved', 'in', 'a', 'deal', 'in', 'which', 'thousands', 'of', 'guns', 'for', 'Iraqi', 'forces', 'were', 're-routed', 'to', 'al', '-', 'Qaeda', '.']\n",
      "['DET', 'NOUN', 'DET', 'NOUN', 'VERB', 'NUM', 'PROPN', 'NOUN', 'VERB', 'ADJ', 'ADP', 'DET', 'NOUN', 'ADP', 'PRON', 'NOUN', 'ADP', 'NOUN', 'ADP', 'ADJ', 'NOUN', 'AUX', 'VERB', 'ADP', 'PROPN', 'PUNCT', 'PROPN', 'PUNCT']\n",
      "['The', 'Moldovan', 'airline', 'is', 'Aerocom', ',', 'and', 'yes', ',', 'it', \"'s\", 'one', 'of', 'Victor', 'Bout', \"'s\", '.']\n",
      "['DET', 'ADJ', 'NOUN', 'VERB', 'PROPN', 'PUNCT', 'CONJ', 'INTJ', 'PUNCT', 'PRON', 'VERB', 'NUM', 'ADP', 'PROPN', 'PROPN', 'PART', 'PUNCT']\n",
      "['It', \"'s\", 'always', 'a', 'bang', '-', 'your', '-', 'head', '-', 'against', '-', 'the', '-', 'wall', 'moment', ',', 'reading', 'again', 'the', 'play', 'the', 'incompetence', 'theory', 'receives', ',', 'even', 'from', 'some', 'of', 'the', 'Administration', \"'s\", 'harshest', 'mainstream', 'critics', '.']\n",
      "['PRON', 'VERB', 'ADV', 'DET', 'VERB', 'PUNCT', 'PRON', 'PUNCT', 'NOUN', 'PUNCT', 'ADP', 'PUNCT', 'DET', 'PUNCT', 'NOUN', 'NOUN', 'PUNCT', 'VERB', 'ADV', 'DET', 'NOUN', 'DET', 'NOUN', 'NOUN', 'VERB', 'PUNCT', 'ADV', 'ADP', 'DET', 'ADP', 'DET', 'NOUN', 'PART', 'ADJ', 'ADJ', 'NOUN', 'PUNCT']\n",
      "['But', 'then', ',', 'even', 'to', 'talk', 'of', 'an', '\"', 'administration', '\"', 'may', 'be', 'misdirection', 'at', 'this', 'point', ',', 'given', 'how', 'little', 'representative', 'government', 'means', 'in', 'the', 'United', 'States', 'these', 'days', ',', 'and', 'how', 'much', 'of', '\"', 'national', 'security', '\"', 'has', 'been', 'privatized', 'into', 'a', 'global', 'gangland', 'of', 'drugs', 'and', 'guns', '.']\n",
      "['CONJ', 'ADV', 'PUNCT', 'ADV', 'PART', 'VERB', 'ADP', 'DET', 'PUNCT', 'NOUN', 'PUNCT', 'AUX', 'VERB', 'NOUN', 'ADP', 'DET', 'NOUN', 'PUNCT', 'VERB', 'ADV', 'ADJ', 'ADJ', 'NOUN', 'VERB', 'ADP', 'DET', 'PROPN', 'PROPN', 'DET', 'NOUN', 'PUNCT', 'CONJ', 'ADV', 'ADJ', 'ADP', 'PUNCT', 'ADJ', 'NOUN', 'PUNCT', 'AUX', 'AUX', 'VERB', 'ADP', 'DET', 'ADJ', 'NOUN', 'ADP', 'NOUN', 'CONJ', 'NOUN', 'PUNCT']\n",
      "['Like', 'the', 'tens', 'of', 'billions', 'of', 'dollars', 'that', 'have', 'been', '\"', 'lost', '\"', 'in', 'Iraq', ',', 'planeloads', 'of', 'arms', 'do', \"n't\", 'just', '\"', 'vanish', '\"', ';', 'not', 'when', 'the', 'Pentagon', 'contracts', 'the', 'work', 'to', 'an', 'international', 'criminal', 'of', 'Bout', \"'s\", 'untouchable', 'stature', '.']\n",
      "['ADP', 'DET', 'NOUN', 'ADP', 'NOUN', 'ADP', 'NOUN', 'PRON', 'AUX', 'AUX', 'PUNCT', 'VERB', 'PUNCT', 'ADP', 'PROPN', 'PUNCT', 'NOUN', 'ADP', 'NOUN', 'AUX', 'PART', 'ADV', 'PUNCT', 'VERB', 'PUNCT', 'PUNCT', 'ADV', 'ADV', 'DET', 'PROPN', 'VERB', 'DET', 'NOUN', 'ADP', 'DET', 'ADJ', 'NOUN', 'ADP', 'PROPN', 'PART', 'ADJ', 'NOUN', 'PUNCT']\n",
      "['But', 'Bout', \"'s\", 'name', 'is', \"n't\", 'likely', 'to', 'be', 'mentioned', 'in', 'whatever', 'coverage', 'this', 'story', 'receives', ',', 'before', 'it', 'sinks', 'like', 'so', 'many', 'others', 'beneath', 'the', 'media', \"'s\", 'frothing', 'triviality', '.']\n",
      "['CONJ', 'PROPN', 'PART', 'NOUN', 'VERB', 'PART', 'ADJ', 'PART', 'AUX', 'VERB', 'SCONJ', 'DET', 'NOUN', 'DET', 'NOUN', 'VERB', 'PUNCT', 'SCONJ', 'PRON', 'VERB', 'ADP', 'ADV', 'ADJ', 'NOUN', 'ADP', 'DET', 'NOUN', 'PART', 'VERB', 'NOUN', 'PUNCT']\n",
      "['Meanwhile', ',', 'a', 'decision', \"'s\", 'been', 'reached', 'in', 'the', 'trial', 'of', 'Toledo', 'priest', 'Gerald', 'Robinson', '.']\n",
      "['ADV', 'PUNCT', 'DET', 'NOUN', 'AUX', 'AUX', 'VERB', 'ADP', 'DET', 'NOUN', 'ADP', 'PROPN', 'NOUN', 'PROPN', 'PROPN', 'PUNCT']\n",
      "['And', 'it', \"'s\", 'guilty', ':']\n",
      "['CONJ', 'PRON', 'VERB', 'NOUN', 'PUNCT']\n",
      "['The', 'Rev.', 'Gerald', 'Robinson', 'appeared', 'stony', '-', 'faced', 'as', 'the', 'jury', \"'s\", 'guilty', 'verdict', 'was', 'read', ',', 'and', 'he', 'blinked', 'repeatedly', 'and', 'glanced', 'at', 'his', 'lawyers', 'before', 'being', 'led', 'away', 'in', 'handcuffs', '.']\n",
      "['DET', 'PROPN', 'PROPN', 'PROPN', 'VERB', 'ADJ', 'PUNCT', 'ADJ', 'SCONJ', 'DET', 'NOUN', 'PART', 'NOUN', 'NOUN', 'AUX', 'VERB', 'PUNCT', 'CONJ', 'PRON', 'VERB', 'ADV', 'CONJ', 'VERB', 'ADP', 'PRON', 'NOUN', 'SCONJ', 'AUX', 'VERB', 'ADV', 'ADP', 'NOUN', 'PUNCT']\n",
      "['...']\n",
      "['SYM']\n",
      "['The', 'crime', 'occurred', 'in', 'the', 'sacristy', 'adjoining', 'the', 'hospital', 'chapel', 'in', 'downtown', 'Toledo', 'on', 'the', 'Saturday', 'before', 'Easter', 'in', '1980', '.']\n",
      "['DET', 'NOUN', 'VERB', 'ADP', 'DET', 'NOUN', 'VERB', 'DET', 'NOUN', 'NOUN', 'ADP', 'ADJ', 'NOUN', 'ADP', 'DET', 'PROPN', 'ADP', 'PROPN', 'ADP', 'NUM', 'PUNCT']\n",
      "['Investigators', 'said', 'the', 'nun', ',', 'Margaret', 'Ann', 'Pahl', ',', '71', ',', 'was', 'strangled', 'and', 'then', 'stabbed', ',', 'with', 'nine', 'wounds', 'on', 'her', 'chest', 'forming', 'the', 'shape', 'of', 'an', 'inverted', 'cross', ',', 'a', 'well', '-', 'recognized', 'Satanic', 'symbol', '.']\n",
      "['NOUN', 'VERB', 'DET', 'NOUN', 'PUNCT', 'PROPN', 'PROPN', 'PROPN', 'PUNCT', 'NUM', 'PUNCT', 'AUX', 'VERB', 'CONJ', 'ADV', 'VERB', 'PUNCT', 'SCONJ', 'NUM', 'NOUN', 'ADP', 'PRON', 'NOUN', 'VERB', 'DET', 'NOUN', 'ADP', 'DET', 'VERB', 'NOUN', 'PUNCT', 'DET', 'ADV', 'PUNCT', 'VERB', 'ADJ', 'NOUN', 'PUNCT']\n",
      "['An', 'altar', 'cloth', 'was', 'draped', 'over', 'her', 'half', '-', 'naked', 'body', ',', 'which', 'was', 'posed', 'as', 'if', 'she', 'had', 'been', 'sexually', 'assaulted', '.']\n",
      "['DET', 'NOUN', 'NOUN', 'AUX', 'VERB', 'ADP', 'PRON', 'ADV', 'PUNCT', 'ADJ', 'NOUN', 'PUNCT', 'PRON', 'AUX', 'VERB', 'SCONJ', 'SCONJ', 'PRON', 'AUX', 'AUX', 'ADV', 'VERB', 'PUNCT']\n",
      "['\"', 'It', 'was', 'about', 'how', 'he', 'could', 'humiliate', 'her', 'the', 'most', ',', '\"', 'prosecutor', 'Dean', 'Mandros', 'said', 'in', 'closing', 'arguments', '.']\n",
      "['PUNCT', 'PRON', 'VERB', 'SCONJ', 'ADV', 'PRON', 'AUX', 'VERB', 'PRON', 'DET', 'ADV', 'PUNCT', 'PUNCT', 'NOUN', 'PROPN', 'PROPN', 'VERB', 'ADP', 'VERB', 'NOUN', 'PUNCT']\n",
      "['\"', 'He', 'left', 'a', 'message', 'for', 'everyone', 'to', 'see', '...', 'maybe', 'to', 'God', 'himself', '.', '\"']\n",
      "['PUNCT', 'PRON', 'VERB', 'DET', 'NOUN', 'SCONJ', 'PRON', 'PART', 'VERB', 'PUNCT', 'ADV', 'ADP', 'PROPN', 'PRON', 'PUNCT', 'PUNCT']\n",
      "['After', 'the', 'sentencing', 'one', 'of', 'Robinson', \"'s\", 'tearful', 'supporters', '\"', 'turned', 'to', 'Claudia', 'Vercellotti', ',', 'a', 'local', 'leader', 'of', 'the', 'Survivors', 'Network', 'for', 'Those', 'Abused', 'by', 'Priests', '[', 'SNAP', ']', ',', 'who', 'had', 'helped', 'reopen', 'the', 'case', ',', 'and', 'told', 'her', ',', \"'\", 'I', 'hope', 'you', 'rot', 'in', 'hell', '!', \"'\", '\"']\n",
      "['ADP', 'DET', 'NOUN', 'NUM', 'ADP', 'PROPN', 'PART', 'ADJ', 'NOUN', 'PUNCT', 'VERB', 'ADP', 'PROPN', 'PROPN', 'PUNCT', 'DET', 'ADJ', 'NOUN', 'ADP', 'DET', 'PROPN', 'PROPN', 'ADP', 'PRON', 'VERB', 'ADP', 'PROPN', 'PUNCT', 'PROPN', 'PUNCT', 'PUNCT', 'PRON', 'AUX', 'VERB', 'VERB', 'DET', 'NOUN', 'PUNCT', 'CONJ', 'VERB', 'PRON', 'PUNCT', 'PUNCT', 'PRON', 'VERB', 'PRON', 'VERB', 'ADP', 'NOUN', 'PUNCT', 'PUNCT', 'PUNCT']\n",
      "['From', 'SNAP', \"'s\", 'statement', 'on', 'the', 'Robinson', 'conviction', ':']\n",
      "['ADP', 'PROPN', 'PART', 'NOUN', 'ADP', 'DET', 'PROPN', 'NOUN', 'PUNCT']\n",
      "['More', 'than', 'ever', ',', 'police', 'and', 'prosecutors', 'have', 'the', 'tools', 'and', 'the', 'will', 'to', 'go', 'after', 'horrific', 'crimes', ',', 'even', 'when', 'the', 'defendants', 'are', 'seemingly', 'powerful', 'individuals', 'or', 'institutions', '.']\n",
      "['ADV', 'ADP', 'ADV', 'PUNCT', 'NOUN', 'CONJ', 'NOUN', 'VERB', 'DET', 'NOUN', 'CONJ', 'DET', 'NOUN', 'PART', 'VERB', 'ADP', 'ADJ', 'NOUN', 'PUNCT', 'ADV', 'ADV', 'DET', 'NOUN', 'VERB', 'ADV', 'ADJ', 'NOUN', 'CONJ', 'NOUN', 'PUNCT']\n",
      "['When', 'victims', 'and', 'witnesses', 'stay', 'silent', ',', 'nothing', 'changes', '.']\n",
      "['ADV', 'NOUN', 'CONJ', 'NOUN', 'VERB', 'ADJ', 'PUNCT', 'PRON', 'VERB', 'PUNCT']\n",
      "['When', 'victims', 'and', 'witnesses', 'speak', 'up', ',', 'at', 'least', 'sometimes', 'a', 'child', 'is', 'protected', ',', 'the', 'truth', 'is', 'exposed', ',', 'and', 'justice', 'is', 'done', '.']\n",
      "['ADV', 'NOUN', 'CONJ', 'NOUN', 'VERB', 'ADP', 'PUNCT', 'ADV', 'ADV', 'ADV', 'DET', 'NOUN', 'AUX', 'VERB', 'PUNCT', 'DET', 'NOUN', 'AUX', 'VERB', 'PUNCT', 'CONJ', 'NOUN', 'AUX', 'VERB', 'PUNCT']\n",
      "['The', 'murder', 'weapon', ',', 'Robinson', \"'s\", 'letter', 'opener', ':']\n",
      "['DET', 'NOUN', 'NOUN', 'PUNCT', 'PROPN', 'PART', 'NOUN', 'NOUN', 'PUNCT']\n",
      "['Finally', ',', 'from', 'an', 'email', ',', 'a', 'follow', '-', 'up', 'on', 'the', 'reopening', 'of', 'the', 'investigation', 'into', 'the', 'Atlanta', 'Child', 'Murders', ':']\n",
      "['ADV', 'PUNCT', 'ADP', 'DET', 'NOUN', 'PUNCT', 'DET', 'NOUN', 'PUNCT', 'NOUN', 'ADP', 'DET', 'NOUN', 'ADP', 'DET', 'NOUN', 'ADP', 'DET', 'PROPN', 'NOUN', 'NOUN', 'PUNCT']\n",
      "['Dekalb', 'County', 'Police', 'Chief', 'Louis', 'Graham', '...', 'the', 'man', 'who', 'reopened', 'the', 'investigations', 'last', 'year', ',', 'is', 'mysteriously', 'stepping', 'down', '.']\n",
      "['PROPN', 'PROPN', 'PROPN', 'PROPN', 'PROPN', 'PROPN', 'PUNCT', 'DET', 'NOUN', 'PRON', 'VERB', 'DET', 'NOUN', 'ADJ', 'NOUN', 'PUNCT', 'AUX', 'ADV', 'VERB', 'ADV', 'PUNCT']\n",
      "['And', 'of', 'all', 'the', 'people', 'who', 'the', 'county', 'is', 'getting', 'to', 'find', 'a', 'replacement', '...', 'is', 'none', 'other', 'than', 'Lee', 'Brown', ',', 'the', 'original', 'supervisor', 'of', 'the', 'Atlanta', 'PD', ',', 'who', 'was', 'in', 'office', 'during', 'the', 'murders', 'and', 'the', 'subsequent', 'investigation', '.']\n",
      "['CONJ', 'ADP', 'DET', 'DET', 'NOUN', 'PRON', 'DET', 'NOUN', 'AUX', 'VERB', 'PART', 'VERB', 'DET', 'NOUN', 'PUNCT', 'VERB', 'NOUN', 'ADJ', 'ADP', 'PROPN', 'PROPN', 'PUNCT', 'DET', 'ADJ', 'NOUN', 'ADP', 'DET', 'PROPN', 'PROPN', 'PUNCT', 'PRON', 'VERB', 'ADP', 'NOUN', 'ADP', 'DET', 'NOUN', 'CONJ', 'DET', 'ADJ', 'NOUN', 'PUNCT']\n",
      "['SNAP', 'is', 'right', 'in', 'part', '.']\n",
      "['PROPN', 'VERB', 'ADJ', 'ADP', 'ADJ', 'PUNCT']\n",
      "['Police', 'and', 'prosecutors', 'have', 'the', 'tools', '.']\n",
      "['NOUN', 'CONJ', 'NOUN', 'VERB', 'DET', 'NOUN', 'PUNCT']\n",
      "['The', 'will', 'is', 'another', 'matter', '.']\n",
      "['DET', 'NOUN', 'VERB', 'DET', 'NOUN', 'PUNCT']\n",
      "['Some', 'do', ',', 'individually', '.']\n",
      "['DET', 'AUX', 'PUNCT', 'ADV', 'PUNCT']\n",
      "['But', 'institutionally', '?']\n",
      "['CONJ', 'ADV', 'PUNCT']\n",
      "['That', \"'s\", 'still', 'the', 'domain', 'of', 'those', 'who', 'do', \"n't\", '.']\n",
      "['PRON', 'VERB', 'ADV', 'DET', 'NOUN', 'ADP', 'PRON', 'PRON', 'VERB', 'PART', 'PUNCT']\n",
      "['lots', 'of', 'important', 'stories', 'out', 'there', 'today', 'jeff', '....', 'thank', 'god', 'and', 'a', 'few', 'good', 'souls', 'for', 'that', 'conviction', '.']\n",
      "['NOUN', 'ADP', 'ADJ', 'NOUN', 'ADV', 'ADV', 'NOUN', 'PROPN', 'PUNCT', 'VERB', 'PROPN', 'CONJ', 'DET', 'ADJ', 'ADJ', 'NOUN', 'ADP', 'DET', 'NOUN', 'PUNCT']\n",
      "['Have', 'you', 'sent', 'this', 'to', 'congress', 'yet', '?']\n",
      "['AUX', 'PRON', 'VERB', 'PRON', 'ADP', 'PROPN', 'ADV', 'PUNCT']\n",
      "['talk', 'about', 'law', 'enforcement', 'not', 'having', 'the', 'will', '...']\n",
      "['VERB', 'SCONJ', 'NOUN', 'NOUN', 'ADV', 'VERB', 'DET', 'NOUN', 'PUNCT']\n",
      "['CRACKDOWN', 'ON', 'POLYGAMY', 'GROUP']\n",
      "['NOUN', 'ADP', 'NOUN', 'NOUN']\n",
      "['Small', 'polygamous', 'groups', 'have', 'existed', 'in', 'the', 'southwestern', 'US', 'under', 'the', 'watchful', 'yet', 'fairly', 'benign', 'eye', 'of', 'authorities', 'ever', 'since', 'a', 'sect', 'known', 'as', 'the', 'Fundamentalist', 'Latter', 'Day', 'Saints', '(', 'FLDS', ')', 'separated', 'itself', 'from', 'mainstream', 'Mormonism', 'in', '1890', '.']\n",
      "['ADJ', 'ADJ', 'NOUN', 'AUX', 'VERB', 'ADP', 'DET', 'ADJ', 'PROPN', 'ADP', 'DET', 'ADJ', 'CONJ', 'ADV', 'ADJ', 'NOUN', 'ADP', 'NOUN', 'ADV', 'SCONJ', 'DET', 'NOUN', 'VERB', 'ADP', 'DET', 'PROPN', 'PROPN', 'PROPN', 'PROPN', 'PUNCT', 'PROPN', 'PUNCT', 'VERB', 'PRON', 'ADP', 'ADJ', 'PROPN', 'ADP', 'NUM', 'PUNCT']\n",
      "['...']\n",
      "['SYM']\n",
      "['Now', ',', 'FLDS', 'leader', 'Warren', 'Jeffs', 'has', 'been', 'added', 'to', 'the', 'FBI', \"'s\", 'list', 'of', '\"', 'Ten', 'Most', 'Wanted', 'Fugitives', ',', '\"', 'a', 'move', 'that', 'caps', 'law', 'enforcement', \"'s\", 'dramatic', 'change', 'of', 'approach', 'toward', 'the', 'polygamous', 'group', 'in', 'recent', 'years', '...', '[', 'because', 'of', ']', 'the', 'impact', 'that', 'the', 'group', \"'s\", 'practices', ',', 'law', 'enforcement', 'officials', 'say', ',', 'are', 'having', 'on', 'the', 'most', 'vulnerable', 'within', 'the', 'sect', ',', 'particularly', 'children', 'and', 'women', '.']\n",
      "['ADV', 'PUNCT', 'PROPN', 'NOUN', 'PROPN', 'PROPN', 'AUX', 'AUX', 'VERB', 'ADP', 'DET', 'PROPN', 'PART', 'NOUN', 'ADP', 'PUNCT', 'NUM', 'ADV', 'VERB', 'NOUN', 'PUNCT', 'PUNCT', 'DET', 'NOUN', 'PRON', 'VERB', 'NOUN', 'NOUN', 'PART', 'ADJ', 'NOUN', 'ADP', 'NOUN', 'ADP', 'DET', 'ADJ', 'NOUN', 'ADP', 'ADJ', 'NOUN', 'PUNCT', 'PUNCT', 'ADP', 'ADP', 'PUNCT', 'DET', 'NOUN', 'PRON', 'DET', 'NOUN', 'PART', 'NOUN', 'PUNCT', 'NOUN', 'NOUN', 'NOUN', 'VERB', 'PUNCT', 'AUX', 'VERB', 'ADP', 'DET', 'ADV', 'ADJ', 'ADP', 'DET', 'NOUN', 'PUNCT', 'ADV', 'NOUN', 'CONJ', 'NOUN', 'PUNCT']\n",
      "['When', 'the', 'FLDS', 'under', 'Mr.', 'Jeffs', '(', 'and', 'his', 'father', 'before', 'him', ')', 'grew', 'to', 'some', '10,000', 'followers', 'in', 'several', 'southwestern', 'communities', 'with', 'estimated', 'assets', 'of', '$', '110', 'million', ';', 'when', 'it', 'became', 'clear', 'that', 'government', 'officials', ',', 'school', 'authorities', ',', 'and', 'police', 'in', 'those', 'communities', 'had', 'become', 'intertwined', 'with', 'the', 'sect', ';', 'when', 'ex-members', 'increasingly', 'reported', 'child', 'and', 'sexual', 'abuse', 'charges', '(', 'mainly', 'involving', 'underage', 'girls', 'forced', 'to', 'marry', 'older', 'men', ')', ';', 'and', 'when', 'the', 'sect', 'began', 'to', 'use', 'secluded', 'compounds', ',', 'state', 'and', 'federal', 'authorities', 'started', 'to', 'crack', 'down', 'more', 'vigorously', '.']\n",
      "['ADV', 'DET', 'PROPN', 'ADP', 'PROPN', 'PROPN', 'PUNCT', 'CONJ', 'PRON', 'NOUN', 'ADP', 'PRON', 'PUNCT', 'VERB', 'ADP', 'DET', 'NUM', 'NOUN', 'ADP', 'ADJ', 'ADJ', 'NOUN', 'ADP', 'VERB', 'NOUN', 'ADP', 'SYM', 'NUM', 'NUM', 'PUNCT', 'ADV', 'PRON', 'VERB', 'ADJ', 'SCONJ', 'NOUN', 'NOUN', 'PUNCT', 'NOUN', 'NOUN', 'PUNCT', 'CONJ', 'NOUN', 'ADP', 'DET', 'NOUN', 'AUX', 'VERB', 'ADJ', 'ADP', 'DET', 'NOUN', 'PUNCT', 'ADV', 'NOUN', 'ADV', 'VERB', 'NOUN', 'CONJ', 'ADJ', 'NOUN', 'NOUN', 'PUNCT', 'ADV', 'VERB', 'ADJ', 'NOUN', 'VERB', 'PART', 'VERB', 'ADJ', 'NOUN', 'PUNCT', 'PUNCT', 'CONJ', 'ADV', 'DET', 'NOUN', 'VERB', 'PART', 'VERB', 'ADJ', 'NOUN', 'PUNCT', 'NOUN', 'CONJ', 'ADJ', 'NOUN', 'VERB', 'PART', 'VERB', 'ADV', 'ADV', 'ADV', 'PUNCT']\n",
      "['...']\n",
      "['SYM']\n",
      "['Specifically', ',', 'Jeffs', 'is', 'charged', 'in', 'Utah', 'and', 'Arizona', 'with', 'sexual', 'assault', 'of', 'underage', 'girls', 'and', 'with', 'arranging', '\"', 'spiritual', '\"', 'marriages', 'for', 'girls', 'and', 'older', 'men', '.']\n",
      "['ADV', 'PUNCT', 'PROPN', 'AUX', 'VERB', 'ADP', 'PROPN', 'CONJ', 'PROPN', 'ADP', 'ADJ', 'NOUN', 'ADP', 'ADJ', 'NOUN', 'CONJ', 'SCONJ', 'VERB', 'PUNCT', 'ADJ', 'PUNCT', 'NOUN', 'ADP', 'NOUN', 'CONJ', 'ADJ', 'NOUN', 'PUNCT']\n",
      "['At', 'weekend', 'press', 'conferences', 'in', 'Salt', 'Lake', 'City', 'and', 'Phoenix', ',', 'FBI', 'and', 'state', 'officials', 'said', 'Jeffs', '\"', 'is', 'considered', 'armed', 'and', 'dangerous', 'and', 'may', 'be', 'traveling', 'with', 'armed', 'bodyguards', '.', '\"']\n",
      "['ADP', 'NOUN', 'NOUN', 'NOUN', 'ADP', 'PROPN', 'PROPN', 'PROPN', 'CONJ', 'PROPN', 'PUNCT', 'PROPN', 'CONJ', 'NOUN', 'NOUN', 'VERB', 'PROPN', 'PUNCT', 'AUX', 'VERB', 'ADJ', 'CONJ', 'ADJ', 'CONJ', 'AUX', 'AUX', 'VERB', 'ADP', 'ADJ', 'NOUN', 'PUNCT', 'PUNCT']\n",
      "['In', 'the', 'past', ',', 'he', 'has', 'talked', 'in', 'apocalyptic', 'terms', 'about', 'a', 'violent', 'end', 'to', 'the', 'world', ',', 'according', 'to', 'former', 'members', '.']\n",
      "['ADP', 'DET', 'NOUN', 'PUNCT', 'PRON', 'AUX', 'VERB', 'ADP', 'ADJ', 'NOUN', 'ADP', 'DET', 'ADJ', 'NOUN', 'ADP', 'DET', 'NOUN', 'PUNCT', 'VERB', 'ADP', 'ADJ', 'NOUN', 'PUNCT']\n",
      "['...']\n",
      "['SYM']\n",
      "['As', 'with', 'Christian', 'Identity', 'and', 'other', 'hate', '-', 'related', 'philosophies', 'tied', 'to', 'the', 'Aryan', 'Nations', 'and', 'the', 'neo-Nazi', 'Creativity', 'Movement', ',', 'Jeffs', 'has', 'preached', 'racism', 'as', 'well', '.']\n",
      "['ADP', 'ADP', 'PROPN', 'PROPN', 'CONJ', 'ADJ', 'NOUN', 'PUNCT', 'ADJ', 'NOUN', 'VERB', 'ADP', 'DET', 'PROPN', 'PROPN', 'CONJ', 'DET', 'ADJ', 'PROPN', 'PROPN', 'PUNCT', 'PROPN', 'AUX', 'VERB', 'NOUN', 'ADV', 'ADV', 'PUNCT']\n",
      "['\"', 'The', 'black', 'race', 'is', 'the', 'people', 'through', 'which', 'the', 'devil', 'has', 'always', 'been', 'able', 'to', 'bring', 'evil', 'unto', 'the', 'earth', ',', '\"', 'Jeffs', 'has', 'said', 'as', 'cited', 'by', 'the', 'Southern', 'Poverty', 'Law', 'Center', \"'s\", '\"', 'Intelligence', 'Report', '.', '\"']\n",
      "['PUNCT', 'DET', 'ADJ', 'NOUN', 'VERB', 'DET', 'NOUN', 'ADP', 'PRON', 'DET', 'NOUN', 'AUX', 'ADV', 'VERB', 'ADJ', 'PART', 'VERB', 'NOUN', 'ADP', 'DET', 'NOUN', 'PUNCT', 'PUNCT', 'PROPN', 'AUX', 'VERB', 'SCONJ', 'VERB', 'ADP', 'DET', 'PROPN', 'PROPN', 'PROPN', 'PROPN', 'PART', 'PUNCT', 'NOUN', 'NOUN', 'PUNCT', 'PUNCT']\n",
      "['An', 'editorial', 'in', 'the', 'church', '-', 'owned', 'Deseret', 'Morning', 'News', 'in', 'Salt', 'Lake', 'City', 'earlier', 'this', 'year', 'acknowledged', 'that', '\"', 'the', 'state', \"'s\", 'history', ',', 'a', 'conservative', 'belief', 'in', 'free', 'choice', ',', 'and', 'an', 'unwillingness', 'to', 'stir', 'up', 'a', 'hornet', \"'s\", 'nest', 'in', 'the', 'national', 'media', 'have', 'likely', 'all', 'contributed', 'to', 'the', 'kid', '-', 'glove', 'approach', 'lawmakers', 'and', 'law', '-', 'enforcement', 'officers', 'have', 'taken', 'when', 'dealing', 'with', 'polygamous', 'communities', '.', '\"']\n",
      "['DET', 'NOUN', 'ADP', 'DET', 'NOUN', 'PUNCT', 'VERB', 'PROPN', 'PROPN', 'PROPN', 'ADP', 'PROPN', 'PROPN', 'PROPN', 'ADV', 'DET', 'NOUN', 'VERB', 'SCONJ', 'PUNCT', 'DET', 'NOUN', 'PART', 'NOUN', 'PUNCT', 'DET', 'ADJ', 'NOUN', 'ADP', 'ADJ', 'NOUN', 'PUNCT', 'CONJ', 'DET', 'NOUN', 'PART', 'VERB', 'ADP', 'DET', 'NOUN', 'PART', 'NOUN', 'ADP', 'DET', 'ADJ', 'NOUN', 'AUX', 'ADV', 'ADV', 'VERB', 'ADP', 'DET', 'NOUN', 'PUNCT', 'NOUN', 'NOUN', 'NOUN', 'CONJ', 'NOUN', 'PUNCT', 'NOUN', 'NOUN', 'AUX', 'VERB', 'ADV', 'VERB', 'ADP', 'ADJ', 'NOUN', 'PUNCT', 'PUNCT']\n",
      "['http://www.csmonitor.com/2006/0509/p02s01-ussc.html?s=t5']\n",
      "['X']\n",
      "['Maybe', 'I', \"'m\", 'missing', 'something', 'here', ',', 'but', 'how', ',', 'exactly', ',', 'does', 'one', \"'\", 'Loose', \"'\", '200,000', \"AK47's\", '?']\n",
      "['ADV', 'PRON', 'AUX', 'VERB', 'PRON', 'ADV', 'PUNCT', 'CONJ', 'ADV', 'PUNCT', 'ADV', 'PUNCT', 'AUX', 'PRON', 'PUNCT', 'VERB', 'PUNCT', 'NUM', 'NOUN', 'PUNCT']\n",
      "['\"', 'There', \"'s\", 'no', 'tracking', 'mechanism', 'in', 'place', '\"', '?!?!?']\n",
      "['PUNCT', 'PRON', 'VERB', 'DET', 'NOUN', 'NOUN', 'ADP', 'NOUN', 'PUNCT', 'PUNCT']\n",
      "['Never', 'mind', '.']\n",
      "['INTJ', 'INTJ', 'PUNCT']\n",
      "['No', 'need', 'to', 'worry', '.']\n",
      "['DET', 'NOUN', 'PART', 'VERB', 'PUNCT']\n",
      "['I', \"'m\", 'sure', 'this', 'kind', 'of', 'thing', 'goes', 'on', 'all', 'the', 'time', '.']\n",
      "['PRON', 'VERB', 'ADJ', 'DET', 'NOUN', 'ADP', 'NOUN', 'VERB', 'ADV', 'DET', 'DET', 'NOUN', 'PUNCT']\n",
      "['We', 'now', 'return', 'you', 'to', 'your', 'regularly', 'scheduled', 'programming', '....']\n",
      "['PRON', 'ADV', 'VERB', 'PRON', 'ADP', 'PRON', 'ADV', 'VERB', 'NOUN', 'PUNCT']\n",
      "['just', 'go', 'here', ',', 'it', 's', 'simply', 'amazing']\n",
      "['ADV', 'VERB', 'ADV', 'PUNCT', 'PRON', 'VERB', 'ADV', 'ADJ']\n",
      "['The', 'Raw', 'Story']\n",
      "['DET', 'PROPN', 'PROPN']\n",
      "['i', 'count', 'like', '14', 'explosive', 'headlines', '.']\n",
      "['PRON', 'VERB', 'INTJ', 'NUM', 'ADJ', 'NOUN', 'PUNCT']\n",
      "['Then', ',', 'of', 'course', ',', 'there', 'is', 'the', 'evidence', 'the', 'jury', 'did', 'not', 'hear', 'about', 'in', 'the', 'Robinson', 'case', '...']\n",
      "['ADV', 'PUNCT', 'ADV', 'ADV', 'PUNCT', 'PRON', 'VERB', 'DET', 'NOUN', 'DET', 'NOUN', 'AUX', 'PART', 'VERB', 'ADP', 'ADP', 'DET', 'PROPN', 'NOUN', 'PUNCT']\n",
      "['Funny', 'how', 'some', 'things', 'are', 'squirelled', 'away', 'by', 'well', '-', 'meaning', 'prosecutors', '...']\n",
      "['ADJ', 'ADV', 'DET', 'NOUN', 'AUX', 'VERB', 'ADV', 'ADP', 'ADV', 'PUNCT', 'VERB', 'NOUN', 'PUNCT']\n",
      "['Maybe', 'because', 'they', 'hint', 'at', 'a', 'larger', 'conspiracy', '/', 'network', 'of', 'abusers', '/', 'satanic', 'underground', '?']\n",
      "['ADV', 'SCONJ', 'PRON', 'VERB', 'ADP', 'DET', 'ADJ', 'NOUN', 'SYM', 'NOUN', 'ADP', 'NOUN', 'SYM', 'ADJ', 'NOUN', 'PUNCT']\n",
      "['I', 'read', 'of', 'a', 'case', 'not', 'long', 'ago', 'when', 'some', 'people', 'were', 'trying', 'to', 'get', 'a', 'polygamous', 'judge', 'taken', 'off', 'the', 'bench', 'for', 'not', 'obeying', 'state', 'law', '.']\n",
      "['PRON', 'VERB', 'ADP', 'DET', 'NOUN', 'PART', 'ADV', 'ADV', 'ADV', 'DET', 'NOUN', 'AUX', 'VERB', 'PART', 'VERB', 'DET', 'ADJ', 'NOUN', 'VERB', 'ADP', 'DET', 'NOUN', 'SCONJ', 'ADV', 'VERB', 'NOUN', 'NOUN', 'PUNCT']\n",
      "['Of', 'course', 'law', 'enforcement', 'has', 'dragged', \"it's\", 'feet', 'when', 'members', 'are', 'taking', 'part', 'in', 'the', 'activity', 'themselves', '.']\n",
      "['ADV', 'ADV', 'NOUN', 'NOUN', 'AUX', 'VERB', 'PRON', 'NOUN', 'ADV', 'NOUN', 'AUX', 'VERB', 'NOUN', 'ADP', 'DET', 'NOUN', 'PRON', 'PUNCT']\n",
      "['Personally', 'I', 'do', \"n't\", 'give', 'a', 'damn', 'what', 'adults', 'do', 'to', 'one', 'another', 'as', 'long', 'as', 'there', 'is', 'no', 'abuse', 'invovled', '.']\n",
      "['ADV', 'PRON', 'AUX', 'PART', 'VERB', 'DET', 'NOUN', 'PRON', 'NOUN', 'VERB', 'ADP', 'NUM', 'DET', 'ADV', 'ADV', 'SCONJ', 'PRON', 'VERB', 'DET', 'NOUN', 'VERB', 'PUNCT']\n",
      "['It', 'is', 'the', 'marrying', 'off', 'of', 'young', 'girls', 'to', 'older', 'men', 'often', 'close', 'relatives', 'that', 'enfurates', 'me', '.']\n",
      "['PRON', 'VERB', 'DET', 'NOUN', 'NOUN', 'ADP', 'ADJ', 'NOUN', 'ADP', 'ADJ', 'NOUN', 'ADV', 'ADJ', 'NOUN', 'PRON', 'VERB', 'PRON', 'PUNCT']\n",
      "['Also', 'these', 'cults', 'have', 'multimillions', 'yet', 'the', 'women', 'and', 'kids', 'live', 'in', 'poverty', 'so', 'the', 'leaders', 'can', 'live', 'the', 'high', 'life', '.']\n",
      "['ADV', 'DET', 'NOUN', 'VERB', 'NOUN', 'CONJ', 'DET', 'NOUN', 'CONJ', 'NOUN', 'VERB', 'ADP', 'NOUN', 'SCONJ', 'DET', 'NOUN', 'AUX', 'VERB', 'DET', 'ADJ', 'NOUN', 'PUNCT']\n",
      "['In', 'the', 'Warren', 'Jeffs', 'cult', 'he', 'reassigns', 'wives', 'if', 'the', 'husband', 'displeases', 'him', 'or', 'to', 'reward', 'the', 'new', 'husband', '.']\n",
      "['ADP', 'DET', 'PROPN', 'PROPN', 'NOUN', 'PRON', 'VERB', 'NOUN', 'SCONJ', 'DET', 'NOUN', 'VERB', 'PRON', 'CONJ', 'PART', 'VERB', 'DET', 'ADJ', 'NOUN', 'PUNCT']\n",
      "['Husbands', 'marry', 'mothers', 'and', 'teen', 'daughters', 'at', 'the', 'same', 'time', '.']\n",
      "['NOUN', 'VERB', 'NOUN', 'CONJ', 'NOUN', 'NOUN', 'ADP', 'DET', 'ADJ', 'NOUN', 'PUNCT']\n",
      "['a', 'rare', 'form', 'of', 'retardation', 'is', 'showing', 'up', 'in', 'that', 'group', 'more', 'than', 'anywhere', 'else', 'in', 'the', 'world', '.']\n",
      "['DET', 'ADJ', 'NOUN', 'ADP', 'NOUN', 'AUX', 'VERB', 'ADV', 'ADP', 'DET', 'NOUN', 'ADV', 'ADP', 'ADV', 'ADV', 'ADP', 'DET', 'NOUN', 'PUNCT']\n",
      "['It', 'is', 'genetic', 'and', 'the', 'child', 'needs', 'to', 'get', 'the', 'gene', 'from', 'both', 'parents', 'to', 'turn', 'into', 'a', 'vegetable', 'instead', 'of', 'a', 'thinking', 'child', '.']\n",
      "['PRON', 'VERB', 'ADJ', 'CONJ', 'DET', 'NOUN', 'VERB', 'PART', 'VERB', 'DET', 'NOUN', 'ADP', 'DET', 'NOUN', 'PART', 'VERB', 'ADP', 'DET', 'NOUN', 'ADV', 'ADP', 'DET', 'VERB', 'NOUN', 'PUNCT']\n",
      "['The', 'doctor', 'begs', 'them', 'to', 'stop', 'intermarrying', 'but', 'they', 'say', 'they', 'have', 'to', 'keep', 'the', 'blood', 'pure', '.']\n",
      "['DET', 'NOUN', 'VERB', 'PRON', 'PART', 'VERB', 'VERB', 'CONJ', 'PRON', 'VERB', 'PRON', 'VERB', 'PART', 'VERB', 'DET', 'NOUN', 'ADJ', 'PUNCT']\n",
      "['look', 'up', 'fumarase', 'deficiency', 'for', 'more', 'info', '.']\n",
      "['VERB', 'ADP', 'NOUN', 'NOUN', 'ADP', 'ADJ', 'NOUN', 'PUNCT']\n",
      "['Also', 'look', 'up', 'the', 'kingston', 'family', '.']\n",
      "['ADV', 'VERB', 'ADP', 'DET', 'PROPN', 'NOUN', 'PUNCT']\n",
      "['One', 'member', 'actually', 'was', 'convicted', 'of', 'beating', 'his', 'teen', 'daughter', 'unconcious', 'when', 'she', 'ran', 'away', 'from', \"'\", 'marriage', \"'\", 'to', 'her', 'father', \"'s\", 'own', 'brother', '.']\n",
      "['NUM', 'NOUN', 'ADV', 'AUX', 'VERB', 'SCONJ', 'VERB', 'PRON', 'NOUN', 'NOUN', 'ADJ', 'ADV', 'PRON', 'VERB', 'ADV', 'ADP', 'PUNCT', 'NOUN', 'PUNCT', 'ADP', 'PRON', 'NOUN', 'PART', 'ADJ', 'NOUN', 'PUNCT']\n",
      "['no', 'one', 'was', 'charged', 'for', 'forced', 'marriage', ',', 'only', 'the', 'beating', '.']\n",
      "['DET', 'NOUN', 'AUX', 'VERB', 'ADP', 'VERB', 'NOUN', 'PUNCT', 'ADV', 'DET', 'NOUN', 'PUNCT']\n",
      "['So', 'we', '\"', 'lost', '\"', 'some', 'weapon', '?']\n",
      "['ADV', 'PRON', 'PUNCT', 'VERB', 'PUNCT', 'DET', 'NOUN', 'PUNCT']\n",
      "['It', \"'s\", 'a', 'good', 'thing', 'too', '.']\n",
      "['PRON', 'VERB', 'DET', 'ADJ', 'NOUN', 'ADV', 'PUNCT']\n",
      "['We', 'would', \"n't\", 'want', 'those', 'terrorists', 'to', 'run', 'out', 'of', 'shit', 'to', 'shoot', 'at', 'us', '.']\n",
      "['PRON', 'AUX', 'PART', 'VERB', 'DET', 'NOUN', 'PART', 'VERB', 'ADP', 'ADP', 'NOUN', 'PART', 'VERB', 'ADP', 'PRON', 'PUNCT']\n",
      "['Then', 'the', 'war', 'might', 'stop', '&', 'all', 'those', 'juicy', 'profits', 'would', 'just', 'evaporate', '.']\n",
      "['ADV', 'DET', 'NOUN', 'AUX', 'VERB', 'CONJ', 'DET', 'DET', 'ADJ', 'NOUN', 'AUX', 'ADV', 'VERB', 'PUNCT']\n",
      "['What', \"'s\", 'a', 'few', 'dead', 'soldiers', 'in', 'comparison', 'to', 'keeping', 'all', 'those', 'defense', 'contractors', 'awash', 'in', 'all', 'that', 'tax', 'cash', '?']\n",
      "['PRON', 'VERB', 'DET', 'ADJ', 'ADJ', 'NOUN', 'ADP', 'NOUN', 'SCONJ', 'VERB', 'DET', 'DET', 'NOUN', 'NOUN', 'ADJ', 'ADP', 'DET', 'DET', 'NOUN', 'NOUN', 'PUNCT']\n",
      "['They', 'really', 'are', 'milking', 'the', 'incompetence', 'angle', 'though', ',', 'are', \"n't\", 'they', '?']\n",
      "['PRON', 'ADV', 'AUX', 'VERB', 'DET', 'NOUN', 'NOUN', 'ADV', 'PUNCT', 'VERB', 'PART', 'PRON', 'PUNCT']\n",
      "['Just', 'another', 'big', 'Iraq', 'whoopsie', 'daisy', ',', 'huh', '?']\n",
      "['ADV', 'DET', 'ADJ', 'PROPN', 'NOUN', 'NOUN', 'PUNCT', 'INTJ', 'PUNCT']\n",
      "['Christ', ',', 'you', \"'d\", 'think', 'America', 'would', 'get', 'a', 'bit', 'tired', 'of', 'these', 'guys', 'treating', 'her', 'like', 'she', 'was', 'populated', 'with', 'nothing', 'but', 'gullible', 'idiots', '.']\n",
      "['INTJ', 'PUNCT', 'PRON', 'AUX', 'VERB', 'PROPN', 'AUX', 'VERB', 'DET', 'NOUN', 'ADJ', 'SCONJ', 'DET', 'NOUN', 'VERB', 'PRON', 'SCONJ', 'PRON', 'AUX', 'VERB', 'ADP', 'PRON', 'ADP', 'ADJ', 'NOUN', 'PUNCT']\n",
      "['I', 'suppose', 'that', 'it', \"'s\", 'damn', 'lucky', 'for', 'the', 'GOP', 'that', 'she', 'is', 'populated', 'with', 'gullible', 'idiots', '.']\n",
      "['PRON', 'VERB', 'SCONJ', 'PRON', 'VERB', 'ADV', 'ADJ', 'ADP', 'DET', 'PROPN', 'SCONJ', 'PRON', 'AUX', 'VERB', 'ADP', 'ADJ', 'NOUN', 'PUNCT']\n",
      "['US', 'outsourcing', 'special', 'ops', ',', 'intelligence', 'to', 'Iraq', 'terror', 'group', ',', 'intelligence', 'officials', 'say']\n",
      "['PROPN', 'VERB', 'ADJ', 'NOUN', 'PUNCT', 'NOUN', 'ADP', 'PROPN', 'NOUN', 'NOUN', 'PUNCT', 'NOUN', 'NOUN', 'VERB']\n",
      "['The', 'Pentagon', 'is', 'bypassing', 'official', 'US', 'intelligence', 'channels', 'and', 'turning', 'to', 'a', 'dangerous', 'and', 'unruly', 'cast', 'of', 'characters', 'in', 'order', 'to', 'create', 'strife', 'in', 'Iran', 'in', 'preparation', 'for', 'any', 'possible', 'attack', ',', 'former', 'and', 'current', 'intelligence', 'officials', 'say', '...']\n",
      "['DET', 'PROPN', 'AUX', 'VERB', 'ADJ', 'PROPN', 'NOUN', 'NOUN', 'CONJ', 'VERB', 'ADP', 'DET', 'ADJ', 'CONJ', 'ADJ', 'NOUN', 'ADP', 'NOUN', 'ADP', 'NOUN', 'PART', 'VERB', 'NOUN', 'ADP', 'PROPN', 'ADP', 'NOUN', 'ADP', 'DET', 'ADJ', 'NOUN', 'PUNCT', 'ADJ', 'CONJ', 'ADJ', 'NOUN', 'NOUN', 'VERB', 'PUNCT']\n",
      "['http://www.rawstory.com/news/2006/US_outsourcing_special_operations_intelligence_gathering_0413.html']\n",
      "['X']\n",
      "['A', 'country', 'deserves', 'the', 'leaders', 'it', 'has', ',', 'my', 'friends', '...']\n",
      "['DET', 'NOUN', 'VERB', 'DET', 'NOUN', 'PRON', 'VERB', 'PUNCT', 'PRON', 'NOUN', 'PUNCT']\n",
      "['And', 'MEK', '--', 'the', 'Iranian', '(', 'not', 'Iraqi', ')', 'terror', 'group', 'in', 'question', '--', 'is', 'itself', 'unquestionably', 'a', 'cult', ':']\n",
      "['CONJ', 'PROPN', 'PUNCT', 'DET', 'ADJ', 'PUNCT', 'ADV', 'ADJ', 'PUNCT', 'NOUN', 'NOUN', 'ADP', 'NOUN', 'PUNCT', 'VERB', 'ADV', 'ADV', 'DET', 'NOUN', 'PUNCT']\n",
      "['As', 'the', 'leaders', 'like', 'to', 'boast', ',', 'the', 'Mujahedeen', 'is', 'a', 'family', 'affair', '.']\n",
      "['SCONJ', 'DET', 'NOUN', 'VERB', 'PART', 'VERB', 'PUNCT', 'DET', 'PROPN', 'VERB', 'DET', 'NOUN', 'NOUN', 'PUNCT']\n",
      "['(', \"''\", 'We', 'have', 'three', 'generations', 'of', 'martyrs', ':', 'grandmothers', ',', 'mothers', ',', 'daughters', '.', \"''\", ')']\n",
      "['PUNCT', 'PUNCT', 'PRON', 'VERB', 'NUM', 'NOUN', 'ADP', 'NOUN', 'PUNCT', 'NOUN', 'PUNCT', 'NOUN', 'PUNCT', 'NOUN', 'PUNCT', 'PUNCT', 'PUNCT']\n",
      "['Most', 'of', 'the', 'girls', 'I', 'was', 'meeting', 'had', 'grown', 'up', 'in', 'Mujahedeen', 'schools', 'in', 'Ashraf', ',', 'where', 'they', 'lived', 'separated', 'from', 'their', 'parents', '.']\n",
      "['ADJ', 'ADP', 'DET', 'NOUN', 'PRON', 'AUX', 'VERB', 'AUX', 'VERB', 'ADV', 'ADP', 'PROPN', 'NOUN', 'ADP', 'PROPN', 'PUNCT', 'ADV', 'PRON', 'VERB', 'VERB', 'ADP', 'PRON', 'NOUN', 'PUNCT']\n",
      "['Family', 'visits', 'were', 'allowed', 'on', 'Thursday', 'nights', 'and', 'Fridays', '.']\n",
      "['NOUN', 'NOUN', 'AUX', 'VERB', 'ADP', 'PROPN', 'NOUN', 'CONJ', 'PROPN', 'PUNCT']\n",
      "['When', 'Iraq', 'invaded', 'Kuwait', ',', 'many', 'of', 'these', 'girls', 'were', 'transported', 'to', 'Jordan', 'and', 'then', 'smuggled', 'to', 'various', 'countries', '--', 'Germany', ',', 'France', ',', 'Canada', ',', 'Denmark', ',', 'England', ',', 'the', 'United', 'States', '--', 'where', 'they', 'were', 'raised', 'by', 'guardians', 'who', 'were', 'usually', 'Mujahedeen', 'supporters', '.']\n",
      "['ADV', 'PROPN', 'VERB', 'PROPN', 'PUNCT', 'ADJ', 'ADP', 'DET', 'NOUN', 'AUX', 'VERB', 'ADP', 'PROPN', 'CONJ', 'ADV', 'VERB', 'ADP', 'ADJ', 'NOUN', 'PUNCT', 'PROPN', 'PUNCT', 'PROPN', 'PUNCT', 'PROPN', 'PUNCT', 'PROPN', 'PUNCT', 'PROPN', 'PUNCT', 'DET', 'PROPN', 'PROPN', 'PUNCT', 'ADV', 'PRON', 'AUX', 'VERB', 'ADP', 'NOUN', 'PRON', 'VERB', 'ADV', 'PROPN', 'NOUN', 'PUNCT']\n",
      "['When', 'they', 'were', '18', 'or', '19', ',', 'many', 'of', 'them', 'decided', 'to', 'come', 'back', 'to', 'Iraq', 'and', 'fill', 'the', 'ranks', 'of', 'the', 'youngest', 'Mujahedeen', 'generation', '.']\n",
      "['ADV', 'PRON', 'VERB', 'NUM', 'CONJ', 'NUM', 'PUNCT', 'ADJ', 'ADP', 'PRON', 'VERB', 'PART', 'VERB', 'ADV', 'ADP', 'PROPN', 'CONJ', 'VERB', 'DET', 'NOUN', 'ADP', 'DET', 'ADJ', 'PROPN', 'NOUN', 'PUNCT']\n",
      "['Though', \"''\", 'decided', \"''\", 'is', 'probably', 'not', 'the', 'right', 'word', ',', 'since', 'from', 'the', 'day', 'they', 'were', 'born', ',', 'these', 'girls', 'and', 'boys', 'were', 'not', 'taught', 'to', 'think', 'for', 'themselves', 'but', 'to', 'blindly', 'follow', 'their', 'leaders', '.']\n",
      "['SCONJ', 'PUNCT', 'NOUN', 'PUNCT', 'VERB', 'ADV', 'PART', 'DET', 'ADJ', 'NOUN', 'PUNCT', 'SCONJ', 'ADP', 'DET', 'NOUN', 'PRON', 'AUX', 'VERB', 'PUNCT', 'DET', 'NOUN', 'CONJ', 'NOUN', 'AUX', 'PART', 'VERB', 'PART', 'VERB', 'ADP', 'PRON', 'CONJ', 'PART', 'ADV', 'VERB', 'PRON', 'NOUN', 'PUNCT']\n",
      "[\"''\", 'Every', 'morning', 'and', 'night', ',', 'the', 'kids', ',', 'beginning', 'as', 'young', 'as', '1', 'and', '2', ',', 'had', 'to', 'stand', 'before', 'a', 'poster', 'of', 'Massoud', 'and', 'Maryam', ',', 'salute', 'them', 'and', 'shout', 'praises', 'to', 'them', ',', \"''\", 'Nadereh', 'Afshari', ',', 'a', 'former', 'Mujahedeen', 'deep', '-', 'believer', ',', 'told', 'me', '.']\n",
      "['PUNCT', 'DET', 'NOUN', 'CONJ', 'NOUN', 'PUNCT', 'DET', 'NOUN', 'PUNCT', 'VERB', 'ADV', 'ADV', 'ADP', 'NUM', 'CONJ', 'NUM', 'PUNCT', 'VERB', 'PART', 'VERB', 'ADP', 'DET', 'NOUN', 'ADP', 'PROPN', 'CONJ', 'PROPN', 'PUNCT', 'VERB', 'PRON', 'CONJ', 'VERB', 'NOUN', 'ADP', 'PRON', 'PUNCT', 'PUNCT', 'PROPN', 'PROPN', 'PUNCT', 'DET', 'ADJ', 'PROPN', 'ADJ', 'PUNCT', 'NOUN', 'PUNCT', 'VERB', 'PRON', 'PUNCT']\n",
      "['Afshari', ',', 'who', 'was', 'posted', 'in', 'Germany', 'and', 'was', 'responsible', 'for', 'receiving', 'Mujahedeen', 'children', 'during', 'the', 'gulf', 'war', ',', 'said', 'that', 'when', 'the', 'German', 'government', 'tried', 'to', 'absorb', 'Mujahedeen', 'children', 'into', 'their', 'education', 'system', ',', 'the', 'Mujahedeen', 'refused', '.']\n",
      "['PROPN', 'PUNCT', 'PRON', 'AUX', 'VERB', 'ADP', 'PROPN', 'CONJ', 'VERB', 'ADJ', 'SCONJ', 'VERB', 'PROPN', 'NOUN', 'ADP', 'DET', 'PROPN', 'PROPN', 'PUNCT', 'VERB', 'SCONJ', 'ADV', 'DET', 'ADJ', 'NOUN', 'VERB', 'PART', 'VERB', 'PROPN', 'NOUN', 'ADP', 'PRON', 'NOUN', 'NOUN', 'PUNCT', 'DET', 'PROPN', 'VERB', 'PUNCT']\n",
      "['Many', 'of', 'the', 'children', 'were', 'sent', 'to', 'Mujahedeen', 'schools', ',', 'particularly', 'in', 'France', '.']\n",
      "['ADJ', 'ADP', 'DET', 'NOUN', 'AUX', 'VERB', 'ADP', 'PROPN', 'NOUN', 'PUNCT', 'ADV', 'ADP', 'PROPN', 'PUNCT']\n",
      "['The', 'Rajavis', ',', 'Afshari', 'went', 'on', 'to', 'say', ',', \"''\", 'saw', 'these', 'kids', 'as', 'the', 'next', 'generation', \"'s\", 'soldiers', '.']\n",
      "['DET', 'PROPN', 'PUNCT', 'PROPN', 'VERB', 'ADV', 'PART', 'VERB', 'PUNCT', 'PUNCT', 'VERB', 'DET', 'NOUN', 'ADP', 'DET', 'ADJ', 'NOUN', 'PART', 'NOUN', 'PUNCT']\n",
      "['They', 'wanted', 'to', 'brainwash', 'them', 'and', 'control', 'them', '.', \"''\"]\n",
      "['PRON', 'VERB', 'PART', 'VERB', 'PRON', 'CONJ', 'VERB', 'PRON', 'PUNCT', 'PUNCT']\n",
      "['Which', 'may', 'explain', 'the', 'pattern', 'to', 'their', 'stories', ':', 'a', 'journey', 'to', 'self', '-', 'empowerment', 'and', 'the', 'enlightenment', 'of', 'self', '-', 'sacrifice', 'inspired', 'by', 'the', 'light', 'and', 'wisdom', 'of', 'Maryam', 'and', 'Massoud', '.']\n",
      "['PRON', 'AUX', 'VERB', 'DET', 'NOUN', 'ADP', 'PRON', 'NOUN', 'PUNCT', 'DET', 'NOUN', 'ADP', 'NOUN', 'PUNCT', 'NOUN', 'CONJ', 'DET', 'NOUN', 'ADP', 'NOUN', 'PUNCT', 'NOUN', 'VERB', 'ADP', 'DET', 'NOUN', 'CONJ', 'NOUN', 'ADP', 'PROPN', 'CONJ', 'PROPN', 'PUNCT']\n",
      "['Link']\n",
      "['NOUN']\n",
      "['One', 'has', 'to', 'wonder', 'whether', 'the', 'bright', 'fellows', 'in', 'our', 'government', 'and', 'military', 'who', 'set', 'up', 'the', 'deals', 'with', 'these', 'people', 'do', \"n't\", 'know', 'what', 'they', 'are', ',', 'do', \"n't\", 'care', ',', 'or', 'know', 'perfectly', 'well', '.']\n",
      "['PRON', 'VERB', 'PART', 'VERB', 'SCONJ', 'DET', 'ADJ', 'NOUN', 'ADP', 'PRON', 'NOUN', 'CONJ', 'NOUN', 'PRON', 'VERB', 'ADP', 'DET', 'NOUN', 'ADP', 'DET', 'NOUN', 'AUX', 'PART', 'VERB', 'PRON', 'PRON', 'VERB', 'PUNCT', 'AUX', 'PART', 'VERB', 'PUNCT', 'CONJ', 'VERB', 'ADV', 'ADV', 'PUNCT']\n",
      "['Jeff', ',']\n",
      "['PROPN', 'PUNCT']\n",
      "['SPLOID.com', 'cited', 'you', 'on', 'the', 'topic', 'of', 'that', 'priest', 'conviction', ':', 'http://www.sploid.com/news/2006/05/evil_priest_gui.php']\n",
      "['PROPN', 'VERB', 'PRON', 'ADP', 'DET', 'NOUN', 'ADP', 'DET', 'NOUN', 'NOUN', 'PUNCT', 'X']\n",
      "['Umm', '...']\n",
      "['INTJ', 'PUNCT']\n",
      "['Question', 'Mark']\n",
      "['NOUN', 'NOUN']\n",
      "['Jimmy', 'Plant', ',', 'Blogshares', 'is', 'a', 'fantasy', 'blogosphere', 'trading', 'game', 'with', 'pretend', 'money', '.']\n",
      "['PROPN', 'PROPN', 'PUNCT', 'PROPN', 'VERB', 'DET', 'NOUN', 'NOUN', 'NOUN', 'NOUN', 'ADP', 'ADJ', 'NOUN', 'PUNCT']\n",
      "['That', \"'s\", 'all', 'I', 'know', ';', 'I', \"'ve\", 'had', 'nothing', 'to', 'do', 'with', 'it', '.']\n",
      "['PRON', 'VERB', 'DET', 'PRON', 'VERB', 'PUNCT', 'PRON', 'AUX', 'VERB', 'PRON', 'PART', 'VERB', 'ADP', 'PRON', 'PUNCT']\n",
      "['Bush', 'successfully', 'makes', 'Satan', 'look', 'good', 'in', 'comparison', '.']\n",
      "['PROPN', 'ADV', 'VERB', 'PROPN', 'VERB', 'ADJ', 'ADP', 'NOUN', 'PUNCT']\n",
      "['Or', 'something', 'like', 'that', '.']\n",
      "['CONJ', 'PRON', 'ADP', 'PRON', 'PUNCT']\n",
      "['http://www.laweekly.com/general/features/satan-loves-you/13454/']\n",
      "['X']\n",
      "['\"', 'Another', 'generation', 'of', 'heavy', 'metal', 'has', 'taken', 'over', ',', 'and', '--', 'sorry', '--', 'it', 'ai', \"n't\", 'just', 'about', 'strippers', 'and', 'dope', '.']\n",
      "['PUNCT', 'DET', 'NOUN', 'ADP', 'ADJ', 'NOUN', 'AUX', 'VERB', 'ADP', 'PUNCT', 'CONJ', 'PUNCT', 'INTJ', 'PUNCT', 'PRON', 'VERB', 'PART', 'ADV', 'ADP', 'NOUN', 'CONJ', 'NOUN', 'PUNCT']\n",
      "['Okay', ',', 'it', \"'s\", 'partly', 'about', 'strippers', 'and', 'dope', '.']\n",
      "['INTJ', 'PUNCT', 'PRON', 'VERB', 'ADV', 'ADP', 'NOUN', 'CONJ', 'NOUN', 'PUNCT']\n",
      "['And', 'we', \"'ll\", 'get', 'around', 'to', 'that', '.']\n",
      "['CONJ', 'PRON', 'AUX', 'VERB', 'ADV', 'ADP', 'PRON', 'PUNCT']\n",
      "['But', 'more', 'and', 'more', ',', 'as', 'metal', 'evolves', 'into', 'a', 'huge', 'international', 'music', 'that', 'belongs', 'to', 'everyone', ',', 'it', 'has', 'gotten', 'to', 'be', 'something', 'weirder', '.']\n",
      "['CONJ', 'ADV', 'CONJ', 'ADV', 'PUNCT', 'SCONJ', 'NOUN', 'VERB', 'ADP', 'DET', 'ADJ', 'ADJ', 'NOUN', 'PRON', 'VERB', 'ADP', 'PRON', 'PUNCT', 'PRON', 'AUX', 'VERB', 'PART', 'VERB', 'PRON', 'ADJ', 'PUNCT']\n",
      "['It', \"'s\", 'become', 'a', 'guardian', 'of', 'morality', '--', 'not', 'church', 'morality', ';', 'real', 'morality', '.']\n",
      "['PRON', 'AUX', 'VERB', 'DET', 'NOUN', 'ADP', 'NOUN', 'PUNCT', 'PART', 'NOUN', 'NOUN', 'PUNCT', 'ADJ', 'NOUN', 'PUNCT']\n",
      "['Praise', 'be', ':', 'Given', 'the', 'void', 'in', 'responsible', 'behavior', 'among', 'governments', ',', 'police', ',', 'educational', 'establishments', 'and', 'religions', ',', 'the', 'task', 'of', 'guiding', 'our', 'youth', 'down', 'the', 'path', 'of', 'righteousness', 'has', 'fallen', 'to', '...', 'Satan', '\"']\n",
      "['NOUN', 'VERB', 'PUNCT', 'VERB', 'DET', 'NOUN', 'ADP', 'ADJ', 'NOUN', 'ADP', 'NOUN', 'PUNCT', 'NOUN', 'PUNCT', 'ADJ', 'NOUN', 'CONJ', 'NOUN', 'PUNCT', 'DET', 'NOUN', 'SCONJ', 'VERB', 'PRON', 'NOUN', 'ADP', 'DET', 'NOUN', 'ADP', 'NOUN', 'AUX', 'VERB', 'ADP', 'PUNCT', 'PROPN', 'PUNCT']\n",
      "['Hmmmmmm', '....................']\n",
      "['INTJ', 'PUNCT']\n",
      "['The', 'people', 'who', 'carry', 'out', 'these', 'underground', 'arms', '/', 'drugs', '/', 'sex', 'trafficking', 'deals', 'are', 'trauma', 'based', 'mind', 'controlled', 'slaves', '.']\n",
      "['DET', 'NOUN', 'PRON', 'VERB', 'ADP', 'DET', 'ADJ', 'NOUN', 'SYM', 'NOUN', 'SYM', 'NOUN', 'NOUN', 'NOUN', 'VERB', 'NOUN', 'VERB', 'NOUN', 'VERB', 'NOUN', 'PUNCT']\n",
      "['The', 'Moldovan', 'airline', 'is', 'Aerocom', ',', 'and', 'yes', ',', 'it', \"'s\", 'one', 'of', 'Victor', 'Bout', \"'s\", '.']\n",
      "['DET', 'ADJ', 'NOUN', 'VERB', 'PROPN', 'PUNCT', 'CONJ', 'INTJ', 'PUNCT', 'PRON', 'VERB', 'NUM', 'ADP', 'PROPN', 'PROPN', 'PART', 'PUNCT']\n",
      "['The', 'wikipedia', 'entry', 'for', 'Aerocom', 'is', 'just', 'a', 'stub', '..', 'waiting', 'for', 'someone', 'to', 'put', 'some', 'information', 'into', 'it', '....']\n",
      "['DET', 'PROPN', 'NOUN', 'ADP', 'PROPN', 'VERB', 'ADV', 'DET', 'NOUN', 'PUNCT', 'VERB', 'ADP', 'PRON', 'PART', 'VERB', 'DET', 'NOUN', 'ADP', 'PRON', 'PUNCT']\n",
      "['http://en.wikipedia.org/wiki/Aerocom']\n",
      "['X']\n",
      "['So', '...', 'put', 'some', 'information', 'in', 'there', '.']\n",
      "['ADV', 'PUNCT', 'VERB', 'DET', 'NOUN', 'ADP', 'ADV', 'PUNCT']\n",
      "['You', 'know', ',', 'nature', 'hates', 'a', 'void', '.', ':)']\n",
      "['PRON', 'VERB', 'PUNCT', 'NOUN', 'VERB', 'DET', 'NOUN', 'PUNCT', 'SYM']\n",
      "['Richard', ',']\n",
      "['PROPN', 'PUNCT']\n",
      "['i', 'agree', ',', 'Hmmmmmm', '.']\n",
      "['PRON', 'VERB', 'PUNCT', 'INTJ', 'PUNCT']\n",
      "['How', 'are', 'chants', 'of', 'death', 'and', 'suicide', '...', 'morality', '.']\n",
      "['ADV', 'VERB', 'NOUN', 'ADP', 'NOUN', 'CONJ', 'NOUN', 'PUNCT', 'NOUN', 'PUNCT']\n",
      "['What', 'about', 'Manson', \"'s\", 'tees', 'bearing', 'the', 'message', ',', '\"', 'Kill', 'your', 'parents', '\"', '.']\n",
      "['PRON', 'ADP', 'PROPN', 'PART', 'NOUN', 'VERB', 'DET', 'NOUN', 'PUNCT', 'PUNCT', 'VERB', 'PRON', 'NOUN', 'PUNCT', 'PUNCT']\n",
      "['And', 'were', 'the', 'Columbine', 'killers', 'acting', 'out', 'this', '\"', 'real', 'morality', '\"', 'when', 'they', 'indescriminately', 'murdered', 'their', 'classmates', '.']\n",
      "['CONJ', 'AUX', 'DET', 'PROPN', 'NOUN', 'VERB', 'ADP', 'DET', 'PUNCT', 'ADJ', 'NOUN', 'PUNCT', 'ADV', 'PRON', 'ADV', 'VERB', 'PRON', 'NOUN', 'PUNCT']\n",
      "['They', 'were', 'death', 'metal', 'brainwashed', 'fans', ',', 'literally', 'fulfilling', 'the', 'death', 'metal', 'paradigm', ',', 'er', '...', 'morality', '.']\n",
      "['PRON', 'VERB', 'NOUN', 'NOUN', 'VERB', 'NOUN', 'PUNCT', 'ADV', 'VERB', 'DET', 'NOUN', 'NOUN', 'NOUN', 'PUNCT', 'INTJ', 'PUNCT', 'NOUN', 'PUNCT']\n",
      "['(', 'not', 'church', 'morality', ',', 'no', 'that', 'is', 'phoney', ',', 'love', 'thy', 'neighbor', '...', 'hell', 'no', ',', 'kill', 'thy', 'neighbor', '-', 'now', 'that', 'is', 'REAL', 'MORALITY', '?????', ')']\n",
      "['PUNCT', 'PART', 'NOUN', 'NOUN', 'PUNCT', 'INTJ', 'PRON', 'VERB', 'ADJ', 'PUNCT', 'VERB', 'PRON', 'NOUN', 'PUNCT', 'INTJ', 'INTJ', 'PUNCT', 'VERB', 'PRON', 'NOUN', 'PUNCT', 'ADV', 'PRON', 'VERB', 'ADJ', 'NOUN', 'PUNCT', 'PUNCT']\n",
      "['So', ',', 'hmmmm', 'indeed', '.']\n",
      "['ADV', 'PUNCT', 'INTJ', 'ADV', 'PUNCT']\n",
      "['I', 'detect', 'the', 'hissing', 'lisp', 'of', 'the', 'lying', 'serpent', 'in', 'this', 'article', '.']\n",
      "['PRON', 'VERB', 'DET', 'VERB', 'NOUN', 'ADP', 'DET', 'VERB', 'NOUN', 'ADP', 'DET', 'NOUN', 'PUNCT']\n",
      "['The', 'deathly', 'inversion', 'of', 'truth', ',', 'ala', 'satanism', '.']\n",
      "['DET', 'ADJ', 'NOUN', 'ADP', 'NOUN', 'PUNCT', 'ADP', 'PROPN', 'PUNCT']\n",
      "['I', 'think', 'the', 'jury', \"'s\", 'still', 'out', 'on', 'exactly', 'who', 'did', 'the', 'brainwashing', 'when', 'in', 'regard', 'to', 'the', 'Columbine', 'killers', '.']\n",
      "['PRON', 'VERB', 'DET', 'NOUN', 'VERB', 'ADV', 'ADV', 'SCONJ', 'ADV', 'PRON', 'VERB', 'DET', 'NOUN', 'ADV', 'ADP', 'NOUN', 'ADP', 'DET', 'PROPN', 'NOUN', 'PUNCT']\n",
      "['Perhaps', 'we', 'should', 'look', 'at', 'the', 'death', 'metal', 'phenomenon', 'less', 'as', 'an', 'invitation', 'to', 'violence', 'than', 'as', 'a', 'couter-cultural', 'response', 'to', 'the', 'over', 'hypocrisy', 'of', 'a', 'large', 'percentage', 'of', 'the', \"'\", 'Church', '-', 'Morality', \"'\", 'crowd', ',', 'which', 'gives', 'a', 'lot', 'of', 'lip', 'service', 'to', 'loving', 'thy', 'neighbor', ',', 'but', 'does', \"n't\", 'apply', 'that', 'love', 'very', 'far', 'beyond', 'their', 'own', 'congregation', '.']\n",
      "['ADV', 'PRON', 'AUX', 'VERB', 'ADP', 'DET', 'NOUN', 'NOUN', 'NOUN', 'ADV', 'ADP', 'DET', 'NOUN', 'ADP', 'NOUN', 'ADP', 'ADP', 'DET', 'ADJ', 'NOUN', 'ADP', 'DET', 'X', 'NOUN', 'ADP', 'DET', 'ADJ', 'NOUN', 'ADP', 'DET', 'PUNCT', 'NOUN', 'PUNCT', 'NOUN', 'PUNCT', 'NOUN', 'PUNCT', 'PRON', 'VERB', 'DET', 'NOUN', 'ADP', 'NOUN', 'NOUN', 'SCONJ', 'VERB', 'PRON', 'NOUN', 'PUNCT', 'CONJ', 'AUX', 'PART', 'VERB', 'DET', 'NOUN', 'ADV', 'ADV', 'ADP', 'PRON', 'ADJ', 'NOUN', 'PUNCT']\n",
      "['The', 'last', 'I', 'checked', ',', 'the', 'Satanists', 'have', 'a', 'long', 'way', 'to', 'go', 'to', 'catch', 'up', 'with', 'the', 'death', 'and', 'destruction', 'dealt', 'out', 'by', 'self', '-', 'proclaimed', '(', 'though', 'false', ')', 'Christians', '.']\n",
      "['DET', 'ADJ', 'PRON', 'VERB', 'PUNCT', 'DET', 'PROPN', 'VERB', 'DET', 'ADJ', 'NOUN', 'PART', 'VERB', 'PART', 'VERB', 'ADP', 'ADP', 'DET', 'NOUN', 'CONJ', 'NOUN', 'VERB', 'ADP', 'ADP', 'NOUN', 'PUNCT', 'VERB', 'PUNCT', 'SCONJ', 'ADJ', 'PUNCT', 'PROPN', 'PUNCT']\n",
      "['Irony', 'is', 'dead', '...', 'Long', 'live', 'Irony', '!']\n",
      "['NOUN', 'VERB', 'ADJ', 'PUNCT', 'ADV', 'VERB', 'NOUN', 'PUNCT']\n",
      "['That', \"'s\", 'it', '.']\n",
      "['PRON', 'VERB', 'PRON', 'PUNCT']\n",
      "['I', \"'m\", 'firing', 'my', 'editor', '.']\n",
      "['PRON', 'AUX', 'VERB', 'PRON', 'NOUN', 'PUNCT']\n",
      "['Well', ',', 'it', \"'s\", 'not', 'as', 'simple', 'and', 'clear', 'cut', 'as', 'all', 'that', '.']\n",
      "['INTJ', 'PUNCT', 'PRON', 'VERB', 'PART', 'ADV', 'ADJ', 'CONJ', 'ADJ', 'ADJ', 'ADP', 'DET', 'DET', 'PUNCT']\n",
      "['We', \"'re\", 'entering', 'into', 'some', 'interesting', 'and', 'perhaps', 'previously', 'unexplored', 'socio-political', '-', 'spiritual', 'territory', 'here', 'that', 'may', 'require', 'further', 'examination', 'and', 'serious', 'introspection', '.']\n",
      "['PRON', 'AUX', 'VERB', 'ADP', 'DET', 'ADJ', 'CONJ', 'ADV', 'ADV', 'ADJ', 'ADJ', 'PUNCT', 'ADJ', 'NOUN', 'ADV', 'PRON', 'AUX', 'VERB', 'ADJ', 'NOUN', 'CONJ', 'ADJ', 'NOUN', 'PUNCT']\n",
      "['The', 'Kevin', 'Coogan', 'publication', 'posted', 'on', 'the', 'previous', 'thread', 'might', 'serve', 'as', 'a', 'good', 'launching', 'point', 'for', 'further', 'discussion', '.']\n",
      "['DET', 'PROPN', 'PROPN', 'NOUN', 'VERB', 'ADP', 'DET', 'ADJ', 'NOUN', 'AUX', 'VERB', 'ADP', 'DET', 'ADJ', 'NOUN', 'NOUN', 'ADP', 'ADJ', 'NOUN', 'PUNCT']\n",
      "['The', 'following', 'quote', 'is', 'from', 'that', 'Coogan', 'article', ':']\n",
      "['DET', 'VERB', 'NOUN', 'VERB', 'ADP', 'DET', 'PROPN', 'NOUN', 'PUNCT']\n",
      "['Imaginary', 'evil', 'is', 'romantic', 'and', 'varied', ';', 'real', 'evil', 'is', 'gloomy', ',', 'monotonous', ',', 'barren', ',', 'boring', '.']\n",
      "['ADJ', 'NOUN', 'VERB', 'ADJ', 'CONJ', 'ADJ', 'PUNCT', 'ADJ', 'NOUN', 'VERB', 'ADJ', 'PUNCT', 'ADJ', 'PUNCT', 'ADJ', 'PUNCT', 'ADJ', 'PUNCT']\n",
      "['Imaginary', 'good', 'is', 'boring', ';', 'real', 'good', 'is', 'always', 'new', ',', 'marvelous', ',', 'intoxicating', '.']\n",
      "['ADJ', 'NOUN', 'VERB', 'ADJ', 'PUNCT', 'ADJ', 'NOUN', 'VERB', 'ADV', 'ADJ', 'PUNCT', 'ADJ', 'PUNCT', 'ADJ', 'PUNCT']\n",
      "['-', 'Simone', 'Weil']\n",
      "['PUNCT', 'PROPN', 'PROPN']\n",
      "['Starroute', ':']\n",
      "['PROPN', 'PUNCT']\n",
      "['I', 'would', \"n't\", 'wonder', 'too', 'hard', '.']\n",
      "['PRON', 'AUX', 'PART', 'VERB', 'ADV', 'ADV', 'PUNCT']\n",
      "['The', 'answer', 'is', 'likely', 'D', ':', 'all', 'of', 'the', 'above', ',', 'due', 'to', 'this', 'being', 'a', 'complex', 'reality', 'we', 'live', 'in', '.']\n",
      "['DET', 'NOUN', 'VERB', 'ADV', 'NOUN', 'PUNCT', 'DET', 'ADP', 'DET', 'ADJ', 'PUNCT', 'ADP', 'SCONJ', 'PRON', 'VERB', 'DET', 'ADJ', 'NOUN', 'PRON', 'VERB', 'ADP', 'PUNCT']\n",
      "['But', 'to', 'me', ',', 'without', 'question', ',', 'they', 'often', 'know', 'perfectly', 'well', '.']\n",
      "['CONJ', 'ADP', 'PRON', 'PUNCT', 'ADP', 'NOUN', 'PUNCT', 'PRON', 'ADV', 'VERB', 'ADV', 'ADV', 'PUNCT']\n",
      "['Here', 'is', 'a', 'thought', ':', 'When', 'the', 'appartently', 'cognitively', 'functional', 'take', 'actions', 'that', 'seem', 'senseless', 'and', 'incompetent', ',', 'it', 'is', 'a', 'most', 'certain', 'sign', 'that', 'they', 'have', 'ulterior', 'or', 'hidden', 'motives', '.']\n",
      "['ADV', 'VERB', 'DET', 'NOUN', 'PUNCT', 'ADV', 'DET', 'ADV', 'ADV', 'ADJ', 'VERB', 'NOUN', 'PRON', 'VERB', 'ADJ', 'CONJ', 'ADJ', 'PUNCT', 'PRON', 'VERB', 'DET', 'ADV', 'ADJ', 'NOUN', 'SCONJ', 'PRON', 'VERB', 'ADJ', 'CONJ', 'ADJ', 'NOUN', 'PUNCT']\n",
      "['They', 'trust', 'you', 'and', 'me', 'to', 'be', 'befuddled', 'by', 'their', 'actions', ',', 'while', 'they', '\"', 'do', 'as', 'they', 'wilt', '\"', '.']\n",
      "['PRON', 'VERB', 'PRON', 'CONJ', 'PRON', 'PART', 'AUX', 'VERB', 'ADP', 'PRON', 'NOUN', 'PUNCT', 'SCONJ', 'PRON', 'PUNCT', 'VERB', 'SCONJ', 'PRON', 'AUX', 'PUNCT', 'PUNCT']\n",
      "['http://youtube.com/watch?v=d46_ctqDmI4']\n",
      "['X']\n",
      "['To', 'not', 'buying', 'the', 'BS']\n",
      "['SCONJ', 'ADV', 'VERB', 'DET', 'NOUN']\n",
      "['&', 'here', 'I', 'am', 'thinking', 'that', 'I', 'really', 'must', 'be', 'getting', 'old', '.']\n",
      "['CONJ', 'ADV', 'PRON', 'VERB', 'VERB', 'SCONJ', 'PRON', 'ADV', 'AUX', 'AUX', 'VERB', 'ADJ', 'PUNCT']\n",
      "['Since', 'the', 'article', 'was', 'specifically', 'about', '\"', 'death', 'metal', '\"', 'I', 'guess', 'the', 'author', 'missed', 'this', 'little', 'tidbit', 'or', 'we', 'just', 'have', 'waaaaaaaaaaaaay', 'different', 'definitions', 'of', 'morality', ':']\n",
      "['SCONJ', 'DET', 'NOUN', 'VERB', 'ADV', 'ADP', 'PUNCT', 'NOUN', 'NOUN', 'PUNCT', 'PRON', 'VERB', 'DET', 'NOUN', 'VERB', 'DET', 'ADJ', 'NOUN', 'CONJ', 'PRON', 'ADV', 'VERB', 'ADV', 'ADJ', 'NOUN', 'ADP', 'NOUN', 'PUNCT']\n",
      "['http://news.bbc.co.uk/2/hi/programmes/this_world/4446342.stm']\n",
      "['X']\n",
      "['One', 'man', \"'s\", 'relentless', 'search', 'for', 'his', 'missing', 'son', 'led', 'him', 'to', 'uncover', 'one', 'of', 'the', 'most', 'shocking', 'crimes', 'in', 'post-war', 'Italy', '-', 'a', 'tale', 'of', 'satanism', 'and', 'violence', 'that', 'has', 'gripped', 'the', 'country', 'for', 'more', 'than', 'a', 'year', '.']\n",
      "['NUM', 'NOUN', 'PART', 'ADJ', 'NOUN', 'ADP', 'PRON', 'ADJ', 'NOUN', 'VERB', 'PRON', 'PART', 'VERB', 'NUM', 'ADP', 'DET', 'ADV', 'ADJ', 'NOUN', 'ADP', 'ADJ', 'PROPN', 'PUNCT', 'DET', 'NOUN', 'ADP', 'PROPN', 'CONJ', 'NOUN', 'PRON', 'AUX', 'VERB', 'DET', 'NOUN', 'ADP', 'ADJ', 'ADP', 'DET', 'NOUN', 'PUNCT']\n",
      "['In', 'January', '1998', 'Fabio', 'Tollis', 'and', 'Chiara', 'Marino', ',', 'both', 'just', '16', ',', 'disappeared', '.']\n",
      "['ADP', 'PROPN', 'NUM', 'PROPN', 'PROPN', 'CONJ', 'PROPN', 'PROPN', 'PUNCT', 'ADV', 'ADV', 'NUM', 'PUNCT', 'VERB', 'PUNCT']\n",
      "['They', 'had', 'been', 'drinking', 'at', 'a', 'pub', 'called', 'the', 'Midnight', '-', 'the', 'centre', 'of', 'the', 'heavy', 'metal', 'scene', 'in', 'Milan', '-', 'and', 'they', 'never', 'came', 'home', '.']\n",
      "['PRON', 'AUX', 'AUX', 'VERB', 'ADP', 'DET', 'NOUN', 'VERB', 'DET', 'PROPN', 'PUNCT', 'DET', 'NOUN', 'ADP', 'DET', 'ADJ', 'NOUN', 'NOUN', 'ADP', 'PROPN', 'PUNCT', 'CONJ', 'PRON', 'ADV', 'VERB', 'ADV', 'PUNCT']\n",
      "['The', 'police', 'and', 'many', 'of', 'their', 'friends', 'just', 'thought', 'they', 'had', 'run', 'off', 'together', '.']\n",
      "['DET', 'NOUN', 'CONJ', 'ADJ', 'ADP', 'PRON', 'NOUN', 'ADV', 'VERB', 'PRON', 'AUX', 'VERB', 'ADV', 'ADV', 'PUNCT']\n",
      "['But', 'their', 'parents', 'refused', 'to', 'accept', 'this', '.']\n",
      "['CONJ', 'PRON', 'NOUN', 'VERB', 'PART', 'VERB', 'PRON', 'PUNCT']\n",
      "['Michele', 'Tollis', ',', 'Fabio', \"'s\", 'father', ',', 'began', 'to', 'attend', 'metal', 'concerts', 'and', 'festivals', 'across', 'Europe', ',', 'handing', 'out', 'leaflets', 'and', 'quizzing', 'Fabio', \"'s\", 'friends', '.']\n",
      "['PROPN', 'PROPN', 'PUNCT', 'PROPN', 'PART', 'NOUN', 'PUNCT', 'VERB', 'PART', 'VERB', 'NOUN', 'NOUN', 'CONJ', 'NOUN', 'ADP', 'PROPN', 'PUNCT', 'VERB', 'ADP', 'NOUN', 'CONJ', 'VERB', 'PROPN', 'PART', 'NOUN', 'PUNCT']\n",
      "['Fabio', 'and', 'his', 'friends', 'were', 'into', 'the', 'most', 'extreme', 'forms', 'of', 'heavy', 'metal', 'music', '-', 'death', 'metal', 'and', 'black', 'metal', ',', 'music', 'obsessed', 'with', 'images', 'of', 'murder', 'and', 'satanism', '-', 'and', 'the', 'role', 'of', 'this', 'music', 'is', 'central', 'to', 'the', 'story', '.']\n",
      "['PROPN', 'CONJ', 'PRON', 'NOUN', 'VERB', 'ADP', 'DET', 'ADV', 'ADJ', 'NOUN', 'ADP', 'ADJ', 'NOUN', 'NOUN', 'PUNCT', 'NOUN', 'NOUN', 'CONJ', 'ADJ', 'NOUN', 'PUNCT', 'NOUN', 'ADJ', 'ADP', 'NOUN', 'ADP', 'NOUN', 'CONJ', 'PROPN', 'PUNCT', 'CONJ', 'DET', 'NOUN', 'ADP', 'DET', 'NOUN', 'VERB', 'ADJ', 'ADP', 'DET', 'NOUN', 'PUNCT']\n",
      "['No', 'one', 'can', 'contradict', 'me', 'when', 'I', 'say', 'that', 'heavy', 'metal', 'and', 'satanism', 'are', 'closely', 'linked']\n",
      "['DET', 'NOUN', 'AUX', 'VERB', 'PRON', 'ADV', 'PRON', 'VERB', 'SCONJ', 'ADJ', 'NOUN', 'CONJ', 'PROPN', 'AUX', 'ADV', 'VERB']\n",
      "['Michele', 'Tollis']\n",
      "['PROPN', 'PROPN']\n",
      "['It', 'emerged', 'that', 'Chiara', ',', 'the', 'girl', 'who', 'disappeared', 'with', 'Fabio', ',', 'had', 'a', 'collection', 'of', 'satanic', 'literature', 'and', 'paraphernalia', 'in', 'her', 'bedroom', '.']\n",
      "['PRON', 'VERB', 'SCONJ', 'PROPN', 'PUNCT', 'DET', 'NOUN', 'PRON', 'VERB', 'ADP', 'PROPN', 'PUNCT', 'VERB', 'DET', 'NOUN', 'ADP', 'ADJ', 'NOUN', 'CONJ', 'NOUN', 'ADP', 'PRON', 'NOUN', 'PUNCT']\n",
      "['During', 'this', 'search', ',', 'Michele', 'Tollis', 'became', 'convinced', 'that', 'satanism', 'had', 'something', 'to', 'do', 'with', 'his', 'son', \"'s\", 'disappearance', '.']\n",
      "['ADP', 'DET', 'NOUN', 'PUNCT', 'PROPN', 'PROPN', 'VERB', 'ADJ', 'SCONJ', 'PROPN', 'VERB', 'PRON', 'PART', 'VERB', 'ADP', 'PRON', 'NOUN', 'PART', 'NOUN', 'PUNCT']\n",
      "['\"', 'No', 'one', 'can', 'contradict', 'me', 'when', 'I', 'say', 'that', 'heavy', 'metal', 'and', 'satanism', 'are', 'closely', 'linked', '.']\n",
      "['PUNCT', 'DET', 'NOUN', 'AUX', 'VERB', 'PRON', 'ADV', 'PRON', 'VERB', 'SCONJ', 'ADJ', 'NOUN', 'CONJ', 'PROPN', 'AUX', 'ADV', 'VERB', 'PUNCT']\n",
      "['They', \"'re\", 'inseparable', ',', '\"', 'he', 'says', '.']\n",
      "['PRON', 'VERB', 'ADJ', 'PUNCT', 'PUNCT', 'PRON', 'VERB', 'PUNCT']\n",
      "['Yeah', ',', 'I', 'think', 'Jeff', 'wrote', 'on', 'one', 'of', 'his', 'posts', 'here', 'in', 'the', 'past', 'several', 'months', ':', '\"', 'To', 'hell', 'with', 'death', '\"', '.']\n",
      "['INTJ', 'PUNCT', 'PRON', 'VERB', 'PROPN', 'VERB', 'ADP', 'NUM', 'ADP', 'PRON', 'NOUN', 'ADV', 'ADP', 'DET', 'ADJ', 'ADJ', 'NOUN', 'PUNCT', 'PUNCT', 'ADP', 'NOUN', 'ADP', 'NOUN', 'PUNCT', 'PUNCT']\n",
      "['I', 'wholly', 'agree', ',', 'and', 'would', 'expand', 'that', 'statement', 'to', 'include', ':', '\"', 'To', 'hell', 'with', 'death', 'metal', '\"', '.']\n",
      "['PRON', 'ADV', 'VERB', 'PUNCT', 'CONJ', 'AUX', 'VERB', 'DET', 'NOUN', 'PART', 'VERB', 'PUNCT', 'PUNCT', 'ADP', 'NOUN', 'ADP', 'NOUN', 'NOUN', 'PUNCT', 'PUNCT']\n",
      "['The', 'freaky', 'thing', 'here', 'is', 'that', 'these', 'bozos', 'are', 'seriously', 'claiming', 'the', 'moral', 'high', 'ground', '?', '?', '?', '?', '?']\n",
      "['DET', 'ADJ', 'NOUN', 'ADV', 'VERB', 'SCONJ', 'DET', 'NOUN', 'AUX', 'ADV', 'VERB', 'DET', 'ADJ', 'ADJ', 'NOUN', 'PUNCT', 'PUNCT', 'PUNCT', 'PUNCT', 'PUNCT']\n",
      "['Talk', 'about', 'a', 'beat', '-', 'your', '-', 'head', '-', 'against', '-', 'the', '-', 'wall', 'moment', '!']\n",
      "['VERB', 'ADP', 'DET', 'VERB', 'PUNCT', 'PRON', 'PUNCT', 'NOUN', 'PUNCT', 'ADP', 'PUNCT', 'DET', 'PUNCT', 'NOUN', 'NOUN', 'PUNCT']\n",
      "['And', 'for', \"'\", 'Smartwolf', \"'\", 'above', ',', 'think', 'about', 'the', 'inversion', 'principle', 'being', 'employed', '.']\n",
      "['CONJ', 'ADP', 'PUNCT', 'PROPN', 'PUNCT', 'ADV', 'PUNCT', 'VERB', 'ADP', 'DET', 'NOUN', 'NOUN', 'AUX', 'VERB', 'PUNCT']\n",
      "['They', 'are', 'doing', 'it', 'deliberately', '.']\n",
      "['PRON', 'AUX', 'VERB', 'PRON', 'ADV', 'PUNCT']\n",
      "['Do', 'you', 'really', 'think', 'GWB', ',', 'and', 'neocons', 'in', 'general', 'are', 'representative', 'of', 'true', 'followers', 'of', 'Jesus', 'of', 'Nazareth', '?']\n",
      "['AUX', 'PRON', 'ADV', 'VERB', 'PROPN', 'PUNCT', 'CONJ', 'NOUN', 'ADP', 'ADJ', 'VERB', 'ADJ', 'ADP', 'ADJ', 'NOUN', 'ADP', 'PROPN', 'ADP', 'PROPN', 'PUNCT']\n",
      "['(', 'I', 'know', ',', 'ignorant', 'question', ')', 'Then', 'why', 'call', 'them', ',', 'or', 'any', 'other', 'phonies', \"'\", 'Christians', \"'\", ',', 'even', 'if', 'they', 'themselves', 'claim', 'the', 'appellation', '.']\n",
      "['PUNCT', 'PRON', 'VERB', 'PUNCT', 'ADJ', 'NOUN', 'PUNCT', 'ADV', 'ADV', 'VERB', 'PRON', 'PUNCT', 'CONJ', 'DET', 'ADJ', 'NOUN', 'PUNCT', 'PROPN', 'PUNCT', 'PUNCT', 'ADV', 'SCONJ', 'PRON', 'PRON', 'VERB', 'DET', 'NOUN', 'PUNCT']\n",
      "['They', 'are', 'merely', 'imposters', '.']\n",
      "['PRON', 'VERB', 'ADV', 'NOUN', 'PUNCT']\n",
      "['Everything', 'they', 'claim', 'is', 'a', 'lie', ',', 'and', 'this', 'above', 'all', '.']\n",
      "['PRON', 'PRON', 'VERB', 'VERB', 'DET', 'NOUN', 'PUNCT', 'CONJ', 'PRON', 'ADP', 'DET', 'PUNCT']\n",
      "['So', 'why', 'even', 'credit', 'their', 'claims', '?']\n",
      "['ADV', 'ADV', 'ADV', 'VERB', 'PRON', 'NOUN', 'PUNCT']\n",
      "['This', 'only', 'serves', 'their', 'purposes', '.']\n",
      "['PRON', 'ADV', 'VERB', 'PRON', 'NOUN', 'PUNCT']\n",
      "['They', 'want', 'to', 'be', 'identified', 'as', \"'\", 'Christians', \"'\", ',', 'and', 'I', 'fully', 'suspect', 'that', 'for', 'some', 'of', 'them', ',', 'the', 'motivation', 'behind', 'their', 'subterfuge', 'is', 'more', 'than', 'mere', 'political', 'advantage', ',', 'and', 'has', 'a', 'lot', 'more', 'to', 'do', 'with', 'the', 'black', 'magician', \"'s\", 'practice', 'of', 'the', 'inversion', 'principle', '.']\n",
      "['PRON', 'VERB', 'PART', 'AUX', 'VERB', 'ADP', 'PUNCT', 'PROPN', 'PUNCT', 'PUNCT', 'CONJ', 'PRON', 'ADV', 'VERB', 'SCONJ', 'ADP', 'DET', 'ADP', 'PRON', 'PUNCT', 'DET', 'NOUN', 'ADP', 'PRON', 'NOUN', 'VERB', 'ADJ', 'ADP', 'ADJ', 'ADJ', 'NOUN', 'PUNCT', 'CONJ', 'VERB', 'DET', 'NOUN', 'ADJ', 'PART', 'VERB', 'ADP', 'DET', 'ADJ', 'NOUN', 'PART', 'NOUN', 'ADP', 'DET', 'NOUN', 'NOUN', 'PUNCT']\n",
      "['We', 'need', 'to', 'be', 'more', \"'\", 'rigorous', \"'\", 'about', 'how', 'we', 'perceive', 'these', 'people', '.']\n",
      "['PRON', 'VERB', 'PART', 'VERB', 'ADV', 'PUNCT', 'ADJ', 'PUNCT', 'SCONJ', 'ADV', 'PRON', 'VERB', 'DET', 'NOUN', 'PUNCT']\n",
      "['See', 'them', 'as', 'they', 'are', ',', 'not', 'for', 'what', 'they', 'claim', 'to', 'be', '.']\n",
      "['VERB', 'PRON', 'SCONJ', 'PRON', 'VERB', 'PUNCT', 'CONJ', 'SCONJ', 'PRON', 'PRON', 'VERB', 'PART', 'VERB', 'PUNCT']\n",
      "['...', 'the', 'most', 'extreme', 'forms', 'of', 'heavy', 'metal', 'music', '-', 'death', 'metal', 'and', 'black', 'metal', ',', 'music', 'obsessed', 'with', 'images', 'of', 'murder', 'and', 'satanism', '-', 'and', 'the', 'role', 'of', 'this', 'music', 'is', 'central', 'to', 'the', 'story', '.']\n",
      "['PUNCT', 'DET', 'ADV', 'ADJ', 'NOUN', 'ADP', 'ADJ', 'NOUN', 'NOUN', 'PUNCT', 'NOUN', 'NOUN', 'CONJ', 'ADJ', 'NOUN', 'PUNCT', 'NOUN', 'ADJ', 'ADP', 'NOUN', 'ADP', 'NOUN', 'CONJ', 'PROPN', 'PUNCT', 'CONJ', 'DET', 'NOUN', 'ADP', 'DET', 'NOUN', 'VERB', 'ADJ', 'ADP', 'DET', 'NOUN', 'PUNCT']\n",
      "['Almost', 'all', 'of', 'the', 'avant', 'guard', 'art', 'movements', 'of', 'the', 'early', '20th', 'Century', '(', 'except', 'for', 'Italian', 'Futurism', ')', 'were', 'labeled', \"'\", 'degenerate', \"'\", 'by', 'the', 'National', 'Socialists', '.']\n",
      "['ADV', 'DET', 'ADP', 'DET', 'NOUN', 'NOUN', 'NOUN', 'NOUN', 'ADP', 'DET', 'ADJ', 'ADJ', 'NOUN', 'PUNCT', 'ADP', 'ADP', 'ADJ', 'NOUN', 'PUNCT', 'AUX', 'VERB', 'PUNCT', 'ADJ', 'PUNCT', 'ADP', 'DET', 'PROPN', 'PROPN', 'PUNCT']\n",
      "['Adolf', 'Hitler', 'even', 'held', 'an', 'exhibition', 'of', \"'\", 'degenerate', 'art', \"'\", 'in', '1937', ',', 'while', 'curating', 'a', 'parallel', 'show', 'of', \"'\", 'Aryan', \"'\", 'art', 'across', 'the', 'street', '.']\n",
      "['PROPN', 'PROPN', 'ADV', 'VERB', 'DET', 'NOUN', 'ADP', 'PUNCT', 'ADJ', 'NOUN', 'PUNCT', 'ADP', 'NUM', 'PUNCT', 'SCONJ', 'VERB', 'DET', 'ADJ', 'NOUN', 'ADP', 'PUNCT', 'ADJ', 'PUNCT', 'NOUN', 'ADP', 'DET', 'NOUN', 'PUNCT']\n",
      "['The', 'German', 'Expressionist', 'movement', 'was', 'destroyed', 'as', 'a', 'result', '.']\n",
      "['DET', 'ADJ', 'NOUN', 'NOUN', 'AUX', 'VERB', 'ADP', 'DET', 'NOUN', 'PUNCT']\n",
      "['Here', \"'s\", 'a', 'quick', 'overview', 'of', 'the', 'Entartete', 'Kunst', '(', 'Degenerate', 'Art', ')', 'exhibit', 'of', '1937', ':']\n",
      "['ADV', 'VERB', 'DET', 'ADJ', 'NOUN', 'ADP', 'DET', 'PROPN', 'PROPN', 'PUNCT', 'PROPN', 'PROPN', 'PUNCT', 'NOUN', 'ADP', 'NUM', 'PUNCT']\n",
      "['http://en.wikipedia.org/wiki/Degenerate_art']\n",
      "['X']\n",
      "['Ironically', '(', 'or', 'perhaps', 'not', ')', ',', 'the', 'notion', 'of', 'the', \"'\", 'degenerate', \"'\", 'and', \"'\", 'degenerate', 'art', \"'\", 'was', 'appropriated', 'by', 'the', 'Nazis', 'and', 'its', 'origins', 'can', 'be', 'traced', 'back', 'to', 'Jewish', \"'\", 'intellectual', \"'\", 'Max', 'Nordau', 'and', 'a', '1892', 'book', 'he', 'authored', 'called', 'Degeneration', '.', '.']\n",
      "['ADV', 'PUNCT', 'CONJ', 'ADV', 'PART', 'PUNCT', 'PUNCT', 'DET', 'NOUN', 'ADP', 'DET', 'PUNCT', 'NOUN', 'PUNCT', 'CONJ', 'PUNCT', 'ADJ', 'NOUN', 'PUNCT', 'AUX', 'VERB', 'ADP', 'DET', 'PROPN', 'CONJ', 'PRON', 'NOUN', 'AUX', 'AUX', 'VERB', 'ADV', 'ADP', 'ADJ', 'PUNCT', 'NOUN', 'PUNCT', 'PROPN', 'PROPN', 'CONJ', 'DET', 'NUM', 'NOUN', 'PRON', 'VERB', 'VERB', 'PROPN', 'PUNCT', 'PUNCT']\n",
      "['Nordau', 'was', 'also', 'the', 'co', 'founder', 'of', 'the', 'World', 'Zionist', 'Organization', '.']\n",
      "['PROPN', 'VERB', 'ADV', 'DET', 'X', 'NOUN', 'ADP', 'DET', 'PROPN', 'PROPN', 'PROPN', 'PUNCT']\n",
      "['When', 'the', 'apparently', 'cognitively', 'functional', 'take', 'actions', 'that', 'seem', 'senseless', 'and', 'incompetent', ',', 'it', 'is', 'a', 'most', 'certain', 'sign', 'that', 'they', 'have', 'ulterior', 'or', 'hidden', 'motives', '.']\n",
      "['ADV', 'DET', 'ADV', 'ADV', 'ADJ', 'VERB', 'NOUN', 'PRON', 'VERB', 'ADJ', 'CONJ', 'ADJ', 'PUNCT', 'PRON', 'VERB', 'DET', 'ADV', 'ADJ', 'NOUN', 'SCONJ', 'PRON', 'VERB', 'ADJ', 'CONJ', 'ADJ', 'NOUN', 'PUNCT']\n",
      "['They', 'trust', 'you', 'and', 'me', 'to', 'be', 'befuddled', 'by', 'their', 'actions', ',', 'while', 'they', '\"', 'do', 'as', 'they', 'wilt', '.', '\"']\n",
      "['PRON', 'VERB', 'PRON', 'CONJ', 'PRON', 'PART', 'AUX', 'VERB', 'ADP', 'PRON', 'NOUN', 'PUNCT', 'SCONJ', 'PRON', 'PUNCT', 'VERB', 'SCONJ', 'PRON', 'AUX', 'PUNCT', 'PUNCT']\n",
      "['A', 'question', ':']\n",
      "['DET', 'NOUN', 'PUNCT']\n",
      "['Are', 'the', 'adherent', 'of', \"'\", 'Crowleyan', 'Thelema', \"'\", 'and', 'others', 'of', 'similar', 'ilk', 'appropriating', 'or', 'appropriating', 'from', 'the', 'appropriators', 'to', 'redirect', \"'\", 'energy', '?', \"'\"]\n",
      "['AUX', 'DET', 'NOUN', 'ADP', 'PUNCT', 'ADJ', 'PROPN', 'PUNCT', 'CONJ', 'NOUN', 'ADP', 'ADJ', 'NOUN', 'VERB', 'CONJ', 'VERB', 'ADP', 'DET', 'NOUN', 'PART', 'VERB', 'PUNCT', 'NOUN', 'PUNCT', 'PUNCT']\n",
      "['Does', 'this', 'reappropriation', 'lead', 'to', 'or', 'originate', 'from', 'the', 'same', 'place', '?']\n",
      "['AUX', 'DET', 'NOUN', 'VERB', 'ADP', 'CONJ', 'VERB', 'ADP', 'DET', 'ADJ', 'NOUN', 'PUNCT']\n",
      "['Seems', 'as', 'if', 'there', 'is', 'a', 'clear', 'distinction', 'being', 'made', 'between', 'the', \"'\", 'imaginary', \"'\", 'Whore', 'of', 'Babalon', 'and', 'the', 'actually', 'Whore', 'of', 'Babylon', ',', 'which', 'is', 'this', 'global', 'system', '.']\n",
      "['VERB', 'SCONJ', 'SCONJ', 'PRON', 'VERB', 'DET', 'ADJ', 'NOUN', 'AUX', 'VERB', 'ADP', 'DET', 'PUNCT', 'ADJ', 'PUNCT', 'PROPN', 'ADP', 'PROPN', 'CONJ', 'DET', 'ADV', 'PROPN', 'ADP', 'PROPN', 'PUNCT', 'PRON', 'VERB', 'DET', 'ADJ', 'NOUN', 'PUNCT']\n",
      "['Is', 'the', 'distinction', 'accurate', 'and', 'valid', '?']\n",
      "['VERB', 'DET', 'NOUN', 'ADJ', 'CONJ', 'ADJ', 'PUNCT']\n",
      "['Does', 'the', 'distinction', 'actually', 'exist', '?']\n",
      "['AUX', 'DET', 'NOUN', 'ADV', 'VERB', 'PUNCT']\n",
      "['This', 'is', 'where', 'the', 'socio', '-', 'political', 'aspect', 'of', 'this', 'conundrum', 'comes', 'into', 'play', '.']\n",
      "['PRON', 'VERB', 'ADV', 'DET', 'X', 'PUNCT', 'ADJ', 'NOUN', 'ADP', 'DET', 'NOUN', 'VERB', 'ADP', 'NOUN', 'PUNCT']\n",
      "['Confused', '?']\n",
      "['ADJ', 'PUNCT']\n",
      "['Good', '.']\n",
      "['INTJ', 'PUNCT']\n",
      "['so', ',', 'enemy', ',', 'what', \"'s\", 'your', 'point', '?']\n",
      "['ADV', 'PUNCT', 'PROPN', 'PUNCT', 'PRON', 'VERB', 'PRON', 'NOUN', 'PUNCT']\n",
      "['Why', 'do', \"n't\", 'you', 'state', 'it', '?']\n",
      "['ADV', 'AUX', 'PART', 'PRON', 'VERB', 'PRON', 'PUNCT']\n",
      "['My', 'point', 'is', 'that', 'these', 'are', 'all', 'just', 'questions', 'and', 'I', 'am', 'undecided', 'as', 'to', 'the', 'answers', '.']\n",
      "['PRON', 'NOUN', 'VERB', 'SCONJ', 'PRON', 'VERB', 'ADV', 'ADV', 'NOUN', 'CONJ', 'PRON', 'VERB', 'ADJ', 'ADP', 'ADP', 'DET', 'NOUN', 'PUNCT']\n",
      "['Here', \"'s\", 'another', 'interesting', 'example', ':']\n",
      "['ADV', 'VERB', 'DET', 'ADJ', 'NOUN', 'PUNCT']\n",
      "['John', 'Balance', 'from', 'Coil', '.']\n",
      "['PROPN', 'PROPN', 'ADP', 'PROPN', 'PUNCT']\n",
      "['(', 'Do', \"n't\", 'wish', 'to', 'use', 'Wikipedia', 'again', ',', 'it', \"'s\", 'just', 'easier', 'than', 'spending', 'time', 'looking', 'up', 'more', 'obscure', 'and', 'detailed', 'information', '.', ')']\n",
      "['PUNCT', 'AUX', 'PART', 'VERB', 'PART', 'VERB', 'PROPN', 'ADV', 'PUNCT', 'PRON', 'VERB', 'ADV', 'ADJ', 'SCONJ', 'VERB', 'NOUN', 'VERB', 'ADP', 'ADJ', 'ADJ', 'CONJ', 'ADJ', 'NOUN', 'PUNCT', 'PUNCT']\n",
      "['http://en.wikipedia.org/wiki/John_Balance']\n",
      "['X']\n",
      "['http://www.guardian.co.uk/obituaries/story/0,3604,1371372,00.html']\n",
      "['X']\n",
      "['Balance', 'died', 'in', '2004', 'after', 'a', \"'\", 'fall', '.', \"'\"]\n",
      "['PROPN', 'VERB', 'ADP', 'NUM', 'ADP', 'DET', 'PUNCT', 'NOUN', 'PUNCT', 'PUNCT']\n",
      "['He', 'blended', 'belief', 'systems', 'such', 'as', 'Shamanism', ',', 'Christianity', ',', 'Buddhism', ',', 'Paganism', ',', 'Hermeticism', 'and', 'Gnosticism', 'and', 'imbued', 'Coil', \"'s\", 'vast', 'output', 'with', 'a', 'magickal', 'current', 'designed', 'to', 'have', 'a', 'functionally', 'transcendent', 'effect', 'on', 'listeners', '.']\n",
      "['PRON', 'VERB', 'NOUN', 'NOUN', 'ADJ', 'ADP', 'PROPN', 'PUNCT', 'PROPN', 'PUNCT', 'PROPN', 'PUNCT', 'PROPN', 'PUNCT', 'PROPN', 'CONJ', 'PROPN', 'CONJ', 'VERB', 'PROPN', 'PART', 'ADJ', 'NOUN', 'ADP', 'DET', 'ADJ', 'NOUN', 'VERB', 'PART', 'VERB', 'DET', 'ADV', 'ADJ', 'NOUN', 'ADP', 'NOUN', 'PUNCT']\n",
      "['Not', '200,000', 'guns', '-', 'the', 'numbers', 'do', 'nt', 'work', ':']\n",
      "['PART', 'NUM', 'NOUN', 'PUNCT', 'DET', 'NOUN', 'AUX', 'PART', 'VERB', 'PUNCT']\n",
      "['5', 'kg', 'per', 'gun', ',', '200,000', 'guns', 'means', '1000', 'tonnes', ',', 'impossible', 'for', '4', 'containers', '.']\n",
      "['NUM', 'NOUN', 'ADP', 'NOUN', 'PUNCT', 'NUM', 'NOUN', 'VERB', 'NUM', 'NOUN', 'PUNCT', 'ADJ', 'ADP', 'NUM', 'NOUN', 'PUNCT']\n",
      "['If', 'the', 'load', 'was', '99', 'tonnes', 'there', 'were', 'probably', 'less', 'than', '20,000', '.']\n",
      "['SCONJ', 'DET', 'NOUN', 'VERB', 'NUM', 'NOUN', 'ADV', 'VERB', 'ADV', 'ADJ', 'ADP', 'NUM', 'PUNCT']\n",
      "['E@tG', ':']\n",
      "['PROPN', 'PUNCT']\n",
      "['Maybe', 'if', 'you', 'formulate', 'your', 'questions', 'a', 'little', 'more', 'specifically', 'it', 'will', 'help', 'you', 'in', 'acquiring', 'the', 'answers', '.']\n",
      "['ADV', 'SCONJ', 'PRON', 'VERB', 'PRON', 'NOUN', 'DET', 'ADJ', 'ADV', 'ADV', 'PRON', 'AUX', 'VERB', 'PRON', 'SCONJ', 'VERB', 'DET', 'NOUN', 'PUNCT']\n",
      "['\"', 'I', 'am', ',', 'therefore', 'I', 'think', '\"', ':)']\n",
      "['PUNCT', 'PRON', 'VERB', 'PUNCT', 'ADV', 'PRON', 'VERB', 'PUNCT', 'SYM']\n",
      "['Reporting', 'from', 'the', 'town', 'where', 'Susan', 'Polk', \"'s\", 'trial', 'is', 'going', 'on', '.']\n",
      "['VERB', 'ADP', 'DET', 'NOUN', 'ADV', 'PROPN', 'PROPN', 'PART', 'NOUN', 'AUX', 'VERB', 'ADP', 'PUNCT']\n",
      "['I', 'went', 'across', 'the', 'bay', 'last', 'night', 'to', 'attend', 'a', 'farmer', \"'s\", 'market', 'and', 'music', 'event', '.']\n",
      "['PRON', 'VERB', 'ADP', 'DET', 'NOUN', 'ADJ', 'NOUN', 'PART', 'VERB', 'DET', 'NOUN', 'PART', 'NOUN', 'CONJ', 'NOUN', 'NOUN', 'PUNCT']\n",
      "['Lo', 'and', 'behold', ',', 'the', 'Mormons', 'were', 'there', 'with', 'a', 'booth', '.']\n",
      "['INTJ', 'CONJ', 'INTJ', 'PUNCT', 'DET', 'PROPN', 'VERB', 'ADV', 'ADP', 'DET', 'NOUN', 'PUNCT']\n",
      "['Two', 'young', 'men', 'delivering', 'information', 'about', 'the', 'Mormon', 'genealogy', 'program', '.']\n",
      "['NUM', 'ADJ', 'NOUN', 'VERB', 'NOUN', 'ADP', 'DET', 'ADJ', 'NOUN', 'NOUN', 'PUNCT']\n",
      "['Just', 'give', 'your', 'email', 'and', '/', 'or', 'phone', 'number', 'to', 'these', 'guys', 'and', 'they', \"'ll\", 'track', 'down', 'your', 'family', '.']\n",
      "['ADV', 'VERB', 'PRON', 'NOUN', 'CONJ', 'SYM', 'CONJ', 'NOUN', 'NOUN', 'ADP', 'DET', 'NOUN', 'CONJ', 'PRON', 'AUX', 'VERB', 'ADP', 'PRON', 'NOUN', 'PUNCT']\n",
      "['I', 'was', 'amazed', 'at', 'the', 'spiel', 'they', 'delivered', '.']\n",
      "['PRON', 'AUX', 'VERB', 'ADP', 'DET', 'NOUN', 'PRON', 'VERB', 'PUNCT']\n",
      "['Kindly', 'young', 'men', ',', 'but', 'utterly', 'programmed', 'and', 'brain', '-', 'dead', '.']\n",
      "['ADJ', 'ADJ', 'NOUN', 'PUNCT', 'CONJ', 'ADV', 'VERB', 'CONJ', 'NOUN', 'PUNCT', 'ADJ', 'PUNCT']\n",
      "['I', 'resisted', 'asking', 'any', 'questions', 'that', 'would', 'have', 'required', 'either', 'of', 'them', 'to', 'think', '.']\n",
      "['PRON', 'VERB', 'VERB', 'DET', 'NOUN', 'PRON', 'AUX', 'AUX', 'VERB', 'DET', 'ADP', 'PRON', 'PART', 'VERB', 'PUNCT']\n",
      "['It', 'would', 'have', 'been', 'too', 'painful', 'to', 'watch', '.']\n",
      "['PRON', 'AUX', 'AUX', 'VERB', 'ADV', 'ADJ', 'PART', 'VERB', 'PUNCT']\n",
      "['Has', 'anyone', 'read', 'the', 'letter', 'purportedly', 'from', 'Ahmadinejad', 'to', 'George', 'Bush', '?']\n",
      "['AUX', 'PRON', 'VERB', 'DET', 'NOUN', 'ADV', 'ADP', 'PROPN', 'ADP', 'PROPN', 'PROPN', 'PUNCT']\n",
      "['http://www.thetruthseeker.co.uk/article.asp?id=4503']\n",
      "['X']\n",
      "['I', 'do', \"n't\", 'know', 'if', 'this', 'has', 'been', 'verified', '.']\n",
      "['PRON', 'AUX', 'PART', 'VERB', 'SCONJ', 'PRON', 'AUX', 'AUX', 'VERB', 'PUNCT']\n",
      "['But', 'succintly', 'making', 'point', 'after', 'succint', 'point', ',', 'the', 'text', 'of', 'the', 'letter', 'stands', 'on', 'its', 'own', 'merit', ',', 'regardless', '.']\n",
      "['CONJ', 'ADV', 'VERB', 'NOUN', 'ADP', 'ADJ', 'NOUN', 'PUNCT', 'DET', 'NOUN', 'ADP', 'DET', 'NOUN', 'VERB', 'ADP', 'PRON', 'ADJ', 'NOUN', 'PUNCT', 'ADV', 'PUNCT']\n",
      "['I', 'like', 'to', 'imagine', 'the', 'thought', 'processes', 'going', 'on', 'in', 'W', \"'s\", 'head', 'if', 'he', 'were', 'to', 'actually', 'read', 'the', 'letter', ',', 'but', 'it', 'is', 'hard', 'to', 'picture', 'him', 'actually', 'reading', 'this', 'letter', '.']\n",
      "['PRON', 'VERB', 'PART', 'VERB', 'DET', 'NOUN', 'NOUN', 'VERB', 'ADP', 'ADP', 'PROPN', 'PART', 'NOUN', 'SCONJ', 'PRON', 'VERB', 'PART', 'ADV', 'VERB', 'DET', 'NOUN', 'PUNCT', 'CONJ', 'PRON', 'VERB', 'ADJ', 'PART', 'VERB', 'PRON', 'ADV', 'VERB', 'DET', 'NOUN', 'PUNCT']\n",
      "['As', 'I', 'read', 'the', 'letter', ',', 'I', 'considered', 'the', 'vast', 'contrast', 'between', 'mind', 'and', 'morality', 'of', 'whoever', 'wrote', 'it', ',', 'vs.', 'that', 'of', 'the', 'mind', 'of', 'the', 'man', 'who', 'once', 'said', '\"', 'Bring', 'it', 'on', '!', '\"']\n",
      "['SCONJ', 'PRON', 'VERB', 'DET', 'NOUN', 'PUNCT', 'PRON', 'VERB', 'DET', 'ADJ', 'NOUN', 'ADP', 'NOUN', 'CONJ', 'NOUN', 'ADP', 'PRON', 'VERB', 'PRON', 'PUNCT', 'CONJ', 'PRON', 'ADP', 'DET', 'NOUN', 'ADP', 'DET', 'NOUN', 'PRON', 'ADV', 'VERB', 'PUNCT', 'VERB', 'PRON', 'ADP', 'PUNCT', 'PUNCT']\n",
      "['America', ',', 'your', 'condition', 'is', 'dire', ',', 'dark', 'and', 'deep', '.']\n",
      "['PROPN', 'PUNCT', 'PRON', 'NOUN', 'VERB', 'ADJ', 'PUNCT', 'ADJ', 'CONJ', 'ADJ', 'PUNCT']\n",
      "['Of', 'the', 'metal', 'music', 'farce', ',', 'Ministry', 'has', 'definately', 'made', 'in', '-', 'road', 'into', \"'\", 'Loose', 'Change', '\"', '-', '\"', 'Alex', 'Jones', '\"', 'territory', 'with', 'their', 'new', 'record', ',', 'Rio', 'Grande', 'Blood', '.']\n",
      "['ADP', 'DET', 'NOUN', 'NOUN', 'NOUN', 'PUNCT', 'PROPN', 'AUX', 'ADV', 'VERB', 'NOUN', 'PUNCT', 'NOUN', 'ADP', 'PUNCT', 'PROPN', 'PROPN', 'PUNCT', 'PUNCT', 'PUNCT', 'PROPN', 'PROPN', 'PUNCT', 'NOUN', 'ADP', 'PRON', 'ADJ', 'NOUN', 'PUNCT', 'PROPN', 'PROPN', 'PROPN', 'PUNCT']\n",
      "['Important', 'Kos', 'Diary', 'about', 'bush', \"'s\", 'response', 'to', 'the', 'gathering', 'storm', 'of', 'scandals', ':']\n",
      "['ADJ', 'PROPN', 'PROPN', 'ADP', 'PROPN', 'PART', 'NOUN', 'ADP', 'DET', 'VERB', 'NOUN', 'ADP', 'NOUN', 'PUNCT']\n",
      "['http://www.dailykos.com/story/2006/5/12/232746/857']\n",
      "['X']\n",
      "['=', 'Executive', 'Orders', '-']\n",
      "['SYM', 'ADJ', 'NOUN', 'PUNCT']\n",
      "['very', 'creepy', ',', 'very', 'scary']\n",
      "['ADV', 'ADJ', 'PUNCT', 'ADV', 'ADJ']\n",
      "['They', 'have', 'been', 'accumulating', 'for', 'years', ',', 'and', 'basically', 'give', 'the', 'president', 'to', 'sieze', 'the', 'government', 'whenever', 'he', 'feels', 'like', 'it', '.']\n",
      "['PRON', 'AUX', 'AUX', 'VERB', 'ADP', 'NOUN', 'PUNCT', 'CONJ', 'ADV', 'VERB', 'DET', 'PROPN', 'PART', 'VERB', 'DET', 'NOUN', 'ADV', 'PRON', 'VERB', 'ADP', 'PRON', 'PUNCT']\n",
      "['But', 'who', 'would', 'do', 'a', 'thing', 'like', 'that', '....', 'hey', 'wait', 'a', 'minute']\n",
      "['CONJ', 'PRON', 'AUX', 'VERB', 'DET', 'NOUN', 'ADP', 'PRON', 'PUNCT', 'INTJ', 'VERB', 'DET', 'NOUN']\n",
      "['==', 'Why', 'did', 'Bush', 'revoke', 'Executive', 'Order', '13011', 'today', '?']\n",
      "['SYM', 'ADV', 'AUX', 'PROPN', 'VERB', 'PROPN', 'PROPN', 'NUM', 'NOUN', 'PUNCT']\n",
      "['by', 'exmearden']\n",
      "['ADP', 'PROPN']\n",
      "['Fri', 'May', '12', ',', '2006', 'at', '08:27:46', 'PM', 'PDT']\n",
      "['PROPN', 'PROPN', 'NUM', 'PUNCT', 'NUM', 'ADP', 'NUM', 'NOUN', 'PROPN']\n",
      "['In', 'scanning', 'the', 'whitehouse.gov', 'site', 'today', ',', 'I', 'noticed', 'the', 'following', 'Executive', 'Order', ':']\n",
      "['SCONJ', 'VERB', 'DET', 'PROPN', 'NOUN', 'NOUN', 'PUNCT', 'PRON', 'VERB', 'DET', 'VERB', 'ADJ', 'NOUN', 'PUNCT']\n",
      "['Executive', 'Order', ':', 'Amendments', 'to', 'Executive', 'Orders', '11030', ',', '13279', ',', '13339', ',', '13381', ',', 'and', '13389', ',', 'and', '***', 'Revocation', '***', 'of', 'Executive', 'Order', '13011', '....']\n",
      "['ADJ', 'NOUN', 'PUNCT', 'NOUN', 'ADP', 'ADJ', 'NOUN', 'NUM', 'PUNCT', 'NUM', 'PUNCT', 'NUM', 'PUNCT', 'NUM', 'PUNCT', 'CONJ', 'NUM', 'PUNCT', 'CONJ', 'PUNCT', 'NOUN', 'PUNCT', 'ADP', 'ADJ', 'NOUN', 'NUM', 'PUNCT']\n",
      "['I', 'ca', \"n't\", 'believe', 'there', 'are', 'no', 'serious', 'metal', 'fans', 'who', 'frequent', 'RI', '.']\n",
      "['PRON', 'AUX', 'PART', 'VERB', 'PRON', 'VERB', 'DET', 'ADJ', 'NOUN', 'NOUN', 'PRON', 'VERB', 'PROPN', 'PUNCT']\n",
      "['I', \"'m\", 'wary', 'of', 'jumping', 'into', 'this', 'fray', 'without', 'backup', ',', 'that', \"'s\", 'for', 'damn', 'sure', '.', ':)']\n",
      "['PRON', 'VERB', 'ADJ', 'SCONJ', 'VERB', 'ADP', 'DET', 'NOUN', 'ADP', 'NOUN', 'PUNCT', 'PRON', 'VERB', 'ADP', 'ADV', 'ADJ', 'PUNCT', 'SYM']\n",
      "['I', \"'m\", 'a', 'regular', 'poster', 'but', 'for', 'some', 'reason', 'blogger', 'wo', \"n't\", 'let', 'me', 'in', 'today', '...', 'but', 'sign', 'me', 'TroubleFunk', '.']\n",
      "['PRON', 'VERB', 'DET', 'ADJ', 'NOUN', 'CONJ', 'ADP', 'DET', 'NOUN', 'PROPN', 'AUX', 'PART', 'VERB', 'PRON', 'ADP', 'NOUN', 'PUNCT', 'CONJ', 'VERB', 'PRON', 'PROPN', 'PUNCT']\n",
      "['Tronicus', ':']\n",
      "['PROPN', 'PUNCT']\n",
      "['Simply', ',', 'the', 'questions', 'permeate', 'the', 'entire', \"'\", 'Western', '(', 'Mystery', ')', 'Tradition', \"'\", 'and', 'perhaps', \"'\", 'Eastern', \"'\", 'as', 'well', ',', 'as', 'they', 'relate', 'to', 'the', 'confluence', 'of', 'politics', 'and', 'spirituality', '.']\n",
      "['ADV', 'PUNCT', 'DET', 'NOUN', 'VERB', 'DET', 'ADJ', 'PUNCT', 'ADJ', 'PUNCT', 'NOUN', 'PUNCT', 'NOUN', 'PUNCT', 'CONJ', 'ADV', 'PUNCT', 'ADJ', 'PUNCT', 'ADV', 'ADV', 'PUNCT', 'SCONJ', 'PRON', 'VERB', 'ADP', 'DET', 'NOUN', 'ADP', 'NOUN', 'CONJ', 'NOUN', 'PUNCT']\n",
      "['For', 'example', ',', 'is', 'the', 'system', 'of', 'Crowleyan', 'Thelema', 'a', 'failed', 'alchemical', 'process', '?']\n",
      "['ADP', 'NOUN', 'PUNCT', 'VERB', 'DET', 'NOUN', 'ADP', 'ADJ', 'PROPN', 'DET', 'VERB', 'ADJ', 'NOUN', 'PUNCT']\n",
      "['Or', 'was', 'it', 'supposed', 'to', 'initially', 'be', 'a', 'process', 'of', 'alchemical', 'appropriation', '?']\n",
      "['CONJ', 'AUX', 'PRON', 'VERB', 'PART', 'ADV', 'VERB', 'DET', 'NOUN', 'ADP', 'ADJ', 'NOUN', 'PUNCT']\n",
      "['Similarly', ',', 'is', 'invoking', 'ancient', 'Egyptian', 'gods', 'and', 'goddesses', 'a', 'reaffirmation', 'of', 'an', 'oppressive', 'and', 'hierarchical', 'system', '?']\n",
      "['ADV', 'PUNCT', 'VERB', 'VERB', 'ADJ', 'ADJ', 'NOUN', 'CONJ', 'NOUN', 'DET', 'NOUN', 'ADP', 'DET', 'ADJ', 'CONJ', 'ADJ', 'NOUN', 'PUNCT']\n",
      "['In', 'my', 'opinion', ',', 'people', 'can', 'no', 'longer', 'afford', 'to', 'partition', 'out', 'and', 'compartmentalize', 'personal', 'spiritual', 'and', 'political', 'systems', '.']\n",
      "['ADP', 'PRON', 'NOUN', 'PUNCT', 'NOUN', 'AUX', 'ADV', 'ADV', 'VERB', 'PART', 'VERB', 'ADP', 'CONJ', 'VERB', 'ADJ', 'ADJ', 'CONJ', 'ADJ', 'NOUN', 'PUNCT']\n",
      "['The', \"'\", 'high', 'weirdness', \"'\", 'and', 'more', 'hardcore', 'political', \"'\", 'factions', \"'\", 'must', 'perhaps', 'integrate', 'and', 'arrive', 'at', 'a', 'synthesis', '.']\n",
      "['DET', 'PUNCT', 'ADJ', 'NOUN', 'PUNCT', 'CONJ', 'ADV', 'ADJ', 'ADJ', 'PUNCT', 'NOUN', 'PUNCT', 'AUX', 'ADV', 'VERB', 'CONJ', 'VERB', 'ADP', 'DET', 'NOUN', 'PUNCT']\n",
      "['In', 'regards', 'to', 'death', 'metal', ',', 'the', 'problem', 'is', ',', 'once', 'again', ',', 'a', 'question', 'of', 'education', ',', 'history', 'and', 'the', 'vacuous', 'lack', 'of', 'perspective', 'in', 'American', 'culture', '.']\n",
      "['ADP', 'NOUN', 'ADP', 'NOUN', 'NOUN', 'PUNCT', 'DET', 'NOUN', 'VERB', 'PUNCT', 'ADV', 'ADV', 'PUNCT', 'DET', 'NOUN', 'ADP', 'NOUN', 'PUNCT', 'NOUN', 'CONJ', 'DET', 'ADJ', 'NOUN', 'ADP', 'NOUN', 'ADP', 'ADJ', 'NOUN', 'PUNCT']\n",
      "['Shall', 'we', 'censor', 'the', 'works', 'of', 'poet', 'Charles', 'Baudelaire', 'as', 'well', '?']\n",
      "['AUX', 'PRON', 'VERB', 'DET', 'NOUN', 'ADP', 'NOUN', 'NOUN', 'PROPN', 'ADV', 'ADV', 'PUNCT']\n",
      "['Baudelaire', 'was', 'perhaps', 'one', 'of', 'the', 'first', \"'\", 'death', 'metal', \"'\", 'artists', '.']\n",
      "['PROPN', 'VERB', 'ADV', 'NUM', 'ADP', 'DET', 'ADJ', 'PUNCT', 'NOUN', 'NOUN', 'PUNCT', 'NOUN', 'PUNCT']\n",
      "['Tronicus', ',', 'if', 'you', \"'re\", 'still', 'checking', 'this', 'thread', ':']\n",
      "['PROPN', 'PUNCT', 'SCONJ', 'PRON', 'AUX', 'ADV', 'VERB', 'DET', 'NOUN', 'PUNCT']\n",
      "['A', 'bit', 'of', 'a', 'knee', '-', 'jerk', 'reaction', 'from', 'me', 'there', ',', 'and', 'I', 'apologize', 'for', 'my', 'over-generalizations', '.']\n",
      "['DET', 'NOUN', 'ADP', 'DET', 'NOUN', 'PUNCT', 'NOUN', 'NOUN', 'ADP', 'PRON', 'ADV', 'PUNCT', 'CONJ', 'PRON', 'VERB', 'ADP', 'PRON', 'NOUN', 'PUNCT']\n",
      "['My', 'real', 'problem', 'is', 'with', 'literalist', 'fundamentalists', ',', 'of', 'any', 'religion', '.']\n",
      "['PRON', 'ADJ', 'NOUN', 'VERB', 'ADP', 'NOUN', 'NOUN', 'PUNCT', 'ADP', 'DET', 'NOUN', 'PUNCT']\n",
      "['True', 'believers', 'are', 'dangerous', 'animals', '.']\n",
      "['ADJ', 'NOUN', 'VERB', 'ADJ', 'NOUN', 'PUNCT']\n",
      "['I', 'just', 'get', 'hung', 'up', 'on', \"'\", 'Christians', \"'\", ',', 'as', 'they', \"'re\", 'the', 'dominant', 'form', 'where', 'I', 'come', 'from', '.']\n",
      "['PRON', 'ADV', 'VERB', 'ADJ', 'ADJ', 'ADP', 'PUNCT', 'PROPN', 'PUNCT', 'PUNCT', 'SCONJ', 'PRON', 'VERB', 'DET', 'ADJ', 'NOUN', 'ADV', 'PRON', 'VERB', 'ADP', 'PUNCT']\n",
      "['Also', ',', 'I', \"'m\", 'quite', 'clear', 'on', 'the', 'fact', 'that', 'those', 'in', 'power', 'now', '(', 'and', ',', 'in', 'general', ',', 'most', 'anyone', 'at', 'the', 'top', 'of', 'a', 'pyrimidal', 'power', 'structure', ')', 'tend', 'to', 'use', 'the', 'dominant', 'religion', 'as', 'a', 'cloak', 'to', 'hide', 'their', 'true', 'motivations', 'and', 'as', 'a', 'tool', 'to', 'control', 'the', 'masses', '.']\n",
      "['ADV', 'PUNCT', 'PRON', 'VERB', 'ADV', 'ADJ', 'ADP', 'DET', 'NOUN', 'SCONJ', 'PRON', 'ADP', 'NOUN', 'ADV', 'PUNCT', 'CONJ', 'PUNCT', 'ADP', 'ADJ', 'PUNCT', 'ADV', 'PRON', 'ADP', 'DET', 'NOUN', 'ADP', 'DET', 'ADJ', 'NOUN', 'NOUN', 'PUNCT', 'VERB', 'PART', 'VERB', 'DET', 'ADJ', 'NOUN', 'ADP', 'DET', 'NOUN', 'PART', 'VERB', 'PRON', 'ADJ', 'NOUN', 'CONJ', 'ADP', 'DET', 'NOUN', 'PART', 'VERB', 'DET', 'NOUN', 'PUNCT']\n",
      "['It', 'boggles', 'the', 'mind', 'that', 'ANYONE', 'can', 'take', 'at', 'face', 'value', 'Bush', \"'s\", 'claims', 'to', 'be', 'a', 'christian', ',', 'yet', 'many', 'seem', 'to', 'do', 'just', 'that', '.']\n",
      "['PRON', 'VERB', 'DET', 'NOUN', 'SCONJ', 'PRON', 'AUX', 'VERB', 'ADP', 'NOUN', 'NOUN', 'PROPN', 'PART', 'NOUN', 'PART', 'VERB', 'DET', 'PROPN', 'PUNCT', 'CONJ', 'ADJ', 'VERB', 'PART', 'VERB', 'ADV', 'DET', 'PUNCT']\n",
      "['I', 'seem', 'to', 'remember', 'something', 'about', \"'\", 'by', 'their', 'works', 'shall', 'ye', 'know', 'them', '.', '\"']\n",
      "['PRON', 'VERB', 'PART', 'VERB', 'PRON', 'ADP', 'PUNCT', 'ADP', 'PRON', 'NOUN', 'AUX', 'PRON', 'VERB', 'PRON', 'PUNCT', 'PUNCT']\n",
      "['I', 'do', 'get', 'my', 'hackles', 'up', 'a', 'bit', 'when', 'people', 'haul', 'out', 'the', 'old', \"'\", 'Rock', '-', 'N', '-', 'Roll', 'made', 'them', 'do', 'it', \"'\", 'argument', '.']\n",
      "['PRON', 'AUX', 'VERB', 'PRON', 'NOUN', 'ADV', 'DET', 'NOUN', 'ADV', 'NOUN', 'VERB', 'ADV', 'DET', 'ADJ', 'PUNCT', 'NOUN', 'PUNCT', 'CONJ', 'PUNCT', 'NOUN', 'VERB', 'PRON', 'VERB', 'PRON', 'PUNCT', 'NOUN', 'PUNCT']\n",
      "['Whie', 'I', 'do', \"n't\", 'subscribe', 'to', 'the', 'notion', 'that', 'the', 'things', 'we', 'watch', 'or', 'listen', 'to', 'have', 'no', 'effect', 'on', 'our', 'behavior', '(', 'which', 'I', 'think', 'is', 'patently', 'rediculous', ')', ',', 'it', 'does', 'bother', 'me', 'when', 'people', 'single', 'out', 'a', 'specific', 'group', 'of', 'people', 'to', 'pin', 'the', 'blame', 'on', '.']\n",
      "['SCONJ', 'PRON', 'AUX', 'PART', 'VERB', 'ADP', 'DET', 'NOUN', 'SCONJ', 'DET', 'NOUN', 'PRON', 'VERB', 'CONJ', 'VERB', 'ADP', 'VERB', 'DET', 'NOUN', 'ADP', 'PRON', 'NOUN', 'PUNCT', 'PRON', 'PRON', 'VERB', 'VERB', 'ADV', 'ADJ', 'PUNCT', 'PUNCT', 'PRON', 'AUX', 'VERB', 'PRON', 'ADV', 'NOUN', 'VERB', 'ADP', 'DET', 'ADJ', 'NOUN', 'ADP', 'NOUN', 'PART', 'VERB', 'DET', 'NOUN', 'ADP', 'PUNCT']\n",
      "['Sub-cultures', '(', 'as', 'the', 'lable', 'implies', ')', 'do', 'not', 'develope', 'in', 'a', 'vacuum', '.']\n",
      "['NOUN', 'PUNCT', 'SCONJ', 'DET', 'NOUN', 'VERB', 'PUNCT', 'AUX', 'PART', 'VERB', 'ADP', 'DET', 'NOUN', 'PUNCT']\n",
      "['Again', ',', 'I', 'think', 'the', 'problem', 'is', 'people', 'who', 'sink', 'to', 'far', 'into', 'their', 'own', 'egos', ',', 'and', 'begin', 'to', 'take', 'their', 'personal', 'metaphors', 'a', 'bit', 'too', 'literaly', '.']\n",
      "['ADV', 'PUNCT', 'PRON', 'VERB', 'DET', 'NOUN', 'VERB', 'NOUN', 'PRON', 'VERB', 'ADV', 'ADV', 'ADP', 'PRON', 'ADJ', 'NOUN', 'PUNCT', 'CONJ', 'VERB', 'PART', 'VERB', 'PRON', 'ADJ', 'NOUN', 'DET', 'NOUN', 'ADV', 'ADV', 'PUNCT']\n",
      "['These', 'people', 'are', 'dangerous', 'wether', 'they', \"'re\", 'head', '-', 'banging', 'to', \"'\", 'Canibal', 'Corpse', \"'\", 'or', 'humming', 'along', 'to', \"'\", 'Onward', 'Christian', 'Soldiers', \"'\", '.']\n",
      "['DET', 'NOUN', 'VERB', 'ADJ', 'SCONJ', 'PRON', 'AUX', 'NOUN', 'PUNCT', 'VERB', 'ADP', 'PUNCT', 'PROPN', 'PROPN', 'PUNCT', 'CONJ', 'VERB', 'ADV', 'ADP', 'PUNCT', 'ADV', 'PROPN', 'PROPN', 'PUNCT', 'PUNCT']\n",
      "['(', 'The', 'mixing', 'of', 'religion', 'and', 'militarism', 'is', 'a', 'whole', 'other', 'topic', '....', ')']\n",
      "['PUNCT', 'DET', 'NOUN', 'ADP', 'NOUN', 'CONJ', 'NOUN', 'VERB', 'DET', 'ADJ', 'ADJ', 'NOUN', 'PUNCT', 'PUNCT']\n",
      "['I', 'have', 'nothing', 'but', 'respect', 'for', 'people', 'who', 'adhear', 'to', 'non-violence', ',', 'forgiveness', ',', 'and', 'charity', ',', 'but', 'it', \"'s\", 'important', 'to', 'remember', 'that', 'Christians', '(', 'or', \"'\", 'Smartwolves', \"'\", ')', 'do', 'not', 'have', 'a', 'monopoly', 'on', 'that', 'particular', 'lifestyle', '.']\n",
      "['PRON', 'VERB', 'PRON', 'ADP', 'NOUN', 'ADP', 'NOUN', 'PRON', 'VERB', 'ADP', 'NOUN', 'PUNCT', 'NOUN', 'PUNCT', 'CONJ', 'NOUN', 'PUNCT', 'CONJ', 'PRON', 'VERB', 'ADJ', 'PART', 'VERB', 'SCONJ', 'PROPN', 'PUNCT', 'CONJ', 'PUNCT', 'PROPN', 'PUNCT', 'PUNCT', 'AUX', 'PART', 'VERB', 'DET', 'NOUN', 'ADP', 'DET', 'ADJ', 'NOUN', 'PUNCT']\n",
      "['Peace', '.']\n",
      "['NOUN', 'PUNCT']\n",
      "['The', 'fact', 'that', 'the', 'US', 'government', 'and', 'media', 'are', 'having', 'a', 'hissy', 'fit', 'over', 'Venezuela', 'wanting', 'to', 'buy', 'guns', ',', 'and', 'then', '200,000', 'of', 'the', 'guns', 'Chavez', 'wants', 'to', 'buy', 'go', 'missing', 'on', 'their', 'way', 'to', 'Iraq', 'is', 'definitely', 'sus', '.']\n",
      "['DET', 'NOUN', 'SCONJ', 'DET', 'PROPN', 'NOUN', 'CONJ', 'NOUN', 'AUX', 'VERB', 'DET', 'NOUN', 'NOUN', 'SCONJ', 'PROPN', 'VERB', 'PART', 'VERB', 'NOUN', 'PUNCT', 'CONJ', 'ADV', 'NUM', 'ADP', 'DET', 'NOUN', 'PROPN', 'VERB', 'PART', 'VERB', 'VERB', 'ADJ', 'ADP', 'PRON', 'NOUN', 'ADP', 'PROPN', 'VERB', 'ADV', 'ADJ', 'PUNCT']\n",
      "['I', 'guess', 'those', 'guns', 'will', 'be', 'located', 'enroute', 'to', 'Venezuela', 'or', 'found', 'in', 'storage', 'there', 'by', 'one', 'of', 'the', 'US', \"'s\", 'local', 'stooges', 'and', 'they', 'then', 'have', 'a', 'pretext', 'to', 'ramp', 'the', 'spin', 'up', 'a', 'notch', 'or', 'two', '.']\n",
      "['PRON', 'VERB', 'DET', 'NOUN', 'AUX', 'AUX', 'VERB', 'ADV', 'ADP', 'PROPN', 'CONJ', 'VERB', 'ADP', 'NOUN', 'ADV', 'ADP', 'NUM', 'ADP', 'DET', 'PROPN', 'PART', 'ADJ', 'NOUN', 'CONJ', 'PRON', 'ADV', 'VERB', 'DET', 'NOUN', 'PART', 'VERB', 'DET', 'NOUN', 'ADP', 'DET', 'NOUN', 'CONJ', 'NUM', 'PUNCT']\n",
      "['Thanks', 'again', 'to', 'my', 'friend', 'Nick', 'Keck', 'for', 'passing', 'this', 'along', 'via', 'e-mail', '.']\n",
      "['NOUN', 'ADV', 'ADP', 'PRON', 'NOUN', 'PROPN', 'PROPN', 'SCONJ', 'VERB', 'PRON', 'ADV', 'ADP', 'NOUN', 'PUNCT']\n",
      "['It', 'is', 'the', 'text', 'of', 'a', 'speech', 'given', 'by', 'an', 'Arab', 'gentleman', 'before', 'the', 'advisory', 'board', 'of', 'a', 'large', 'multi-nation', 'corporation', '.']\n",
      "['PRON', 'VERB', 'DET', 'NOUN', 'ADP', 'DET', 'NOUN', 'VERB', 'ADP', 'DET', 'ADJ', 'NOUN', 'ADP', 'DET', 'ADJ', 'NOUN', 'ADP', 'DET', 'ADJ', 'ADJ', 'NOUN', 'PUNCT']\n",
      "['It', \"'s\", 'a', 'long', 'but', 'very', 'worthwhile', 'read', '.']\n",
      "['PRON', 'VERB', 'DET', 'ADJ', 'CONJ', 'ADV', 'ADJ', 'NOUN', 'PUNCT']\n",
      "['\"', 'A', 'View', 'from', 'the', 'Eye', 'of', 'the', 'Storm', '\"']\n",
      "['PUNCT', 'DET', 'PROPN', 'ADP', 'DET', 'PROPN', 'ADP', 'DET', 'PROPN', 'PUNCT']\n",
      "['Talk', 'delivered', 'by', 'Haim', 'Harari', 'at', 'a', 'meeting', 'of', 'the', 'International', 'Advisory', 'Board', 'of', 'a', 'large', 'multi-national', 'corporation', ',', 'April', ',', '2004', ':']\n",
      "['NOUN', 'VERB', 'ADP', 'PROPN', 'PROPN', 'ADP', 'DET', 'NOUN', 'ADP', 'DET', 'PROPN', 'PROPN', 'PROPN', 'ADP', 'DET', 'ADJ', 'ADJ', 'NOUN', 'PUNCT', 'PROPN', 'PUNCT', 'NUM', 'PUNCT']\n",
      "['\"', 'As', 'you', 'know', ',', 'I', 'usually', 'provide', 'the', 'scientific', 'and', 'technological', '\"', 'entertainment', '\"', 'in', 'our', 'meetings', ',', 'but', ',', 'on', 'this', 'occasion', ',', 'our', 'Chairman', 'suggested', 'that', 'I', 'present', 'my', 'own', 'personal', 'view', 'on', 'events', 'in', 'the', 'part', 'of', 'the', 'world', 'from', 'which', 'I', 'come', '.']\n",
      "['PUNCT', 'SCONJ', 'PRON', 'VERB', 'PUNCT', 'PRON', 'ADV', 'VERB', 'DET', 'ADJ', 'CONJ', 'ADJ', 'PUNCT', 'NOUN', 'PUNCT', 'ADP', 'PRON', 'NOUN', 'PUNCT', 'CONJ', 'PUNCT', 'ADP', 'DET', 'NOUN', 'PUNCT', 'PRON', 'PROPN', 'VERB', 'SCONJ', 'PRON', 'VERB', 'PRON', 'ADJ', 'ADJ', 'NOUN', 'ADP', 'NOUN', 'ADP', 'DET', 'NOUN', 'ADP', 'DET', 'NOUN', 'ADP', 'PRON', 'PRON', 'VERB', 'PUNCT']\n",
      "['I', 'have', 'never', 'been', 'and', 'I', 'will', 'never', 'be', 'a', 'Government', 'official', 'and', 'I', 'have', 'no', 'privileged', 'information', '.']\n",
      "['PRON', 'AUX', 'ADV', 'VERB', 'CONJ', 'PRON', 'AUX', 'ADV', 'VERB', 'DET', 'NOUN', 'NOUN', 'CONJ', 'PRON', 'VERB', 'DET', 'ADJ', 'NOUN', 'PUNCT']\n",
      "['My', 'perspective', 'is', 'entirely', 'based', 'on', 'what', 'I', 'see', ',', 'on', 'what', 'I', 'read', 'and', 'on', 'the', 'fact', 'that', 'my', 'family', 'has', 'lived', 'in', 'this', 'region', 'for', 'almost', '200', 'years', '.']\n",
      "['PRON', 'NOUN', 'AUX', 'ADV', 'VERB', 'SCONJ', 'PRON', 'PRON', 'VERB', 'PUNCT', 'SCONJ', 'PRON', 'PRON', 'VERB', 'CONJ', 'ADP', 'DET', 'NOUN', 'SCONJ', 'PRON', 'NOUN', 'AUX', 'VERB', 'ADP', 'DET', 'NOUN', 'ADP', 'ADV', 'NUM', 'NOUN', 'PUNCT']\n",
      "['You', 'may', 'regard', 'my', 'views', 'as', 'those', 'of', 'the', 'proverbial', 'taxi', 'driver', ',', 'which', 'you', 'are', 'supposed', 'to', 'question', ',', 'when', 'you', 'visit', 'a', 'country', '.']\n",
      "['PRON', 'AUX', 'VERB', 'PRON', 'NOUN', 'ADP', 'PRON', 'ADP', 'DET', 'ADJ', 'NOUN', 'NOUN', 'PUNCT', 'PRON', 'PRON', 'AUX', 'VERB', 'PART', 'VERB', 'PUNCT', 'ADV', 'PRON', 'VERB', 'DET', 'NOUN', 'PUNCT']\n",
      "['I', 'could', 'have', 'shared', 'with', 'you', 'some', 'fascinating', 'facts', 'and', 'some', 'personal', 'thoughts', 'about', 'the', 'Israeli', '-', 'Arab', 'conflict', '.']\n",
      "['PRON', 'AUX', 'AUX', 'VERB', 'ADP', 'PRON', 'DET', 'ADJ', 'NOUN', 'CONJ', 'DET', 'ADJ', 'NOUN', 'ADP', 'DET', 'ADJ', 'PUNCT', 'ADJ', 'NOUN', 'PUNCT']\n",
      "['However', ',', 'I', 'will', 'touch', 'upon', 'it', 'only', 'in', 'passing', '.']\n",
      "['ADV', 'PUNCT', 'PRON', 'AUX', 'VERB', 'ADP', 'PRON', 'ADV', 'ADP', 'NOUN', 'PUNCT']\n",
      "['I', 'prefer', 'to', 'devote', 'most', 'of', 'my', 'remarks', 'to', 'the', 'broader', 'picture', 'of', 'the', 'region', 'and', 'its', 'place', 'in', 'world', 'events', '.']\n",
      "['PRON', 'VERB', 'PART', 'VERB', 'ADJ', 'ADP', 'PRON', 'NOUN', 'ADP', 'DET', 'ADJ', 'NOUN', 'ADP', 'DET', 'NOUN', 'CONJ', 'PRON', 'NOUN', 'ADP', 'NOUN', 'NOUN', 'PUNCT']\n",
      "['I', 'refer', 'to', 'the', 'entire', 'area', 'between', 'Pakistan', 'and', 'Morocco', ',', 'which', 'is', 'predominantly', 'Arab', ',', 'predominantly', 'Moslem', ',', 'but', 'includes', 'many', 'non-Arab', 'and', 'also', 'significant', 'non-Moslem', 'minorities', '.']\n",
      "['PRON', 'VERB', 'ADP', 'DET', 'ADJ', 'NOUN', 'ADP', 'PROPN', 'CONJ', 'PROPN', 'PUNCT', 'PRON', 'VERB', 'ADV', 'ADJ', 'PUNCT', 'ADV', 'ADJ', 'PUNCT', 'CONJ', 'VERB', 'ADJ', 'ADJ', 'CONJ', 'ADV', 'ADJ', 'ADJ', 'NOUN', 'PUNCT']\n",
      "['Why', 'do', 'I', 'put', 'aside', 'Israel', 'and', 'its', 'own', 'immediate', 'neighborhood', '?']\n",
      "['ADV', 'AUX', 'PRON', 'VERB', 'ADP', 'PROPN', 'CONJ', 'PRON', 'ADJ', 'ADJ', 'NOUN', 'PUNCT']\n",
      "['Because', 'Israel', 'and', 'any', 'problems', 'related', 'to', 'it', ',', 'in', 'spite', 'of', 'what', 'you', 'might', 'read', 'or', 'hear', 'in', 'the', 'world', 'media', ',', 'is', 'not', 'the', 'central', 'issue', ',', 'and', 'has', 'never', 'been', 'the', 'central', 'issue', 'in', 'the', 'upheaval', 'in', 'the', 'region', '.']\n",
      "['SCONJ', 'PROPN', 'CONJ', 'DET', 'NOUN', 'ADJ', 'ADP', 'PRON', 'PUNCT', 'ADP', 'NOUN', 'SCONJ', 'PRON', 'PRON', 'AUX', 'VERB', 'CONJ', 'VERB', 'ADP', 'DET', 'NOUN', 'NOUN', 'PUNCT', 'VERB', 'PART', 'DET', 'ADJ', 'NOUN', 'PUNCT', 'CONJ', 'AUX', 'ADV', 'VERB', 'DET', 'ADJ', 'NOUN', 'ADP', 'DET', 'NOUN', 'ADP', 'DET', 'NOUN', 'PUNCT']\n",
      "['Yes', ',', 'there', 'is', 'a', '100', 'year', '-', 'old', 'Israeli', '-', 'Arab', 'conflict', ',', 'but', 'it', 'is', 'not', 'where', 'the', 'main', 'show', 'is', '.']\n",
      "['INTJ', 'PUNCT', 'PRON', 'VERB', 'DET', 'NUM', 'NOUN', 'PUNCT', 'ADJ', 'ADJ', 'PUNCT', 'ADJ', 'NOUN', 'PUNCT', 'CONJ', 'PRON', 'VERB', 'PART', 'ADV', 'DET', 'ADJ', 'NOUN', 'VERB', 'PUNCT']\n",
      "['The', 'millions', 'who', 'died', 'in', 'the', 'Iran', '-', 'Iraq', 'war', 'had', 'nothing', 'to', 'do', 'with', 'Israel', '.']\n",
      "['DET', 'NOUN', 'PRON', 'VERB', 'ADP', 'DET', 'PROPN', 'PUNCT', 'PROPN', 'NOUN', 'VERB', 'PRON', 'PART', 'VERB', 'ADP', 'PROPN', 'PUNCT']\n",
      "['The', 'mass', 'murder', 'happening', 'right', 'now', 'in', 'Sudan', ',', 'where', 'the', 'Arab', 'Moslem', 'regime', 'is', 'massacring', 'its', 'black', 'Christian', 'citizens', ',', 'has', 'nothing', 'to', 'do', 'with', 'Israel', '.']\n",
      "['DET', 'ADJ', 'NOUN', 'VERB', 'ADV', 'ADV', 'ADP', 'PROPN', 'PUNCT', 'ADV', 'DET', 'ADJ', 'ADJ', 'NOUN', 'AUX', 'VERB', 'PRON', 'ADJ', 'ADJ', 'NOUN', 'PUNCT', 'VERB', 'PRON', 'PART', 'VERB', 'ADP', 'PROPN', 'PUNCT']\n",
      "['The', 'frequent', 'reports', 'from', 'Algeria', 'about', 'the', 'murders', 'of', 'hundreds', 'of', 'civilians', 'in', 'one', 'village', 'or', 'another', 'by', 'other', 'Algerians', 'have', 'nothing', 'to', 'do', 'with', 'Israel', '.']\n",
      "['DET', 'ADJ', 'NOUN', 'ADP', 'PROPN', 'ADP', 'DET', 'NOUN', 'ADP', 'NOUN', 'ADP', 'NOUN', 'ADP', 'NUM', 'NOUN', 'CONJ', 'DET', 'ADP', 'ADJ', 'PROPN', 'VERB', 'PRON', 'PART', 'VERB', 'ADP', 'PROPN', 'PUNCT']\n",
      "['Saddam', 'Hussein', 'did', 'not', 'invade', 'Kuwait', ',', 'endanger', 'Saudi', 'Arabia', 'and', 'butcher', 'his', 'own', 'people', 'because', 'of', 'Israel', '.']\n",
      "['PROPN', 'PROPN', 'AUX', 'PART', 'VERB', 'PROPN', 'PUNCT', 'VERB', 'PROPN', 'PROPN', 'CONJ', 'VERB', 'PRON', 'ADJ', 'NOUN', 'ADP', 'ADP', 'PROPN', 'PUNCT']\n",
      "['Egypt', 'did', 'not', 'use', 'poison', 'gas', 'against', 'Yemen', 'in', 'the', \"60's\", 'because', 'of', 'Israel', '.']\n",
      "['PROPN', 'AUX', 'PART', 'VERB', 'ADJ', 'NOUN', 'ADP', 'PROPN', 'ADP', 'DET', 'NOUN', 'ADP', 'ADP', 'PROPN', 'PUNCT']\n",
      "['Assad', 'the', 'Father', 'did', 'not', 'kill', 'tens', 'of', 'thousands', 'of', 'his', 'own', 'citizens', 'in', 'one', 'week', 'in', 'El', 'Hamma', 'in', 'Syria', 'because', 'of', 'Israel', '.']\n",
      "['PROPN', 'DET', 'PROPN', 'AUX', 'PART', 'VERB', 'NOUN', 'ADP', 'NOUN', 'ADP', 'PRON', 'ADJ', 'NOUN', 'ADP', 'NUM', 'NOUN', 'ADP', 'PROPN', 'PROPN', 'ADP', 'PROPN', 'ADP', 'ADP', 'PROPN', 'PUNCT']\n",
      "['The', 'Taliban', 'control', 'of', 'Afghanistan', 'and', 'the', 'civil', 'war', 'there', 'had', 'nothing', 'to', 'do', 'with', 'Israel', '.']\n",
      "['DET', 'PROPN', 'NOUN', 'ADP', 'PROPN', 'CONJ', 'DET', 'ADJ', 'NOUN', 'ADV', 'VERB', 'PRON', 'PART', 'VERB', 'ADP', 'PROPN', 'PUNCT']\n",
      "['The', 'Libyan', 'blowing', 'up', 'of', 'the', 'Pan', '-', 'Am', 'flight', 'had', 'nothing', 'to', 'do', 'with', 'Israel', ',', 'and', 'I', 'could', 'go', 'on', 'and', 'on', 'and', 'on', '.']\n",
      "['DET', 'ADJ', 'NOUN', 'NOUN', 'ADP', 'DET', 'PROPN', 'PUNCT', 'PROPN', 'NOUN', 'VERB', 'PRON', 'PART', 'VERB', 'ADP', 'PROPN', 'PUNCT', 'CONJ', 'PRON', 'AUX', 'VERB', 'ADV', 'CONJ', 'ADV', 'CONJ', 'ADV', 'PUNCT']\n",
      "['The', 'root', 'of', 'the', 'trouble', 'is', 'that', 'this', 'entire', 'Moslem', 'region', 'is', 'totally', 'dysfunctional', ',', 'by', 'any', 'standard', 'of', 'the', 'word', ',', 'and', 'would', 'have', 'been', 'so', 'even', 'if', 'Israel', 'had', 'joined', 'the', 'Arab', 'league', 'and', 'an', 'independent', 'Palestine', 'had', 'existed', 'for', '100', 'years', '.']\n",
      "['DET', 'NOUN', 'ADP', 'DET', 'NOUN', 'VERB', 'SCONJ', 'DET', 'NOUN', 'ADJ', 'NOUN', 'VERB', 'ADV', 'ADJ', 'PUNCT', 'ADP', 'DET', 'NOUN', 'ADP', 'DET', 'NOUN', 'PUNCT', 'CONJ', 'AUX', 'AUX', 'VERB', 'ADV', 'ADV', 'SCONJ', 'PROPN', 'AUX', 'VERB', 'DET', 'PROPN', 'PROPN', 'CONJ', 'DET', 'ADJ', 'PROPN', 'AUX', 'VERB', 'ADP', 'NUM', 'NOUN', 'PUNCT']\n",
      "['The', '22', 'member', 'countries', 'of', 'the', 'Arab', 'league', ',', 'from', 'Mauritania', 'to', 'the', 'Gulf', 'States', ',', 'have', 'a', 'total', 'population', 'of', '300', 'millions', ',', 'larger', 'than', 'the', 'US', 'and', 'almost', 'as', 'large', 'as', 'the', 'EU', 'before', 'its', 'expansion', '.']\n",
      "['DET', 'NUM', 'NOUN', 'NOUN', 'ADP', 'DET', 'PROPN', 'PROPN', 'PUNCT', 'ADP', 'PROPN', 'ADP', 'DET', 'PROPN', 'PROPN', 'PUNCT', 'VERB', 'DET', 'ADJ', 'NOUN', 'ADP', 'NUM', 'NOUN', 'PUNCT', 'ADJ', 'ADP', 'DET', 'PROPN', 'CONJ', 'ADV', 'ADV', 'ADJ', 'ADP', 'DET', 'PROPN', 'ADP', 'PRON', 'NOUN', 'PUNCT']\n",
      "['They', 'have', 'a', 'land', 'area', 'larger', 'than', 'either', 'the', 'US', 'or', 'all', 'of', 'Europe', '.']\n",
      "['PRON', 'VERB', 'DET', 'NOUN', 'NOUN', 'ADJ', 'ADP', 'CONJ', 'DET', 'PROPN', 'CONJ', 'DET', 'ADP', 'PROPN', 'PUNCT']\n",
      "['These', '22', 'countries', ',', 'with', 'all', 'their', 'oil', 'and', 'natural', 'resources', ',', 'have', 'a', 'combined', 'GDP', 'smaller', 'than', 'that', 'of', 'Netherlands', 'plus', 'Belgium', 'and', 'equal', 'to', 'half', 'of', 'the', 'GDP', 'of', 'California', 'alone', '.']\n",
      "['DET', 'NUM', 'NOUN', 'PUNCT', 'ADP', 'DET', 'PRON', 'NOUN', 'CONJ', 'ADJ', 'NOUN', 'PUNCT', 'VERB', 'DET', 'VERB', 'PROPN', 'ADJ', 'ADP', 'PRON', 'ADP', 'PROPN', 'CONJ', 'PROPN', 'CONJ', 'ADJ', 'ADP', 'NOUN', 'ADP', 'DET', 'PROPN', 'ADP', 'PROPN', 'ADV', 'PUNCT']\n",
      "['Within', 'this', 'meager', 'GDP', ',', 'the', 'gaps', 'between', 'rich', 'and', 'poor', 'are', 'beyond', 'belief', 'and', 'too', 'many', 'of', 'the', 'rich', 'made', 'their', 'money', 'not', 'by', 'succeeding', 'in', 'business', ',', 'but', 'by', 'being', 'corrupt', 'rulers', '.']\n",
      "['ADP', 'DET', 'ADJ', 'PROPN', 'PUNCT', 'DET', 'NOUN', 'ADP', 'ADJ', 'CONJ', 'ADJ', 'VERB', 'ADP', 'NOUN', 'CONJ', 'ADV', 'ADJ', 'ADP', 'DET', 'ADJ', 'VERB', 'PRON', 'NOUN', 'ADV', 'SCONJ', 'VERB', 'ADP', 'NOUN', 'PUNCT', 'CONJ', 'SCONJ', 'VERB', 'ADJ', 'NOUN', 'PUNCT']\n",
      "['The', 'social', 'status', 'of', 'women', 'is', 'far', 'below', 'what', 'it', 'was', 'in', 'the', 'Western', 'World', '150', 'years', 'ago', '.']\n",
      "['DET', 'ADJ', 'NOUN', 'ADP', 'NOUN', 'VERB', 'ADV', 'SCONJ', 'PRON', 'PRON', 'VERB', 'ADP', 'DET', 'PROPN', 'PROPN', 'NUM', 'NOUN', 'ADV', 'PUNCT']\n",
      "['Human', 'rights', 'are', 'below', 'any', 'reasonable', 'standard', ',', 'in', 'spite', 'of', 'the', 'grotesque', 'fact', 'that', 'Libya', 'was', 'elected', 'Chair', 'of', 'the', 'UN', 'Human', 'Rights', 'commission', '.']\n",
      "['ADJ', 'NOUN', 'VERB', 'ADP', 'DET', 'ADJ', 'NOUN', 'PUNCT', 'ADP', 'NOUN', 'ADP', 'DET', 'ADJ', 'NOUN', 'SCONJ', 'PROPN', 'AUX', 'VERB', 'NOUN', 'ADP', 'DET', 'PROPN', 'PROPN', 'PROPN', 'NOUN', 'PUNCT']\n",
      "['According', 'to', 'a', 'report', 'prepared', 'by', 'a', 'committee', 'of', 'Arab', 'intellectuals', 'and', 'published', 'under', 'the', 'auspices', 'of', 'the', 'U.N.', ',', 'the', 'number', 'of', 'books', 'translated', 'by', 'the', 'entire', 'Arab', 'world', 'is', 'much', 'smaller', 'than', 'what', 'little', 'Greece', 'alone', 'translates', '.']\n",
      "['VERB', 'ADP', 'DET', 'NOUN', 'VERB', 'ADP', 'DET', 'NOUN', 'ADP', 'ADJ', 'NOUN', 'CONJ', 'VERB', 'ADP', 'DET', 'NOUN', 'ADP', 'DET', 'PROPN', 'PUNCT', 'DET', 'NOUN', 'ADP', 'NOUN', 'VERB', 'ADP', 'DET', 'ADJ', 'ADJ', 'NOUN', 'VERB', 'ADV', 'ADJ', 'SCONJ', 'PRON', 'ADJ', 'PROPN', 'ADV', 'VERB', 'PUNCT']\n",
      "['The', 'total', 'number', 'of', 'scientific', 'publications', 'of', '300', 'million', 'Arabs', 'is', 'less', 'than', 'that', 'of', '6', 'million', 'Israelis', '.']\n",
      "['DET', 'ADJ', 'NOUN', 'ADP', 'ADJ', 'NOUN', 'ADP', 'NUM', 'NUM', 'PROPN', 'VERB', 'ADJ', 'ADP', 'PRON', 'ADP', 'NUM', 'NUM', 'PROPN', 'PUNCT']\n",
      "['Birth', 'rates', 'in', 'the', 'region', 'are', 'very', 'high', ',', 'increasing', 'the', 'poverty', ',', 'the', 'social', 'gaps', 'and', 'the', 'cultural', 'decline', '.']\n",
      "['NOUN', 'NOUN', 'ADP', 'DET', 'NOUN', 'VERB', 'ADV', 'ADJ', 'PUNCT', 'VERB', 'DET', 'NOUN', 'PUNCT', 'DET', 'ADJ', 'NOUN', 'CONJ', 'DET', 'ADJ', 'NOUN', 'PUNCT']\n",
      "['And', 'all', 'of', 'this', 'is', 'happening', 'in', 'a', 'region', ',', 'which', 'only', '30', 'years', 'ago', ',', 'was', 'believed', 'to', 'be', 'the', 'next', 'wealthy', 'part', 'of', 'the', 'world', ',', 'and', 'in', 'a', 'Moslem', 'area', ',', 'which', 'developed', ',', 'at', 'some', 'point', 'in', 'history', ',', 'one', 'of', 'the', 'most', 'advanced', 'cultures', 'in', 'the', 'world', '.']\n",
      "['CONJ', 'DET', 'ADP', 'PRON', 'AUX', 'VERB', 'ADP', 'DET', 'NOUN', 'PUNCT', 'PRON', 'ADV', 'NUM', 'NOUN', 'ADV', 'PUNCT', 'AUX', 'VERB', 'PART', 'VERB', 'DET', 'ADJ', 'ADJ', 'NOUN', 'ADP', 'DET', 'NOUN', 'PUNCT', 'CONJ', 'ADP', 'DET', 'ADJ', 'NOUN', 'PUNCT', 'PRON', 'VERB', 'PUNCT', 'ADP', 'DET', 'NOUN', 'ADP', 'NOUN', 'PUNCT', 'NUM', 'ADP', 'DET', 'ADV', 'ADJ', 'NOUN', 'ADP', 'DET', 'NOUN', 'PUNCT']\n",
      "['It', 'is', 'fair', 'to', 'say', 'that', 'this', 'creates', 'an', 'unprecedented', 'breeding', 'ground', 'for', 'cruel', 'dictators', ',', 'terror', 'networks', ',', 'fanaticism', ',', 'incitement', ',', 'suicide', 'murders', 'and', 'general', 'decline', '.']\n",
      "['PRON', 'VERB', 'ADJ', 'PART', 'VERB', 'SCONJ', 'PRON', 'VERB', 'DET', 'ADJ', 'NOUN', 'NOUN', 'ADP', 'ADJ', 'NOUN', 'PUNCT', 'NOUN', 'NOUN', 'PUNCT', 'NOUN', 'PUNCT', 'NOUN', 'PUNCT', 'NOUN', 'NOUN', 'CONJ', 'ADJ', 'NOUN', 'PUNCT']\n",
      "['It', 'is', 'also', 'a', 'fact', 'that', 'almost', 'everybody', 'in', 'the', 'region', 'blames', 'this', 'situation', 'on', 'the', 'United', 'States', ',', 'on', 'Israel', ',', 'on', 'Western', 'Civilization', ',', 'on', 'Judaism', 'and', 'Christianity', ',', 'on', 'anyone', 'and', 'anything', ',', 'except', 'themselves', '.']\n",
      "['PRON', 'VERB', 'ADV', 'DET', 'NOUN', 'SCONJ', 'ADV', 'PRON', 'ADP', 'DET', 'NOUN', 'VERB', 'DET', 'NOUN', 'ADP', 'DET', 'PROPN', 'PROPN', 'PUNCT', 'ADP', 'PROPN', 'PUNCT', 'ADP', 'ADJ', 'NOUN', 'PUNCT', 'ADP', 'PROPN', 'CONJ', 'PROPN', 'PUNCT', 'ADP', 'PRON', 'CONJ', 'PRON', 'PUNCT', 'ADP', 'PRON', 'PUNCT']\n",
      "['A', 'word', 'about', 'the', 'millions', 'of', 'decent', ',', 'honest', ',', 'good', 'people', 'who', 'are', 'either', 'devout', 'Moslems', 'or', 'are', 'not', 'very', 'religious', 'but', 'grew', 'up', 'in', 'Moslem', 'families', ':', 'They', 'are', 'double', 'victims', 'of', 'an', 'outside', 'world', ',', 'which', 'now', 'develops', 'Islamophobia', ',', 'and', 'of', 'their', 'own', 'environment', 'which', 'breaks', 'their', 'heart', 'by', 'being', 'totally', 'dysfunctional', '.']\n",
      "['DET', 'NOUN', 'ADP', 'DET', 'NOUN', 'ADP', 'ADJ', 'PUNCT', 'ADJ', 'PUNCT', 'ADJ', 'NOUN', 'PRON', 'VERB', 'CONJ', 'ADJ', 'PROPN', 'CONJ', 'VERB', 'PART', 'ADV', 'ADJ', 'CONJ', 'VERB', 'ADP', 'ADP', 'ADJ', 'NOUN', 'PUNCT', 'PRON', 'VERB', 'ADJ', 'NOUN', 'ADP', 'DET', 'ADJ', 'NOUN', 'PUNCT', 'PRON', 'ADV', 'VERB', 'NOUN', 'PUNCT', 'CONJ', 'ADP', 'PRON', 'ADJ', 'NOUN', 'PRON', 'VERB', 'PRON', 'NOUN', 'SCONJ', 'VERB', 'ADV', 'ADJ', 'PUNCT']\n",
      "['The', 'problem', 'is', 'that', 'the', 'vast', 'silent', 'majority', 'of', 'these', 'Moslems', 'are', 'not', 'part', 'of', 'the', 'terror', 'and', 'the', 'incitement', ',', 'but', 'they', 'also', 'do', 'not', 'stand', 'up', 'against', 'it', '.']\n",
      "['DET', 'NOUN', 'VERB', 'SCONJ', 'DET', 'ADJ', 'ADJ', 'NOUN', 'ADP', 'DET', 'PROPN', 'VERB', 'PART', 'NOUN', 'ADP', 'DET', 'NOUN', 'CONJ', 'DET', 'NOUN', 'PUNCT', 'CONJ', 'PRON', 'ADV', 'AUX', 'PART', 'VERB', 'ADP', 'ADP', 'PRON', 'PUNCT']\n",
      "['They', 'become', 'accomplices', ',', 'by', 'omission', ',', 'and', 'this', 'applies', 'to', 'political', 'leaders', ',', 'intellectuals', ',', 'business', 'people', 'and', 'many', 'others', '.']\n",
      "['PRON', 'VERB', 'NOUN', 'PUNCT', 'ADP', 'NOUN', 'PUNCT', 'CONJ', 'PRON', 'VERB', 'ADP', 'ADJ', 'NOUN', 'PUNCT', 'NOUN', 'PUNCT', 'NOUN', 'NOUN', 'CONJ', 'ADJ', 'NOUN', 'PUNCT']\n",
      "['Many', 'of', 'them', 'can', 'certainly', 'tell', 'right', 'from', 'wrong', ',', 'but', 'are', 'afraid', 'to', 'express', 'their', 'views', '.']\n",
      "['ADJ', 'ADP', 'PRON', 'AUX', 'ADV', 'VERB', 'NOUN', 'ADP', 'NOUN', 'PUNCT', 'CONJ', 'VERB', 'ADJ', 'PART', 'VERB', 'PRON', 'NOUN', 'PUNCT']\n",
      "['The', 'events', 'of', 'the', 'last', 'few', 'years', 'have', 'amplified', 'four', 'issues', ',', 'which', 'have', 'always', 'existed', ',', 'but', 'have', 'never', 'been', 'as', 'rampant', 'as', 'in', 'the', 'present', 'upheaval', 'in', 'the', 'region', '.']\n",
      "['DET', 'NOUN', 'ADP', 'DET', 'ADJ', 'ADJ', 'NOUN', 'AUX', 'VERB', 'NUM', 'NOUN', 'PUNCT', 'PRON', 'AUX', 'ADV', 'VERB', 'PUNCT', 'CONJ', 'AUX', 'ADV', 'VERB', 'ADV', 'ADJ', 'ADP', 'ADP', 'DET', 'ADJ', 'NOUN', 'ADP', 'DET', 'NOUN', 'PUNCT']\n",
      "['A', 'few', 'more', 'years', 'may', 'pass', 'before', 'everybody', 'acknowledges', 'that', 'it', 'is', 'a', 'World', 'War', ',', 'but', 'we', 'are', 'already', 'well', 'into', 'it', '.']\n",
      "['DET', 'ADJ', 'ADJ', 'NOUN', 'AUX', 'VERB', 'SCONJ', 'PRON', 'VERB', 'SCONJ', 'PRON', 'VERB', 'DET', 'PROPN', 'PROPN', 'PUNCT', 'CONJ', 'PRON', 'VERB', 'ADV', 'ADV', 'ADP', 'PRON', 'PUNCT']\n",
      "['These', 'are', 'the', 'four', 'main', 'pillars', 'of', 'the', 'current', 'World', 'Conflict', ',', 'or', 'perhaps', 'we', 'should', 'already', 'refer', 'to', 'it', 'as', '\"', 'the', 'undeclared', 'World', 'War', 'III', '\"', ':']\n",
      "['PRON', 'VERB', 'DET', 'NUM', 'ADJ', 'NOUN', 'ADP', 'DET', 'ADJ', 'NOUN', 'NOUN', 'PUNCT', 'CONJ', 'ADV', 'PRON', 'AUX', 'ADV', 'VERB', 'ADP', 'PRON', 'ADP', 'PUNCT', 'DET', 'ADJ', 'PROPN', 'PROPN', 'PROPN', 'PUNCT', 'PUNCT']\n",
      "['*', '1', '.', 'The', 'first', 'element', 'is', 'the', 'suicide', 'murder', '.', '*']\n",
      "['PUNCT', 'X', 'PUNCT', 'DET', 'ADJ', 'NOUN', 'VERB', 'DET', 'NOUN', 'NOUN', 'PUNCT', 'PUNCT']\n",
      "['Suicide', 'murders', 'are', 'not', 'a', 'new', 'invention', 'but', 'they', 'have', 'been', 'made', 'popular', ',', 'if', 'I', 'may', 'use', 'this', 'expression', ',', 'only', 'lately', '.']\n",
      "['NOUN', 'NOUN', 'VERB', 'PART', 'DET', 'ADJ', 'NOUN', 'CONJ', 'PRON', 'AUX', 'AUX', 'VERB', 'ADJ', 'PUNCT', 'SCONJ', 'PRON', 'AUX', 'VERB', 'DET', 'NOUN', 'PUNCT', 'ADV', 'ADV', 'PUNCT']\n",
      "['Even', 'after', 'September', '11', ',', 'it', 'seems', 'that', 'most', 'of', 'the', 'Western', 'World', 'does', 'not', 'yet', 'understand', 'this', 'weapon', '.']\n",
      "['ADV', 'ADP', 'PROPN', 'NUM', 'PUNCT', 'PRON', 'VERB', 'SCONJ', 'ADJ', 'ADP', 'DET', 'PROPN', 'PROPN', 'AUX', 'PART', 'ADV', 'VERB', 'DET', 'NOUN', 'PUNCT']\n",
      "['It', 'is', 'a', 'very', 'potent', 'psychological', 'weapon', '.']\n",
      "['PRON', 'VERB', 'DET', 'ADV', 'ADJ', 'ADJ', 'NOUN', 'PUNCT']\n",
      "['Its', 'real', 'direct', 'impact', 'is', 'relatively', 'minor', '.']\n",
      "['PRON', 'ADJ', 'ADJ', 'NOUN', 'VERB', 'ADV', 'ADJ', 'PUNCT']\n",
      "['The', 'total', 'number', 'of', 'casualties', 'from', 'hundreds', 'of', 'suicide', 'murders', 'within', 'Israel', 'in', 'the', 'last', 'three', 'years', 'is', 'much', 'smaller', 'than', 'those', 'due', 'to', 'car', 'accidents', '.']\n",
      "['DET', 'ADJ', 'NOUN', 'ADP', 'NOUN', 'ADP', 'NOUN', 'ADP', 'NOUN', 'NOUN', 'ADP', 'PROPN', 'ADP', 'DET', 'ADJ', 'NUM', 'NOUN', 'VERB', 'ADV', 'ADJ', 'ADP', 'PRON', 'ADP', 'ADP', 'NOUN', 'NOUN', 'PUNCT']\n",
      "['September', '11', 'was', 'quantitatively', 'much', 'less', 'lethal', 'than', 'many', 'earthquakes']\n",
      "['PROPN', 'NUM', 'VERB', 'ADV', 'ADV', 'ADV', 'ADJ', 'ADP', 'ADJ', 'NOUN']\n",
      "['More', 'people', 'die', 'from', 'AIDS', 'in', 'one', 'day', 'in', 'Africa', 'than', 'all', 'the', 'Russians', 'who', 'died', 'in', 'the', 'hands', 'of', 'Chechnya', '-', 'based', 'Moslem', 'suicide', 'murderers', 'since', 'that', 'conflict', 'started', '.']\n",
      "['ADJ', 'NOUN', 'VERB', 'ADP', 'NOUN', 'ADP', 'NUM', 'NOUN', 'ADP', 'PROPN', 'ADP', 'DET', 'DET', 'PROPN', 'PRON', 'VERB', 'ADP', 'DET', 'NOUN', 'ADP', 'PROPN', 'PUNCT', 'VERB', 'ADJ', 'NOUN', 'NOUN', 'SCONJ', 'DET', 'NOUN', 'VERB', 'PUNCT']\n",
      "['Saddam', 'killed', 'every', 'month', 'more', 'people', 'than', 'all', 'those', 'who', 'died', 'from', 'suicide', 'murders', 'since', 'the', 'Coalition', 'occupation', 'of', 'Iraq', '.']\n",
      "['PROPN', 'VERB', 'ADJ', 'NOUN', 'ADJ', 'NOUN', 'ADP', 'DET', 'DET', 'PRON', 'VERB', 'ADP', 'NOUN', 'NOUN', 'ADP', 'DET', 'PROPN', 'NOUN', 'ADP', 'PROPN', 'PUNCT']\n",
      "['So', 'what', 'is', 'all', 'the', 'fuss', 'about', 'suicide', 'killings', '?']\n",
      "['ADV', 'PRON', 'VERB', 'DET', 'DET', 'NOUN', 'ADP', 'NOUN', 'NOUN', 'PUNCT']\n",
      "['It', 'creates', 'headlines', '.']\n",
      "['PRON', 'VERB', 'NOUN', 'PUNCT']\n",
      "['It', 'is', 'spectacular', '.']\n",
      "['PRON', 'VERB', 'ADJ', 'PUNCT']\n",
      "['It', 'is', 'frightening', '.']\n",
      "['PRON', 'VERB', 'ADJ', 'PUNCT']\n",
      "['It', 'is', 'a', 'very', 'cruel', 'death', 'with', 'bodies', 'dismembered', 'and', 'horrible', 'severe', 'lifelong', 'injuries', 'to', 'many', 'of', 'the', 'wounded', '.']\n",
      "['PRON', 'VERB', 'DET', 'ADV', 'ADJ', 'NOUN', 'ADP', 'NOUN', 'VERB', 'CONJ', 'ADJ', 'ADJ', 'ADJ', 'NOUN', 'ADP', 'ADJ', 'ADP', 'DET', 'ADJ', 'PUNCT']\n",
      "['It', 'is', 'always', 'shown', 'on', 'television', 'in', 'great', 'detail', '.']\n",
      "['PRON', 'AUX', 'ADV', 'VERB', 'ADP', 'NOUN', 'ADP', 'ADJ', 'NOUN', 'PUNCT']\n",
      "['One', 'such', 'murder', ',', 'with', 'the', 'help', 'of', 'hysterical', 'media', 'coverage', ',', 'can', 'destroy', 'the', 'tourism', 'industry', 'of', 'a', 'country', 'for', 'quite', 'a', 'while', ',', 'as', 'it', 'did', 'in', 'Bali', 'and', 'in', 'Turkey', '.']\n",
      "['NUM', 'ADJ', 'NOUN', 'PUNCT', 'ADP', 'DET', 'NOUN', 'ADP', 'ADJ', 'NOUN', 'NOUN', 'PUNCT', 'AUX', 'VERB', 'DET', 'NOUN', 'NOUN', 'ADP', 'DET', 'NOUN', 'ADP', 'DET', 'DET', 'NOUN', 'PUNCT', 'SCONJ', 'PRON', 'AUX', 'ADP', 'PROPN', 'CONJ', 'ADP', 'PROPN', 'PUNCT']\n",
      "['But', 'the', 'real', 'fear', 'comes', 'from', 'the', 'undisputed', 'fact', 'that', 'no', 'defense', 'and', 'no', 'preventive', 'measures', 'can', 'succeed', 'against', 'a', 'determined', 'suicide', 'murderer', '.']\n",
      "['CONJ', 'DET', 'ADJ', 'NOUN', 'VERB', 'ADP', 'DET', 'ADJ', 'NOUN', 'SCONJ', 'DET', 'NOUN', 'CONJ', 'DET', 'ADJ', 'NOUN', 'AUX', 'VERB', 'ADP', 'DET', 'ADJ', 'NOUN', 'NOUN', 'PUNCT']\n",
      "['This', 'has', 'not', 'yet', 'penetrated', 'the', 'thinking', 'of', 'the', 'Western', 'World', '.']\n",
      "['PRON', 'AUX', 'PART', 'ADV', 'VERB', 'DET', 'NOUN', 'ADP', 'DET', 'PROPN', 'PROPN', 'PUNCT']\n",
      "['The', 'U.S.', 'and', 'Europe', 'are', 'constantly', 'improving', 'their', 'defense', 'against', 'the', 'last', 'murder', ',', 'not', 'the', 'next', 'one', '.']\n",
      "['DET', 'PROPN', 'CONJ', 'PROPN', 'AUX', 'ADV', 'VERB', 'PRON', 'NOUN', 'ADP', 'DET', 'ADJ', 'NOUN', 'PUNCT', 'ADV', 'DET', 'ADJ', 'NUM', 'PUNCT']\n",
      "['We', 'may', 'arrange', 'for', 'the', 'best', 'airport', 'security', 'in', 'the', 'world', '.']\n",
      "['PRON', 'AUX', 'VERB', 'ADP', 'DET', 'ADJ', 'NOUN', 'NOUN', 'ADP', 'DET', 'NOUN', 'PUNCT']\n",
      "['But', 'if', 'you', 'want', 'to', 'murder', 'by', 'suicide', ',', 'you', 'do', 'not', 'have', 'to', 'board', 'a', 'plane', 'in', 'order', 'to', 'explode', 'yourself', 'and', 'kill', 'many', 'people', '.']\n",
      "['CONJ', 'SCONJ', 'PRON', 'VERB', 'PART', 'VERB', 'ADP', 'NOUN', 'PUNCT', 'PRON', 'AUX', 'PART', 'VERB', 'PART', 'VERB', 'DET', 'NOUN', 'ADP', 'NOUN', 'PART', 'VERB', 'PRON', 'CONJ', 'VERB', 'ADJ', 'NOUN', 'PUNCT']\n",
      "['Who', 'could', 'stop', 'a', 'suicide', 'murder', 'in', 'the', 'midst', 'of', 'the', 'crowded', 'line', 'waiting', 'to', 'be', 'checked', 'by', 'the', 'airport', 'metal', 'detector', '?']\n",
      "['PRON', 'AUX', 'VERB', 'DET', 'NOUN', 'NOUN', 'ADP', 'DET', 'NOUN', 'ADP', 'DET', 'ADJ', 'NOUN', 'VERB', 'PART', 'AUX', 'VERB', 'ADP', 'DET', 'NOUN', 'NOUN', 'NOUN', 'PUNCT']\n",
      "['How', 'about', 'the', 'lines', 'to', 'the', 'check', '-', 'in', 'counters', 'in', 'a', 'busy', 'travel', 'period', '?']\n",
      "['ADV', 'ADP', 'DET', 'NOUN', 'ADP', 'DET', 'VERB', 'PUNCT', 'ADP', 'NOUN', 'ADP', 'DET', 'ADJ', 'NOUN', 'NOUN', 'PUNCT']\n",
      "['Put', 'a', 'metal', 'detector', 'in', 'front', 'of', 'every', 'train', 'station', 'in', 'Spain', 'and', 'the', 'terrorists', 'will', 'get', 'the', 'buses', '.']\n",
      "['VERB', 'DET', 'NOUN', 'NOUN', 'ADP', 'NOUN', 'ADP', 'DET', 'NOUN', 'NOUN', 'ADP', 'PROPN', 'CONJ', 'DET', 'NOUN', 'AUX', 'VERB', 'DET', 'NOUN', 'PUNCT']\n",
      "['Protect', 'the', 'buses', 'and', 'they', 'will', 'explode', 'in', 'movie', 'theaters', ',', 'concert', 'halls', ',', 'supermarkets', ',', 'shopping', 'malls', ',', 'schools', 'and', 'hospitals', '.']\n",
      "['VERB', 'DET', 'NOUN', 'CONJ', 'PRON', 'AUX', 'VERB', 'ADP', 'NOUN', 'NOUN', 'PUNCT', 'NOUN', 'NOUN', 'PUNCT', 'NOUN', 'PUNCT', 'NOUN', 'NOUN', 'PUNCT', 'NOUN', 'CONJ', 'NOUN', 'PUNCT']\n",
      "['Put', 'guards', 'in', 'front', 'of', 'every', 'concert', 'hall', 'and', 'there', 'will', 'always', 'be', 'a', 'line', 'of', 'people', 'to', 'be', 'checked', 'by', 'the', 'guards', 'and', 'this', 'line', 'will', 'be', 'the', 'target', ',', 'not', 'to', 'speak', 'of', 'killing', 'the', 'guards', 'themselves', '.']\n",
      "['VERB', 'NOUN', 'ADP', 'NOUN', 'ADP', 'DET', 'NOUN', 'NOUN', 'CONJ', 'PRON', 'AUX', 'ADV', 'VERB', 'DET', 'NOUN', 'ADP', 'NOUN', 'PART', 'AUX', 'VERB', 'ADP', 'DET', 'NOUN', 'CONJ', 'DET', 'NOUN', 'AUX', 'VERB', 'DET', 'NOUN', 'PUNCT', 'ADV', 'PART', 'VERB', 'SCONJ', 'VERB', 'DET', 'NOUN', 'PRON', 'PUNCT']\n",
      "['You', 'can', 'somewhat', 'reduce', 'your', 'vulnerability', 'by', 'preventive', 'and', 'defensive', 'measures', 'and', 'by', 'strict', 'border', 'controls', 'but', 'not', 'eliminate', 'it', 'and', 'definitely', 'not', 'win', 'the', 'war', 'in', 'a', 'defensive', 'way', '.']\n",
      "['PRON', 'AUX', 'ADV', 'VERB', 'PRON', 'NOUN', 'ADP', 'ADJ', 'CONJ', 'ADJ', 'NOUN', 'CONJ', 'ADP', 'ADJ', 'NOUN', 'NOUN', 'CONJ', 'PART', 'VERB', 'PRON', 'CONJ', 'ADV', 'PART', 'VERB', 'DET', 'NOUN', 'ADP', 'DET', 'ADJ', 'NOUN', 'PUNCT']\n",
      "['And', 'it', 'is', 'a', 'war', '!']\n",
      "['CONJ', 'PRON', 'VERB', 'DET', 'NOUN', 'PUNCT']\n",
      "['What', 'is', 'behind', 'the', 'suicide', 'murders', '?']\n",
      "['PRON', 'VERB', 'ADP', 'DET', 'NOUN', 'NOUN', 'PUNCT']\n",
      "['Money', 'is', ',', 'money', 'and', 'power', 'and', 'cold', '-', 'blooded', 'murderous', 'incitement', ',', 'nothing', 'else', '.']\n",
      "['NOUN', 'VERB', 'PUNCT', 'NOUN', 'CONJ', 'NOUN', 'CONJ', 'ADJ', 'PUNCT', 'ADJ', 'ADJ', 'NOUN', 'PUNCT', 'PRON', 'ADJ', 'PUNCT']\n",
      "['It', 'has', 'nothing', 'to', 'do', 'with', 'true', 'fanatic', 'religious', 'beliefs', '.']\n",
      "['PRON', 'VERB', 'PRON', 'PART', 'VERB', 'ADP', 'ADJ', 'ADJ', 'ADJ', 'NOUN', 'PUNCT']\n",
      "['No', 'Moslem', 'preacher', 'has', 'ever', 'blown', 'himself', 'up', '.']\n",
      "['DET', 'ADJ', 'NOUN', 'AUX', 'ADV', 'VERB', 'PRON', 'ADP', 'PUNCT']\n",
      "['No', 'son', 'of', 'an', 'Arab', 'politician', 'or', 'religious', 'leader', 'has', 'ever', 'blown', 'himself', 'up', '.']\n",
      "['DET', 'NOUN', 'ADP', 'DET', 'ADJ', 'NOUN', 'CONJ', 'ADJ', 'NOUN', 'AUX', 'ADV', 'VERB', 'PRON', 'ADP', 'PUNCT']\n",
      "['No', 'relative', 'of', 'anyone', 'influential', 'has', 'done', 'it', '.']\n",
      "['DET', 'NOUN', 'ADP', 'PRON', 'ADJ', 'AUX', 'VERB', 'PRON', 'PUNCT']\n",
      "['Would', \"n't\", 'you', 'expect', 'some', 'of', 'the', 'religious', 'leaders', 'to', 'do', 'it', 'themselves', ',', 'or', 'to', 'talk', 'their', 'sons', 'into', 'doing', 'it', ',', 'if', 'this', 'is', 'truly', 'a', 'supreme', 'act', 'of', 'religious', 'fervor', '?']\n",
      "['AUX', 'PART', 'PRON', 'VERB', 'DET', 'ADP', 'DET', 'ADJ', 'NOUN', 'PART', 'VERB', 'PRON', 'PRON', 'PUNCT', 'CONJ', 'PART', 'VERB', 'PRON', 'NOUN', 'SCONJ', 'VERB', 'PRON', 'PUNCT', 'SCONJ', 'PRON', 'VERB', 'ADV', 'DET', 'ADJ', 'NOUN', 'ADP', 'ADJ', 'NOUN', 'PUNCT']\n",
      "['Are', \"n't\", 'they', 'interested', 'in', 'the', 'benefits', 'of', 'going', 'to', 'Heaven', '?']\n",
      "['VERB', 'PART', 'PRON', 'ADJ', 'ADP', 'DET', 'NOUN', 'SCONJ', 'VERB', 'ADP', 'PROPN', 'PUNCT']\n",
      "['Instead', ',', 'they', 'send', 'outcast', 'women', ',', 'naive', 'children', ',', 'retarded', 'people', 'and', 'young', 'incited', 'hotheads', '.']\n",
      "['ADV', 'PUNCT', 'PRON', 'VERB', 'ADJ', 'NOUN', 'PUNCT', 'ADJ', 'NOUN', 'PUNCT', 'ADJ', 'NOUN', 'CONJ', 'ADJ', 'VERB', 'NOUN', 'PUNCT']\n",
      "['They', 'promise', 'them', 'the', 'delights', ',', 'mostly', 'sexual', ',', 'of', 'the', 'next', 'world', ',', 'and', 'pay', 'their', 'families', 'handsomely', 'after', 'the', 'supreme', 'act', 'is', 'performed', 'and', 'enough', 'innocent', 'people', 'are', 'dead', '.']\n",
      "['PRON', 'VERB', 'PRON', 'DET', 'NOUN', 'PUNCT', 'ADV', 'ADJ', 'PUNCT', 'ADP', 'DET', 'ADJ', 'NOUN', 'PUNCT', 'CONJ', 'VERB', 'PRON', 'NOUN', 'ADV', 'SCONJ', 'DET', 'ADJ', 'NOUN', 'AUX', 'VERB', 'CONJ', 'ADJ', 'ADJ', 'NOUN', 'VERB', 'ADJ', 'PUNCT']\n",
      "['Suicide', 'murders', 'also', 'have', 'nothing', 'to', 'do', 'with', 'poverty', 'and', 'despair', '.']\n",
      "['NOUN', 'NOUN', 'ADV', 'VERB', 'PRON', 'PART', 'VERB', 'ADP', 'NOUN', 'CONJ', 'NOUN', 'PUNCT']\n",
      "['The', 'poorest', 'region', 'in', 'the', 'world', ',', 'by', 'far', ',', 'is', 'Africa', '.']\n",
      "['DET', 'ADJ', 'NOUN', 'ADP', 'DET', 'NOUN', 'PUNCT', 'ADP', 'ADV', 'PUNCT', 'VERB', 'PROPN', 'PUNCT']\n",
      "['It', 'never', 'happens', 'there', '.']\n",
      "['PRON', 'ADV', 'VERB', 'ADV', 'PUNCT']\n",
      "['There', 'are', 'numerous', 'desperate', 'people', 'in', 'the', 'world', ',', 'in', 'different', 'cultures', ',', 'countries', 'and', 'continents', '.']\n",
      "['PRON', 'VERB', 'ADJ', 'ADJ', 'NOUN', 'ADP', 'DET', 'NOUN', 'PUNCT', 'ADP', 'ADJ', 'NOUN', 'PUNCT', 'NOUN', 'CONJ', 'NOUN', 'PUNCT']\n",
      "['Desperation', 'does', 'not', 'provide', 'anyone', 'with', 'explosives', ',', 'reconnaissance', 'and', 'transportation', '.']\n",
      "['NOUN', 'AUX', 'PART', 'VERB', 'PRON', 'ADP', 'NOUN', 'PUNCT', 'NOUN', 'CONJ', 'NOUN', 'PUNCT']\n",
      "['There', 'was', 'certainly', 'more', 'despair', 'in', 'Saddam', \"'s\", 'Iraq', 'than', 'in', 'Paul', 'Bremmer', \"'s\", 'Iraq', ',', 'and', 'no', 'one', 'exploded', 'himself', '.']\n",
      "['PRON', 'VERB', 'ADV', 'ADJ', 'NOUN', 'ADP', 'PROPN', 'PART', 'PROPN', 'ADP', 'ADP', 'PROPN', 'PROPN', 'PART', 'PROPN', 'PUNCT', 'CONJ', 'DET', 'NOUN', 'VERB', 'PRON', 'PUNCT']\n",
      "['A', 'suicide', 'murder', 'is', 'simply', 'a', 'horrible', ',', 'vicious', 'weapon', 'of', 'cruel', ',', 'inhuman', ',', 'cynical', ',', 'well', '-', 'funded', 'terrorists', ',', 'with', 'no', 'regard', 'to', 'human', 'life', ',', 'including', 'the', 'life', 'of', 'their', 'fellow', 'countrymen', ',', 'but', 'with', 'very', 'high', 'regard', 'to', 'their', 'own', 'affluent', 'well', '-', 'being', 'and', 'their', 'hunger', 'for', 'power', '.']\n",
      "['DET', 'NOUN', 'NOUN', 'VERB', 'ADV', 'DET', 'ADJ', 'PUNCT', 'ADJ', 'NOUN', 'ADP', 'ADJ', 'PUNCT', 'ADJ', 'PUNCT', 'ADJ', 'PUNCT', 'ADV', 'PUNCT', 'VERB', 'NOUN', 'PUNCT', 'ADP', 'DET', 'NOUN', 'ADP', 'ADJ', 'NOUN', 'PUNCT', 'VERB', 'DET', 'NOUN', 'ADP', 'PRON', 'ADJ', 'NOUN', 'PUNCT', 'CONJ', 'ADP', 'ADV', 'ADJ', 'NOUN', 'ADP', 'PRON', 'ADJ', 'ADJ', 'ADV', 'PUNCT', 'NOUN', 'CONJ', 'PRON', 'NOUN', 'ADP', 'NOUN', 'PUNCT']\n",
      "['The', 'only', 'way', 'to', 'fight', 'this', 'new', '\"', 'popular', '\"', 'weapon', 'is', 'identical', 'to', 'the', 'only', 'way', 'in', 'which', 'you', 'fight', 'organized', 'crime', 'or', 'pirates', 'on', 'the', 'high', 'seas', ':', 'the', 'offensive', 'way', '.']\n",
      "['DET', 'ADJ', 'NOUN', 'PART', 'VERB', 'DET', 'ADJ', 'PUNCT', 'ADJ', 'PUNCT', 'NOUN', 'VERB', 'ADJ', 'ADP', 'DET', 'ADJ', 'NOUN', 'ADP', 'PRON', 'PRON', 'VERB', 'ADJ', 'NOUN', 'CONJ', 'NOUN', 'ADP', 'DET', 'ADJ', 'NOUN', 'PUNCT', 'DET', 'ADJ', 'NOUN', 'PUNCT']\n",
      "['Like', 'in', 'the', 'case', 'of', 'organized', 'crime', ',', 'it', 'is', 'crucial', 'that', 'the', 'forces', 'on', 'the', 'offensive', 'be', 'united', 'and', 'it', 'is', 'crucial', 'to', 'reach', 'the', 'top', 'of', 'the', 'crime', 'pyramid', '.']\n",
      "['ADP', 'ADP', 'DET', 'NOUN', 'ADP', 'ADJ', 'NOUN', 'PUNCT', 'PRON', 'VERB', 'ADJ', 'SCONJ', 'DET', 'NOUN', 'ADP', 'DET', 'NOUN', 'VERB', 'ADJ', 'CONJ', 'PRON', 'VERB', 'ADJ', 'PART', 'VERB', 'DET', 'NOUN', 'ADP', 'DET', 'NOUN', 'NOUN', 'PUNCT']\n",
      "['You', 'can', 'not', 'eliminate', 'organized', 'crime', 'by', 'arresting', 'the', 'little', 'drug', 'dealer', 'on', 'the', 'street', 'corner', '.']\n",
      "['PRON', 'AUX', 'PART', 'VERB', 'ADJ', 'NOUN', 'SCONJ', 'VERB', 'DET', 'ADJ', 'NOUN', 'NOUN', 'ADP', 'DET', 'NOUN', 'NOUN', 'PUNCT']\n",
      "['You', 'must', 'go', 'after', 'the', 'head', 'of', 'the', '\"', 'Family', '\"', '.']\n",
      "['PRON', 'AUX', 'VERB', 'ADP', 'DET', 'NOUN', 'ADP', 'DET', 'PUNCT', 'NOUN', 'PUNCT', 'PUNCT']\n",
      "['If', 'part', 'of', 'the', 'public', 'supports', 'it', ',', 'others', 'tolerate', 'it', ',', 'many', 'are', 'afraid', 'of', 'it', 'and', 'some', 'try', 'to', 'explain', 'it', 'away', 'by', 'poverty', 'or', 'by', 'a', 'miserable', 'childhood', ',', 'organized', 'crime', 'will', 'thrive', 'and', 'so', 'will', 'terrorism', '.']\n",
      "['SCONJ', 'NOUN', 'ADP', 'DET', 'NOUN', 'VERB', 'PRON', 'PUNCT', 'NOUN', 'VERB', 'PRON', 'PUNCT', 'ADJ', 'VERB', 'ADJ', 'ADP', 'PRON', 'CONJ', 'DET', 'VERB', 'PART', 'VERB', 'PRON', 'ADV', 'ADP', 'NOUN', 'CONJ', 'ADP', 'DET', 'ADJ', 'NOUN', 'PUNCT', 'ADJ', 'NOUN', 'AUX', 'VERB', 'CONJ', 'ADV', 'AUX', 'NOUN', 'PUNCT']\n",
      "['The', 'United', 'States', 'understands', 'this', 'now', ',', 'after', 'September', '11', '.']\n",
      "['DET', 'PROPN', 'PROPN', 'VERB', 'PRON', 'ADV', 'PUNCT', 'ADP', 'PROPN', 'NUM', 'PUNCT']\n",
      "['Russia', 'is', 'beginning', 'to', 'understand', 'it', '.']\n",
      "['PROPN', 'AUX', 'VERB', 'PART', 'VERB', 'PRON', 'PUNCT']\n",
      "['Turkey', 'understands', 'it', 'well', '.']\n",
      "['PROPN', 'VERB', 'PRON', 'ADV', 'PUNCT']\n",
      "['I', 'am', 'very', 'much', 'afraid', 'that', 'most', 'of', 'Europe', 'still', 'does', 'not', 'understand', 'it', '.']\n",
      "['PRON', 'VERB', 'ADV', 'ADV', 'ADJ', 'SCONJ', 'ADJ', 'ADP', 'PROPN', 'ADV', 'AUX', 'PART', 'VERB', 'PRON', 'PUNCT']\n",
      "['Unfortunately', ',', 'it', 'seems', 'that', 'Europe', 'will', 'understand', 'it', 'only', 'after', 'suicide', 'murders', 'arrive', 'in', 'Europe', 'in', 'a', 'big', 'way', '.']\n",
      "['ADV', 'PUNCT', 'PRON', 'VERB', 'SCONJ', 'PROPN', 'AUX', 'VERB', 'PRON', 'ADV', 'SCONJ', 'NOUN', 'NOUN', 'VERB', 'ADP', 'PROPN', 'ADP', 'DET', 'ADJ', 'NOUN', 'PUNCT']\n",
      "['In', 'my', 'humble', 'opinion', ',', 'this', 'will', 'definitely', 'happen', '.']\n",
      "['ADP', 'PRON', 'ADJ', 'NOUN', 'PUNCT', 'PRON', 'AUX', 'ADV', 'VERB', 'PUNCT']\n",
      "['The', 'Spanish', 'trains', 'and', 'the', 'Istanbul', 'bombings', 'are', 'only', 'the', 'beginning', '.']\n",
      "['DET', 'ADJ', 'NOUN', 'CONJ', 'DET', 'PROPN', 'NOUN', 'VERB', 'ADV', 'DET', 'NOUN', 'PUNCT']\n",
      "['The', 'unity', 'of', 'the', 'Civilized', 'World', 'in', 'fighting', 'this', 'horror', 'is', 'absolutely', 'indispensable', '.']\n",
      "['DET', 'NOUN', 'ADP', 'DET', 'ADJ', 'NOUN', 'SCONJ', 'VERB', 'DET', 'NOUN', 'VERB', 'ADV', 'ADJ', 'PUNCT']\n",
      "['Until', 'Europe', 'wakes', 'up', ',', 'this', 'unity', 'will', 'not', 'be', 'achieved', '.']\n",
      "['SCONJ', 'PROPN', 'VERB', 'ADP', 'PUNCT', 'DET', 'NOUN', 'AUX', 'PART', 'AUX', 'VERB', 'PUNCT']\n",
      "['*', '2', '.', 'The', 'second', 'ingredient', 'is', 'words', ',', 'more', 'precisely', 'lies', '.', '*']\n",
      "['PUNCT', 'X', 'PUNCT', 'DET', 'ADJ', 'NOUN', 'VERB', 'NOUN', 'PUNCT', 'ADV', 'ADV', 'NOUN', 'PUNCT', 'PUNCT']\n",
      "['Words', 'can', 'be', 'lethal', '.']\n",
      "['NOUN', 'AUX', 'VERB', 'ADJ', 'PUNCT']\n",
      "['They', 'kill', 'people', '.']\n",
      "['PRON', 'VERB', 'NOUN', 'PUNCT']\n",
      "['It', 'is', 'often', 'said', 'that', 'politicians', ',', 'diplomats', 'and', 'perhaps', 'also', 'lawyers', 'and', 'business', 'people', 'must', 'sometimes', 'lie', ',', 'as', 'part', 'of', 'their', 'professional', 'life', '.']\n",
      "['PRON', 'AUX', 'ADV', 'VERB', 'SCONJ', 'NOUN', 'PUNCT', 'NOUN', 'CONJ', 'ADV', 'ADV', 'NOUN', 'CONJ', 'NOUN', 'NOUN', 'AUX', 'ADV', 'VERB', 'PUNCT', 'ADP', 'NOUN', 'ADP', 'PRON', 'ADJ', 'NOUN', 'PUNCT']\n",
      "['But', 'the', 'norms', 'of', 'politics', 'and', 'diplomacy', 'are', 'childish', ',', 'in', 'comparison', 'with', 'the', 'level', 'of', 'incitement', 'and', 'total', 'absolute', 'deliberate', 'fabrications', ',', 'which', 'have', 'reached', 'new', 'heights', 'in', 'the', 'region', 'we', 'are', 'talking', 'about', '.']\n",
      "['CONJ', 'DET', 'NOUN', 'ADP', 'NOUN', 'CONJ', 'NOUN', 'VERB', 'ADJ', 'PUNCT', 'ADP', 'NOUN', 'ADP', 'DET', 'NOUN', 'ADP', 'NOUN', 'CONJ', 'ADJ', 'ADJ', 'ADJ', 'NOUN', 'PUNCT', 'PRON', 'AUX', 'VERB', 'ADJ', 'NOUN', 'ADP', 'DET', 'NOUN', 'PRON', 'AUX', 'VERB', 'ADP', 'PUNCT']\n",
      "['An', 'incredible', 'number', 'of', 'people', 'in', 'the', 'Arab', 'world', 'believe', 'that', 'September', '11', 'never', 'happened', ',', 'or', 'was', 'an', 'American', 'provocation', 'or', ',', 'even', 'better', ',', 'a', 'Jewish', 'plot', '.']\n",
      "['DET', 'ADJ', 'NOUN', 'ADP', 'NOUN', 'ADP', 'DET', 'ADJ', 'NOUN', 'VERB', 'SCONJ', 'PROPN', 'NUM', 'ADV', 'VERB', 'PUNCT', 'CONJ', 'VERB', 'DET', 'ADJ', 'NOUN', 'CONJ', 'PUNCT', 'ADV', 'ADV', 'PUNCT', 'DET', 'ADJ', 'NOUN', 'PUNCT']\n",
      "['You', 'all', 'remember', 'the', 'Iraqi', 'Minister', 'of', 'Information', ',', 'Mr.', 'Mouhamad', 'Said', 'al', '-', 'Sahaf', 'and', 'his', 'press', 'conferences', 'when', 'the', 'US', 'forces', 'were', 'already', 'inside', 'Baghdad', '.']\n",
      "['PRON', 'DET', 'VERB', 'DET', 'ADJ', 'PROPN', 'ADP', 'PROPN', 'PUNCT', 'PROPN', 'PROPN', 'PROPN', 'PROPN', 'PUNCT', 'PROPN', 'CONJ', 'PRON', 'NOUN', 'NOUN', 'ADV', 'DET', 'PROPN', 'NOUN', 'VERB', 'ADV', 'ADP', 'PROPN', 'PUNCT']\n",
      "['Disinformation', 'at', 'time', 'of', 'war', 'is', 'an', 'accepted', 'tactic', '.']\n",
      "['NOUN', 'ADP', 'NOUN', 'ADP', 'NOUN', 'VERB', 'DET', 'VERB', 'NOUN', 'PUNCT']\n",
      "['But', 'to', 'stand', ',', 'day', 'after', 'day', ',', 'and', 'to', 'make', 'such', 'preposterous', 'statements', ',', 'known', 'to', 'everybody', 'to', 'be', 'lies', ',', 'without', 'even', 'being', 'ridiculed', 'in', 'your', 'own', 'milieu', ',', 'can', 'only', 'happen', 'in', 'this', 'region', '.']\n",
      "['CONJ', 'PART', 'VERB', 'PUNCT', 'NOUN', 'ADP', 'NOUN', 'PUNCT', 'CONJ', 'PART', 'VERB', 'ADJ', 'ADJ', 'NOUN', 'PUNCT', 'ADJ', 'ADP', 'PRON', 'PART', 'VERB', 'NOUN', 'PUNCT', 'SCONJ', 'ADV', 'AUX', 'VERB', 'ADP', 'PRON', 'ADJ', 'NOUN', 'PUNCT', 'AUX', 'ADV', 'VERB', 'ADP', 'DET', 'NOUN', 'PUNCT']\n",
      "['Mr.', 'Sahaf', 'eventually', 'became', 'a', 'popular', 'icon', 'as', 'a', 'court', 'jester', ',', 'but', 'this', 'did', 'not', 'stop', 'some', 'allegedly', 'respectable', 'newspapers', 'from', 'giving', 'him', 'equal', 'time', '.']\n",
      "['PROPN', 'PROPN', 'ADV', 'VERB', 'DET', 'ADJ', 'NOUN', 'ADP', 'DET', 'NOUN', 'NOUN', 'PUNCT', 'CONJ', 'PRON', 'AUX', 'PART', 'VERB', 'DET', 'ADV', 'ADJ', 'NOUN', 'SCONJ', 'VERB', 'PRON', 'ADJ', 'NOUN', 'PUNCT']\n",
      "['It', 'also', 'does', 'not', 'prevent', 'the', 'Western', 'press', 'from', 'giving', 'credence', ',', 'every', 'day', ',', 'even', 'now', ',', 'to', 'similar', 'liars', '.']\n",
      "['PRON', 'ADV', 'AUX', 'PART', 'VERB', 'DET', 'ADJ', 'NOUN', 'SCONJ', 'VERB', 'NOUN', 'PUNCT', 'DET', 'NOUN', 'PUNCT', 'ADV', 'ADV', 'PUNCT', 'ADP', 'ADJ', 'NOUN', 'PUNCT']\n",
      "['After', 'all', ',', 'if', 'you', 'want', 'to', 'be', 'an', 'anti-Semite', ',', 'there', 'are', 'subtle', 'ways', 'of', 'doing', 'it', '.']\n",
      "['ADV', 'ADV', 'PUNCT', 'SCONJ', 'PRON', 'VERB', 'PART', 'VERB', 'DET', 'NOUN', 'PUNCT', 'PRON', 'VERB', 'ADJ', 'NOUN', 'SCONJ', 'VERB', 'PRON', 'PUNCT']\n",
      "['You', 'do', 'not', 'have', 'to', 'claim', 'that', 'the', 'holocaust', 'never', 'happened', ',', 'and', 'that', 'the', 'Jewish', 'temple', 'in', 'Jerusalem', 'never', 'existed', '.']\n",
      "['PRON', 'AUX', 'PART', 'VERB', 'PART', 'VERB', 'SCONJ', 'DET', 'PROPN', 'ADV', 'VERB', 'PUNCT', 'CONJ', 'SCONJ', 'DET', 'ADJ', 'NOUN', 'ADP', 'PROPN', 'ADV', 'VERB', 'PUNCT']\n",
      "['But', 'millions', 'of', 'Moslems', 'are', 'told', 'by', 'their', 'leaders', 'that', 'this', 'is', 'the', 'case', '.']\n",
      "['CONJ', 'NOUN', 'ADP', 'PROPN', 'AUX', 'VERB', 'ADP', 'PRON', 'NOUN', 'SCONJ', 'PRON', 'VERB', 'DET', 'NOUN', 'PUNCT']\n",
      "['When', 'these', 'same', 'leaders', 'make', 'other', 'statements', ',', 'the', 'Western', 'media', 'report', 'them', 'as', 'if', 'they', 'could', 'be', 'true', '.']\n",
      "['ADV', 'DET', 'ADJ', 'NOUN', 'VERB', 'ADJ', 'NOUN', 'PUNCT', 'DET', 'ADJ', 'NOUN', 'VERB', 'PRON', 'SCONJ', 'SCONJ', 'PRON', 'AUX', 'VERB', 'ADJ', 'PUNCT']\n",
      "['It', 'is', 'a', 'daily', 'occurrence', 'that', 'the', 'same', 'people', 'who', 'finance', ',', 'arm', 'and', 'dispatch', 'suicide', 'murderers', ',', 'condemn', 'the', 'act', 'in', 'English', 'in', 'front', 'of', 'western', 'TV', 'cameras', ',', 'talking', 'to', 'a', 'world', 'audience', ',', 'which', 'even', 'partly', 'believes', 'them', '.']\n",
      "['PRON', 'VERB', 'DET', 'ADJ', 'NOUN', 'SCONJ', 'DET', 'ADJ', 'NOUN', 'PRON', 'VERB', 'PUNCT', 'VERB', 'CONJ', 'VERB', 'NOUN', 'NOUN', 'PUNCT', 'VERB', 'DET', 'NOUN', 'ADP', 'PROPN', 'ADP', 'NOUN', 'ADP', 'ADJ', 'NOUN', 'NOUN', 'PUNCT', 'VERB', 'ADP', 'DET', 'NOUN', 'NOUN', 'PUNCT', 'PRON', 'ADV', 'ADV', 'VERB', 'PRON', 'PUNCT']\n",
      "['It', 'is', 'a', 'daily', 'routine', 'to', 'hear', 'the', 'same', 'leader', 'making', 'opposite', 'statements', 'in', 'Arabic', 'to', 'his', 'people', 'and', 'in', 'English', 'to', 'the', 'rest', 'of', 'the', 'world', '.']\n",
      "['PRON', 'VERB', 'DET', 'ADJ', 'NOUN', 'PART', 'VERB', 'DET', 'ADJ', 'NOUN', 'VERB', 'ADJ', 'NOUN', 'ADP', 'PROPN', 'ADP', 'PRON', 'NOUN', 'CONJ', 'ADP', 'PROPN', 'ADP', 'DET', 'NOUN', 'ADP', 'DET', 'NOUN', 'PUNCT']\n",
      "['Incitement', 'by', 'Arab', 'TV', ',', 'accompanied', 'by', 'horror', 'pictures', 'of', 'mutilated', 'bodies', ',', 'has', 'become', 'a', 'powerful', 'weapon', 'of', 'those', 'who', 'lie', ',', 'distort', 'and', 'want', 'to', 'destroy', 'everything', '.']\n",
      "['NOUN', 'ADP', 'ADJ', 'NOUN', 'PUNCT', 'VERB', 'ADP', 'NOUN', 'NOUN', 'ADP', 'VERB', 'NOUN', 'PUNCT', 'AUX', 'VERB', 'DET', 'ADJ', 'NOUN', 'ADP', 'PRON', 'PRON', 'VERB', 'PUNCT', 'VERB', 'CONJ', 'VERB', 'PART', 'VERB', 'PRON', 'PUNCT']\n",
      "['Little', 'children', 'are', 'raised', 'on', 'deep', 'hatred', 'and', 'on', 'admiration', 'of', 'so', '-', 'called', 'martyrs', ',', 'and', 'the', 'Western', 'World', 'does', 'not', 'notice', 'it', 'because', 'its', 'own', 'TV', 'sets', 'are', 'mostly', 'tuned', 'to', 'soap', 'operas', 'and', 'game', 'shows', '.']\n",
      "['ADJ', 'NOUN', 'AUX', 'VERB', 'ADP', 'ADJ', 'NOUN', 'CONJ', 'ADP', 'NOUN', 'ADP', 'ADV', 'PUNCT', 'VERB', 'NOUN', 'PUNCT', 'CONJ', 'DET', 'ADJ', 'NOUN', 'AUX', 'PART', 'VERB', 'PRON', 'SCONJ', 'PRON', 'ADJ', 'NOUN', 'NOUN', 'AUX', 'ADV', 'VERB', 'ADP', 'NOUN', 'NOUN', 'CONJ', 'NOUN', 'NOUN', 'PUNCT']\n",
      "['I', 'recommend', 'to', 'you', ',', 'even', 'though', 'most', 'of', 'you', 'do', 'not', 'understand', 'Arabic', ',', 'to', 'watch', 'Al', 'Jazeera', ',', 'from', 'time', 'to', 'time', '.']\n",
      "['PRON', 'VERB', 'ADP', 'PRON', 'PUNCT', 'ADV', 'SCONJ', 'ADJ', 'ADP', 'PRON', 'AUX', 'PART', 'VERB', 'PROPN', 'PUNCT', 'PART', 'VERB', 'PROPN', 'PROPN', 'PUNCT', 'ADP', 'NOUN', 'ADP', 'NOUN', 'PUNCT']\n",
      "['You', 'will', 'not', 'believe', 'your', 'own', 'eyes', '.']\n",
      "['PRON', 'AUX', 'PART', 'VERB', 'PRON', 'ADJ', 'NOUN', 'PUNCT']\n",
      "['But', 'words', 'also', 'work', 'in', 'other', 'ways', ',', 'more', 'subtle', '.']\n",
      "['CONJ', 'NOUN', 'ADV', 'VERB', 'ADP', 'ADJ', 'NOUN', 'PUNCT', 'ADV', 'ADJ', 'PUNCT']\n",
      "['A', 'demonstration', 'in', 'Berlin', ',', 'carrying', 'banners', 'supporting', 'Saddam', \"'s\", 'regime', 'and', 'featuring', 'three', '-', 'year', 'old', 'babies', 'dressed', 'as', 'suicide', 'murderers', ',', 'is', 'defined', 'by', 'the', 'press', 'and', 'by', 'political', 'leaders', 'as', 'a', '\"', 'peace', 'demonstration', '\"', '.']\n",
      "['DET', 'NOUN', 'ADP', 'PROPN', 'PUNCT', 'VERB', 'NOUN', 'VERB', 'PROPN', 'PART', 'NOUN', 'CONJ', 'VERB', 'NUM', 'PUNCT', 'NOUN', 'ADJ', 'NOUN', 'VERB', 'ADP', 'NOUN', 'NOUN', 'PUNCT', 'AUX', 'VERB', 'ADP', 'DET', 'NOUN', 'CONJ', 'ADP', 'ADJ', 'NOUN', 'ADP', 'DET', 'PUNCT', 'NOUN', 'NOUN', 'PUNCT', 'PUNCT']\n",
      "['You', 'may', 'support', 'or', 'oppose', 'the', 'Iraq', 'war', ',', 'but', 'to', 'refer', 'to', 'fans', 'of', 'Saddam', ',', 'Arafat', 'or', 'Bin', 'Laden', 'as', 'peace', 'activists', 'is', 'a', 'bit', 'too', 'much', '.']\n",
      "['PRON', 'AUX', 'VERB', 'CONJ', 'VERB', 'DET', 'PROPN', 'NOUN', 'PUNCT', 'CONJ', 'PART', 'VERB', 'ADP', 'NOUN', 'ADP', 'PROPN', 'PUNCT', 'PROPN', 'CONJ', 'PROPN', 'PROPN', 'ADP', 'NOUN', 'NOUN', 'VERB', 'DET', 'NOUN', 'ADV', 'ADJ', 'PUNCT']\n",
      "['A', 'woman', 'walks', 'into', 'an', 'Israeli', 'restaurant', 'in', 'mid-day', ',', 'eats', ',', 'observes', 'families', 'with', 'old', 'people', 'and', 'children', 'eating', 'their', 'lunch', 'in', 'the', 'adjacent', 'tables', 'and', 'pays', 'the', 'bill', '.']\n",
      "['DET', 'NOUN', 'VERB', 'ADP', 'DET', 'ADJ', 'NOUN', 'ADP', 'NOUN', 'PUNCT', 'VERB', 'PUNCT', 'VERB', 'NOUN', 'ADP', 'ADJ', 'NOUN', 'CONJ', 'NOUN', 'VERB', 'PRON', 'NOUN', 'ADP', 'DET', 'ADJ', 'NOUN', 'CONJ', 'VERB', 'DET', 'NOUN', 'PUNCT']\n",
      "['She', 'then', 'blows', 'herself', 'up', ',', 'killing', '20', 'people', ',', 'including', 'many', 'children', ',', 'with', 'heads', 'and', 'arms', 'rolling', 'around', 'in', 'the', 'restaurant', '.']\n",
      "['PRON', 'ADV', 'VERB', 'PRON', 'ADP', 'PUNCT', 'VERB', 'NUM', 'NOUN', 'PUNCT', 'VERB', 'ADJ', 'NOUN', 'PUNCT', 'SCONJ', 'NOUN', 'CONJ', 'NOUN', 'VERB', 'ADV', 'ADP', 'DET', 'NOUN', 'PUNCT']\n",
      "['She', 'is', 'called', '\"', 'martyr', '\"', 'by', 'several', 'Arab', 'leaders', 'and', '\"', 'activist', '\"', 'by', 'the', 'European', 'press', '.']\n",
      "['PRON', 'AUX', 'VERB', 'PUNCT', 'NOUN', 'PUNCT', 'ADP', 'ADJ', 'ADJ', 'NOUN', 'CONJ', 'PUNCT', 'NOUN', 'PUNCT', 'ADP', 'DET', 'ADJ', 'NOUN', 'PUNCT']\n",
      "['Dignitaries', 'condemn', 'the', 'act', 'but', 'visit', 'her', 'bereaved', 'family', 'and', 'the', 'money', 'flows', '.']\n",
      "['NOUN', 'VERB', 'DET', 'NOUN', 'CONJ', 'VERB', 'PRON', 'ADJ', 'NOUN', 'CONJ', 'DET', 'NOUN', 'VERB', 'PUNCT']\n",
      "['There', 'is', 'a', 'new', 'game', 'in', 'town', ':', 'The', 'actual', 'murderer', 'is', 'called', '\"', 'the', 'military', 'wing', '\"', ',', 'the', 'one', 'who', 'pays', 'him', ',', 'equips', 'him', 'and', 'sends', 'him', 'is', 'now', 'called', '\"', 'the', 'political', 'wing', '\"', 'and', 'the', 'head', 'of', 'the', 'operation', 'is', 'called', 'the', '\"', 'spiritual', 'leader', '\"', '.']\n",
      "['PRON', 'VERB', 'DET', 'ADJ', 'NOUN', 'ADP', 'NOUN', 'PUNCT', 'DET', 'ADJ', 'NOUN', 'AUX', 'VERB', 'PUNCT', 'DET', 'ADJ', 'NOUN', 'PUNCT', 'PUNCT', 'DET', 'NOUN', 'PRON', 'VERB', 'PRON', 'PUNCT', 'VERB', 'PRON', 'CONJ', 'VERB', 'PRON', 'AUX', 'ADV', 'VERB', 'PUNCT', 'DET', 'ADJ', 'NOUN', 'PUNCT', 'CONJ', 'DET', 'NOUN', 'ADP', 'DET', 'NOUN', 'AUX', 'VERB', 'DET', 'PUNCT', 'ADJ', 'NOUN', 'PUNCT', 'PUNCT']\n",
      "['There', 'are', 'numerous', 'other', 'examples', 'of', 'such', 'Orwellian', 'nomenclature', ',', 'used', 'every', 'day', 'not', 'only', 'by', 'terror', 'chiefs', 'but', 'also', 'by', 'Western', 'media', '.']\n",
      "['PRON', 'VERB', 'ADJ', 'ADJ', 'NOUN', 'ADP', 'ADJ', 'ADJ', 'NOUN', 'PUNCT', 'VERB', 'DET', 'NOUN', 'ADV', 'ADV', 'ADP', 'NOUN', 'NOUN', 'CONJ', 'ADV', 'ADP', 'ADJ', 'NOUN', 'PUNCT']\n",
      "['These', 'words', 'are', 'much', 'more', 'dangerous', 'than', 'many', 'people', 'realize', '.']\n",
      "['DET', 'NOUN', 'VERB', 'ADV', 'ADV', 'ADJ', 'SCONJ', 'ADJ', 'NOUN', 'VERB', 'PUNCT']\n",
      "['They', 'provide', 'an', 'emotional', 'infrastructure', 'for', 'atrocities', '.']\n",
      "['PRON', 'VERB', 'DET', 'ADJ', 'NOUN', 'ADP', 'NOUN', 'PUNCT']\n",
      "['It', 'was', 'Joseph', 'Goebbels', 'who', 'said', 'that', 'if', 'you', 'repeat', 'a', 'lie', 'often', 'enough', ',', 'people', 'will', 'believe', 'it', '.']\n",
      "['PRON', 'VERB', 'PROPN', 'PROPN', 'PRON', 'VERB', 'SCONJ', 'SCONJ', 'PRON', 'VERB', 'DET', 'NOUN', 'ADV', 'ADV', 'PUNCT', 'NOUN', 'AUX', 'VERB', 'PRON', 'PUNCT']\n",
      "['He', 'is', 'now', 'being', 'outperformed', 'by', 'his', 'successors', '.']\n",
      "['PRON', 'AUX', 'ADV', 'AUX', 'VERB', 'ADP', 'PRON', 'NOUN', 'PUNCT']\n",
      "['*', '3', '.', 'The', 'third', 'aspect', 'is', 'money', '.', '*']\n",
      "['PUNCT', 'X', 'PUNCT', 'DET', 'ADJ', 'NOUN', 'VERB', 'NOUN', 'PUNCT', 'PUNCT']\n",
      "['Huge', 'amounts', 'of', 'money', ',', 'which', 'could', 'have', 'solved', 'many', 'social', 'problems', 'in', 'this', 'dysfunctional', 'part', 'of', 'the', 'world', ',', 'are', 'channeled', 'into', 'three', 'concentric', 'spheres', 'supporting', 'death', 'and', 'murder', '.']\n",
      "['ADJ', 'NOUN', 'ADP', 'NOUN', 'PUNCT', 'PRON', 'AUX', 'AUX', 'VERB', 'ADJ', 'ADJ', 'NOUN', 'ADP', 'DET', 'ADJ', 'NOUN', 'ADP', 'DET', 'NOUN', 'PUNCT', 'AUX', 'VERB', 'ADP', 'NUM', 'ADJ', 'NOUN', 'VERB', 'NOUN', 'CONJ', 'NOUN', 'PUNCT']\n",
      "['In', 'the', 'inner', 'circle', 'are', 'the', 'terrorists', 'themselves', '.']\n",
      "['ADP', 'DET', 'ADJ', 'NOUN', 'VERB', 'DET', 'NOUN', 'PRON', 'PUNCT']\n",
      "['The', 'money', 'funds', 'their', 'travel', ',', 'explosives', ',', 'hideouts', 'and', 'permanent', 'search', 'for', 'soft', 'vulnerable', 'targets', '.']\n",
      "['DET', 'NOUN', 'VERB', 'PRON', 'NOUN', 'PUNCT', 'NOUN', 'PUNCT', 'NOUN', 'CONJ', 'ADJ', 'NOUN', 'ADP', 'ADJ', 'ADJ', 'NOUN', 'PUNCT']\n",
      "['The', 'inner', 'circles', 'are', 'primarily', 'financed', 'by', 'terrorist', 'states', 'like', 'Iran', 'and', 'Syria', ',', 'until', 'recently', 'also', 'by', 'Iraq', 'and', 'Libya', 'and', 'earlier', 'also', 'by', 'some', 'of', 'the', 'Communist', 'regimes', '.']\n",
      "['DET', 'ADJ', 'NOUN', 'AUX', 'ADV', 'VERB', 'ADP', 'NOUN', 'NOUN', 'ADP', 'PROPN', 'CONJ', 'PROPN', 'PUNCT', 'ADP', 'ADV', 'ADV', 'ADP', 'PROPN', 'CONJ', 'PROPN', 'CONJ', 'ADV', 'ADV', 'ADP', 'DET', 'ADP', 'DET', 'ADJ', 'NOUN', 'PUNCT']\n",
      "['These', 'states', ',', 'as', 'well', 'as', 'the', 'Palestinian', 'Authority', ',', 'are', 'the', 'safe', 'havens', 'of', 'the', 'wholesale', 'murder', 'vendors', '.']\n",
      "['DET', 'NOUN', 'PUNCT', 'ADV', 'ADV', 'ADP', 'DET', 'PROPN', 'PROPN', 'PUNCT', 'VERB', 'DET', 'ADJ', 'NOUN', 'ADP', 'DET', 'ADJ', 'NOUN', 'NOUN', 'PUNCT']\n",
      "['They', 'are', 'surrounded', 'by', 'a', 'second', 'wider', 'circle', 'of', 'direct', 'supporters', ',', 'planners', ',', 'commanders', ',', 'preachers', ',', 'all', 'of', 'whom', 'make', 'a', 'living', ',', 'usually', 'a', 'very', 'comfortable', 'living', ',', 'by', 'serving', 'as', 'terror', 'infrastructure', '.']\n",
      "['PRON', 'AUX', 'VERB', 'ADP', 'DET', 'ADJ', 'ADJ', 'NOUN', 'ADP', 'ADJ', 'NOUN', 'PUNCT', 'NOUN', 'PUNCT', 'NOUN', 'PUNCT', 'NOUN', 'PUNCT', 'DET', 'ADP', 'PRON', 'VERB', 'DET', 'NOUN', 'PUNCT', 'ADV', 'DET', 'ADV', 'ADJ', 'NOUN', 'PUNCT', 'SCONJ', 'VERB', 'ADP', 'NOUN', 'NOUN', 'PUNCT']\n",
      "['Finally', ',', 'we', 'find', 'the', 'third', 'circle', 'of', 'so', '-', 'called', 'religious', ',', 'educational', 'and', 'welfare', 'organizations', ',', 'which', 'actually', 'do', 'some', 'good', ',', 'feed', 'the', 'hungry', 'and', 'provide', 'some', 'schooling', ',', 'but', 'brainwash', 'a', 'new', 'generation', 'with', 'hatred', ',', 'lies', 'and', 'ignorance', '.']\n",
      "['ADV', 'PUNCT', 'PRON', 'VERB', 'DET', 'ADJ', 'NOUN', 'ADP', 'ADV', 'PUNCT', 'VERB', 'ADJ', 'PUNCT', 'ADJ', 'CONJ', 'NOUN', 'NOUN', 'PUNCT', 'PRON', 'ADV', 'VERB', 'DET', 'NOUN', 'PUNCT', 'VERB', 'DET', 'ADJ', 'CONJ', 'VERB', 'DET', 'NOUN', 'PUNCT', 'CONJ', 'VERB', 'DET', 'ADJ', 'NOUN', 'ADP', 'NOUN', 'PUNCT', 'NOUN', 'CONJ', 'NOUN', 'PUNCT']\n",
      "['This', 'circle', 'operates', 'mostly', 'through', 'mosques', ',', 'madrasas', 'and', 'other', 'religious', 'establishments', 'but', 'also', 'through', 'inciting', 'electronic', 'and', 'printed', 'media', '.']\n",
      "['DET', 'NOUN', 'VERB', 'ADV', 'ADP', 'NOUN', 'PUNCT', 'NOUN', 'CONJ', 'ADJ', 'ADJ', 'NOUN', 'CONJ', 'ADV', 'ADP', 'VERB', 'ADJ', 'CONJ', 'VERB', 'NOUN', 'PUNCT']\n",
      "['It', 'is', 'this', 'circle', 'that', 'makes', 'sure', 'that', 'women', 'remain', 'inferior', ',', 'that', 'democracy', 'is', 'unthinkable', 'and', 'that', 'exposure', 'to', 'the', 'outside', 'world', 'is', 'minimal', '.']\n",
      "['PRON', 'VERB', 'DET', 'NOUN', 'PRON', 'VERB', 'ADJ', 'SCONJ', 'NOUN', 'VERB', 'ADJ', 'PUNCT', 'SCONJ', 'NOUN', 'VERB', 'ADJ', 'CONJ', 'SCONJ', 'NOUN', 'ADP', 'DET', 'ADJ', 'NOUN', 'VERB', 'ADJ', 'PUNCT']\n",
      "['It', 'is', 'also', 'that', 'circle', 'that', 'leads', 'the', 'way', 'in', 'blaming', 'everybody', 'outside', 'the', 'Moslem', 'world', ',', 'for', 'the', 'miseries', 'of', 'the', 'region', '.']\n",
      "['PRON', 'VERB', 'ADV', 'DET', 'NOUN', 'PRON', 'VERB', 'DET', 'NOUN', 'SCONJ', 'VERB', 'PRON', 'ADP', 'DET', 'ADJ', 'NOUN', 'PUNCT', 'ADP', 'DET', 'NOUN', 'ADP', 'DET', 'NOUN', 'PUNCT']\n",
      "['The', 'outer', 'circle', 'is', 'largely', 'financed', 'by', 'Saudi', 'Arabia', ',', 'but', 'also', 'by', 'donations', 'from', 'certain', 'Moslem', 'communities', 'in', 'the', 'United', 'States', 'and', 'Europe', 'and', ',', 'to', 'a', 'smaller', 'extent', ',', 'by', 'donations', 'of', 'European', 'Governments', 'to', 'various', \"NGO's\", 'and', 'by', 'certain', 'United', 'Nations', 'organizations', ',', 'whose', 'goals', 'may', 'be', 'noble', ',', 'but', 'they', 'are', 'infested', 'and', 'exploited', 'by', 'agents', 'of', 'the', 'outer', 'circle', '.']\n",
      "['DET', 'ADJ', 'NOUN', 'AUX', 'ADV', 'VERB', 'ADP', 'PROPN', 'PROPN', 'PUNCT', 'CONJ', 'ADV', 'ADP', 'NOUN', 'ADP', 'ADJ', 'ADJ', 'NOUN', 'ADP', 'DET', 'PROPN', 'PROPN', 'CONJ', 'PROPN', 'CONJ', 'PUNCT', 'ADP', 'DET', 'ADJ', 'NOUN', 'PUNCT', 'ADP', 'NOUN', 'ADP', 'ADJ', 'NOUN', 'ADP', 'ADJ', 'NOUN', 'CONJ', 'ADP', 'ADJ', 'PROPN', 'PROPN', 'NOUN', 'PUNCT', 'PRON', 'NOUN', 'AUX', 'VERB', 'ADJ', 'PUNCT', 'CONJ', 'PRON', 'AUX', 'VERB', 'CONJ', 'VERB', 'ADP', 'NOUN', 'ADP', 'DET', 'ADJ', 'NOUN', 'PUNCT']\n",
      "['The', 'Saudi', 'regime', ',', 'of', 'course', ',', 'will', 'be', 'the', 'next', 'victim', 'of', 'major', 'terror', ',', 'when', 'the', 'inner', 'circle', 'will', 'explode', 'into', 'the', 'outer', 'circle', '.']\n",
      "['DET', 'ADJ', 'NOUN', 'PUNCT', 'ADV', 'ADV', 'PUNCT', 'AUX', 'VERB', 'DET', 'ADJ', 'NOUN', 'ADP', 'ADJ', 'NOUN', 'PUNCT', 'ADV', 'DET', 'ADJ', 'NOUN', 'AUX', 'VERB', 'ADP', 'DET', 'ADJ', 'NOUN', 'PUNCT']\n",
      "['The', 'Saudis', 'are', 'beginning', 'to', 'understand', 'it', ',', 'but', 'they', 'fight', 'the', 'inner', 'circles', ',', 'while', 'still', 'financing', 'the', 'infrastructure', 'at', 'the', 'outer', 'circle', '.']\n",
      "['DET', 'PROPN', 'AUX', 'VERB', 'PART', 'VERB', 'PRON', 'PUNCT', 'CONJ', 'PRON', 'VERB', 'DET', 'ADJ', 'NOUN', 'PUNCT', 'SCONJ', 'ADV', 'VERB', 'DET', 'NOUN', 'ADP', 'DET', 'ADJ', 'NOUN', 'PUNCT']\n",
      "['Figuratively', 'speaking', ',', 'this', 'outer', 'circle', 'is', 'the', 'guardian', ',', 'which', 'makes', 'sure', 'that', 'the', 'people', 'look', 'and', 'listen', 'inwards', 'to', 'the', 'inner', 'circle', 'of', 'terror', 'and', 'incitement', ',', 'rather', 'than', 'to', 'the', 'world', 'outside', '.']\n",
      "['ADV', 'VERB', 'PUNCT', 'DET', 'ADJ', 'NOUN', 'VERB', 'DET', 'NOUN', 'PUNCT', 'PRON', 'VERB', 'ADJ', 'SCONJ', 'DET', 'NOUN', 'VERB', 'CONJ', 'VERB', 'ADV', 'ADP', 'DET', 'ADJ', 'NOUN', 'ADP', 'NOUN', 'CONJ', 'NOUN', 'PUNCT', 'ADV', 'ADP', 'ADP', 'DET', 'NOUN', 'ADJ', 'PUNCT']\n",
      "['Some', 'parts', 'of', 'this', 'same', 'outer', 'circle', 'actually', 'operate', 'as', 'a', 'result', 'of', 'fear', 'from', ',', 'or', 'blackmail', 'by', ',', 'the', 'inner', 'circles', '.']\n",
      "['DET', 'NOUN', 'ADP', 'DET', 'ADJ', 'ADJ', 'NOUN', 'ADV', 'VERB', 'ADP', 'DET', 'NOUN', 'ADP', 'NOUN', 'ADP', 'PUNCT', 'CONJ', 'NOUN', 'ADP', 'PUNCT', 'DET', 'ADJ', 'NOUN', 'PUNCT']\n",
      "['The', 'horrifying', 'added', 'factor', 'is', 'the', 'high', 'birth', 'rate', '.']\n",
      "['DET', 'ADJ', 'VERB', 'NOUN', 'VERB', 'DET', 'ADJ', 'NOUN', 'NOUN', 'PUNCT']\n",
      "['Half', 'of', 'the', 'population', 'of', 'the', 'Arab', 'world', 'is', 'under', 'the', 'age', 'of', '20', ',', 'the', 'most', 'receptive', 'age', 'to', 'incitement', ',', 'guaranteeing', 'two', 'more', 'generations', 'of', 'blind', 'hatred', '.']\n",
      "['NOUN', 'ADP', 'DET', 'NOUN', 'ADP', 'DET', 'ADJ', 'NOUN', 'VERB', 'ADP', 'DET', 'NOUN', 'ADP', 'NUM', 'PUNCT', 'DET', 'ADV', 'ADJ', 'NOUN', 'ADP', 'NOUN', 'PUNCT', 'VERB', 'NUM', 'ADJ', 'NOUN', 'ADP', 'ADJ', 'NOUN', 'PUNCT']\n",
      "['Some', 'of', 'the', 'leaders', 'of', 'these', 'various', 'circles', 'live', 'very', 'comfortably', 'on', 'their', 'loot', '.']\n",
      "['DET', 'ADP', 'DET', 'NOUN', 'ADP', 'DET', 'ADJ', 'NOUN', 'VERB', 'ADV', 'ADV', 'ADP', 'PRON', 'NOUN', 'PUNCT']\n",
      "['You', 'meet', 'their', 'children', 'in', 'the', 'best', 'private', 'schools', 'in', 'Europe', ',', 'not', 'in', 'the', 'training', 'camps', 'of', 'suicide', 'murderers', '.']\n",
      "['PRON', 'VERB', 'PRON', 'NOUN', 'ADP', 'DET', 'ADJ', 'ADJ', 'NOUN', 'ADP', 'PROPN', 'PUNCT', 'ADV', 'ADP', 'DET', 'NOUN', 'NOUN', 'ADP', 'NOUN', 'NOUN', 'PUNCT']\n",
      "['The', 'Jihad', '\"', 'soldiers', '\"', 'join', 'packaged', 'death', 'tours', 'to', 'Iraq', 'and', 'other', 'hotspots', ',', 'while', 'some', 'of', 'their', 'leaders', 'ski', 'in', 'Switzerland', '.']\n",
      "['DET', 'NOUN', 'PUNCT', 'NOUN', 'PUNCT', 'VERB', 'VERB', 'NOUN', 'NOUN', 'ADP', 'PROPN', 'CONJ', 'ADJ', 'NOUN', 'PUNCT', 'SCONJ', 'DET', 'ADP', 'PRON', 'NOUN', 'VERB', 'ADP', 'PROPN', 'PUNCT']\n",
      "['Mrs.', 'Arafat', ',', 'who', 'lives', 'in', 'Paris', 'with', 'her', 'daughter', ',', 'receives', 'tens', 'of', 'thousands', 'of', 'dollars', 'per', 'month', 'from', 'the', 'allegedly', 'bankrupt', 'Palestinian', 'Authority', ',', 'while', 'a', 'typical', 'local', 'ringleader', 'of', 'the', 'Al', '-', 'Aksa', 'brigade', ',', 'reporting', 'to', 'Arafat', ',', 'receives', 'only', 'a', 'cash', 'payment', 'of', 'a', 'couple', 'of', 'hundred', 'dollars', ',', 'for', 'performing', 'murders', 'at', 'the', 'retail', 'level', '.']\n",
      "['PROPN', 'PROPN', 'PUNCT', 'PRON', 'VERB', 'ADP', 'PROPN', 'ADP', 'PRON', 'NOUN', 'PUNCT', 'VERB', 'NOUN', 'ADP', 'NOUN', 'ADP', 'NOUN', 'ADP', 'NOUN', 'ADP', 'DET', 'VERB', 'ADJ', 'PROPN', 'PROPN', 'PUNCT', 'SCONJ', 'DET', 'ADJ', 'ADJ', 'NOUN', 'ADP', 'DET', 'PROPN', 'PUNCT', 'PROPN', 'NOUN', 'PUNCT', 'VERB', 'ADP', 'PROPN', 'PUNCT', 'VERB', 'ADV', 'DET', 'NOUN', 'NOUN', 'ADP', 'DET', 'NOUN', 'ADP', 'NUM', 'NOUN', 'PUNCT', 'SCONJ', 'VERB', 'NOUN', 'ADP', 'DET', 'NOUN', 'NOUN', 'PUNCT']\n",
      "['*', '4', '.', 'The', 'fourth', 'element', 'of', 'the', 'current', 'world', 'conflict', 'is', 'the', 'total', 'breaking', 'of', 'all', 'laws', '.', '*']\n",
      "['PUNCT', 'X', 'PUNCT', 'DET', 'ADJ', 'NOUN', 'ADP', 'DET', 'ADJ', 'NOUN', 'NOUN', 'VERB', 'DET', 'ADJ', 'NOUN', 'ADP', 'DET', 'NOUN', 'PUNCT', 'PUNCT']\n",
      "['The', 'civilized', 'world', 'believes', 'in', 'democracy', ',', 'the', 'rule', 'of', 'law', ',', 'including', 'international', 'law', ',', 'human', 'rights', ',', 'free', 'speech', 'and', 'free', 'press', ',', 'among', 'other', 'liberties', '.']\n",
      "['DET', 'ADJ', 'NOUN', 'VERB', 'ADP', 'NOUN', 'PUNCT', 'DET', 'NOUN', 'ADP', 'NOUN', 'PUNCT', 'VERB', 'ADJ', 'NOUN', 'PUNCT', 'ADJ', 'NOUN', 'PUNCT', 'ADJ', 'NOUN', 'CONJ', 'ADJ', 'NOUN', 'PUNCT', 'ADP', 'ADJ', 'NOUN', 'PUNCT']\n",
      "['There', 'are', 'naive', 'old', '-', 'fashioned', 'habits', 'such', 'as', 'respecting', 'religious', 'sites', 'and', 'symbols', ',', 'not', 'using', 'ambulances', 'and', 'hospitals', 'for', 'acts', 'of', 'war', ',', 'avoiding', 'the', 'mutilation', 'of', 'dead', 'bodies', 'and', 'not', 'using', 'children', 'as', 'human', 'shields', 'or', 'human', 'bombs', '.']\n",
      "['PRON', 'VERB', 'ADJ', 'ADJ', 'PUNCT', 'ADJ', 'NOUN', 'ADJ', 'SCONJ', 'VERB', 'ADJ', 'NOUN', 'CONJ', 'NOUN', 'PUNCT', 'PART', 'VERB', 'NOUN', 'CONJ', 'NOUN', 'ADP', 'NOUN', 'ADP', 'NOUN', 'PUNCT', 'VERB', 'DET', 'NOUN', 'ADP', 'ADJ', 'NOUN', 'CONJ', 'PART', 'VERB', 'NOUN', 'ADP', 'ADJ', 'NOUN', 'CONJ', 'ADJ', 'NOUN', 'PUNCT']\n",
      "['Never', 'in', 'history', ',', 'not', 'even', 'in', 'the', 'Nazi', 'period', ',', 'was', 'there', 'such', 'total', 'disregard', 'of', 'all', 'of', 'the', 'above', 'as', 'we', 'observe', 'now', '.']\n",
      "['ADV', 'ADP', 'NOUN', 'PUNCT', 'PART', 'ADV', 'ADP', 'DET', 'PROPN', 'NOUN', 'PUNCT', 'VERB', 'PRON', 'ADJ', 'ADJ', 'NOUN', 'ADP', 'DET', 'ADP', 'DET', 'ADJ', 'SCONJ', 'PRON', 'VERB', 'ADV', 'PUNCT']\n",
      "['Every', 'student', 'of', 'political', 'science', 'debates', 'how', 'you', 'prevent', 'an', 'anti-democratic', 'force', 'from', 'winning', 'a', 'democratic', 'election', 'and', 'abolishing', 'democracy', '.']\n",
      "['DET', 'NOUN', 'ADP', 'ADJ', 'NOUN', 'VERB', 'ADV', 'PRON', 'VERB', 'DET', 'ADJ', 'NOUN', 'SCONJ', 'VERB', 'DET', 'ADJ', 'NOUN', 'CONJ', 'VERB', 'NOUN', 'PUNCT']\n",
      "['Other', 'aspects', 'of', 'a', 'civilized', 'society', 'must', 'also', 'have', 'limitations', '.']\n",
      "['ADJ', 'NOUN', 'ADP', 'DET', 'ADJ', 'NOUN', 'AUX', 'ADV', 'VERB', 'NOUN', 'PUNCT']\n",
      "['Can', 'a', 'policeman', 'open', 'fire', 'on', 'someone', 'trying', 'to', 'kill', 'him', '?']\n",
      "['AUX', 'DET', 'NOUN', 'VERB', 'NOUN', 'ADP', 'PRON', 'VERB', 'PART', 'VERB', 'PRON', 'PUNCT']\n",
      "['Can', 'a', 'government', 'listen', 'to', 'phone', 'conversations', 'of', 'terrorists', 'and', 'drug', 'dealers', '?']\n",
      "['AUX', 'DET', 'NOUN', 'VERB', 'ADP', 'NOUN', 'NOUN', 'ADP', 'NOUN', 'CONJ', 'NOUN', 'NOUN', 'PUNCT']\n",
      "['Does', 'free', 'speech', 'protect', 'you', 'when', 'you', 'shout', '\"', 'fire', '\"', 'in', 'a', 'crowded', 'theater', '?']\n",
      "['AUX', 'ADJ', 'NOUN', 'VERB', 'PRON', 'ADV', 'PRON', 'VERB', 'PUNCT', 'NOUN', 'PUNCT', 'ADP', 'DET', 'ADJ', 'NOUN', 'PUNCT']\n",
      "['Should', 'there', 'be', 'death', 'penalty', ',', 'for', 'deliberate', 'multiple', 'murders', '?']\n",
      "['AUX', 'PRON', 'VERB', 'NOUN', 'NOUN', 'PUNCT', 'ADP', 'ADJ', 'ADJ', 'NOUN', 'PUNCT']\n",
      "['These', 'are', 'the', 'old', '-', 'fashioned', 'dilemmas', '.']\n",
      "['PRON', 'VERB', 'DET', 'ADJ', 'PUNCT', 'ADJ', 'NOUN', 'PUNCT']\n",
      "['But', 'now', 'we', 'have', 'an', 'entire', 'new', 'set', '.']\n",
      "['CONJ', 'ADV', 'PRON', 'VERB', 'DET', 'ADJ', 'ADJ', 'NOUN', 'PUNCT']\n",
      "['Do', 'you', 'raid', 'a', 'mosque', ',', 'which', 'serves', 'as', 'a', 'terrorist', 'ammunition', 'storage', '?']\n",
      "['AUX', 'PRON', 'VERB', 'DET', 'NOUN', 'PUNCT', 'PRON', 'VERB', 'ADP', 'DET', 'ADJ', 'NOUN', 'NOUN', 'PUNCT']\n",
      "['Do', 'you', 'return', 'fire', ',', 'if', 'you', 'are', 'attacked', 'from', 'a', 'hospital', '?']\n",
      "['AUX', 'PRON', 'VERB', 'NOUN', 'PUNCT', 'SCONJ', 'PRON', 'AUX', 'VERB', 'ADP', 'DET', 'NOUN', 'PUNCT']\n",
      "['Do', 'you', 'storm', 'a', 'church', 'taken', 'over', 'by', 'terrorists', 'who', 'took', 'the', 'priests', 'hostages', '?']\n",
      "['AUX', 'PRON', 'VERB', 'DET', 'NOUN', 'VERB', 'ADP', 'ADP', 'NOUN', 'PRON', 'VERB', 'DET', 'NOUN', 'NOUN', 'PUNCT']\n",
      "['Do', 'you', 'search', 'every', 'ambulance', 'after', 'a', 'few', 'suicide', 'murderers', 'use', 'ambulances', 'to', 'reach', 'their', 'targets', '?']\n",
      "['AUX', 'PRON', 'VERB', 'DET', 'NOUN', 'SCONJ', 'DET', 'ADJ', 'NOUN', 'NOUN', 'VERB', 'NOUN', 'PART', 'VERB', 'PRON', 'NOUN', 'PUNCT']\n",
      "['Do', 'you', 'strip', 'every', 'woman', 'because', 'one', 'pretended', 'to', 'be', 'pregnant', 'and', 'carried', 'a', 'suicide', 'bomb', 'on', 'her', 'belly', '?']\n",
      "['AUX', 'PRON', 'VERB', 'DET', 'NOUN', 'SCONJ', 'NUM', 'VERB', 'PART', 'VERB', 'ADJ', 'CONJ', 'VERB', 'DET', 'NOUN', 'NOUN', 'ADP', 'PRON', 'NOUN', 'PUNCT']\n",
      "['Do', 'you', 'shoot', 'back', 'at', 'someone', 'trying', 'to', 'kill', 'you', ',', 'standing', 'deliberately', 'behind', 'a', 'group', 'of', 'children', '?']\n",
      "['AUX', 'PRON', 'VERB', 'ADV', 'ADP', 'PRON', 'VERB', 'PART', 'VERB', 'PRON', 'PUNCT', 'VERB', 'ADV', 'ADP', 'DET', 'NOUN', 'ADP', 'NOUN', 'PUNCT']\n",
      "['Do', 'you', 'raid', 'terrorist', 'headquarters', ',', 'hidden', 'in', 'a', 'mental', 'hospital', '?']\n",
      "['AUX', 'PRON', 'VERB', 'ADJ', 'NOUN', 'PUNCT', 'VERB', 'ADP', 'DET', 'ADJ', 'NOUN', 'PUNCT']\n",
      "['Do', 'you', 'shoot', 'an', 'arch-murderer', 'who', 'deliberately', 'moves', 'from', 'one', 'location', 'to', 'another', ',', 'always', 'surrounded', 'by', 'children', '?']\n",
      "['AUX', 'PRON', 'VERB', 'DET', 'NOUN', 'PRON', 'ADV', 'VERB', 'ADP', 'NUM', 'NOUN', 'ADP', 'DET', 'PUNCT', 'ADV', 'VERB', 'ADP', 'NOUN', 'PUNCT']\n",
      "['All', 'of', 'these', 'happen', 'daily', 'in', 'Iraq', 'and', 'in', 'the', 'Palestinian', 'areas', '.']\n",
      "['DET', 'ADP', 'PRON', 'VERB', 'ADV', 'ADP', 'PROPN', 'CONJ', 'ADP', 'DET', 'ADJ', 'NOUN', 'PUNCT']\n",
      "['What', 'do', 'you', 'do', '?']\n",
      "['PRON', 'AUX', 'PRON', 'VERB', 'PUNCT']\n",
      "['Well', ',', 'you', 'do', 'not', 'want', 'to', 'face', 'the', 'dilemma', '.']\n",
      "['INTJ', 'PUNCT', 'PRON', 'AUX', 'PART', 'VERB', 'PART', 'VERB', 'DET', 'NOUN', 'PUNCT']\n",
      "['But', 'it', 'can', 'not', 'be', 'avoided', '.']\n",
      "['CONJ', 'PRON', 'AUX', 'PART', 'AUX', 'VERB', 'PUNCT']\n",
      "['Suppose', ',', 'for', 'the', 'sake', 'of', 'discussion', ',', 'that', 'someone', 'would', 'openly', 'stay', 'in', 'a', 'well', '-', 'known', 'address', 'in', 'Teheran', ',', 'hosted', 'by', 'the', 'Iranian', 'Government', 'and', 'financed', 'by', 'it', ',', 'executing', 'one', 'atrocity', 'after', 'another', 'in', 'Spain', 'or', 'in', 'France', ',', 'killing', 'hundreds', 'of', 'innocent', 'people', ',', 'accepting', 'responsibility', 'for', 'the', 'crimes', ',', 'promising', 'in', 'public', 'TV', 'interviews', 'to', 'do', 'more', 'of', 'the', 'same', ',', 'while', 'the', 'Government', 'of', 'Iran', 'issues', 'public', 'condemnations', 'of', 'his', 'acts', 'but', 'continues', 'to', 'host', 'him', ',', 'invite', 'him', 'to', 'official', 'functions', 'and', 'treat', 'him', 'as', 'a', 'great', 'dignitary', '.']\n",
      "['VERB', 'PUNCT', 'ADP', 'DET', 'NOUN', 'ADP', 'NOUN', 'PUNCT', 'SCONJ', 'PRON', 'AUX', 'ADV', 'VERB', 'ADP', 'DET', 'ADV', 'PUNCT', 'ADJ', 'NOUN', 'ADP', 'PROPN', 'PUNCT', 'VERB', 'ADP', 'DET', 'ADJ', 'NOUN', 'CONJ', 'VERB', 'ADP', 'PRON', 'PUNCT', 'VERB', 'NUM', 'NOUN', 'ADP', 'DET', 'ADP', 'PROPN', 'CONJ', 'ADP', 'PROPN', 'PUNCT', 'VERB', 'NOUN', 'ADP', 'ADJ', 'NOUN', 'PUNCT', 'VERB', 'NOUN', 'ADP', 'DET', 'NOUN', 'PUNCT', 'VERB', 'ADP', 'ADJ', 'NOUN', 'NOUN', 'PART', 'VERB', 'ADJ', 'ADP', 'DET', 'ADJ', 'PUNCT', 'SCONJ', 'DET', 'NOUN', 'ADP', 'PROPN', 'VERB', 'ADJ', 'NOUN', 'ADP', 'PRON', 'NOUN', 'CONJ', 'VERB', 'PART', 'VERB', 'PRON', 'PUNCT', 'VERB', 'PRON', 'ADP', 'ADJ', 'NOUN', 'CONJ', 'VERB', 'PRON', 'ADP', 'DET', 'ADJ', 'NOUN', 'PUNCT']\n",
      "['I', 'leave', 'it', 'to', 'you', 'as', 'homework', 'to', 'figure', 'out', 'what', 'Spain', 'or', 'France', 'would', 'have', 'done', ',', 'in', 'such', 'a', 'situation', '.']\n",
      "['PRON', 'VERB', 'PRON', 'ADP', 'PRON', 'ADP', 'NOUN', 'PART', 'VERB', 'ADP', 'PRON', 'PROPN', 'CONJ', 'PROPN', 'AUX', 'AUX', 'VERB', 'PUNCT', 'ADP', 'DET', 'DET', 'NOUN', 'PUNCT']\n",
      "['The', 'problem', 'is', 'that', 'the', 'civilized', 'world', 'is', 'still', 'having', 'illusions', 'about', 'the', 'rule', 'of', 'law', 'in', 'a', 'totally', 'lawless', 'environment', '.']\n",
      "['DET', 'NOUN', 'VERB', 'SCONJ', 'DET', 'ADJ', 'NOUN', 'AUX', 'ADV', 'VERB', 'NOUN', 'ADP', 'DET', 'NOUN', 'ADP', 'NOUN', 'ADP', 'DET', 'ADV', 'ADJ', 'NOUN', 'PUNCT']\n",
      "['It', 'is', 'trying', 'to', 'play', 'ice', 'hockey', 'by', 'sending', 'a', 'ballerina', 'ice', '-', 'skater', 'into', 'the', 'ring', 'or', 'to', 'knock', 'out', 'a', 'heavyweight', 'boxer', 'by', 'a', 'chess', 'player', '.']\n",
      "['PRON', 'AUX', 'VERB', 'PART', 'VERB', 'NOUN', 'NOUN', 'SCONJ', 'VERB', 'DET', 'NOUN', 'NOUN', 'PUNCT', 'NOUN', 'ADP', 'DET', 'NOUN', 'CONJ', 'PART', 'VERB', 'ADP', 'DET', 'NOUN', 'NOUN', 'ADP', 'DET', 'NOUN', 'NOUN', 'PUNCT']\n",
      "['In', 'the', 'same', 'way', 'that', 'no', 'country', 'has', 'a', 'law', 'against', 'cannibals', 'eating', 'its', 'prime', 'minister', ',', 'because', 'such', 'an', 'act', 'is', 'unthinkable', ',', 'international', 'law', 'does', 'not', 'address', 'killers', 'shooting', 'from', 'hospitals', ',', 'mosques', 'and', 'ambulances', ',', 'while', 'being', 'protected', 'by', 'their', 'Government', 'or', 'society', '.']\n",
      "['ADP', 'DET', 'ADJ', 'NOUN', 'ADV', 'DET', 'NOUN', 'VERB', 'DET', 'NOUN', 'SCONJ', 'NOUN', 'VERB', 'PRON', 'ADJ', 'NOUN', 'PUNCT', 'SCONJ', 'DET', 'DET', 'NOUN', 'VERB', 'ADJ', 'PUNCT', 'ADJ', 'NOUN', 'AUX', 'PART', 'VERB', 'NOUN', 'VERB', 'ADP', 'NOUN', 'PUNCT', 'NOUN', 'CONJ', 'NOUN', 'PUNCT', 'SCONJ', 'AUX', 'VERB', 'ADP', 'PRON', 'NOUN', 'CONJ', 'NOUN', 'PUNCT']\n",
      "['International', 'law', 'does', 'not', 'know', 'how', 'to', 'handle', 'someone', 'who', 'sends', 'children', 'to', 'throw', 'stones', ',', 'stands', 'behind', 'them', 'and', 'shoots', 'with', 'immunity', 'and', 'can', 'not', 'be', 'arrested', 'because', 'he', 'is', 'sheltered', 'by', 'a', 'Government', '.']\n",
      "['ADJ', 'NOUN', 'AUX', 'PART', 'VERB', 'ADV', 'PART', 'VERB', 'PRON', 'PRON', 'VERB', 'NOUN', 'PART', 'VERB', 'NOUN', 'PUNCT', 'VERB', 'ADP', 'PRON', 'CONJ', 'VERB', 'ADP', 'NOUN', 'CONJ', 'AUX', 'PART', 'AUX', 'VERB', 'SCONJ', 'PRON', 'AUX', 'VERB', 'ADP', 'DET', 'NOUN', 'PUNCT']\n",
      "['International', 'law', 'does', 'not', 'know', 'how', 'to', 'deal', 'with', 'a', 'leader', 'of', 'murderers', 'who', 'is', 'royally', 'and', 'comfortably', 'hosted', 'by', 'a', 'country', ',', 'which', 'pretends', 'to', 'condemn', 'his', 'acts', 'or', 'just', 'claims', 'to', 'be', 'too', 'weak', 'to', 'arrest', 'him', '.']\n",
      "['ADJ', 'NOUN', 'AUX', 'PART', 'VERB', 'ADV', 'PART', 'VERB', 'ADP', 'DET', 'NOUN', 'ADP', 'NOUN', 'PRON', 'AUX', 'ADV', 'CONJ', 'ADV', 'VERB', 'ADP', 'DET', 'NOUN', 'PUNCT', 'PRON', 'VERB', 'PART', 'VERB', 'PRON', 'NOUN', 'CONJ', 'ADV', 'VERB', 'PART', 'VERB', 'ADV', 'ADJ', 'PART', 'VERB', 'PRON', 'PUNCT']\n",
      "['The', 'amazing', 'thing', 'is', 'that', 'all', 'of', 'these', 'crooks', 'demand', 'protection', 'under', 'international', 'law', ',', 'and', 'define', 'all', 'those', 'who', 'attack', 'them', 'as', '\"', 'war', 'criminals', ',', '\"', 'with', 'some', 'Western', 'media', 'repeating', 'the', 'allegations', '.']\n",
      "['DET', 'ADJ', 'NOUN', 'VERB', 'SCONJ', 'DET', 'ADP', 'DET', 'NOUN', 'VERB', 'NOUN', 'ADP', 'ADJ', 'NOUN', 'PUNCT', 'CONJ', 'VERB', 'DET', 'DET', 'PRON', 'VERB', 'PRON', 'ADP', 'PUNCT', 'NOUN', 'NOUN', 'PUNCT', 'PUNCT', 'SCONJ', 'DET', 'ADJ', 'NOUN', 'VERB', 'DET', 'NOUN', 'PUNCT']\n",
      "['The', 'good', 'news', 'is', 'that', 'all', 'of', 'this', 'is', 'temporary', ',', 'because', 'the', 'evolution', 'of', 'international', 'law', 'has', 'always', 'adapted', 'itself', 'to', 'reality', '.']\n",
      "['DET', 'ADJ', 'NOUN', 'VERB', 'SCONJ', 'DET', 'ADP', 'PRON', 'VERB', 'ADJ', 'PUNCT', 'SCONJ', 'DET', 'NOUN', 'ADP', 'ADJ', 'NOUN', 'AUX', 'ADV', 'VERB', 'PRON', 'ADP', 'NOUN', 'PUNCT']\n",
      "['The', 'punishment', 'for', 'suicide', 'murder', 'should', 'be', 'death', 'or', 'arrest', 'before', 'the', 'murder', ',', 'not', 'during', 'and', 'not', 'after', '.']\n",
      "['DET', 'NOUN', 'ADP', 'NOUN', 'NOUN', 'AUX', 'VERB', 'NOUN', 'CONJ', 'NOUN', 'ADP', 'DET', 'NOUN', 'PUNCT', 'PART', 'ADV', 'CONJ', 'PART', 'ADV', 'PUNCT']\n",
      "['After', 'every', 'world', 'war', ',', 'the', 'rules', 'of', 'international', 'law', 'have', 'changed', ',', 'and', 'the', 'same', 'will', 'happen', 'after', 'the', 'present', 'one', '.']\n",
      "['ADP', 'DET', 'NOUN', 'NOUN', 'PUNCT', 'DET', 'NOUN', 'ADP', 'ADJ', 'NOUN', 'AUX', 'VERB', 'PUNCT', 'CONJ', 'DET', 'ADJ', 'AUX', 'VERB', 'ADP', 'DET', 'ADJ', 'NOUN', 'PUNCT']\n",
      "['But', 'during', 'the', 'twilight', 'zone', ',', 'a', 'lot', 'of', 'harm', 'can', 'be', 'done', '.']\n",
      "['CONJ', 'ADP', 'DET', 'NOUN', 'NOUN', 'PUNCT', 'DET', 'NOUN', 'ADP', 'NOUN', 'AUX', 'AUX', 'VERB', 'PUNCT']\n",
      "['The', 'picture', 'I', 'described', 'here', 'is', 'not', 'pretty', '.']\n",
      "['DET', 'NOUN', 'PRON', 'VERB', 'ADV', 'VERB', 'PART', 'ADJ', 'PUNCT']\n",
      "['What', 'can', 'we', 'do', 'about', 'it', '?']\n",
      "['PRON', 'AUX', 'PRON', 'VERB', 'ADP', 'PRON', 'PUNCT']\n",
      "['In', 'the', 'short', 'run', ',', 'only', 'fight', 'and', 'win', '.']\n",
      "['ADP', 'DET', 'ADJ', 'NOUN', 'PUNCT', 'ADV', 'VERB', 'CONJ', 'VERB', 'PUNCT']\n",
      "['In', 'the', 'long', 'run', ',', 'only', 'educate', 'the', 'next', 'generation', 'and', 'open', 'it', 'to', 'the', 'world', '.']\n",
      "['ADP', 'DET', 'ADJ', 'NOUN', 'PUNCT', 'ADV', 'VERB', 'DET', 'ADJ', 'NOUN', 'CONJ', 'VERB', 'PRON', 'ADP', 'DET', 'NOUN', 'PUNCT']\n",
      "['The', 'inner', 'circles', 'can', 'and', 'must', 'be', 'destroyed', 'by', 'force', '.']\n",
      "['DET', 'ADJ', 'NOUN', 'AUX', 'CONJ', 'AUX', 'AUX', 'VERB', 'ADP', 'NOUN', 'PUNCT']\n",
      "['The', 'outer', 'circle', 'can', 'not', 'be', 'eliminated', 'by', 'force', '.']\n",
      "['DET', 'ADJ', 'NOUN', 'AUX', 'PART', 'AUX', 'VERB', 'ADP', 'NOUN', 'PUNCT']\n",
      "['Here', 'we', 'need', 'financial', 'starvation', 'of', 'the', 'organizing', 'elite', ',', 'more', 'power', 'to', 'women', ',', 'more', 'education', ',', 'counter-propaganda', ',', 'boycott', 'whenever', 'feasible', 'and', 'access', 'to', 'Western', 'media', ',', 'internet', 'and', 'the', 'international', 'scene', '.']\n",
      "['ADV', 'PRON', 'VERB', 'ADJ', 'NOUN', 'ADP', 'DET', 'VERB', 'ADJ', 'PUNCT', 'ADJ', 'NOUN', 'ADP', 'NOUN', 'PUNCT', 'ADJ', 'NOUN', 'PUNCT', 'NOUN', 'PUNCT', 'NOUN', 'ADV', 'ADJ', 'CONJ', 'NOUN', 'ADP', 'ADJ', 'NOUN', 'PUNCT', 'NOUN', 'CONJ', 'DET', 'ADJ', 'NOUN', 'PUNCT']\n",
      "['Above', 'all', ',', 'we', 'need', 'a', 'total', 'absolute', 'unity', 'and', 'determination', 'of', 'the', 'civilized', 'world', 'against', 'all', 'three', 'circles', 'of', 'evil', '.']\n",
      "['ADP', 'DET', 'PUNCT', 'PRON', 'VERB', 'DET', 'ADJ', 'ADJ', 'NOUN', 'CONJ', 'NOUN', 'ADP', 'DET', 'ADJ', 'NOUN', 'ADP', 'DET', 'NUM', 'NOUN', 'ADP', 'NOUN', 'PUNCT']\n",
      "['Allow', 'me', ',', 'for', 'a', 'moment', ',', 'to', 'depart', 'from', 'my', 'alleged', 'role', 'as', 'a', 'taxi', 'driver', 'and', 'return', 'to', 'science', '.']\n",
      "['VERB', 'PRON', 'PUNCT', 'ADP', 'DET', 'NOUN', 'PUNCT', 'PART', 'VERB', 'ADP', 'PRON', 'ADJ', 'NOUN', 'ADP', 'DET', 'NOUN', 'NOUN', 'CONJ', 'VERB', 'ADP', 'NOUN', 'PUNCT']\n",
      "['When', 'you', 'have', 'a', 'malignant', 'tumor', ',', 'you', 'may', 'remove', 'the', 'tumor', 'itself', 'surgically', '.']\n",
      "['ADV', 'PRON', 'VERB', 'DET', 'ADJ', 'NOUN', 'PUNCT', 'PRON', 'AUX', 'VERB', 'DET', 'NOUN', 'PRON', 'ADV', 'PUNCT']\n",
      "['You', 'may', 'also', 'starve', 'it', 'by', 'preventing', 'new', 'blood', 'from', 'reaching', 'it', 'from', 'other', 'parts', 'of', 'the', 'body', ',', 'thereby', 'preventing', 'new', '\"', 'supplies', '\"', 'from', 'expanding', 'the', 'tumor', '.']\n",
      "['PRON', 'AUX', 'ADV', 'VERB', 'PRON', 'SCONJ', 'VERB', 'ADJ', 'NOUN', 'SCONJ', 'VERB', 'PRON', 'ADP', 'ADJ', 'NOUN', 'ADP', 'DET', 'NOUN', 'PUNCT', 'ADV', 'VERB', 'ADJ', 'PUNCT', 'NOUN', 'PUNCT', 'SCONJ', 'VERB', 'DET', 'NOUN', 'PUNCT']\n",
      "['If', 'you', 'want', 'to', 'be', 'sure', ',', 'it', 'is', 'best', 'to', 'do', 'both', '.']\n",
      "['SCONJ', 'PRON', 'VERB', 'PART', 'VERB', 'ADJ', 'PUNCT', 'PRON', 'VERB', 'ADJ', 'PART', 'VERB', 'DET', 'PUNCT']\n",
      "['But', 'before', 'you', 'fight', 'and', 'win', ',', 'by', 'force', 'or', 'otherwise', ',', 'you', 'have', 'to', 'realize', 'that', 'you', 'are', 'in', 'a', 'war', ',', 'and', 'this', 'may', 'take', 'Europe', 'a', 'few', 'more', 'years', '.']\n",
      "['CONJ', 'SCONJ', 'PRON', 'VERB', 'CONJ', 'VERB', 'PUNCT', 'ADP', 'NOUN', 'CONJ', 'ADV', 'PUNCT', 'PRON', 'VERB', 'PART', 'VERB', 'SCONJ', 'PRON', 'VERB', 'ADP', 'DET', 'NOUN', 'PUNCT', 'CONJ', 'PRON', 'AUX', 'VERB', 'PROPN', 'DET', 'ADJ', 'ADJ', 'NOUN', 'PUNCT']\n",
      "['In', 'order', 'to', 'win', ',', 'it', 'is', 'necessary', 'to', 'first', 'eliminate', 'the', 'terrorist', 'regimes', ',', 'so', 'that', 'no', 'Government', 'in', 'the', 'world', 'will', 'serve', 'as', 'a', 'safe', 'haven', 'for', 'these', 'people', '.']\n",
      "['ADP', 'NOUN', 'PART', 'VERB', 'PUNCT', 'PRON', 'VERB', 'ADJ', 'PART', 'ADV', 'VERB', 'DET', 'ADJ', 'NOUN', 'PUNCT', 'SCONJ', 'SCONJ', 'DET', 'NOUN', 'ADP', 'DET', 'NOUN', 'AUX', 'VERB', 'ADP', 'DET', 'ADJ', 'NOUN', 'ADP', 'DET', 'NOUN', 'PUNCT']\n",
      "['I', 'do', 'not', 'want', 'to', 'comment', 'here', 'on', 'whether', 'the', 'American', '-', 'led', 'attack', 'on', 'Iraq', 'was', 'justified', 'from', 'the', 'point', 'of', 'view', 'of', 'weapons', 'of', 'mass', 'destruction', 'or', 'any', 'other', 'pre-war', 'argument', ',', 'but', 'I', 'can', 'look', 'at', 'the', 'post-war', 'map', 'of', 'Western', 'Asia', '.']\n",
      "['PRON', 'AUX', 'PART', 'VERB', 'PART', 'VERB', 'ADV', 'SCONJ', 'SCONJ', 'DET', 'ADJ', 'PUNCT', 'VERB', 'NOUN', 'ADP', 'PROPN', 'VERB', 'ADJ', 'ADP', 'DET', 'NOUN', 'ADP', 'NOUN', 'ADP', 'NOUN', 'ADP', 'ADJ', 'NOUN', 'CONJ', 'DET', 'ADJ', 'ADJ', 'NOUN', 'PUNCT', 'CONJ', 'PRON', 'AUX', 'VERB', 'ADP', 'DET', 'ADJ', 'NOUN', 'ADP', 'ADJ', 'PROPN', 'PUNCT']\n",
      "['Now', 'that', 'Afghanistan', ',', 'Iraq', 'and', 'Libya', 'are', 'out', ',', 'two', 'and', 'a', 'half', 'terrorist', 'states', 'remain', ':', 'Iran', ',', 'Syria', 'and', 'Lebanon', ',', 'the', 'latter', 'being', 'a', 'Syrian', 'colony', '.']\n",
      "['ADV', 'SCONJ', 'PROPN', 'PUNCT', 'PROPN', 'CONJ', 'PROPN', 'VERB', 'ADV', 'PUNCT', 'NUM', 'CONJ', 'DET', 'NOUN', 'ADJ', 'NOUN', 'VERB', 'PUNCT', 'PROPN', 'PUNCT', 'PROPN', 'CONJ', 'PROPN', 'PUNCT', 'DET', 'ADJ', 'VERB', 'DET', 'ADJ', 'NOUN', 'PUNCT']\n",
      "['Perhaps', 'Sudan', 'should', 'be', 'added', 'to', 'the', 'list', '.']\n",
      "['ADV', 'PROPN', 'AUX', 'AUX', 'VERB', 'ADP', 'DET', 'NOUN', 'PUNCT']\n",
      "['As', 'a', 'result', 'of', 'the', 'conquest', 'of', 'Afghanistan', 'and', 'Iraq', ',', 'both', 'Iran', 'and', 'Syria', 'are', 'now', 'totally', 'surrounded', 'by', 'territories', 'unfriendly', 'to', 'them', '.']\n",
      "['ADP', 'DET', 'NOUN', 'ADP', 'DET', 'NOUN', 'ADP', 'PROPN', 'CONJ', 'PROPN', 'PUNCT', 'CONJ', 'PROPN', 'CONJ', 'PROPN', 'AUX', 'ADV', 'ADV', 'VERB', 'ADP', 'NOUN', 'ADJ', 'ADP', 'PRON', 'PUNCT']\n",
      "['Iran', 'is', 'encircled', 'by', 'Afghanistan', ',', 'by', 'the', 'Gulf', 'States', ',', 'Iraq', 'and', 'the', 'Moslem', 'republics', 'of', 'the', 'former', 'Soviet', 'Union', '.']\n",
      "['PROPN', 'AUX', 'VERB', 'ADP', 'PROPN', 'PUNCT', 'ADP', 'DET', 'PROPN', 'PROPN', 'PUNCT', 'PROPN', 'CONJ', 'DET', 'ADJ', 'NOUN', 'ADP', 'DET', 'ADJ', 'PROPN', 'PROPN', 'PUNCT']\n",
      "['Syria', 'is', 'surrounded', 'by', 'Turkey', ',', 'Iraq', ',', 'Jordan', 'and', 'Israel', '.']\n",
      "['PROPN', 'AUX', 'VERB', 'ADP', 'PROPN', 'PUNCT', 'PROPN', 'PUNCT', 'PROPN', 'CONJ', 'PROPN', 'PUNCT']\n",
      "['This', 'is', 'a', 'significant', 'strategic', 'change', 'and', 'it', 'applies', 'strong', 'pressure', 'on', 'the', 'terrorist', 'countries', '.']\n",
      "['PRON', 'VERB', 'DET', 'ADJ', 'ADJ', 'NOUN', 'CONJ', 'PRON', 'VERB', 'ADJ', 'NOUN', 'ADP', 'DET', 'ADJ', 'NOUN', 'PUNCT']\n",
      "['It', 'is', 'not', 'surprising', 'that', 'Iran', 'is', 'so', 'active', 'in', 'trying', 'to', 'incite', 'a', 'Shiite', 'uprising', 'in', 'Iraq', '.']\n",
      "['PRON', 'VERB', 'PART', 'ADJ', 'SCONJ', 'PROPN', 'VERB', 'ADV', 'ADJ', 'SCONJ', 'VERB', 'PART', 'VERB', 'DET', 'ADJ', 'NOUN', 'ADP', 'PROPN', 'PUNCT']\n",
      "['I', 'do', 'not', 'know', 'if', 'the', 'American', 'plan', 'was', 'actually', 'to', 'encircle', 'both', 'Iran', 'and', 'Syria', ',', 'but', 'that', 'is', 'the', 'resulting', 'situation', '.']\n",
      "['PRON', 'AUX', 'PART', 'VERB', 'SCONJ', 'DET', 'ADJ', 'NOUN', 'VERB', 'ADV', 'PART', 'VERB', 'CONJ', 'PROPN', 'CONJ', 'PROPN', 'PUNCT', 'CONJ', 'PRON', 'VERB', 'DET', 'VERB', 'NOUN', 'PUNCT']\n",
      "['In', 'my', 'humble', 'opinion', ',', 'the', 'number', 'one', 'danger', 'to', 'the', 'world', 'today', 'is', 'Iran', 'and', 'its', 'regime', '.']\n",
      "['ADP', 'PRON', 'ADJ', 'NOUN', 'PUNCT', 'DET', 'NOUN', 'NUM', 'NOUN', 'ADP', 'DET', 'NOUN', 'NOUN', 'VERB', 'PROPN', 'CONJ', 'PRON', 'NOUN', 'PUNCT']\n",
      "['It', 'definitely', 'has', 'ambitions', 'to', 'rule', 'vast', 'areas', 'and', 'to', 'expand', 'in', 'all', 'directions', '.']\n",
      "['PRON', 'ADV', 'VERB', 'NOUN', 'PART', 'VERB', 'ADJ', 'NOUN', 'CONJ', 'PART', 'VERB', 'ADP', 'DET', 'NOUN', 'PUNCT']\n",
      "['It', 'has', 'an', 'ideology', 'which', 'claims', 'supremacy', 'over', 'Western', 'culture', '.']\n",
      "['PRON', 'VERB', 'DET', 'NOUN', 'PRON', 'VERB', 'NOUN', 'ADP', 'ADJ', 'NOUN', 'PUNCT']\n",
      "['It', 'is', 'ruthless', '.']\n",
      "['PRON', 'VERB', 'ADJ', 'PUNCT']\n",
      "['It', 'has', 'proven', 'that', 'it', 'can', 'execute', 'elaborate', 'terrorist', 'acts', 'without', 'leaving', 'too', 'many', 'traces', ',', 'using', 'Iranian', 'Embassies', '.']\n",
      "['PRON', 'AUX', 'VERB', 'SCONJ', 'PRON', 'AUX', 'VERB', 'ADJ', 'ADJ', 'NOUN', 'SCONJ', 'VERB', 'ADV', 'ADJ', 'NOUN', 'PUNCT', 'VERB', 'ADJ', 'PROPN', 'PUNCT']\n",
      "['It', 'is', 'clearly', 'trying', 'to', 'develop', 'nuclear', 'weapons', '.']\n",
      "['PRON', 'AUX', 'ADV', 'VERB', 'PART', 'VERB', 'ADJ', 'NOUN', 'PUNCT']\n",
      "['Its', 'so', '-', 'called', 'moderates', 'and', 'conservatives', 'play', 'their', 'own', 'virtuoso', 'version', 'of', 'the', '\"', 'good', '-', 'cop', 'versus', 'bad', '-', 'cop', '\"', 'game', '.']\n",
      "['PRON', 'ADV', 'PUNCT', 'VERB', 'NOUN', 'CONJ', 'NOUN', 'VERB', 'PRON', 'ADJ', 'NOUN', 'NOUN', 'ADP', 'DET', 'PUNCT', 'ADJ', 'PUNCT', 'NOUN', 'ADP', 'ADJ', 'PUNCT', 'NOUN', 'PUNCT', 'NOUN', 'PUNCT']\n",
      "['Iran', 'sponsors', 'Syrian', 'terrorism', ',', 'it', 'is', 'certainly', 'behind', 'much', 'of', 'the', 'action', 'in', 'Iraq', ',', 'it', 'is', 'fully', 'funding', 'the', 'Hezbollah', 'and', ',', 'through', 'it', ',', 'the', 'Palestinian', 'Hamas', 'and', 'Islamic', 'Jihad', ';', 'it', 'performed', 'acts', 'of', 'terror', 'at', 'least', 'in', 'Europe', 'and', 'in', 'South', 'America', 'and', 'probably', 'also', 'in', 'Uzbekistan', 'and', 'Saudi', 'Arabia', 'and', 'it', 'truly', 'leads', 'a', 'multi-national', 'terror', 'consortium', ',', 'which', 'includes', ',', 'as', 'minor', 'players', ',', 'Syria', ',', 'Lebanon', 'and', 'certain', 'Shiite', 'elements', 'in', 'Iraq', '.']\n",
      "['PROPN', 'VERB', 'ADJ', 'NOUN', 'PUNCT', 'PRON', 'VERB', 'ADV', 'ADP', 'ADJ', 'ADP', 'DET', 'NOUN', 'ADP', 'PROPN', 'PUNCT', 'PRON', 'AUX', 'ADV', 'VERB', 'DET', 'PROPN', 'CONJ', 'PUNCT', 'ADP', 'PRON', 'PUNCT', 'DET', 'ADJ', 'PROPN', 'CONJ', 'PROPN', 'PROPN', 'PUNCT', 'PRON', 'VERB', 'NOUN', 'ADP', 'NOUN', 'ADV', 'ADV', 'ADP', 'PROPN', 'CONJ', 'ADP', 'PROPN', 'PROPN', 'CONJ', 'ADV', 'ADV', 'ADP', 'PROPN', 'CONJ', 'PROPN', 'PROPN', 'CONJ', 'PRON', 'ADV', 'VERB', 'DET', 'ADJ', 'NOUN', 'NOUN', 'PUNCT', 'PRON', 'VERB', 'PUNCT', 'ADP', 'ADJ', 'NOUN', 'PUNCT', 'PROPN', 'PUNCT', 'PROPN', 'CONJ', 'ADJ', 'ADJ', 'NOUN', 'ADP', 'PROPN', 'PUNCT']\n",
      "['Nevertheless', ',', 'most', 'European', 'countries', 'still', 'trade', 'with', 'Iran', ',', 'try', 'to', 'appease', 'it', 'and', 'refuse', 'to', 'read', 'the', 'clear', 'signals', '.']\n",
      "['ADV', 'PUNCT', 'ADJ', 'ADJ', 'NOUN', 'ADV', 'VERB', 'ADP', 'PROPN', 'PUNCT', 'VERB', 'PART', 'VERB', 'PRON', 'CONJ', 'VERB', 'PART', 'VERB', 'DET', 'ADJ', 'NOUN', 'PUNCT']\n",
      "['In', 'order', 'to', 'win', 'the', 'war', 'it', 'is', 'also', 'necessary', 'to', 'dry', 'the', 'financial', 'resources', 'of', 'the', 'terror', 'conglomerate', '.']\n",
      "['ADP', 'NOUN', 'PART', 'VERB', 'DET', 'NOUN', 'PRON', 'VERB', 'ADV', 'ADJ', 'PART', 'VERB', 'DET', 'ADJ', 'NOUN', 'ADP', 'DET', 'NOUN', 'NOUN', 'PUNCT']\n",
      "['It', 'is', 'pointless', 'to', 'try', 'to', 'understand', 'the', 'subtle', 'differences', 'between', 'the', 'Sunni', 'terror', 'of', 'Al', 'Qaeda', 'and', 'Hamas', 'and', 'the', 'Shiite', 'terror', 'of', 'Hezbollah', ',', 'Sadr', 'and', 'other', 'Iranian', '-', 'inspired', 'enterprises', '.']\n",
      "['PRON', 'VERB', 'ADJ', 'PART', 'VERB', 'PART', 'VERB', 'DET', 'ADJ', 'NOUN', 'ADP', 'DET', 'ADJ', 'NOUN', 'ADP', 'PROPN', 'PROPN', 'CONJ', 'PROPN', 'CONJ', 'DET', 'ADJ', 'NOUN', 'ADP', 'PROPN', 'PUNCT', 'PROPN', 'CONJ', 'ADJ', 'ADJ', 'PUNCT', 'VERB', 'NOUN', 'PUNCT']\n",
      "['When', 'it', 'serves', 'their', 'business', 'needs', ',', 'all', 'of', 'them', 'collaborate', 'beautifully', '.']\n",
      "['ADV', 'PRON', 'VERB', 'PRON', 'NOUN', 'NOUN', 'PUNCT', 'DET', 'ADP', 'PRON', 'VERB', 'ADV', 'PUNCT']\n",
      "['It', 'is', 'crucial', 'to', 'stop', 'Saudi', 'and', 'other', 'financial', 'support', 'of', 'the', 'outer', 'circle', ',', 'which', 'is', 'the', 'fertile', 'breeding', 'ground', 'of', 'terror', '.']\n",
      "['PRON', 'VERB', 'ADJ', 'PART', 'VERB', 'ADJ', 'CONJ', 'ADJ', 'ADJ', 'NOUN', 'ADP', 'DET', 'ADJ', 'NOUN', 'PUNCT', 'PRON', 'VERB', 'DET', 'ADJ', 'NOUN', 'NOUN', 'ADP', 'NOUN', 'PUNCT']\n",
      "['It', 'is', 'important', 'to', 'monitor', 'all', 'donations', 'from', 'the', 'Western', 'World', 'to', 'Islamic', 'organizations', ',', 'to', 'monitor', 'the', 'finances', 'of', 'international', 'relief', 'organizations', 'and', 'to', 'react', 'with', 'forceful', 'economic', 'measures', 'to', 'any', 'small', 'sign', 'of', 'financial', 'aid', 'to', 'any', 'of', 'the', 'three', 'circles', 'of', 'terrorism', '.']\n",
      "['PRON', 'VERB', 'ADJ', 'PART', 'VERB', 'DET', 'NOUN', 'ADP', 'DET', 'ADJ', 'NOUN', 'ADP', 'ADJ', 'NOUN', 'PUNCT', 'PART', 'VERB', 'DET', 'NOUN', 'ADP', 'ADJ', 'NOUN', 'NOUN', 'CONJ', 'PART', 'VERB', 'ADP', 'ADJ', 'ADJ', 'NOUN', 'ADP', 'DET', 'ADJ', 'NOUN', 'ADP', 'ADJ', 'NOUN', 'ADP', 'DET', 'ADP', 'DET', 'NUM', 'NOUN', 'ADP', 'NOUN', 'PUNCT']\n",
      "['It', 'is', 'also', 'important', 'to', 'act', 'decisively', 'against', 'the', 'campaign', 'of', 'lies', 'and', 'fabrications', 'and', 'to', 'monitor', 'those', 'Western', 'media', 'who', 'collaborate', 'with', 'it', 'out', 'of', 'naivety', ',', 'financial', 'interests', 'or', 'ignorance', '.']\n",
      "['PRON', 'VERB', 'ADV', 'ADJ', 'PART', 'VERB', 'ADV', 'ADP', 'DET', 'NOUN', 'ADP', 'NOUN', 'CONJ', 'NOUN', 'CONJ', 'PART', 'VERB', 'DET', 'ADJ', 'NOUN', 'PRON', 'VERB', 'ADP', 'PRON', 'ADP', 'ADP', 'NOUN', 'PUNCT', 'ADJ', 'NOUN', 'CONJ', 'NOUN', 'PUNCT']\n",
      "['Above', 'all', ',', 'never', 'surrender', 'to', 'terror', '.']\n",
      "['ADP', 'DET', 'PUNCT', 'ADV', 'VERB', 'ADP', 'NOUN', 'PUNCT']\n",
      "['No', 'one', 'will', 'ever', 'know', 'whether', 'the', 'recent', 'elections', 'in', 'Spain', 'would', 'have', 'yielded', 'a', 'different', 'result', ',', 'if', 'not', 'for', 'the', 'train', 'bombings', 'a', 'few', 'days', 'earlier', '.']\n",
      "['DET', 'NOUN', 'AUX', 'ADV', 'VERB', 'SCONJ', 'DET', 'ADJ', 'NOUN', 'ADP', 'PROPN', 'AUX', 'AUX', 'VERB', 'DET', 'ADJ', 'NOUN', 'PUNCT', 'SCONJ', 'ADV', 'ADP', 'DET', 'NOUN', 'NOUN', 'DET', 'ADJ', 'NOUN', 'ADV', 'PUNCT']\n",
      "['But', 'it', 'really', 'does', 'not', 'matter', '.']\n",
      "['CONJ', 'PRON', 'ADV', 'AUX', 'PART', 'VERB', 'PUNCT']\n",
      "['What', 'matters', 'is', 'that', 'the', 'terrorists', 'believe', 'that', 'they', 'caused', 'the', 'result', 'and', 'that', 'they', 'won', 'by', 'driving', 'Spain', 'out', 'of', 'Iraq', '.']\n",
      "['PRON', 'VERB', 'VERB', 'SCONJ', 'DET', 'NOUN', 'VERB', 'SCONJ', 'PRON', 'VERB', 'DET', 'NOUN', 'CONJ', 'SCONJ', 'PRON', 'VERB', 'SCONJ', 'VERB', 'PROPN', 'ADP', 'ADP', 'PROPN', 'PUNCT']\n",
      "['The', 'Spanish', 'story', 'will', 'surely', 'end', 'up', 'being', 'extremely', 'costly', 'to', 'other', 'European', 'countries', ',', 'including', 'France', ',', 'who', 'is', 'now', 'expelling', 'inciting', 'preachers', 'and', 'forbidding', 'veils', 'and', 'including', 'others', 'who', 'sent', 'troops', 'to', 'Iraq', '.']\n",
      "['DET', 'ADJ', 'NOUN', 'AUX', 'ADV', 'VERB', 'ADP', 'VERB', 'ADV', 'ADJ', 'ADP', 'ADJ', 'ADJ', 'NOUN', 'PUNCT', 'VERB', 'PROPN', 'PUNCT', 'PRON', 'AUX', 'ADV', 'VERB', 'VERB', 'NOUN', 'CONJ', 'VERB', 'NOUN', 'CONJ', 'VERB', 'NOUN', 'PRON', 'VERB', 'NOUN', 'ADP', 'PROPN', 'PUNCT']\n",
      "['In', 'the', 'long', 'run', ',', 'Spain', 'itself', 'will', 'pay', 'even', 'more', '.']\n",
      "['ADP', 'DET', 'ADJ', 'NOUN', 'PUNCT', 'PROPN', 'PRON', 'AUX', 'VERB', 'ADV', 'ADJ', 'PUNCT']\n",
      "['Is', 'the', 'solution', 'a', 'democratic', 'Arab', 'world', '?']\n",
      "['VERB', 'DET', 'NOUN', 'DET', 'ADJ', 'ADJ', 'NOUN', 'PUNCT']\n",
      "['If', 'by', 'democracy', 'we', 'mean', 'free', 'elections', 'but', 'also', 'free', 'press', ',', 'free', 'speech', ',', 'a', 'functioning', 'judicial', 'system', ',', 'civil', 'liberties', ',', 'equality', 'to', 'women', ',', 'free', 'international', 'travel', ',', 'exposure', 'to', 'international', 'media', 'and', 'ideas', ',', 'laws', 'against', 'racial', 'incitement', 'and', 'against', 'defamation', ',', 'and', 'avoidance', 'of', 'lawless', 'behavior', 'regarding', 'hospitals', ',', 'places', 'of', 'worship', 'and', 'children', ',', 'then', 'yes', ',', 'democracy', 'is', 'the', 'solution', '.']\n",
      "['SCONJ', 'ADP', 'NOUN', 'PRON', 'VERB', 'ADJ', 'NOUN', 'CONJ', 'ADV', 'ADJ', 'NOUN', 'PUNCT', 'ADJ', 'NOUN', 'PUNCT', 'DET', 'VERB', 'ADJ', 'NOUN', 'PUNCT', 'ADJ', 'NOUN', 'PUNCT', 'NOUN', 'ADP', 'NOUN', 'PUNCT', 'ADJ', 'ADJ', 'NOUN', 'PUNCT', 'NOUN', 'ADP', 'ADJ', 'NOUN', 'CONJ', 'NOUN', 'PUNCT', 'NOUN', 'ADP', 'ADJ', 'NOUN', 'CONJ', 'ADP', 'NOUN', 'PUNCT', 'CONJ', 'NOUN', 'ADP', 'ADJ', 'NOUN', 'VERB', 'NOUN', 'PUNCT', 'NOUN', 'ADP', 'NOUN', 'CONJ', 'NOUN', 'PUNCT', 'ADV', 'INTJ', 'PUNCT', 'NOUN', 'VERB', 'DET', 'NOUN', 'PUNCT']\n",
      "['If', 'democracy', 'is', 'just', 'free', 'elections', ',', 'it', 'is', 'likely', 'that', 'the', 'most', 'fanatic', 'regime', 'will', 'be', 'elected', ',', 'the', 'one', 'whose', 'incitement', 'and', 'fabrications', 'are', 'the', 'most', 'inflammatory', '.']\n",
      "['SCONJ', 'NOUN', 'VERB', 'ADV', 'ADJ', 'NOUN', 'PUNCT', 'PRON', 'VERB', 'ADJ', 'SCONJ', 'DET', 'ADV', 'ADJ', 'NOUN', 'AUX', 'AUX', 'VERB', 'PUNCT', 'DET', 'NOUN', 'PRON', 'NOUN', 'CONJ', 'NOUN', 'VERB', 'DET', 'ADV', 'ADJ', 'PUNCT']\n",
      "['We', 'have', 'seen', 'it', 'already', 'in', 'Algeria', 'and', ',', 'to', 'a', 'certain', 'extent', ',', 'in', 'Turkey', '.']\n",
      "['PRON', 'AUX', 'VERB', 'PRON', 'ADV', 'ADP', 'PROPN', 'CONJ', 'PUNCT', 'ADP', 'DET', 'ADJ', 'NOUN', 'PUNCT', 'ADP', 'PROPN', 'PUNCT']\n",
      "['It', 'will', 'happen', 'again', ',', 'if', 'the', 'ground', 'is', 'not', 'prepared', 'very', 'carefully', '.']\n",
      "['PRON', 'AUX', 'VERB', 'ADV', 'PUNCT', 'SCONJ', 'DET', 'NOUN', 'AUX', 'PART', 'VERB', 'ADV', 'ADV', 'PUNCT']\n",
      "['On', 'the', 'other', 'hand', ',', 'a', 'certain', 'transition', 'democracy', ',', 'as', 'in', 'Jordan', ',', 'may', 'be', 'a', 'better', 'temporary', 'solution', ',', 'paving', 'the', 'way', 'for', 'the', 'real', 'thing', ',', 'perhaps', 'in', 'the', 'same', 'way', 'that', 'an', 'immediate', 'sudden', 'democracy', 'did', 'not', 'work', 'in', 'Russia', 'and', 'would', 'not', 'have', 'worked', 'in', 'China', '.']\n",
      "['ADP', 'DET', 'ADJ', 'NOUN', 'PUNCT', 'DET', 'ADJ', 'NOUN', 'NOUN', 'PUNCT', 'ADP', 'ADP', 'PROPN', 'PUNCT', 'AUX', 'VERB', 'DET', 'ADJ', 'ADJ', 'NOUN', 'PUNCT', 'VERB', 'DET', 'NOUN', 'ADP', 'DET', 'ADJ', 'NOUN', 'PUNCT', 'ADV', 'ADP', 'DET', 'ADJ', 'NOUN', 'ADV', 'DET', 'ADJ', 'ADJ', 'NOUN', 'AUX', 'PART', 'VERB', 'ADP', 'PROPN', 'CONJ', 'AUX', 'PART', 'AUX', 'VERB', 'ADP', 'PROPN', 'PUNCT']\n",
      "['I', 'have', 'no', 'doubt', 'that', 'the', 'civilized', 'world', 'will', 'prevail', '.']\n",
      "['PRON', 'VERB', 'DET', 'NOUN', 'SCONJ', 'DET', 'ADJ', 'NOUN', 'AUX', 'VERB', 'PUNCT']\n",
      "['But', 'the', 'longer', 'it', 'takes', 'us', 'to', 'understand', 'the', 'new', 'landscape', 'of', 'this', 'war', ',', 'the', 'more', 'costly', 'and', 'painful', 'the', 'victory', 'will', 'be', '.']\n",
      "['CONJ', 'DET', 'ADV', 'PRON', 'VERB', 'PRON', 'PART', 'VERB', 'DET', 'ADJ', 'NOUN', 'ADP', 'DET', 'NOUN', 'PUNCT', 'DET', 'ADV', 'ADJ', 'CONJ', 'ADJ', 'DET', 'NOUN', 'AUX', 'VERB', 'PUNCT']\n",
      "['Europe', ',', 'more', 'than', 'any', 'other', 'region', ',', 'is', 'the', 'key', '.']\n",
      "['PROPN', 'PUNCT', 'ADV', 'ADP', 'DET', 'ADJ', 'NOUN', 'PUNCT', 'VERB', 'DET', 'NOUN', 'PUNCT']\n",
      "['Its', 'understandable', 'recoil', 'from', 'wars', ',', 'following', 'the', 'horrors', 'of', 'World', 'War', 'II', ',', 'may', 'cost', 'thousands', 'of', 'additional', 'innocent', 'lives', ',', 'before', 'the', 'tide', 'will', 'turn', '.', '\"']\n",
      "['PRON', 'ADJ', 'NOUN', 'ADP', 'NOUN', 'PUNCT', 'VERB', 'DET', 'NOUN', 'ADP', 'PROPN', 'PROPN', 'PROPN', 'PUNCT', 'AUX', 'VERB', 'NOUN', 'ADP', 'ADJ', 'ADJ', 'NOUN', 'PUNCT', 'SCONJ', 'DET', 'NOUN', 'AUX', 'VERB', 'PUNCT', 'PUNCT']\n",
      "['Zawahiri', 'was', 'associated', 'with', 'a', 'faction', 'of', 'the', 'Egyptian', 'Islamic', 'Jihad', 'known', 'as', 'the', 'Vanguards', 'of', 'Conquest', '.']\n",
      "['PROPN', 'AUX', 'VERB', 'ADP', 'DET', 'NOUN', 'ADP', 'DET', 'PROPN', 'PROPN', 'PROPN', 'VERB', 'ADP', 'DET', 'PROPN', 'ADP', 'PROPN', 'PUNCT']\n",
      "['Zawahiri', 'and', 'the', 'Vanguards', 'of', 'Conquest', 'were', 'seeking', 'to', 'recreate', 'Mohammed', \"'s\", 'taking', 'of', 'mecca', 'by', 'a', 'small', 'band', 'through', 'violent', 'attacks', 'on', 'Egyptian', 'leaders', '.']\n",
      "['PROPN', 'CONJ', 'DET', 'PROPN', 'ADP', 'PROPN', 'AUX', 'VERB', 'PART', 'VERB', 'PROPN', 'PART', 'NOUN', 'ADP', 'PROPN', 'ADP', 'DET', 'ADJ', 'NOUN', 'ADP', 'ADJ', 'NOUN', 'ADP', 'ADJ', 'NOUN', 'PUNCT']\n",
      "['By', '1998', ',', 'Zawahiri', 'had', 'determined', 'that', 'the', 'Egyptian', 'Islamic', 'Jihad', 'should', 'focus', 'on', 'its', 'struggle', 'against', 'the', 'United', 'States', 'and', 'hold', 'off', 'on', 'further', 'attacks', 'against', 'the', 'Egyptian', 'regime', '.']\n",
      "['ADP', 'NUM', 'PUNCT', 'PROPN', 'AUX', 'VERB', 'SCONJ', 'DET', 'PROPN', 'PROPN', 'PROPN', 'AUX', 'VERB', 'ADP', 'PRON', 'NOUN', 'ADP', 'DET', 'PROPN', 'PROPN', 'CONJ', 'VERB', 'ADP', 'ADP', 'ADJ', 'NOUN', 'ADP', 'DET', 'ADJ', 'NOUN', 'PUNCT']\n",
      "['A', 'key', 'question', 'is', 'how', 'they', 'acquired', 'the', 'anthrax', 'strain', 'first', 'isolated', 'by', 'the', 'Texas', 'Veterinary', 'Medical', 'Diagnostic', 'Lab', 'in', '1980', '.']\n",
      "['DET', 'ADJ', 'NOUN', 'VERB', 'ADV', 'PRON', 'VERB', 'DET', 'NOUN', 'NOUN', 'ADV', 'VERB', 'ADP', 'DET', 'PROPN', 'PROPN', 'PROPN', 'PROPN', 'PROPN', 'ADP', 'NUM', 'PUNCT']\n",
      "['According', 'to', 'senior', 'counter', 'terrorism', 'officials', ',', 'both', 'here', 'and', 'abroad', ',', 'among', 'the', 'supporters', 'of', 'these', 'militant', 'islamists', 'were', 'people', 'who', 'blended', 'into', 'society', 'and', 'were', 'available', 'to', 'act', 'when', 'another', 'part', 'of', 'the', 'network', 'requested', 'it', '.']\n",
      "['VERB', 'ADP', 'ADJ', 'X', 'NOUN', 'NOUN', 'PUNCT', 'CONJ', 'ADV', 'CONJ', 'ADV', 'PUNCT', 'ADP', 'DET', 'NOUN', 'ADP', 'DET', 'ADJ', 'NOUN', 'VERB', 'NOUN', 'PRON', 'VERB', 'ADP', 'NOUN', 'CONJ', 'VERB', 'ADJ', 'PART', 'VERB', 'ADV', 'DET', 'NOUN', 'ADP', 'DET', 'NOUN', 'VERB', 'PRON', 'PUNCT']\n",
      "['Al', 'Qaeda', ',', 'Anthrax', 'and', 'Ayman', ':', 'Means', ',', 'Motive', ',', 'Modus', 'Operandi', 'and', 'Opportunity']\n",
      "['PROPN', 'PROPN', 'PUNCT', 'PROPN', 'CONJ', 'PROPN', 'PUNCT', 'NOUN', 'PUNCT', 'NOUN', 'PUNCT', 'NOUN', 'NOUN', 'CONJ', 'NOUN']\n",
      "['Homeland', 'Security']\n",
      "['NOUN', 'NOUN']\n",
      "['In', 'early', 'June', '2003', ',', 'a', 'Central', 'Intelligence', 'Agency', '(', '\"', 'CIA', '\"', ')', 'report', 'publicly', 'disclosed', 'that', 'the', 'reason', 'for', 'Mohammed', 'Atta', \"'s\", 'and', 'Zacarias', 'Moussaoui', \"'s\", 'inquiries', 'into', 'cropdusters', 'was', 'for', 'the', 'contemplated', 'use', 'in', 'dispersing', 'biological', 'agents', 'such', 'as', 'anthrax', '.']\n",
      "['ADP', 'ADJ', 'PROPN', 'NUM', 'PUNCT', 'DET', 'PROPN', 'PROPN', 'PROPN', 'PUNCT', 'PUNCT', 'PROPN', 'PUNCT', 'PUNCT', 'NOUN', 'ADV', 'VERB', 'SCONJ', 'DET', 'NOUN', 'ADP', 'PROPN', 'PROPN', 'PART', 'CONJ', 'PROPN', 'PROPN', 'PART', 'NOUN', 'ADP', 'NOUN', 'VERB', 'ADP', 'DET', 'VERB', 'NOUN', 'SCONJ', 'VERB', 'ADJ', 'NOUN', 'ADJ', 'ADP', 'NOUN', 'PUNCT']\n",
      "['An', 'early', 'September', '2003', 'Newsweek', 'article', 'included', 'a', 'rumor', 'by', 'a', 'Taliban', 'source', 'that', 'at', 'a', 'meeting', 'in', 'April', '2003', 'Bin', 'Laden', 'was', 'planning', 'an', '\"', 'unbelievable', '\"', 'biological', 'attack', ',', 'the', 'plans', 'for', 'which', 'had', 'suffered', 'a', 'setback', 'upon', 'the', 'arrest', 'of', 'Khalid', 'Shaikh', 'Mohammed', '(', '\"', 'KSM', '\"', ')', '.']\n",
      "['DET', 'ADJ', 'PROPN', 'NUM', 'PROPN', 'NOUN', 'VERB', 'DET', 'NOUN', 'ADP', 'DET', 'PROPN', 'NOUN', 'SCONJ', 'ADP', 'DET', 'NOUN', 'ADP', 'PROPN', 'NUM', 'PROPN', 'PROPN', 'AUX', 'VERB', 'DET', 'PUNCT', 'ADJ', 'PUNCT', 'ADJ', 'NOUN', 'PUNCT', 'DET', 'NOUN', 'ADP', 'PRON', 'AUX', 'VERB', 'DET', 'NOUN', 'ADP', 'DET', 'NOUN', 'ADP', 'PROPN', 'PROPN', 'PROPN', 'PUNCT', 'PUNCT', 'PROPN', 'PUNCT', 'PUNCT', 'PUNCT']\n",
      "['He', 'had', 'been', 'captured', 'the', 'previous', 'month', 'in', 'Rawalpindi', ',', 'Pakistan', '.']\n",
      "['PRON', 'AUX', 'AUX', 'VERB', 'DET', 'ADJ', 'NOUN', 'ADP', 'PROPN', 'PUNCT', 'PROPN', 'PUNCT']\n",
      "['In', 'November', '2003', ',', 'a', 'report', 'by', 'a', 'UN', 'Panel', 'of', 'experts', 'concluded', 'that', 'Al', 'Qaeda', 'is', 'determined', 'to', 'use', 'chemical', 'and', 'biological', 'weapons', 'and', 'is', 'restrained', 'only', 'by', 'technical', 'difficulties', '.']\n",
      "['ADP', 'PROPN', 'NUM', 'PUNCT', 'DET', 'NOUN', 'ADP', 'DET', 'PROPN', 'NOUN', 'ADP', 'NOUN', 'VERB', 'SCONJ', 'PROPN', 'PROPN', 'VERB', 'ADJ', 'PART', 'VERB', 'ADJ', 'CONJ', 'ADJ', 'NOUN', 'CONJ', 'AUX', 'VERB', 'ADV', 'ADP', 'ADJ', 'NOUN', 'PUNCT']\n",
      "['In', 'a', 'statement', 'issued', 'June', '16', ',', '2004', ',', 'the', '9/11', 'Commission', 'Staff', 'concluded', 'that', '\"', 'Al', 'Qaeda', 'had', 'an', 'ambitious', 'biological', 'weapons', 'program', 'and', 'was', 'making', 'advances', 'in', 'its', 'ability', 'to', 'produce', 'anthrax', 'prior', 'to', 'September', '11', '.']\n",
      "['ADP', 'DET', 'NOUN', 'VERB', 'PROPN', 'NUM', 'PUNCT', 'NUM', 'PUNCT', 'DET', 'PROPN', 'PROPN', 'NOUN', 'VERB', 'SCONJ', 'PUNCT', 'PROPN', 'PROPN', 'VERB', 'DET', 'ADJ', 'ADJ', 'NOUN', 'NOUN', 'CONJ', 'AUX', 'VERB', 'NOUN', 'ADP', 'PRON', 'NOUN', 'PART', 'VERB', 'NOUN', 'ADJ', 'ADP', 'PROPN', 'NUM', 'PUNCT']\n",
      "['According', 'to', 'Director', 'of', 'Central', 'Intelligence', 'George', 'Tenet', ',', 'al', 'Qaeda', \"'s\", 'ability', 'to', 'conduct', 'an', 'anthrax', 'attack', 'is', 'one', 'of', 'the', 'most', 'immediate', 'threats', 'the', 'United', 'States', 'is', 'likely', 'to', 'face', '.', '\"']\n",
      "['VERB', 'ADP', 'PROPN', 'ADP', 'PROPN', 'PROPN', 'PROPN', 'PROPN', 'PUNCT', 'PROPN', 'PROPN', 'PART', 'NOUN', 'PART', 'VERB', 'DET', 'NOUN', 'NOUN', 'VERB', 'NUM', 'ADP', 'DET', 'ADV', 'ADJ', 'NOUN', 'DET', 'PROPN', 'PROPN', 'VERB', 'ADJ', 'PART', 'VERB', 'PUNCT', 'PUNCT']\n",
      "['On', 'August', '9', ',', '2004', ',', 'it', 'was', 'announced', 'that', 'in', 'the', 'Spring', 'of', '2001', ',', 'a', 'man', 'named', 'El', '-', 'Shukrijumah', ',', 'also', 'known', 'as', 'Jafar', 'the', 'Pilot', ',', 'who', 'was', 'part', 'of', 'a', '\"', 'second', 'wave', ',', '\"', 'had', 'been', 'casing', 'New', 'York', 'City', 'helicopters', '.']\n",
      "['ADP', 'PROPN', 'NUM', 'PUNCT', 'NUM', 'PUNCT', 'PRON', 'AUX', 'VERB', 'SCONJ', 'ADP', 'DET', 'NOUN', 'ADP', 'NUM', 'PUNCT', 'DET', 'NOUN', 'VERB', 'PROPN', 'PUNCT', 'PROPN', 'PUNCT', 'ADV', 'VERB', 'ADP', 'PROPN', 'DET', 'PROPN', 'PUNCT', 'PRON', 'VERB', 'NOUN', 'ADP', 'DET', 'PUNCT', 'ADJ', 'NOUN', 'PUNCT', 'PUNCT', 'AUX', 'AUX', 'VERB', 'PROPN', 'PROPN', 'PROPN', 'NOUN', 'PUNCT']\n",
      "['Photographs', 'from', 'a', 'seized', 'computer', 'disc', 'included', 'the', 'controls', 'and', 'the', 'locks', 'on', 'the', 'door', 'between', 'the', 'passengers', 'and', 'pilot', '.']\n",
      "['NOUN', 'ADP', 'DET', 'VERB', 'NOUN', 'NOUN', 'VERB', 'DET', 'NOUN', 'CONJ', 'DET', 'NOUN', 'ADP', 'DET', 'NOUN', 'ADP', 'DET', 'NOUN', 'CONJ', 'NOUN', 'PUNCT']\n",
      "['In', 'a', 'bulletin', ',', 'the', 'FBI', 'noted', 'that', 'the', 'surveillance', 'might', 'relate', 'to', 'a', 'plot', 'to', 'disperse', 'a', 'chemical', 'or', 'biological', 'weapon', '.']\n",
      "['ADP', 'DET', 'NOUN', 'PUNCT', 'DET', 'PROPN', 'VERB', 'SCONJ', 'DET', 'NOUN', 'AUX', 'VERB', 'ADP', 'DET', 'NOUN', 'PART', 'VERB', 'DET', 'ADJ', 'CONJ', 'ADJ', 'NOUN', 'PUNCT']\n",
      "['The', 'CIA', 'reportedly', 'has', 'been', 'quietly', 'building', 'a', 'case', 'that', 'the', 'anthrax', 'mailings', 'were', 'an', 'international', 'plot', '.']\n",
      "['DET', 'PROPN', 'ADV', 'AUX', 'AUX', 'ADV', 'VERB', 'DET', 'NOUN', 'SCONJ', 'DET', 'NOUN', 'NOUN', 'VERB', 'DET', 'ADJ', 'NOUN', 'PUNCT']\n",
      "['This', 'is', 'old', 'news', '.']\n",
      "['PRON', 'VERB', 'ADJ', 'NOUN', 'PUNCT']\n",
      "['It', \"'s\", 'just', 'no', 'longer', 'bureaucratically', 'impolite', 'to', 'openly', 'contest', 'the', 'FBI', \"'s\", '(', 'former', ')', 'theory', 'about', 'a', 'lone', ',', 'American', 'scientist', '.']\n",
      "['PRON', 'VERB', 'ADV', 'ADV', 'ADV', 'ADV', 'ADJ', 'PART', 'ADV', 'VERB', 'DET', 'PROPN', 'PART', 'PUNCT', 'ADJ', 'PUNCT', 'NOUN', 'ADP', 'DET', 'ADJ', 'PUNCT', 'ADJ', 'NOUN', 'PUNCT']\n",
      "['Many', 'people', 'have', 'argued', 'that', 'a', 'US', '-', 'based', 'Al', 'Qaeda', 'operative', 'is', 'behind', 'the', 'earlier', 'Fall', '2001', 'anthrax', 'mailings', 'in', 'the', 'US', ',', 'and', 'that', 'the', 'mailings', 'served', 'as', 'a', 'threat', 'and', 'warning', '.']\n",
      "['ADJ', 'NOUN', 'AUX', 'VERB', 'SCONJ', 'DET', 'PROPN', 'PUNCT', 'VERB', 'PROPN', 'PROPN', 'NOUN', 'VERB', 'ADP', 'DET', 'ADJ', 'NOUN', 'NUM', 'NOUN', 'NOUN', 'ADP', 'DET', 'PROPN', 'PUNCT', 'CONJ', 'SCONJ', 'DET', 'NOUN', 'VERB', 'ADP', 'DET', 'NOUN', 'CONJ', 'NOUN', 'PUNCT']\n",
      "['Princeton', 'islamist', 'scholar', 'Bernard', 'Lewis', 'has', 'explained', 'that', 'while', 'islamists', 'may', 'disagree', 'about', 'whether', 'killing', 'innocents', 'is', 'sanctioned', 'by', 'the', 'laws', 'of', 'jihad', ',', 'extremists', 'like', 'Zawahiri', 'agree', 'that', 'notice', 'must', 'be', 'given', 'before', 'biochemical', 'weapons', 'are', 'used', '.']\n",
      "['PROPN', 'NOUN', 'NOUN', 'PROPN', 'PROPN', 'AUX', 'VERB', 'SCONJ', 'SCONJ', 'NOUN', 'AUX', 'VERB', 'SCONJ', 'SCONJ', 'VERB', 'NOUN', 'AUX', 'VERB', 'ADP', 'DET', 'NOUN', 'ADP', 'NOUN', 'PUNCT', 'NOUN', 'ADP', 'PROPN', 'VERB', 'SCONJ', 'NOUN', 'AUX', 'AUX', 'VERB', 'SCONJ', 'ADJ', 'NOUN', 'AUX', 'VERB', 'PUNCT']\n",
      "['\"', 'The', 'Prophet', \"'s\", 'guidance', ',', '\"', 'says', 'Michael', 'Scheuer', ',', 'an', 'al', '-', 'Qaeda', 'analyst', 'who', 'recently', 'retired', 'from', 'the', 'CIA', 'and', 'once', 'headed', 'its', 'Bin', 'Laden', 'unit', ',', '\"', 'was', 'always', ',', 'Before', 'you', 'attack', 'someone', ',', 'warn', 'them', 'very', 'clearly', '...', '\"', 'The', 'anthrax', 'mailings', 'followed', 'the', 'pattern', 'of', 'letters', 'they', 'sent', 'in', 'January', '1997', 'to', 'newspaper', 'branches', 'in', 'Washington', ',', 'D.C.', 'and', 'New', 'York', 'City', ',', 'as', 'well', 'as', 'symbolic', 'targets', '.']\n",
      "['PUNCT', 'DET', 'PROPN', 'PART', 'NOUN', 'PUNCT', 'PUNCT', 'VERB', 'PROPN', 'PROPN', 'PUNCT', 'DET', 'PROPN', 'PUNCT', 'PROPN', 'NOUN', 'PRON', 'ADV', 'VERB', 'ADP', 'DET', 'PROPN', 'CONJ', 'ADV', 'VERB', 'PRON', 'PROPN', 'PROPN', 'NOUN', 'PUNCT', 'PUNCT', 'VERB', 'ADV', 'PUNCT', 'SCONJ', 'PRON', 'VERB', 'PRON', 'PUNCT', 'VERB', 'PRON', 'ADV', 'ADV', 'PUNCT', 'PUNCT', 'DET', 'NOUN', 'NOUN', 'VERB', 'DET', 'NOUN', 'ADP', 'NOUN', 'PRON', 'VERB', 'ADP', 'PROPN', 'NUM', 'ADP', 'NOUN', 'NOUN', 'ADP', 'PROPN', 'PUNCT', 'PROPN', 'CONJ', 'PROPN', 'PROPN', 'PROPN', 'PUNCT', 'ADV', 'ADV', 'ADP', 'ADJ', 'NOUN', 'PUNCT']\n",
      "['The', 'letter', 'bombs', 'were', 'sent', 'in', 'connection', 'with', 'the', 'detention', 'of', 'the', 'blind', 'sheik', 'Abdel', 'Rahman', 'and', 'those', 'responsible', 'for', 'the', 'earlier', 'World', 'Trade', 'Center', 'bombing', 'in', '1993', '.']\n",
      "['DET', 'NOUN', 'NOUN', 'AUX', 'VERB', 'ADP', 'NOUN', 'ADP', 'DET', 'NOUN', 'ADP', 'DET', 'ADJ', 'NOUN', 'PROPN', 'PROPN', 'CONJ', 'PRON', 'ADJ', 'ADP', 'DET', 'ADJ', 'PROPN', 'PROPN', 'PROPN', 'NOUN', 'ADP', 'NUM', 'PUNCT']\n",
      "['Handwritten', 'notes', 'and', 'files', 'on', 'a', 'laptop', 'seized', 'upon', 'the', 'capture', 'of', 'KSM', ',', 'Al', 'Qaeda', \"'s\", '#', '3', ',', 'included', 'a', 'feasible', 'anthrax', 'production', 'plan', 'using', 'a', 'spray', 'dryer', 'and', 'addressed', 'the', 'recruitment', 'of', 'necessary', 'expertise', '.']\n",
      "['ADJ', 'NOUN', 'CONJ', 'NOUN', 'ADP', 'DET', 'NOUN', 'VERB', 'ADP', 'DET', 'NOUN', 'ADP', 'PROPN', 'PUNCT', 'PROPN', 'PROPN', 'PART', 'NOUN', 'NUM', 'PUNCT', 'VERB', 'DET', 'ADJ', 'NOUN', 'NOUN', 'NOUN', 'VERB', 'DET', 'NOUN', 'NOUN', 'CONJ', 'VERB', 'DET', 'NOUN', 'ADP', 'ADJ', 'NOUN', 'PUNCT']\n",
      "['What', 'your', 'morning', 'paper', 'did', 'not', 'tell', 'you', ',', 'however', ',', 'was', 'that', 'the', 'CIA', 'seized', 'a', 'similar', 'disc', 'from', 'Ayman', 'Zawahiri', \"'s\", 'right', '-', 'hand', ',', 'Ahmed', 'Salama', 'Mabruk', ',', '5', 'years', 'earlier', '.']\n",
      "['PRON', 'PRON', 'NOUN', 'NOUN', 'AUX', 'PART', 'VERB', 'PRON', 'PUNCT', 'ADV', 'PUNCT', 'VERB', 'SCONJ', 'DET', 'PROPN', 'VERB', 'DET', 'ADJ', 'NOUN', 'ADP', 'PROPN', 'PROPN', 'PART', 'ADJ', 'PUNCT', 'NOUN', 'PUNCT', 'PROPN', 'PROPN', 'PROPN', 'PUNCT', 'NUM', 'NOUN', 'ADV', 'PUNCT']\n",
      "['The', 'computer', 'disk', 'was', 'confiscated', 'from', 'him', 'during', 'his', 'arrest', 'by', 'the', 'CIA', 'in', 'Azerbaijan', 'and', 'handed', 'over', 'to', 'the', 'Egyptian', 'authorities', '.']\n",
      "['DET', 'NOUN', 'NOUN', 'AUX', 'VERB', 'ADP', 'PRON', 'ADP', 'PRON', 'NOUN', 'ADP', 'DET', 'PROPN', 'ADP', 'PROPN', 'CONJ', 'VERB', 'ADP', 'ADP', 'DET', 'ADJ', 'NOUN', 'PUNCT']\n",
      "['Mabruk', ',', 'at', 'the', 'time', ',', 'was', 'the', 'head', 'of', 'Jihad', \"'s\", 'military', 'operations', '.']\n",
      "['PROPN', 'PUNCT', 'ADP', 'DET', 'NOUN', 'PUNCT', 'VERB', 'DET', 'NOUN', 'ADP', 'PROPN', 'PART', 'ADJ', 'NOUN', 'PUNCT']\n",
      "['There', 'is', 'a', 'risk', 'that', 'observers', 'underestimate', 'the', 'time', 'that', 'Al', 'Qaeda', 'has', 'had', 'to', 'make', 'progress', 'in', 'such', 'recruitment', 'and', 'research', 'and', 'development', '.']\n",
      "['PRON', 'VERB', 'DET', 'NOUN', 'SCONJ', 'NOUN', 'VERB', 'DET', 'NOUN', 'PRON', 'PROPN', 'PROPN', 'AUX', 'VERB', 'PART', 'VERB', 'NOUN', 'ADP', 'ADJ', 'NOUN', 'CONJ', 'NOUN', 'CONJ', 'NOUN', 'PUNCT']\n",
      "['Some', 'may', 'still', 'think', 'that', 'even', 'in', 'the', 'final', 'stages', 'of', 'the', '9/11', 'plot', ',', 'Zacarias', 'Moussaoui', 'was', 'going', 'to', 'fly', 'a', '5th', 'plane', 'into', 'the', 'Capitol', 'or', 'White', 'House', '.']\n",
      "['DET', 'AUX', 'ADV', 'VERB', 'SCONJ', 'ADV', 'ADP', 'DET', 'ADJ', 'NOUN', 'ADP', 'DET', 'NUM', 'NOUN', 'PUNCT', 'PROPN', 'PROPN', 'AUX', 'VERB', 'PART', 'VERB', 'DET', 'ADJ', 'NOUN', 'ADP', 'DET', 'PROPN', 'CONJ', 'PROPN', 'PROPN', 'PUNCT']\n",
      "['Others', 'argue', 'that', 'he', 'was', 'to', 'be', 'part', 'of', 'a', 'second', 'wave', 'of', 'airliners', 'directed', 'to', 'targets', 'on', 'the', 'West', 'Coast', '.']\n",
      "['NOUN', 'VERB', 'SCONJ', 'PRON', 'VERB', 'PART', 'VERB', 'NOUN', 'ADP', 'DET', 'ADJ', 'NOUN', 'ADP', 'NOUN', 'VERB', 'ADP', 'NOUN', 'ADP', 'DET', 'ADJ', 'NOUN', 'PUNCT']\n",
      "['There', 'is', 'an', 'e-mail', 'by', 'Moussaoui', ',', 'however', ',', 'dated', 'July', '31', ',', '2001', 'indicating', 'that', 'he', 'sought', 'to', 'take', 'a', 'crop', 'dusting', 'course', 'that', 'was', 'to', 'last', 'up', 'to', '6', 'months', '.']\n",
      "['PRON', 'AUX', 'DET', 'NOUN', 'ADP', 'PROPN', 'PUNCT', 'ADV', 'PUNCT', 'VERB', 'PROPN', 'NUM', 'PUNCT', 'NUM', 'VERB', 'SCONJ', 'PRON', 'VERB', 'PART', 'VERB', 'DET', 'NOUN', 'NOUN', 'NOUN', 'PRON', 'VERB', 'PART', 'VERB', 'ADP', 'ADP', 'NUM', 'NOUN', 'PUNCT']\n",
      "['In', 'March', '2003', ',', 'Mohammed', 'reportedly', 'said', 'that', 'Moussaoui', 'was', 'not', 'going', 'to', 'be', 'part', 'of', '9/11', 'but', 'was', 'to', 'be', 'part', 'of', 'a', '\"', 'second', 'wave', '.', '\"']\n",
      "['ADP', 'PROPN', 'NUM', 'PUNCT', 'PROPN', 'ADV', 'VERB', 'SCONJ', 'PROPN', 'AUX', 'PART', 'VERB', 'PART', 'VERB', 'NOUN', 'ADP', 'NUM', 'CONJ', 'VERB', 'PART', 'VERB', 'NOUN', 'ADP', 'DET', 'PUNCT', 'ADJ', 'NOUN', 'PUNCT', 'PUNCT']\n",
      "['Although', 'Ramzi', 'Binalshibh', 'provided', 'him', '$', '14,000', 'in', 'July', ',', 'accused', 'September', '11', 'conspirator', 'Zacarias', 'Moussaoui', 'told', 'his', 'trial', 'judge', 'that', 'he', 'had', 'an', 'al', 'Qaeda', 'mission', 'that', 'would', 'have', 'come', 'after', 'the', 'terrorist', 'attacks', '.']\n",
      "['SCONJ', 'PROPN', 'PROPN', 'VERB', 'PRON', 'SYM', 'NUM', 'ADP', 'PROPN', 'PUNCT', 'VERB', 'PROPN', 'NUM', 'NOUN', 'PROPN', 'PROPN', 'VERB', 'PRON', 'NOUN', 'NOUN', 'SCONJ', 'PRON', 'VERB', 'DET', 'PROPN', 'PROPN', 'NOUN', 'PRON', 'AUX', 'AUX', 'VERB', 'ADP', 'DET', 'NOUN', 'NOUN', 'PUNCT']\n",
      "['KSM', 'explained', 'that', 'Moussaoui', \"'s\", 'inquiries', 'about', 'crop', 'dusters', 'may', 'have', 'been', 'related', 'to', 'the', 'anthrax', 'work', 'being', 'done', 'by', 'US', '-', 'trained', 'biochemist', 'and', 'Al', 'Qaeda', 'operative', ',', 'Malaysian', 'Yazid', 'Sufaat', '.']\n",
      "['PROPN', 'VERB', 'SCONJ', 'PROPN', 'PART', 'NOUN', 'ADP', 'NOUN', 'NOUN', 'AUX', 'AUX', 'VERB', 'ADJ', 'ADP', 'DET', 'NOUN', 'NOUN', 'AUX', 'VERB', 'ADP', 'PROPN', 'PUNCT', 'VERB', 'NOUN', 'CONJ', 'PROPN', 'PROPN', 'NOUN', 'PUNCT', 'ADJ', 'PROPN', 'PROPN', 'PUNCT']\n",
      "['Zacarias', 'Moussaoui', ',', 'never', 'the', 'sharpest', 'tool', 'in', 'the', 'shed', 'and', 'thought', 'by', 'his', 'superiors', 'to', 'be', 'unreliable', ',', 'has', 'told', 'the', 'judge', 'at', 'his', 'trial', 'in', 'a', 'filing', 'that', 'he', 'wants', '\"', 'anthrax', 'for', 'Jew', 'sympathizer', 'only', '.', '\"']\n",
      "['PROPN', 'PROPN', 'PUNCT', 'ADV', 'DET', 'ADJ', 'NOUN', 'ADP', 'DET', 'NOUN', 'CONJ', 'VERB', 'ADP', 'PRON', 'NOUN', 'PART', 'VERB', 'ADJ', 'PUNCT', 'AUX', 'VERB', 'DET', 'NOUN', 'ADP', 'PRON', 'NOUN', 'ADP', 'DET', 'NOUN', 'SCONJ', 'PRON', 'VERB', 'PUNCT', 'NOUN', 'ADP', 'PROPN', 'NOUN', 'ADV', 'PUNCT', 'PUNCT']\n",
      "['Al', 'Qaeda', \"'s\", 'regional', 'operative', ',', 'Hambali', ',', 'who', 'was', 'at', 'a', 'key', 'January', '2000', 'meeting', 'and', 'supervised', 'Sufaat', ',', 'has', 'been', 'captured', '.']\n",
      "['PROPN', 'PROPN', 'PART', 'ADJ', 'NOUN', 'PUNCT', 'PROPN', 'PUNCT', 'PRON', 'VERB', 'ADP', 'DET', 'ADJ', 'PROPN', 'NUM', 'NOUN', 'CONJ', 'VERB', 'PROPN', 'PUNCT', 'AUX', 'AUX', 'VERB', 'PUNCT']\n",
      "['Hambali', 'reportedly', 'is', 'cooperating', 'to', 'some', 'degree', '.']\n",
      "['PROPN', 'ADV', 'AUX', 'VERB', 'ADP', 'DET', 'NOUN', 'PUNCT']\n",
      "['KSM', 'and', 'Hambali', 'sent', 'al', '-', 'Hindi', '(', 'al', '-', 'Britani', ')', ',', 'along', 'with', 'Jafar', 'the', 'Pilot', ',', 'to', 'case', 'NYC', 'targets', 'for', 'a', 'second', 'wave', '.']\n",
      "['PROPN', 'CONJ', 'PROPN', 'VERB', 'PROPN', 'PUNCT', 'PROPN', 'PUNCT', 'PROPN', 'PUNCT', 'PROPN', 'PUNCT', 'PUNCT', 'ADP', 'ADP', 'PROPN', 'DET', 'PROPN', 'PUNCT', 'PART', 'VERB', 'PROPN', 'NOUN', 'ADP', 'DET', 'ADJ', 'NOUN', 'PUNCT']\n",
      "['It', 'was', 'as', 'part', 'of', 'that', 'surveillance', 'in', 'early', '2001', 'that', 'Jafar', 'the', 'Pilot', 'studied', 'tourist', 'helicopters', 'in', 'the', 'NYC', 'area', '.']\n",
      "['PRON', 'VERB', 'ADP', 'NOUN', 'ADP', 'DET', 'NOUN', 'ADP', 'ADJ', 'NUM', 'ADV', 'PROPN', 'DET', 'PROPN', 'VERB', 'NOUN', 'NOUN', 'ADP', 'DET', 'PROPN', 'NOUN', 'PUNCT']\n",
      "['Sufaat', ',', 'according', 'to', 'both', 'KSM', 'and', 'Hambali', ',', 'did', 'not', 'have', 'the', 'virulent', 'US', 'Army', 'Ames', 'strain', 'that', 'would', 'be', 'used', '.']\n",
      "['PROPN', 'PUNCT', 'VERB', 'ADP', 'CONJ', 'PROPN', 'CONJ', 'PROPN', 'PUNCT', 'AUX', 'PART', 'VERB', 'DET', 'ADJ', 'PROPN', 'PROPN', 'PROPN', 'NOUN', 'PRON', 'AUX', 'AUX', 'VERB', 'PUNCT']\n",
      "['That', 'would', 'require', 'someone', 'who', 'had', 'access', 'to', 'the', 'strain', '.']\n",
      "['PRON', 'AUX', 'VERB', 'PRON', 'PRON', 'VERB', 'NOUN', 'ADP', 'DET', 'NOUN', 'PUNCT']\n",
      "['But', 'if', 'experience', 'is', 'any', 'guide', ',', 'nothing', 'would', 'stand', 'in', 'the', 'way', 'of', 'Dr.', 'Ayman', 'Zawahiri', \"'s\", 'decade', '-', 'long', 'quest', 'to', 'weaponize', 'and', 'use', 'anthrax', 'against', 'US', 'targets', 'that', 'was', 'described', 'by', 'one', 'confidante', 'to', 'an', 'Egyptian', 'newspaper', 'reporter', '.']\n",
      "['CONJ', 'SCONJ', 'NOUN', 'VERB', 'DET', 'NOUN', 'PUNCT', 'PRON', 'AUX', 'VERB', 'ADP', 'DET', 'NOUN', 'ADP', 'PROPN', 'PROPN', 'PROPN', 'PART', 'NOUN', 'PUNCT', 'ADJ', 'NOUN', 'PART', 'VERB', 'CONJ', 'VERB', 'NOUN', 'ADP', 'PROPN', 'NOUN', 'PRON', 'AUX', 'VERB', 'ADP', 'NUM', 'NOUN', 'ADP', 'DET', 'ADJ', 'NOUN', 'NOUN', 'PUNCT']\n",
      "['The', 'islamist', 'had', 'been', 'released', 'from', 'Egyptian', 'prison', 'and', 'had', 'known', 'Zawahiri', 'well', 'for', 'many', 'years', '.']\n",
      "['DET', 'NOUN', 'AUX', 'AUX', 'VERB', 'ADP', 'ADJ', 'NOUN', 'CONJ', 'AUX', 'VERB', 'PROPN', 'ADV', 'ADP', 'ADJ', 'NOUN', 'PUNCT']\n",
      "['Emails', 'from', 'Zawahiri', 'to', 'Atef', 'in', 'the', 'Spring', 'of', '1999', 'indicate', 'that', 'Ayman', 'was', 'a', 'close', 'student', 'of', 'the', 'USAMRIID', 'anthrax', 'program', '.']\n",
      "['NOUN', 'ADP', 'PROPN', 'ADP', 'PROPN', 'ADP', 'DET', 'NOUN', 'ADP', 'NUM', 'VERB', 'SCONJ', 'PROPN', 'VERB', 'DET', 'ADJ', 'NOUN', 'ADP', 'DET', 'PROPN', 'NOUN', 'NOUN', 'PUNCT']\n",
      "['He', 'believed', 'that', 'the', 'koran', 'instructed', 'that', 'a', 'jihadist', 'should', 'use', 'the', 'weapons', 'used', 'by', 'the', 'crusader', '.']\n",
      "['PRON', 'VERB', 'SCONJ', 'DET', 'PROPN', 'VERB', 'SCONJ', 'DET', 'NOUN', 'AUX', 'VERB', 'DET', 'NOUN', 'VERB', 'ADP', 'DET', 'NOUN', 'PUNCT']\n",
      "['\"', 'What', 'we', 'know', 'is', 'that', 'he', \"'s\", 'always', 'said', 'it', 'was', 'a', 'religious', 'obligation', 'to', 'have', 'the', 'same', 'weapons', 'as', 'their', 'enemies', ',', '\"', 'former', 'CIA', 'OBL', 'unit', 'counter', 'terrorism', 'chief', 'Michael', 'Scheuer', 'has', 'said', '.']\n",
      "['PUNCT', 'PRON', 'PRON', 'VERB', 'VERB', 'SCONJ', 'PRON', 'AUX', 'ADV', 'VERB', 'PRON', 'VERB', 'DET', 'ADJ', 'NOUN', 'PART', 'VERB', 'DET', 'ADJ', 'NOUN', 'ADP', 'PRON', 'NOUN', 'PUNCT', 'PUNCT', 'ADJ', 'PROPN', 'PROPN', 'NOUN', 'X', 'NOUN', 'NOUN', 'PROPN', 'PROPN', 'AUX', 'VERB', 'PUNCT']\n",
      "['The', 'Wall', 'Street', 'Journal', 'reported', 'that', 'a', 'computer', 'used', 'by', 'Zawahiri', 'contains', 'a', 'June', '1999', 'memo', 'that', '\"', 'said', 'the', 'program', 'should', 'seek', 'cover', 'and', 'talent', 'in', 'educational', 'institutions', ',', 'which', 'it', 'said', 'were', \"'\", 'more', 'beneficial', 'to', 'us', 'and', 'allow', 'easy', 'access', 'to', 'specialists', ',', 'which', 'will', 'greatly', 'benefit', 'us', 'in', 'the', 'first', 'stage', ',', 'God', 'willing', '.', \"'\", \"''\"]\n",
      "['DET', 'PROPN', 'PROPN', 'PROPN', 'VERB', 'SCONJ', 'DET', 'NOUN', 'VERB', 'ADP', 'PROPN', 'VERB', 'DET', 'PROPN', 'NUM', 'NOUN', 'PRON', 'PUNCT', 'VERB', 'DET', 'NOUN', 'AUX', 'VERB', 'NOUN', 'CONJ', 'NOUN', 'ADP', 'ADJ', 'NOUN', 'PUNCT', 'PRON', 'PRON', 'VERB', 'VERB', 'PUNCT', 'ADV', 'ADJ', 'ADP', 'PRON', 'CONJ', 'VERB', 'ADJ', 'NOUN', 'ADP', 'NOUN', 'PUNCT', 'PRON', 'AUX', 'ADV', 'VERB', 'PRON', 'ADP', 'DET', 'ADJ', 'NOUN', 'PUNCT', 'PROPN', 'ADJ', 'PUNCT', 'PUNCT', 'PUNCT']\n",
      "['Zawahiri', 'was', 'associated', 'with', 'a', 'faction', 'of', 'the', 'Egyptian', 'Islamic', 'Jihad', 'known', 'as', 'the', 'Vanguards', 'of', 'Conquest', '.']\n",
      "['PROPN', 'AUX', 'VERB', 'ADP', 'DET', 'NOUN', 'ADP', 'DET', 'PROPN', 'PROPN', 'PROPN', 'VERB', 'ADP', 'DET', 'PROPN', 'ADP', 'PROPN', 'PUNCT']\n",
      "['Zawahiri', 'and', 'the', 'Vanguards', 'of', 'Conquest', 'were', 'seeking', 'to', 'recreate', 'Mohammed', \"'s\", 'taking', 'of', 'mecca', 'by', 'a', 'small', 'band', 'through', 'violent', 'attacks', 'on', 'Egyptian', 'leaders', '.']\n",
      "['PROPN', 'CONJ', 'DET', 'PROPN', 'ADP', 'PROPN', 'AUX', 'VERB', 'PART', 'VERB', 'PROPN', 'PART', 'NOUN', 'ADP', 'PROPN', 'ADP', 'DET', 'ADJ', 'NOUN', 'ADP', 'ADJ', 'NOUN', 'ADP', 'ADJ', 'NOUN', 'PUNCT']\n",
      "['By', '1998', ',', 'Zawahiri', 'had', 'determined', 'that', 'the', 'Egyptian', 'Islamic', 'Jihad', 'should', 'focus', 'on', 'its', 'struggle', 'against', 'the', 'United', 'States', 'and', 'hold', 'off', 'on', 'further', 'attacks', 'against', 'the', 'Egyptian', 'regime', '.']\n",
      "['ADP', 'NUM', 'PUNCT', 'PROPN', 'AUX', 'VERB', 'SCONJ', 'DET', 'PROPN', 'PROPN', 'PROPN', 'AUX', 'VERB', 'ADP', 'PRON', 'NOUN', 'ADP', 'DET', 'PROPN', 'PROPN', 'CONJ', 'VERB', 'ADP', 'ADP', 'ADJ', 'NOUN', 'ADP', 'DET', 'ADJ', 'NOUN', 'PUNCT']\n",
      "['A', 'key', 'question', 'is', 'how', 'they', 'acquired', 'the', 'anthrax', 'strain', 'first', 'isolated', 'by', 'the', 'Texas', 'Veterinary', 'Medical', 'Diagnostic', 'Lab', 'in', '1980', '.']\n",
      "['DET', 'ADJ', 'NOUN', 'VERB', 'ADV', 'PRON', 'VERB', 'DET', 'NOUN', 'NOUN', 'ADV', 'VERB', 'ADP', 'DET', 'PROPN', 'PROPN', 'PROPN', 'PROPN', 'PROPN', 'ADP', 'NUM', 'PUNCT']\n",
      "['According', 'to', 'senior', 'counter', 'terrorism', 'officials', ',', 'both', 'here', 'and', 'abroad', ',', 'among', 'the', 'supporters', 'of', 'these', 'militant', 'islamists', 'were', 'people', 'who', 'blended', 'into', 'society', 'and', 'were', 'available', 'to', 'act', 'when', 'another', 'part', 'of', 'the', 'network', 'requested', 'it', '.']\n",
      "['VERB', 'ADP', 'ADJ', 'X', 'NOUN', 'NOUN', 'PUNCT', 'CONJ', 'ADV', 'CONJ', 'ADV', 'PUNCT', 'ADP', 'DET', 'NOUN', 'ADP', 'DET', 'ADJ', 'NOUN', 'VERB', 'NOUN', 'PRON', 'VERB', 'ADP', 'NOUN', 'CONJ', 'VERB', 'ADJ', 'PART', 'VERB', 'ADV', 'DET', 'NOUN', 'ADP', 'DET', 'NOUN', 'VERB', 'PRON', 'PUNCT']\n",
      "['A', 'few', 'days', 'before', 'Christmas', '2003', ',', 'after', 'a', 'renewed', 'audiotape', 'threat', 'by', 'Zawahiri', 'of', 'attacks', ',', 'to', 'include', 'in', 'the', 'US', 'homeland', ',', 'the', 'threat', 'level', 'was', 'raised', 'to', 'orange', 'or', '\"', 'high', '.', '\"']\n",
      "['DET', 'ADJ', 'NOUN', 'ADP', 'PROPN', 'NUM', 'PUNCT', 'ADP', 'DET', 'VERB', 'NOUN', 'NOUN', 'ADP', 'PROPN', 'ADP', 'NOUN', 'PUNCT', 'PART', 'VERB', 'ADP', 'DET', 'PROPN', 'NOUN', 'PUNCT', 'DET', 'NOUN', 'NOUN', 'AUX', 'VERB', 'ADP', 'ADJ', 'CONJ', 'PUNCT', 'ADJ', 'PUNCT', 'PUNCT']\n",
      "['After', 'the', 'alert', 'condition', 'had', 'long', 'since', 'returned', 'to', 'yellow', ',', 'Zawahiri', 'in', 'late', 'February', 'issued', 'another', 'audiotape', '.']\n",
      "['SCONJ', 'DET', 'NOUN', 'NOUN', 'AUX', 'ADV', 'ADV', 'VERB', 'ADP', 'ADJ', 'PUNCT', 'PROPN', 'ADP', 'ADJ', 'PROPN', 'VERB', 'DET', 'NOUN', 'PUNCT']\n",
      "['He', 'urged', 'the', 'President', 'that', 'brigades', 'and', 'brigades', 'would', 'be', 'coming', 'under', 'the', 'banner', 'of', 'jihad', 'carrying', 'death', 'and', 'seeking', 'paradise', '.']\n",
      "['PRON', 'VERB', 'DET', 'PROPN', 'SCONJ', 'NOUN', 'CONJ', 'NOUN', 'AUX', 'AUX', 'VERB', 'ADP', 'DET', 'NOUN', 'ADP', 'NOUN', 'VERB', 'NOUN', 'CONJ', 'VERB', 'NOUN', 'PUNCT']\n",
      "['Zawahiri', 'said', 'that', 'the', 'US', 'should', 'expect', 'another', '9/11', 'on', 'US', 'soil', '.']\n",
      "['PROPN', 'VERB', 'SCONJ', 'DET', 'PROPN', 'AUX', 'VERB', 'DET', 'NUM', 'ADP', 'PROPN', 'NOUN', 'PUNCT']\n",
      "['According', 'to', 'some', 'reports', ',', 'Zawahiri', 'is', 'thought', 'by', 'intelligence', 'to', 'be', 'somewhere', 'near', 'the', 'border', 'of', 'Pakistan', 'and', 'Afghanistan', '.']\n",
      "['VERB', 'ADP', 'DET', 'NOUN', 'PUNCT', 'PROPN', 'AUX', 'VERB', 'ADP', 'NOUN', 'PART', 'VERB', 'ADV', 'ADP', 'DET', 'NOUN', 'ADP', 'PROPN', 'CONJ', 'PROPN', 'PUNCT']\n",
      "['At', 'one', 'time', ',', 'some', 'thought', 'he', 'had', 'been', 'spotted', 'in', 'Iran', '.']\n",
      "['ADP', 'NUM', 'NOUN', 'PUNCT', 'DET', 'VERB', 'PRON', 'AUX', 'AUX', 'VERB', 'ADP', 'PROPN', 'PUNCT']\n",
      "['Wherever', 'he', 'is', ',', 'authorities', 'need', 'to', 'focus', 'on', 'the', 'traceable', 'connection', 'between', 'him', 'and', 'those', 'he', 'or', 'Atef', 'recruited', '.']\n",
      "['ADV', 'PRON', 'VERB', 'PUNCT', 'NOUN', 'VERB', 'PART', 'VERB', 'ADP', 'DET', 'ADJ', 'NOUN', 'ADP', 'PRON', 'CONJ', 'PRON', 'PRON', 'CONJ', 'PROPN', 'VERB', 'PUNCT']\n",
      "['In', 'October', '2001', ',', 'did', 'the', 'FBI', 'profilers', 'know', 'of', 'the', 'draft', 'message', 'Khalid', 'Mohammed', 'had', 'on', 'the', 'seized', 'laptop', '(', 'from', '1995', ')', 'that', 'was', 'signed', '\"', 'Khalid', 'Sheik', 'Bojinka', '\"', '?']\n",
      "['ADP', 'PROPN', 'NUM', 'PUNCT', 'AUX', 'DET', 'PROPN', 'NOUN', 'VERB', 'ADP', 'DET', 'NOUN', 'NOUN', 'PROPN', 'PROPN', 'VERB', 'ADP', 'DET', 'VERB', 'NOUN', 'PUNCT', 'ADP', 'NUM', 'PUNCT', 'PRON', 'AUX', 'VERB', 'PUNCT', 'PROPN', 'PROPN', 'PROPN', 'PUNCT', 'PUNCT']\n",
      "['The', 'letter', 'threatened', 'to', 'use', 'biochemical', 'weapons', 'if', 'the', 'blind', 'sheik', 'was', 'not', 'released', '.']\n",
      "['DET', 'NOUN', 'VERB', 'PART', 'VERB', 'ADJ', 'NOUN', 'SCONJ', 'DET', 'ADJ', 'NOUN', 'AUX', 'PART', 'VERB', 'PUNCT']\n",
      "['(', 'Khalid', 'Mohammed', \"'s\", 'involvement', 'dates', 'back', 'to', 'Bojinka', ',', 'as', 'does', 'Hambali', \"'s\", ')', '.']\n",
      "['PUNCT', 'PROPN', 'PROPN', 'PART', 'NOUN', 'VERB', 'ADV', 'ADP', 'PROPN', 'PUNCT', 'SCONJ', 'VERB', 'PROPN', 'PART', 'PUNCT', 'PUNCT']\n",
      "['Use', 'of', 'biochemical', 'weapons', 'as', 'blackmail', 'and', 'threatened', 'retaliation', 'for', 'such', 'detentions', 'was', 'an', 'alternative', 'scenario', 'in', 'the', 'Bojinka', 'planning', '.']\n",
      "['NOUN', 'ADP', 'ADJ', 'NOUN', 'ADP', 'NOUN', 'CONJ', 'VERB', 'NOUN', 'ADP', 'ADJ', 'NOUN', 'VERB', 'DET', 'ADJ', 'NOUN', 'ADP', 'DET', 'PROPN', 'NOUN', 'PUNCT']\n",
      "['In', 'May', '2004', ',', 'Patrick', 'Hughes', ',', 'Lieutenant', 'General', '(', 'Retired', ')', ',', 'Assistant', 'Secretary', 'for', 'Information', 'Analysis', ',', 'Homeland', 'Security', 'Department', 'testified', 'before', 'the', '9/11', 'Commission', '.']\n",
      "['ADP', 'PROPN', 'NUM', 'PUNCT', 'PROPN', 'PROPN', 'PUNCT', 'PROPN', 'PROPN', 'PUNCT', 'ADJ', 'PUNCT', 'PUNCT', 'PROPN', 'PROPN', 'ADP', 'PROPN', 'PROPN', 'PUNCT', 'PROPN', 'PROPN', 'PROPN', 'VERB', 'ADP', 'DET', 'PROPN', 'PROPN', 'PUNCT']\n",
      "['He', 'explained', 'that', 'interrogations', 'and', 'other', 'evidence', 'revealed', 'that', 'Al', 'Qaeda', 'wanted', 'to', 'strike', 'the', 'US', 'with', 'a', 'nonconventional', 'weapon', ',', 'most', 'notably', 'anthrax', '.']\n",
      "['PRON', 'VERB', 'SCONJ', 'NOUN', 'CONJ', 'ADJ', 'NOUN', 'VERB', 'SCONJ', 'PROPN', 'PROPN', 'VERB', 'PART', 'VERB', 'DET', 'PROPN', 'ADP', 'DET', 'ADJ', 'NOUN', 'PUNCT', 'ADV', 'ADV', 'NOUN', 'PUNCT']\n",
      "['The', 'same', 'week', ',', 'the', 'WTC', 'head', 'testified', 'that', 'while', 'they', 'had', 'not', 'received', 'any', 'briefing', 'on', 'the', 'use', 'of', 'planes', ',', 'they', 'had', 'taken', 'steps', 'to', 'prepare', 'for', 'an', 'attack', 'using', 'anthrax', 'based', 'on', 'intelligence', 'that', 'had', 'been', 'received', '.']\n",
      "['DET', 'ADJ', 'NOUN', 'PUNCT', 'DET', 'PROPN', 'NOUN', 'VERB', 'SCONJ', 'SCONJ', 'PRON', 'AUX', 'PART', 'VERB', 'DET', 'NOUN', 'ADP', 'DET', 'NOUN', 'ADP', 'NOUN', 'PUNCT', 'PRON', 'AUX', 'VERB', 'NOUN', 'PART', 'VERB', 'ADP', 'DET', 'NOUN', 'VERB', 'NOUN', 'VERB', 'ADP', 'NOUN', 'PRON', 'AUX', 'AUX', 'VERB', 'PUNCT']\n",
      "['Al', 'Qaeda', 'has', 'had', 'anthrax', ',', 'the', 'raw', 'seed', 'product', 'in', 'its', 'unweaponized', 'form', ',', 'since', 'at', 'least', '1997', ',', 'when', 'it', 'was', 'purchased', 'by', 'Bin', 'Laden', 'through', 'the', 'Moro', 'Islamic', 'Liberation', 'Front', '(', '\"', 'Moro', 'Front', '\"', 'or', '\"', 'MILF', '\"', ')', '.']\n",
      "['PROPN', 'PROPN', 'AUX', 'VERB', 'NOUN', 'PUNCT', 'DET', 'ADJ', 'NOUN', 'NOUN', 'ADP', 'PRON', 'ADJ', 'NOUN', 'PUNCT', 'ADP', 'ADV', 'ADV', 'NUM', 'PUNCT', 'ADV', 'PRON', 'AUX', 'VERB', 'ADP', 'PROPN', 'PROPN', 'ADP', 'DET', 'PROPN', 'PROPN', 'PROPN', 'PROPN', 'PUNCT', 'PUNCT', 'PROPN', 'PROPN', 'PUNCT', 'CONJ', 'PUNCT', 'PROPN', 'PUNCT', 'PUNCT', 'PUNCT']\n",
      "['Zawahiri', ',', 'Al', 'Qaeda', \"'s\", '#', '2', ',', 'is', 'head', 'of', 'Al', 'Qaeda', \"'s\", 'biochemical', 'program', '.']\n",
      "['PROPN', 'PUNCT', 'PROPN', 'PROPN', 'PART', 'NOUN', 'NUM', 'PUNCT', 'VERB', 'NOUN', 'ADP', 'PROPN', 'PROPN', 'PART', 'ADJ', 'NOUN', 'PUNCT']\n",
      "['The', 'CIA', 'has', 'known', 'of', 'Zawahiri', \"'s\", 'plans', 'to', 'use', 'anthrax', 'for', 'a', 'half', 'decade', '.']\n",
      "['DET', 'PROPN', 'AUX', 'VERB', 'ADP', 'PROPN', 'PART', 'NOUN', 'PART', 'VERB', 'NOUN', 'ADP', 'DET', 'ADJ', 'NOUN', 'PUNCT']\n",
      "['The', 'confidante', 'and', 'right', '-', 'hand', 'man', 'of', 'Dr.', 'Ayman', 'Zawahiri', 'admitted', 'that', 'Zawahiri', 'succeeded', 'in', 'obtaining', 'anthrax', 'and', 'intended', 'to', 'use', 'it', 'against', 'US', 'targets', '.']\n",
      "['DET', 'NOUN', 'CONJ', 'ADJ', 'PUNCT', 'NOUN', 'NOUN', 'ADP', 'PROPN', 'PROPN', 'PROPN', 'VERB', 'SCONJ', 'PROPN', 'VERB', 'SCONJ', 'VERB', 'NOUN', 'CONJ', 'VERB', 'PART', 'VERB', 'PRON', 'ADP', 'PROPN', 'NOUN', 'PUNCT']\n",
      "['Another', 'senior', 'Al', 'Qaeda', 'member', '(', 'a', 'shura', 'or', 'policy', '-', 'making', 'council', 'member', 'no', 'less', ')', 'was', 'working', 'for', 'the', 'Egyptian', 'intelligence', 'services', 'and', 'he', 'confirmed', 'the', 'report', 'in', 'a', 'sworn', 'lengthy', 'confession', '.']\n",
      "['DET', 'ADJ', 'PROPN', 'PROPN', 'NOUN', 'PUNCT', 'DET', 'NOUN', 'CONJ', 'NOUN', 'PUNCT', 'VERB', 'NOUN', 'NOUN', 'ADV', 'ADV', 'PUNCT', 'AUX', 'VERB', 'ADP', 'DET', 'ADJ', 'NOUN', 'NOUN', 'CONJ', 'PRON', 'VERB', 'DET', 'NOUN', 'ADP', 'DET', 'VERB', 'ADJ', 'NOUN', 'PUNCT']\n",
      "['Even', 'Zawahiri', \"'s\", 'attorney', 'in', '1999', 'said', 'that', 'Bin', 'Laden', 'and', 'Zawahiri', 'were', 'likely', 'to', 'resort', 'to', 'the', 'biological', 'and', 'chemical', 'agents', 'they', 'possessed', 'given', 'the', 'extradition', 'pressure', 'senior', 'Al', 'Qaeda', 'leaders', 'faced', '.']\n",
      "['ADV', 'PROPN', 'PART', 'NOUN', 'ADP', 'NUM', 'VERB', 'SCONJ', 'PROPN', 'PROPN', 'CONJ', 'PROPN', 'VERB', 'ADJ', 'PART', 'VERB', 'ADP', 'DET', 'ADJ', 'CONJ', 'ADJ', 'NOUN', 'PRON', 'VERB', 'VERB', 'DET', 'NOUN', 'NOUN', 'ADJ', 'PROPN', 'PROPN', 'NOUN', 'VERB', 'PUNCT']\n",
      "['A', 'recently', 'released', 'islamist', 'who', 'had', 'been', 'a', 'close', 'associate', 'of', 'Zawahiri', 'said', 'that', 'Zawahiri', 'spent', 'a', 'decade', 'and', 'had', 'made', '15', 'separate', 'attempts', 'to', 'recruit', 'the', 'necessary', 'expertise', 'to', 'weaponize', 'anthrax', 'in', 'Russia', 'and', 'the', 'Middle', 'East', '.']\n",
      "['DET', 'ADV', 'VERB', 'NOUN', 'PRON', 'AUX', 'VERB', 'DET', 'ADJ', 'NOUN', 'ADP', 'PROPN', 'VERB', 'SCONJ', 'PROPN', 'VERB', 'DET', 'NOUN', 'CONJ', 'AUX', 'VERB', 'NUM', 'ADJ', 'NOUN', 'PART', 'VERB', 'DET', 'ADJ', 'NOUN', 'PART', 'VERB', 'NOUN', 'ADP', 'PROPN', 'CONJ', 'DET', 'PROPN', 'PROPN', 'PUNCT']\n",
      "['The', 'US', 'Army', 'recipe', 'was', 'not', 'used', ',', 'and', 'obtaining', 'the', 'unprocessed', 'Ames', 'strain', 'of', 'anthrax', 'used', 'does', 'not', 'warrant', 'the', 'weight', 'given', 'it', 'by', 'some', 'press', 'accounts', '.']\n",
      "['DET', 'PROPN', 'PROPN', 'NOUN', 'AUX', 'PART', 'VERB', 'PUNCT', 'CONJ', 'VERB', 'DET', 'ADJ', 'PROPN', 'NOUN', 'ADP', 'NOUN', 'VERB', 'AUX', 'PART', 'VERB', 'DET', 'NOUN', 'VERB', 'PRON', 'ADP', 'DET', 'NOUN', 'NOUN', 'PUNCT']\n",
      "['There', 'was', 'lax', 'control', 'over', 'the', 'distribution', 'of', 'the', 'Ames', 'strain', 'that', 'was', 'used', ',', 'especially', 'in', 'light', 'of', 'the', 'fact', 'that', 'transfers', 'were', 'not', 'even', 'required', 'to', 'be', 'recorded', 'prior', 'to', '1997', '.']\n",
      "['PRON', 'VERB', 'ADJ', 'NOUN', 'ADP', 'DET', 'NOUN', 'ADP', 'DET', 'PROPN', 'NOUN', 'PRON', 'AUX', 'VERB', 'PUNCT', 'ADV', 'ADP', 'NOUN', 'ADP', 'DET', 'NOUN', 'SCONJ', 'NOUN', 'AUX', 'PART', 'ADV', 'VERB', 'PART', 'AUX', 'VERB', 'ADJ', 'ADP', 'NUM', 'PUNCT']\n",
      "['Significantly', ',', 'the', 'individual', 'who', 'isolated', 'it', 'nearly', 'a', 'quarter', 'century', 'ago', '(', 'now', 'retired', ')', ',', 'upon', 'being', 'contacted', ',', 'does', 'not', 'even', 'report', 'that', 'he', 'necessarily', 'sent', 'the', 'only', 'copy', 'of', 'the', 'strain', 'to', 'Ft.', 'Detrick', '.']\n",
      "['ADV', 'PUNCT', 'DET', 'ADJ', 'PRON', 'VERB', 'PRON', 'ADV', 'DET', 'ADJ', 'NOUN', 'ADV', 'PUNCT', 'ADV', 'ADJ', 'PUNCT', 'PUNCT', 'SCONJ', 'AUX', 'VERB', 'PUNCT', 'AUX', 'PART', 'ADV', 'VERB', 'SCONJ', 'PRON', 'ADV', 'VERB', 'DET', 'ADJ', 'NOUN', 'ADP', 'DET', 'NOUN', 'ADP', 'PROPN', 'PROPN', 'PUNCT']\n",
      "['Senator', 'Patrick', 'Leahy', 'at', 'a', 'Congressional', 'hearing', 'in', 'the', 'Spring', 'of', '2002', 'noted', 'that', 'the', 'FBI', 'had', 'collected', 'the', 'Ames', 'strain', 'from', '20', 'sources', '.']\n",
      "['PROPN', 'PROPN', 'PROPN', 'ADP', 'DET', 'ADJ', 'NOUN', 'ADP', 'DET', 'NOUN', 'ADP', 'NUM', 'VERB', 'SCONJ', 'DET', 'PROPN', 'AUX', 'VERB', 'DET', 'PROPN', 'NOUN', 'ADP', 'NUM', 'NOUN', 'PUNCT']\n",
      "['In', 'Fall', '2004', ',', 'MSNBC', ',', 'relying', 'on', 'an', 'unnamed', 'FBI', 'spokesperson', ',', 'reports', 'that', 'the', 'FBI', 'has', 'narrowed', 'the', 'pool', 'of', 'labs', 'known', 'to', 'have', 'had', 'Ames', 'that', 'was', 'a', 'match', 'from', '16', 'to', '4', 'but', 'can', 'not', 'rule', 'out', 'that', 'it', 'was', 'made', 'overseas', '.']\n",
      "['ADP', 'NOUN', 'NUM', 'PUNCT', 'PROPN', 'PUNCT', 'VERB', 'ADP', 'DET', 'ADJ', 'PROPN', 'NOUN', 'PUNCT', 'VERB', 'SCONJ', 'DET', 'PROPN', 'AUX', 'VERB', 'DET', 'NOUN', 'ADP', 'NOUN', 'VERB', 'PART', 'AUX', 'VERB', 'PROPN', 'PRON', 'VERB', 'DET', 'NOUN', 'ADP', 'NUM', 'ADP', 'NUM', 'CONJ', 'AUX', 'PART', 'VERB', 'ADP', 'SCONJ', 'PRON', 'AUX', 'VERB', 'ADV', 'PUNCT']\n",
      "['Al', 'Qaeda', \"'s\", 'anthrax', 'production', 'plans', 'on', 'Khalid', 'Mohammed', \"'s\", 'computer', 'did', 'not', 'evidence', 'knowledge', 'of', 'advanced', 'techniques', 'in', 'the', 'most', 'efficient', 'biological', 'weapons', '.']\n",
      "['PROPN', 'PROPN', 'PART', 'NOUN', 'NOUN', 'NOUN', 'ADP', 'PROPN', 'PROPN', 'PART', 'NOUN', 'AUX', 'PART', 'VERB', 'NOUN', 'ADP', 'ADJ', 'NOUN', 'ADP', 'DET', 'ADV', 'ADJ', 'ADJ', 'NOUN', 'PUNCT']\n",
      "['At', 'least', 'according', 'to', 'the', 'public', 'comments', 'by', 'bioweaponeer', 'experts', 'William', 'Patrick', 'and', 'Kenneth', 'Alibek', ',', 'under', 'the', 'optimal', 'method', ',', 'there', 'is', 'no', 'electrostatic', 'charge', '.']\n",
      "['ADV', 'ADV', 'VERB', 'ADP', 'DET', 'ADJ', 'NOUN', 'ADP', 'NOUN', 'NOUN', 'PROPN', 'PROPN', 'CONJ', 'PROPN', 'PROPN', 'PUNCT', 'ADP', 'DET', 'ADJ', 'NOUN', 'PUNCT', 'PRON', 'VERB', 'DET', 'ADJ', 'NOUN', 'PUNCT']\n",
      "['In', 'the', 'case', 'of', 'the', 'anthrax', 'used', 'in', 'the', 'mailings', ',', 'there', 'was', 'an', 'electrostatic', 'charge', '.']\n",
      "['ADP', 'DET', 'NOUN', 'ADP', 'DET', 'NOUN', 'VERB', 'ADP', 'DET', 'NOUN', 'PUNCT', 'PRON', 'VERB', 'DET', 'ADJ', 'NOUN', 'PUNCT']\n",
      "['Although', 'there', 'was', 'a', 'dominance', 'of', 'single', 'spores', 'and', 'a', 'trillion', 'spore', 'concentration', ',', 'there', 'were', 'clumps', 'as', 'large', 'as', '40', '-', '100', 'microns', '.']\n",
      "['SCONJ', 'ADV', 'VERB', 'DET', 'NOUN', 'ADP', 'ADJ', 'NOUN', 'CONJ', 'DET', 'NUM', 'NOUN', 'NOUN', 'PUNCT', 'PRON', 'VERB', 'NOUN', 'ADV', 'ADJ', 'ADP', 'NUM', 'SYM', 'NUM', 'NOUN', 'PUNCT']\n",
      "['(', 'Spores', 'must', 'be', 'no', 'bigger', 'than', '5', 'microns', 'to', 'be', 'inhalable', '.', ')']\n",
      "['PUNCT', 'NOUN', 'AUX', 'VERB', 'ADV', 'ADJ', 'ADP', 'NUM', 'NOUN', 'PART', 'VERB', 'ADJ', 'PUNCT', 'PUNCT']\n",
      "['Many', 'point', 'to', 'the', 'trillion', 'spore', 'concentration', 'as', 'extraordinary', '.']\n",
      "['ADJ', 'VERB', 'ADP', 'DET', 'NUM', 'NOUN', 'NOUN', 'ADP', 'ADJ', 'PUNCT']\n",
      "['It', 'is', 'far', 'simpler', ',', 'however', ',', 'to', 'achieve', 'a', 'trillion', 'spore', 'concentration', 'in', 'the', 'production', 'of', 'a', 'few', 'grams', 'than', 'in', 'industrial', 'processing', 'typical', 'of', 'a', 'state', 'sponsored', 'lab', '.']\n",
      "['PRON', 'VERB', 'ADV', 'ADJ', 'PUNCT', 'ADV', 'PUNCT', 'PART', 'VERB', 'DET', 'NUM', 'NOUN', 'NOUN', 'ADP', 'DET', 'NOUN', 'ADP', 'DET', 'ADJ', 'NOUN', 'ADP', 'ADP', 'ADJ', 'NOUN', 'ADJ', 'ADP', 'DET', 'NOUN', 'VERB', 'NOUN', 'PUNCT']\n",
      "['The', '\"', 'trillion', 'spore', '\"', 'issue', 'was', 'at', 'the', 'heart', 'of', 'a', 'lot', 'of', 'mistaken', 'theories', 'of', 'the', 'matter', 'concluding', 'that', 'state', 'sponsorship', 'was', 'necessarily', 'indicated', '.']\n",
      "['DET', 'PUNCT', 'NUM', 'NOUN', 'PUNCT', 'NOUN', 'VERB', 'ADP', 'DET', 'NOUN', 'ADP', 'DET', 'NOUN', 'ADP', 'ADJ', 'NOUN', 'ADP', 'DET', 'NOUN', 'VERB', 'SCONJ', 'NOUN', 'NOUN', 'AUX', 'ADV', 'VERB', 'PUNCT']\n",
      "['The', 'reported', 'finding', 'at', 'Dugway', 'undermines', 'the', 'argument', 'of', 'both', 'the', '\"', 'bomb', 'Iraq', '\"', 'crowd', 'and', 'the', 'liberals', 'focused', 'on', 'Dr.', 'Steve', 'Hatfill', 'who', 'object', 'to', 'US', 'biodefense', 'research', 'because', 'they', 'view', 'it', 'as', 'being', 'useful', 'for', 'offensive', 'purposes', '.']\n",
      "['DET', 'VERB', 'NOUN', 'ADP', 'PROPN', 'VERB', 'DET', 'NOUN', 'ADP', 'CONJ', 'DET', 'PUNCT', 'VERB', 'PROPN', 'PUNCT', 'NOUN', 'CONJ', 'DET', 'NOUN', 'ADJ', 'ADP', 'PROPN', 'PROPN', 'PROPN', 'PRON', 'VERB', 'ADP', 'PROPN', 'NOUN', 'NOUN', 'SCONJ', 'PRON', 'VERB', 'PRON', 'SCONJ', 'VERB', 'ADJ', 'ADP', 'ADJ', 'NOUN', 'PUNCT']\n",
      "['USDA', 'employee', 'Johnelle', 'Bryant', 'first', 'told', 'us', ',', 'in', 'sensational', 'detail', ',', 'of', 'Atta', \"'s\", 'inquiries', 'about', 'purchasing', 'and', 'retrofitting', 'a', 'cropduster', '.']\n",
      "['PROPN', 'NOUN', 'PROPN', 'PROPN', 'ADV', 'VERB', 'PRON', 'PUNCT', 'ADP', 'ADJ', 'NOUN', 'PUNCT', 'ADP', 'PROPN', 'PART', 'NOUN', 'SCONJ', 'VERB', 'CONJ', 'VERB', 'DET', 'NOUN', 'PUNCT']\n",
      "['Khalid', 'Mohammed', 'then', 'told', 'interrogators', 'that', 'Zacarias', 'Moussaoui', \"'s\", 'inquiries', 'about', 'crop', 'dusting', 'may', 'have', 'related', 'to', 'Yazid', 'Sufaat', \"'s\", 'anthrax', 'manufacturing', 'plans', '.']\n",
      "['PROPN', 'PROPN', 'ADV', 'VERB', 'NOUN', 'SCONJ', 'PROPN', 'PROPN', 'PART', 'NOUN', 'ADP', 'NOUN', 'NOUN', 'AUX', 'AUX', 'VERB', 'ADP', 'PROPN', 'PROPN', 'PART', 'NOUN', 'NOUN', 'NOUN', 'PUNCT']\n",
      "['Although', 'the', 'details', 'of', 'the', 'documents', 'on', 'Mohammed', \"'s\", 'computer', 'may', '(', 'or', 'may', 'not', ')', 'point', 'to', 'possible', 'difficulties', 'in', 'aerial', 'dispersal', ',', 'they', 'are', 'fully', 'consistent', 'with', 'the', 'product', 'used', 'in', 'the', 'anthrax', 'mailings', '.']\n",
      "['SCONJ', 'DET', 'NOUN', 'ADP', 'DET', 'NOUN', 'ADP', 'PROPN', 'PART', 'NOUN', 'AUX', 'PUNCT', 'CONJ', 'AUX', 'PART', 'PUNCT', 'VERB', 'ADP', 'ADJ', 'NOUN', 'ADP', 'ADJ', 'NOUN', 'PUNCT', 'PRON', 'VERB', 'ADV', 'ADJ', 'ADP', 'DET', 'NOUN', 'VERB', 'ADP', 'DET', 'NOUN', 'NOUN', 'PUNCT']\n",
      "['Al', 'Qaeda', 'had', 'both', 'the', 'means', 'and', 'opportunity', '.']\n",
      "['PROPN', 'PROPN', 'VERB', 'CONJ', 'DET', 'NOUN', 'CONJ', 'NOUN', 'PUNCT']\n",
      "['US', '-', 'trained', 'Malaysian', 'biochemist', 'Yazid', 'Sufaat', 'met', 'with', '9/11', 'plotters', 'and', 'two', 'hijackers', 'in', 'January', '2000', '.']\n",
      "['PROPN', 'PUNCT', 'VERB', 'ADJ', 'NOUN', 'PROPN', 'PROPN', 'VERB', 'ADP', 'NUM', 'NOUN', 'CONJ', 'NUM', 'NOUN', 'ADP', 'PROPN', 'NUM', 'PUNCT']\n",
      "['Sufaat', 'was', 'a', 'member', 'of', 'Al', 'Qaeda', 'and', 'a', 'member', 'of', 'Jemaah', 'Islamiah', '(', '\"', 'JI', '\"', ')', '.']\n",
      "['PROPN', 'VERB', 'DET', 'NOUN', 'ADP', 'PROPN', 'PROPN', 'CONJ', 'DET', 'NOUN', 'ADP', 'PROPN', 'PROPN', 'PUNCT', 'PUNCT', 'PROPN', 'PUNCT', 'PUNCT', 'PUNCT']\n",
      "['JI', 'has', 'ties', 'with', 'the', 'Moro', 'Front', '.']\n",
      "['PROPN', 'VERB', 'NOUN', 'ADP', 'DET', 'PROPN', 'PROPN', 'PUNCT']\n",
      "['Sufaat', 'used', 'his', 'company', 'called', 'Green', 'Laboratory', 'Medicine', 'to', 'buy', 'items', 'useful', 'to', 'Al', 'Qaeda', '.']\n",
      "['PROPN', 'VERB', 'PRON', 'NOUN', 'VERB', 'PROPN', 'PROPN', 'PROPN', 'PART', 'VERB', 'NOUN', 'ADJ', 'ADP', 'PROPN', 'PROPN', 'PUNCT']\n",
      "['(', 'Green', 'symbolizes', '\"', 'Islam', '\"', 'and', 'Prophet', 'Mohammed', \"'s\", 'holy', 'war', ')', '.']\n",
      "['PUNCT', 'NOUN', 'VERB', 'PUNCT', 'PROPN', 'PUNCT', 'CONJ', 'PROPN', 'PROPN', 'PART', 'ADJ', 'NOUN', 'PUNCT', 'PUNCT']\n",
      "['Zacarias', 'Moussaoui', ',', 'who', 'had', 'a', 'crop', 'dusting', 'manual', 'when', 'he', 'was', 'arrested', ',', 'stayed', 'at', 'Sufaat', \"'s\", 'condominium', 'in', '2000', 'when', 'he', 'was', 'trying', 'to', 'arrange', 'for', 'flight', 'lessons', 'in', 'Malaysia', '.']\n",
      "['PROPN', 'PROPN', 'PUNCT', 'PRON', 'VERB', 'DET', 'NOUN', 'NOUN', 'NOUN', 'ADV', 'PRON', 'AUX', 'VERB', 'PUNCT', 'VERB', 'ADP', 'PROPN', 'PART', 'NOUN', 'ADP', 'NUM', 'ADV', 'PRON', 'AUX', 'VERB', 'PART', 'VERB', 'ADP', 'NOUN', 'NOUN', 'ADP', 'PROPN', 'PUNCT']\n",
      "['Yazid', 'Sufaat', 'provided', 'Moussaoui', 'with', 'a', 'letter', 'indicating', 'that', 'he', 'was', 'a', 'marketing', 'representative', 'for', 'Infocus', 'Technologies', 'and', 'allegedly', 'provided', 'him', '$', '35,000', '.']\n",
      "['PROPN', 'PROPN', 'VERB', 'PROPN', 'ADP', 'DET', 'NOUN', 'VERB', 'SCONJ', 'PRON', 'VERB', 'DET', 'NOUN', 'NOUN', 'ADP', 'PROPN', 'PROPN', 'CONJ', 'ADV', 'VERB', 'PRON', 'SYM', 'NUM', 'PUNCT']\n",
      "['The', 'crop', 'dusters', 'were', 'to', 'be', 'part', 'of', 'a', '\"', 'second', 'wave', '.', '\"']\n",
      "['DET', 'NOUN', 'NOUN', 'VERB', 'PART', 'VERB', 'NOUN', 'ADP', 'DET', 'PUNCT', 'ADJ', 'NOUN', 'PUNCT', 'PUNCT']\n",
      "['After', '9/11', ',', 'Yazid', 'Sufaat', 'traveled', 'to', 'Afghanistan', 'and', 'Pakistan', 'to', 'work', 'for', 'the', 'Taliban', 'Medical', 'Brigade', 'and', 'to', 'continue', 'his', 'work', 'with', 'anthrax', '.']\n",
      "['ADP', 'NUM', 'PUNCT', 'PROPN', 'PROPN', 'VERB', 'ADP', 'PROPN', 'CONJ', 'PROPN', 'PART', 'VERB', 'ADP', 'DET', 'PROPN', 'PROPN', 'PROPN', 'CONJ', 'PART', 'VERB', 'PRON', 'NOUN', 'ADP', 'NOUN', 'PUNCT']\n",
      "['As', 'described', 'in', 'US', 'News', ',', 'a', 'former', 'reporter', 'from', 'the', 'Kabul', 'Times', 'actually', 'may', 'have', 'met', 'Sufaat', ',', 'without', 'realizing', 'it', ',', 'while', 'traveling', 'near', 'Kabul', 'in', 'October', '2001', ',', 'perceiving', 'him', 'as', 'Filipino', '.']\n",
      "['SCONJ', 'VERB', 'ADP', 'PROPN', 'PROPN', 'PUNCT', 'DET', 'ADJ', 'NOUN', 'ADP', 'DET', 'PROPN', 'PROPN', 'ADV', 'AUX', 'AUX', 'VERB', 'PROPN', 'PUNCT', 'SCONJ', 'VERB', 'PRON', 'PUNCT', 'SCONJ', 'VERB', 'ADP', 'PROPN', 'ADP', 'PROPN', 'NUM', 'PUNCT', 'VERB', 'PRON', 'ADP', 'ADJ', 'PUNCT']\n",
      "['The', 'fellow', 'was', 'carrying', 'papers', 'from', 'Zawahiri', 'and', 'bragging', 'about', 'his', 'ability', 'to', 'manipulate', 'anthrax', '.']\n",
      "['DET', 'NOUN', 'AUX', 'VERB', 'NOUN', 'ADP', 'PROPN', 'CONJ', 'VERB', 'ADP', 'PRON', 'NOUN', 'PART', 'VERB', 'NOUN', 'PUNCT']\n",
      "['Sufaat', 'was', 'arrested', 'in', 'December', '2001', 'upon', 'his', 'return', 'to', 'Malaysia', '.']\n",
      "['PROPN', 'AUX', 'VERB', 'ADP', 'PROPN', 'NUM', 'ADP', 'PRON', 'NOUN', 'ADP', 'PROPN', 'PUNCT']\n",
      "['Newsweek', 'reported', 'that', 'a', '\"', 'second', 'wave', '\"', 'involving', 'biological', 'attacks', 'had', 'been', 'thwarted', 'upon', 'the', 'arrest', 'of', 'Al', 'Qaeda', 'members', 'who', 'had', 'been', 'intended', 'to', 'provide', 'logistical', 'support', '.']\n",
      "['PROPN', 'VERB', 'SCONJ', 'DET', 'PUNCT', 'ADJ', 'NOUN', 'PUNCT', 'VERB', 'ADJ', 'NOUN', 'AUX', 'AUX', 'VERB', 'ADP', 'DET', 'NOUN', 'ADP', 'PROPN', 'PROPN', 'NOUN', 'PRON', 'AUX', 'AUX', 'VERB', 'PART', 'VERB', 'ADJ', 'NOUN', 'PUNCT']\n",
      "['Various', 'doctors', ',', 'both', 'foreign', 'and', 'American', ',', 'are', 'associated', 'with', 'Al', 'Qaeda', 'leaders', 'or', 'operatives', ',', 'to', 'include', 'the', 'doctors', 'Abdul', 'Qadoos', 'Khan', ',', 'a', 'bacteriologist', 'from', 'Rawalpindi', 'and', 'Aafia', 'Siddiqui', ',', 'PhD', ',', 'from', 'Karachi', '.']\n",
      "['ADJ', 'NOUN', 'PUNCT', 'CONJ', 'ADJ', 'CONJ', 'ADJ', 'PUNCT', 'AUX', 'VERB', 'ADP', 'PROPN', 'PROPN', 'NOUN', 'CONJ', 'NOUN', 'PUNCT', 'PART', 'VERB', 'DET', 'NOUN', 'PROPN', 'PROPN', 'PROPN', 'PUNCT', 'DET', 'NOUN', 'ADP', 'PROPN', 'CONJ', 'PROPN', 'PROPN', 'PUNCT', 'NOUN', 'PUNCT', 'ADP', 'PROPN', 'PUNCT']\n",
      "['Microbiologist', 'Abdul', 'Qadoos', 'Khan', 'was', 'charged', 'along', 'with', 'his', 'son', ',', 'Ahmed', ',', 'for', 'harboring', 'the', 'fugitives', '.']\n",
      "['NOUN', 'PROPN', 'PROPN', 'PROPN', 'AUX', 'VERB', 'ADP', 'ADP', 'PRON', 'NOUN', 'PUNCT', 'PROPN', 'PUNCT', 'SCONJ', 'VERB', 'DET', 'NOUN', 'PUNCT']\n",
      "['As', 'of', 'March', '28', ',', '2003', ',', 'he', 'was', 'in', 'a', 'hospital', 'for', 'a', 'cardiac', 'problem', 'and', 'had', 'been', 'granted', '\"', 'pre-arrest', 'bail', '.', '\"']\n",
      "['ADP', 'ADP', 'PROPN', 'NUM', 'PUNCT', 'NUM', 'PUNCT', 'PRON', 'VERB', 'ADP', 'DET', 'NOUN', 'ADP', 'DET', 'ADJ', 'NOUN', 'CONJ', 'AUX', 'AUX', 'VERB', 'PUNCT', 'ADJ', 'NOUN', 'PUNCT', 'PUNCT']\n",
      "['Yet', 'all', 'you', 'read', 'about', 'at', 'the', 'time', 'was', 'the', 'arrest', 'of', 'the', 'son', 'Ahmed', 'Abdul', 'Qadoos', ',', 'who', 'receives', 'a', 'stipend', 'from', 'the', 'UN', 'for', 'being', 'officially', 'low', '-', 'IQ', 'due', 'to', 'lead', 'poisoning', '.']\n",
      "['CONJ', 'DET', 'PRON', 'VERB', 'ADP', 'ADP', 'DET', 'NOUN', 'VERB', 'DET', 'NOUN', 'ADP', 'DET', 'NOUN', 'PROPN', 'PROPN', 'PROPN', 'PUNCT', 'PRON', 'VERB', 'DET', 'NOUN', 'ADP', 'DET', 'PROPN', 'SCONJ', 'VERB', 'ADV', 'ADJ', 'PUNCT', 'NOUN', 'ADP', 'ADP', 'NOUN', 'NOUN', 'PUNCT']\n",
      "['It', 'was', 'Khalid', 'Mohammed', 'who', 'told', 'authorities', 'about', 'Aafia', 'Siddiqui', ',', 'who', 'has', 'a', 'PhD', 'from', 'Brandeis', 'in', 'neurology', '.']\n",
      "['PRON', 'VERB', 'PROPN', 'PROPN', 'PRON', 'VERB', 'NOUN', 'ADP', 'PROPN', 'PROPN', 'PUNCT', 'PRON', 'VERB', 'DET', 'NOUN', 'ADP', 'PROPN', 'ADP', 'NOUN', 'PUNCT']\n",
      "['The', 'Pakistani', 'press', 'reported', 'that', 'she', 'was', 'nabbed', 'in', 'Karachi', 'after', 'being', 'spotted', 'at', 'the', 'airport', 'in', 'late', 'March', 'or', 'early', 'April', '2003', '.']\n",
      "['DET', 'ADJ', 'NOUN', 'VERB', 'SCONJ', 'PRON', 'AUX', 'VERB', 'ADP', 'PROPN', 'SCONJ', 'AUX', 'VERB', 'ADP', 'DET', 'NOUN', 'ADP', 'ADJ', 'PROPN', 'CONJ', 'ADJ', 'PROPN', 'NUM', 'PUNCT']\n",
      "['If', 'mistaken', ',', 'how', 'did', 'those', 'reports', 'first', 'come', 'about', '?']\n",
      "['SCONJ', 'ADJ', 'PUNCT', 'ADV', 'AUX', 'DET', 'NOUN', 'ADV', 'VERB', 'ADP', 'PUNCT']\n",
      "['Understandably', ',', 'Amerithrax', 'is', 'a', 'confidential', 'investigation', '.']\n",
      "['ADV', 'PUNCT', 'PROPN', 'VERB', 'DET', 'ADJ', 'NOUN', 'PUNCT']\n",
      "['The', 'Pakistan', 'ISI', 'and', 'CIA', 'rarely', 'grant', 'press', 'interviews', 'in', 'connection', 'with', 'an', 'ongoing', 'manhunt', '.']\n",
      "['DET', 'PROPN', 'PROPN', 'CONJ', 'PROPN', 'ADV', 'VERB', 'NOUN', 'NOUN', 'ADP', 'NOUN', 'ADP', 'DET', 'ADJ', 'NOUN', 'PUNCT']\n",
      "['The', 'CIA', 'did', 'not', 'even', 'allow', 'the', 'FBI', 'access', 'to', 'KSM', 'for', '10', 'days', 'after', 'his', 'arrest', '.']\n",
      "['DET', 'PROPN', 'AUX', 'PART', 'ADV', 'VERB', 'DET', 'PROPN', 'NOUN', 'ADP', 'PROPN', 'ADP', 'NUM', 'NOUN', 'ADP', 'PRON', 'NOUN', 'PUNCT']\n",
      "['As', 'agent', 'Van', 'Harp', ',', 'then', 'head', 'of', 'the', 'Amerithrax', 'investigation', 'said', ',', 'the', 'information', 'coming', 'from', 'Khalid', 'Mohammed', 'is', 'classified', 'with', 'the', 'authorities', 'releasing', 'only', 'certain', 'limited', 'information', '.']\n",
      "['SCONJ', 'NOUN', 'PROPN', 'PROPN', 'PUNCT', 'ADV', 'NOUN', 'ADP', 'DET', 'PROPN', 'NOUN', 'VERB', 'PUNCT', 'DET', 'NOUN', 'VERB', 'ADP', 'PROPN', 'PROPN', 'VERB', 'ADJ', 'SCONJ', 'DET', 'NOUN', 'VERB', 'ADV', 'ADJ', 'ADJ', 'NOUN', 'PUNCT']\n",
      "['While', 'it', \"'s\", 'not', 'easy', 'to', 'separate', 'fact', 'from', 'fiction', ',', 'Attorney', 'General', 'Ashcroft', 'and', 'Director', 'Mueller', 'have', 'publicly', 'confirmed', 'Aafia', 'is', 'still', 'being', 'sought', '.']\n",
      "['SCONJ', 'PRON', 'VERB', 'PART', 'ADJ', 'PART', 'VERB', 'NOUN', 'ADP', 'NOUN', 'PUNCT', 'PROPN', 'PROPN', 'PROPN', 'CONJ', 'PROPN', 'PROPN', 'AUX', 'ADV', 'VERB', 'PROPN', 'AUX', 'ADV', 'AUX', 'VERB', 'PUNCT']\n",
      "['They', 'would', 'know', '.']\n",
      "['PRON', 'AUX', 'VERB', 'PUNCT']\n",
      "['Her', 'mother', 'Ismat', 'last', 'saw', 'Aafia', 'and', 'her', 'grandchildren', 'before', 'they', 'left', 'in', 'a', 'minicab', 'at', 'the', 'end', 'of', 'March', '.']\n",
      "['PRON', 'NOUN', 'PROPN', 'ADV', 'VERB', 'PROPN', 'CONJ', 'PRON', 'NOUN', 'SCONJ', 'PRON', 'VERB', 'ADP', 'DET', 'NOUN', 'ADP', 'DET', 'NOUN', 'ADP', 'PROPN', 'PUNCT']\n",
      "['Aafia', 'was', 'on', 'her', 'way', 'with', 'her', 'children', 'to', 'visit', 'and', 'uncle', 'and', 'a', 'friend', 'in', 'Islamabad', '.']\n",
      "['PROPN', 'VERB', 'ADP', 'PRON', 'NOUN', 'ADP', 'PRON', 'NOUN', 'PART', 'VERB', 'DET', 'NOUN', 'CONJ', 'DET', 'NOUN', 'ADP', 'PROPN', 'PUNCT']\n",
      "['According', 'to', 'the', 'Pakistan', 'reports', ',', 'Aafia', 'Siddiqui', 'was', 'detained', 'after', 'being', 'spotted', 'at', 'Karachi', 'International', 'airport', '(', 'after', 'she', 'was', 'followed', 'to', 'a', 'relative', \"'s\", 'house', ')', '.']\n",
      "['VERB', 'ADP', 'DET', 'PROPN', 'NOUN', 'PUNCT', 'PROPN', 'PROPN', 'AUX', 'VERB', 'SCONJ', 'AUX', 'VERB', 'ADP', 'PROPN', 'PROPN', 'PROPN', 'PUNCT', 'SCONJ', 'PRON', 'AUX', 'VERB', 'ADP', 'DET', 'NOUN', 'PART', 'NOUN', 'PUNCT', 'PUNCT']\n",
      "['(', 'Karachi', 'is', 'in', 'the', 'south', ')', '.']\n",
      "['PUNCT', 'PROPN', 'VERB', 'ADP', 'DET', 'NOUN', 'PUNCT', 'PUNCT']\n",
      "['The', 'reports', 'say', 'she', 'is', 'suspected', 'of', 'having', 'been', 'a', 'member', 'of', 'Al', 'Qaeda', \"'s\", '\"', 'Chemical', 'Wire', 'Group', '.', '\"']\n",
      "['DET', 'NOUN', 'VERB', 'PRON', 'AUX', 'VERB', 'SCONJ', 'AUX', 'VERB', 'DET', 'NOUN', 'ADP', 'PROPN', 'PROPN', 'PART', 'PUNCT', 'PROPN', 'PROPN', 'PROPN', 'PUNCT', 'PUNCT']\n",
      "['The', 'family', \"'s\", 'lawyer', 'advises', 'me', 'that', 'Aafia', 'did', 'not', 'have', 'enough', 'money', 'to', 'pay', 'for', 'airfare', 'tickets', 'for', 'herself', 'and', 'the', 'kids', 'and', 'called', 'Ismat', 'from', 'the', 'train', 'station', '.']\n",
      "['DET', 'NOUN', 'PART', 'NOUN', 'VERB', 'PRON', 'SCONJ', 'PROPN', 'AUX', 'PART', 'VERB', 'ADJ', 'NOUN', 'PART', 'VERB', 'ADP', 'NOUN', 'NOUN', 'ADP', 'PRON', 'CONJ', 'DET', 'NOUN', 'CONJ', 'VERB', 'PROPN', 'ADP', 'DET', 'NOUN', 'NOUN', 'PUNCT']\n",
      "['That', 'was', 'the', 'last', 'Ismat', 'heard', 'from', 'her', '.']\n",
      "['PRON', 'VERB', 'DET', 'ADJ', 'PROPN', 'VERB', 'ADP', 'PRON', 'PUNCT']\n",
      "['Aafia', 'never', 'reached', 'the', 'uncle', \"'s\", 'house', '.']\n",
      "['PROPN', 'ADV', 'VERB', 'DET', 'NOUN', 'PART', 'NOUN', 'PUNCT']\n",
      "['Perhaps', 'something', 'got', 'lost', 'in', 'the', 'translation', ',', 'but', 'the', 'phrase', '\"', 'Chemical', 'Wire', 'Group', '\"', 'has', 'appeared', 'in', 'all', 'the', 'english', 'Pakistan', 'and', 'India', 'papers', '.']\n",
      "['ADV', 'PRON', 'VERB', 'ADJ', 'ADP', 'DET', 'NOUN', 'PUNCT', 'CONJ', 'DET', 'NOUN', 'PUNCT', 'PROPN', 'PROPN', 'PROPN', 'PUNCT', 'AUX', 'VERB', 'ADP', 'DET', 'DET', 'PROPN', 'PROPN', 'CONJ', 'PROPN', 'NOUN', 'PUNCT']\n",
      "['The', 'family', \"'s\", 'attorney', 'advises', 'me', 'that', 'Aafia', 'had', 'no', 'knowledge', 'of', 'chemicals', '(', 'and', 'that', 'would', 'not', 'appear', 'to', 'be', 'her', 'training', ')', '.']\n",
      "['DET', 'NOUN', 'PART', 'NOUN', 'VERB', 'PRON', 'SCONJ', 'PROPN', 'VERB', 'DET', 'NOUN', 'ADP', 'NOUN', 'PUNCT', 'CONJ', 'PRON', 'AUX', 'PART', 'VERB', 'PART', 'VERB', 'PRON', 'NOUN', 'PUNCT', 'PUNCT']\n",
      "['There', 'still', 'is', 'a', 'very', 'hot', 'pursuit', 'of', 'the', '\"', 'Atta', '-', 'level', '\"', 'Floridian', ',', 'Adnan', 'El', 'Shukrijumah', ',', 'who', 'Siddiqui', 'is', 'thought', 'to', 'have', 'known', 'and', 'been', 'assisting', '.']\n",
      "['PRON', 'ADV', 'VERB', 'DET', 'ADV', 'ADJ', 'NOUN', 'ADP', 'DET', 'PUNCT', 'PROPN', 'PUNCT', 'NOUN', 'PUNCT', 'PROPN', 'PUNCT', 'PROPN', 'PROPN', 'PROPN', 'PUNCT', 'PRON', 'PROPN', 'AUX', 'VERB', 'PART', 'AUX', 'VERB', 'CONJ', 'AUX', 'VERB', 'PUNCT']\n",
      "['His', 'nickname', 'is', '\"', 'Jafar', 'the', 'Pilot', '.', '\"']\n",
      "['PRON', 'NOUN', 'VERB', 'PUNCT', 'PROPN', 'DET', 'PROPN', 'PUNCT', 'PUNCT']\n",
      "['A', 'senior', 'DOJ', 'official', 'reports', 'that', 'Adnan', 'has', 'experience', 'as', 'a', 'commercial', 'pilot', '.']\n",
      "['DET', 'ADJ', 'PROPN', 'NOUN', 'VERB', 'SCONJ', 'PROPN', 'VERB', 'NOUN', 'ADP', 'DET', 'ADJ', 'NOUN', 'PUNCT']\n",
      "['He', 'is', 'said', 'by', 'one', 'FBI', 'agent', 'to', 'be', '\"', 'very', ',', 'very', ',', 'very', '\"', 'dangerous', '.']\n",
      "['PRON', 'AUX', 'VERB', 'ADP', 'NUM', 'PROPN', 'NOUN', 'PART', 'VERB', 'PUNCT', 'ADV', 'PUNCT', 'ADV', 'PUNCT', 'ADV', 'PUNCT', 'ADJ', 'PUNCT']\n",
      "['He', 'allegedly', 'was', 'at', 'one', 'or', 'more', 'meetings', 'in', 'the', 'Summer', 'of', '2001', 'in', 'Pakistan', 'at', 'which', 'KSM', 'and', 'Sufaat', 'were', 'present', '.']\n",
      "['PRON', 'ADV', 'VERB', 'ADP', 'NUM', 'CONJ', 'ADJ', 'NOUN', 'ADP', 'DET', 'NOUN', 'ADP', 'NUM', 'ADP', 'PROPN', 'ADP', 'PRON', 'PROPN', 'CONJ', 'PROPN', 'VERB', 'ADJ', 'PUNCT']\n",
      "['He', 'may', 'have', 'been', 'seen', 'in', 'Hamilton', ',', 'Canada', '--', 'along', 'with', 'Egyptian', 'al', '-', 'Maati', ',', 'who', 'apparently', 'also', 'has', 'received', 'pilot', 'training', '.']\n",
      "['PRON', 'AUX', 'AUX', 'AUX', 'VERB', 'ADP', 'PROPN', 'PUNCT', 'PROPN', 'PUNCT', 'ADP', 'ADP', 'PROPN', 'PROPN', 'PUNCT', 'PROPN', 'PUNCT', 'PRON', 'ADV', 'ADV', 'AUX', 'VERB', 'NOUN', 'NOUN', 'PUNCT']\n",
      "['The', 'United', 'States', 'truly', 'no', 'longer', 'has', 'time', 'for', 'faulty', 'analysis', 'or', 'politically', '-', 'based', 'preconceptions', '.']\n",
      "['DET', 'PROPN', 'PROPN', 'ADV', 'ADV', 'ADV', 'VERB', 'NOUN', 'ADP', 'ADJ', 'NOUN', 'CONJ', 'ADV', 'PUNCT', 'VERB', 'NOUN', 'PUNCT']\n",
      "['In', 'early', 'June', '2003', ',', 'a', 'CIA', 'report', 'concluded', 'that', 'the', 'reason', 'for', 'Atta', \"'s\", 'and', 'Zacarias', 'Moussaoui', \"'s\", 'inquiries', 'into', 'cropdusters', 'was', 'in', 'fact', 'for', 'the', 'contemplated', 'use', 'in', 'dispersing', 'biological', 'agents', 'such', 'as', 'anthrax', '.']\n",
      "['ADP', 'ADJ', 'PROPN', 'NUM', 'PUNCT', 'DET', 'PROPN', 'NOUN', 'VERB', 'SCONJ', 'DET', 'NOUN', 'ADP', 'PROPN', 'PART', 'CONJ', 'PROPN', 'PROPN', 'PART', 'NOUN', 'ADP', 'NOUN', 'VERB', 'ADP', 'NOUN', 'ADP', 'DET', 'VERB', 'NOUN', 'SCONJ', 'VERB', 'ADJ', 'NOUN', 'ADJ', 'ADP', 'NOUN', 'PUNCT']\n",
      "['It', 'has', 'long', 'been', 'known', 'Osama', 'Bin', 'Laden', 'was', 'interested', 'in', 'using', 'cropdusters', 'to', 'disperse', 'biological', 'agents', '(', 'since', 'the', 'testimony', 'of', 'millennium', 'bomber', 'Ahmed', 'Ressam', ')', '.']\n",
      "['PRON', 'AUX', 'ADV', 'AUX', 'VERB', 'PROPN', 'PROPN', 'PROPN', 'VERB', 'ADJ', 'SCONJ', 'VERB', 'NOUN', 'PART', 'VERB', 'ADJ', 'NOUN', 'PUNCT', 'ADP', 'DET', 'NOUN', 'ADP', 'NOUN', 'NOUN', 'PROPN', 'PROPN', 'PUNCT', 'PUNCT']\n",
      "['The', 'hijacker', 'Ahmed', 'Alhaznawi', 'appears', 'to', 'have', 'contracted', 'cutaneous', 'anthrax', 'in', 'Afghanistan', '.']\n",
      "['DET', 'NOUN', 'PROPN', 'PROPN', 'VERB', 'PART', 'AUX', 'VERB', 'ADJ', 'NOUN', 'ADP', 'PROPN', 'PUNCT']\n",
      "['It', 'is', 'reasonable', 'to', 'credit', 'his', 'statement', 'that', 'he', 'got', 'the', 'lesion', 'after', 'bumping', 'into', 'a', 'suitcase', 'he', 'was', 'carrying', 'at', 'a', 'camp', 'in', 'Afghanistan', '.']\n",
      "['PRON', 'VERB', 'ADJ', 'PART', 'VERB', 'PRON', 'NOUN', 'SCONJ', 'PRON', 'VERB', 'DET', 'NOUN', 'SCONJ', 'VERB', 'ADP', 'DET', 'NOUN', 'PRON', 'AUX', 'VERB', 'ADP', 'DET', 'NOUN', 'ADP', 'PROPN', 'PUNCT']\n",
      "['The', 'lesion', 'is', 'further', 'evidence', 'of', 'Al', 'Qaeda', \"'s\", 'anthrax', 'production', 'program', 'at', 'Kandahar', '.']\n",
      "['DET', 'NOUN', 'VERB', 'ADJ', 'NOUN', 'ADP', 'PROPN', 'PROPN', 'PART', 'NOUN', 'NOUN', 'NOUN', 'ADP', 'PROPN', 'PUNCT']\n",
      "['The', 'present', 'evidence', 'relating', 'to', 'Atta', \"'s\", 'alleged', 'travel', 'to', 'Prague', 'does', 'not', 'warrant', 'a', 'conclusion', 'that', 'Al', 'Qaeda', 'obtained', 'the', 'Ames', 'strain', 'from', 'Iraq', '.']\n",
      "['DET', 'ADJ', 'NOUN', 'VERB', 'ADP', 'PROPN', 'PART', 'ADJ', 'NOUN', 'ADP', 'PROPN', 'AUX', 'PART', 'VERB', 'DET', 'NOUN', 'SCONJ', 'PROPN', 'PROPN', 'VERB', 'DET', 'PROPN', 'NOUN', 'ADP', 'PROPN', 'PUNCT']\n",
      "['Iraq', ',', 'however', ',', 'remains', 'a', 'possible', 'source', 'of', 'the', 'Ames', '.']\n",
      "['PROPN', 'PUNCT', 'ADV', 'PUNCT', 'VERB', 'DET', 'ADJ', 'NOUN', 'ADP', 'DET', 'PROPN', 'PUNCT']\n",
      "['Former', 'Russian', 'bioweaponeer', 'Ken', 'Alibek', 'has', 'said', 'that', 'a', 'key', 'Russian', 'scientist', 'assisted', 'Iraq', 'and', 'that', 'Russia', 'had', 'the', 'Ames', 'strain', '.']\n",
      "['ADJ', 'ADJ', 'NOUN', 'PROPN', 'PROPN', 'AUX', 'VERB', 'SCONJ', 'DET', 'ADJ', 'ADJ', 'NOUN', 'VERB', 'PROPN', 'CONJ', 'SCONJ', 'PROPN', 'VERB', 'DET', 'PROPN', 'NOUN', 'PUNCT']\n",
      "['(', 'His', 'conclusion', 'may', 'have', 'been', 'based', 'on', 'the', 'fake', 'mobile', 'biolab', 'plans', 'foisted', 'upon', 'the', 'US', 'by', 'the', 'Chalabi', 'associate', '\"', 'Curveball', '\"', ',', 'which', 'Alibek', 'divined', 'to', 'be', 'identical', 'to', 'Russian', 'mobile', 'lab', 'design', ')', '.']\n",
      "['PUNCT', 'PRON', 'NOUN', 'AUX', 'AUX', 'VERB', 'VERB', 'ADP', 'DET', 'ADJ', 'ADJ', 'NOUN', 'NOUN', 'VERB', 'ADP', 'DET', 'PROPN', 'ADP', 'DET', 'PROPN', 'NOUN', 'PUNCT', 'PROPN', 'PUNCT', 'PUNCT', 'PRON', 'PROPN', 'VERB', 'PART', 'VERB', 'ADJ', 'ADP', 'ADJ', 'ADJ', 'NOUN', 'NOUN', 'PUNCT', 'PUNCT']\n",
      "['Zawahiri', 'did', 'travel', 'to', 'Baghdad', 'in', '1998', 'with', 'an', 'entourage', 'to', 'attend', 'the', 'birthday', 'party', 'of', 'Saddam', \"'s\", 'son', '.']\n",
      "['PROPN', 'AUX', 'VERB', 'ADP', 'PROPN', 'ADP', 'NUM', 'ADP', 'DET', 'NOUN', 'PART', 'VERB', 'DET', 'NOUN', 'NOUN', 'ADP', 'PROPN', 'PART', 'NOUN', 'PUNCT']\n",
      "['The', 'papers', 'found', 'at', 'headquarters', 'of', 'the', 'Mukhabarat', ',', 'Iraq', \"'s\", 'secret', 'police', ',', 'show', 'that', 'an', 'entourage', 'from', 'Al', 'Qaeda', 'group', 'was', 'sent', 'to', 'the', 'Iraqi', 'capital', 'in', 'March', '1998', 'from', 'Sudan', '.']\n",
      "['DET', 'NOUN', 'VERB', 'ADP', 'NOUN', 'ADP', 'DET', 'PROPN', 'PUNCT', 'PROPN', 'PART', 'ADJ', 'NOUN', 'PUNCT', 'VERB', 'SCONJ', 'DET', 'NOUN', 'ADP', 'PROPN', 'PROPN', 'NOUN', 'AUX', 'VERB', 'ADP', 'DET', 'ADJ', 'NOUN', 'ADP', 'PROPN', 'NUM', 'ADP', 'PROPN', 'PUNCT']\n",
      "['According', 'to', 'at', 'least', 'some', 'reports', ',', 'Bin', 'Laden', 'rejected', 'the', 'suggestion', 'of', 'a', 'closer', 'alliance', '--', 'preferring', 'to', 'pursue', 'his', 'own', 'concept', 'of', 'jihad', '.']\n",
      "['VERB', 'ADP', 'ADV', 'ADV', 'DET', 'NOUN', 'PUNCT', 'PROPN', 'PROPN', 'VERB', 'DET', 'NOUN', 'ADP', 'DET', 'ADJ', 'NOUN', 'PUNCT', 'VERB', 'PART', 'VERB', 'PRON', 'ADJ', 'NOUN', 'ADP', 'NOUN', 'PUNCT']\n",
      "['Two', 'top', 'Iraqi', 'scientists', ',', 'code', 'named', 'Charlie', 'and', 'Alpha', ',', 'are', 'helping', 'the', 'coalition', 'to', 'learn', 'more', 'about', 'Iraqi', \"'s\", 'anthrax', 'program', ',', 'according', 'to', 'Dr.', 'David', 'Kay', ',', 'head', 'of', 'the', 'Iraq', 'survey', 'group', 'in', 'charge', 'of', 'the', 'hunt', 'for', 'WMD', '.']\n",
      "['NUM', 'ADJ', 'ADJ', 'NOUN', 'PUNCT', 'NOUN', 'VERB', 'PROPN', 'CONJ', 'PROPN', 'PUNCT', 'AUX', 'VERB', 'DET', 'NOUN', 'PART', 'VERB', 'ADJ', 'ADP', 'PROPN', 'PART', 'NOUN', 'NOUN', 'PUNCT', 'VERB', 'ADP', 'PROPN', 'PROPN', 'PROPN', 'PUNCT', 'NOUN', 'ADP', 'DET', 'PROPN', 'NOUN', 'NOUN', 'ADP', 'NOUN', 'ADP', 'DET', 'NOUN', 'ADP', 'PROPN', 'PUNCT']\n",
      "['He', 'has', 'said', 'that', 'the', 'Iraqis', 'made', 'surprising', 'innovations', 'in', 'the', 'milling', 'and', 'drying', 'processes', 'needed', 'to', 'weaponize', 'anthrax', '.']\n",
      "['PRON', 'AUX', 'VERB', 'SCONJ', 'DET', 'PROPN', 'VERB', 'ADJ', 'NOUN', 'ADP', 'DET', 'NOUN', 'CONJ', 'NOUN', 'NOUN', 'VERB', 'PART', 'VERB', 'NOUN', 'PUNCT']\n",
      "['The', 'media', 'coverage', 'has', 'been', 'seriously', 'confused', 'on', 'the', 'issue', 'of', 'motive', 'and', 'the', 'reason', 'Senators', 'Daschle', 'and', 'Leahy', 'would', 'have', 'been', 'targeted', '--', 'tending', 'to', 'simplistically', 'view', 'them', 'as', '\"', 'liberals', '.', '\"']\n",
      "['DET', 'NOUN', 'NOUN', 'AUX', 'VERB', 'ADV', 'ADJ', 'ADP', 'DET', 'NOUN', 'ADP', 'NOUN', 'CONJ', 'DET', 'NOUN', 'PROPN', 'PROPN', 'CONJ', 'PROPN', 'AUX', 'AUX', 'AUX', 'VERB', 'PUNCT', 'VERB', 'PART', 'ADV', 'VERB', 'PRON', 'ADP', 'PUNCT', 'NOUN', 'PUNCT', 'PUNCT']\n",
      "['Zawahiri', 'likely', 'targeted', 'Senators', 'Daschle', 'and', 'Leahy', 'to', 'receive', 'anthrax', 'letters', ',', 'in', 'addition', 'to', 'various', 'media', 'outlets', ',', 'because', 'of', 'the', 'appropriations', 'made', 'pursuant', 'to', 'the', '\"', 'Leahy', 'Law', '\"', 'to', 'military', 'and', 'security', 'forces', '.']\n",
      "['PROPN', 'ADV', 'VERB', 'PROPN', 'PROPN', 'CONJ', 'PROPN', 'PART', 'VERB', 'NOUN', 'NOUN', 'PUNCT', 'ADP', 'NOUN', 'ADP', 'ADJ', 'NOUN', 'NOUN', 'PUNCT', 'ADP', 'ADP', 'DET', 'NOUN', 'VERB', 'ADV', 'ADP', 'DET', 'PUNCT', 'PROPN', 'PROPN', 'PUNCT', 'ADP', 'ADJ', 'CONJ', 'NOUN', 'NOUN', 'PUNCT']\n",
      "['That', 'money', 'has', 'prevented', 'the', 'militant', 'islamists', 'from', 'achieving', 'their', 'goals', '.']\n",
      "['DET', 'NOUN', 'AUX', 'VERB', 'DET', 'ADJ', 'NOUN', 'SCONJ', 'VERB', 'PRON', 'NOUN', 'PUNCT']\n",
      "['Al', 'Qaeda', 'members', 'and', 'sympathizers', 'feel', 'that', 'the', 'FBI', \"'s\", 'involvement', 'in', 'countries', 'like', 'Egypt', ',', 'Saudi', 'Arabia', ',', 'Pakistan', ',', 'Indonesia', ',', 'and', 'the', 'Philippines', 'interferes', 'with', 'the', 'sovereignty', 'of', 'those', 'countries', '.']\n",
      "['PROPN', 'PROPN', 'NOUN', 'CONJ', 'NOUN', 'VERB', 'SCONJ', 'DET', 'PROPN', 'PART', 'NOUN', 'ADP', 'NOUN', 'ADP', 'PROPN', 'PUNCT', 'PROPN', 'PROPN', 'PUNCT', 'PROPN', 'PUNCT', 'PROPN', 'PUNCT', 'CONJ', 'DET', 'PROPN', 'VERB', 'ADP', 'DET', 'NOUN', 'ADP', 'DET', 'NOUN', 'PUNCT']\n",
      "['According', 'to', 'a', 'post', 'she', 'made', 'on', 'the', 'internet', ',', 'Aafia', 'Siddiqui', 'expressed', 'the', 'same', 'sentiment', 'in', 'connection', 'with', 'US', 'appropriations', 'sought', 'in', 'exchange', 'for', 'the', 'extradition', 'of', 'WTC', '1993', 'plotter', 'Ramzi', 'Yousef', 'from', 'Pakistan', '.']\n",
      "['VERB', 'ADP', 'DET', 'NOUN', 'PRON', 'VERB', 'ADP', 'DET', 'NOUN', 'PUNCT', 'PROPN', 'PROPN', 'VERB', 'DET', 'ADJ', 'NOUN', 'ADP', 'NOUN', 'ADP', 'PROPN', 'NOUN', 'VERB', 'ADP', 'NOUN', 'ADP', 'DET', 'NOUN', 'ADP', 'PROPN', 'NUM', 'NOUN', 'PROPN', 'PROPN', 'ADP', 'PROPN', 'PUNCT']\n",
      "['Senator', 'Leahy', 'was', 'Chairman', 'of', 'both', 'the', 'Judiciary', 'Committee', 'overseeing', 'the', 'FBI', 'and', 'Appropriations', 'Subcommittee', 'in', 'charge', 'of', 'foreign', 'aid', 'to', 'these', 'countries', '.']\n",
      "['PROPN', 'PROPN', 'VERB', 'NOUN', 'ADP', 'CONJ', 'DET', 'PROPN', 'PROPN', 'VERB', 'DET', 'PROPN', 'CONJ', 'PROPN', 'PROPN', 'ADP', 'NOUN', 'ADP', 'ADJ', 'NOUN', 'ADP', 'DET', 'NOUN', 'PUNCT']\n",
      "['In', 'late', 'September', '2001', ',', 'it', 'was', 'announced', 'that', 'the', 'President', 'was', 'seeking', 'a', 'blanket', 'waiver', 'that', 'would', 'lift', 'all', 'restrictions', 'on', 'aid', 'to', 'military', 'and', 'security', 'units', 'in', 'connection', 'with', 'pursuing', 'the', 'militant', 'islamists', '.']\n",
      "['ADP', 'ADJ', 'PROPN', 'NUM', 'PUNCT', 'PRON', 'AUX', 'VERB', 'SCONJ', 'DET', 'PROPN', 'AUX', 'VERB', 'DET', 'NOUN', 'NOUN', 'PRON', 'AUX', 'VERB', 'DET', 'NOUN', 'ADP', 'NOUN', 'ADP', 'ADJ', 'CONJ', 'NOUN', 'NOUN', 'ADP', 'NOUN', 'SCONJ', 'VERB', 'DET', 'ADJ', 'NOUN', 'PUNCT']\n",
      "['This', 'extradition', 'and', 'imprisonment', 'of', 'Al', 'Qaeda', 'leaders', ',', 'along', 'with', 'US', 'support', 'for', 'Israel', 'and', 'the', 'Mubarak', 'government', 'in', 'Egypt', ',', 'remains', 'foremost', 'in', 'the', 'mind', 'of', 'Dr.', 'Zawahiri', '.']\n",
      "['DET', 'NOUN', 'CONJ', 'NOUN', 'ADP', 'PROPN', 'PROPN', 'NOUN', 'PUNCT', 'ADP', 'ADP', 'PROPN', 'NOUN', 'ADP', 'PROPN', 'CONJ', 'DET', 'PROPN', 'NOUN', 'ADP', 'PROPN', 'PUNCT', 'VERB', 'ADJ', 'ADP', 'DET', 'NOUN', 'ADP', 'PROPN', 'PROPN', 'PUNCT']\n",
      "['At', 'the', 'height', 'of', 'the', 'development', 'of', 'his', 'biological', 'weapons', 'program', ',', 'his', 'brother', 'was', 'extradited', 'pursuant', 'to', 'a', 'death', 'sentence', 'in', 'the', '\"', 'Albanian', 'returnees', '\"', 'case', '(', 'now', 'he', 'faces', 'retrial', ')', '.']\n",
      "['ADP', 'DET', 'NOUN', 'ADP', 'DET', 'NOUN', 'ADP', 'PRON', 'ADJ', 'NOUN', 'NOUN', 'PUNCT', 'PRON', 'NOUN', 'AUX', 'VERB', 'ADV', 'ADP', 'DET', 'NOUN', 'NOUN', 'ADP', 'DET', 'PUNCT', 'ADJ', 'NOUN', 'PUNCT', 'NOUN', 'PUNCT', 'ADV', 'PRON', 'VERB', 'NOUN', 'PUNCT', 'PUNCT']\n",
      "['It', \"'s\", 'hard', 'to', 'keep', 'up', 'with', 'the', 'stories', 'about', 'billion', 'dollar', 'appropriations', ',', 'debt', 'forgiveness', ',', 'and', 'loan', 'guarantees', 'to', 'countries', 'like', 'Egypt', 'and', 'Israel', 'and', 'now', 'even', 'Pakistan', '.']\n",
      "['PRON', 'VERB', 'ADJ', 'PART', 'VERB', 'ADP', 'ADP', 'DET', 'NOUN', 'ADP', 'NUM', 'NOUN', 'NOUN', 'PUNCT', 'NOUN', 'NOUN', 'PUNCT', 'CONJ', 'NOUN', 'NOUN', 'ADP', 'NOUN', 'ADP', 'PROPN', 'CONJ', 'PROPN', 'CONJ', 'ADV', 'ADV', 'PROPN', 'PUNCT']\n",
      "['Those', 'appropriations', 'pale', 'in', 'comparison', 'to', 'the', 'many', 'tens', 'of', 'billions', 'in', 'appropriations', 'relating', 'to', 'the', 'invasion', 'of', 'Iraq', '.']\n",
      "['DET', 'NOUN', 'VERB', 'ADP', 'NOUN', 'ADP', 'DET', 'ADJ', 'NOUN', 'ADP', 'NOUN', 'ADP', 'NOUN', 'VERB', 'ADP', 'DET', 'NOUN', 'ADP', 'PROPN', 'PUNCT']\n",
      "['Al', 'Qaeda', 'had', 'a', 'motive', 'in', 'mind', '.']\n",
      "['PROPN', 'PROPN', 'VERB', 'DET', 'NOUN', 'ADP', 'NOUN', 'PUNCT']\n",
      "['In', 'his', 'Fall', '2001', 'book', 'titled', 'Knights', 'under', 'the', 'Banner', 'of', 'the', 'Prophet', ',', 'Zawahiri', 'argued', 'that', 'the', 'secular', 'press', 'was', 'telling', '\"', 'lies', '\"', 'about', 'the', 'militant', 'islamists', '--', 'to', 'include', 'the', 'suggestion', 'that', 'the', 'militant', 'islamists', 'were', 'somehow', 'the', 'creation', 'of', 'the', 'United', 'States', 'in', 'connection', 'with', 'expelling', 'the', 'Russians', 'from', 'Afghanistan', '.']\n",
      "['ADP', 'PRON', 'NOUN', 'NUM', 'NOUN', 'VERB', 'PROPN', 'ADP', 'DET', 'PROPN', 'ADP', 'DET', 'PROPN', 'PUNCT', 'PROPN', 'VERB', 'SCONJ', 'DET', 'ADJ', 'NOUN', 'AUX', 'VERB', 'PUNCT', 'NOUN', 'PUNCT', 'ADP', 'DET', 'ADJ', 'NOUN', 'PUNCT', 'PART', 'VERB', 'DET', 'NOUN', 'SCONJ', 'DET', 'ADJ', 'NOUN', 'VERB', 'ADV', 'DET', 'NOUN', 'ADP', 'DET', 'PROPN', 'PROPN', 'ADP', 'NOUN', 'SCONJ', 'VERB', 'DET', 'PROPN', 'ADP', 'PROPN', 'PUNCT']\n",
      "['Zawahiri', 'argued', 'instead', 'that', 'they', 'have', 'been', 'active', 'since', 'the', 'assassination', 'of', 'Anwar', 'Sadat', 'in', 'Egypt', 'because', 'of', 'the', 'Camp', 'David', 'Accord', 'and', 'the', 'resulting', 'peace', 'treaty', 'between', 'Egypt', 'and', 'Israel', '.']\n",
      "['PROPN', 'VERB', 'ADV', 'SCONJ', 'PRON', 'AUX', 'VERB', 'ADJ', 'ADP', 'DET', 'NOUN', 'ADP', 'PROPN', 'PROPN', 'ADP', 'PROPN', 'ADP', 'ADP', 'DET', 'PROPN', 'PROPN', 'PROPN', 'CONJ', 'DET', 'VERB', 'NOUN', 'NOUN', 'ADP', 'PROPN', 'CONJ', 'PROPN', 'PUNCT']\n",
      "['The', 'anthrax', 'letters', 'were', 'sent', 'on', 'the', 'date', 'of', 'the', 'Camp', 'David', 'Accord', 'and', 'then', 'the', 'date', 'Anwar', 'Sadat', 'was', 'assassinated', 'as', 'if', 'to', 'underscore', 'the', 'point', 'to', 'anyone', 'paying', 'attention', '.']\n",
      "['DET', 'NOUN', 'NOUN', 'AUX', 'VERB', 'ADP', 'DET', 'NOUN', 'ADP', 'DET', 'PROPN', 'PROPN', 'PROPN', 'CONJ', 'ADV', 'DET', 'NOUN', 'PROPN', 'PROPN', 'AUX', 'VERB', 'SCONJ', 'SCONJ', 'PART', 'VERB', 'DET', 'NOUN', 'ADP', 'PRON', 'VERB', 'NOUN', 'PUNCT']\n",
      "['Most', 'of', 'the', '\"', 'talking', 'heads', '\"', 'on', 'television', ',', 'however', ',', 'knew', 'only', 'that', 'Daschle', 'and', 'Leahy', 'were', 'liberal', 'democrats', 'and', 'did', 'not', 'know', 'anything', 'of', 'Al', 'Qaeda', 'beyond', 'what', 'they', 'read', 'in', 'the', 'US', 'newspapers', '.']\n",
      "['ADJ', 'ADP', 'DET', 'PUNCT', 'VERB', 'NOUN', 'PUNCT', 'ADP', 'NOUN', 'PUNCT', 'ADV', 'PUNCT', 'VERB', 'ADV', 'SCONJ', 'PROPN', 'CONJ', 'PROPN', 'VERB', 'ADJ', 'NOUN', 'CONJ', 'AUX', 'PART', 'VERB', 'PRON', 'ADP', 'PROPN', 'PROPN', 'SCONJ', 'PRON', 'PRON', 'VERB', 'ADP', 'DET', 'PROPN', 'NOUN', 'PUNCT']\n",
      "['The', 'FBI', \"'s\", 'profile', 'includes', 'a', 'US', '-', 'based', 'supporter', 'of', 'the', 'militant', 'islamists', '.']\n",
      "['DET', 'PROPN', 'PART', 'NOUN', 'VERB', 'DET', 'PROPN', 'PUNCT', 'VERB', 'NOUN', 'ADP', 'DET', 'ADJ', 'NOUN', 'PUNCT']\n",
      "['Attorney', 'General', 'Ashcroft', 'explained', 'that', 'an', '\"', 'either', '-', 'or', '\"', 'approach', 'is', 'not', 'useful', '.']\n",
      "['PROPN', 'PROPN', 'PROPN', 'VERB', 'SCONJ', 'DET', 'PUNCT', 'CONJ', 'PUNCT', 'CONJ', 'PUNCT', 'NOUN', 'VERB', 'PART', 'ADJ', 'PUNCT']\n",
      "['The', 'media', 'has', 'tended', 'to', 'overlook', 'the', 'fact', 'that', 'when', 'the', 'FBI', 'uses', 'the', 'word', '\"', 'domestic', '\"', 'the', 'word', 'includes', 'a', 'US', '-', 'based', ',', 'highly', '-', 'educated', 'supporter', 'of', 'the', 'militant', 'islamists', '.']\n",
      "['DET', 'NOUN', 'AUX', 'VERB', 'PART', 'VERB', 'DET', 'NOUN', 'SCONJ', 'ADV', 'DET', 'PROPN', 'VERB', 'DET', 'NOUN', 'PUNCT', 'NOUN', 'PUNCT', 'DET', 'NOUN', 'VERB', 'DET', 'PROPN', 'PUNCT', 'VERB', 'PUNCT', 'ADV', 'PUNCT', 'ADJ', 'NOUN', 'ADP', 'DET', 'ADJ', 'NOUN', 'PUNCT']\n",
      "['There', 'is', 'an', 'emerging', 'consensus', 'that', 'anthrax', 'was', 'contained', 'in', 'a', 'letter', 'to', 'AMI', ',', 'the', 'publisher', 'of', 'the', 'National', 'Enquirer', '--', 'in', 'a', 'goofy', 'love', 'letter', 'to', 'Jennifer', 'Lopez', 'enclosing', 'a', 'Star', 'of', 'David', 'and', 'proposing', 'marriage', '.']\n",
      "['PRON', 'VERB', 'DET', 'VERB', 'NOUN', 'SCONJ', 'NOUN', 'AUX', 'VERB', 'ADP', 'DET', 'NOUN', 'ADP', 'PROPN', 'PUNCT', 'DET', 'NOUN', 'ADP', 'DET', 'PROPN', 'PROPN', 'PUNCT', 'ADP', 'DET', 'ADJ', 'NOUN', 'NOUN', 'ADP', 'PROPN', 'PROPN', 'VERB', 'DET', 'PROPN', 'ADP', 'PROPN', 'CONJ', 'VERB', 'NOUN', 'PUNCT']\n",
      "['A', 'report', 'by', 'the', 'Center', 'for', 'Disease', 'Control', 'of', 'interviews', 'with', 'AMI', 'employees', '(', 'as', 'well', 'as', 'detailed', 'interviews', 'by', 'author', 'Leonard', 'Cole', ')', 'supports', 'the', 'conclusion', 'that', 'there', 'were', 'not', 'one', ',', 'but', 'two', ',', 'such', 'mailings', 'containing', 'anthrax', '.']\n",
      "['DET', 'NOUN', 'ADP', 'DET', 'PROPN', 'ADP', 'PROPN', 'PROPN', 'ADP', 'NOUN', 'ADP', 'PROPN', 'NOUN', 'PUNCT', 'ADV', 'ADV', 'ADP', 'ADJ', 'NOUN', 'ADP', 'NOUN', 'PROPN', 'PROPN', 'PUNCT', 'VERB', 'DET', 'NOUN', 'SCONJ', 'PRON', 'VERB', 'ADV', 'NUM', 'PUNCT', 'CONJ', 'NUM', 'PUNCT', 'ADJ', 'NOUN', 'VERB', 'NOUN', 'PUNCT']\n",
      "['(', 'The', 'letters', 'were', 'to', 'different', 'AMI', 'publications', '--', 'one', 'to', 'the', 'National', 'Enquirer', 'and', 'another', 'to', 'The', 'Sun', ')', '.']\n",
      "['PUNCT', 'DET', 'NOUN', 'VERB', 'ADP', 'ADJ', 'PROPN', 'NOUN', 'PUNCT', 'NUM', 'ADP', 'DET', 'PROPN', 'PROPN', 'CONJ', 'DET', 'ADP', 'DET', 'PROPN', 'PUNCT', 'PUNCT']\n",
      "['(', 'News', 'assistant', 'Bobby', 'Bender', 'recalls', 'the', 'letter', 'containing', 'the', 'items', 'to', 'have', 'been', 'addressed', 'to', 'The', 'Sun', '.', ')']\n",
      "['PUNCT', 'NOUN', 'NOUN', 'PROPN', 'PROPN', 'VERB', 'DET', 'NOUN', 'VERB', 'DET', 'NOUN', 'PART', 'AUX', 'AUX', 'VERB', 'ADP', 'DET', 'PROPN', 'PUNCT', 'PUNCT']\n",
      "['This', 'tactic', 'of', 'letters', 'is', 'not', 'merely', 'the', 'modus', 'operandi', 'of', 'these', 'militant', 'islamists', 'inspired', 'by', 'Zawahiri', ',', 'it', 'is', 'their', 'signature', '.']\n",
      "['DET', 'NOUN', 'ADP', 'NOUN', 'VERB', 'PART', 'ADV', 'DET', 'NOUN', 'NOUN', 'ADP', 'DET', 'ADJ', 'NOUN', 'VERB', 'ADP', 'PROPN', 'PUNCT', 'PRON', 'VERB', 'PRON', 'NOUN', 'PUNCT']\n",
      "['The', 'islamists', 'sent', 'letter', 'bombs', 'in', 'January', '1997', 'to', 'newspaper', 'offices', 'in', 'New', 'York', 'City', 'and', 'Washington', ',', 'D.C.', '.']\n",
      "['DET', 'NOUN', 'VERB', 'NOUN', 'NOUN', 'ADP', 'PROPN', 'NUM', 'ADP', 'NOUN', 'NOUN', 'ADP', 'PROPN', 'PROPN', 'PROPN', 'CONJ', 'PROPN', 'PUNCT', 'PROPN', 'PUNCT']\n",
      "['They', 'were', 'sent', 'in', 'connection', 'with', 'the', 'earlier', 'bombing', 'of', 'the', 'World', 'Trade', 'Center', 'and', 'the', 'imprisonment', 'of', 'the', 'blind', 'sheik', ',', 'Sheik', 'Abdel', 'Rahman', '.']\n",
      "['PRON', 'AUX', 'VERB', 'ADP', 'NOUN', 'ADP', 'DET', 'ADJ', 'NOUN', 'ADP', 'DET', 'PROPN', 'PROPN', 'PROPN', 'CONJ', 'DET', 'NOUN', 'ADP', 'DET', 'ADJ', 'NOUN', 'PUNCT', 'PROPN', 'PROPN', 'PROPN', 'PUNCT']\n",
      "['The', 'former', 'leader', 'of', 'the', 'Egyptian', 'Al', '-', 'Gamaa', 'al', '-', 'Islamiya', '(', '\"', 'Islamic', 'Group', '\"', ')', ',', 'he', 'was', 'also', 'a', 'spiritual', 'leader', 'of', 'Al', 'Qaeda', '.']\n",
      "['DET', 'ADJ', 'NOUN', 'ADP', 'DET', 'ADJ', 'PROPN', 'PUNCT', 'PROPN', 'PROPN', 'PUNCT', 'PROPN', 'PUNCT', 'PUNCT', 'PROPN', 'PROPN', 'PUNCT', 'PUNCT', 'PUNCT', 'PRON', 'VERB', 'ADV', 'DET', 'ADJ', 'NOUN', 'ADP', 'PROPN', 'PROPN', 'PUNCT']\n",
      "['The', 'letter', 'bombs', 'were', 'sent', 'in', 'connection', 'with', 'the', 'treatment', 'of', 'the', 'Egyptian', 'islamists', 'imprisoned', 'for', 'the', 'earlier', 'attack', 'on', 'the', 'WTC', 'and', 'a', 'related', 'plot', '.']\n",
      "['DET', 'NOUN', 'NOUN', 'AUX', 'VERB', 'ADP', 'NOUN', 'ADP', 'DET', 'NOUN', 'ADP', 'DET', 'ADJ', 'NOUN', 'VERB', 'ADP', 'DET', 'ADJ', 'NOUN', 'ADP', 'DET', 'PROPN', 'CONJ', 'DET', 'ADJ', 'NOUN', 'PUNCT']\n",
      "['The', 'purpose', 'of', 'the', 'letter', 'bombs', '--', 'which', 'resulted', 'in', 'minimal', 'casualty', '--', 'was', 'to', 'send', 'a', 'message', '.']\n",
      "['DET', 'NOUN', 'ADP', 'DET', 'NOUN', 'NOUN', 'PUNCT', 'PRON', 'VERB', 'ADP', 'ADJ', 'NOUN', 'PUNCT', 'VERB', 'PART', 'VERB', 'DET', 'NOUN', 'PUNCT']\n",
      "['(', 'There', 'initially', 'was', 'an', 'outstanding', '$', '2', 'million', 'reward', '--', 'under', 'the', 'rewards', 'for', 'justice', 'program', ',', 'the', 'reward', 'now', 'is', 'up', 'to', '$', '5', 'million', '.', ')', '.']\n",
      "['PUNCT', 'PRON', 'ADV', 'VERB', 'DET', 'ADJ', 'SYM', 'NUM', 'NUM', 'NOUN', 'PUNCT', 'ADP', 'DET', 'NOUN', 'ADP', 'NOUN', 'NOUN', 'PUNCT', 'DET', 'NOUN', 'ADV', 'VERB', 'ADV', 'ADP', 'SYM', 'NUM', 'NUM', 'PUNCT', 'PUNCT', 'PUNCT']\n",
      "['There', 'was', 'no', 'claim', 'of', 'responsibility', '.']\n",
      "['PRON', 'VERB', 'DET', 'NOUN', 'ADP', 'NOUN', 'PUNCT']\n",
      "['There', 'was', 'no', 'explanation', '.']\n",
      "['PRON', 'VERB', 'DET', 'NOUN', 'PUNCT']\n",
      "['Once', 'one', 'had', 'been', 'received', ',', 'the', 'next', 'ten', ',', 'mailed', 'on', 'two', 'separate', 'dates', ',', 'were', 'easily', 'collected', '.']\n",
      "['SCONJ', 'NUM', 'AUX', 'AUX', 'VERB', 'PUNCT', 'DET', 'ADJ', 'NOUN', 'PUNCT', 'VERB', 'ADP', 'NUM', 'ADJ', 'NOUN', 'PUNCT', 'AUX', 'ADV', 'VERB', 'PUNCT']\n",
      "['Sound', 'familiar', '?']\n",
      "['VERB', 'ADJ', 'PUNCT']\n",
      "['Two', 'bombs', 'were', 'also', 'sent', 'to', 'Leavenworth', ',', 'where', 'a', 'key', 'WTC', '1993', 'defendant', 'was', 'imprisoned', ',', 'addressed', 'to', '\"', 'Parole', 'Officer', '.', '\"']\n",
      "['NUM', 'NOUN', 'AUX', 'ADV', 'VERB', 'ADP', 'PROPN', 'PUNCT', 'ADV', 'DET', 'ADJ', 'PROPN', 'NUM', 'NOUN', 'AUX', 'VERB', 'PUNCT', 'VERB', 'ADP', 'PUNCT', 'NOUN', 'NOUN', 'PUNCT', 'PUNCT']\n",
      "['(', 'The', 'position', 'does', 'not', 'exist', ')', '.']\n",
      "['PUNCT', 'DET', 'NOUN', 'AUX', 'PART', 'VERB', 'PUNCT', 'PUNCT']\n",
      "['Abdel', 'Rahman', \"'s\", 'son', 'was', 'captured', 'in', 'Quetta', ',', 'Pakistan', 'in', 'mid-February', '2003', '.']\n",
      "['PROPN', 'PROPN', 'PART', 'NOUN', 'AUX', 'VERB', 'ADP', 'PROPN', 'PUNCT', 'PROPN', 'ADP', 'NOUN', 'NUM', 'PUNCT']\n",
      "['That', 'arrest', 'in', 'turn', 'led', 'to', 'the', 'dramatic', 'capture', 'of', 'Khalid', 'Mohammed', ',', 'Al', 'Qaeda', \"'s\", '#', '3', '.']\n",
      "['DET', 'NOUN', 'ADP', 'NOUN', 'VERB', 'ADP', 'DET', 'ADJ', 'NOUN', 'ADP', 'PROPN', 'PROPN', 'PUNCT', 'PROPN', 'PROPN', 'PART', 'NOUN', 'NUM', 'PUNCT']\n",
      "['Mohammed', 'allegedly', 'was', 'hiding', 'in', 'the', 'home', 'of', 'the', 'Pakistani', 'bacteriologist', 'Dr.', 'Abdul', 'Qadoos', 'Khan', '.']\n",
      "['PROPN', 'ADV', 'AUX', 'VERB', 'ADP', 'DET', 'NOUN', 'ADP', 'DET', 'ADJ', 'NOUN', 'PROPN', 'PROPN', 'PROPN', 'PROPN', 'PUNCT']\n",
      "['Along', 'with', 'Zawahiri', ',', 'Abdel', 'Rahman', 'and', 'his', 'two', 'sons', 'have', 'had', 'considerable', 'influence', 'over', 'Bin', 'Laden', '.']\n",
      "['ADP', 'ADP', 'PROPN', 'PUNCT', 'PROPN', 'PROPN', 'CONJ', 'PRON', 'NUM', 'NOUN', 'AUX', 'VERB', 'ADJ', 'NOUN', 'ADP', 'PROPN', 'PROPN', 'PUNCT']\n",
      "['He', 'reportedly', 'treated', 'them', 'like', 'sons', '.']\n",
      "['PRON', 'ADV', 'VERB', 'PRON', 'ADP', 'NOUN', 'PUNCT']\n",
      "['Although', 'while', 'in', 'jail', 'in', 'the', 'early', '1980s', ',', 'Zawahiri', 'caused', 'considerable', 'tension', 'by', 'challenging', 'the', 'blind', 'sheik', \"'s\", 'ability', 'to', 'lead', 'a', 'coalition', 'of', 'the', 'Egyptian', 'Islamic', 'Jihad', 'and', 'the', 'Egyptian', 'Islamic', 'Group', ',', 'Zawahiri', 'and', 'OBL', 'are', 'Rahman', \"'s\", 'friends', '.']\n",
      "['SCONJ', 'SCONJ', 'ADP', 'NOUN', 'ADP', 'DET', 'ADJ', 'NOUN', 'PUNCT', 'PROPN', 'VERB', 'ADJ', 'NOUN', 'SCONJ', 'VERB', 'DET', 'ADJ', 'NOUN', 'PART', 'NOUN', 'PART', 'VERB', 'DET', 'NOUN', 'ADP', 'DET', 'ADJ', 'PROPN', 'PROPN', 'CONJ', 'DET', 'ADJ', 'PROPN', 'PROPN', 'PUNCT', 'PROPN', 'CONJ', 'PROPN', 'VERB', 'PROPN', 'PART', 'NOUN', 'PUNCT']\n",
      "['The', 'imprisoned', 'WTC', '1993', 'plotter', 'Yousef', 'was', 'KSM', \"'s\", 'nephew', '.']\n",
      "['DET', 'VERB', 'PROPN', 'NUM', 'NOUN', 'PROPN', 'VERB', 'PROPN', 'PART', 'NOUN', 'PUNCT']\n",
      "['Thus', ',', 'the', 'leaders', 'in', 'charge', 'of', 'Al', 'Qaeda', \"'s\", 'anthrax', 'production', 'program', 'had', 'a', 'close', 'connection', 'to', 'those', 'imprisoned', 'in', 'connection', 'with', 'the', 'earlier', 'bombing', 'of', 'the', 'World', 'Trade', 'Center', '.']\n",
      "['ADV', 'PUNCT', 'DET', 'NOUN', 'ADP', 'NOUN', 'ADP', 'PROPN', 'PROPN', 'PART', 'NOUN', 'NOUN', 'NOUN', 'VERB', 'DET', 'ADJ', 'NOUN', 'ADP', 'PRON', 'VERB', 'ADP', 'NOUN', 'ADP', 'DET', 'ADJ', 'NOUN', 'ADP', 'DET', 'PROPN', 'PROPN', 'PROPN', 'PUNCT']\n",
      "['According', 'to', 'the', 'controversial', '\"', 'Feith', 'memo', ',', '\"', 'which', 'summarized', 'purported', 'intelligence', 'showing', 'an', 'Iraqi', '/', 'Al', 'Qaeda', 'connection', ',', 'Osama', 'Bin', 'Laden', 'had', 'asked', 'Iraqi', 'intelligence', 'for', 'technical', 'assistance', 'in', 'sending', 'letter', 'bombs', 'a', 'half', 'year', 'before', 'the', 'Al', 'Hayat', 'letters', 'were', 'sent', '.']\n",
      "['VERB', 'ADP', 'DET', 'ADJ', 'PUNCT', 'PROPN', 'NOUN', 'PUNCT', 'PUNCT', 'PRON', 'VERB', 'VERB', 'NOUN', 'VERB', 'DET', 'ADJ', 'SYM', 'PROPN', 'PROPN', 'NOUN', 'PUNCT', 'PROPN', 'PROPN', 'PROPN', 'AUX', 'VERB', 'ADJ', 'NOUN', 'ADP', 'ADJ', 'NOUN', 'SCONJ', 'VERB', 'NOUN', 'NOUN', 'DET', 'ADJ', 'NOUN', 'SCONJ', 'DET', 'PROPN', 'PROPN', 'NOUN', 'AUX', 'VERB', 'PUNCT']\n",
      "['Just', 'because', 'Al', 'Qaeda', 'likes', 'its', 'truck', 'bombs', 'and', 'the', 'like', 'to', 'be', 'effective', 'does', 'not', 'mean', 'they', 'do', 'not', 'see', 'the', 'value', 'in', 'a', 'deadly', 'missive', '.']\n",
      "['ADV', 'SCONJ', 'PROPN', 'PROPN', 'VERB', 'PRON', 'NOUN', 'NOUN', 'CONJ', 'DET', 'ADJ', 'PART', 'VERB', 'ADJ', 'AUX', 'PART', 'VERB', 'PRON', 'AUX', 'PART', 'VERB', 'DET', 'NOUN', 'ADP', 'DET', 'ADJ', 'NOUN', 'PUNCT']\n",
      "['As', 'Brian', 'Jenkins', 'once', 'said', ',', '\"', 'terrorism', 'is', 'theater', '.', '\"']\n",
      "['SCONJ', 'PROPN', 'PROPN', 'ADV', 'VERB', 'PUNCT', 'PUNCT', 'NOUN', 'VERB', 'NOUN', 'PUNCT', 'PUNCT']\n",
      "['A', 'sender', 'purporting', 'to', 'be', 'islamist', 'sent', 'cyanide', 'in', 'both', 'early', '2002', 'and', 'early', '2003', 'in', 'New', 'Zealand', 'and', 'ingredients', 'of', 'nerve', 'gas', 'in', 'Belgium', 'in', '2003', '.']\n",
      "['DET', 'NOUN', 'VERB', 'PART', 'VERB', 'ADJ', 'VERB', 'NOUN', 'ADP', 'CONJ', 'ADJ', 'NUM', 'CONJ', 'ADJ', 'NUM', 'ADP', 'PROPN', 'PROPN', 'CONJ', 'NOUN', 'ADP', 'NOUN', 'NOUN', 'ADP', 'PROPN', 'ADP', 'NUM', 'PUNCT']\n",
      "['There', \"'s\", 'even', 'a', 'chapter', 'titled', '\"', 'Poisonous', 'Letter', '\"', 'in', 'the', 'Al', 'Qaeda', 'manual', '.']\n",
      "['PRON', 'VERB', 'ADV', 'DET', 'NOUN', 'VERB', 'PUNCT', 'PROPN', 'PROPN', 'PUNCT', 'ADP', 'DET', 'PROPN', 'PROPN', 'NOUN', 'PUNCT']\n",
      "['The', '\"', 'Federal', 'Eagle', '\"', 'stamp', 'used', 'in', 'the', 'anthrax', 'mailings', 'was', 'a', 'blue', '-', 'green', '.']\n",
      "['DET', 'PUNCT', 'ADJ', 'NOUN', 'PUNCT', 'NOUN', 'VERB', 'ADP', 'DET', 'NOUN', 'NOUN', 'VERB', 'DET', 'NOUN', 'PUNCT', 'NOUN', 'PUNCT']\n",
      "['It', 'was', 'widely', 'published', 'among', 'the', 'militant', 'islamists', 'that', 'martyrs', 'go', 'to', 'paradise', '\"', 'in', 'the', 'hearts', 'of', 'green', 'birds', '.', '\"']\n",
      "['PRON', 'AUX', 'ADV', 'VERB', 'ADP', 'DET', 'ADJ', 'NOUN', 'SCONJ', 'NOUN', 'VERB', 'ADP', 'NOUN', 'PUNCT', 'ADP', 'DET', 'NOUN', 'ADP', 'ADJ', 'NOUN', 'PUNCT', 'PUNCT']\n",
      "['In', 'the', 'very', 'interview', 'in', 'which', 'they', 'admitted', '9/11', ',', 'and', 'described', 'the', 'codes', 'used', 'for', 'the', 'four', 'targets', 'for', 'the', 'planes', ',', 'the', 'masterminds', 'admitted', 'to', 'the', 'Jenny', 'code', ',', 'the', 'code', 'for', 'representing', 'the', 'date', '9/11', ',', 'and', 'used', 'the', 'symbolism', 'of', 'the', '\"', 'Green', 'Birds', '.', '\"']\n",
      "['ADP', 'DET', 'ADJ', 'NOUN', 'ADP', 'PRON', 'PRON', 'VERB', 'NUM', 'PUNCT', 'CONJ', 'VERB', 'DET', 'NOUN', 'VERB', 'ADP', 'DET', 'NUM', 'NOUN', 'ADP', 'DET', 'NOUN', 'PUNCT', 'DET', 'NOUN', 'VERB', 'ADP', 'DET', 'PROPN', 'NOUN', 'PUNCT', 'DET', 'NOUN', 'SCONJ', 'VERB', 'DET', 'NOUN', 'NUM', 'PUNCT', 'CONJ', 'VERB', 'DET', 'NOUN', 'ADP', 'DET', 'PUNCT', 'ADJ', 'NOUN', 'PUNCT', 'PUNCT']\n",
      "['Osama', 'Bin', 'Laden', 'later', 'invoked', 'the', 'symbolism', 'in', 'his', 'video', '\"', 'The', '19', 'Martyrs', '.', '\"']\n",
      "['PROPN', 'PROPN', 'PROPN', 'ADV', 'VERB', 'DET', 'NOUN', 'ADP', 'PRON', 'NOUN', 'PUNCT', 'DET', 'PROPN', 'PROPN', 'PUNCT', 'PUNCT']\n",
      "['A', 'FAQ', 'on', 'the', 'Azzam', 'Publications', 'website', 'explained', 'that', '\"', 'In', 'the', 'Hearts', 'of', 'Green', 'Birds', '\"', 'refers', 'to', 'what', 'is', 'inside', '.']\n",
      "['DET', 'NOUN', 'ADP', 'DET', 'PROPN', 'PROPN', 'NOUN', 'VERB', 'SCONJ', 'PUNCT', 'ADP', 'DET', 'NOUN', 'ADP', 'ADJ', 'NOUN', 'PUNCT', 'VERB', 'SCONJ', 'PRON', 'VERB', 'ADV', 'PUNCT']\n",
      "['The', 'mailer', \"'s\", 'use', 'of', '\"', 'Greendale', 'School', '\"', 'as', 'the', 'return', 'address', 'for', 'the', 'letters', 'to', 'the', 'Senators', 'is', 'also', 'revealing', '.']\n",
      "['DET', 'NOUN', 'PART', 'NOUN', 'ADP', 'PUNCT', 'PROPN', 'PROPN', 'PUNCT', 'ADP', 'DET', 'NOUN', 'NOUN', 'ADP', 'DET', 'NOUN', 'ADP', 'DET', 'NOUN', 'VERB', 'ADV', 'ADJ', 'PUNCT']\n",
      "['A', 'May', '2001', 'letter', 'that', 'Zawahiri', 'sent', 'to', 'Egyptian', 'Islamic', 'Jihad', 'members', 'abroad', 'establish', 'that', 'Zawahiri', 'used', '\"', 'school', '\"', 'as', 'a', 'code', 'word', 'for', 'the', 'Egyptian', 'militant', 'islamists', 'in', 'his', 'correspondence', '.']\n",
      "['DET', 'PROPN', 'NUM', 'NOUN', 'PRON', 'PROPN', 'VERB', 'ADP', 'ADJ', 'PROPN', 'PROPN', 'NOUN', 'ADV', 'VERB', 'SCONJ', 'PROPN', 'VERB', 'PUNCT', 'NOUN', 'PUNCT', 'ADP', 'DET', 'NOUN', 'NOUN', 'ADP', 'DET', 'ADJ', 'ADJ', 'NOUN', 'ADP', 'PRON', 'NOUN', 'PUNCT']\n",
      "['Green', 'symbolizes', 'Islam', 'and', 'was', 'the', 'Prophet', 'Mohammed', \"'s\", 'color', '.']\n",
      "['NOUN', 'VERB', 'PROPN', 'CONJ', 'VERB', 'DET', 'PROPN', 'PROPN', 'PART', 'NOUN', 'PUNCT']\n",
      "['By', 'Greendale', 'School', ',', 'the', 'anthrax', 'perp', 'was', 'being', 'cute', ',', 'just', 'as', 'Yazid', 'Sufaat', 'was', 'being', 'cute', 'in', 'naming', 'his', 'lab', 'Green', 'Laboratory', 'Medicine', '.']\n",
      "['ADP', 'PROPN', 'PROPN', 'PUNCT', 'DET', 'NOUN', 'NOUN', 'AUX', 'VERB', 'ADJ', 'PUNCT', 'ADV', 'SCONJ', 'PROPN', 'PROPN', 'AUX', 'VERB', 'ADJ', 'SCONJ', 'VERB', 'PRON', 'NOUN', 'PROPN', 'PROPN', 'PROPN', 'PUNCT']\n",
      "['\"', 'Dale', '\"', 'means', '\"', 'river', 'valley', '.', '\"']\n",
      "['PUNCT', 'NOUN', 'PUNCT', 'VERB', 'PUNCT', 'NOUN', 'NOUN', 'PUNCT', 'PUNCT']\n",
      "['Greendale', 'likely', 'refers', 'to', 'green', 'river', 'valley', '--', 'i.e.', ',', 'Cairo', \"'s\", 'Egyptian', 'Islamic', 'Jihad', 'or', 'the', 'Islamic', 'Group', '.']\n",
      "['PROPN', 'ADV', 'VERB', 'ADP', 'ADJ', 'NOUN', 'NOUN', 'PUNCT', 'X', 'PUNCT', 'PROPN', 'PART', 'ADJ', 'PROPN', 'PROPN', 'CONJ', 'DET', 'PROPN', 'PROPN', 'PUNCT']\n",
      "['The', 'sender', 'probably', 'is', 'announcing', 'that', 'he', 'is', 'of', 'either', 'Egyptian', 'Islamic', 'Jihad', ',', 'Egyptian', 'Islamic', 'Group', 'or', 'Jihad', '-', 'al', 'Qaeda', ',', 'which', 'is', 'actually', 'the', 'full', 'name', 'of', 'the', 'group', 'after', 'the', 'merger', 'of', 'the', 'Egyptian', 'Islamic', 'Jihad', 'and', 'al', 'Qaeda', '.']\n",
      "['DET', 'NOUN', 'ADV', 'AUX', 'VERB', 'SCONJ', 'PRON', 'VERB', 'ADP', 'CONJ', 'ADJ', 'PROPN', 'PROPN', 'PUNCT', 'ADJ', 'PROPN', 'PROPN', 'CONJ', 'PROPN', 'PUNCT', 'PROPN', 'PROPN', 'PUNCT', 'PRON', 'VERB', 'ADV', 'DET', 'ADJ', 'NOUN', 'ADP', 'DET', 'NOUN', 'ADP', 'DET', 'NOUN', 'ADP', 'DET', 'ADJ', 'PROPN', 'PROPN', 'CONJ', 'PROPN', 'PROPN', 'PUNCT']\n",
      "['At', 'the', 'Darunta', 'complex', 'where', 'jihadis', 'trained', ',', 'recruits', 'would', 'wear', 'green', 'uniforms', ',', 'except', 'for', 'Friday', 'when', 'they', 'were', 'washed', '.']\n",
      "['ADP', 'DET', 'PROPN', 'NOUN', 'ADV', 'NOUN', 'VERB', 'PUNCT', 'NOUN', 'AUX', 'VERB', 'ADJ', 'NOUN', 'PUNCT', 'ADP', 'ADP', 'PROPN', 'ADV', 'PRON', 'AUX', 'VERB', 'PUNCT']\n",
      "['In', 'a', 'Hadith', 'the', 'Messenger', 'of', 'Allah', 'explains', 'that', 'the', 'souls', 'of', 'the', 'martyrs', 'are', 'in', 'the', 'hearts', 'of', 'green', 'birds', 'that', 'fly', 'wherever', 'they', 'please', 'in', 'the', 'Paradise', '.']\n",
      "['ADP', 'DET', 'PROPN', 'DET', 'PROPN', 'ADP', 'PROPN', 'VERB', 'SCONJ', 'DET', 'NOUN', 'ADP', 'DET', 'NOUN', 'VERB', 'ADP', 'DET', 'NOUN', 'ADP', 'ADJ', 'NOUN', 'PRON', 'VERB', 'ADV', 'PRON', 'VERB', 'ADP', 'DET', 'NOUN', 'PUNCT']\n",
      "['As', 'to', 'opportunity', ',', 'though', 'seldom', 'reported', ',', 'there', 'is', 'a', 'wealth', 'of', '\"', 'open', 'source', '\"', 'information', 'about', 'possible', 'Al', 'Qaeda', 'or', 'Egyptian', 'Islamic', 'Jihad', 'or', 'Egyptian', 'Islamic', 'Group', 'in', 'the', 'United', 'States', 'and', 'Canada', '.']\n",
      "['ADP', 'ADP', 'NOUN', 'PUNCT', 'SCONJ', 'ADV', 'VERB', 'PUNCT', 'PRON', 'VERB', 'DET', 'NOUN', 'ADP', 'PUNCT', 'ADJ', 'NOUN', 'PUNCT', 'NOUN', 'ADP', 'ADJ', 'PROPN', 'PROPN', 'CONJ', 'ADJ', 'PROPN', 'PROPN', 'CONJ', 'ADJ', 'PROPN', 'PROPN', 'ADP', 'DET', 'PROPN', 'PROPN', 'CONJ', 'PROPN', 'PUNCT']\n",
      "['The', 'public', 'information', 'mostly', 'relates', 'to', 'those', 'suspected', 'sleepers', 'who', 'have', 'been', 'detained', 'or', 'who', 'are', 'at', 'large', 'and', 'are', 'being', 'sought', '.']\n",
      "['DET', 'ADJ', 'NOUN', 'ADV', 'VERB', 'ADP', 'DET', 'VERB', 'NOUN', 'PRON', 'AUX', 'AUX', 'VERB', 'CONJ', 'PRON', 'VERB', 'ADP', 'ADJ', 'CONJ', 'AUX', 'AUX', 'VERB', 'PUNCT']\n",
      "['Zawahiri', \"'s\", 'mission', 'in', 'the', 'United', 'States', 'in', '1995', 'was', 'to', 'do', 'spadework', 'for', 'terrorism', ',', 'not', 'fundraising', 'for', 'charitable', 'causes', '.']\n",
      "['PROPN', 'PART', 'NOUN', 'ADP', 'DET', 'PROPN', 'PROPN', 'ADP', 'NUM', 'VERB', 'PART', 'VERB', 'NOUN', 'ADP', 'NOUN', 'PUNCT', 'ADV', 'NOUN', 'ADP', 'ADJ', 'NOUN', 'PUNCT']\n",
      "['He', 'traveled', 'under', 'an', 'alias', 'and', 'was', 'accompanied', 'by', 'a', 'former', 'US', 'Army', 'sergeant', 'named', 'Ali', 'Mohammed', '.']\n",
      "['PRON', 'VERB', 'ADP', 'DET', 'NOUN', 'CONJ', 'AUX', 'VERB', 'ADP', 'DET', 'ADJ', 'PROPN', 'PROPN', 'NOUN', 'VERB', 'PROPN', 'PROPN', 'PUNCT']\n",
      "['What', 'mosques', 'exactly', 'did', 'they', 'visit', 'and', 'who', 'did', 'they', 'meet', '?']\n",
      "['DET', 'NOUN', 'ADV', 'AUX', 'PRON', 'VERB', 'CONJ', 'PRON', 'AUX', 'PRON', 'VERB', 'PUNCT']\n",
      "['Whatever', 'your', 'political', 'persuasion', ',', 'the', 'FBI', 'and', 'CIA', 'deserve', 'our', 'support', '.']\n",
      "['DET', 'PRON', 'ADJ', 'NOUN', 'PUNCT', 'DET', 'PROPN', 'CONJ', 'PROPN', 'VERB', 'PRON', 'NOUN', 'PUNCT']\n",
      "['We', 'are', ',', 'after', 'all', ',', 'in', 'this', 'together', '.']\n",
      "['PRON', 'VERB', 'PUNCT', 'ADV', 'ADV', 'PUNCT', 'ADP', 'PRON', 'ADV', 'PUNCT']\n",
      "['First', ',', 'the', 'nature', 'of', 'such', 'an', 'investigation', 'is', 'that', 'we', 'lack', 'sufficient', 'information', 'to', 'second', '-', 'guess', '(', 'or', 'even', 'know', ')', 'what', 'the', 'FBI', 'is', 'doing', '.']\n",
      "['ADV', 'PUNCT', 'DET', 'NOUN', 'ADP', 'DET', 'DET', 'NOUN', 'VERB', 'SCONJ', 'PRON', 'VERB', 'ADJ', 'NOUN', 'PART', 'ADV', 'PUNCT', 'VERB', 'PUNCT', 'CONJ', 'ADV', 'VERB', 'PUNCT', 'PRON', 'DET', 'PROPN', 'AUX', 'VERB', 'PUNCT']\n",
      "['Media', 'reports', 'are', 'a', 'poor', 'approximation', 'of', 'reality', 'because', 'of', 'the', 'lack', 'of', 'good', 'sources', '.']\n",
      "['NOUN', 'NOUN', 'VERB', 'DET', 'ADJ', 'NOUN', 'ADP', 'NOUN', 'ADP', 'ADP', 'DET', 'NOUN', 'ADP', 'ADJ', 'NOUN', 'PUNCT']\n",
      "['Second', ',', 'hindsight', 'is', '20', '/', '20', '.']\n",
      "['ADV', 'PUNCT', 'NOUN', 'VERB', 'NUM', 'PUNCT', 'NUM', 'PUNCT']\n",
      "['Third', ',', 'with', 'the', '\"', 'new', 'age', '\"', 'Efrem', 'Zimbalist', ',', 'Jr.', 'in', 'charge', 'of', 'the', 'investigation', ',', 'it', 'is', 'not', 'likely', 'we', 'could', 'do', 'better', 'in', 'striking', 'the', 'appropriate', 'balance', 'between', 'due', 'process', 'and', 'national', 'security', '.']\n",
      "['ADV', 'PUNCT', 'SCONJ', 'DET', 'PUNCT', 'ADJ', 'NOUN', 'PUNCT', 'PROPN', 'PROPN', 'PUNCT', 'PROPN', 'ADP', 'NOUN', 'ADP', 'DET', 'NOUN', 'PUNCT', 'PRON', 'VERB', 'PART', 'ADJ', 'PRON', 'AUX', 'VERB', 'ADV', 'SCONJ', 'VERB', 'DET', 'ADJ', 'NOUN', 'ADP', 'ADJ', 'NOUN', 'CONJ', 'ADJ', 'NOUN', 'PUNCT']\n",
      "['Finally', ',', 'the', '\"', 'Hatfill', 'theory', '\"', 'seems', 'to', 'have', 'been', 'exhausted', 'or', 'at', 'least', 'lost', 'public', 'favor', '.']\n",
      "['ADV', 'PUNCT', 'DET', 'PUNCT', 'PROPN', 'NOUN', 'PUNCT', 'VERB', 'PART', 'AUX', 'AUX', 'VERB', 'CONJ', 'ADV', 'ADV', 'VERB', 'ADJ', 'NOUN', 'PUNCT']\n",
      "['The', '\"', 'Hatfill', 'theory', '\"', 'accusing', 'Dr.', 'Stephen', 'Hatfill', 'was', 'always', 'highly', 'dubious', '.']\n",
      "['DET', 'PUNCT', 'PROPN', 'NOUN', 'PUNCT', 'VERB', 'PROPN', 'PROPN', 'PROPN', 'VERB', 'ADV', 'ADV', 'ADJ', 'PUNCT']\n",
      "['The', 'suspicion', 'was', 'founded', 'on', 'many', 'false', 'premises', ',', 'and', 'there', 'was', 'no', 'reliable', 'publicly', 'known', 'evidence', 'indicating', 'his', 'guilt', '.']\n",
      "['DET', 'NOUN', 'AUX', 'VERB', 'ADP', 'ADJ', 'ADJ', 'NOUN', 'PUNCT', 'CONJ', 'PRON', 'VERB', 'DET', 'ADJ', 'ADV', 'VERB', 'NOUN', 'VERB', 'PRON', 'NOUN', 'PUNCT']\n",
      "['The', 'FBI', \"'s\", 'fixation', 'on', 'Hatfill', '(', 'at', 'least', 'as', 'rumored', 'by', 'some', 'reporters', ')', 'may', 'have', 'stemmed', 'from', 'a', 'warning', 'by', 'one', 'Senator', 'that', 'careers', 'hung', 'in', 'the', 'balance', '.']\n",
      "['DET', 'PROPN', 'PART', 'NOUN', 'ADP', 'PROPN', 'PUNCT', 'ADV', 'ADV', 'SCONJ', 'VERB', 'ADP', 'DET', 'NOUN', 'PUNCT', 'AUX', 'AUX', 'VERB', 'ADP', 'DET', 'NOUN', 'ADP', 'NUM', 'NOUN', 'SCONJ', 'NOUN', 'VERB', 'ADP', 'DET', 'NOUN', 'PUNCT']\n",
      "['Leahy', \"'s\", 'chief', 'of', 'staff', 'apparently', 'started', 'with', 'the', 'strong', 'predisposition', 'that', 'some', 'right', '-', 'winger', 'was', 'involved', 'because', 'two', 'liberal', 'democrats', 'had', 'been', 'targeted', '.']\n",
      "['PROPN', 'PART', 'NOUN', 'ADP', 'NOUN', 'ADV', 'VERB', 'ADP', 'DET', 'ADJ', 'NOUN', 'SCONJ', 'DET', 'ADJ', 'PUNCT', 'NOUN', 'VERB', 'ADJ', 'SCONJ', 'NUM', 'ADJ', 'NOUN', 'AUX', 'AUX', 'VERB', 'PUNCT']\n",
      "['The', 'Hatfill', 'theory', '--', 'to', 'include', 'ongoing', 'interviews', 'and', 'ongoing', '7', '/', '24', 'surveillance', 'by', '8', 'surveillance', 'specialists', '--', 'is', 'now', 'the', 'subject', 'of', 'pending', 'civil', 'rights', 'and', 'libel', 'claims', 'of', 'uncertain', 'merit', '.']\n",
      "['DET', 'PROPN', 'NOUN', 'PUNCT', 'PART', 'VERB', 'ADJ', 'NOUN', 'CONJ', 'ADJ', 'NUM', 'PUNCT', 'NUM', 'NOUN', 'ADP', 'NUM', 'NOUN', 'NOUN', 'PUNCT', 'VERB', 'ADV', 'DET', 'NOUN', 'ADP', 'ADJ', 'ADJ', 'NOUN', 'CONJ', 'NOUN', 'NOUN', 'ADP', 'ADJ', 'NOUN', 'PUNCT']\n",
      "['A', 'suit', 'against', 'the', 'New', 'York', 'Times', 'and', 'columnist', 'Nicholas', 'Kristof', 'was', 'dismissed', 'in', 'late', 'November', '2004', '.']\n",
      "['DET', 'NOUN', 'ADP', 'DET', 'PROPN', 'PROPN', 'PROPN', 'CONJ', 'NOUN', 'PROPN', 'PROPN', 'AUX', 'VERB', 'ADP', 'ADJ', 'PROPN', 'NUM', 'PUNCT']\n",
      "['The', 'judge', 'had', 'agreed', 'to', 'delay', 'the', 'civil', 'rights', 'matter', 'from', 'proceeding', 'until', 'at', 'least', 'October', '2004', '.']\n",
      "['DET', 'NOUN', 'AUX', 'VERB', 'PART', 'VERB', 'DET', 'ADJ', 'NOUN', 'NOUN', 'ADP', 'NOUN', 'ADP', 'ADV', 'ADV', 'PROPN', 'NUM', 'PUNCT']\n",
      "['The', 'judge', ',', 'frustrated', 'by', 'the', 'apparent', 'lack', 'of', 'progress', ',', 'encouraged', 'that', 'the', 'parties', 'reach', 'a', 'negotiated', 'compromise', 'that', 'would', 'permit', 'some', 'limited', 'discovery', 'to', 'proceed', '(', 'and', 'the', 'judge', 'has', 'directed', 'that', 'the', 'government', 'to', 'file', 'an', 'Answer', 'to', 'the', 'Complaint', ')', '.']\n",
      "['DET', 'NOUN', 'PUNCT', 'VERB', 'ADP', 'DET', 'ADJ', 'NOUN', 'ADP', 'NOUN', 'PUNCT', 'VERB', 'SCONJ', 'DET', 'NOUN', 'VERB', 'DET', 'VERB', 'NOUN', 'PRON', 'AUX', 'VERB', 'DET', 'ADJ', 'NOUN', 'PART', 'VERB', 'PUNCT', 'CONJ', 'DET', 'NOUN', 'AUX', 'VERB', 'SCONJ', 'DET', 'NOUN', 'PART', 'VERB', 'DET', 'NOUN', 'ADP', 'DET', 'NOUN', 'PUNCT', 'PUNCT']\n",
      "['The', 'Hatfill', 'Theory', 'ironically', 'might', 'best', 'be', 'understood', 'as', 'an', 'Al', 'Qaeda', 'theory', ',', 'with', 'a', 'coincidental', 'Malaysian', 'connection', 'adding', 'to', 'the', 'other', 'circumstances', '.']\n",
      "['DET', 'PROPN', 'NOUN', 'ADV', 'AUX', 'ADV', 'AUX', 'VERB', 'ADP', 'DET', 'PROPN', 'PROPN', 'NOUN', 'PUNCT', 'ADP', 'DET', 'ADJ', 'ADJ', 'NOUN', 'VERB', 'ADP', 'DET', 'ADJ', 'NOUN', 'PUNCT']\n",
      "['Given', 'the', 'regrettable', 'leaks', 'that', 'he', 'was', 'under', 'suspicion', ',', 'it', 'is', 'only', 'fair', 'that', 'the', 'FBI', 'leak', 'with', 'equal', 'enthusiasm', 'the', 'fact', 'that', 'Dr.', 'Hatfill', 'has', 'now', 'been', 'dropped', 'as', 'a', 'suspect', 'if', 'and', 'when', 'that', 'proves', 'to', 'be', 'the', 'case', '.']\n",
      "['VERB', 'DET', 'ADJ', 'NOUN', 'SCONJ', 'PRON', 'VERB', 'ADP', 'NOUN', 'PUNCT', 'PRON', 'VERB', 'ADV', 'ADJ', 'SCONJ', 'DET', 'PROPN', 'VERB', 'ADP', 'ADJ', 'NOUN', 'DET', 'NOUN', 'SCONJ', 'PROPN', 'PROPN', 'AUX', 'ADV', 'AUX', 'VERB', 'ADP', 'DET', 'NOUN', 'SCONJ', 'CONJ', 'ADV', 'PRON', 'VERB', 'PART', 'VERB', 'DET', 'NOUN', 'PUNCT']\n",
      "['A', 'search', 'of', 'Dr.', 'Ken', 'Berry', \"'s\", 'residences', 'likely', 'will', 'prove', 'just', 'about', 'the', 'last', 'gasp', 'of', 'a', 'biodefense', 'insider', 'theory', '.']\n",
      "['DET', 'NOUN', 'ADP', 'PROPN', 'PROPN', 'PROPN', 'PART', 'NOUN', 'ADV', 'AUX', 'VERB', 'ADV', 'ADV', 'DET', 'ADJ', 'NOUN', 'ADP', 'DET', 'NOUN', 'NOUN', 'NOUN', 'PUNCT']\n",
      "['Senior', 'officials', 'have', 'been', 'quoted', 'in', 'the', 'press', 'as', 'saying', 'that', 'the', 'searches', 'were', 'for', 'the', 'purpose', 'of', 'excluding', 'him', 'as', 'much', 'as', 'including', 'him', '.']\n",
      "['ADJ', 'NOUN', 'AUX', 'AUX', 'VERB', 'ADP', 'DET', 'NOUN', 'SCONJ', 'VERB', 'SCONJ', 'DET', 'NOUN', 'VERB', 'ADP', 'DET', 'NOUN', 'SCONJ', 'VERB', 'PRON', 'ADV', 'ADV', 'SCONJ', 'VERB', 'PRON', 'PUNCT']\n",
      "['Maureen', ',']\n",
      "['PROPN', 'PUNCT']\n",
      "['Andre', 'is', 'going', 'to', 'look', 'over', 'the', 'list', 'of', 'curves', 'needed', 'for', 'the', 'global', 'assets', '(', 'August', 'Board', 'meeting', ')', 'one', 'more', 'time', 'before', 'I', 'forward', 'it', 'to', 'you', '.']\n",
      "['PROPN', 'AUX', 'VERB', 'PART', 'VERB', 'ADP', 'DET', 'NOUN', 'ADP', 'NOUN', 'VERB', 'ADP', 'DET', 'ADJ', 'NOUN', 'PUNCT', 'PROPN', 'NOUN', 'NOUN', 'PUNCT', 'NUM', 'ADJ', 'NOUN', 'SCONJ', 'PRON', 'VERB', 'PRON', 'ADP', 'PRON', 'PUNCT']\n",
      "['He', 'will', 'make', 'sure', 'that', 'we', 'do', 'not', 'request', 'FX', 'and', 'inflation', '(', 'CPI', ',', 'PPI', ',', 'etc.', ')', 'curves', 'when', 'only', 'one', 'of', 'the', 'curves', 'will', 'actually', 'be', 'used', 'in', 'the', 'valuation', 'process', 'and', 'to', 'determine', 'which', 'inflation', 'index', 'is', 'needed', '.']\n",
      "['PRON', 'AUX', 'VERB', 'ADJ', 'SCONJ', 'PRON', 'AUX', 'PART', 'VERB', 'NOUN', 'CONJ', 'NOUN', 'PUNCT', 'NOUN', 'PUNCT', 'NOUN', 'PUNCT', 'X', 'PUNCT', 'NOUN', 'ADV', 'ADV', 'NUM', 'ADP', 'DET', 'NOUN', 'AUX', 'ADV', 'AUX', 'VERB', 'ADP', 'DET', 'NOUN', 'NOUN', 'CONJ', 'PART', 'VERB', 'DET', 'NOUN', 'NOUN', 'AUX', 'VERB', 'PUNCT']\n",
      "['Typically', ',', 'we', 'receive', 'both', 'FX', 'and', 'inflation', 'from', 'you', ',', 'but', 'both', 'curves', 'may', 'not', 'always', 'be', 'used', '.']\n",
      "['ADV', 'PUNCT', 'PRON', 'VERB', 'CONJ', 'NOUN', 'CONJ', 'NOUN', 'ADP', 'PRON', 'PUNCT', 'CONJ', 'DET', 'NOUN', 'AUX', 'PART', 'ADV', 'AUX', 'VERB', 'PUNCT']\n",
      "['I', 'hope', 'that', 'we', 'can', 'give', 'you', 'some', 'time', 'savings', 'by', 'eliminating', 'any', 'nonessential', 'requests', '.']\n",
      "['PRON', 'VERB', 'SCONJ', 'PRON', 'AUX', 'VERB', 'PRON', 'DET', 'NOUN', 'NOUN', 'SCONJ', 'VERB', 'DET', 'ADJ', 'NOUN', 'PUNCT']\n",
      "['For', 'now', ',', 'this', 'is', 'the', 'list', 'of', 'countries', 'for', 'which', 'we', 'will', 'probably', 'need', 'the', 'FX', 'and', '/', 'or', 'inflation', 'curves', '.']\n",
      "['ADP', 'ADV', 'PUNCT', 'PRON', 'VERB', 'DET', 'NOUN', 'ADP', 'NOUN', 'ADP', 'PRON', 'PRON', 'AUX', 'ADV', 'VERB', 'DET', 'NOUN', 'CONJ', 'PUNCT', 'CONJ', 'NOUN', 'NOUN', 'PUNCT']\n",
      "['I', 'will', 'send', 'the', 'specifics', 'per', 'Andre', 'later', 'today', '.']\n",
      "['PRON', 'AUX', 'VERB', 'DET', 'NOUN', 'ADP', 'PROPN', 'ADV', 'NOUN', 'PUNCT']\n",
      "['India']\n",
      "['PROPN']\n",
      "['Philippines']\n",
      "['PROPN']\n",
      "['Bolivia']\n",
      "['PROPN']\n",
      "['Jamaica']\n",
      "['PROPN']\n",
      "['Guatemala']\n",
      "['PROPN']\n",
      "['Venezuela']\n",
      "['PROPN']\n",
      "['Columbia']\n",
      "['PROPN']\n",
      "['Puerto', 'Rico', 'CPI', 'only', '(', 'I', 'need', 'historical', 'inflation', 'data', ',', 'as', 'well', ')']\n",
      "['PROPN', 'PROPN', 'NOUN', 'ADV', 'PUNCT', 'PRON', 'VERB', 'ADJ', 'NOUN', 'NOUN', 'PUNCT', 'ADV', 'ADV', 'PUNCT']\n",
      "['Panama']\n",
      "['PROPN']\n",
      "['Brazil', 'we', 'have', 'current', 'data', 'already']\n",
      "['PROPN', 'PRON', 'VERB', 'ADJ', 'NOUN', 'ADV']\n",
      "['China', 'we', 'have', 'current', 'data', 'already']\n",
      "['PROPN', 'PRON', 'VERB', 'ADJ', 'NOUN', 'ADV']\n",
      "['Euro', 'inflation', 'only']\n",
      "['PROPN', 'NOUN', 'ADV']\n",
      "['I', 'am', 'not', 'certain', 'about', 'the', 'needs', 'for', 'the', 'London', 'Underwriting', '/', 'IV', 'group', 'but', 'will', 'request', 'the', 'information', 'from', 'them', 'if', 'you', 'have', 'not', 'done', 'so', 'already', '.']\n",
      "['PRON', 'VERB', 'PART', 'ADJ', 'ADP', 'DET', 'NOUN', 'ADP', 'DET', 'PROPN', 'NOUN', 'PUNCT', 'NOUN', 'NOUN', 'CONJ', 'AUX', 'VERB', 'DET', 'NOUN', 'ADP', 'PRON', 'SCONJ', 'PRON', 'AUX', 'PART', 'VERB', 'ADV', 'ADV', 'PUNCT']\n",
      "['Thanks', '!']\n",
      "['NOUN', 'PUNCT']\n",
      "['Cindy']\n",
      "['PROPN']\n",
      "['David', 'and', 'Cindy', ',']\n",
      "['PROPN', 'CONJ', 'PROPN', 'PUNCT']\n",
      "['Please', 'send', 'us', 'the', 'list', 'of', 'the', 'curves', 'that', 'you', 'will', 'need', 'to', 'revalue', 'our', 'international', 'assets', 'for', 'the', 'August', 'Board', 'meeting', '.']\n",
      "['INTJ', 'VERB', 'PRON', 'DET', 'NOUN', 'ADP', 'DET', 'NOUN', 'PRON', 'PRON', 'AUX', 'VERB', 'PART', 'VERB', 'PRON', 'ADJ', 'NOUN', 'ADP', 'DET', 'PROPN', 'NOUN', 'NOUN', 'PUNCT']\n",
      "['Thanks', ',']\n",
      "['NOUN', 'PUNCT']\n",
      "['Maureen']\n",
      "['PROPN']\n",
      "['Philip', ',']\n",
      "['PROPN', 'PUNCT']\n",
      "['I', 'have', 'to', 'decline', 'the', 'invitation', 'with', 'regrets', '.']\n",
      "['PRON', 'VERB', 'PART', 'VERB', 'DET', 'NOUN', 'ADP', 'NOUN', 'PUNCT']\n",
      "['I', 'have', 'too', 'many', 'commitments', 'right', 'now', '.']\n",
      "['PRON', 'VERB', 'ADV', 'ADJ', 'NOUN', 'ADV', 'ADV', 'PUNCT']\n",
      "['Vince', 'Kaminski']\n",
      "['PROPN', 'PROPN']\n",
      "['Dear', 'Vince']\n",
      "['ADJ', 'PROPN']\n",
      "['Just', 'a', 'quick', 'message', 'to', 'follow', 'up', 'on', 'the', 'email', 'that', 'I', 'sent', 'you', 'recently', 'inviting', 'you', 'to', 'speak', 'at', 'our', 'forthcoming', 'congress', ',', 'Risk', '2001', 'Australia', ',', 'which', 'is', 'taking', 'place', 'in', 'Sydney', 'on', '20', '&', '21', 'August', '2001', '.']\n",
      "['ADV', 'DET', 'ADJ', 'NOUN', 'PART', 'VERB', 'ADP', 'ADP', 'DET', 'NOUN', 'PRON', 'PRON', 'VERB', 'PRON', 'ADV', 'VERB', 'PRON', 'PART', 'VERB', 'ADP', 'PRON', 'ADJ', 'NOUN', 'PUNCT', 'PROPN', 'NUM', 'PROPN', 'PUNCT', 'PRON', 'AUX', 'VERB', 'NOUN', 'ADP', 'PROPN', 'ADP', 'NUM', 'CONJ', 'NUM', 'PROPN', 'NUM', 'PUNCT']\n",
      "['Have', 'you', 'had', 'an', 'opportunity', 'to', 'consider', 'the', 'invitation', 'yet', '?']\n",
      "['AUX', 'PRON', 'VERB', 'DET', 'NOUN', 'PART', 'VERB', 'DET', 'NOUN', 'ADV', 'PUNCT']\n",
      "['We', 'are', 'aiming', 'to', 'have', 'the', 'programme', 'printed', 'next', 'week', ',', 'so', 'I', 'would', 'really', 'need', 'to', 'know', 'as', 'soon', 'as', 'possible', 'if', 'you', 'would', 'be', 'available', 'to', 'speak', 'at', 'this', 'year', \"'s\", 'congress', '.']\n",
      "['PRON', 'AUX', 'VERB', 'PART', 'VERB', 'DET', 'NOUN', 'VERB', 'ADJ', 'NOUN', 'PUNCT', 'ADV', 'PRON', 'AUX', 'ADV', 'VERB', 'PART', 'VERB', 'ADV', 'ADV', 'SCONJ', 'ADJ', 'SCONJ', 'PRON', 'AUX', 'VERB', 'ADJ', 'PART', 'VERB', 'ADP', 'DET', 'NOUN', 'PART', 'NOUN', 'PUNCT']\n",
      "['I', 'am', 'working', 'from', 'our', 'Hong', 'Kong', 'office', 'for', 'this', 'week', 'only', '(', 'Tel', ':', '+852', '2545', '2710', ')', ',', 'and', 'I', 'can', 'be', 'contacted', 'by', 'phone', 'there', 'or', 'by', 'email', '.']\n",
      "['PRON', 'AUX', 'VERB', 'ADP', 'PRON', 'PROPN', 'PROPN', 'NOUN', 'ADP', 'DET', 'NOUN', 'ADV', 'PUNCT', 'NOUN', 'PUNCT', 'NUM', 'NUM', 'NUM', 'PUNCT', 'PUNCT', 'CONJ', 'PRON', 'AUX', 'AUX', 'VERB', 'ADP', 'NOUN', 'ADV', 'CONJ', 'ADP', 'NOUN', 'PUNCT']\n",
      "['Kind', 'regards', '.']\n",
      "['ADJ', 'NOUN', 'PUNCT']\n",
      "['Philip']\n",
      "['PROPN']\n",
      "['Philip', 'Annesley', 'Conference', 'Producer', 'Risk', 'Waters', 'Group', '+44', '20', '7484', '9866', '+44', '20', '7484', '9800', 'www.risk-conferences.com/risk2001aus']\n",
      "['PROPN', 'PROPN', 'NOUN', 'NOUN', 'PROPN', 'PROPN', 'PROPN', 'NUM', 'NUM', 'NUM', 'NUM', 'NUM', 'NUM', 'NUM', 'NUM', 'X']\n",
      "['Beth', 'has', 'made', 'our', 'reservations', 'for', 'the', 'Round', 'Table', 'Friday', 'night', '(', '5/18', ')', 'at', 'Sullivan', \"'s\", 'Steak', 'House', 'for', '6:30', '.']\n",
      "['PROPN', 'AUX', 'VERB', 'PRON', 'NOUN', 'ADP', 'DET', 'ADJ', 'NOUN', 'PROPN', 'NOUN', 'PUNCT', 'NUM', 'PUNCT', 'ADP', 'PROPN', 'PART', 'PROPN', 'PROPN', 'ADP', 'NUM', 'PUNCT']\n",
      "['See', 'you', 'all', 'there', '-', 'this', 'is', 'ling', 'overdue']\n",
      "['VERB', 'PRON', 'DET', 'ADV', 'PUNCT', 'PRON', 'VERB', 'ADV', 'ADJ']\n",
      "['Paula']\n",
      "['PROPN']\n",
      "['Paula', ',']\n",
      "['PROPN', 'PUNCT']\n",
      "['Thanks', 'a', 'lot', '.']\n",
      "['NOUN', 'DET', 'NOUN', 'PUNCT']\n",
      "['Will', 'you', 'drive', 'on', 'that', 'day', '?']\n",
      "['AUX', 'PRON', 'VERB', 'ADP', 'DET', 'NOUN', 'PUNCT']\n",
      "['Vince']\n",
      "['PROPN']\n",
      "['Beth', 'has', 'made', 'our', 'reservations', 'for', 'the', 'Round', 'Table', 'Friday', 'night', '(', '5/18', ')', 'at', 'Sullivan', \"'s\", 'Steak', 'House', 'for', '6:30', '.']\n",
      "['PROPN', 'AUX', 'VERB', 'PRON', 'NOUN', 'ADP', 'DET', 'PROPN', 'PROPN', 'PROPN', 'NOUN', 'PUNCT', 'NUM', 'PUNCT', 'ADP', 'PROPN', 'PART', 'PROPN', 'PROPN', 'ADP', 'NUM', 'PUNCT']\n",
      "['See', 'you', 'all', 'there', '-', 'this', 'is', 'ling', 'overdue']\n",
      "['VERB', 'PRON', 'DET', 'ADV', 'PUNCT', 'PRON', 'VERB', 'ADV', 'ADJ']\n",
      "['Paula']\n",
      "['PROPN']\n",
      "['FYI']\n",
      "['ADV']\n",
      "['Vince']\n",
      "['PROPN']\n",
      "['Anne', ',', 'Mike', 'will', 'call', 'you', 'regarding', 'Sarah', '.']\n",
      "['PROPN', 'PUNCT', 'PROPN', 'AUX', 'VERB', 'PRON', 'VERB', 'PROPN', 'PUNCT']\n",
      "['Vince', ',']\n",
      "['PROPN', 'PUNCT']\n",
      "['As', 'I', 'mentioned', 'in', 'my', 'voice', 'mail', ',', 'Mike', 'Roberts', 'going', 'to', 'hire', 'Sara', 'Woody', ',', 'a', 'recent', 'MBA', 'grad', 'from', 'Rice', ',', 'into', 'his', 'group', '.']\n",
      "['SCONJ', 'PRON', 'VERB', 'ADP', 'PRON', 'NOUN', 'NOUN', 'PUNCT', 'PROPN', 'PROPN', 'VERB', 'PART', 'VERB', 'PROPN', 'PROPN', 'PUNCT', 'DET', 'ADJ', 'NOUN', 'NOUN', 'ADP', 'PROPN', 'PUNCT', 'ADP', 'PRON', 'NOUN', 'PUNCT']\n",
      "['However', ',', 'when', 'we', 'were', 'talking', 'about', 'this', 'position', ',', 'Mike', 'compared', 'Sara', 'to', 'Elena', '.']\n",
      "['ADV', 'PUNCT', 'ADV', 'PRON', 'AUX', 'VERB', 'ADP', 'DET', 'NOUN', 'PUNCT', 'PROPN', 'VERB', 'PROPN', 'ADP', 'PROPN', 'PUNCT']\n",
      "['Elena', \"'s\", 'title', 'is', 'admin', 'coordinator', ',', 'and', 'I', 'know', 'that', 'Sara', 'should', 'not', 'have', 'this', 'title', ',', 'and', 'honestly', 'do', 'not', 'think', 'that', 'Elena', 'should', 'also', '.']\n",
      "['PROPN', 'PART', 'NOUN', 'VERB', 'ADJ', 'NOUN', 'PUNCT', 'CONJ', 'PRON', 'VERB', 'SCONJ', 'PROPN', 'AUX', 'PART', 'VERB', 'DET', 'NOUN', 'PUNCT', 'CONJ', 'ADV', 'AUX', 'PART', 'VERB', 'SCONJ', 'PROPN', 'AUX', 'ADV', 'PUNCT']\n",
      "['Admin', \"coordinator's\", 'do', 'primarily', 'administrative', 'work', '.']\n",
      "['ADJ', 'NOUN', 'VERB', 'ADV', 'ADJ', 'NOUN', 'PUNCT']\n",
      "['I', 'suggest', 'that', 'you', 'compare', 'Elena', 'and', 'Sarah', \"'s\", 'duties', '/', 'level', 'to', 'other', 'Sr.', 'Spec.', 'in', 'your', 'group', 'such', 'as', 'Kenneth', 'Parkhill', 'and', 'Sevil', 'to', 'determine', 'if', 'they', 'are', 'equivalent', ',', 'or', 'if', 'their', 'scope', 'of', 'responsibilities', 'and', 'experience', 'is', 'not', 'as', 'broad', '.']\n",
      "['PRON', 'VERB', 'SCONJ', 'PRON', 'VERB', 'PROPN', 'CONJ', 'PROPN', 'PART', 'NOUN', 'PUNCT', 'NOUN', 'ADP', 'ADJ', 'ADJ', 'NOUN', 'ADP', 'PRON', 'NOUN', 'ADJ', 'ADP', 'PROPN', 'PROPN', 'CONJ', 'PROPN', 'PART', 'VERB', 'SCONJ', 'PRON', 'VERB', 'ADJ', 'PUNCT', 'CONJ', 'SCONJ', 'PRON', 'NOUN', 'ADP', 'NOUN', 'CONJ', 'NOUN', 'VERB', 'PART', 'ADV', 'ADJ', 'PUNCT']\n",
      "['If', 'the', 'latter', 'is', 'the', 'case', ',', 'we', 'could', 'place', 'both', 'Sara', 'and', 'Elena', 'in', 'a', 'specialist', 'job', 'group', '(', 'the', 'salary', 'range', 'is', '33', '-', '66', 'K', ')', '.']\n",
      "['SCONJ', 'DET', 'ADJ', 'VERB', 'DET', 'NOUN', 'PUNCT', 'PRON', 'AUX', 'VERB', 'CONJ', 'PROPN', 'CONJ', 'PROPN', 'ADP', 'DET', 'NOUN', 'NOUN', 'NOUN', 'PUNCT', 'DET', 'NOUN', 'NOUN', 'VERB', 'NUM', 'SYM', 'NUM', 'NUM', 'PUNCT', 'PUNCT']\n",
      "['Please', 'advise', '.']\n",
      "['INTJ', 'VERB', 'PUNCT']\n",
      "['Thanks', ',']\n",
      "['NOUN', 'PUNCT']\n",
      "['Anne']\n",
      "['PROPN']\n",
      "['Clayton', ',']\n",
      "['PROPN', 'PUNCT']\n",
      "['Thanks', 'a', 'lot', '.']\n",
      "['NOUN', 'DET', 'NOUN', 'PUNCT']\n",
      "['I', 'appreciate', 'all', 'your', 'help', '.']\n",
      "['PRON', 'VERB', 'DET', 'PRON', 'NOUN', 'PUNCT']\n",
      "['Vince']\n",
      "['PROPN']\n",
      "['Vince', '-']\n",
      "['PROPN', 'PUNCT']\n",
      "['Good', 'news', '.']\n",
      "['ADJ', 'NOUN', 'PUNCT']\n",
      "['Martin', \"'s\", 'box', 'is', 'working', 'wonderfully', '-', 'I', \"'ll\", 'have', 'everything', 'transferred', 'to', 'it', 'and', 'give', 'him', 'the', 'keys', 'by', 'Friday', '.']\n",
      "['PROPN', 'PART', 'NOUN', 'AUX', 'VERB', 'ADV', 'PUNCT', 'PRON', 'AUX', 'VERB', 'PRON', 'VERB', 'ADP', 'PRON', 'CONJ', 'VERB', 'PRON', 'DET', 'NOUN', 'ADP', 'PROPN', 'PUNCT']\n",
      "['This', 'was', '(', 'another', ')', 'nice', 'deal', 'for', 'Enron', '.']\n",
      "['PRON', 'VERB', 'PUNCT', 'DET', 'PUNCT', 'ADJ', 'NOUN', 'ADP', 'PROPN', 'PUNCT']\n",
      "['We', 'save', '$', '21,000', 'in', 'real', 'money', 'this', 'way', ',', 'the', 'cash', 'refund', 'Sun', 'is', 'giving', 'Enron', 'for', 'our', 'other', 'server', ',', 'using', 'a', 'box', 'that', 'was', \"n't\", 'being', 'used', 'by', 'anyone', '.']\n",
      "['PRON', 'VERB', 'SYM', 'NUM', 'ADP', 'ADJ', 'NOUN', 'DET', 'NOUN', 'PUNCT', 'DET', 'NOUN', 'NOUN', 'PROPN', 'AUX', 'VERB', 'PROPN', 'ADP', 'PRON', 'ADJ', 'NOUN', 'PUNCT', 'VERB', 'DET', 'NOUN', 'PRON', 'AUX', 'PART', 'AUX', 'VERB', 'ADP', 'PRON', 'PUNCT']\n",
      "['I', \"'m\", 'happy', 'about', 'this', '.']\n",
      "['PRON', 'VERB', 'ADJ', 'ADP', 'PRON', 'PUNCT']\n",
      "['Clayton']\n",
      "['PROPN']\n",
      "['Iris', ',']\n",
      "['PROPN', 'PUNCT']\n",
      "['Congratulations', '.']\n",
      "['NOUN', 'PUNCT']\n",
      "['Anne', ',', 'please', ',', 'include', 'this', 'info', 'in', 'Iris', \"'\", 'file']\n",
      "['PROPN', 'PUNCT', 'INTJ', 'PUNCT', 'VERB', 'DET', 'NOUN', 'ADP', 'PROPN', 'PART', 'NOUN']\n",
      "['Vince']\n",
      "['PROPN']\n",
      "['Michael', ':']\n",
      "['PROPN', 'PUNCT']\n",
      "['Thanks', 'for', 'putting', 'the', 'paperwork', 'together', '.']\n",
      "['NOUN', 'SCONJ', 'VERB', 'DET', 'NOUN', 'ADV', 'PUNCT']\n",
      "['I', 'would', 'have', 'interest', 'in', 'meeting', 'if', 'you', 'can', 'present', 'unique', 'investment', 'opportunities', 'that', 'I', 'do', \"n't\", 'have', 'access', 'to', 'now', '.']\n",
      "['PRON', 'AUX', 'VERB', 'NOUN', 'ADP', 'NOUN', 'SCONJ', 'PRON', 'AUX', 'VERB', 'ADJ', 'NOUN', 'NOUN', 'PRON', 'PRON', 'AUX', 'PART', 'VERB', 'NOUN', 'ADP', 'ADV', 'PUNCT']\n",
      "['Most', 'of', 'my', 'contact', 'with', 'financial', 'advisors', 'in', 'the', 'past', 'has', 'consisted', 'of', 'them', 'suggesting', 'a', 'mutual', 'fund', ',', 'telling', 'me', 'to', 'invest', 'in', 'Home', 'Depot', ',', 'Sun', ',', 'and', 'Coke', ',', 'or', 'trying', 'to', 'pass', 'off', 'their', 'banks', \"'\", 'biased', 'research', 'reports', 'as', 'something', 'valuable', '.']\n",
      "['ADJ', 'ADP', 'PRON', 'NOUN', 'ADP', 'ADJ', 'NOUN', 'ADP', 'DET', 'NOUN', 'AUX', 'VERB', 'SCONJ', 'PRON', 'VERB', 'DET', 'ADJ', 'NOUN', 'PUNCT', 'VERB', 'PRON', 'PART', 'VERB', 'ADP', 'PROPN', 'PROPN', 'PUNCT', 'PROPN', 'PUNCT', 'CONJ', 'PROPN', 'PUNCT', 'CONJ', 'VERB', 'PART', 'VERB', 'ADP', 'PRON', 'NOUN', 'PART', 'ADJ', 'NOUN', 'NOUN', 'ADP', 'PRON', 'ADJ', 'PUNCT']\n",
      "['The', 'above', 'services', 'provide', 'no', 'value', 'to', 'me', 'personally', '.']\n",
      "['DET', 'ADJ', 'NOUN', 'VERB', 'DET', 'NOUN', 'ADP', 'PRON', 'ADV', 'PUNCT']\n",
      "['If', 'you', 'can', 'present', 'opportunities', 'such', 'as', 'access', 'to', 'private', 'equity', 'or', 'hedge', 'funds', ',', 'or', 'other', 'ideas', 'with', 'strong', 'growth', 'potential', 'and', 'low', 'correlation', 'to', 'the', 'S@P', ',', 'I', \"'d\", 'listen', '.']\n",
      "['SCONJ', 'PRON', 'AUX', 'VERB', 'NOUN', 'ADJ', 'ADP', 'NOUN', 'ADP', 'ADJ', 'NOUN', 'CONJ', 'NOUN', 'NOUN', 'PUNCT', 'CONJ', 'ADJ', 'NOUN', 'ADP', 'ADJ', 'NOUN', 'NOUN', 'CONJ', 'ADJ', 'NOUN', 'ADP', 'DET', 'NOUN', 'PUNCT', 'PRON', 'AUX', 'VERB', 'PUNCT']\n",
      "['John']\n",
      "['PROPN']\n",
      "['John', '-']\n",
      "['PROPN', 'PUNCT']\n",
      "['We', \"'ll\", 'get', 'the', 'paperwork', 'together', 'and', 'sent', 'to', 'you', 'for', 'naked', 'options', '.']\n",
      "['PRON', 'AUX', 'VERB', 'DET', 'NOUN', 'ADV', 'CONJ', 'VERB', 'ADP', 'PRON', 'ADP', 'ADJ', 'NOUN', 'PUNCT']\n",
      "['At', 'some', 'point', ',', 'I', \"'d\", 'like', 'to', 'talk', 'about', 'the', 'diversification', 'strategy', 'in', 'more', 'detail', '--', 'perhaps', 'over', 'dinner', 'or', 'a', 'quick', 'meeting', 'after', 'the', 'markets', 'close', '?']\n",
      "['ADP', 'DET', 'NOUN', 'PUNCT', 'PRON', 'AUX', 'VERB', 'PART', 'VERB', 'ADP', 'DET', 'NOUN', 'NOUN', 'ADP', 'ADJ', 'NOUN', 'PUNCT', 'ADV', 'ADP', 'NOUN', 'CONJ', 'DET', 'ADJ', 'NOUN', 'SCONJ', 'DET', 'NOUN', 'VERB', 'PUNCT']\n",
      "['Michael', 'Gapinski', 'Account', 'Vice', 'President', 'Emery', 'Financial', 'Group', 'PaineWebber', ',', 'Inc.', '713-654-0365', '800-553-3119', 'x365', 'Fax', ':', '713-654-1281', 'Cell', ':', '281-435-0295']\n",
      "['PROPN', 'PROPN', 'NOUN', 'NOUN', 'NOUN', 'PROPN', 'PROPN', 'PROPN', 'PROPN', 'PUNCT', 'PROPN', 'NUM', 'NUM', 'NOUN', 'NOUN', 'PUNCT', 'NUM', 'NOUN', 'PUNCT', 'NUM']\n",
      "['Michael', ':']\n",
      "['PROPN', 'PUNCT']\n",
      "['Appreciate', 'the', 'idea', '.']\n",
      "['VERB', 'DET', 'NOUN', 'PUNCT']\n",
      "['However', ',', 'with', 'my', 'natural', 'long', ',', 'I', \"'m\", 'not', 'looking', 'to', 'really', 'trade', 'around', 'the', 'position', '.']\n",
      "['ADV', 'PUNCT', 'ADP', 'PRON', 'ADJ', 'NOUN', 'PUNCT', 'PRON', 'AUX', 'PART', 'VERB', 'PART', 'ADV', 'VERB', 'ADP', 'DET', 'NOUN', 'PUNCT']\n",
      "['I', 'believe', 'ENE', 'will', 'continue', 'to', 'be', 'range', 'bound', ',', 'but', 'in', 'case', 'it', 'is', 'not', ',', 'I', 'do', \"n't\", 'want', 'to', 'forgo', '50', '%', 'of', 'my', 'option', 'premium', '.']\n",
      "['PRON', 'VERB', 'PROPN', 'AUX', 'VERB', 'PART', 'VERB', 'NOUN', 'ADJ', 'PUNCT', 'CONJ', 'SCONJ', 'NOUN', 'PRON', 'VERB', 'PART', 'PUNCT', 'PRON', 'AUX', 'PART', 'VERB', 'PART', 'VERB', 'NUM', 'SYM', 'ADP', 'PRON', 'NOUN', 'NOUN', 'PUNCT']\n",
      "['I', 'have', 'price', 'targets', 'of', 'where', 'I', 'would', 'like', 'to', 'lighten', 'up', 'exposure', 'to', 'ENE', 'and', 'will', 'use', 'calls', 'to', 'implement', 'the', 'stategy', '.']\n",
      "['PRON', 'AUX', 'NOUN', 'NOUN', 'SCONJ', 'ADV', 'PRON', 'AUX', 'VERB', 'PART', 'VERB', 'ADP', 'NOUN', 'ADP', 'PROPN', 'CONJ', 'AUX', 'VERB', 'NOUN', 'PART', 'VERB', 'DET', 'NOUN', 'PUNCT']\n",
      "['To', 'that', 'regards', ',', 'I', 'noticed', 'I', 'was', 'not', 'approved', 'to', 'sell', 'naked', 'calls', '.']\n",
      "['ADP', 'DET', 'NOUN', 'PUNCT', 'PRON', 'VERB', 'PRON', 'AUX', 'PART', 'VERB', 'PART', 'VERB', 'ADJ', 'NOUN', 'PUNCT']\n",
      "['I', 'would', 'like', 'that', 'ability', 'in', 'order', 'to', 'hedge', 'some', 'exposure', 'I', 'have', 'of', 'unexercised', 'vested', 'options', '.']\n",
      "['PRON', 'AUX', 'VERB', 'DET', 'NOUN', 'ADP', 'NOUN', 'PART', 'VERB', 'DET', 'NOUN', 'PRON', 'VERB', 'ADP', 'ADJ', 'ADJ', 'NOUN', 'PUNCT']\n",
      "['Please', 'look', 'into', 'that', 'for', 'me', '.']\n",
      "['INTJ', 'VERB', 'ADP', 'PRON', 'ADP', 'PRON', 'PUNCT']\n",
      "['John', '.']\n",
      "['PROPN', 'PUNCT']\n",
      "['John', '-']\n",
      "['PROPN', 'PUNCT']\n",
      "['I', 'was', 'looking', 'at', 'the', 'recent', 'pullback', 'in', 'ENE', 'and', 'thinking', 'it', 'might', 'be', 'an', 'opportunity', 'to', 'buy', 'back', 'the', 'calls', 'you', 'sold', '.']\n",
      "['PRON', 'AUX', 'VERB', 'ADP', 'DET', 'ADJ', 'NOUN', 'ADP', 'PROPN', 'CONJ', 'VERB', 'PRON', 'AUX', 'VERB', 'DET', 'NOUN', 'PART', 'VERB', 'ADP', 'DET', 'NOUN', 'PRON', 'VERB', 'PUNCT']\n",
      "['Of', 'course', ',', 'you', 'would', 'then', 'be', 'in', 'a', 'position', 'to', 'sell', 'calls', 'again', 'if', 'the', 'stock', 'makes', 'a', 'bounce', '.']\n",
      "['ADV', 'ADV', 'PUNCT', 'PRON', 'AUX', 'ADV', 'VERB', 'ADP', 'DET', 'NOUN', 'PART', 'VERB', 'NOUN', 'ADV', 'SCONJ', 'DET', 'NOUN', 'VERB', 'DET', 'NOUN', 'PUNCT']\n",
      "['I', \"'m\", 'not', 'sure', 'that', 'ENE', '@', '75', 'is', 'the', 'place', ',', 'but', 'maybe', '@', '73', '.']\n",
      "['PRON', 'VERB', 'PART', 'ADJ', 'SCONJ', 'PROPN', 'ADP', 'NUM', 'VERB', 'DET', 'NOUN', 'PUNCT', 'CONJ', 'ADV', 'ADP', 'NUM', 'PUNCT']\n",
      "['Call', 'me', 'if', 'you', \"'re\", 'interested', '.']\n",
      "['VERB', 'PRON', 'SCONJ', 'PRON', 'VERB', 'ADJ', 'PUNCT']\n",
      "['Michael', 'Gapinski', 'Account', 'Vice', 'President', 'Emery', 'Financial', 'Group', 'PaineWebber', ',', 'Inc.', '713-654-0365', '800-553-3119', 'x365', 'Fax', ':', '713-654-1281', 'Cell', ':', '281-435-0295']\n",
      "['PROPN', 'PROPN', 'NOUN', 'NOUN', 'NOUN', 'PROPN', 'PROPN', 'PROPN', 'PROPN', 'PUNCT', 'PROPN', 'NUM', 'NUM', 'NOUN', 'NOUN', 'PUNCT', 'NUM', 'NOUN', 'PUNCT', 'NUM']\n",
      "['Notice', 'Regarding', 'Entry', 'of', 'Orders', 'and', 'Instructions', ':', 'Please', 'do', 'not', 'transmit', 'orders', 'and', '/', 'or', 'instructions', 'regarding', 'your', 'PaineWebber', 'account', '(', 's', ')', 'by', 'e-mail', '.']\n",
      "['NOUN', 'VERB', 'NOUN', 'ADP', 'NOUN', 'CONJ', 'NOUN', 'PUNCT', 'INTJ', 'AUX', 'PART', 'VERB', 'NOUN', 'CONJ', 'PUNCT', 'CONJ', 'NOUN', 'VERB', 'PRON', 'PROPN', 'NOUN', 'PUNCT', 'X', 'PUNCT', 'ADP', 'NOUN', 'PUNCT']\n",
      "['Orders', 'and', '/', 'or', 'instructions', 'transmitted', 'by', 'e-mail', 'will', 'not', 'be', 'accepted', 'by', 'PaineWebber', 'and', 'PaineWebber', 'will', 'not', 'be', 'responsible', 'for', 'carrying', 'out', 'such', 'orders', 'and', '/', 'or', 'instructions', '.']\n",
      "['NOUN', 'CONJ', 'PUNCT', 'CONJ', 'NOUN', 'VERB', 'ADP', 'NOUN', 'AUX', 'PART', 'AUX', 'VERB', 'ADP', 'PROPN', 'CONJ', 'PROPN', 'AUX', 'PART', 'VERB', 'ADJ', 'SCONJ', 'VERB', 'ADP', 'ADJ', 'NOUN', 'CONJ', 'PUNCT', 'CONJ', 'NOUN', 'PUNCT']\n",
      "['Notice', 'Regarding', 'Privacy', 'and', 'Confidentiality', ':', 'PaineWebber', 'reserves', 'the', 'right', 'to', 'monitor', 'and', 'review', 'the', 'content', 'of', 'all', 'e-mail', 'communications', 'sent', 'and', '/', 'or', 'received', 'by', 'its', 'employees', '.']\n",
      "['NOUN', 'VERB', 'NOUN', 'CONJ', 'NOUN', 'PUNCT', 'PROPN', 'VERB', 'DET', 'NOUN', 'PART', 'VERB', 'CONJ', 'VERB', 'DET', 'NOUN', 'ADP', 'DET', 'NOUN', 'NOUN', 'VERB', 'CONJ', 'PUNCT', 'CONJ', 'VERB', 'ADP', 'PRON', 'NOUN', 'PUNCT']\n",
      "['Notice', 'Regarding', 'Entry', 'of', 'Orders', 'and', 'Instructions', ':', 'Please', 'do', 'not', 'transmit', 'orders', 'and', '/', 'or', 'instructions', 'regarding', 'your', 'PaineWebber', 'account', '(', 's', ')', 'by', 'e-mail', '.']\n",
      "['NOUN', 'VERB', 'NOUN', 'ADP', 'NOUN', 'CONJ', 'NOUN', 'PUNCT', 'INTJ', 'AUX', 'PART', 'VERB', 'NOUN', 'CONJ', 'PUNCT', 'CONJ', 'NOUN', 'VERB', 'PRON', 'PROPN', 'NOUN', 'PUNCT', 'X', 'PUNCT', 'ADP', 'NOUN', 'PUNCT']\n",
      "['Orders', 'and', '/', 'or', 'instructions', 'transmitted', 'by', 'e-mail', 'will', 'not', 'be', 'accepted', 'by', 'PaineWebber', 'and', 'PaineWebber', 'will', 'not', 'be', 'responsible', 'for', 'carrying', 'out', 'such', 'orders', 'and', '/', 'or', 'instructions', '.']\n",
      "['NOUN', 'CONJ', 'PUNCT', 'CONJ', 'NOUN', 'VERB', 'ADP', 'NOUN', 'AUX', 'PART', 'AUX', 'VERB', 'ADP', 'PROPN', 'CONJ', 'PROPN', 'AUX', 'PART', 'VERB', 'ADJ', 'SCONJ', 'VERB', 'ADP', 'ADJ', 'NOUN', 'CONJ', 'PUNCT', 'CONJ', 'NOUN', 'PUNCT']\n",
      "['Notice', 'Regarding', 'Privacy', 'and', 'Confidentiality', ':', 'PaineWebber', 'reserves', 'the', 'right', 'to', 'monitor', 'and', 'review', 'the', 'content', 'of', 'all', 'e-mail', 'communications', 'sent', 'and', '/', 'or', 'received', 'by', 'its', 'employees', '.']\n",
      "['PROPN', 'VERB', 'NOUN', 'CONJ', 'NOUN', 'PUNCT', 'PROPN', 'VERB', 'DET', 'NOUN', 'PART', 'VERB', 'CONJ', 'VERB', 'DET', 'NOUN', 'ADP', 'DET', 'NOUN', 'NOUN', 'VERB', 'CONJ', 'PUNCT', 'CONJ', 'VERB', 'ADP', 'PRON', 'NOUN', 'PUNCT']\n",
      "['Notice', 'Regarding', 'Entry', 'of', 'Orders', 'and', 'Instructions', ':', 'Please', 'do', 'not', 'transmit', 'orders', 'and', '/', 'or', 'instructions', 'regarding', 'your', 'PaineWebber', 'account', '(', 's', ')', 'by', 'e-mail', '.']\n",
      "['NOUN', 'VERB', 'NOUN', 'ADP', 'NOUN', 'CONJ', 'NOUN', 'PUNCT', 'INTJ', 'AUX', 'PART', 'VERB', 'NOUN', 'CONJ', 'PUNCT', 'CONJ', 'NOUN', 'VERB', 'PRON', 'PROPN', 'NOUN', 'PUNCT', 'X', 'PUNCT', 'ADP', 'NOUN', 'PUNCT']\n",
      "['Orders', 'and', '/', 'or', 'instructions', 'transmitted', 'by', 'e-mail', 'will', 'not', 'be', 'accepted', 'by', 'PaineWebber', 'and', 'PaineWebber', 'will', 'not', 'be', 'responsible', 'for', 'carrying', 'out', 'such', 'orders', 'and', '/', 'or', 'instructions', '.']\n",
      "['NOUN', 'CONJ', 'PUNCT', 'CONJ', 'NOUN', 'VERB', 'ADP', 'NOUN', 'AUX', 'PART', 'AUX', 'VERB', 'ADP', 'PROPN', 'CONJ', 'PROPN', 'AUX', 'PART', 'VERB', 'ADJ', 'SCONJ', 'VERB', 'ADP', 'ADJ', 'NOUN', 'CONJ', 'PUNCT', 'CONJ', 'NOUN', 'PUNCT']\n",
      "['Notice', 'Regarding', 'Privacy', 'and', 'Confidentiality', ':', 'PaineWebber', 'reserves', 'the', 'right', 'to', 'monitor', 'and', 'review', 'the', 'content', 'of', 'all', 'e-mail', 'communications', 'sent', 'and', '/', 'or', 'received', 'by', 'its', 'employees', '.']\n",
      "['NOUN', 'VERB', 'NOUN', 'CONJ', 'NOUN', 'PUNCT', 'PROPN', 'VERB', 'DET', 'NOUN', 'PART', 'VERB', 'CONJ', 'VERB', 'DET', 'NOUN', 'ADP', 'DET', 'NOUN', 'NOUN', 'VERB', 'CONJ', 'PUNCT', 'CONJ', 'VERB', 'ADP', 'PRON', 'NOUN', 'PUNCT']\n",
      "['Who', 'cares', '??????']\n",
      "['PRON', 'VERB', 'PUNCT']\n",
      "['Please', 'note', 'that', 'effective', 'immediately', 'my', 'email', 'address', 'has', 'changed', 'to', 'Sean.Cooper@ElPaso.com']\n",
      "['INTJ', 'VERB', 'SCONJ', 'ADJ', 'ADV', 'PRON', 'NOUN', 'NOUN', 'AUX', 'VERB', 'ADP', 'X']\n",
      "['He', 'just', 'rescheduled', 'to', 'Wednesday', '.']\n",
      "['PRON', 'ADV', 'VERB', 'ADP', 'PROPN', 'PUNCT']\n",
      "['How', 'about', 'dinner', 'on', 'Wednesday', 'after', 'that', '?']\n",
      "['ADV', 'ADP', 'NOUN', 'ADP', 'PROPN', 'ADP', 'PRON', 'PUNCT']\n",
      "['Your', 'buddy', 'Beau', 'invited', 'me', '.']\n",
      "['PRON', 'NOUN', 'PROPN', 'VERB', 'PRON', 'PUNCT']\n",
      "['How', 'about', 'prior', 'to', 'that', 'or', 'after', 'that', 'on', 'Tuesday', '.']\n",
      "['ADV', 'ADP', 'ADJ', 'ADP', 'PRON', 'CONJ', 'ADP', 'PRON', 'ADP', 'PROPN', 'PUNCT']\n",
      "['not', 'really', '...']\n",
      "['PART', 'ADV', 'PUNCT']\n",
      "['already', 'have', 'plans', 'on', 'thursday', '.']\n",
      "['ADV', 'VERB', 'NOUN', 'ADP', 'PROPN', 'PUNCT']\n",
      "['are', 'you', 'going', 'to', 'the', 'NYMEX', 'candidate', 'cocktail', 'hour', 'Tuesday', '?']\n",
      "['AUX', 'PRON', 'VERB', 'ADP', 'DET', 'PROPN', 'NOUN', 'NOUN', 'NOUN', 'PROPN', 'PUNCT']\n",
      "['oh', 'god', 'is', 'there', 'an', 'agenda', '.']\n",
      "['INTJ', 'PROPN', 'VERB', 'PRON', 'DET', 'NOUN', 'PUNCT']\n",
      "['Would', 'dinner', 'Thursday', 'work', 'instead', '.']\n",
      "['AUX', 'NOUN', 'PROPN', 'VERB', 'ADV', 'PUNCT']\n",
      "['not', 'really', '...']\n",
      "['PART', 'ADV', 'PUNCT']\n",
      "['already', 'have', 'plans', 'on', 'thursday', '.']\n",
      "['ADV', 'VERB', 'NOUN', 'ADP', 'PROPN', 'PUNCT']\n",
      "['are', 'you', 'going', 'to', 'the', 'NYMEX', 'candidate', 'cocktail', 'hour', 'Tuesday', '?']\n",
      "['AUX', 'PRON', 'VERB', 'ADP', 'DET', 'PROPN', 'NOUN', 'NOUN', 'NOUN', 'PROPN', 'PUNCT']\n",
      "['oh', 'god', 'is', 'there', 'an', 'agenda', '.']\n",
      "['INTJ', 'PROPN', 'VERB', 'PRON', 'DET', 'NOUN', 'PUNCT']\n",
      "['Wednesday', 'does', \"n't\", 'work', 'for', 'me', '.']\n",
      "['PROPN', 'AUX', 'PART', 'VERB', 'ADP', 'PRON', 'PUNCT']\n",
      "['How', 'about', \"Tuesday's\", 'at', '3:30', 'Houston', 'time', '.']\n",
      "['ADV', 'ADP', 'PROPN', 'ADP', 'NUM', 'PROPN', 'NOUN', 'PUNCT']\n",
      "['i', 'completely', 'agree', '.']\n",
      "['PRON', 'ADV', 'VERB', 'PUNCT']\n",
      "['I', 'would', 'like', 'to', 'have', 'a', 'meeting', 'once', 'a', 'week', 'for', '1', '-', '2', 'hours', 'with', 'all', '6', 'of', 'us', 'just', 'to', 'make', 'sure', 'we', 'are', 'moving', 'forward', 'and', 'to', 'get', 'an', 'update', 'and', 'anything', 'and', 'everything', '.']\n",
      "['PRON', 'AUX', 'VERB', 'PART', 'VERB', 'DET', 'NOUN', 'ADV', 'DET', 'NOUN', 'ADP', 'NUM', 'SYM', 'NUM', 'NOUN', 'ADP', 'DET', 'NUM', 'ADP', 'PRON', 'ADV', 'PART', 'VERB', 'ADJ', 'PRON', 'AUX', 'VERB', 'ADV', 'CONJ', 'PART', 'VERB', 'DET', 'NOUN', 'CONJ', 'PRON', 'CONJ', 'PRON', 'PUNCT']\n",
      "['My', 'only', 'concern', 'is', 'that', 'we', 'take', 'the', 'boys', 'away', 'from', 'their', 'overwhelming', 'task', '.']\n",
      "['PRON', 'ADJ', 'NOUN', 'VERB', 'SCONJ', 'PRON', 'VERB', 'DET', 'NOUN', 'ADV', 'ADP', 'PRON', 'ADJ', 'NOUN', 'PUNCT']\n",
      "['What', 'do', 'you', 'guys', 'think', '.']\n",
      "['PRON', 'AUX', 'PRON', 'NOUN', 'VERB', 'PUNCT']\n",
      "['John']\n",
      "['PROPN']\n",
      "['OK', '.']\n",
      "['INTJ', 'PUNCT']\n",
      "['I', 'will', 'have', 'to', 'move', 'my', 'weekly', 'meeting', 'to', 'Tuesday', '.']\n",
      "['PRON', 'AUX', 'VERB', 'PART', 'VERB', 'PRON', 'ADJ', 'NOUN', 'ADP', 'PROPN', 'PUNCT']\n",
      "[\"Monday's\", 'starting', 'next', 'week', 'at', '4', '???????????????']\n",
      "['PROPN', 'VERB', 'ADJ', 'NOUN', 'ADP', 'NUM', 'PUNCT']\n",
      "['Wednesday', 'does', \"n't\", 'work', 'for', 'me', '.']\n",
      "['PROPN', 'AUX', 'PART', 'VERB', 'ADP', 'PRON', 'PUNCT']\n",
      "['How', 'about', \"Tuesday's\", 'at', '3:30', 'Houston', 'time', '.']\n",
      "['ADV', 'ADP', 'PROPN', 'ADP', 'NUM', 'PROPN', 'NOUN', 'PUNCT']\n",
      "['i', 'completely', 'agree', '.']\n",
      "['PRON', 'ADV', 'VERB', 'PUNCT']\n",
      "['I', 'would', 'like', 'to', 'have', 'a', 'meeting', 'once', 'a', 'week', 'for', '1', '-', '2', 'hours', 'with', 'all', '6', 'of', 'us', 'just', 'to', 'make', 'sure', 'we', 'are', 'moving', 'forward', 'and', 'to', 'get', 'an', 'update', 'and', 'anything', 'and', 'everything', '.']\n",
      "['PRON', 'AUX', 'VERB', 'PART', 'VERB', 'DET', 'NOUN', 'ADV', 'DET', 'NOUN', 'ADP', 'NUM', 'SYM', 'NUM', 'NOUN', 'ADP', 'DET', 'NUM', 'ADP', 'PRON', 'ADV', 'PART', 'VERB', 'ADJ', 'PRON', 'AUX', 'VERB', 'ADV', 'CONJ', 'PART', 'VERB', 'DET', 'NOUN', 'CONJ', 'PRON', 'CONJ', 'PRON', 'PUNCT']\n",
      "['My', 'only', 'concern', 'is', 'that', 'we', 'take', 'the', 'boys', 'away', 'from', 'their', 'overwhelming', 'task', '.']\n",
      "['PRON', 'ADJ', 'NOUN', 'VERB', 'SCONJ', 'PRON', 'VERB', 'DET', 'NOUN', 'ADV', 'ADP', 'PRON', 'ADJ', 'NOUN', 'PUNCT']\n",
      "['What', 'do', 'you', 'guys', 'think', '.']\n",
      "['PRON', 'AUX', 'PRON', 'NOUN', 'VERB', 'PUNCT']\n",
      "['John']\n",
      "['PROPN']\n",
      "['Not', 'yet', '.']\n",
      "['PART', 'ADV', 'PUNCT']\n",
      "['Did', 'you', 'happen', 'to', 'sign', 'your', 'employment', 'agreement', '?']\n",
      "['AUX', 'PRON', 'VERB', 'PART', 'VERB', 'PRON', 'NOUN', 'NOUN', 'PUNCT']\n",
      "['Please', 'respond', 'to', 'request', 'below', '.']\n",
      "['INTJ', 'VERB', 'ADP', 'NOUN', 'ADV', 'PUNCT']\n",
      "['Thanks', '.']\n",
      "['NOUN', 'PUNCT']\n",
      "['John', 'Lavorato', 'has', 'requested', 'the', 'attached', 'report', '.']\n",
      "['PROPN', 'PROPN', 'AUX', 'VERB', 'DET', 'VERB', 'NOUN', 'PUNCT']\n",
      "['He', 'is', 'concerned', 'about', 'the', 'allocation', 'amongst', 'categories', '-', 'in', 'particular', ',', 'Real', 'Time', 'Traders', '.']\n",
      "['PRON', 'VERB', 'ADJ', 'ADP', 'DET', 'NOUN', 'ADP', 'NOUN', 'PUNCT', 'ADP', 'ADJ', 'PUNCT', 'PROPN', 'PROPN', 'PROPN', 'PUNCT']\n",
      "['If', 'you', 'would', ',', 'please', 'review', 'the', 'entire', 'list', 'and', 'let', 'me', 'know', 'if', 'you', 'are', 'in', 'agreement', 'with', 'the', 'presentation', 'by', 'tomorrow', 'evening', ',', 'if', 'possible', '.']\n",
      "['SCONJ', 'PRON', 'AUX', 'PUNCT', 'INTJ', 'VERB', 'DET', 'ADJ', 'NOUN', 'CONJ', 'VERB', 'PRON', 'VERB', 'SCONJ', 'PRON', 'VERB', 'ADP', 'NOUN', 'ADP', 'DET', 'NOUN', 'ADP', 'NOUN', 'NOUN', 'PUNCT', 'SCONJ', 'ADJ', 'PUNCT']\n",
      "['I', \"'m\", 'at', 'x', 'if', 'you', 'have', 'any', 'questions', '.']\n",
      "['PRON', 'VERB', 'ADP', 'NOUN', 'SCONJ', 'PRON', 'VERB', 'DET', 'NOUN', 'PUNCT']\n",
      "['Thanks', '!']\n",
      "['NOUN', 'PUNCT']\n",
      "['I', 'understand', 'all', 'of', 'those', 'comparisons', ',', 'however', ',', 'the', 'reality', 'is', 'if', 'we', 'lose', 'Dean', '(', 'which', 'we', 'will', 'if', 'we', 'do', \"n't\", 'pay', '65', 'k', '+', '10', 'k', ')', ',', 'we', 'will', 'end', 'up', 'hiring', 'a', 'replacement', 'at', '75', '-', '80', 'k', '.']\n",
      "['PRON', 'VERB', 'DET', 'ADP', 'DET', 'NOUN', 'PUNCT', 'ADV', 'PUNCT', 'DET', 'NOUN', 'VERB', 'SCONJ', 'PRON', 'VERB', 'PROPN', 'PUNCT', 'PRON', 'PRON', 'AUX', 'SCONJ', 'PRON', 'AUX', 'PART', 'VERB', 'NUM', 'NUM', 'SYM', 'NUM', 'NUM', 'PUNCT', 'PUNCT', 'PRON', 'AUX', 'VERB', 'ADP', 'VERB', 'DET', 'NOUN', 'ADP', 'NUM', 'SYM', 'NUM', 'NOUN', 'PUNCT']\n",
      "['This', 'is', 'pretty', 'easy', 'math', 'for', 'me', '.']\n",
      "['PRON', 'VERB', 'ADV', 'ADJ', 'NOUN', 'ADP', 'PRON', 'PUNCT']\n",
      "['I', 'know', 'it', 'seems', 'like', 'a', 'stretch', ',', 'but', 'the', 'market', 'for', 'hourly', 'traders', 'is', 'very', 'strong', 'right', 'now', '.']\n",
      "['PRON', 'VERB', 'PRON', 'VERB', 'ADP', 'DET', 'NOUN', 'PUNCT', 'CONJ', 'DET', 'NOUN', 'ADP', 'ADJ', 'NOUN', 'VERB', 'ADV', 'ADJ', 'ADV', 'ADV', 'PUNCT']\n",
      "['I', 'would', 'like', 'to', 'get', 'this', 'done', 'ASAP', '.']\n",
      "['PRON', 'AUX', 'VERB', 'PART', 'VERB', 'PRON', 'VERB', 'ADV', 'PUNCT']\n",
      "['Thanks', '.']\n",
      "['NOUN', 'PUNCT']\n",
      "['I', 'am', 'reviewing', 'the', 'request', 'for', 'an', 'employment', 'agreement', 'renewal', 'on', 'Mark', 'Dean', 'Laurent', '.']\n",
      "['PRON', 'AUX', 'VERB', 'DET', 'NOUN', 'ADP', 'DET', 'NOUN', 'NOUN', 'NOUN', 'ADP', 'PROPN', 'PROPN', 'PROPN', 'PUNCT']\n",
      "['Juan', 'communicated', 'some', 'numbers', 'to', 'me', 'and', 'when', 'reviewing', 'this', 'request', 'would', 'like', 'to', 'ask', 'you', 'to', 'consider', 'the', 'following', ':']\n",
      "['PROPN', 'VERB', 'DET', 'NOUN', 'ADP', 'PRON', 'CONJ', 'ADV', 'VERB', 'DET', 'NOUN', 'AUX', 'VERB', 'PART', 'VERB', 'PRON', 'PART', 'VERB', 'DET', 'VERB', 'PUNCT']\n",
      "['Current', 'Salary', ':', '$', '47,500']\n",
      "['ADJ', 'NOUN', 'PUNCT', 'SYM', 'NUM']\n",
      "['Job', 'Group', ':', 'Specialist']\n",
      "['NOUN', 'NOUN', 'PUNCT', 'NOUN']\n",
      "['YE', 'PRC', 'Rating', ':', 'Satisfactory']\n",
      "['NOUN', 'NOUN', 'NOUN', 'PUNCT', 'ADJ']\n",
      "['Original', 'Proposition', ':']\n",
      "['NOUN', 'NOUN', 'PUNCT']\n",
      "['Base', 'Salary', '65', 'k']\n",
      "['NOUN', 'NOUN', 'NUM', 'NOUN']\n",
      "['1', 'Year', 'Agreement']\n",
      "['NUM', 'NOUN', 'NOUN']\n",
      "['$', '5,000', 'signing']\n",
      "['SYM', 'NUM', 'NOUN']\n",
      "['Revised', 'Proposal', ':']\n",
      "['VERB', 'NOUN', 'PUNCT']\n",
      "['Base', 'Salary', ':', '55', 'k']\n",
      "['NOUN', 'NOUN', 'PUNCT', 'NUM', 'NUM']\n",
      "['1', 'Year', 'agreement']\n",
      "['NUM', 'NOUN', 'NOUN']\n",
      "['$', '5,000', 'signing']\n",
      "['SYM', 'NUM', 'NOUN']\n",
      "['Business', 'Case', ':', 'If', 'we', 'offered', 'Dean', '55', 'k', 'or', '60', 'k', 'it', 'would', 'still', 'constitute', 'a', 'over', 'a', '$', '10,000', 'increase', '(', 'approximately', '25', '%', ')', 'and', 'taking', 'into', 'consideration', 'he', 'was', 'rated', 'as', 'satisfactory', 'at', 'the', 'specialist', 'level', '.']\n",
      "['NOUN', 'NOUN', 'PUNCT', 'SCONJ', 'PRON', 'VERB', 'ADJ', 'NUM', 'NUM', 'CONJ', 'NUM', 'NUM', 'PRON', 'AUX', 'ADV', 'VERB', 'DET', 'ADP', 'DET', 'SYM', 'NUM', 'NOUN', 'PUNCT', 'ADV', 'NUM', 'SYM', 'PUNCT', 'CONJ', 'VERB', 'ADP', 'NOUN', 'PRON', 'AUX', 'VERB', 'ADP', 'ADJ', 'ADP', 'DET', 'ADJ', 'NOUN', 'PUNCT']\n",
      "['Also', ',', 'the', 'top', 'of', 'the', 'salary', 'range', 'for', 'a', 'specialist', 'is', '66', 'k', '.']\n",
      "['ADV', 'PUNCT', 'DET', 'NOUN', 'ADP', 'DET', 'ADJ', 'NOUN', 'ADP', 'DET', 'NOUN', 'VERB', 'NUM', 'NOUN', 'PUNCT']\n",
      "['It', 'would', 'still', 'give', 'him', 'room', 'to', 'progress', 'in', 'the', 'current', 'job', 'group', 'should', 'he', 'not', 'be', 'promoted', '.']\n",
      "['PRON', 'AUX', 'ADV', 'VERB', 'PRON', 'NOUN', 'PART', 'VERB', 'ADP', 'DET', 'ADJ', 'NOUN', 'NOUN', 'AUX', 'PRON', 'PART', 'AUX', 'VERB', 'PUNCT']\n",
      "['Secondly', ',', 'he', 'will', 'still', 'out', 'price', 'performers', 'that', 'you', 'have', 'in', 'the', 'same', 'job', 'group', 'that', 'are', 'excellent', 'and', 'strong', 'performers', 'respectively', 'eg.', 'Paul', 'Thomas', ',', 'Jason', 'Choate', ',', 'Todd', 'DeCook', 'and', 'Peter', 'Makkai', '.']\n",
      "['ADV', 'PUNCT', 'PRON', 'AUX', 'ADV', 'X', 'VERB', 'NOUN', 'PRON', 'PRON', 'VERB', 'ADP', 'DET', 'ADJ', 'NOUN', 'NOUN', 'PRON', 'VERB', 'ADJ', 'CONJ', 'ADJ', 'NOUN', 'ADV', 'X', 'PROPN', 'PROPN', 'PUNCT', 'PROPN', 'PROPN', 'PUNCT', 'PROPN', 'PROPN', 'CONJ', 'PROPN', 'PROPN', 'PUNCT']\n",
      "['Salary', 'Listing', 'in', 'Job', 'Group', ':']\n",
      "['PROPN', 'PROPN', 'ADP', 'PROPN', 'PROPN', 'PUNCT']\n",
      "['Maria', 'Valdes', 'superior', '$', '62,500']\n",
      "['PROPN', 'PROPN', 'ADJ', 'SYM', 'NUM']\n",
      "['Paul', 'Thomas', 'excellent', '$', '55,008']\n",
      "['PROPN', 'PROPN', 'ADJ', 'SYM', 'NUM']\n",
      "['Jason', 'Choate', 'excellent', '$', '60,008']\n",
      "['PROPN', 'PROPN', 'ADJ', 'SYM', 'NUM']\n",
      "['Todd', 'DeCook', 'strong', '$', '42,008']\n",
      "['PROPN', 'PROPN', 'ADJ', 'SYM', 'NUM']\n",
      "['Peter', 'Makkai', 'strong', '$', '47,500']\n",
      "['PROPN', 'PROPN', 'ADJ', 'SYM', 'NUM']\n",
      "['Let', 'me', 'know', 'your', 'thoughts', '....', 'then', 'I', 'will', 'run', 'it', 'by', 'Oxley', '.']\n",
      "['VERB', 'PRON', 'VERB', 'PRON', 'NOUN', 'PUNCT', 'ADV', 'PRON', 'AUX', 'VERB', 'PRON', 'ADP', 'PROPN', 'PUNCT']\n",
      "['Are', 'we', 'going', 'to', 'attend', '?']\n",
      "['AUX', 'PRON', 'VERB', 'PART', 'VERB', 'PUNCT']\n",
      "['Transmission', 'Expansion', 'and', 'Systems', 'in', 'Transition', 'Conference', 'Feb.', '5', '-', '8', ',', '2002', ',', 'Miami', ',', 'Florida']\n",
      "['NOUN', 'NOUN', 'CONJ', 'PROPN', 'ADP', 'PROPN', 'PROPN', 'PROPN', 'NUM', 'SYM', 'NUM', 'PUNCT', 'NUM', 'PUNCT', 'PROPN', 'PUNCT', 'PROPN']\n",
      "['OVERVIEW']\n",
      "['NOUN']\n",
      "['This', 'conference', 'will', 'examine', 'the', 'business', 'and', 'regulatory', 'challenges', 'to', 'U.S.', 'electric', 'systems', 'in', 'transition', 'in', 'effectively', 'expanding', 'transmission', 'capacity', 'to', 'meet', 'new', 'demands', 'in', 'the', 'larger', 'and', 'more', 'competitive', 'regional', 'markets', 'emerging', 'under', 'FERC', \"'s\", 'RTO', 'initiatives', '.']\n",
      "['DET', 'NOUN', 'AUX', 'VERB', 'DET', 'NOUN', 'CONJ', 'ADJ', 'NOUN', 'ADP', 'PROPN', 'ADJ', 'NOUN', 'ADP', 'NOUN', 'SCONJ', 'ADV', 'VERB', 'NOUN', 'NOUN', 'PART', 'VERB', 'ADJ', 'NOUN', 'ADP', 'DET', 'ADJ', 'CONJ', 'ADJ', 'ADJ', 'ADJ', 'NOUN', 'VERB', 'ADP', 'PROPN', 'PART', 'PROPN', 'NOUN', 'PUNCT']\n",
      "['The', 'conference', 'will', 'review', 'the', 'parameters', 'of', 'these', 'challenges', 'and', 'possible', 'solutions', 'to', 'them', '.']\n",
      "['DET', 'NOUN', 'AUX', 'VERB', 'DET', 'NOUN', 'ADP', 'DET', 'NOUN', 'CONJ', 'ADJ', 'NOUN', 'ADP', 'PRON', 'PUNCT']\n",
      "['It', 'will', 'examine', 'technology', 'options', 'and', 'new', 'business', 'models', 'for', 'transmission', 'expansion', '.']\n",
      "['PRON', 'AUX', 'VERB', 'NOUN', 'NOUN', 'CONJ', 'ADJ', 'NOUN', 'NOUN', 'ADP', 'NOUN', 'NOUN', 'PUNCT']\n",
      "['It', 'will', 'analyze', 'emerging', 'proposals', 'for', 'effective', 'transmission', 'planning', 'and', 'pricing', ',', 'including', 'market', '-', 'based', 'pricing', 'alternatives', 'to', 'FERC', \"'s\", 'traditional', 'pricing', 'methods', '.']\n",
      "['PRON', 'AUX', 'VERB', 'VERB', 'NOUN', 'ADP', 'ADJ', 'NOUN', 'NOUN', 'CONJ', 'NOUN', 'PUNCT', 'VERB', 'NOUN', 'PUNCT', 'VERB', 'NOUN', 'NOUN', 'ADP', 'PROPN', 'PART', 'ADJ', 'NOUN', 'NOUN', 'PUNCT']\n",
      "['The', 'conference', 'will', 'also', 'discuss', 'what', 'it', 'will', 'take', 'in', 'legislative', 'action', 'and', 'regulatory', 'initiative', 'to', 'achieve', 'an', 'efficient', 'regime', 'for', 'ensuring', 'that', 'the', 'nation', 'has', 'a', 'reliable', 'grid', 'and', 'regional', 'trading', 'system', '.']\n",
      "['DET', 'NOUN', 'AUX', 'ADV', 'VERB', 'PRON', 'PRON', 'AUX', 'VERB', 'ADP', 'ADJ', 'NOUN', 'CONJ', 'ADJ', 'NOUN', 'PART', 'VERB', 'DET', 'ADJ', 'NOUN', 'SCONJ', 'VERB', 'SCONJ', 'DET', 'NOUN', 'VERB', 'DET', 'ADJ', 'NOUN', 'CONJ', 'ADJ', 'NOUN', 'NOUN', 'PUNCT']\n",
      "['The', 'brochure', 'for', 'the', 'Conference', 'and', 'associated', 'Workshops', 'can', 'be', 'obtained', 'by', 'clicking', 'on', 'the', 'link', 'below', ':', '<', 'http://www.euci.com/pdf/trans_expn.pdf', '>', '<<', 'http://www.euci.com/pdf/trans_expn.pdf', '>>']\n",
      "['DET', 'NOUN', 'ADP', 'DET', 'PROPN', 'CONJ', 'ADJ', 'PROPN', 'AUX', 'AUX', 'VERB', 'SCONJ', 'VERB', 'ADP', 'DET', 'NOUN', 'ADV', 'PUNCT', 'PUNCT', 'X', 'PUNCT', 'PUNCT', 'X', 'PUNCT']\n",
      "['Electricity', 'Market', 'Design', 'Conference', 'March', '25', '-', '26', ',', '2002', ',', 'Atlanta', ',', 'Georgia']\n",
      "['NOUN', 'PROPN', 'PROPN', 'PROPN', 'PROPN', 'NUM', 'SYM', 'NUM', 'PUNCT', 'NUM', 'PUNCT', 'PROPN', 'PUNCT', 'PROPN']\n",
      "['I', 'need', 'to', 'check', 'something', 'in', '969', \"'s\", '2000', 'tax', 'return', '.']\n",
      "['PRON', 'VERB', 'PART', 'VERB', 'PRON', 'ADP', 'NUM', 'PART', 'NUM', 'NOUN', 'NOUN', 'PUNCT']\n",
      "['Who', 'has', 'the', '2000', 'tax', 'return', 'file', 'for', '969', '?']\n",
      "['PRON', 'VERB', 'DET', 'NUM', 'NOUN', 'NOUN', 'NOUN', 'ADP', 'NUM', 'PUNCT']\n",
      "['Essie']\n",
      "['PROPN']\n",
      "['Sonya', 'City']\n",
      "['PROPN', 'PROPN']\n",
      "['07/30/2001', '05:17', 'PM']\n",
      "['NUM', 'NUM', 'NOUN']\n",
      "['<', 'Embedded', 'Picture', '(', 'Device', 'Independent', 'Bitmap', ')', '>']\n",
      "['PUNCT', 'VERB', 'NOUN', 'PUNCT', 'NOUN', 'ADJ', 'NOUN', 'PUNCT', 'PUNCT']\n",
      "['I', 'think', 'that', 'this', 'is', 'for', 'you', 'since', 'I', 'do', \"n't\", 'know', 'any', 'of', 'these', 'people', '.']\n",
      "['PRON', 'VERB', 'SCONJ', 'PRON', 'VERB', 'ADP', 'PRON', 'SCONJ', 'PRON', 'AUX', 'PART', 'VERB', 'DET', 'ADP', 'DET', 'NOUN', 'PUNCT']\n",
      "['WHO', ':', 'Enron']\n",
      "['PRON', 'PUNCT', 'PROPN']\n",
      "['WHAT', ':', 'Happy', 'Hour', 'for', 'John', 'Suarez']\n",
      "['PRON', 'PUNCT', 'ADJ', 'NOUN', 'ADP', 'PROPN', 'PROPN']\n",
      "['WHEN', ':', 'Today', 'at', '5', 'pm']\n",
      "['ADV', 'PUNCT', 'NOUN', 'ADP', 'NUM', 'NOUN']\n",
      "['WHERE', ':', 'The', 'Front', 'Porch', '217', 'Gray', 'St.', '(', '713', ')', '571-9571']\n",
      "['ADV', 'PUNCT', 'DET', 'PROPN', 'PROPN', 'NUM', 'PROPN', 'PROPN', 'PUNCT', 'NUM', 'PUNCT', 'NUM']\n",
      "['WHY', ':', 'Today', 'is', 'John', \"'s\", 'last', 'day', 'at', 'EBS', '.']\n",
      "['ADV', 'PUNCT', 'NOUN', 'VERB', 'PROPN', 'PART', 'ADJ', 'NOUN', 'ADP', 'PROPN', 'PUNCT']\n",
      "['This', 'is', 'NOT', 'an', 'Enron', '-', 'sponsored', 'event', '.']\n",
      "['PRON', 'VERB', 'PART', 'DET', 'PROPN', 'PUNCT', 'VERB', 'NOUN', 'PUNCT']\n",
      "['How', 'do', 'you', 'feel', 'about', 'taking', 'on', 'another', 'company', '?']\n",
      "['ADV', 'AUX', 'PRON', 'VERB', 'SCONJ', 'VERB', 'ADP', 'DET', 'NOUN', 'PUNCT']\n",
      "['Essie', 'and', 'Leon', 'have', 'proposed', 'xferring', 'Co.', '1691', 'to', 'your', 'world', '(', 'see', 'below', ')', '.']\n",
      "['PROPN', 'CONJ', 'PROPN', 'AUX', 'VERB', 'VERB', 'NOUN', 'NUM', 'ADP', 'PRON', 'NOUN', 'PUNCT', 'VERB', 'ADV', 'PUNCT', 'PUNCT']\n",
      "['Do', 'you', 'concur', '?']\n",
      "['AUX', 'PRON', 'VERB', 'PUNCT']\n",
      "['Please', 'let', 'me', 'know', 'Monday', 'morning', '.']\n",
      "['INTJ', 'VERB', 'PRON', 'VERB', 'PROPN', 'NOUN', 'PUNCT']\n",
      "['Regards', ',']\n",
      "['NOUN', 'PUNCT']\n",
      "['Vicsandra']\n",
      "['PROPN']\n",
      "['If', 'you', 'have', 'not', 'already', 'made', 'these', 'decisions', ',', 'Essie', \"'s\", 'guidance', 'should', 'be', 'helpful', '.']\n",
      "['SCONJ', 'PRON', 'AUX', 'PART', 'ADV', 'VERB', 'DET', 'NOUN', 'PUNCT', 'PROPN', 'PART', 'NOUN', 'AUX', 'VERB', 'ADJ', 'PUNCT']\n",
      "['Patty', 'Lee', 'Corporate', 'Tax', 'x35172', 'EB', '1774']\n",
      "['PROPN', 'PROPN', 'ADJ', 'NOUN', 'NOUN', 'PROPN', 'NUM']\n",
      "['Please', 'see', 'my', 'comments', 'in', 'red', 'below', '.']\n",
      "['INTJ', 'VERB', 'PRON', 'NOUN', 'ADP', 'ADJ', 'ADV', 'PUNCT']\n",
      "['Essie']\n",
      "['PROPN']\n",
      "['Essie', ',']\n",
      "['PROPN', 'PUNCT']\n",
      "['Can', 'you', 'recommend', 'where', 'these', 'companies', 'each', 'fit', 'within', 'the', 'new', 'organization', '?']\n",
      "['AUX', 'PRON', 'VERB', 'ADV', 'DET', 'NOUN', 'DET', 'VERB', 'ADP', 'DET', 'ADJ', 'NOUN', 'PUNCT']\n",
      "['If', 'possible', ',', 'can', 'you', 'also', 'give', 'an', 'indication', 'of', 'the', 'rank', '-', '1', 'through', '5', '?']\n",
      "['SCONJ', 'ADJ', 'PUNCT', 'AUX', 'PRON', 'ADV', 'VERB', 'DET', 'NOUN', 'ADP', 'DET', 'NOUN', 'PUNCT', 'NUM', 'ADP', 'NUM', 'PUNCT']\n",
      "['Thanks', ',']\n",
      "['NOUN', 'PUNCT']\n",
      "['Patty']\n",
      "['PROPN']\n",
      "['I', 'have', 'a', 'few', 'entities', 'that', 'may', 'need', 'to', 'change', 'groups', 'or', 'be', 'assigned', 'to', 'a', 'group', '.']\n",
      "['PRON', 'VERB', 'DET', 'ADJ', 'NOUN', 'PRON', 'AUX', 'VERB', 'PART', 'VERB', 'NOUN', 'CONJ', 'AUX', 'VERB', 'ADP', 'DET', 'NOUN', 'PUNCT']\n",
      "['18T', '-', 'EI', 'Indonesia', 'Operations', 'LLC']\n",
      "['NOUN', 'PUNCT', 'PROPN', 'PROPN', 'PROPN', 'PROPN']\n",
      "['This', 'entity', 'is', 'not', 'in', 'TIS', ',', 'SAP', ',', 'nor', 'Hyperion', '.']\n",
      "['DET', 'NOUN', 'VERB', 'PART', 'ADP', 'PROPN', 'PUNCT', 'PROPN', 'PUNCT', 'CONJ', 'PROPN', 'PUNCT']\n",
      "['The', '2000', 'tax', 'return', 'has', 'no', 'income', ',', 'assets', ',', 'or', 'liabilities', '.']\n",
      "['DET', 'NUM', 'NOUN', 'NOUN', 'VERB', 'DET', 'NOUN', 'PUNCT', 'NOUN', 'PUNCT', 'CONJ', 'NOUN', 'PUNCT']\n",
      "['There', 'is', 'a', 'corporate', 'data', 'sheet', 'for', 'this', 'company', ',', 'but', 'this', 'entity', 'seems', 'to', 'have', 'been', 'inactive', 'since', 'it', \"'s\", 'creation', '.']\n",
      "['PRON', 'VERB', 'DET', 'ADJ', 'NOUN', 'NOUN', 'ADP', 'DET', 'NOUN', 'PUNCT', 'CONJ', 'DET', 'NOUN', 'VERB', 'PART', 'AUX', 'VERB', 'ADJ', 'ADP', 'PRON', 'VERB', 'NOUN', 'PUNCT']\n",
      "['86M', '-', 'Enron', 'Net', 'Works', 'LLC']\n",
      "['NOUN', 'PUNCT', 'PROPN', 'PROPN', 'PROPN', 'PROPN']\n",
      "['Despite', 'the', 'name', ',', 'this', 'entity', 'appears', 'to', 'be', 'a', 'MTM', 'company', '.']\n",
      "['ADP', 'DET', 'NOUN', 'PUNCT', 'DET', 'NOUN', 'VERB', 'PART', 'VERB', 'DET', 'PROPN', 'NOUN', 'PUNCT']\n",
      "['Per', 'September', 'financials', ',', 'this', 'company', 'has', 'about', '$', '3', 'M', 'of', 'MTM', 'and', 'about', '$', '8', 'K', 'of', 'expenses', ',', 'nothing', 'else', '.']\n",
      "['ADP', 'PROPN', 'NOUN', 'PUNCT', 'DET', 'NOUN', 'VERB', 'ADV', 'SYM', 'NUM', 'NUM', 'ADP', 'PROPN', 'CONJ', 'ADV', 'SYM', 'NUM', 'NUM', 'ADP', 'NOUN', 'PUNCT', 'PRON', 'ADJ', 'PUNCT']\n",
      "['The', 'next', '5', 'companies', 'were', 'my', 'responsibility', 'while', 'in', 'EBS', ',', 'and', 'did', 'not', 'get', 'assigned', 'during', 'the', 'reorg', '.']\n",
      "['DET', 'ADJ', 'NUM', 'NOUN', 'VERB', 'PRON', 'NOUN', 'SCONJ', 'ADP', 'PROPN', 'PUNCT', 'CONJ', 'AUX', 'PART', 'AUX', 'VERB', 'ADP', 'DET', 'NOUN', 'PUNCT']\n",
      "['80Y', '-', 'Enron', 'Broadband', 'Acquisition', ',', 'Inc', '.']\n",
      "['NOUN', 'PUNCT', 'PROPN', 'PROPN', 'PROPN', 'PUNCT', 'PROPN', 'PUNCT']\n",
      "['This', 'entity', 'was', 'created', 'in', '2000', 'for', 'the', 'acquistion', 'of', 'WarpSpeed', 'Communications', '(', 'now', 'Enron', 'WarpSpeed', 'Services', ',', 'Inc.', '83N', ')', ',', 'and', 'then', 'dissolved', 'upon', 'completion', 'of', 'merger', '.']\n",
      "['DET', 'NOUN', 'AUX', 'VERB', 'ADP', 'NUM', 'ADP', 'DET', 'NOUN', 'ADP', 'PROPN', 'PROPN', 'PUNCT', 'ADV', 'PROPN', 'PROPN', 'PROPN', 'PUNCT', 'PROPN', 'NOUN', 'PUNCT', 'PUNCT', 'CONJ', 'ADV', 'VERB', 'ADP', 'NOUN', 'ADP', 'NOUN', 'PUNCT']\n",
      "['Company', 'is', 'around', 'with', 'a', 'small', 'amount', 'of', 'assets', 'and', 'liabilities', ',', 'but', 'no', 'I/S', 'items', '.']\n",
      "['NOUN', 'VERB', 'ADV', 'ADP', 'DET', 'ADJ', 'NOUN', 'ADP', 'NOUN', 'CONJ', 'NOUN', 'PUNCT', 'CONJ', 'DET', 'NOUN', 'NOUN', 'PUNCT']\n",
      "['83N', 'is', 'my', 'responsibility', '.']\n",
      "['NOUN', 'VERB', 'PRON', 'NOUN', 'PUNCT']\n",
      "['I', 'think', 'this', 'entity', 'should', 'stay', 'with', '83N', '.']\n",
      "['PRON', 'VERB', 'DET', 'NOUN', 'AUX', 'VERB', 'ADP', 'NOUN', 'PUNCT']\n",
      "['So', 'I', 'suggest', 'it', 'be', 'assigned', 'to', 'Leon', '.']\n",
      "['ADV', 'PRON', 'VERB', 'PRON', 'AUX', 'VERB', 'ADP', 'PROPN', 'PUNCT']\n",
      "['It', 'should', 'be', '4', '-', 'easy', '.']\n",
      "['PRON', 'AUX', 'VERB', 'NUM', 'PUNCT', 'ADJ', 'PUNCT']\n",
      "['1579', '-', 'EBS', 'Network', 'Co.', 'Division', 'of', '17H', '.']\n",
      "['NUM', 'PUNCT', 'PROPN', 'PROPN', 'PROPN', 'NOUN', 'ADP', 'NOUN', 'PUNCT']\n",
      "['This', 'one', 'should', 'possibly', 'be', 'assigned', 'to', 'Networks', '&', 'Services', 'group', '.']\n",
      "['DET', 'NOUN', 'AUX', 'ADV', 'AUX', 'VERB', 'ADP', 'NOUN', 'CONJ', 'NOUN', 'NOUN', 'PUNCT']\n",
      "['Not', 'currently', 'on', 'our', 'list', 'of', 'companies', '.']\n",
      "['PART', 'ADV', 'ADP', 'PRON', 'NOUN', 'ADP', 'NOUN', 'PUNCT']\n",
      "['I', 'think', 'this', 'could', 'go', 'to', 'either', 'Holding', '/', 'Administrative', 'Companies', '(', 'Same', 'as', '17H', ')', 'or', 'Network', '&', 'Services', '(', 'Leon', ')', '.']\n",
      "['PRON', 'VERB', 'PRON', 'AUX', 'VERB', 'ADP', 'DET', 'NOUN', 'PUNCT', 'ADJ', 'NOUN', 'PUNCT', 'ADJ', 'ADP', 'NOUN', 'PUNCT', 'CONJ', 'NOUN', 'CONJ', 'NOUN', 'PUNCT', 'PROPN', 'PUNCT', 'PUNCT']\n",
      "['4', '-', 'easy', '.']\n",
      "['NUM', 'PUNCT', 'ADJ', 'PUNCT']\n",
      "['1691', '-', 'EPI', '-', 'EBS', 'Europe']\n",
      "['NUM', 'PUNCT', 'PROPN', 'PUNCT', 'PROPN', 'PROPN']\n",
      "['Set', 'up', 'last', 'month', 'to', 'centralize', 'merchant', 'asset', 'activities', '.']\n",
      "['VERB', 'ADP', 'ADJ', 'NOUN', 'PART', 'VERB', 'NOUN', 'NOUN', 'NOUN', 'PUNCT']\n",
      "['Broke', 'out', 'the', 'activities', 'of', '1179', '.']\n",
      "['VERB', 'ADP', 'DET', 'NOUN', 'ADP', 'NUM', 'PUNCT']\n",
      "['A', 'similar', 'entity', '(', '1179', ')', 'was', 'assigned', 'to', 'Commodity', 'and', 'Trade', '(', 'Todd', 'Richards', 'and', 'Mary', 'Fischer', ')', 'so', 'this', 'one', 'should', 'be', 'assigned', 'to', 'them', 'as', 'well', '.']\n",
      "['DET', 'ADJ', 'NOUN', 'PUNCT', 'NUM', 'PUNCT', 'AUX', 'VERB', 'ADP', 'NOUN', 'CONJ', 'NOUN', 'PUNCT', 'PROPN', 'PROPN', 'CONJ', 'PROPN', 'PROPN', 'PUNCT', 'ADV', 'DET', 'NOUN', 'AUX', 'AUX', 'VERB', 'ADP', 'PRON', 'ADV', 'ADV', 'PUNCT']\n",
      "['4', '-', 'easy', '.']\n",
      "['NUM', 'PUNCT', 'ADJ', 'PUNCT']\n",
      "['1307', '-', 'EBIC', '-', 'Apache', ',', 'LLC']\n",
      "['NUM', 'PUNCT', 'PROPN', 'PUNCT', 'PROPN', 'PUNCT', 'PROPN']\n",
      "['Rolls', 'up', 'to', 'Cherokee', 'Finance', 'VOF', ',', 'a', 'CFC', '.']\n",
      "['VERB', 'ADP', 'ADP', 'PROPN', 'PROPN', 'PROPN', 'PUNCT', 'DET', 'NOUN', 'PUNCT']\n",
      "['Cherokee', 'Finance', 'VOF', 'is', 'assigned', 'to', 'North', 'America', '(', 'Glen', 'Walloch', 'and', 'Kevin', 'Walker', ')', '.']\n",
      "['PROPN', 'PROPN', 'PROPN', 'AUX', 'VERB', 'ADP', 'PROPN', 'PROPN', 'PUNCT', 'PROPN', 'PROPN', 'CONJ', 'PROPN', 'PROPN', 'PUNCT', 'PUNCT']\n",
      "['Maybe', 'this', 'one', 'should', 'also', 'go', 'to', 'them', 'as', 'the', 'only', 'tax', 'which', 'may', 'have', 'to', 'be', 'provided', 'would', 'be', 'foreign', 'tax', '.']\n",
      "['ADV', 'DET', 'NOUN', 'AUX', 'ADV', 'VERB', 'ADP', 'PRON', 'SCONJ', 'DET', 'ADJ', 'NOUN', 'PRON', 'AUX', 'VERB', 'PART', 'AUX', 'VERB', 'AUX', 'VERB', 'ADJ', 'NOUN', 'PUNCT']\n",
      "['4', '-', 'easy', '.']\n",
      "['NUM', 'PUNCT', 'ADJ', 'PUNCT']\n",
      "['1689', '-', 'EPI', '-', 'EBS', 'Ventures', ',', 'LLC']\n",
      "['NUM', 'PUNCT', 'PROPN', 'PUNCT', 'PROPN', 'PROPN', 'PUNCT', 'PROPN']\n",
      "['Set', 'up', 'last', 'month', 'to', 'centralize', 'merchant', 'asset', 'activities', '.']\n",
      "['VERB', 'ADP', 'ADJ', 'NOUN', 'PART', 'VERB', 'NOUN', 'NOUN', 'NOUN', 'PUNCT']\n",
      "['Broke', 'out', 'the', 'activities', 'of', '1307', '.']\n",
      "['VERB', 'ADP', 'DET', 'NOUN', 'ADP', 'NUM', 'PUNCT']\n",
      "['Same', 'as', '1307', '.']\n",
      "['ADJ', 'ADP', 'NUM', 'PUNCT']\n",
      "['It', 'should', 'be', 'assigned', 'to', 'North', 'America', '(', 'Glen', 'Walloch', 'and', 'Kevin', 'Walker', ')', '.']\n",
      "['PRON', 'AUX', 'AUX', 'VERB', 'ADP', 'PROPN', 'PROPN', 'PUNCT', 'PROPN', 'PROPN', 'CONJ', 'PROPN', 'PROPN', 'PUNCT', 'PUNCT']\n",
      "['4', '-', 'easy', '.']\n",
      "['NUM', 'PUNCT', 'ADJ', 'PUNCT']\n",
      "['Let', 'me', 'know', 'if', 'you', 'have', 'any', 'questions', '.']\n",
      "['VERB', 'PRON', 'VERB', 'SCONJ', 'PRON', 'VERB', 'DET', 'NOUN', 'PUNCT']\n",
      "['Leon', 'Branom', 'Senior', 'Tax', 'Analyst', 'Networks', 'and', 'Services', '(', '713', ')', '345-8702', 'office', 'leon.branom@enron.com']\n",
      "['PROPN', 'PROPN', 'ADJ', 'NOUN', 'NOUN', 'NOUN', 'CONJ', 'NOUN', 'PUNCT', 'NUM', 'PUNCT', 'NUM', 'NOUN', 'X']\n",
      "['No', 'problem', 'about', 'moving', 'Company', '1691', 'over']\n",
      "['DET', 'NOUN', 'SCONJ', 'VERB', 'NOUN', 'NUM', 'ADV']\n",
      "['I', 'see', 'that', 'it', 'is', 'a', '4', ',', 'so', 'that', 'will', 'be', 'no', 'problem', '.']\n",
      "['PRON', 'VERB', 'SCONJ', 'PRON', 'VERB', 'DET', 'NUM', 'PUNCT', 'ADV', 'PRON', 'AUX', 'VERB', 'DET', 'NOUN', 'PUNCT']\n",
      "['How', 'do', 'you', 'feel', 'about', 'taking', 'on', 'another', 'company', '?']\n",
      "['ADV', 'AUX', 'PRON', 'VERB', 'SCONJ', 'VERB', 'ADP', 'DET', 'NOUN', 'PUNCT']\n",
      "['Essie', 'and', 'Leon', 'have', 'proposed', 'xferring', 'Co.', '1691', 'to', 'your', 'world', '(', 'see', 'below', ')', '.']\n",
      "['PROPN', 'CONJ', 'PROPN', 'AUX', 'VERB', 'VERB', 'NOUN', 'NUM', 'ADP', 'PRON', 'NOUN', 'PUNCT', 'VERB', 'ADV', 'PUNCT', 'PUNCT']\n",
      "['Do', 'you', 'concur', '?']\n",
      "['AUX', 'PRON', 'VERB', 'PUNCT']\n",
      "['Please', 'let', 'me', 'know', 'Monday', 'morning', '.']\n",
      "['INTJ', 'VERB', 'PRON', 'VERB', 'PROPN', 'NOUN', 'PUNCT']\n",
      "['Regards', ',']\n",
      "['NOUN', 'PUNCT']\n",
      "['Vicsandra']\n",
      "['PROPN']\n",
      "['If', 'you', 'have', 'not', 'already', 'made', 'these', 'decisions', ',', 'Essie', \"'s\", 'guidance', 'should', 'be', 'helpful', '.']\n",
      "['SCONJ', 'PRON', 'AUX', 'PART', 'ADV', 'VERB', 'DET', 'NOUN', 'PUNCT', 'PROPN', 'PART', 'NOUN', 'AUX', 'VERB', 'ADJ', 'PUNCT']\n",
      "['Patty', 'Lee', 'Corporate', 'Tax', 'x35172', 'EB', '1774']\n",
      "['PROPN', 'PROPN', 'ADJ', 'NOUN', 'NOUN', 'PROPN', 'NUM']\n",
      "['Please', 'see', 'my', 'comments', 'in', 'red', 'below', '.']\n",
      "['INTJ', 'VERB', 'PRON', 'NOUN', 'ADP', 'ADJ', 'ADV', 'PUNCT']\n",
      "['Essie']\n",
      "['PROPN']\n",
      "['Essie', ',']\n",
      "['PROPN', 'PUNCT']\n",
      "['Can', 'you', 'recommend', 'where', 'these', 'companies', 'each', 'fit', 'within', 'the', 'new', 'organization', '?']\n",
      "['AUX', 'PRON', 'VERB', 'ADV', 'DET', 'NOUN', 'DET', 'VERB', 'ADP', 'DET', 'ADJ', 'NOUN', 'PUNCT']\n",
      "['If', 'possible', ',', 'can', 'you', 'also', 'give', 'an', 'indication', 'of', 'the', 'rank', '-', '1', 'through', '5', '?']\n",
      "['SCONJ', 'ADJ', 'PUNCT', 'AUX', 'PRON', 'ADV', 'VERB', 'DET', 'NOUN', 'ADP', 'DET', 'NOUN', 'PUNCT', 'NUM', 'ADP', 'NUM', 'PUNCT']\n",
      "['Thanks', ',']\n",
      "['NOUN', 'PUNCT']\n",
      "['Patty']\n",
      "['PROPN']\n",
      "['Virginia', ',']\n",
      "['PROPN', 'PUNCT']\n",
      "['Hello', '.']\n",
      "['INTJ', 'PUNCT']\n",
      "['I', 'was', 'originally', 'inquiring', 'about', 'purchasing', 'a', 'Cross', 'or', 'Signac', 'impressionist', 'lithograph', '.']\n",
      "['PRON', 'AUX', 'ADV', 'VERB', 'SCONJ', 'VERB', 'DET', 'PROPN', 'CONJ', 'PROPN', 'ADJ', 'NOUN', 'PUNCT']\n",
      "['I', 'found', 'them', 'and', 'purchased', 'both', 'from', 'a', 'gallery', 'in', 'London', ',', 'William', 'Weston', '.']\n",
      "['PRON', 'VERB', 'PRON', 'CONJ', 'VERB', 'DET', 'ADP', 'DET', 'NOUN', 'ADP', 'PROPN', 'PUNCT', 'PROPN', 'PROPN', 'PUNCT']\n",
      "['They', 'should', 'be', 'delivered', 'this', 'week', '.']\n",
      "['PRON', 'AUX', 'AUX', 'VERB', 'DET', 'NOUN', 'PUNCT']\n",
      "['They', 'are', 'beautiful', 'and', 'will', 'add', 'a', 'lot', 'to', 'our', 'collection', '.']\n",
      "['PRON', 'VERB', 'ADJ', 'CONJ', 'AUX', 'VERB', 'DET', 'NOUN', 'ADP', 'PRON', 'NOUN', 'PUNCT']\n",
      "['By', 'the', 'way', 'the', 'Lichtenstein', 'is', 'up', 'and', 'hanging', 'in', 'our', 'formal', 'living', 'room', 'and', 'it', 'is', 'magnificent', '.']\n",
      "['ADP', 'DET', 'NOUN', 'DET', 'PROPN', 'VERB', 'ADV', 'CONJ', 'VERB', 'ADP', 'PRON', 'ADJ', 'NOUN', 'NOUN', 'CONJ', 'PRON', 'VERB', 'ADJ', 'PUNCT']\n",
      "['I', 'have', 'also', 'purchased', 'an', 'Appel', 'in', 'the', 'last', 'month', '.']\n",
      "['PRON', 'AUX', 'ADV', 'VERB', 'DET', 'PROPN', 'ADP', 'DET', 'ADJ', 'NOUN', 'PUNCT']\n",
      "['I', 'am', 'interested', 'in', 'several', 'artists', '.']\n",
      "['PRON', 'VERB', 'ADJ', 'ADP', 'ADJ', 'NOUN', 'PUNCT']\n",
      "['Actually', ',', 'a', 'lot', '.']\n",
      "['ADV', 'PUNCT', 'DET', 'NOUN', 'PUNCT']\n",
      "['I', 'will', 'be', 'looking', 'for', 'one', 'or', 'more', 'of', 'the', 'following', '.']\n",
      "['PRON', 'AUX', 'AUX', 'VERB', 'ADP', 'NUM', 'CONJ', 'ADJ', 'ADP', 'DET', 'VERB', 'PUNCT']\n",
      "['My', 'concept', 'is', 'that', 'over', 'time', 'I', 'would', 'like', 'to', 'own', 'one', 'of', 'all', 'the', 'following', 'artists', 'and', 'they', 'are', 'all', 'depending', 'when', 'I', 'find', 'something', 'that', 'we', 'really', 'like', '.']\n",
      "['PRON', 'NOUN', 'VERB', 'SCONJ', 'ADP', 'NOUN', 'PRON', 'AUX', 'VERB', 'PART', 'VERB', 'NUM', 'ADP', 'DET', 'DET', 'VERB', 'NOUN', 'CONJ', 'PRON', 'AUX', 'ADV', 'VERB', 'ADV', 'PRON', 'VERB', 'PRON', 'PRON', 'PRON', 'ADV', 'VERB', 'PUNCT']\n",
      "['I', 'listed', 'all', 'of', 'our', '(', 'sometimes', 'mine', 'vs.', 'my', 'wife', \"'s\", 'favorites', 'and', 'priorities', ')', '.']\n",
      "['PRON', 'VERB', 'DET', 'ADP', 'PRON', 'PUNCT', 'ADV', 'PRON', 'ADP', 'PRON', 'NOUN', 'PART', 'NOUN', 'CONJ', 'NOUN', 'PUNCT', 'PUNCT']\n",
      "['They', 'are', 'kind', 'of', 'in', 'rank', 'order', 'but', 'as', 'I', 'stated', 'if', 'I', 'find', 'the', 'piece', 'that', 'I', 'like', 'we', 'will', 'purchase', 'it', '.']\n",
      "['PRON', 'VERB', 'ADV', 'ADV', 'ADP', 'NOUN', 'NOUN', 'CONJ', 'SCONJ', 'PRON', 'VERB', 'SCONJ', 'PRON', 'VERB', 'DET', 'NOUN', 'PRON', 'PRON', 'VERB', 'PRON', 'AUX', 'VERB', 'PRON', 'PUNCT']\n",
      "['I', 'want', 'signed', 'and', 'numbered', '.']\n",
      "['PRON', 'VERB', 'VERB', 'CONJ', 'VERB', 'PUNCT']\n",
      "['I', 'realize', 'that', 'some', 'were', 'not', 'signed', 'by', 'the', 'artist', 'but', 'it', 'is', 'an', 'important', 'fact', 'in', 'my', 'buying', 'decision', '.']\n",
      "['PRON', 'VERB', 'SCONJ', 'DET', 'AUX', 'PART', 'VERB', 'ADP', 'DET', 'NOUN', 'CONJ', 'PRON', 'VERB', 'DET', 'ADJ', 'NOUN', 'ADP', 'PRON', 'NOUN', 'NOUN', 'PUNCT']\n",
      "['I', 'also', 'realize', 'that', 'some', 'may', 'not', 'have', 'done', 'any', 'works', 'on', 'paper', 'or', 'they', 'are', 'outrageously', 'expensive', '.']\n",
      "['PRON', 'ADV', 'VERB', 'SCONJ', 'DET', 'AUX', 'PART', 'AUX', 'VERB', 'DET', 'NOUN', 'ADP', 'NOUN', 'CONJ', 'PRON', 'VERB', 'ADV', 'ADJ', 'PUNCT']\n",
      "['For', 'example', ',', 'I', 'would', 'like', 'to', 'know', 'if', 'Rothko', 'or', 'Kline', 'did', 'any', 'work', 'on', 'paper', '.']\n",
      "['ADP', 'NOUN', 'PUNCT', 'PRON', 'AUX', 'VERB', 'PART', 'VERB', 'SCONJ', 'PROPN', 'CONJ', 'PROPN', 'VERB', 'DET', 'NOUN', 'ADP', 'NOUN', 'PUNCT']\n",
      "['At', 'least', 'that', 'is', 'what', 'I', 'am', 'thinking', 'now', '.']\n",
      "['ADV', 'ADV', 'PRON', 'VERB', 'PRON', 'PRON', 'AUX', 'VERB', 'ADV', 'PUNCT']\n",
      "['Bonnard', '(', 'colorful', 'only', ')']\n",
      "['PROPN', 'PUNCT', 'ADJ', 'ADV', 'PUNCT']\n",
      "['Lautrec']\n",
      "['PROPN']\n",
      "['Suerat', '(', 'any', 'works', 'on', 'paper', '?', '-']\n",
      "['PROPN', 'PUNCT', 'DET', 'NOUN', 'ADP', 'NOUN', 'PUNCT', 'PUNCT']\n",
      "['I', 'do', \"n't\", 'know', 'that', 'he', 'did', 'any', ')']\n",
      "['PRON', 'AUX', 'PART', 'VERB', 'SCONJ', 'PRON', 'VERB', 'DET', 'PUNCT']\n",
      "['Other', 'impressionist', 'or', 'post', 'impressionist', 'lithos']\n",
      "['ADJ', 'ADJ', 'CONJ', 'X', 'ADJ', 'NOUN']\n",
      "['Braque']\n",
      "['PROPN']\n",
      "['Moore']\n",
      "['PROPN']\n",
      "['Arp']\n",
      "['PROPN']\n",
      "['Rouault']\n",
      "['PROPN']\n",
      "['Modrian']\n",
      "['PROPN']\n",
      "['Rothko']\n",
      "['PROPN']\n",
      "['Kline']\n",
      "['PROPN']\n",
      "['Motherwell']\n",
      "['PROPN']\n",
      "['By', 'the', 'way', ',', 'I', 'am', 'interested', 'in', 're-looking', 'at', 'a', 'Picasso', '(', 'although', 'we', 'have', '2', ')', 'that', 'your', 'gallery', 'had', 'a', 'couple', 'of', 'years', 'ago', '.']\n",
      "['ADP', 'DET', 'NOUN', 'PUNCT', 'PRON', 'VERB', 'ADJ', 'SCONJ', 'VERB', 'ADP', 'DET', 'PROPN', 'PUNCT', 'SCONJ', 'PRON', 'VERB', 'NUM', 'PUNCT', 'PRON', 'PRON', 'NOUN', 'VERB', 'DET', 'NOUN', 'ADP', 'NOUN', 'ADV', 'PUNCT']\n",
      "['It', 'was', 'a', 'cubist', 'piece', 'from', 'the', '1920s', 'and', 'I', 'believe', 'you', 'called', 'the', 'technique', 'a', '\"', 'push', 'wa', '\"', '(', 'pronunciation', 'Vs', 'an', 'attempt', 'at', 'the', 'proper', 'spelling', ')', '.']\n",
      "['PRON', 'VERB', 'DET', 'ADJ', 'NOUN', 'ADP', 'DET', 'NOUN', 'CONJ', 'PRON', 'VERB', 'PRON', 'VERB', 'DET', 'NOUN', 'DET', 'PUNCT', 'NOUN', 'NOUN', 'PUNCT', 'PUNCT', 'NOUN', 'ADP', 'DET', 'NOUN', 'ADP', 'DET', 'ADJ', 'NOUN', 'PUNCT', 'PUNCT']\n",
      "['It', 'was', 'for', 'sale', 'in', 'a', 'couple', 'of', 'galleries', 'in', 'SF', 'and', 'was', 'about', '$', '20,000', '.']\n",
      "['PRON', 'VERB', 'ADP', 'NOUN', 'ADP', 'DET', 'NOUN', 'ADP', 'NOUN', 'ADP', 'PROPN', 'CONJ', 'VERB', 'ADV', 'SYM', 'NUM', 'PUNCT']\n",
      "['Is', 'there', '1', 'available', '?']\n",
      "['VERB', 'PRON', 'NUM', 'ADJ', 'PUNCT']\n",
      "['Also', 'I', 'am', 'still', 'thinking', 'about', 'the', 'Matisse', 'we', 'discussed', 'before', 'but', 'as', 'you', 'can', 'see', ',', 'I', 'have', 'a', 'lot', 'of', 'other', 'artists', 'I', 'am', 'interested', 'in', 'and', 'it', 'may', 'remain', 'on', 'the', 'back', 'burner', 'because', 'we', 'already', 'have', 'one', '.']\n",
      "['ADV', 'PRON', 'AUX', 'ADV', 'VERB', 'ADP', 'DET', 'PROPN', 'PRON', 'VERB', 'ADV', 'CONJ', 'SCONJ', 'PRON', 'AUX', 'VERB', 'PUNCT', 'PRON', 'VERB', 'DET', 'NOUN', 'ADP', 'ADJ', 'NOUN', 'PRON', 'VERB', 'ADJ', 'ADP', 'CONJ', 'PRON', 'AUX', 'VERB', 'ADP', 'DET', 'ADJ', 'NOUN', 'SCONJ', 'PRON', 'ADV', 'VERB', 'NUM', 'PUNCT']\n",
      "['Thanks', ',']\n",
      "['NOUN', 'PUNCT']\n",
      "['mike']\n",
      "['PROPN']\n",
      "['Huskers', 'drool', 'over', 'Sooners', '.']\n",
      "['PROPN', 'VERB', 'ADP', 'PROPN', 'PUNCT']\n",
      "['Ken', 'Rice@ENRON', 'COMMUNICATIONS']\n",
      "['X', 'X', 'X']\n",
      "['01/19/2001', '09:14', 'AM']\n",
      "['NUM', 'NUM', 'NOUN']\n",
      "['Huskers', 'rule', ',', 'Sooners', 'drool', '.']\n",
      "['PROPN', 'VERB', 'PUNCT', 'PROPN', 'VERB', 'PUNCT']\n",
      "['Mike', 'McConnell@ECT']\n",
      "['X', 'X']\n",
      "['01/19/01', '07:55', 'AM']\n",
      "['NUM', 'NUM', 'NOUN']\n",
      "['Thanks', 'for', 'the', 'note', '.']\n",
      "['NOUN', 'ADP', 'DET', 'NOUN', 'PUNCT']\n",
      "['Sooners', 'rule', '.']\n",
      "['PROPN', 'VERB', 'PUNCT']\n",
      "['We', \"'ll\", 'find', 'time', 'when', 'things', 'settle', 'down', '.']\n",
      "['PRON', 'AUX', 'VERB', 'NOUN', 'ADV', 'NOUN', 'VERB', 'ADP', 'PUNCT']\n",
      "['m']\n",
      "['PROPN']\n",
      "['Ken', 'Rice@ENRON', 'COMMUNICATIONS']\n",
      "['X', 'X', 'X']\n",
      "['01/19/2001', '07:24', 'AM']\n",
      "['NUM', 'NUM', 'NOUN']\n",
      "['Mike']\n",
      "['PROPN']\n",
      "['I', 'see', 'that', 'we', 'are', 'scheduled', 'to', 'have', 'lunch', 'today', '.']\n",
      "['PRON', 'VERB', 'SCONJ', 'PRON', 'AUX', 'VERB', 'PART', 'VERB', 'NOUN', 'NOUN', 'PUNCT']\n",
      "['I', 'may', 'have', 'to', 'postpone', 'again', ',', 'I', \"'ll\", 'let', 'you', 'know', 'later', 'this', 'morning', '.']\n",
      "['PRON', 'AUX', 'VERB', 'PART', 'VERB', 'ADV', 'PUNCT', 'PRON', 'AUX', 'VERB', 'PRON', 'VERB', 'ADV', 'DET', 'NOUN', 'PUNCT']\n",
      "['I', 'am', 'out', 'all', 'weekend', 'and', 'we', 'have', 'to', 'have', 'the', 'final', 'comments', 'on', 'the', 'Analyst', 'Presentation', 'in', 'by', 'sunday', 'night', 'so', 'I', 'may', 'be', 'working', 'over', 'lunch', '.']\n",
      "['PRON', 'VERB', 'ADV', 'DET', 'NOUN', 'CONJ', 'PRON', 'VERB', 'PART', 'VERB', 'DET', 'ADJ', 'NOUN', 'ADP', 'DET', 'NOUN', 'NOUN', 'ADV', 'ADP', 'PROPN', 'NOUN', 'ADV', 'PRON', 'AUX', 'AUX', 'VERB', 'ADP', 'NOUN', 'PUNCT']\n",
      "['Actually', ',', 'I', 'think', 'we', 'are', 'in', 'pretty', 'good', 'shape', 'so', 'I', 'will', 'probably', 'be', 'doing', 'lunch', 'but', 'just', 'do', \"n't\", 'be', 'too', 'mad', 'if', 'I', 'have', 'to', 'cancel', '.']\n",
      "['ADV', 'PUNCT', 'PRON', 'VERB', 'PRON', 'VERB', 'ADP', 'ADV', 'ADJ', 'NOUN', 'ADV', 'PRON', 'AUX', 'ADV', 'AUX', 'VERB', 'NOUN', 'CONJ', 'ADV', 'AUX', 'PART', 'VERB', 'ADV', 'ADJ', 'SCONJ', 'PRON', 'VERB', 'PART', 'VERB', 'PUNCT']\n",
      "['Ken']\n",
      "['PROPN']\n",
      "['PS', 'Your', 'brother', 'told', 'me', 'he', 'went', 'to', '3', 'bowl', 'games', '(', 'when', 'I', 'found', 'out', 'that', 'two', 'of', 'them', 'were', 'the', 'galleryfurniture.com', 'bowl', 'and', 'that', 'one', 'in', 'Shreveport', '(', 'I', 'ca', \"n't\", 'remember', 'the', 'name', 'of', 'it', '))', 'I', 'realized', 'he', 'is', 'a', 'very', ',', 'very', 'sick', 'college', 'football', 'fan', '.']\n",
      "['NOUN', 'PRON', 'NOUN', 'VERB', 'PRON', 'PRON', 'VERB', 'ADP', 'NUM', 'NOUN', 'NOUN', 'PUNCT', 'ADV', 'PRON', 'VERB', 'ADP', 'SCONJ', 'NUM', 'ADP', 'PRON', 'VERB', 'DET', 'X', 'NOUN', 'CONJ', 'DET', 'NOUN', 'ADP', 'PROPN', 'PUNCT', 'PRON', 'AUX', 'PART', 'VERB', 'DET', 'NOUN', 'ADP', 'PRON', 'PUNCT', 'PRON', 'VERB', 'PRON', 'VERB', 'DET', 'ADV', 'PUNCT', 'ADV', 'ADJ', 'NOUN', 'NOUN', 'NOUN', 'PUNCT']\n",
      "['Jeff', ',', 'here', 'is', 'the', 'intial', 'draft', '.']\n",
      "['PROPN', 'PUNCT', 'ADV', 'VERB', 'DET', 'ADJ', 'NOUN', 'PUNCT']\n",
      "['Please', 'leave', 'as', 'a', 'word', 'document', 'and', 'make', 'any', 'changes', 'and', 'additions', 'that', 'you', 'think', 'necessary', '.']\n",
      "['INTJ', 'VERB', 'ADP', 'DET', 'PROPN', 'NOUN', 'CONJ', 'VERB', 'DET', 'NOUN', 'CONJ', 'NOUN', 'PRON', 'PRON', 'VERB', 'ADJ', 'PUNCT']\n",
      "['I', 'have', \"n't\", 'even', 'changed', 'the', 'wording', 'after', 'I', 'first', 'put', 'it', 'down', '.']\n",
      "['PRON', 'AUX', 'PART', 'ADV', 'VERB', 'DET', 'NOUN', 'SCONJ', 'PRON', 'ADV', 'VERB', 'PRON', 'ADV', 'PUNCT']\n",
      "['Mike']\n",
      "['PROPN']\n",
      "['Mark', ',', 'I', 'thought', 'you', 'would', 'enjoy', 'the', 'comment', 'about', 'you', '.']\n",
      "['PROPN', 'PUNCT', 'PRON', 'VERB', 'PRON', 'AUX', 'VERB', 'DET', 'NOUN', 'ADP', 'PRON', 'PUNCT']\n",
      "['m']\n",
      "['PROPN']\n",
      "['Ken', 'Rice@ENRON', 'COMMUNICATIONS']\n",
      "['X', 'X', 'X']\n",
      "['01/19/2001', '07:24', 'AM']\n",
      "['NUM', 'NUM', 'NOUN']\n",
      "['Mike']\n",
      "['PROPN']\n",
      "['I', 'see', 'that', 'we', 'are', 'scheduled', 'to', 'have', 'lunch', 'today', '.']\n",
      "['PRON', 'VERB', 'SCONJ', 'PRON', 'AUX', 'VERB', 'PART', 'VERB', 'NOUN', 'NOUN', 'PUNCT']\n",
      "['I', 'may', 'have', 'to', 'postpone', 'again', ',', 'I', \"'ll\", 'let', 'you', 'know', 'later', 'this', 'morning', '.']\n",
      "['PRON', 'AUX', 'VERB', 'PART', 'VERB', 'ADV', 'PUNCT', 'PRON', 'AUX', 'VERB', 'PRON', 'VERB', 'ADV', 'DET', 'NOUN', 'PUNCT']\n",
      "['I', 'am', 'out', 'all', 'weekend', 'and', 'we', 'have', 'to', 'have', 'the', 'final', 'comments', 'on', 'the', 'Analyst', 'Presentation', 'in', 'by', 'sunday', 'night', 'so', 'I', 'may', 'be', 'working', 'over', 'lunch', '.']\n",
      "['PRON', 'VERB', 'ADV', 'DET', 'NOUN', 'CONJ', 'PRON', 'VERB', 'PART', 'VERB', 'DET', 'ADJ', 'NOUN', 'ADP', 'DET', 'NOUN', 'NOUN', 'ADV', 'ADP', 'PROPN', 'NOUN', 'ADV', 'PRON', 'AUX', 'AUX', 'VERB', 'ADP', 'NOUN', 'PUNCT']\n",
      "['Actually', ',', 'I', 'think', 'we', 'are', 'in', 'pretty', 'good', 'shape', 'so', 'I', 'will', 'probably', 'be', 'doing', 'lunch', 'but', 'just', 'do', \"n't\", 'be', 'too', 'mad', 'if', 'I', 'have', 'to', 'cancel', '.']\n",
      "['ADV', 'PUNCT', 'PRON', 'VERB', 'PRON', 'VERB', 'ADP', 'ADV', 'ADJ', 'NOUN', 'ADV', 'PRON', 'AUX', 'ADV', 'AUX', 'VERB', 'NOUN', 'CONJ', 'ADV', 'AUX', 'PART', 'VERB', 'ADV', 'ADJ', 'SCONJ', 'PRON', 'VERB', 'PART', 'VERB', 'PUNCT']\n",
      "['Ken']\n",
      "['PROPN']\n",
      "['PS', 'Your', 'brother', 'told', 'me', 'he', 'went', 'to', '3', 'bowl', 'games', '(', 'when', 'I', 'found', 'out', 'that', 'two', 'of', 'them', 'were', 'the', 'galleryfurniture.com', 'bowl', 'and', 'that', 'one', 'in', 'Shreveport', '(', 'I', 'ca', \"n't\", 'remember', 'the', 'name', 'of', 'it', '))', 'I', 'realized', 'he', 'is', 'a', 'very', ',', 'very', 'sick', 'college', 'football', 'fan', '.']\n",
      "['NOUN', 'PRON', 'NOUN', 'VERB', 'PRON', 'PRON', 'VERB', 'ADP', 'NUM', 'NOUN', 'NOUN', 'PUNCT', 'ADV', 'PRON', 'VERB', 'ADP', 'SCONJ', 'NUM', 'ADP', 'PRON', 'VERB', 'DET', 'X', 'NOUN', 'CONJ', 'DET', 'NOUN', 'ADP', 'PROPN', 'PUNCT', 'PRON', 'AUX', 'PART', 'VERB', 'DET', 'NOUN', 'ADP', 'PRON', 'PUNCT', 'PRON', 'VERB', 'PRON', 'VERB', 'DET', 'ADV', 'PUNCT', 'ADV', 'ADJ', 'NOUN', 'NOUN', 'NOUN', 'PUNCT']\n",
      "['I', 'will', 'put', 'this', 'on', 'our', 'calendars', '.']\n",
      "['PRON', 'AUX', 'VERB', 'PRON', 'ADP', 'PRON', 'NOUN', 'PUNCT']\n",
      "['Too', 'bad', 'you', 'wo', \"n't\", 'make', 'the', 'Compaq', 'thing', ',', 'but', 'maybe', 'next', 'year', '.']\n",
      "['ADV', 'ADJ', 'PRON', 'AUX', 'PART', 'VERB', 'DET', 'PROPN', 'NOUN', 'PUNCT', 'CONJ', 'ADV', 'ADJ', 'NOUN', 'PUNCT']\n",
      "['San', 'Antonio', ',', 'wow', 'what', 'a', 'let', 'down', 'from', 'the', 'other', 'cities', '.']\n",
      "['PROPN', 'PROPN', 'PUNCT', 'INTJ', 'DET', 'DET', 'NOUN', 'NOUN', 'ADP', 'DET', 'ADJ', 'NOUN', 'PUNCT']\n",
      "['That', 'will', 'be', 'a', 'nice', 'time', 'of', 'year', 'though', '.']\n",
      "['PRON', 'AUX', 'VERB', 'DET', 'ADJ', 'NOUN', 'ADP', 'NOUN', 'ADV', 'PUNCT']\n",
      "['I', 'can', 'recommend', 'some', 'good', 'restaurants', 'since', 'I', 'took', 'Ric', 'there', 'last', 'year', 'for', 'his', 'birthday', '.']\n",
      "['PRON', 'AUX', 'VERB', 'DET', 'ADJ', 'NOUN', 'SCONJ', 'PRON', 'VERB', 'PROPN', 'ADV', 'ADJ', 'NOUN', 'ADP', 'PRON', 'NOUN', 'PUNCT']\n",
      "['We', 'stayed', 'at', 'the', 'Menger', 'and', 'had', 'a', 'great', 'time', '.']\n",
      "['PRON', 'VERB', 'ADP', 'DET', 'PROPN', 'CONJ', 'VERB', 'DET', 'ADJ', 'NOUN', 'PUNCT']\n",
      "['Kay', 'Mann@ENRON']\n",
      "['X', 'X']\n",
      "['09/20/2000', '04:18', 'PM']\n",
      "['NUM', 'NUM', 'NOUN']\n",
      "['This', 'Friday', '-', 'Michael', 'goes', 'for', 'a', 'visit', 'at', 'St.', 'Francis', ',', 'which', 'may', 'be', 'his', 'new', 'school', '(', 'so', 'far', ',', 'so', 'good', ')', '.']\n",
      "['DET', 'PROPN', 'PUNCT', 'PROPN', 'VERB', 'ADP', 'DET', 'NOUN', 'ADP', 'PROPN', 'PROPN', 'PUNCT', 'PRON', 'AUX', 'VERB', 'PRON', 'ADJ', 'NOUN', 'PUNCT', 'ADV', 'ADV', 'PUNCT', 'ADV', 'ADJ', 'PUNCT', 'PUNCT']\n",
      "['I', \"'ll\", 'be', 'in', 'around', '1000']\n",
      "['PRON', 'AUX', 'VERB', 'ADV', 'ADV', 'NUM']\n",
      "['Most', 'Fridays', 'I', \"'m\", 'going', 'to', 'TRY', 'to', 'pick', 'Michael', 'up', 'since', 'I', \"'m\", 'away', 'so', 'much', ',', 'which', 'means', 'leaving', 'by', '445', 'or', 'so', '.']\n",
      "['ADJ', 'PROPN', 'PRON', 'AUX', 'VERB', 'PART', 'VERB', 'PART', 'VERB', 'PROPN', 'ADV', 'SCONJ', 'PRON', 'VERB', 'ADV', 'ADV', 'ADV', 'PUNCT', 'PRON', 'VERB', 'VERB', 'ADP', 'NUM', 'CONJ', 'ADV', 'PUNCT']\n",
      "['October', '4', ',', 'ENA', 'orientation', 'in', 'the', 'am', '.']\n",
      "['PROPN', 'NUM', 'PUNCT', 'PROPN', 'NOUN', 'ADP', 'DET', 'NOUN', 'PUNCT']\n",
      "['October', '19', '/', '20', ',', 'Neil', 'is', 'out', 'of', 'town', ',', 'so', 'I', 'have', 'to', 'pick', 'Michael', 'up', 'from', 'school', '(', 'leave', 'at', '430', ')']\n",
      "['PROPN', 'NUM', 'PUNCT', 'NUM', 'PUNCT', 'PROPN', 'VERB', 'ADP', 'ADP', 'NOUN', 'PUNCT', 'ADV', 'PRON', 'VERB', 'PART', 'VERB', 'PROPN', 'ADV', 'ADP', 'NOUN', 'PUNCT', 'VERB', 'ADP', 'NUM', 'PUNCT']\n",
      "['October', '26', '/', '27', ',', 'hope', 'to', 'be', 'vacation', 'time', '.']\n",
      "['PROPN', 'NUM', 'PUNCT', 'NUM', 'PUNCT', 'VERB', 'PART', 'VERB', 'NOUN', 'NOUN', 'PUNCT']\n",
      "['Neil', 'has', 'a', 'meeting', 'in', 'San', 'Antonio', '(', 'usually', 'it', 'is', 'in', 'Miami', ',', 'San', 'Francisco', ',', 'Phoenix', '-', 'not', 'so', 'great', 'this', 'year', ')', '.']\n",
      "['PROPN', 'VERB', 'DET', 'NOUN', 'ADP', 'PROPN', 'PROPN', 'PUNCT', 'ADV', 'PRON', 'VERB', 'ADP', 'PROPN', 'PUNCT', 'PROPN', 'PROPN', 'PUNCT', 'PROPN', 'PUNCT', 'PART', 'ADV', 'ADJ', 'DET', 'NOUN', 'PUNCT', 'PUNCT']\n",
      "['It', 'is', 'the', 'officer', \"'s\", 'meeting', 'for', 'Enterprise', ',', 'and', 'spouses', 'are', 'invited', '.']\n",
      "['PRON', 'VERB', 'DET', 'NOUN', 'PART', 'NOUN', 'ADP', 'PROPN', 'PUNCT', 'CONJ', 'NOUN', 'AUX', 'VERB', 'PUNCT']\n",
      "['This', 'means', 'we', 'wo', \"n't\", 'be', 'in', 'town', 'for', 'the', 'Compaq', 'thing', '.']\n",
      "['PRON', 'VERB', 'PRON', 'AUX', 'PART', 'VERB', 'ADP', 'NOUN', 'ADP', 'DET', 'PROPN', 'NOUN', 'PUNCT']\n",
      "['Figures', ',', 'of', 'course', '.']\n",
      "['VERB', 'PUNCT', 'ADV', 'ADV', 'PUNCT']\n",
      "['Thanks', 'for', 'asking', '.']\n",
      "['NOUN', 'SCONJ', 'VERB', 'PUNCT']\n",
      "['I', \"'m\", 'watching', 'for', 'some', 'good', 'vacation', 'days', ',', 'also', '...']\n",
      "['PRON', 'AUX', 'VERB', 'ADP', 'DET', 'ADJ', 'NOUN', 'NOUN', 'PUNCT', 'ADV', 'PUNCT']\n",
      "['fyi', '/', 'review', '/', 'comment']\n",
      "['ADV', 'PUNCT', 'NOUN', 'PUNCT', 'NOUN']\n",
      "['I', 'have', 'a', 'couple', 'of', 'questions', 'so', 'I', 'can', 'wrap', 'up', 'the', 'LOI', ':']\n",
      "['PRON', 'VERB', 'DET', 'NOUN', 'ADP', 'NOUN', 'SCONJ', 'PRON', 'AUX', 'VERB', 'ADP', 'DET', 'NOUN', 'PUNCT']\n",
      "['We', 'refer', 'to', 'licensed', 'Fuel', 'Cell', 'Energy', 'equipment', '.']\n",
      "['PRON', 'VERB', 'ADP', 'VERB', 'NOUN', 'NOUN', 'NOUN', 'NOUN', 'PUNCT']\n",
      "['Do', 'we', 'intend', 'to', 'reference', 'a', 'particular', 'manufacturer', ',', 'or', 'should', 'this', 'be', 'more', 'generic', '?']\n",
      "['AUX', 'PRON', 'VERB', 'PART', 'VERB', 'DET', 'ADJ', 'NOUN', 'PUNCT', 'CONJ', 'AUX', 'PRON', 'VERB', 'ADV', 'ADJ', 'PUNCT']\n",
      "['Do', 'we', 'want', 'to', 'attach', 'a', 'draft', 'of', 'the', 'Development', 'Agreement', ',', 'and', 'condition', 'the', 'final', 'deal', 'on', 'agreeing', 'to', 'terms', 'substantially', 'the', 'same', 'as', 'what', \"'s\", 'in', 'the', 'draft', '?']\n",
      "['AUX', 'PRON', 'VERB', 'PART', 'VERB', 'DET', 'NOUN', 'ADP', 'DET', 'NOUN', 'NOUN', 'PUNCT', 'CONJ', 'VERB', 'DET', 'ADJ', 'NOUN', 'SCONJ', 'VERB', 'ADP', 'NOUN', 'ADV', 'DET', 'ADJ', 'SCONJ', 'PRON', 'VERB', 'ADP', 'DET', 'NOUN', 'PUNCT']\n",
      "['I', 'have', 'a', 'concern', 'that', 'the', 'Enron', 'optionality', 'bug', 'could', 'bite', 'us', 'on', 'the', 'backside', 'with', 'that', 'one', '.']\n",
      "['PRON', 'VERB', 'DET', 'NOUN', 'SCONJ', 'DET', 'PROPN', 'NOUN', 'NOUN', 'AUX', 'VERB', 'PRON', 'ADP', 'DET', 'NOUN', 'ADP', 'DET', 'NOUN', 'PUNCT']\n",
      "['Do', 'we', 'expect', 'to', 'have', 'ONE', 'EPC', 'contract', ',', 'or', 'several', '?']\n",
      "['AUX', 'PRON', 'VERB', 'PART', 'VERB', 'NUM', 'NOUN', 'NOUN', 'PUNCT', 'CONJ', 'ADJ', 'PUNCT']\n",
      "['I', \"'m\", 'looking', 'for', 'the', 'confidentiality', 'agreement', ',', 'which', 'may', 'be', 'in', 'Bart', \"'s\", 'files', '(', 'have', \"n't\", 'checked', 'closely', 'yet', ')', '.']\n",
      "['PRON', 'AUX', 'VERB', 'ADP', 'DET', 'NOUN', 'NOUN', 'PUNCT', 'PRON', 'AUX', 'VERB', 'ADP', 'PROPN', 'PART', 'NOUN', 'PUNCT', 'AUX', 'PART', 'VERB', 'ADV', 'ADV', 'PUNCT', 'PUNCT']\n",
      "['If', 'anyone', 'has', 'it', 'handy', ',', 'it', 'could', 'speed', 'things', 'up', 'for', 'me', '.']\n",
      "['SCONJ', 'PRON', 'VERB', 'PRON', 'ADJ', 'PUNCT', 'PRON', 'AUX', 'VERB', 'NOUN', 'ADP', 'ADP', 'PRON', 'PUNCT']\n",
      "['Thanks', ',']\n",
      "['NOUN', 'PUNCT']\n",
      "['Kay']\n",
      "['PROPN']\n",
      "['Forget', 'the', 'ONE', 'or', 'more', 'contract', 'questions', '.']\n",
      "['VERB', 'DET', 'NUM', 'CONJ', 'ADJ', 'NOUN', 'NOUN', 'PUNCT']\n",
      "['I', 'see', 'we', 'expect', 'to', 'have', 'separate', 'contracts', 'for', 'each', 'project', '.']\n",
      "['PRON', 'VERB', 'PRON', 'VERB', 'PART', 'VERB', 'ADJ', 'NOUN', 'ADP', 'DET', 'NOUN', 'PUNCT']\n",
      "['I', 'have', 'a', 'couple', 'of', 'questions', 'so', 'I', 'can', 'wrap', 'up', 'the', 'LOI', ':']\n",
      "['PRON', 'VERB', 'DET', 'NOUN', 'ADP', 'NOUN', 'SCONJ', 'PRON', 'AUX', 'VERB', 'ADP', 'DET', 'NOUN', 'PUNCT']\n",
      "['We', 'refer', 'to', 'licensed', 'Fuel', 'Cell', 'Energy', 'equipment', '.']\n",
      "['PRON', 'VERB', 'ADP', 'VERB', 'NOUN', 'NOUN', 'NOUN', 'NOUN', 'PUNCT']\n",
      "['Do', 'we', 'intend', 'to', 'reference', 'a', 'particular', 'manufacturer', ',', 'or', 'should', 'this', 'be', 'more', 'generic', '?']\n",
      "['AUX', 'PRON', 'VERB', 'PART', 'VERB', 'DET', 'ADJ', 'NOUN', 'PUNCT', 'CONJ', 'AUX', 'PRON', 'VERB', 'ADV', 'ADJ', 'PUNCT']\n",
      "['Do', 'we', 'want', 'to', 'attach', 'a', 'draft', 'of', 'the', 'Development', 'Agreement', ',', 'and', 'condition', 'the', 'final', 'deal', 'on', 'agreeing', 'to', 'terms', 'substantially', 'the', 'same', 'as', 'what', \"'s\", 'in', 'the', 'draft', '?']\n",
      "['AUX', 'PRON', 'VERB', 'PART', 'VERB', 'DET', 'NOUN', 'ADP', 'DET', 'NOUN', 'NOUN', 'PUNCT', 'CONJ', 'VERB', 'DET', 'ADJ', 'NOUN', 'SCONJ', 'VERB', 'ADP', 'NOUN', 'ADV', 'DET', 'ADJ', 'SCONJ', 'PRON', 'VERB', 'ADP', 'DET', 'NOUN', 'PUNCT']\n",
      "['I', 'have', 'a', 'concern', 'that', 'the', 'Enron', 'optionality', 'bug', 'could', 'bite', 'us', 'on', 'the', 'backside', 'with', 'that', 'one', '.']\n",
      "['PRON', 'VERB', 'DET', 'NOUN', 'SCONJ', 'DET', 'PROPN', 'NOUN', 'NOUN', 'AUX', 'VERB', 'PRON', 'ADP', 'DET', 'NOUN', 'ADP', 'DET', 'NOUN', 'PUNCT']\n",
      "['Do', 'we', 'expect', 'to', 'have', 'ONE', 'EPC', 'contract', ',', 'or', 'several', '?']\n",
      "['AUX', 'PRON', 'VERB', 'PART', 'VERB', 'NUM', 'NOUN', 'NOUN', 'PUNCT', 'CONJ', 'ADJ', 'PUNCT']\n",
      "['I', \"'m\", 'looking', 'for', 'the', 'confidentiality', 'agreement', ',', 'which', 'may', 'be', 'in', 'Bart', \"'s\", 'files', '(', 'have', \"n't\", 'checked', 'closely', 'yet', ')', '.']\n",
      "['PRON', 'AUX', 'VERB', 'ADP', 'DET', 'NOUN', 'NOUN', 'PUNCT', 'PRON', 'AUX', 'VERB', 'ADP', 'PROPN', 'PART', 'NOUN', 'PUNCT', 'AUX', 'PART', 'VERB', 'ADV', 'ADV', 'PUNCT', 'PUNCT']\n",
      "['If', 'anyone', 'has', 'it', 'handy', ',', 'it', 'could', 'speed', 'things', 'up', 'for', 'me', '.']\n",
      "['SCONJ', 'PRON', 'VERB', 'PRON', 'ADJ', 'PUNCT', 'PRON', 'AUX', 'VERB', 'NOUN', 'ADP', 'ADP', 'PRON', 'PUNCT']\n",
      "['Thanks', ',']\n",
      "['NOUN', 'PUNCT']\n",
      "['Kay']\n",
      "['PROPN']\n",
      "['On', 'the', 'issue', 'of', 'the', 'contracts', ',', 'the', 'draft', 'says', 'that', 'the', '$', '170', 'm', 'is', 'paid', 'when', 'the', 'EPC', 'contract', 'is', 'signed', '.']\n",
      "['ADP', 'DET', 'NOUN', 'ADP', 'DET', 'NOUN', 'PUNCT', 'DET', 'NOUN', 'VERB', 'SCONJ', 'DET', 'SYM', 'NUM', 'NUM', 'AUX', 'VERB', 'ADV', 'DET', 'NOUN', 'NOUN', 'AUX', 'VERB', 'PUNCT']\n",
      "['Are', 'we', 'expecting', 'that', 'the', 'portion', 'attributable', 'to', 'each', 'project', 'will', 'be', 'paid', 'as', 'the', 'individual', 'EPC', 'contracts', 'are', 'signed', '?']\n",
      "['AUX', 'PRON', 'VERB', 'SCONJ', 'DET', 'NOUN', 'ADJ', 'ADP', 'DET', 'NOUN', 'AUX', 'AUX', 'VERB', 'SCONJ', 'DET', 'ADJ', 'NOUN', 'NOUN', 'AUX', 'VERB', 'PUNCT']\n",
      "['Thanks', ',']\n",
      "['NOUN', 'PUNCT']\n",
      "['Kay']\n",
      "['PROPN']\n",
      "['1', '.', 'The', 'pricing', 'that', 'we', 'have', 'given', 'CRRA', 'is', 'specific', 'to', 'FuelCell', 'Energy', 'and', 'would', 'not', 'be', 'meaningful', 'without', 'listing', 'the', 'manufacturer', '(', 'i.e.', ',', 'ONSI', 'would', 'be', 'a', 'lot', 'more', 'money', ')', '.']\n",
      "['X', 'PUNCT', 'DET', 'NOUN', 'PRON', 'PRON', 'AUX', 'VERB', 'PROPN', 'VERB', 'ADJ', 'ADP', 'PROPN', 'PROPN', 'CONJ', 'AUX', 'PART', 'VERB', 'ADJ', 'SCONJ', 'VERB', 'DET', 'NOUN', 'PUNCT', 'X', 'PUNCT', 'PROPN', 'AUX', 'VERB', 'DET', 'NOUN', 'ADJ', 'NOUN', 'PUNCT', 'PUNCT']\n",
      "['Hence', ',', 'I', 'think', 'that', 'we', 'have', 'to', 'reference', 'the', 'manufacturer', '.']\n",
      "['ADV', 'PUNCT', 'PRON', 'VERB', 'SCONJ', 'PRON', 'VERB', 'PART', 'VERB', 'DET', 'NOUN', 'PUNCT']\n",
      "['2', '.', 'The', 'attachment', 'of', 'the', 'Development', 'Agreement', 'is', 'a', 'Jeff', 'question', '.']\n",
      "['X', 'PUNCT', 'DET', 'NOUN', 'ADP', 'DET', 'NOUN', 'NOUN', 'VERB', 'DET', 'PROPN', 'NOUN', 'PUNCT']\n",
      "['In', 'order', 'to', 'mark', 'any', '2000', 'income', ',', 'we', 'will', 'need', 'to', 'get', 'CRRA', 'to', 'execute', 'the', 'Development', 'Agreement', 'in', '2000', '.']\n",
      "['ADP', 'NOUN', 'PART', 'VERB', 'DET', 'NUM', 'NOUN', 'PUNCT', 'PRON', 'AUX', 'VERB', 'PART', 'VERB', 'PROPN', 'PART', 'VERB', 'DET', 'NOUN', 'NOUN', 'ADP', 'NUM', 'PUNCT']\n",
      "['In', 'my', 'opinion', ',', 'we', 'should', 'show', 'CRRA', 'a', 'copy', 'of', 'the', 'LOI', 'with', 'the', 'assumption', 'that', 'the', 'Development', 'Agreement', 'is', 'attached', '.']\n",
      "['ADP', 'PRON', 'NOUN', 'PUNCT', 'PRON', 'AUX', 'VERB', 'PROPN', 'DET', 'NOUN', 'ADP', 'DET', 'NOUN', 'ADP', 'DET', 'NOUN', 'SCONJ', 'DET', 'NOUN', 'NOUN', 'AUX', 'VERB', 'PUNCT']\n",
      "['I', 'would', 'actually', 'send', 'them', 'the', 'draft', 'Development', 'Agreement', 'a', 'couple', 'days', 'after', 'the', 'LOI', '.']\n",
      "['PRON', 'AUX', 'ADV', 'VERB', 'PRON', 'DET', 'NOUN', 'NOUN', 'NOUN', 'DET', 'NOUN', 'NOUN', 'ADP', 'DET', 'NOUN', 'PUNCT']\n",
      "['Based', 'on', 'how', 'CRRA', 'reacts', ',', 'I', 'would', 'make', 'an', 'ultimate', 'determination', 'if', 'the', 'agreement', 'needs', 'to', 'be', 'attached', 'to', 'the', 'LOI', '.']\n",
      "['VERB', 'SCONJ', 'ADV', 'PROPN', 'VERB', 'PUNCT', 'PRON', 'AUX', 'VERB', 'DET', 'ADJ', 'NOUN', 'SCONJ', 'DET', 'NOUN', 'VERB', 'PART', 'AUX', 'VERB', 'ADP', 'DET', 'NOUN', 'PUNCT']\n",
      "['3', '.', 'I', 'expect', 'at', 'least', 'one', 'EPC', 'contract', 'per', 'project', '.']\n",
      "['X', 'PUNCT', 'PRON', 'VERB', 'ADV', 'ADV', 'NUM', 'NOUN', 'NOUN', 'ADP', 'NOUN', 'PUNCT']\n",
      "['We', 'do', \"n't\", 'want', 'to', 'condition', 'the', 'acceptance', 'of', 'one', 'project', 'on', 'the', 'performance', 'of', 'another', 'project', '.']\n",
      "['PRON', 'AUX', 'PART', 'VERB', 'PART', 'VERB', 'DET', 'NOUN', 'ADP', 'NUM', 'NOUN', 'ADP', 'DET', 'NOUN', 'ADP', 'DET', 'NOUN', 'PUNCT']\n",
      "['Performance', 'tests', 'will', 'either', 'be', 'performed', 'on', 'a', 'project', 'basis', 'or', 'a', 'unit', 'by', 'unit', 'basis', 'in', 'a', 'given', 'project', '.']\n",
      "['NOUN', 'NOUN', 'AUX', 'CONJ', 'AUX', 'VERB', 'ADP', 'DET', 'NOUN', 'NOUN', 'CONJ', 'DET', 'NOUN', 'ADP', 'NOUN', 'NOUN', 'ADP', 'DET', 'VERB', 'NOUN', 'PUNCT']\n",
      "['Remarkably', 'clear', 'explanation', '.']\n",
      "['ADV', 'ADJ', 'NOUN', 'PUNCT']\n",
      "['Sent', 'by', ':', 'Ben', 'Jacoby@ECT']\n",
      "['VERB', 'ADP', 'PUNCT', 'X', 'X']\n",
      "['FYI', ',', 'see', 'below', '.']\n",
      "['ADV', 'PUNCT', 'VERB', 'ADV', 'PUNCT']\n",
      "['Mom', \"'s\", 'birthday', 'is', 'tommorow', '.']\n",
      "['PROPN', 'PART', 'NOUN', 'VERB', 'NOUN', 'PUNCT']\n",
      "['What', 'are', 'we', 'going', 'to', 'get', 'her', '?']\n",
      "['PRON', 'AUX', 'PRON', 'VERB', 'PART', 'VERB', 'PRON', 'PUNCT']\n",
      "['Chris']\n",
      "['PROPN']\n",
      "['That', 'is', 'some', 'good', 'stuff', '.']\n",
      "['PRON', 'VERB', 'DET', 'ADJ', 'NOUN', 'PUNCT']\n",
      "['I', 'hear', 'you', 'are', 'coming', 'our', 'way', 'soon', '.']\n",
      "['PRON', 'VERB', 'PRON', 'AUX', 'VERB', 'PRON', 'NOUN', 'ADV', 'PUNCT']\n",
      "['Look', 'forward', 'to', 'drinking', 'a', 'few', 'beers', '.']\n",
      "['VERB', 'ADV', 'SCONJ', 'VERB', 'DET', 'ADJ', 'NOUN', 'PUNCT']\n",
      "['Chris']\n",
      "['PROPN']\n"
     ]
    }
   ],
   "source": [
    "for (words, tags) in preproc.conll_seq_generator(TRAIN_FILE):\n",
    "    print(words)\n",
    "    print(tags)"
   ]
  },
  {
   "cell_type": "code",
   "execution_count": 6,
   "metadata": {},
   "outputs": [
    {
     "name": "stdout",
     "output_type": "stream",
     "text": [
      "['ADJ', 'ADP', 'ADV', 'AUX', 'CONJ', 'DET', 'INTJ', 'NOUN', 'NUM', 'PART', 'PRON', 'PROPN', 'PUNCT', 'SCONJ', 'SYM', 'VERB', 'X']\n"
     ]
    }
   ],
   "source": [
    "## Demo\n",
    "all_tags = set([])\n",
    "for (words, tags) in preproc.conll_seq_generator(TRAIN_FILE):\n",
    "    for tag in tags:\n",
    "        all_tags.add(tag)\n",
    "all_tags = sorted(all_tags)\n",
    "print (all_tags)"
   ]
  },
  {
   "cell_type": "markdown",
   "metadata": {},
   "source": [
    "**Implemented:** `get_tag_word_counts` in `most_common.py`\n",
    "\n",
    "The function calculates the number of occurrences of all words for each tag.\n",
    "\n",
    "- **Input**: filename for data file, to be passed as argument to `preproc.conll_seq_generation`\n",
    "- **Output**: dict of counters, where keys are tags\n",
    "- **Tests**: ```test_most_common.py: test_get_top_noun_tags(),test_get_top_verb_tags()```"
   ]
  },
  {
   "cell_type": "code",
   "execution_count": 9,
   "metadata": {},
   "outputs": [
    {
     "name": "stdout",
     "output_type": "stream",
     "text": [
      "..\n",
      "----------------------------------------------------------------------\n",
      "Ran 2 tests in 0.389s\n",
      "\n",
      "OK\n"
     ]
    }
   ],
   "source": [
    "# DONE\n",
    "! nosetests tests/test_most_common.py"
   ]
  },
  {
   "cell_type": "code",
   "execution_count": 7,
   "metadata": {},
   "outputs": [],
   "source": [
    "reload(most_common);"
   ]
  },
  {
   "cell_type": "code",
   "execution_count": 8,
   "metadata": {
    "scrolled": true
   },
   "outputs": [
    {
     "name": "stdout",
     "output_type": "stream",
     "text": [
      "PROPN [('Bush', 100), ('US', 81), ('Al', 78)]\n",
      "PUNCT [(',', 1616), ('.', 1588), ('\"', 383)]\n",
      "ADJ [('other', 46), ('many', 41), ('Indian', 35)]\n",
      "NOUN [('people', 53), ('time', 48), ('world', 46)]\n",
      "VERB [('is', 335), ('was', 128), ('have', 110)]\n",
      "DET [('the', 1926), ('a', 650), ('The', 216)]\n",
      "ADP [('of', 887), ('in', 738), ('to', 380)]\n",
      "AUX [('have', 139), ('was', 126), ('has', 124)]\n",
      "PRON [('I', 251), ('it', 208), ('he', 131)]\n",
      "PART [('to', 542), (\"'s\", 218), ('not', 172)]\n",
      "SCONJ [('that', 304), ('if', 56), ('as', 47)]\n",
      "NUM [('one', 52), ('two', 28), ('2001', 17)]\n",
      "ADV [('also', 63), ('now', 54), ('when', 53)]\n",
      "CONJ [('and', 932), ('or', 127), ('but', 88)]\n",
      "X [('1', 3), ('2', 3), ('3', 3)]\n",
      "INTJ [('Please', 15), ('please', 3), ('Well', 3)]\n",
      "SYM [('$', 20), ('-', 13), ('/', 7)]\n"
     ]
    }
   ],
   "source": [
    "# this block uses your code to find the three most common words per tag\n",
    "counters = most_common.get_tag_word_counts(TRAIN_FILE)\n",
    "for tag,tag_ctr in counters.items():\n",
    "    print (tag,tag_ctr.most_common(3))"
   ]
  },
  {
   "cell_type": "markdown",
   "metadata": {},
   "source": [
    "# 2. Tagging as classification\n",
    "\n",
    "Part-of-speech tagging via classification.\n",
    "\n",
    "Tagging quality is evaluated using evalTagger, which takes three arguments:\n",
    "- a tagger, which is a **function** taking a list of words and a tagset as arguments and returns the predicted tags for the words\n",
    "- an output filename\n",
    "- a test file\n",
    "\n",
    "Using a tagger that labels everything as a noun."
   ]
  },
  {
   "cell_type": "code",
   "execution_count": 9,
   "metadata": {},
   "outputs": [],
   "source": [
    "reload(tagger_base);"
   ]
  },
  {
   "cell_type": "code",
   "execution_count": 10,
   "metadata": {
    "scrolled": true
   },
   "outputs": [
    {
     "name": "stdout",
     "output_type": "stream",
     "text": [
      "0.1527613022274944\n"
     ]
    }
   ],
   "source": [
    "# here is a tagger that just tags everything as a noun\n",
    "noun_tagger = lambda words, alltags : ['NOUN' for word in words]\n",
    "\n",
    "confusion = tagger_base.eval_tagger(noun_tagger,'nouns.preds',all_tags=all_tags)\n",
    "print (scorer.accuracy(confusion))"
   ]
  },
  {
   "cell_type": "code",
   "execution_count": 11,
   "metadata": {
    "scrolled": true
   },
   "outputs": [
    {
     "name": "stdout",
     "output_type": "stream",
     "text": [
      "0.1527613022274944\n"
     ]
    }
   ],
   "source": [
    "# here is a tagger that just tags everything as a noun\n",
    "noun_tagger = lambda words, alltags : ['NOUN' for word in words]\n",
    "\n",
    "confusion = tagger_base.eval_tagger(noun_tagger,'nouns.preds',all_tags=all_tags)\n",
    "print (scorer.accuracy(confusion))"
   ]
  },
  {
   "cell_type": "markdown",
   "metadata": {},
   "source": [
    "**Implemented:** `make_classifier_tagger()` in `tagger_base.py`. \n",
    "\n",
    "- **Input**: defaultdict of weights\n",
    "- **Output**: return a function that takes in (list of word tokens, list of all possible tags) $\\rightarrow$ tags for each word\n",
    "\n",
    "Function that is outputted creates the base-features for each token (**use the OFFSET and the TOKEN itself as base-features**) enabling us to use `clf_base.predict()`\n",
    "- **Tests**: ```test_classifier_tagger.py:test_classifier()```\n"
   ]
  },
  {
   "cell_type": "code",
   "execution_count": 15,
   "metadata": {},
   "outputs": [
    {
     "name": "stdout",
     "output_type": "stream",
     "text": [
      ".\r\n",
      "----------------------------------------------------------------------\r\n",
      "Ran 1 test in 0.430s\r\n",
      "\r\n",
      "OK\r\n"
     ]
    }
   ],
   "source": [
    "! nosetests tests/test_classifier_tagger.py"
   ]
  },
  {
   "cell_type": "code",
   "execution_count": 12,
   "metadata": {},
   "outputs": [],
   "source": [
    "reload(tagger_base);\n",
    "reload(clf_base);\n",
    "from mynlplib.constants import OFFSET # OFFSET token is for each tag"
   ]
  },
  {
   "cell_type": "markdown",
   "metadata": {},
   "source": [
    "- Creating a tagger with weights that predict every token to be a NOUN. "
   ]
  },
  {
   "cell_type": "code",
   "execution_count": 13,
   "metadata": {},
   "outputs": [
    {
     "name": "stdout",
     "output_type": "stream",
     "text": [
      "0.1527613022274944\n"
     ]
    }
   ],
   "source": [
    "# TEST VERSION\n",
    "classifier_noun_tagger = tagger_base.make_classifier_tagger(most_common.get_noun_weights())\n",
    "confusion = tagger_base.eval_tagger(classifier_noun_tagger,'all-nouns.preds',all_tags=all_tags)\n",
    "print (scorer.accuracy(confusion))"
   ]
  },
  {
   "cell_type": "code",
   "execution_count": 14,
   "metadata": {},
   "outputs": [],
   "source": [
    "classifier_noun_tagger = tagger_base.make_classifier_tagger(most_common.get_noun_weights())"
   ]
  },
  {
   "cell_type": "code",
   "execution_count": 15,
   "metadata": {},
   "outputs": [
    {
     "name": "stdout",
     "output_type": "stream",
     "text": [
      "0.1527613022274944\n"
     ]
    }
   ],
   "source": [
    "confusion = tagger_base.eval_tagger(classifier_noun_tagger,'all-nouns.preds',all_tags=all_tags)\n",
    "print (scorer.accuracy(confusion))"
   ]
  },
  {
   "cell_type": "markdown",
   "metadata": {},
   "source": [
    "**Implemented:** `get_most_common_word_weights` in `most_common.py`.  \n",
    "Classifier tagger that tags each word with its most common tag in the training set\n",
    "\n",
    "- **Input**: training file\n",
    "\n",
    "- **Output**: defaultdict of weights\n",
    "\n",
    "Function returns a set weights such that each word should get the tag that is most frequently associated with it in the training data. If the word does not appear in the training data, the weights are set so that the tagger outputs the **most common tag** in the training data. \n",
    "\n",
    "- **Tests**: ```test_classifier.py:test_mcc_tagger_output(), test_mcc_tagger_accuracy()```"
   ]
  },
  {
   "cell_type": "code",
   "execution_count": 16,
   "metadata": {},
   "outputs": [
    {
     "name": "stdout",
     "output_type": "stream",
     "text": [
      "..\n",
      "----------------------------------------------------------------------\n",
      "Ran 2 tests in 0.667s\n",
      "\n",
      "OK\n"
     ]
    }
   ],
   "source": [
    "! nosetests tests/test_classifier.py"
   ]
  },
  {
   "cell_type": "code",
   "execution_count": 17,
   "metadata": {},
   "outputs": [],
   "source": [
    "reload(tagger_base);\n",
    "reload(clf_base);\n",
    "reload(most_common);\n",
    "theta_mc = most_common.get_most_common_word_weights(TRAIN_FILE)"
   ]
  },
  {
   "cell_type": "code",
   "execution_count": 18,
   "metadata": {},
   "outputs": [
    {
     "name": "stdout",
     "output_type": "stream",
     "text": [
      "['PRON', 'AUX', 'AUX', 'NOUN']\n",
      "['DET', 'ADJ', 'NOUN', 'DET', 'PROPN', 'PUNCT']\n"
     ]
    }
   ],
   "source": [
    "# TEST VERSION\n",
    "tagger_mc = tagger_base.make_classifier_tagger(theta_mc)\n",
    "tags_1 = tagger_mc(['They', 'can', 'can', 'fish'], all_tags)\n",
    "tags_2 = tagger_mc(['The', 'old', 'man', 'the', 'boat', '.'], all_tags)\n",
    "print(tags_1)\n",
    "print(tags_2)"
   ]
  },
  {
   "cell_type": "code",
   "execution_count": 17,
   "metadata": {},
   "outputs": [],
   "source": [
    "tagger_mc = tagger_base.make_classifier_tagger(theta_mc)"
   ]
  },
  {
   "cell_type": "code",
   "execution_count": 19,
   "metadata": {},
   "outputs": [
    {
     "name": "stdout",
     "output_type": "stream",
     "text": [
      "['PRON', 'AUX', 'AUX', 'NOUN']\n"
     ]
    }
   ],
   "source": [
    "tags = tagger_mc(['They','can','can','fish'],all_tags)\n",
    "print (tags)"
   ]
  },
  {
   "cell_type": "code",
   "execution_count": 20,
   "metadata": {},
   "outputs": [
    {
     "name": "stdout",
     "output_type": "stream",
     "text": [
      "['DET', 'ADJ', 'NOUN', 'DET', 'PROPN', 'PUNCT']\n"
     ]
    }
   ],
   "source": [
    "tags = tagger_mc(['The','old','man','the','boat','.'],all_tags)\n",
    "print (tags)"
   ]
  },
  {
   "cell_type": "markdown",
   "metadata": {},
   "source": [
    "- Now let's run your tagger on the dev data."
   ]
  },
  {
   "cell_type": "code",
   "execution_count": 21,
   "metadata": {},
   "outputs": [
    {
     "name": "stdout",
     "output_type": "stream",
     "text": [
      "0.8111242915513378\n"
     ]
    }
   ],
   "source": [
    "# TEST VERSION\n",
    "confusion = tagger_base.eval_tagger(tagger_mc,'most-common.preds',all_tags=all_tags)\n",
    "print (scorer.accuracy(confusion))"
   ]
  },
  {
   "cell_type": "code",
   "execution_count": 20,
   "metadata": {},
   "outputs": [
    {
     "name": "stdout",
     "output_type": "stream",
     "text": [
      "0.8120469223672071\n"
     ]
    }
   ],
   "source": [
    "confusion = tagger_base.eval_tagger(tagger_mc,'most-common.preds',all_tags=all_tags)\n",
    "print (scorer.accuracy(confusion))"
   ]
  },
  {
   "cell_type": "markdown",
   "metadata": {},
   "source": [
    "### Using Naive Bayes as a tagger"
   ]
  },
  {
   "cell_type": "code",
   "execution_count": 22,
   "metadata": {},
   "outputs": [
    {
     "name": "stdout",
     "output_type": "stream",
     "text": [
      "data/en-ud-train.conllu\n"
     ]
    }
   ],
   "source": [
    "print(TRAIN_FILE)"
   ]
  },
  {
   "cell_type": "code",
   "execution_count": 23,
   "metadata": {},
   "outputs": [],
   "source": [
    "# list of every single word in file\n",
    "token_level_docs=[]\n",
    "# list of every tag for every word in file\n",
    "token_level_tags=[]\n",
    "for words,tags in preproc.conll_seq_generator(TRAIN_FILE):\n",
    "    token_level_docs += [{word:1} for word in words]\n",
    "    token_level_tags +=tags"
   ]
  },
  {
   "cell_type": "code",
   "execution_count": 24,
   "metadata": {},
   "outputs": [
    {
     "name": "stdout",
     "output_type": "stream",
     "text": [
      "Counter({'and': 932, 'or': 127, 'but': 88, 'But': 44, 'And': 31, 'both': 18, '&': 6, 'yet': 5, 'either': 5, 'Or': 3, 'Both': 2, 'nor': 2, 'minus': 1, 'not': 1, 'vs.': 1, 'N': 1, 'plus': 1, 'Yet': 1})\n",
      "0\n"
     ]
    }
   ],
   "source": [
    "output = Counter()\n",
    "# output = defaultdict(int)\n",
    "# the indices of the words that \n",
    "indices = [idx for idx, _ in enumerate(token_level_tags) if token_level_tags[idx] == \"CONJ\"]\n",
    "valid_x = [list(token_level_docs[i].keys())[0] for i in indices]\n",
    "output = Counter(valid_x)\n",
    "print(output)\n",
    "print(output[\"hello\"])"
   ]
  },
  {
   "cell_type": "code",
   "execution_count": 65,
   "metadata": {},
   "outputs": [
    {
     "name": "stdout",
     "output_type": "stream",
     "text": [
      "Al\n"
     ]
    }
   ],
   "source": [
    "print(list(token_level_docs[0].keys())[0])"
   ]
  },
  {
   "cell_type": "code",
   "execution_count": 64,
   "metadata": {
    "scrolled": true
   },
   "outputs": [
    {
     "name": "stdout",
     "output_type": "stream",
     "text": [
      "True\n"
     ]
    }
   ],
   "source": [
    "cond = True\n",
    "for x in token_level_docs:\n",
    "    cond = cond and list(x.values())[0] == 1\n",
    "print(cond)"
   ]
  },
  {
   "cell_type": "code",
   "execution_count": 25,
   "metadata": {
    "scrolled": true
   },
   "outputs": [],
   "source": [
    "reload(naive_bayes);\n",
    "nb_weights = naive_bayes.get_nb_weights(TRAIN_FILE, .01)"
   ]
  },
  {
   "cell_type": "markdown",
   "metadata": {},
   "source": [
    "- This gives weights for each tag-word pair that represent $\\log P(word \\mid tag)$"
   ]
  },
  {
   "cell_type": "code",
   "execution_count": 26,
   "metadata": {},
   "outputs": [],
   "source": [
    "# obtaining vocab of words\n",
    "vocab = set([word for tag,word in nb_weights.keys() if word is not constants.OFFSET])"
   ]
  },
  {
   "cell_type": "code",
   "execution_count": 77,
   "metadata": {},
   "outputs": [
    {
     "name": "stdout",
     "output_type": "stream",
     "text": [
      "6912\n"
     ]
    }
   ],
   "source": [
    "print (len(vocab))"
   ]
  },
  {
   "cell_type": "code",
   "execution_count": 23,
   "metadata": {},
   "outputs": [
    {
     "name": "stdout",
     "output_type": "stream",
     "text": [
      "6912\n"
     ]
    }
   ],
   "source": [
    "print (len(vocab))"
   ]
  },
  {
   "cell_type": "code",
   "execution_count": 27,
   "metadata": {
    "scrolled": true
   },
   "outputs": [
    {
     "name": "stdout",
     "output_type": "stream",
     "text": [
      "0.9999999999999052\n",
      "1.000000000000076\n",
      "0.9999999999998712\n"
     ]
    }
   ],
   "source": [
    "print (sum(np.exp(nb_weights[('ADJ',word)]) for word in vocab))\n",
    "print (sum(np.exp(nb_weights[('NOUN',word)]) for word in vocab))\n",
    "print (sum(np.exp(nb_weights[('PUNCT',word)]) for word in vocab))"
   ]
  },
  {
   "cell_type": "code",
   "execution_count": 28,
   "metadata": {
    "scrolled": true
   },
   "outputs": [
    {
     "name": "stdout",
     "output_type": "stream",
     "text": [
      "0.9999999999999052\n",
      "1.000000000000076\n",
      "0.9999999999998712\n"
     ]
    }
   ],
   "source": [
    "# TEST VERSION\n",
    "print (sum(np.exp(nb_weights[('ADJ',word)]) for word in vocab))\n",
    "print (sum(np.exp(nb_weights[('NOUN',word)]) for word in vocab))\n",
    "print (sum(np.exp(nb_weights[('PUNCT',word)]) for word in vocab))"
   ]
  },
  {
   "cell_type": "markdown",
   "metadata": {},
   "source": [
    "- We have zero weights for OOV (out-of-vocabulary) terms"
   ]
  },
  {
   "cell_type": "code",
   "execution_count": 29,
   "metadata": {},
   "outputs": [
    {
     "name": "stdout",
     "output_type": "stream",
     "text": [
      "0.0\n"
     ]
    }
   ],
   "source": [
    "print (nb_weights[('ADJ','baaaaaaaaad')])"
   ]
  },
  {
   "cell_type": "code",
   "execution_count": 79,
   "metadata": {},
   "outputs": [
    {
     "name": "stdout",
     "output_type": "stream",
     "text": [
      "0.0\n"
     ]
    }
   ],
   "source": [
    "# TEST VERSION\n",
    "print (nb_weights[('ADJ','baaaaaaaaad')])"
   ]
  },
  {
   "cell_type": "code",
   "execution_count": 30,
   "metadata": {
    "scrolled": true
   },
   "outputs": [
    {
     "name": "stdout",
     "output_type": "stream",
     "text": [
      "-2.1314729713701412\n",
      "-3.0977985544826994\n",
      "-2.8092821056787987\n"
     ]
    }
   ],
   "source": [
    "print (nb_weights[('VERB',constants.OFFSET)])\n",
    "print (nb_weights[('ADV',constants.OFFSET)])\n",
    "print (nb_weights[('PRON',constants.OFFSET)])"
   ]
  },
  {
   "cell_type": "code",
   "execution_count": 80,
   "metadata": {},
   "outputs": [
    {
     "name": "stdout",
     "output_type": "stream",
     "text": [
      "-2.1314729713701412\n",
      "-3.0977985544826994\n",
      "-2.8092821056787987\n"
     ]
    }
   ],
   "source": [
    "# TEST VERSION\n",
    "print (nb_weights[('VERB',constants.OFFSET)])\n",
    "print (nb_weights[('ADV',constants.OFFSET)])\n",
    "print (nb_weights[('PRON',constants.OFFSET)])"
   ]
  },
  {
   "cell_type": "markdown",
   "metadata": {},
   "source": [
    "- Offsets should correspond to log-probabilities $\\log P(y)$ such that $\\sum_y P(y) = 1$."
   ]
  },
  {
   "cell_type": "code",
   "execution_count": 34,
   "metadata": {},
   "outputs": [
    {
     "data": {
      "text/plain": [
       "0.9999999999999998"
      ]
     },
     "execution_count": 34,
     "metadata": {},
     "output_type": "execute_result"
    }
   ],
   "source": [
    "sum(np.exp(nb_weights[(tag,constants.OFFSET)]) for tag in all_tags)"
   ]
  },
  {
   "cell_type": "markdown",
   "metadata": {},
   "source": [
    "- Now let us look at the accuracy of our naive_bayes tagger."
   ]
  },
  {
   "cell_type": "code",
   "execution_count": 35,
   "metadata": {},
   "outputs": [
    {
     "name": "stdout",
     "output_type": "stream",
     "text": [
      "0.8104652695400026\n"
     ]
    }
   ],
   "source": [
    "confusion = tagger_base.eval_tagger(tagger_base.make_classifier_tagger(nb_weights),'nb-simple.preds')\n",
    "dev_acc = scorer.accuracy(confusion)\n",
    "print (dev_acc)"
   ]
  },
  {
   "cell_type": "markdown",
   "metadata": {},
   "source": [
    "- Just as good as the heuristic tagger from above."
   ]
  },
  {
   "cell_type": "markdown",
   "metadata": {},
   "source": [
    "# 3. Viterbi Algorithm"
   ]
  },
  {
   "cell_type": "markdown",
   "metadata": {},
   "source": [
    "## Implementing Viterbi ##\n",
    "\n",
    "Here are some predefined weights"
   ]
  },
  {
   "cell_type": "code",
   "execution_count": 36,
   "metadata": {},
   "outputs": [],
   "source": [
    "START_TAG = constants.START_TAG\n",
    "END_TAG = constants.END_TAG\n",
    "UNK = constants.UNK\n",
    "\n",
    "nb_weights={('NOUN','they'):-1,\\\n",
    "            ('NOUN','can'):-3,\\\n",
    "            ('NOUN','fish'):-3,\\\n",
    "            ('VERB','they'):-11,\\\n",
    "            ('VERB','can'):-2,\\\n",
    "            ('VERB','fish'):-4,}\n",
    "hmm_trans_weights={('NOUN','NOUN'):-5,\\\n",
    "                   ('VERB','NOUN'):-2,\\\n",
    "                   (END_TAG,'NOUN'):-2,\\\n",
    "                   ('NOUN','VERB'):-1,\\\n",
    "                   ('VERB','VERB'):-3,\\\n",
    "                   (END_TAG,'VERB'):-3,\\\n",
    "                   ('NOUN',START_TAG):-1,\\\n",
    "                   ('VERB',START_TAG):-2}"
   ]
  },
  {
   "cell_type": "code",
   "execution_count": 41,
   "metadata": {},
   "outputs": [
    {
     "name": "stdout",
     "output_type": "stream",
     "text": [
      "tensor([[-inf,  -1., -11., -inf],\n",
      "        [-inf,  -3.,  -2., -inf],\n",
      "        [-inf,  -3.,  -4., -inf],\n",
      "        [-inf,   0.,   0., -inf]])\n"
     ]
    }
   ],
   "source": [
    "# def compute_weights_variables(nb_weights, hmm_trans_weights, vocab, word_to_ix, tag_to_ix):\n",
    "# they can fish\n",
    "# NOUN, VERB\n",
    "emission_wip = []\n",
    "for word in word_to_ix.keys():\n",
    "    word_weights = []\n",
    "    for tag in tag_to_ix.keys():\n",
    "        if tag == START_TAG or tag == END_TAG:\n",
    "            value = -np.inf\n",
    "        else:\n",
    "            value = nb_weights[(tag, word)] if (tag, word) in nb_weights else 0\n",
    "        word_weights.append(value)\n",
    "    emission_wip.append(word_weights)\n",
    "emission_matrix = torch.tensor(emission_wip)\n",
    "print(emission_matrix)"
   ]
  },
  {
   "cell_type": "code",
   "execution_count": 40,
   "metadata": {},
   "outputs": [
    {
     "name": "stdout",
     "output_type": "stream",
     "text": [
      "dict_keys(['--START--', 'NOUN', 'VERB', '--END--'])\n"
     ]
    }
   ],
   "source": [
    "trans_wip = []\n",
    "# cant transition to START_TAG\n",
    "# cant have a start tag of END_TAG\n",
    "for end_tag in tag_to_ix.keys():\n",
    "    trans_weights = []\n",
    "    for start_tag in tag_to_ix.keys():\n",
    "        if start_tag == END_TAG or end_tag == START_TAG or (start_tag == START_TAG and end_tag == END_TAG):\n",
    "            value = -np.inf\n",
    "        else:\n",
    "            key = (end_tag, start_tag)\n",
    "            value = hmm_trans_weights[key] if key in hmm_trans_weights else 0\n",
    "        trans_weights.append(value)\n",
    "    trans_wip.append(trans_weights)\n",
    "trans_matrix = torch.tensor(trans_wip)\n",
    "print(tag_to_ix.keys())"
   ]
  },
  {
   "cell_type": "markdown",
   "metadata": {},
   "source": [
    "**Implemented:** ```hmm.compute_weights_variables(...)``` function in `hmm.py`\n",
    "\n",
    "Function basically converts the weights to respective pytorch variables.\n",
    "\n",
    "- **Inputs** :\n",
    "    - `nb_weights` (emission weights): dictionary of weights\n",
    "    - `hmm_trans_weights` (transition weights): dictionary of weights\n",
    "    - `vocab`: list of all the words\n",
    "    - `word_to_ix`: a dictionary that maps each word in the vocab to a unique index. **Does not have the OFFSET token.**\n",
    "    - `tag_to_ix`: a dictionary that maps each tag (including the `START_TAG` and the `END_TAG`) to a unique index.  \n",
    "\n",
    "- **Outputs** : returns two torch Variables\n",
    "    - `emission_probs`: torch Variable of a matrix of size `Vocab x Tagset_size`: \n",
    "        such that for a specific weight say `(word1, tag1):value` would result in\n",
    "        `emission_probs[word_to_ix[word1]][tag_to_ix[tag1]]=value`, else a zero. Weights are set such that `START_TAG` and `END_TAG` cannot generate any word. **We also ignore the OFFSET weights that might be present in the nb_weights. We only consider the words in word_to_ix.**\n",
    "        \n",
    "    - `tag_transition_probs`: torch Variable of a matrix of size `Tagset_size x Tagset_size`: \n",
    "        such that for a specific feature say `(tag1, tag2):value` \n",
    "        where tag1 is my succeeding (next) tag, tag2 is my current tag. \n",
    "        This would result in `tag_transition_probs[tag_to_ix[tag1]][tag_to_ix[tag2]]=value`. \n",
    "        Weights are set such that there are no illegal transitions \n",
    "        (like from some tag to START_TAG -or- from END_TAG to some other tag)  \n",
    "\n",
    "- **Tests**: ```test_viterbi.py: test_compute_hmm_weights_variables()```\n",
    "\n",
    "**NOTE** We use `-np.inf` as weights for illegal transitions (log of a near zero probability)"
   ]
  },
  {
   "cell_type": "code",
   "execution_count": 42,
   "metadata": {},
   "outputs": [
    {
     "name": "stdout",
     "output_type": "stream",
     "text": [
      ".\r\n",
      "----------------------------------------------------------------------\r\n",
      "Ran 1 test in 0.002s\r\n",
      "\r\n",
      "OK\r\n"
     ]
    }
   ],
   "source": [
    "! nosetests tests/test_viterbi.py:test_compute_hmm_weights_variables"
   ]
  },
  {
   "cell_type": "markdown",
   "metadata": {},
   "source": [
    "- Below, observe that we are calculating `tag_to_ix, ix_to_tag, word_to_ix`. These are useful to access a particular emission score for a particular token and a tag. Look through the variables: tag_transition_probs and emission_probs below and it should be clear."
   ]
  },
  {
   "cell_type": "code",
   "execution_count": 39,
   "metadata": {},
   "outputs": [],
   "source": [
    "reload(hmm);\n",
    "word_to_ix={'they':0, 'can':1, 'fish':2, UNK:3}\n",
    "tag_to_ix = {START_TAG:0, 'NOUN':1, 'VERB':2, END_TAG:3}\n",
    "ix_to_tag = {v:k for k,v in tag_to_ix.items()}\n",
    "all_tags = [START_TAG, 'NOUN', 'VERB', END_TAG]\n",
    "words = ['they', 'can', 'fish']\n",
    "vocab = ['they','can','fish', UNK]\n",
    "# note that we are also including an UNK token: this will be helpful later"
   ]
  },
  {
   "cell_type": "code",
   "execution_count": 43,
   "metadata": {},
   "outputs": [],
   "source": [
    "emission_probs, tag_transition_probs = hmm.compute_weights_variables(nb_weights, hmm_trans_weights, vocab, \n",
    "                                                                     word_to_ix, tag_to_ix)"
   ]
  },
  {
   "cell_type": "code",
   "execution_count": 44,
   "metadata": {
    "scrolled": true
   },
   "outputs": [
    {
     "name": "stdout",
     "output_type": "stream",
     "text": [
      "tensor([[-inf, -inf, -inf, -inf],\n",
      "        [-1., -5., -1., -inf],\n",
      "        [-2., -2., -3., -inf],\n",
      "        [-inf, -2., -3., -inf]])\n"
     ]
    }
   ],
   "source": [
    "print (tag_transition_probs)\n",
    "# tag_transition_probs[0] corresponds to scores for START_TAG from START_TAG, NOUN, VERB, END_TAG\n",
    "# tag_transition_probs[1] corresponds to scores for NOUN from START_TAG, NOUN, VERB, END_TAG\n",
    "# tag_transition_probs[2] corresponds to scores for VERB from START_TAG, NOUN, VERB, END_TAG\n",
    "# tag_transition_probs[3] corresponds to scores for END_TAG from START_TAG, NOUN, VERB, END_TAG"
   ]
  },
  {
   "cell_type": "code",
   "execution_count": 33,
   "metadata": {},
   "outputs": [
    {
     "name": "stdout",
     "output_type": "stream",
     "text": [
      "tensor([[-inf,  -1., -11., -inf],\n",
      "        [-inf,  -3.,  -2., -inf],\n",
      "        [-inf,  -3.,  -4., -inf],\n",
      "        [-inf,   0.,   0., -inf]])\n"
     ]
    }
   ],
   "source": [
    "print (emission_probs)\n",
    "# emission_probs[0] corresponds to scores for the token 'they' for START_TAG, NOUN, VERB, END_TAG\n",
    "# emission_probs[1] corresponds to scores for the token 'can' for START_TAG, NOUN, VERB, END_TAG\n",
    "# emission_probs[2] corresponds to scores for the token 'fish' for START_TAG, NOUN, VERB, END_TAG\n",
    "# emission_probs[2] corresponds to scores for the token 'UNK' for START_TAG, NOUN, VERB, END_TAG"
   ]
  },
  {
   "cell_type": "markdown",
   "metadata": {},
   "source": [
    "- we will be using these emission scores as inputs for each token in the input in the following function: ```viterbi_step()```."
   ]
  },
  {
   "cell_type": "markdown",
   "metadata": {},
   "source": [
    "**Implemented:** `viterbi_step` in `mynlplib/viterbi.py`\n",
    "\n",
    "This method computes the best path score and corresponding back pointer for a particular token in the sentence for all possible tags, which will later be called from the main viterbi routine\n",
    "\n",
    "### Inputs\n",
    "- `all_tags`: list of all tags: includes both the `START_TAG` and the `END_TAG`\n",
    "- `tag_to_ix`: a dictionary that maps each tag (including the `START_TAG` and the `END_TAG`) to a unique index: this is useful to access the respective tag transition scores from the tag_transition_probs variable.\n",
    "- `cur_tag_scores`: pytorch Variable that contains the local emission score for each tag for the current token in the sentence.\n",
    "    - `cur_tag_scores` size is : `[ len(all_tags) ] `\n",
    "- `transition_scores`: pytorch Variable that contains the `tag_transition_scores`. \n",
    "    - `transition_scores` size is : `[ len(all_tags) x len(all_tags) ]` \n",
    "- `prev_scores`: pytorch Variable that contains the scores for each tag for the previous token in the sentence.\n",
    "    - `prev_scores` size is : `[ 1 x len(all_tags) ] `\n",
    "\n",
    "### Outputs\n",
    "- `viterbivars`: a pytorch Variable that contains the global scores for each tag for the current token in the sentence\n",
    "- `bptrs`: a list of idx that contains the best_previous_tag for each tag for the current token in the sentence\n",
    "\n",
    "### Tests\n",
    "- ```test_viterbi.py: test_viterbi_step_init()```  "
   ]
  },
  {
   "cell_type": "code",
   "execution_count": 45,
   "metadata": {},
   "outputs": [
    {
     "name": "stdout",
     "output_type": "stream",
     "text": [
      ".\r\n",
      "----------------------------------------------------------------------\r\n",
      "Ran 1 test in 0.008s\r\n",
      "\r\n",
      "OK\r\n"
     ]
    }
   ],
   "source": [
    "! nosetests tests/test_viterbi.py:test_viterbi_step_init"
   ]
  },
  {
   "cell_type": "markdown",
   "metadata": {},
   "source": [
    "- Consider the sentence: `'they can can fish'`\n",
    "- Let us observe the viterbi scores at each of the tokens 'they', 'can', 'can', 'fish'.\n",
    "- We will walk through this example and all along: these scores should match with the scores you obtained when you worked it out by hand.\n",
    "- **Please note the dimensions of the tensors below**"
   ]
  },
  {
   "cell_type": "code",
   "execution_count": 14,
   "metadata": {},
   "outputs": [],
   "source": [
    "def flip(todo):\n",
    "    med = list(todo)\n",
    "    med.sort()\n",
    "    return list(map(lambda x: (x[1], x[0]), med))"
   ]
  },
  {
   "cell_type": "code",
   "execution_count": 9,
   "metadata": {},
   "outputs": [
    {
     "name": "stdout",
     "output_type": "stream",
     "text": [
      "tensor([-inf,  -1., -11., -inf])\n"
     ]
    }
   ],
   "source": [
    "print(emission_probs[0])"
   ]
  },
  {
   "cell_type": "code",
   "execution_count": 47,
   "metadata": {},
   "outputs": [
    {
     "name": "stdout",
     "output_type": "stream",
     "text": [
      "tensor([0., -inf, -inf, -inf])\n"
     ]
    }
   ],
   "source": [
    "reload(viterbi);\n",
    "initial_vec = np.full((1, len(all_tags)),-np.inf)\n",
    "initial_vec[tag_to_ix[START_TAG]][0] = 0 # setting all the score to START_TAG\n",
    "prev_scores = viterbi.get_torch_variable(initial_vec)\n",
    "# these are the previous scores for each_tag: START_TAG, NOUN, VERB, END_TAG\n",
    "print (prev_scores[0])"
   ]
  },
  {
   "cell_type": "markdown",
   "metadata": {},
   "source": [
    "- The block above says that the only possible previous tag at $m=1$ is `START_TAG`\n",
    "- Now let us look at the tag scores for the first token 'they'"
   ]
  },
  {
   "cell_type": "code",
   "execution_count": 11,
   "metadata": {},
   "outputs": [
    {
     "name": "stdout",
     "output_type": "stream",
     "text": [
      "['--START--', 'NOUN', 'VERB', '--END--']\n"
     ]
    }
   ],
   "source": [
    "# make sure both START_TAG and END_TAG is included in all_tags\n",
    "print (all_tags)"
   ]
  },
  {
   "cell_type": "markdown",
   "metadata": {},
   "source": [
    "- Carefully observe all the inputs to the `viterbi_step(..)` function here.\n",
    "    - `all_tags`: is the list of all possible tags here\n",
    "    - `tag_to_ix`: a mapping from tags to unique ids: this is useful to access the respective tag transition scores from the `tag_transition_probs` variable.\n",
    "    - `cur_tag_scores`: observe that from previous section: `emission_probs` indicates the emission scores for each tag for each word they: since we will be tagging the word 'they' right now in our example: we will be using ```emission_probs[0]```: note that '0' is the id for our word 'they'.Thus, we send in `emission_probs[0]` as our cur_tag_scores\n",
    "    - `tag_transition_probs`: tag transition probabilities\n",
    "    - `prev_scores`: prev_scores obtained: we have initially calculated these scores above such that the `START_TAG` has all the score."
   ]
  },
  {
   "cell_type": "code",
   "execution_count": 12,
   "metadata": {},
   "outputs": [],
   "source": [
    "cur_tag_scores = emission_probs[0]"
   ]
  },
  {
   "cell_type": "code",
   "execution_count": 40,
   "metadata": {},
   "outputs": [],
   "source": [
    "# for every cell in our current layer\n",
    "prev_l_scores = prev_scores[0]\n",
    "viterbi_scores = []\n",
    "back = []\n",
    "for end_tag, end_tag_idx in tag_to_ix.items():\n",
    "    possibil = dict()\n",
    "    # for every cell in previous layer\n",
    "    for start_tag, start_tag_idx in tag_to_ix.items():\n",
    "        emiss_score = cur_tag_scores[end_tag_idx]\n",
    "        prev_layer_score = prev_l_scores[start_tag_idx]\n",
    "        trans_score = tag_transition_probs[end_tag_idx][start_tag_idx]\n",
    "        possibil[start_tag] = prev_layer_score + trans_score + emiss_score\n",
    "#         print(\"start tag: \" + start_tag)\n",
    "#         print(\"end tag: \" + end_tag)\n",
    "#         print(\"prev-score: \" + str(prev_layer_score))\n",
    "#         print(\"trans-score: \" + str(trans_score))\n",
    "#         print(\"emiss-score: \" + str(emiss_score))\n",
    "#         print(\"value: \" + str(possibil[start_tag]))\n",
    "    max_score = max(flip(possibil.items()))\n",
    "    if (end_tag == START_TAG or end_tag == END_TAG):\n",
    "        back.append(tag_to_ix[START_TAG])\n",
    "    else:\n",
    "        back.append(tag_to_ix[max_score[1]])\n",
    "#     print(max_score)\n",
    "    viterbi_scores.append(max_score[0])\n",
    "#     viterbi_scores.append(max_score)"
   ]
  },
  {
   "cell_type": "code",
   "execution_count": 41,
   "metadata": {},
   "outputs": [
    {
     "name": "stdout",
     "output_type": "stream",
     "text": [
      "[tensor(-inf), tensor(-2.), tensor(-13.), tensor(-inf)]\n",
      "[0, 0, 0, 0]\n"
     ]
    }
   ],
   "source": [
    "print(viterbi_scores)\n",
    "print(back)"
   ]
  },
  {
   "cell_type": "code",
   "execution_count": 48,
   "metadata": {},
   "outputs": [],
   "source": [
    "reload(viterbi);\n",
    "viterbivars, bptrs = viterbi.viterbi_step(all_tags, tag_to_ix, \n",
    "                                          emission_probs[0], \n",
    "                                          tag_transition_probs,\n",
    "                                          prev_scores)"
   ]
  },
  {
   "cell_type": "markdown",
   "metadata": {},
   "source": [
    "- The following are the scores obtained for each tag for the word token 'they' and the backpointer refers to that particular previous tag which resulted in that score."
   ]
  },
  {
   "cell_type": "code",
   "execution_count": 57,
   "metadata": {},
   "outputs": [
    {
     "name": "stdout",
     "output_type": "stream",
     "text": [
      "[0, 2, 2, 0]\n"
     ]
    }
   ],
   "source": [
    "print(bptrs)"
   ]
  },
  {
   "cell_type": "code",
   "execution_count": 49,
   "metadata": {},
   "outputs": [
    {
     "name": "stdout",
     "output_type": "stream",
     "text": [
      "tag:  --START--  score:  -inf  back-pointer-tag:  --START--\n",
      "tag:  NOUN  score:  -2.0  back-pointer-tag:  --START--\n",
      "tag:  VERB  score:  -13.0  back-pointer-tag:  --START--\n",
      "tag:  --END--  score:  -inf  back-pointer-tag:  --START--\n"
     ]
    }
   ],
   "source": [
    "# TEST VERSION\n",
    "scores = viterbivars\n",
    "for k,v in tag_to_ix.items():\n",
    "    print ('tag: ',k, ' score: ',scores[v].item(), ' back-pointer-tag: ', \n",
    "           ix_to_tag[bptrs[v]])"
   ]
  },
  {
   "cell_type": "code",
   "execution_count": 37,
   "metadata": {},
   "outputs": [
    {
     "name": "stdout",
     "output_type": "stream",
     "text": [
      "tag:  --START--  score:  -inf  back-pointer-tag:  --START--\n",
      "tag:  NOUN  score:  -2.0  back-pointer-tag:  --START--\n",
      "tag:  VERB  score:  -13.0  back-pointer-tag:  --START--\n",
      "tag:  --END--  score:  -inf  back-pointer-tag:  --START--\n"
     ]
    }
   ],
   "source": [
    "scores = viterbivars\n",
    "for k,v in tag_to_ix.items():\n",
    "    print ('tag: ',k, ' score: ',scores[v].item(), ' back-pointer-tag: ', \n",
    "           ix_to_tag[bptrs[v]])"
   ]
  },
  {
   "cell_type": "markdown",
   "metadata": {},
   "source": [
    "- `NOUN` has the highest score for the current tag, and its backpointer is to `START_TAG`\n",
    "- Now, let us look at the scores for the tags for the second token 'can'. Send in `emission_probs[1]` as our `current_tag_scores`, and update `prev_scores` to be the scores obtained for $m=1$."
   ]
  },
  {
   "cell_type": "code",
   "execution_count": 16,
   "metadata": {},
   "outputs": [
    {
     "name": "stdout",
     "output_type": "stream",
     "text": [
      "tensor([[-inf,  -2., -13., -inf]])\n"
     ]
    }
   ],
   "source": [
    "print(prev_scores)"
   ]
  },
  {
   "cell_type": "code",
   "execution_count": 15,
   "metadata": {
    "scrolled": true
   },
   "outputs": [],
   "source": [
    "prev_scores = viterbi.get_torch_variable([-np.inf, -2, -13, -np.inf])\n",
    "viterbivars, bptrs = viterbi.viterbi_step(all_tags, tag_to_ix,\n",
    "                                          emission_probs[1],\n",
    "                                          tag_transition_probs,\n",
    "                                          prev_scores)"
   ]
  },
  {
   "cell_type": "markdown",
   "metadata": {},
   "source": [
    "- The following are the scores obtained for each tag for the word token 'can' and its respective back_pointer tag."
   ]
  },
  {
   "cell_type": "code",
   "execution_count": 47,
   "metadata": {},
   "outputs": [
    {
     "name": "stdout",
     "output_type": "stream",
     "text": [
      "tag:  --START--  score:  -inf  back-pointer-tag:  --START--\n",
      "tag:  NOUN  score:  -10.0  back-pointer-tag:  NOUN\n",
      "tag:  VERB  score:  -6.0  back-pointer-tag:  NOUN\n",
      "tag:  --END--  score:  -inf  back-pointer-tag:  --START--\n"
     ]
    }
   ],
   "source": [
    "# TEST VERSION\n",
    "scores = viterbivars\n",
    "for k,v in tag_to_ix.items():\n",
    "    print ('tag: ',k, ' score: ',scores[v].item(), ' back-pointer-tag: ',\n",
    "           ix_to_tag[bptrs[(all_tags).index(k)]])"
   ]
  },
  {
   "cell_type": "code",
   "execution_count": 39,
   "metadata": {},
   "outputs": [
    {
     "name": "stdout",
     "output_type": "stream",
     "text": [
      "tag:  --START--  score:  -inf  back-pointer-tag:  --START--\n",
      "tag:  NOUN  score:  -10.0  back-pointer-tag:  NOUN\n",
      "tag:  VERB  score:  -6.0  back-pointer-tag:  NOUN\n",
      "tag:  --END--  score:  -inf  back-pointer-tag:  --START--\n"
     ]
    }
   ],
   "source": [
    "scores = viterbivars\n",
    "for k,v in tag_to_ix.items():\n",
    "    print ('tag: ',k, ' score: ',scores[v].item(), ' back-pointer-tag: ',\n",
    "           ix_to_tag[bptrs[(all_tags).index(k)]])"
   ]
  },
  {
   "cell_type": "markdown",
   "metadata": {},
   "source": [
    "- Now, Below, let us look at the scores for the tags for the third token 'can'. So, now we send in `emission_probs[2]` as our `current_tag_scores` and we update `prev_scores` to be the scores obtained for the previous token 'can'."
   ]
  },
  {
   "cell_type": "code",
   "execution_count": 53,
   "metadata": {},
   "outputs": [],
   "source": [
    "prev_scores = viterbi.get_torch_variable([-np.inf, -10, -6, -np.inf]) \n",
    "viterbivars, bptrs = viterbi.viterbi_step(all_tags, tag_to_ix,\n",
    "                                          emission_probs[2],\n",
    "                                          tag_transition_probs,\n",
    "                                          prev_scores)"
   ]
  },
  {
   "cell_type": "code",
   "execution_count": 54,
   "metadata": {},
   "outputs": [
    {
     "name": "stdout",
     "output_type": "stream",
     "text": [
      "tag:  --START--  score:  -inf  back-pointer-tag:  --START--\n",
      "tag:  NOUN  score:  -10.0  back-pointer-tag:  VERB\n",
      "tag:  VERB  score:  -13.0  back-pointer-tag:  VERB\n",
      "tag:  --END--  score:  -inf  back-pointer-tag:  --START--\n"
     ]
    }
   ],
   "source": [
    "# TEST VERSION\n",
    "scores = viterbivars\n",
    "for k,v in tag_to_ix.items():\n",
    "    print ('tag: ',k, ' score: ',scores[v].item(), ' back-pointer-tag: ',\n",
    "           ix_to_tag[bptrs[(all_tags).index(k)]])"
   ]
  },
  {
   "cell_type": "code",
   "execution_count": 41,
   "metadata": {},
   "outputs": [
    {
     "name": "stdout",
     "output_type": "stream",
     "text": [
      "tag:  --START--  score:  -inf  back-pointer-tag:  --START--\n",
      "tag:  NOUN  score:  -10.0  back-pointer-tag:  VERB\n",
      "tag:  VERB  score:  -11.0  back-pointer-tag:  VERB\n",
      "tag:  --END--  score:  -inf  back-pointer-tag:  --START--\n"
     ]
    }
   ],
   "source": [
    "scores = viterbivars\n",
    "for k,v in tag_to_ix.items():\n",
    "    print ('tag: ',k, ' score: ',scores[v].item(), ' back-pointer-tag: ',\n",
    "           ix_to_tag[bptrs[(all_tags).index(k)]])"
   ]
  },
  {
   "cell_type": "markdown",
   "metadata": {},
   "source": [
    " - Now, let us look at the scores for the tags for the last token 'fish', So, now we send in `emission_probs[3]` as our `current_tag_scores` and we update `prev_scores` to be the scores obtained above for the previous token 'can'"
   ]
  },
  {
   "cell_type": "code",
   "execution_count": 42,
   "metadata": {},
   "outputs": [],
   "source": [
    "prev_scores = viterbi.get_torch_variable([-np.inf, -10, -11, -np.inf])\n",
    "viterbivars, bptrs = viterbi.viterbi_step(all_tags, tag_to_ix,\n",
    "                                           emission_probs[3],\n",
    "                                           tag_transition_probs,\n",
    "                                           prev_scores)"
   ]
  },
  {
   "cell_type": "code",
   "execution_count": 43,
   "metadata": {},
   "outputs": [
    {
     "name": "stdout",
     "output_type": "stream",
     "text": [
      "tag:  --START--  score:  -inf  back-pointer-tag:  --START--\n",
      "tag:  NOUN  score:  -15.0  back-pointer-tag:  VERB\n",
      "tag:  VERB  score:  -16.0  back-pointer-tag:  NOUN\n",
      "tag:  --END--  score:  -inf  back-pointer-tag:  --START--\n"
     ]
    }
   ],
   "source": [
    "scores = viterbivars\n",
    "for k,v in tag_to_ix.items():\n",
    "    print ('tag: ',k, ' score: ',scores[v].item(), ' back-pointer-tag: ',\n",
    "           ix_to_tag[bptrs[(all_tags).index(k)]])"
   ]
  },
  {
   "cell_type": "markdown",
   "metadata": {},
   "source": [
    "**Implemented:** `build_trellis` in `viterbi.py`\n",
    "\n",
    "Function computes the `best_path` and the `path_score`. This function takes in the `emission_scores` for each particular token in the sentence, the `tag_transitions_weight` and returns the best set of tags for that particular sequence. Uses `viterbi_step`.\n",
    "\n",
    "- **Inputs**:\n",
    "    - `all_tags`: a list of all tags: includes START_TAG and END_TAG\n",
    "    - `tag_to_ix`: a dictionary that maps each tag to a unique id.\n",
    "    - `cur_tag_scores`: a list of pytorch Variables where each contains the local emission score for each tag for that particular token in the sentence, len(cur_tag_scores) will be equal to len(words): each pytorch variables size would be equal to len(all_tags) indicating the score for each_tag.\n",
    "    - `transition_scores`: pytorch Variable (a matrix) that contains the tag_transition_scores\n",
    "\n",
    "- **Outputs**:\n",
    "    - `path_score`: the score for the best_path\n",
    "    - `best_path`: the actual best_path, which is the list of tags for each token: exclude the `START_TAG` and `END_TAG` here.   \n",
    "    \n",
    "- **Tests**: ```test_viterbi.py: test_trellis_score(), test_build_trellis()```\n",
    "\n",
    "**Note that for the input cur_tag_scores: we are sending in a list of pytorch variables: one for each token in the sentence to be tagged**"
   ]
  },
  {
   "cell_type": "code",
   "execution_count": 88,
   "metadata": {},
   "outputs": [
    {
     "name": "stdout",
     "output_type": "stream",
     "text": [
      "....\n",
      "----------------------------------------------------------------------\n",
      "Ran 4 tests in 0.009s\n",
      "\n",
      "OK\n"
     ]
    }
   ],
   "source": [
    "! nosetests tests/test_viterbi.py"
   ]
  },
  {
   "cell_type": "code",
   "execution_count": 103,
   "metadata": {},
   "outputs": [],
   "source": [
    "def to_scalar(var):\n",
    "    # returns a python float\n",
    "    return var.view(-1).data.tolist()[0]\n",
    "\n",
    "def argmax(vec):\n",
    "    # return the argmax as a python int\n",
    "    _, idx = torch.max(vec, 1)\n",
    "    return to_scalar(idx)\n",
    "\n",
    "def test_viterbi(all_tags, tag_to_ix, cur_tag_scores, transition_scores):\n",
    "    M = len(cur_tag_scores)\n",
    "    ix_to_tag = { v:k for k,v in tag_to_ix.items() }\n",
    "    \n",
    "    # setting all the initial score to START_TAG\n",
    "    # remember that END_TAG is in all_tags\n",
    "    initial_vec = np.full((1,len(all_tags)),-np.inf)\n",
    "    initial_vec[0][tag_to_ix[START_TAG]] = 0\n",
    "    prev_scores = torch.autograd.Variable(torch.from_numpy(initial_vec.astype(np.float32))).view(1,-1)\n",
    "    whole_bptrs = []\n",
    "    for m in range(M):\n",
    "        viterbi_vars, backptrs = viterbi.viterbi_step(all_tags, tag_to_ix, cur_tag_scores[m], transition_scores, prev_scores)\n",
    "        whole_bptrs.append(backptrs)\n",
    "        prev_scores = viterbi.get_torch_variable(viterbi_vars)\n",
    "    path = []\n",
    "    actual_tags = [tag for tag in all_tags if not (tag == START_TAG or tag == END_TAG)]\n",
    "    end_tag_choices = []\n",
    "    for k in actual_tags:\n",
    "        trans_val = transition_scores[tag_to_ix[END_TAG]][tag_to_ix[k]]\n",
    "        prev_val = prev_scores[0][tag_to_ix[k]]\n",
    "        end_tag_choices.append((trans_val + prev_val, k))\n",
    "    final_score, final_tag = list(max(end_tag_choices))\n",
    "    \n",
    "    curr_tag = tag_to_ix[final_tag]\n",
    "    path.append(ix_to_tag[curr_tag])\n",
    "    for i in range(M - 1):\n",
    "        curr_tag = whole_bptrs[m - i][curr_tag]\n",
    "        path.append(ix_to_tag[curr_tag])\n",
    "    path.reverse()\n",
    "    return final_score, path"
   ]
  },
  {
   "cell_type": "code",
   "execution_count": 84,
   "metadata": {},
   "outputs": [
    {
     "name": "stdout",
     "output_type": "stream",
     "text": [
      "[2, 1]\n"
     ]
    }
   ],
   "source": [
    "print(list(range(3 - 1, 0, -1)))"
   ]
  },
  {
   "cell_type": "code",
   "execution_count": 15,
   "metadata": {},
   "outputs": [
    {
     "name": "stdout",
     "output_type": "stream",
     "text": [
      "['ADJ', 'ADP', 'ADV', 'AUX', 'CONJ', 'DET', 'INTJ', 'NOUN', 'NUM', 'PART', 'PRON', 'PROPN', 'PUNCT', 'SCONJ', 'SYM', 'VERB', 'X']\n"
     ]
    }
   ],
   "source": [
    "print([tag for tag in all_tags if not (tag == START_TAG or tag == END_TAG)])"
   ]
  },
  {
   "cell_type": "code",
   "execution_count": 102,
   "metadata": {},
   "outputs": [
    {
     "name": "stdout",
     "output_type": "stream",
     "text": [
      "['NOUN', 'VERB', 'VERB', 'NOUN']\n",
      "[[0, 0, 0, 0], [0, 1, 1, 0], [0, 2, 2, 0], [0, 2, 1, 0]]\n",
      "tensor(-17.)\n",
      "NOUN\n"
     ]
    }
   ],
   "source": [
    "test_viterbi(all_tags, tag_to_ix, cur_tag_scores, tag_transition_probs)"
   ]
  },
  {
   "cell_type": "code",
   "execution_count": 16,
   "metadata": {},
   "outputs": [
    {
     "name": "stdout",
     "output_type": "stream",
     "text": [
      "['--END--', '--START--', 'ADJ', 'ADP', 'ADV', 'AUX', 'CONJ', 'DET', 'INTJ', 'NOUN', 'NUM', 'PART', 'PRON', 'PROPN', 'PUNCT', 'SCONJ', 'SYM', 'VERB', 'X']\n"
     ]
    }
   ],
   "source": [
    "# make sure START_TAG and END_TAG are in all_tags\n",
    "print (all_tags)"
   ]
  },
  {
   "cell_type": "markdown",
   "metadata": {},
   "source": [
    "- consider the same sentence as above: 'they can can fish'"
   ]
  },
  {
   "cell_type": "code",
   "execution_count": 45,
   "metadata": {},
   "outputs": [
    {
     "name": "stdout",
     "output_type": "stream",
     "text": [
      "['they', 'can', 'can', 'fish']\n",
      "{'they': 0, 'can': 1, 'fish': 2, '<UNK>': 3}\n"
     ]
    }
   ],
   "source": [
    "words = 'they can can fish'.split()\n",
    "print (words)\n",
    "print (word_to_ix)"
   ]
  },
  {
   "cell_type": "markdown",
   "metadata": {},
   "source": [
    "- Below, we create `cur_tag_scores` using the `emission_probs` for each word in the sentence `'they can can fish'`"
   ]
  },
  {
   "cell_type": "code",
   "execution_count": 104,
   "metadata": {},
   "outputs": [],
   "source": [
    "# preparing cur_tag_scores for the above sentence 'they can can fish'\n",
    "cur_tag_scores = [emission_probs[0],emission_probs[1],emission_probs[1],emission_probs[2]]"
   ]
  },
  {
   "cell_type": "markdown",
   "metadata": {},
   "source": [
    "- Observe the inputs we are sending in for the example: 'they can can fish'\n",
    "    - `all_tags`: list of all tags including the `START_TAG` and `END_TAG`\n",
    "    - `tag_to_ix`: a mapping from tags to their unique ids\n",
    "    - `cur_tag_scores`: a list of pytorch variables: where each one is the score for each tag for a particular token. We send in these scores for each token in the sentence.\n",
    "    - `tag_transition_probs`: tag transition probabilities"
   ]
  },
  {
   "cell_type": "code",
   "execution_count": 106,
   "metadata": {},
   "outputs": [],
   "source": [
    "reload(viterbi);"
   ]
  },
  {
   "cell_type": "code",
   "execution_count": 107,
   "metadata": {},
   "outputs": [],
   "source": [
    "path_score, best_path = viterbi.build_trellis(all_tags, \n",
    "                                                  tag_to_ix, \n",
    "                                                  cur_tag_scores, \n",
    "                                                  tag_transition_probs)"
   ]
  },
  {
   "cell_type": "code",
   "execution_count": 108,
   "metadata": {},
   "outputs": [
    {
     "name": "stdout",
     "output_type": "stream",
     "text": [
      "['NOUN', 'VERB', 'VERB', 'NOUN']\n",
      "-17.0\n"
     ]
    }
   ],
   "source": [
    "# test vasd\n",
    "print (best_path)\n",
    "print (path_score.item())"
   ]
  },
  {
   "cell_type": "code",
   "execution_count": 49,
   "metadata": {},
   "outputs": [
    {
     "name": "stdout",
     "output_type": "stream",
     "text": [
      "['NOUN', 'VERB', 'VERB', 'NOUN']\n",
      "-17.0\n"
     ]
    }
   ],
   "source": [
    "print (best_path)\n",
    "print (path_score.item())"
   ]
  },
  {
   "cell_type": "code",
   "execution_count": 109,
   "metadata": {},
   "outputs": [],
   "source": [
    "sentence = ['they','can','can','can','can','fish']\n",
    "cur_tag_scores = [emission_probs[word_to_ix[w]] for w in sentence]\n",
    "\n",
    "path_score, best_path = viterbi.build_trellis(all_tags, \n",
    "                                                  tag_to_ix, \n",
    "                                                  cur_tag_scores, \n",
    "                                                  tag_transition_probs)"
   ]
  },
  {
   "cell_type": "code",
   "execution_count": 110,
   "metadata": {},
   "outputs": [
    {
     "name": "stdout",
     "output_type": "stream",
     "text": [
      "['NOUN', 'VERB', 'NOUN', 'VERB', 'VERB', 'NOUN'] -25.0\n"
     ]
    }
   ],
   "source": [
    "print (best_path, path_score.item())"
   ]
  },
  {
   "cell_type": "markdown",
   "metadata": {},
   "source": [
    "# 4. Hidden Markov Model: Estimation\n",
    "\n",
    "Implementing the estimation for a hidden Markov model.\n",
    "\n",
    "**Implemented:** `most_common.get_tag_trans_counts()`. Function gets the tag transition counts from the each tag to all possible tags. We also need to add the transitions from the `START_TAG` and the transitions from the `END_TAG`.\n",
    "\n",
    "- **Inputs**: `trainfile`, name of file containing training data\n",
    "- **Outputs**: a dictionary where keys are current tags and values are counters of succeeding tags.\n",
    "- **Tests**: ```test_hmm_trans_counts.py: test_tag_trans_counts()```  \n"
   ]
  },
  {
   "cell_type": "code",
   "execution_count": 89,
   "metadata": {},
   "outputs": [
    {
     "name": "stdout",
     "output_type": "stream",
     "text": [
      ".\n",
      "----------------------------------------------------------------------\n",
      "Ran 1 test in 0.186s\n",
      "\n",
      "OK\n"
     ]
    }
   ],
   "source": [
    "! nosetests tests/test_hmm_trans_counts.py"
   ]
  },
  {
   "cell_type": "code",
   "execution_count": 51,
   "metadata": {},
   "outputs": [],
   "source": [
    "reload(most_common);\n",
    "tag_trans_counts = most_common.get_tag_trans_counts(TRAIN_FILE)"
   ]
  },
  {
   "cell_type": "markdown",
   "metadata": {},
   "source": [
    "This function returns a dict of counters, where the keys are tags.\n",
    "\n",
    "Each counter is the frequency of tags following a given tag, e.g.:"
   ]
  },
  {
   "cell_type": "code",
   "execution_count": 52,
   "metadata": {},
   "outputs": [
    {
     "name": "stdout",
     "output_type": "stream",
     "text": [
      "{'--START--': 2000, 'PROPN': 3998, 'PUNCT': 4676, 'ADJ': 2714, 'NOUN': 6583, 'VERB': 4723, 'DET': 3505, 'ADP': 3977, 'AUX': 1478, 'PRON': 2398, 'PART': 1031, 'SCONJ': 803, 'NUM': 640, 'ADV': 1797, 'CONJ': 1269, 'X': 99, 'INTJ': 56, 'SYM': 55}\n"
     ]
    }
   ],
   "source": [
    "# tag sums are the number of tag transitions per tag\n",
    "tag_sums = {key:sum(value.values()) for (key,value) in tag_trans_counts.items()}\n",
    "total_tag_trans = sum(list(map(lambda x: sum(x.values()), tag_trans_counts.values())))\n",
    "print(tag_sums)"
   ]
  },
  {
   "cell_type": "markdown",
   "metadata": {},
   "source": [
    "Estimate transition log-probabilities for an HMM\n",
    "\n",
    "**Implemented:** `compute_transition_weights` in `hmm.py`\n",
    "\n",
    "Function returns a dictionary of weights such that ```weights[(tag2,tag1)]``` = indicates the weights for transitions from `tag1` $\\rightarrow$ `tag2`. These weights will be used later for the Viterbi Tagger.\n",
    "\n",
    "### Inputs\n",
    "- Transition counts (generated from `get_tag_trans_counts`)\n",
    "- Smoothing\n",
    "\n",
    "### Outputs\n",
    "- Defaultdict with weights for transition features, in the form $[(y_m,y_{m-1})]$\n",
    "\n",
    "### Tests\n",
    "```test_hmm_trans.py: test_hmm_trans_weights_sum_to_one(), test_hmm_trans_weights_exact_vals() ```  "
   ]
  },
  {
   "cell_type": "code",
   "execution_count": 53,
   "metadata": {},
   "outputs": [
    {
     "name": "stdout",
     "output_type": "stream",
     "text": [
      "..\r\n",
      "----------------------------------------------------------------------\r\n",
      "Ran 2 tests in 0.181s\r\n",
      "\r\n",
      "OK\r\n"
     ]
    }
   ],
   "source": [
    "! nosetests tests/test_hmm_trans.py"
   ]
  },
  {
   "cell_type": "code",
   "execution_count": 54,
   "metadata": {},
   "outputs": [],
   "source": [
    "reload(hmm);"
   ]
  },
  {
   "cell_type": "code",
   "execution_count": 168,
   "metadata": {
    "scrolled": false
   },
   "outputs": [
    {
     "name": "stdout",
     "output_type": "stream",
     "text": [
      "-2.9187709731609703\n"
     ]
    }
   ],
   "source": [
    "val = (tag_trans_counts[START_TAG]['NOUN'] + 0.001)/ (tag_sums[START_TAG] + ((len(all_tags) + 1) * 0.001))\n",
    "print(math.log(val))"
   ]
  },
  {
   "cell_type": "code",
   "execution_count": 55,
   "metadata": {},
   "outputs": [],
   "source": [
    "hmm_trans_weights = hmm.compute_transition_weights(tag_trans_counts,.001)"
   ]
  },
  {
   "cell_type": "code",
   "execution_count": 56,
   "metadata": {},
   "outputs": [
    {
     "name": "stdout",
     "output_type": "stream",
     "text": [
      "108 -2.918771473156345\n",
      "64 -3.442013251259355\n",
      "65 -3.9875485658887073\n",
      "0 -15.069706499263525\n",
      "1753 -0.6928667649096594\n",
      "0 -inf\n",
      "-inf\n"
     ]
    }
   ],
   "source": [
    "print (tag_trans_counts[START_TAG]['NOUN'], hmm_trans_weights[('NOUN',START_TAG)])\n",
    "print (tag_trans_counts[START_TAG]['VERB'], hmm_trans_weights[('VERB',START_TAG)])\n",
    "print (tag_trans_counts['DET']['VERB'], hmm_trans_weights[('VERB','DET')])\n",
    "print (tag_trans_counts['DET']['INTJ'], hmm_trans_weights[('INTJ','DET')])\n",
    "print (tag_trans_counts['DET']['NOUN'], hmm_trans_weights[('NOUN','DET')])\n",
    "print (tag_trans_counts['VERB'][START_TAG], hmm_trans_weights[(START_TAG,'VERB')])\n",
    "#print (tag_trans_counts[END_TAG]['VERB']) # will throw key error\n",
    "print (hmm_trans_weights[('VERB',END_TAG)])"
   ]
  },
  {
   "cell_type": "markdown",
   "metadata": {},
   "source": [
    "These log-probabilities should normalize to when summing over $y_m$"
   ]
  },
  {
   "cell_type": "code",
   "execution_count": 57,
   "metadata": {
    "scrolled": true
   },
   "outputs": [
    {
     "name": "stdout",
     "output_type": "stream",
     "text": [
      "0.9999998480940128\n",
      "0.9999818244606409\n",
      "0.9999996315427417\n"
     ]
    }
   ],
   "source": [
    "# calculating all tags here, we also add END_TAG here.\n",
    "all_tags = sorted(list(tag_trans_counts.keys()) + [END_TAG])\n",
    "print (sum(np.exp(hmm_trans_weights[(tag,'NOUN')]) for tag in all_tags))\n",
    "print (sum(np.exp(hmm_trans_weights[(tag,'SYM')]) for tag in all_tags))\n",
    "print (sum(np.exp(hmm_trans_weights[(tag,'ADJ')]) for tag in all_tags))"
   ]
  },
  {
   "cell_type": "code",
   "execution_count": 197,
   "metadata": {},
   "outputs": [
    {
     "name": "stdout",
     "output_type": "stream",
     "text": [
      "0.9999998480940128\n",
      "0.9999818244606409\n",
      "0.9999996315427417\n"
     ]
    }
   ],
   "source": [
    "# calculating all tags here, we also add END_TAG here.\n",
    "all_tags = sorted(list(tag_trans_counts.keys()) + [END_TAG])\n",
    "print (sum(np.exp(hmm_trans_weights[(tag,'NOUN')]) for tag in all_tags))\n",
    "print (sum(np.exp(hmm_trans_weights[(tag,'SYM')]) for tag in all_tags))\n",
    "print (sum(np.exp(hmm_trans_weights[(tag,'ADJ')]) for tag in all_tags))"
   ]
  },
  {
   "cell_type": "markdown",
   "metadata": {},
   "source": [
    "- **Now let us compute the weight variables for the whole dataset**\n",
    "- So, we recalculate them below."
   ]
  },
  {
   "cell_type": "code",
   "execution_count": 58,
   "metadata": {},
   "outputs": [],
   "source": [
    "# recalculating nb_weights for the whole dataset\n",
    "nb_weights = naive_bayes.get_nb_weights(TRAIN_FILE, .01)"
   ]
  },
  {
   "cell_type": "code",
   "execution_count": 59,
   "metadata": {},
   "outputs": [
    {
     "name": "stdout",
     "output_type": "stream",
     "text": [
      "{'--END--': 0, '--START--': 1, 'ADJ': 2, 'ADP': 3, 'ADV': 4, 'AUX': 5, 'CONJ': 6, 'DET': 7, 'INTJ': 8, 'NOUN': 9, 'NUM': 10, 'PART': 11, 'PRON': 12, 'PROPN': 13, 'PUNCT': 14, 'SCONJ': 15, 'SYM': 16, 'VERB': 17, 'X': 18}\n"
     ]
    }
   ],
   "source": [
    "# recalculating tag_to_ix\n",
    "tag_to_ix = {}\n",
    "for tag in list(all_tags):\n",
    "    if tag not in tag_to_ix:\n",
    "        tag_to_ix[tag]=len(tag_to_ix)\n",
    "print (tag_to_ix)"
   ]
  },
  {
   "cell_type": "code",
   "execution_count": 60,
   "metadata": {},
   "outputs": [
    {
     "name": "stdout",
     "output_type": "stream",
     "text": [
      "6913\n"
     ]
    }
   ],
   "source": [
    "# recalculating vocab for the whole dataset now. # we also add an UNK token to the vocab here\n",
    "reload(most_common);\n",
    "vocab, word_to_ix = most_common.get_word_to_ix(TRAIN_FILE) # obtains all the words in the file\n",
    "print (len(vocab))"
   ]
  },
  {
   "cell_type": "code",
   "execution_count": 61,
   "metadata": {},
   "outputs": [],
   "source": [
    "emission_probs, tag_transition_probs = hmm.compute_weights_variables(nb_weights, hmm_trans_weights, \n",
    "                                                                     vocab, word_to_ix, tag_to_ix)"
   ]
  },
  {
   "cell_type": "markdown",
   "metadata": {},
   "source": [
    "We can now combine `Viterbi` and the `HMM` weights to compute the tag sequence for the example sentence.\n",
    "\n",
    "- **Tests**: ```test_hmm.py: test_hmm_on_example_sentence()```"
   ]
  },
  {
   "cell_type": "code",
   "execution_count": 62,
   "metadata": {},
   "outputs": [
    {
     "name": "stdout",
     "output_type": "stream",
     "text": [
      ".\r\n",
      "----------------------------------------------------------------------\r\n",
      "Ran 1 test in 0.937s\r\n",
      "\r\n",
      "OK\r\n"
     ]
    }
   ],
   "source": [
    "! nosetests tests/test_hmm.py:test_hmm_on_example_sentence"
   ]
  },
  {
   "cell_type": "code",
   "execution_count": 22,
   "metadata": {},
   "outputs": [
    {
     "name": "stdout",
     "output_type": "stream",
     "text": [
      "['--END--', '--START--', 'ADJ', 'ADP', 'ADV', 'AUX', 'CONJ', 'DET', 'INTJ', 'NOUN', 'NUM', 'PART', 'PRON', 'PROPN', 'PUNCT', 'SCONJ', 'SYM', 'VERB', 'X']\n"
     ]
    }
   ],
   "source": [
    "# make sure all_tags has END_TAG\n",
    "print (all_tags)"
   ]
  },
  {
   "cell_type": "code",
   "execution_count": 63,
   "metadata": {},
   "outputs": [
    {
     "data": {
      "text/plain": [
       "(tensor(-32.4456), ['PRON', 'AUX', 'AUX', 'NOUN', 'PUNCT'])"
      ]
     },
     "execution_count": 63,
     "metadata": {},
     "output_type": "execute_result"
    }
   ],
   "source": [
    "reload(viterbi);\n",
    "viterbi.build_trellis(all_tags,\n",
    "                      tag_to_ix,\n",
    "                      [emission_probs[word_to_ix[w]] for w in ['they', 'can', 'can', 'fish','.']], \n",
    "                      tag_transition_probs)"
   ]
  },
  {
   "cell_type": "markdown",
   "metadata": {},
   "source": [
    "- Running HMM tagger on the dev data and test data\n",
    "- **Tests**: ```test_hmm.py: test_hmm_dev_accuracy()```"
   ]
  },
  {
   "cell_type": "markdown",
   "metadata": {},
   "source": [
    "- Observe that, based on our definition of the viterbi function, we need to send in two sets of important scores to the `build_trellis()` function\n",
    "    - cur_tag_scores: a list of emission scores for each tag for each token in the sentence\n",
    "    - tag_transition_probs: tag transition scores\n",
    "- When using the `HMM` with `Viterbi` Tagger: we have calculated the `cur_tag_scores` using the `naive_bayes_weights` and got the `tag_transition_probs`\n",
    "- Below, in the tagger that we create: we first calculate the set of `cur_tag_scores` for the words in the sentence and then send them in."
   ]
  },
  {
   "cell_type": "code",
   "execution_count": 87,
   "metadata": {},
   "outputs": [
    {
     "name": "stdout",
     "output_type": "stream",
     "text": [
      ".\r\n",
      "----------------------------------------------------------------------\r\n",
      "Ran 1 test in 0.631s\r\n",
      "\r\n",
      "OK\r\n"
     ]
    }
   ],
   "source": [
    "! nosetests tests/test_hmm.py:test_hmm_dev_accuracy"
   ]
  },
  {
   "cell_type": "code",
   "execution_count": 94,
   "metadata": {},
   "outputs": [],
   "source": [
    "reload(viterbi);"
   ]
  },
  {
   "cell_type": "markdown",
   "metadata": {},
   "source": [
    "- Observe the way `cur_tag_scores` is computed in the loop below: \n",
    "    - For each particular word in a sentence: we assign the respective emission scores if it is present in our `vocab`, else we assign the emission_scores of an `UNK` token.\n",
    "    - This is repeated everywhere from now on."
   ]
  },
  {
   "cell_type": "code",
   "execution_count": 64,
   "metadata": {},
   "outputs": [
    {
     "name": "stdout",
     "output_type": "stream",
     "text": [
      "From/ADP the/DET AP/NOUN comes/VERB this/DET story/NOUN :/PUNCT \n",
      "\n",
      "President/PROPN Bush/PROPN on/ADP Tuesday/PROPN nominated/PROPN two/NUM individuals/NOUN to/PART replace/VERB retiring/DET jurists/NOUN on/ADP federal/ADJ courts/NOUN in/ADP the/DET Washington/PROPN area/NOUN ./PUNCT \n",
      "\n",
      "Bush/PROPN nominated/PROPN Jennifer/PROPN M./PART Anderson/VERB for/ADP a/DET 15/NUM -/PUNCT year/NOUN term/NOUN as/ADP associate/NOUN judge/NOUN of/ADP the/DET Superior/ADJ Court/NOUN of/ADP the/DET District/PROPN of/ADP Columbia/PROPN ,/PUNCT replacing/PROPN Steffen/PROPN W./PROPN Graae/PROPN ./PUNCT \n",
      "\n"
     ]
    }
   ],
   "source": [
    "# this is just for fun\n",
    "for i,(words,_) in enumerate(preproc.conll_seq_generator(DEV_FILE)):\n",
    "    cur_tag_scores = [emission_probs[word_to_ix[w]] \n",
    "                      if w in word_to_ix else emission_probs[word_to_ix[UNK]] for w in words]\n",
    "    \n",
    "    pred_tags = viterbi.build_trellis(all_tags,\n",
    "                                      tag_to_ix,\n",
    "                                      cur_tag_scores,\n",
    "                                      tag_transition_probs)[1]\n",
    "    for word,pred_tag in zip(words,pred_tags):\n",
    "        print (\"%s/%s\"%(word,pred_tag),end=\" \")\n",
    "    print ('\\n')\n",
    "    if i >= 2: break"
   ]
  },
  {
   "cell_type": "code",
   "execution_count": 65,
   "metadata": {},
   "outputs": [],
   "source": [
    "tagger = lambda words, all_tags : viterbi.build_trellis(all_tags, \n",
    "                                                        tag_to_ix,\n",
    "                                                            [emission_probs[word_to_ix[w]] \n",
    "                                                             if w in word_to_ix \n",
    "                                                             else emission_probs[word_to_ix[UNK]] \n",
    "                                                             for w in words],\n",
    "                                                            tag_transition_probs)[1]\n",
    "confusion = tagger_base.eval_tagger(tagger,'hmm-dev-en.preds', all_tags)"
   ]
  },
  {
   "cell_type": "code",
   "execution_count": 66,
   "metadata": {},
   "outputs": [
    {
     "name": "stdout",
     "output_type": "stream",
     "text": [
      "0.8409120864636879\n"
     ]
    }
   ],
   "source": [
    "print (scorer.accuracy(confusion))"
   ]
  },
  {
   "cell_type": "markdown",
   "metadata": {},
   "source": [
    "- This is around 3% better than the heuristic tagger and Naive Bayes tagger we implemented initially."
   ]
  },
  {
   "cell_type": "code",
   "execution_count": 69,
   "metadata": {},
   "outputs": [],
   "source": [
    "tagger_base.apply_tagger(tagger,'hmm-te-en.preds',all_tags, testfile=TEST_FILE_HIDDEN)"
   ]
  },
  {
   "cell_type": "code",
   "execution_count": 70,
   "metadata": {},
   "outputs": [],
   "source": [
    "confusion = tagger_base.eval_tagger(tagger,'hmm-te-en.preds', all_tags)"
   ]
  },
  {
   "cell_type": "code",
   "execution_count": 71,
   "metadata": {},
   "outputs": [
    {
     "name": "stdout",
     "output_type": "stream",
     "text": [
      "0.8409120864636879\n"
     ]
    }
   ],
   "source": [
    "print (scorer.accuracy(confusion))"
   ]
  },
  {
   "cell_type": "code",
   "execution_count": 73,
   "metadata": {},
   "outputs": [
    {
     "name": "stdout",
     "output_type": "stream",
     "text": [
      "data/en-ud-test-hidden.conllu\n"
     ]
    }
   ],
   "source": [
    "print(TEST_FILE_HIDDEN)"
   ]
  },
  {
   "cell_type": "markdown",
   "metadata": {},
   "source": [
    "### Part-of-Speech Tagging in Norwegian using VIterbi Tagger\n",
    "- **Tests**: ```test_hmm.py: test_nr_hmm_dev_accuracy()```"
   ]
  },
  {
   "cell_type": "code",
   "execution_count": 86,
   "metadata": {},
   "outputs": [
    {
     "name": "stdout",
     "output_type": "stream",
     "text": [
      ".\r\n",
      "----------------------------------------------------------------------\r\n",
      "Ran 1 test in 0.654s\r\n",
      "\r\n",
      "OK\r\n"
     ]
    }
   ],
   "source": [
    "!nosetests tests/test_hmm.py:test_nr_hmm_dev_accuracy"
   ]
  },
  {
   "cell_type": "markdown",
   "metadata": {},
   "source": [
    "- First, we calculate the `nb_weights`/emission weights for the norwegian language in a similar way as we did for the english language."
   ]
  },
  {
   "cell_type": "code",
   "execution_count": 76,
   "metadata": {},
   "outputs": [],
   "source": [
    "# recalculating nb_weights for the whole dataset\n",
    "nb_weights_nr = naive_bayes.get_nb_weights(NR_TRAIN_FILE, .01)"
   ]
  },
  {
   "cell_type": "markdown",
   "metadata": {},
   "source": [
    "- Now, we calculate the `tag_transition_weights` for the norwegian language"
   ]
  },
  {
   "cell_type": "code",
   "execution_count": 77,
   "metadata": {},
   "outputs": [],
   "source": [
    "tag_trans_counts_nr = most_common.get_tag_trans_counts(NR_TRAIN_FILE)\n",
    "hmm_trans_weights_nr = hmm.compute_transition_weights(tag_trans_counts_nr,.001)"
   ]
  },
  {
   "cell_type": "markdown",
   "metadata": {},
   "source": [
    "- Now, we obtain the `vocab`, `word_to_ix` and `tag_to_ix` below for the norwegian language."
   ]
  },
  {
   "cell_type": "code",
   "execution_count": 78,
   "metadata": {},
   "outputs": [
    {
     "name": "stdout",
     "output_type": "stream",
     "text": [
      "{'--END--': 0, '--START--': 1, 'ADJ': 2, 'ADP': 3, 'ADV': 4, 'AUX': 5, 'CCONJ': 6, 'DET': 7, 'INTJ': 8, 'NOUN': 9, 'NUM': 10, 'PART': 11, 'PRON': 12, 'PROPN': 13, 'PUNCT': 14, 'SCONJ': 15, 'SYM': 16, 'VERB': 17, 'X': 18}\n"
     ]
    }
   ],
   "source": [
    "# Using helper functions to obtain vocab, word_to_ix, tag_to_ix\n",
    "all_tags_nr = sorted(list(tag_trans_counts_nr.keys()) + [END_TAG])\n",
    "vocab_nr, word_to_ix_nr = most_common.get_word_to_ix(NR_TRAIN_FILE) #obtains all the words in the vocab\n",
    "tag_to_ix_nr={}\n",
    "for tag in list(all_tags_nr):\n",
    "    tag_to_ix_nr[tag]=len(tag_to_ix_nr)\n",
    "print (tag_to_ix_nr)"
   ]
  },
  {
   "cell_type": "markdown",
   "metadata": {},
   "source": [
    "- Now, we convert these weights into pytorch variables."
   ]
  },
  {
   "cell_type": "code",
   "execution_count": 79,
   "metadata": {},
   "outputs": [],
   "source": [
    "emission_probs_nr, tag_transition_probs_nr = hmm.compute_weights_variables(nb_weights_nr, hmm_trans_weights_nr, \n",
    "                                                                           vocab_nr, word_to_ix_nr, tag_to_ix_nr)"
   ]
  },
  {
   "cell_type": "markdown",
   "metadata": {},
   "source": [
    "- Now, we construct a viterbi tagger for the norwegian language using these weights."
   ]
  },
  {
   "cell_type": "code",
   "execution_count": 80,
   "metadata": {},
   "outputs": [],
   "source": [
    "tagger = lambda words, all_tags : viterbi.build_trellis(all_tags_nr, \n",
    "                                                           tag_to_ix_nr,\n",
    "                                                            [emission_probs_nr[word_to_ix_nr[w]] \n",
    "                                                             if w in word_to_ix_nr \n",
    "                                                             else emission_probs_nr[word_to_ix_nr[UNK]] \n",
    "                                                             for w in words],\n",
    "                                                            tag_transition_probs_nr)[1]"
   ]
  },
  {
   "cell_type": "code",
   "execution_count": 81,
   "metadata": {},
   "outputs": [],
   "source": [
    "confusion = tagger_base.eval_tagger(tagger,'hmm-dev-nr.preds', all_tags_nr,\n",
    "                                    trainfile=NR_TRAIN_FILE,\n",
    "                                    testfile=NR_DEV_FILE)"
   ]
  },
  {
   "cell_type": "code",
   "execution_count": 83,
   "metadata": {},
   "outputs": [
    {
     "name": "stdout",
     "output_type": "stream",
     "text": [
      "0.8615031554790591\n"
     ]
    }
   ],
   "source": [
    "print (scorer.accuracy(confusion))"
   ]
  },
  {
   "cell_type": "code",
   "execution_count": 82,
   "metadata": {},
   "outputs": [],
   "source": [
    "tagger_base.apply_tagger(tagger,'hmm-te-nr.preds',all_tags_nr, \n",
    "                         trainfile=NR_TRAIN_FILE, testfile=NR_TEST_FILE_HIDDEN)"
   ]
  },
  {
   "cell_type": "markdown",
   "metadata": {},
   "source": [
    "# 5. BiLSTM model for Part of Speech Tagging\n",
    "\n",
    "Our `BiLSTM` model for part-of-speech tagging takes as input the word embeddings of the tokens in the sentence, and passes them through an `LSTM`. For each token, the hidden state is used as input to a network that computes a score for each tag. A softmax layer then converts these scores to probabilities. Model is trained end-to-end with the cross-entropy loss function.\n",
    "\n",
    "- `BiLSTM.__init__()`: define all the necessary model parameters\n",
    "    1. The word-embedding matrix, which maps the words to vectors.\n",
    "    2. A BiLSTM Neural Network, which takes the word embeddings for the words as inputs and produces a hidden state for each token.\n",
    "    3. A one layer feedforward Neural Network, which projects the hidden state to a vector of scores for each tag.\n",
    "- `forward()`: pass the input through the model, obtaining probability distributions over tags\n",
    "    1. Convert all the words to their word-vectors from the word-embedding matrix.\n",
    "    2. Pass these word-vectors through a BiLSTM to obtain hidden states for the tokens.\n",
    "    3. Pass these hidden states through the feedforward neural network to obtain the probability distributions of tags for each token.\n",
    "- `cross_entropy_loss()`: the training objective"
   ]
  },
  {
   "cell_type": "code",
   "execution_count": 106,
   "metadata": {},
   "outputs": [
    {
     "name": "stdout",
     "output_type": "stream",
     "text": [
      "words in the vocabulary:  6900\n",
      "6899\n"
     ]
    }
   ],
   "source": [
    "# recalculating vocab: obtains the most common 6900 words from the file\n",
    "vocab, word_to_ix = most_common.get_word_to_ix(TRAIN_FILE, 6900)\n",
    "print ('words in the vocabulary: ',len(word_to_ix))\n",
    "print (word_to_ix[UNK])"
   ]
  },
  {
   "cell_type": "markdown",
   "metadata": {},
   "source": [
    "- updating `tag_to_ix` and `all_tags` to remove `START_TAG` and `END_TAG`: these labels are not necessary in tagging with `BiLSTM`"
   ]
  },
  {
   "cell_type": "code",
   "execution_count": 109,
   "metadata": {},
   "outputs": [
    {
     "name": "stdout",
     "output_type": "stream",
     "text": [
      "['ADJ', 'ADP', 'ADV', 'AUX', 'CONJ', 'DET', 'INTJ', 'NOUN', 'NUM', 'PART', 'PRON', 'PROPN', 'PUNCT', 'SCONJ', 'SYM', 'VERB', 'X']\n"
     ]
    }
   ],
   "source": [
    "print(all_tags)"
   ]
  },
  {
   "cell_type": "code",
   "execution_count": 116,
   "metadata": {},
   "outputs": [],
   "source": [
    "if START_TAG in all_tags:\n",
    "    all_tags.remove(START_TAG)\n",
    "if END_TAG in all_tags:\n",
    "    all_tags.remove(END_TAG)\n",
    "tag_to_ix = {}\n",
    "for tag in all_tags:\n",
    "    if tag not in tag_to_ix:\n",
    "        tag_to_ix[tag] = len(tag_to_ix)"
   ]
  },
  {
   "cell_type": "markdown",
   "metadata": {},
   "source": [
    "- Loading Train data for english:"
   ]
  },
  {
   "cell_type": "code",
   "execution_count": 24,
   "metadata": {},
   "outputs": [
    {
     "name": "stdout",
     "output_type": "stream",
     "text": [
      "['The', 'third', 'was', 'being', 'run', 'by', 'the', 'head', 'of', 'an', 'investment', 'firm', '.']\n"
     ]
    }
   ],
   "source": [
    "print(X_tr[5])"
   ]
  },
  {
   "cell_type": "code",
   "execution_count": 11,
   "metadata": {},
   "outputs": [
    {
     "name": "stdout",
     "output_type": "stream",
     "text": [
      "{'ADJ': 0, 'ADP': 1, 'ADV': 2, 'AUX': 3, 'CONJ': 4, 'DET': 5, 'INTJ': 6, 'NOUN': 7, 'NUM': 8, 'PART': 9, 'PRON': 10, 'PROPN': 11, 'PUNCT': 12, 'SCONJ': 13, 'SYM': 14, 'VERB': 15, 'X': 16}\n"
     ]
    }
   ],
   "source": [
    "print(tag_to_ix)"
   ]
  },
  {
   "cell_type": "code",
   "execution_count": 117,
   "metadata": {
    "scrolled": true
   },
   "outputs": [
    {
     "name": "stdout",
     "output_type": "stream",
     "text": [
      "[  17  759   14  114  451   20    0  278    5   33  901 2020    2]\n",
      "[ 5  0  3  3 15  1  5  7  1  5  7  7 12]\n"
     ]
    },
    {
     "data": {
      "text/plain": [
       "13"
      ]
     },
     "execution_count": 117,
     "metadata": {},
     "output_type": "execute_result"
    }
   ],
   "source": [
    "reload(preproc);\n",
    "X_tr, Y_tr = preproc.load_data(TRAIN_FILE)\n",
    "\n",
    "prep = bilstm.prepare_sequence(X_tr[5],word_to_ix).data.numpy()\n",
    "print (bilstm.prepare_sequence(X_tr[5],word_to_ix).data.numpy())\n",
    "print (bilstm.prepare_sequence(Y_tr[5],tag_to_ix).data.numpy())\n",
    "len(prep)"
   ]
  },
  {
   "cell_type": "markdown",
   "metadata": {},
   "source": [
    "- Loading Dev data for english:"
   ]
  },
  {
   "cell_type": "code",
   "execution_count": 125,
   "metadata": {},
   "outputs": [],
   "source": [
    "# loading dev data\n",
    "X_dv, Y_dv = preproc.load_data(DEV_FILE)"
   ]
  },
  {
   "cell_type": "markdown",
   "metadata": {},
   "source": [
    "- Loading Test data for english:"
   ]
  },
  {
   "cell_type": "code",
   "execution_count": 126,
   "metadata": {},
   "outputs": [],
   "source": [
    "# loading test data\n",
    "X_te, Y_te = preproc.load_data(TEST_FILE_HIDDEN)"
   ]
  },
  {
   "cell_type": "code",
   "execution_count": 144,
   "metadata": {},
   "outputs": [
    {
     "name": "stdout",
     "output_type": "stream",
     "text": [
      ".\r\n",
      "----------------------------------------------------------------------\r\n",
      "Ran 1 test in 0.456s\r\n",
      "\r\n",
      "OK\r\n"
     ]
    }
   ],
   "source": [
    "! nosetests tests/test_bilstm.py:test_dlmodel_init"
   ]
  },
  {
   "cell_type": "markdown",
   "metadata": {},
   "source": [
    "- Below, you can find brief example of how these components are created in Torch. In these examples, the dimensions are arbitrary; you will need to determine the correct dimensions for your model."
   ]
  },
  {
   "cell_type": "code",
   "execution_count": 52,
   "metadata": {},
   "outputs": [
    {
     "name": "stdout",
     "output_type": "stream",
     "text": [
      "6900\n"
     ]
    }
   ],
   "source": [
    "print(len(word_to_ix))"
   ]
  },
  {
   "cell_type": "code",
   "execution_count": 83,
   "metadata": {},
   "outputs": [],
   "source": [
    "# this basically defines a matrix of embeddings where the vocab_size=10 and the embedding_dim=10 \n",
    "word_embeds = nn.Embedding(num_embeddings=10, embedding_dim=10)"
   ]
  },
  {
   "cell_type": "code",
   "execution_count": 84,
   "metadata": {},
   "outputs": [],
   "source": [
    "# the following line is how you define an LSTM such that the input_size of the vector=10, \n",
    "# hidden state of each LSTM (forward and backward) =20, num of layers=1, \n",
    "# bidirectional=True indicating both forward and backward LSTM will be included.\n",
    "lstm = nn.LSTM(input_size=10, hidden_size=20, num_layers=1, bidirectional=True)"
   ]
  },
  {
   "cell_type": "code",
   "execution_count": 85,
   "metadata": {},
   "outputs": [],
   "source": [
    "# the following line is the way to define a Fully Connected Layer with input_dim=40, output_dim=10 and bias=True.\n",
    "hidden2tag = nn.Linear(in_features=40, out_features=10, bias=True)"
   ]
  },
  {
   "cell_type": "markdown",
   "metadata": {},
   "source": [
    "- Once, you have defined the parameters of the model: check if you have done it right using the unit test."
   ]
  },
  {
   "cell_type": "code",
   "execution_count": 55,
   "metadata": {},
   "outputs": [],
   "source": [
    "reload(bilstm);\n",
    "torch.manual_seed(711);\n",
    "embedding_dim = 30\n",
    "hidden_dim = 30\n",
    "model = bilstm.BiLSTM(len(word_to_ix),tag_to_ix,embedding_dim, hidden_dim)"
   ]
  },
  {
   "cell_type": "code",
   "execution_count": 33,
   "metadata": {
    "scrolled": true
   },
   "outputs": [
    {
     "name": "stdout",
     "output_type": "stream",
     "text": [
      "6900\n"
     ]
    }
   ],
   "source": [
    "print(len(word_to_ix))"
   ]
  },
  {
   "cell_type": "code",
   "execution_count": 114,
   "metadata": {},
   "outputs": [],
   "source": [
    "reload(bilstm);\n",
    "torch.manual_seed(711);\n",
    "embedding_dim = 30\n",
    "hidden_dim = 30\n",
    "test_model = nn.LSTM(input_size=len(word_to_ix), hidden_size=20, num_layers=1, bidirectional=True)\n",
    "# USE EMBEDDING DIM AS INPUT DIM FOR LSTM\n",
    "# USE len(word_to_ix) AS INPUT FOR EMBEDDINGS "
   ]
  },
  {
   "cell_type": "code",
   "execution_count": 54,
   "metadata": {},
   "outputs": [
    {
     "name": "stdout",
     "output_type": "stream",
     "text": [
      "LSTM(6900, 20, bidirectional=True)\n"
     ]
    },
    {
     "data": {
      "text/plain": [
       "17"
      ]
     },
     "execution_count": 54,
     "metadata": {},
     "output_type": "execute_result"
    }
   ],
   "source": [
    "print(test_model)\n",
    "len(tag_to_ix)"
   ]
  },
  {
   "cell_type": "code",
   "execution_count": 87,
   "metadata": {},
   "outputs": [
    {
     "data": {
      "text/plain": [
       "BiLSTM(\n",
       "  (word_embeds): Embedding(6900, 30)\n",
       "  (lstm): LSTM(30, 15, bidirectional=True)\n",
       "  (hidden2tag): Linear(in_features=30, out_features=17, bias=True)\n",
       ")"
      ]
     },
     "execution_count": 87,
     "metadata": {},
     "output_type": "execute_result"
    }
   ],
   "source": [
    "model"
   ]
  },
  {
   "cell_type": "code",
   "execution_count": 145,
   "metadata": {},
   "outputs": [
    {
     "name": "stdout",
     "output_type": "stream",
     "text": [
      ".\r\n",
      "----------------------------------------------------------------------\r\n",
      "Ran 1 test in 0.591s\r\n",
      "\r\n",
      "OK\r\n"
     ]
    }
   ],
   "source": [
    "! nosetests tests/test_bilstm.py:test_dlmodel_forward"
   ]
  },
  {
   "cell_type": "code",
   "execution_count": 141,
   "metadata": {},
   "outputs": [],
   "source": [
    "reload(bilstm);"
   ]
  },
  {
   "cell_type": "code",
   "execution_count": 142,
   "metadata": {},
   "outputs": [],
   "source": [
    "# creating your model\n",
    "torch.manual_seed(711);\n",
    "embedding_dim = 30\n",
    "hidden_dim = 30\n",
    "model = bilstm.BiLSTM(len(word_to_ix),tag_to_ix,embedding_dim, hidden_dim)"
   ]
  },
  {
   "cell_type": "code",
   "execution_count": 57,
   "metadata": {
    "scrolled": true
   },
   "outputs": [
    {
     "name": "stdout",
     "output_type": "stream",
     "text": [
      "BiLSTM(\n",
      "  (word_embeds): Embedding(6900, 30)\n",
      "  (lstm): LSTM(30, 15, bidirectional=True)\n",
      "  (hidden2tag): Linear(in_features=30, out_features=17, bias=True)\n",
      ")\n"
     ]
    }
   ],
   "source": [
    "print(model)"
   ]
  },
  {
   "cell_type": "code",
   "execution_count": 156,
   "metadata": {},
   "outputs": [
    {
     "name": "stdout",
     "output_type": "stream",
     "text": [
      "NCP(\n",
      "  (word_embeds): Embedding(6900, 30)\n",
      "  (ncp): LTC(\n",
      "    (rnn_cell): LTCCell(\n",
      "      (make_positive_fn): Softplus(beta=1, threshold=20)\n",
      "      (_clip): ReLU()\n",
      "    )\n",
      "    (lstm): LSTMCell(\n",
      "      (input_map): Linear(in_features=30, out_features=120, bias=True)\n",
      "      (recurrent_map): Linear(in_features=30, out_features=120, bias=False)\n",
      "      (tanh): Tanh()\n",
      "      (sigmoid): Sigmoid()\n",
      "    )\n",
      "  )\n",
      ")\n"
     ]
    }
   ],
   "source": [
    "print(model)"
   ]
  },
  {
   "cell_type": "code",
   "execution_count": 128,
   "metadata": {},
   "outputs": [],
   "source": [
    "# preparing your first sentence to be an input\n",
    "words= X_tr[5]\n",
    "tags = Y_tr[5]\n",
    "sentence = bilstm.prepare_sequence(words, word_to_ix)"
   ]
  },
  {
   "cell_type": "code",
   "execution_count": 129,
   "metadata": {},
   "outputs": [
    {
     "name": "stdout",
     "output_type": "stream",
     "text": [
      "['The', 'third', 'was', 'being', 'run', 'by', 'the', 'head', 'of', 'an', 'investment', 'firm', '.']\n",
      "tensor([  17,  759,   14,  114,  451,   20,    0,  278,    5,   33,  901, 2020,\n",
      "           2])\n"
     ]
    }
   ],
   "source": [
    "sentence = bilstm.prepare_sequence(words, word_to_ix)\n",
    "print(words)\n",
    "print(sentence)"
   ]
  },
  {
   "cell_type": "markdown",
   "metadata": {},
   "source": [
    "- this calls the `forward()` function on the model, which returns the tag_scores for each tag for each particular token in the sentence\n"
   ]
  },
  {
   "cell_type": "code",
   "execution_count": 143,
   "metadata": {},
   "outputs": [
    {
     "name": "stdout",
     "output_type": "stream",
     "text": [
      "tensor([ 0.1864,  0.0482, -0.1866,  0.2131,  0.0637,  0.1861,  0.0431,  0.1174,\n",
      "        -0.1847,  0.1961, -0.1794, -0.1025, -0.0277,  0.2544,  0.0145, -0.1003,\n",
      "        -0.2514], grad_fn=<SelectBackward>)\n"
     ]
    }
   ],
   "source": [
    "lstm_feats = model(sentence)\n",
    "print(lstm_feats[0])"
   ]
  },
  {
   "cell_type": "code",
   "execution_count": 140,
   "metadata": {
    "scrolled": true
   },
   "outputs": [
    {
     "name": "stdout",
     "output_type": "stream",
     "text": [
      "torch.Size([13, 1, 30])\n",
      "torch.Size([13, 30])\n",
      "tensor([ 2.9733, -0.0131,  0.1954, -2.9662, -0.1088], grad_fn=<SliceBackward>)\n"
     ]
    }
   ],
   "source": [
    "lstm_feats = model(sentence)\n",
    "print (lstm_feats[0][0:5])"
   ]
  },
  {
   "cell_type": "markdown",
   "metadata": {},
   "source": [
    "- we provide the `predict()` function that returns the set of tags obtained for the specific input by the model."
   ]
  },
  {
   "cell_type": "code",
   "execution_count": 136,
   "metadata": {},
   "outputs": [
    {
     "name": "stdout",
     "output_type": "stream",
     "text": [
      "torch.Size([13, 1, 30])\n",
      "torch.Size([13, 30])\n",
      "['INTJ', 'ADJ', 'PART']\n"
     ]
    }
   ],
   "source": [
    "tags = model.predict(sentence)\n",
    "print (tags[0:3])"
   ]
  },
  {
   "cell_type": "code",
   "execution_count": 92,
   "metadata": {},
   "outputs": [
    {
     "name": "stdout",
     "output_type": "stream",
     "text": [
      "['ADJ', 'ADJ', 'PART']\n"
     ]
    }
   ],
   "source": [
    "tags = model.predict(sentence)\n",
    "print (tags[0:3])"
   ]
  },
  {
   "cell_type": "markdown",
   "metadata": {},
   "source": [
    "- Train the model for now\n"
   ]
  },
  {
   "cell_type": "markdown",
   "metadata": {},
   "source": [
    "## NCP Model"
   ]
  },
  {
   "cell_type": "code",
   "execution_count": 196,
   "metadata": {},
   "outputs": [
    {
     "name": "stdout",
     "output_type": "stream",
     "text": [
      "alloc!\n"
     ]
    }
   ],
   "source": [
    "# creating ncp model\n",
    "reload(bilstm);\n",
    "torch.manual_seed(711);\n",
    "embedding_dim = 30\n",
    "ncp_neurons = 30\n",
    "ncp_model = bilstm.NCP(len(word_to_ix), tag_to_ix, embedding_dim, ncp_neurons)"
   ]
  },
  {
   "cell_type": "code",
   "execution_count": 187,
   "metadata": {},
   "outputs": [],
   "source": [
    "optim_args = {'lr':0.1,'momentum':0},\n",
    "optimizer = optim.SGD(ncp_model.parameters(), lr=0.1, momentum=0)\n",
    "loss = torch.nn.CrossEntropyLoss()\n",
    "loss_value=0\n",
    "count1=0\n",
    "\n",
    "for X,Y in zip(X_tr,Y_tr):\n",
    "    X_tr_var = bilstm.prepare_sequence(X, word_to_ix)\n",
    "    Y_tr_var = bilstm.prepare_sequence(Y, tag_to_ix)\n",
    "    \n",
    "    ncp_model.train()\n",
    "\n",
    "    # set gradient to zero\n",
    "    optimizer.zero_grad()\n",
    "\n",
    "    ncp_feats= ncp_model.forward(X_tr_var)\n",
    "    output = loss(ncp_feats, Y_tr_var)\n",
    "\n",
    "    output.backward()\n",
    "    optimizer.step()\n",
    "    loss_value += output.item()\n",
    "    count1+=1"
   ]
  },
  {
   "cell_type": "markdown",
   "metadata": {},
   "source": [
    "Training below used SGD for optimizer"
   ]
  },
  {
   "cell_type": "code",
   "execution_count": 189,
   "metadata": {
    "scrolled": true
   },
   "outputs": [
    {
     "name": "stdout",
     "output_type": "stream",
     "text": [
      "Epoch 1: Dev Accuracy: 0.41122973507315147\n",
      "Epoch 3: Dev Accuracy: 0.5902201133517859\n",
      "Epoch 5: Dev Accuracy: 0.6120996441281139\n",
      "Epoch 7: Dev Accuracy: 0.6376696981679189\n",
      "Epoch 9: Dev Accuracy: 0.6571767497034401\n",
      "Epoch 11: Dev Accuracy: 0.6545406616580994\n",
      "Epoch 13: Dev Accuracy: 0.6723342559641492\n",
      "Epoch 15: Dev Accuracy: 0.6588902069329116\n",
      "Epoch 17: Dev Accuracy: 0.6743113219981547\n",
      "Epoch 19: Dev Accuracy: 0.6677211018848029\n"
     ]
    }
   ],
   "source": [
    "# training NCP model\n",
    "reload(bilstm);\n",
    "torch.manual_seed(711);\n",
    "loss = torch.nn.CrossEntropyLoss()\n",
    "ncp_model, losses, accuracies = bilstm.train_model(loss, ncp_model, X_tr,Y_tr, word_to_ix, tag_to_ix, \n",
    "                                        X_dv, Y_dv, num_its=20, status_frequency=2, \n",
    "                                        optim_args = {'lr':0.1,'momentum':0}, param_file = 'best.params')"
   ]
  },
  {
   "cell_type": "code",
   "execution_count": 191,
   "metadata": {},
   "outputs": [
    {
     "data": {
      "image/png": "[encoded data removed]",
      "text/plain": [
       "<Figure size 1200x200 with 2 Axes>"
      ]
     },
     "metadata": {},
     "output_type": "display_data"
    }
   ],
   "source": [
    "# NCP model graphs\n",
    "reload(bilstm);\n",
    "bilstm.plot_results(losses, accuracies)"
   ]
  },
  {
   "cell_type": "markdown",
   "metadata": {},
   "source": [
    "Training below used Adam as optimizer"
   ]
  },
  {
   "cell_type": "code",
   "execution_count": 193,
   "metadata": {
    "scrolled": true
   },
   "outputs": [
    {
     "name": "stdout",
     "output_type": "stream",
     "text": [
      "Epoch 1: Dev Accuracy: 0.5547647291419533\n",
      "Epoch 3: Dev Accuracy: 0.69764070119942\n",
      "Epoch 5: Dev Accuracy: 0.7431132199815473\n",
      "Epoch 7: Dev Accuracy: 0.7614340318966654\n",
      "Epoch 9: Dev Accuracy: 0.7839725846843285\n",
      "Epoch 11: Dev Accuracy: 0.7827863450639251\n",
      "Epoch 13: Dev Accuracy: 0.7863450639251351\n",
      "Epoch 15: Dev Accuracy: 0.7831817582707262\n",
      "Epoch 17: Dev Accuracy: 0.7855542375115329\n",
      "Epoch 19: Dev Accuracy: 0.782390931857124\n"
     ]
    }
   ],
   "source": [
    "# training NCP model\n",
    "reload(bilstm);\n",
    "torch.manual_seed(711);\n",
    "loss = torch.nn.CrossEntropyLoss()\n",
    "ncp_model, losses, accuracies = bilstm.train_model(loss, ncp_model, X_tr,Y_tr, word_to_ix, tag_to_ix, \n",
    "                                        X_dv, Y_dv, num_its=20, status_frequency=2, \n",
    "                                        optim_args = {'lr':0.1,'momentum':0}, param_file = 'best.params')"
   ]
  },
  {
   "cell_type": "code",
   "execution_count": 194,
   "metadata": {
    "scrolled": true
   },
   "outputs": [
    {
     "data": {
      "image/png": "[encoded data removed]",
      "text/plain": [
       "<Figure size 1200x200 with 2 Axes>"
      ]
     },
     "metadata": {},
     "output_type": "display_data"
    }
   ],
   "source": [
    "# NCP model graphs\n",
    "reload(bilstm);\n",
    "bilstm.plot_results(losses, accuracies)"
   ]
  },
  {
   "cell_type": "code",
   "execution_count": 197,
   "metadata": {},
   "outputs": [
    {
     "name": "stdout",
     "output_type": "stream",
     "text": [
      "Epoch 1: Dev Accuracy: 0.41188875708448663\n",
      "Epoch 3: Dev Accuracy: 0.5895610913404508\n",
      "Epoch 5: Dev Accuracy: 0.6113088177145116\n",
      "Epoch 7: Dev Accuracy: 0.6341109793067089\n",
      "Epoch 9: Dev Accuracy: 0.6553314880717016\n",
      "Epoch 11: Dev Accuracy: 0.6475550283379465\n",
      "Epoch 13: Dev Accuracy: 0.6758929748253591\n",
      "Epoch 15: Dev Accuracy: 0.6774746276525636\n",
      "Epoch 17: Dev Accuracy: 0.6957954395676815\n",
      "Epoch 19: Dev Accuracy: 0.7000131804402268\n"
     ]
    }
   ],
   "source": [
    "# training NCP model\n",
    "reload(bilstm);\n",
    "torch.manual_seed(711);\n",
    "loss = torch.nn.CrossEntropyLoss()\n",
    "ncp_model, losses, accuracies = bilstm.train_model(loss, ncp_model, X_tr,Y_tr, word_to_ix, tag_to_ix, \n",
    "                                        X_dv, Y_dv, num_its=20, status_frequency=2, \n",
    "                                        optim_args = {'lr':0.1,'momentum':0.01}, param_file = 'best.params')"
   ]
  },
  {
   "cell_type": "code",
   "execution_count": 198,
   "metadata": {},
   "outputs": [
    {
     "name": "stdout",
     "output_type": "stream",
     "text": [
      "Epoch 1: Dev Accuracy: 0.7151706867009359\n",
      "Epoch 3: Dev Accuracy: 0.7150388822986687\n",
      "Epoch 5: Dev Accuracy: 0.7167523395281402\n",
      "Epoch 7: Dev Accuracy: 0.7129300118623962\n",
      "Epoch 9: Dev Accuracy: 0.7146434690918677\n",
      "Epoch 11: Dev Accuracy: 0.7150388822986687\n",
      "Epoch 13: Dev Accuracy: 0.7166205351258732\n",
      "Epoch 15: Dev Accuracy: 0.7170159483326743\n",
      "Epoch 17: Dev Accuracy: 0.7129300118623962\n",
      "Epoch 19: Dev Accuracy: 0.7153024911032029\n"
     ]
    }
   ],
   "source": [
    "ncp_model, losses_2, accuracies_2 = bilstm.train_model(loss, ncp_model, X_tr,Y_tr, word_to_ix, tag_to_ix, \n",
    "                                        X_dv, Y_dv, num_its=20, status_frequency=2, \n",
    "                                        optim_args = {'lr':0.01,'momentum':0.01}, param_file = 'best.params')"
   ]
  },
  {
   "cell_type": "code",
   "execution_count": 200,
   "metadata": {
    "scrolled": true
   },
   "outputs": [
    {
     "name": "stdout",
     "output_type": "stream",
     "text": [
      "Unexpected exception formatting exception. Falling back to standard exception\n"
     ]
    },
    {
     "name": "stderr",
     "output_type": "stream",
     "text": [
      "Traceback (most recent call last):\n",
      "  File \"/Users/munoz/miniconda3/envs/mynlpenv/lib/python3.8/site-packages/IPython/core/interactiveshell.py\", line 3398, in run_code\n",
      "    exec(code_obj, self.user_global_ns, self.user_ns)\n",
      "  File \"/var/folders/n9/82x70l250bv8rltryg0341dw0000gn/T/ipykernel_32666/2517336716.py\", line 1, in <cell line: 1>\n",
      "    ncp_model, losses_3, accuracies_3 = bilstm.train_model(loss, ncp_model, X_tr,Y_tr, word_to_ix, tag_to_ix,\n",
      "  File \"/Users/munoz/UW/CSE447/cse447-au22-a2-em66/mynlplib/bilstm.py\", line 304, in train_model\n",
      "    output.backward()\n",
      "  File \"/Users/munoz/miniconda3/envs/mynlpenv/lib/python3.8/site-packages/torch/tensor.py\", line 195, in backward\n",
      "    torch.autograd.backward(self, gradient, retain_graph, create_graph)\n",
      "  File \"/Users/munoz/miniconda3/envs/mynlpenv/lib/python3.8/site-packages/torch/autograd/__init__.py\", line 97, in backward\n",
      "    Variable._execution_engine.run_backward(\n",
      "KeyboardInterrupt\n",
      "\n",
      "During handling of the above exception, another exception occurred:\n",
      "\n",
      "Traceback (most recent call last):\n",
      "  File \"/Users/munoz/miniconda3/envs/mynlpenv/lib/python3.8/site-packages/IPython/core/interactiveshell.py\", line 1993, in showtraceback\n",
      "    stb = self.InteractiveTB.structured_traceback(\n",
      "  File \"/Users/munoz/miniconda3/envs/mynlpenv/lib/python3.8/site-packages/IPython/core/ultratb.py\", line 1118, in structured_traceback\n",
      "    return FormattedTB.structured_traceback(\n",
      "  File \"/Users/munoz/miniconda3/envs/mynlpenv/lib/python3.8/site-packages/IPython/core/ultratb.py\", line 1012, in structured_traceback\n",
      "    return VerboseTB.structured_traceback(\n",
      "  File \"/Users/munoz/miniconda3/envs/mynlpenv/lib/python3.8/site-packages/IPython/core/ultratb.py\", line 865, in structured_traceback\n",
      "    formatted_exception = self.format_exception_as_a_whole(etype, evalue, etb, number_of_lines_of_context,\n",
      "  File \"/Users/munoz/miniconda3/envs/mynlpenv/lib/python3.8/site-packages/IPython/core/ultratb.py\", line 818, in format_exception_as_a_whole\n",
      "    frames.append(self.format_record(r))\n",
      "  File \"/Users/munoz/miniconda3/envs/mynlpenv/lib/python3.8/site-packages/IPython/core/ultratb.py\", line 736, in format_record\n",
      "    result += ''.join(_format_traceback_lines(frame_info.lines, Colors, self.has_colors, lvals))\n",
      "  File \"/Users/munoz/miniconda3/envs/mynlpenv/lib/python3.8/site-packages/stack_data/utils.py\", line 145, in cached_property_wrapper\n",
      "    value = obj.__dict__[self.func.__name__] = self.func(obj)\n",
      "  File \"/Users/munoz/miniconda3/envs/mynlpenv/lib/python3.8/site-packages/stack_data/core.py\", line 698, in lines\n",
      "    pieces = self.included_pieces\n",
      "  File \"/Users/munoz/miniconda3/envs/mynlpenv/lib/python3.8/site-packages/stack_data/utils.py\", line 145, in cached_property_wrapper\n",
      "    value = obj.__dict__[self.func.__name__] = self.func(obj)\n",
      "  File \"/Users/munoz/miniconda3/envs/mynlpenv/lib/python3.8/site-packages/stack_data/core.py\", line 649, in included_pieces\n",
      "    pos = scope_pieces.index(self.executing_piece)\n",
      "  File \"/Users/munoz/miniconda3/envs/mynlpenv/lib/python3.8/site-packages/stack_data/utils.py\", line 145, in cached_property_wrapper\n",
      "    value = obj.__dict__[self.func.__name__] = self.func(obj)\n",
      "  File \"/Users/munoz/miniconda3/envs/mynlpenv/lib/python3.8/site-packages/stack_data/core.py\", line 628, in executing_piece\n",
      "    return only(\n",
      "  File \"/Users/munoz/miniconda3/envs/mynlpenv/lib/python3.8/site-packages/executing/executing.py\", line 164, in only\n",
      "    raise NotOneValueFound('Expected one value, found 0')\n",
      "executing.executing.NotOneValueFound: Expected one value, found 0\n"
     ]
    }
   ],
   "source": [
    "ncp_model, losses_3, accuracies_3 = bilstm.train_model(loss, ncp_model, X_tr,Y_tr, word_to_ix, tag_to_ix, \n",
    "                                        X_dv, Y_dv, num_its=20, status_frequency=2, \n",
    "                                        optim_args = {'lr':0.001,'momentum':0.01}, param_file = 'best.params')"
   ]
  },
  {
   "cell_type": "code",
   "execution_count": null,
   "metadata": {},
   "outputs": [],
   "source": [
    "losses = losses + losses_2 + losses_3\n",
    "accuracies = accuracies + accuracies_2 + accuracies_3"
   ]
  },
  {
   "cell_type": "code",
   "execution_count": null,
   "metadata": {},
   "outputs": [],
   "source": [
    "# NCP model graphs\n",
    "reload(bilstm);\n",
    "bilstm.plot_results(losses, accuracies)"
   ]
  },
  {
   "cell_type": "markdown",
   "metadata": {},
   "source": [
    "## BiLSTM model"
   ]
  },
  {
   "cell_type": "code",
   "execution_count": 389,
   "metadata": {},
   "outputs": [],
   "source": [
    "# creating BiLSTM model\n",
    "reload(bilstm);\n",
    "torch.manual_seed(711);\n",
    "embedding_dim = 30\n",
    "hidden_dim = 30\n",
    "bi_model = bilstm.BiLSTM(len(word_to_ix), tag_to_ix, embedding_dim, hidden_dim)"
   ]
  },
  {
   "cell_type": "code",
   "execution_count": 390,
   "metadata": {
    "scrolled": true
   },
   "outputs": [
    {
     "name": "stdout",
     "output_type": "stream",
     "text": [
      "Epoch 1: Dev Accuracy: 0.16106497957031765\n",
      "Epoch 3: Dev Accuracy: 0.2044286279161724\n",
      "Epoch 5: Dev Accuracy: 0.23197574798998286\n",
      "Epoch 7: Dev Accuracy: 0.23672070647159615\n",
      "Epoch 9: Dev Accuracy: 0.24660603664162384\n",
      "Epoch 11: Dev Accuracy: 0.25741399762752076\n",
      "Epoch 13: Dev Accuracy: 0.3040727560300514\n",
      "Epoch 15: Dev Accuracy: 0.3254250691973112\n",
      "Epoch 17: Dev Accuracy: 0.3343877685514696\n",
      "Epoch 19: Dev Accuracy: 0.34400948991696323\n"
     ]
    }
   ],
   "source": [
    "reload(bilstm);\n",
    "torch.manual_seed(711);\n",
    "loss = torch.nn.CrossEntropyLoss()\n",
    "bi_model, losses, accuracies = bilstm.train_model(loss, bi_model, X_tr,Y_tr, word_to_ix, tag_to_ix, \n",
    "                                        X_dv, Y_dv, num_its=20, status_frequency=2, \n",
    "                                        optim_args = {'lr':0.001,'momentum':0.1}, param_file = 'best.params')"
   ]
  },
  {
   "cell_type": "code",
   "execution_count": 391,
   "metadata": {},
   "outputs": [
    {
     "name": "stdout",
     "output_type": "stream",
     "text": [
      "Epoch 1: Dev Accuracy: 0.36997495716356926\n",
      "Epoch 3: Dev Accuracy: 0.4545933834190062\n",
      "Epoch 5: Dev Accuracy: 0.5062607091076842\n",
      "Epoch 7: Dev Accuracy: 0.5435613549492553\n",
      "Epoch 9: Dev Accuracy: 0.5713720838275999\n",
      "Epoch 11: Dev Accuracy: 0.5928562013971267\n",
      "Epoch 13: Dev Accuracy: 0.6081455120601028\n",
      "Epoch 15: Dev Accuracy: 0.6236984315276131\n",
      "Epoch 17: Dev Accuracy: 0.6305522604454988\n",
      "Epoch 19: Dev Accuracy: 0.638328720179254\n"
     ]
    }
   ],
   "source": [
    "bi_model, losses_2, accuracies_2 = bilstm.train_model(loss, bi_model, X_tr,Y_tr, word_to_ix, tag_to_ix, \n",
    "                                        X_dv, Y_dv, num_its=20, status_frequency=2, \n",
    "                                        optim_args = {'lr':0.01,'momentum':0.01}, param_file = 'best.params')"
   ]
  },
  {
   "cell_type": "code",
   "execution_count": 392,
   "metadata": {},
   "outputs": [
    {
     "name": "stdout",
     "output_type": "stream",
     "text": [
      "Epoch 1: Dev Accuracy: 0.660471859760116\n",
      "Epoch 3: Dev Accuracy: 0.6984315276130223\n",
      "Epoch 5: Dev Accuracy: 0.715829708712271\n",
      "Epoch 7: Dev Accuracy: 0.730328192961645\n",
      "Epoch 9: Dev Accuracy: 0.7425860023724793\n",
      "Epoch 11: Dev Accuracy: 0.7581389218399894\n",
      "Epoch 13: Dev Accuracy: 0.7659153815737446\n",
      "Epoch 15: Dev Accuracy: 0.7700013180440227\n",
      "Epoch 17: Dev Accuracy: 0.7763279293528403\n",
      "Epoch 19: Dev Accuracy: 0.7838407802820614\n"
     ]
    }
   ],
   "source": [
    "bi_model, losses_3, accuracies_3 = bilstm.train_model(loss, bi_model, X_tr,Y_tr, word_to_ix, tag_to_ix, \n",
    "                                        X_dv, Y_dv, num_its=20, status_frequency=2, \n",
    "                                        optim_args = {'lr':0.1,'momentum':0.001}, param_file = 'best.params')"
   ]
  },
  {
   "cell_type": "code",
   "execution_count": 394,
   "metadata": {},
   "outputs": [],
   "source": [
    "losses = losses + losses_2 + losses_3\n",
    "accuracies = accuracies + accuracies_2 + accuracies_3"
   ]
  },
  {
   "cell_type": "code",
   "execution_count": 395,
   "metadata": {},
   "outputs": [
    {
     "data": {
      "image/png": "[encoded data removed]",
      "text/plain": [
       "<Figure size 1200x200 with 2 Axes>"
      ]
     },
     "metadata": {},
     "output_type": "display_data"
    }
   ],
   "source": [
    "# BiLSTM model graphs\n",
    "reload(bilstm);\n",
    "bilstm.plot_results(losses, accuracies)"
   ]
  },
  {
   "cell_type": "code",
   "execution_count": 148,
   "metadata": {
    "scrolled": true
   },
   "outputs": [
    {
     "name": "stdout",
     "output_type": "stream",
     "text": [
      "Epoch 1: Dev Accuracy: 0.7469355476472914\n",
      "Epoch 3: Dev Accuracy: 0.7533939633583762\n",
      "Epoch 5: Dev Accuracy: 0.7659153815737446\n",
      "Epoch 7: Dev Accuracy: 0.7663107947805456\n",
      "Epoch 9: Dev Accuracy: 0.7773823645709766\n",
      "Epoch 11: Dev Accuracy: 0.7812046922367207\n",
      "Epoch 13: Dev Accuracy: 0.778436799789113\n",
      "Epoch 15: Dev Accuracy: 0.7866086727296692\n",
      "Epoch 17: Dev Accuracy: 0.7777777777777778\n",
      "Epoch 19: Dev Accuracy: 0.7841043890865955\n"
     ]
    }
   ],
   "source": [
    "reload(bilstm);\n",
    "torch.manual_seed(711);\n",
    "loss = torch.nn.CrossEntropyLoss()\n",
    "model, losses, accuracies = bilstm.train_model(loss, model, X_tr,Y_tr, word_to_ix, tag_to_ix, \n",
    "                                        X_dv, Y_dv, num_its=20, status_frequency=2, \n",
    "                                        optim_args = {'lr':0.1,'momentum':0}, param_file = 'best.params')"
   ]
  },
  {
   "cell_type": "code",
   "execution_count": 149,
   "metadata": {},
   "outputs": [
    {
     "data": {
      "image/png": "[encoded data removed]",
      "text/plain": [
       "<Figure size 1200x200 with 2 Axes>"
      ]
     },
     "metadata": {},
     "output_type": "display_data"
    }
   ],
   "source": [
    "reload(bilstm);\n",
    "bilstm.plot_results(losses, accuracies)"
   ]
  },
  {
   "cell_type": "markdown",
   "metadata": {},
   "source": [
    "### Example: pretrained embeddings\n",
    "\n",
    "- *Polyglot* provides pre-trained word embeddings for many languages. We already helped you download the English file from [here](https://sites.google.com/site/rmyeid/projects/polyglot) to `/data`.\n",
    "- Use the following helper function to load in the polyglot embeddings, which you can use to initialize your parameter embeddings in your model. You need to make sure your embedding_dim matches your embeddings size."
   ]
  },
  {
   "cell_type": "code",
   "execution_count": 224,
   "metadata": {},
   "outputs": [],
   "source": [
    "reload(bilstm);\n",
    "filename = 'data/polyglot-en.pkl'\n",
    "word_embeddings = bilstm.obtain_polyglot_embeddings(filename, word_to_ix)"
   ]
  },
  {
   "cell_type": "markdown",
   "metadata": {},
   "source": [
    "- Let us have a look at these word embeddings. We can observe the cosine similarity between two word vectors."
   ]
  },
  {
   "cell_type": "code",
   "execution_count": 96,
   "metadata": {},
   "outputs": [],
   "source": [
    "def cosine(emb1, emb2): # function to return the cosine similarity between the embeddings\n",
    "    return emb1.dot(emb2) / (np.linalg.norm(emb1) * np.linalg.norm(emb2))"
   ]
  },
  {
   "cell_type": "code",
   "execution_count": 97,
   "metadata": {
    "scrolled": true
   },
   "outputs": [
    {
     "name": "stdout",
     "output_type": "stream",
     "text": [
      "0.690198\n",
      "0.05310621\n",
      "0.08789002\n"
     ]
    }
   ],
   "source": [
    "diremb = word_embeddings[word_to_ix['dire']]\n",
    "catemb = word_embeddings[word_to_ix['catastrophic']]\n",
    "amazemb = word_embeddings[word_to_ix['success']]\n",
    "print(cosine(diremb,catemb)) # dire and catastrophic are similar\n",
    "print(cosine(diremb,amazemb))\n",
    "print(cosine(catemb,amazemb))"
   ]
  },
  {
   "cell_type": "markdown",
   "metadata": {},
   "source": [
    "- Now, all we need to do is send in the word_embeddings when initializing your model\n",
    "\n",
    "Testing with multiple stacked LSTM layers and pretrained embeddings with LR annealing"
   ]
  },
  {
   "cell_type": "code",
   "execution_count": 225,
   "metadata": {},
   "outputs": [],
   "source": [
    "torch.manual_seed(711);\n",
    "embedding_dim = 64\n",
    "hidden_dim = 30\n",
    "model = bilstm.CustomBiLSTM(len(word_to_ix), tag_to_ix, embedding_dim, hidden_dim, 5, word_embeddings)\n",
    "loss = torch.nn.CrossEntropyLoss()"
   ]
  },
  {
   "cell_type": "code",
   "execution_count": 226,
   "metadata": {},
   "outputs": [
    {
     "name": "stdout",
     "output_type": "stream",
     "text": [
      "Epoch 1: Dev Accuracy: 0.20495584552524054\n",
      "Epoch 2: Dev Accuracy: 0.2151047844998023\n",
      "Epoch 3: Dev Accuracy: 0.2180044813496771\n",
      "Epoch 4: Dev Accuracy: 0.36430736786608675\n",
      "Epoch 5: Dev Accuracy: 0.5961513114538025\n",
      "Epoch 6: Dev Accuracy: 0.6561223144853038\n",
      "Epoch 7: Dev Accuracy: 0.7017266376696981\n",
      "Epoch 8: Dev Accuracy: 0.7316462369843153\n",
      "Epoch 9: Dev Accuracy: 0.7446948728087518\n",
      "Epoch 10: Dev Accuracy: 0.7577435086331884\n"
     ]
    }
   ],
   "source": [
    "model, losses, accuracies = bilstm.train_model(loss, model, X_tr,Y_tr, word_to_ix, tag_to_ix, \n",
    "                                        X_dv, Y_dv, num_its=10, status_frequency=1,\n",
    "                                        optim_args = {'lr':0.1,'momentum':0.0001}, param_file = 'best.params')"
   ]
  },
  {
   "cell_type": "code",
   "execution_count": 227,
   "metadata": {},
   "outputs": [
    {
     "name": "stdout",
     "output_type": "stream",
     "text": [
      "Epoch 1: Dev Accuracy: 0.7916172400158166\n",
      "Epoch 2: Dev Accuracy: 0.7978120469223672\n",
      "Epoch 3: Dev Accuracy: 0.7974166337155661\n",
      "Epoch 4: Dev Accuracy: 0.8032160274153157\n",
      "Epoch 5: Dev Accuracy: 0.8000527217609068\n",
      "Epoch 6: Dev Accuracy: 0.8009753525767761\n",
      "Epoch 7: Dev Accuracy: 0.8033478318175827\n",
      "Epoch 8: Dev Accuracy: 0.8041386582311849\n",
      "Epoch 9: Dev Accuracy: 0.8069065506787927\n",
      "Epoch 10: Dev Accuracy: 0.8062475286674575\n"
     ]
    }
   ],
   "source": [
    "model, losses_2, accuracies_2 = bilstm.train_model(loss, model, X_tr,Y_tr, word_to_ix, tag_to_ix, \n",
    "                                        X_dv, Y_dv, num_its=10, status_frequency=1,\n",
    "                                        optim_args = {'lr':0.01,'momentum':0.001}, param_file = 'best.params')"
   ]
  },
  {
   "cell_type": "code",
   "execution_count": 228,
   "metadata": {},
   "outputs": [
    {
     "name": "stdout",
     "output_type": "stream",
     "text": [
      "Epoch 1: Dev Accuracy: 0.8076973770923949\n",
      "Epoch 2: Dev Accuracy: 0.8070383550810597\n",
      "Epoch 3: Dev Accuracy: 0.8073019638855938\n",
      "Epoch 4: Dev Accuracy: 0.8055885066561224\n",
      "Epoch 5: Dev Accuracy: 0.8067747462765257\n",
      "Epoch 6: Dev Accuracy: 0.8075655726901279\n",
      "Epoch 7: Dev Accuracy: 0.8061157242651904\n",
      "Epoch 8: Dev Accuracy: 0.8074337682878608\n",
      "Epoch 9: Dev Accuracy: 0.807960985896929\n",
      "Epoch 10: Dev Accuracy: 0.8086200079082642\n"
     ]
    }
   ],
   "source": [
    "model, losses_3, accuracies_3 = bilstm.train_model(loss, model, X_tr,Y_tr, word_to_ix, tag_to_ix, \n",
    "                                        X_dv, Y_dv, num_its=10, status_frequency=1,\n",
    "                                        optim_args = {'lr':0.0001,'momentum':0.01}, param_file = 'best.params')"
   ]
  },
  {
   "cell_type": "code",
   "execution_count": 231,
   "metadata": {},
   "outputs": [],
   "source": [
    "losses = losses + losses_2 + losses_3\n",
    "accuracies = accuracies + accuracies_2 + accuracies_3"
   ]
  },
  {
   "cell_type": "code",
   "execution_count": 232,
   "metadata": {},
   "outputs": [
    {
     "data": {
      "image/png": "[encoded data removed]",
      "text/plain": [
       "<Figure size 1200x200 with 2 Axes>"
      ]
     },
     "metadata": {},
     "output_type": "display_data"
    }
   ],
   "source": [
    "reload(bilstm);\n",
    "bilstm.plot_results(losses, accuracies)"
   ]
  },
  {
   "cell_type": "code",
   "execution_count": 101,
   "metadata": {},
   "outputs": [],
   "source": [
    "reload(tagger_base);\n",
    "reload(bilstm);\n",
    "confusion = tagger_base.eval_model(model,'bilstm-dev-en.preds', word_to_ix)"
   ]
  },
  {
   "cell_type": "code",
   "execution_count": 102,
   "metadata": {},
   "outputs": [
    {
     "name": "stdout",
     "output_type": "stream",
     "text": [
      "0.7462765256359563\n"
     ]
    }
   ],
   "source": [
    "print (scorer.accuracy(confusion))"
   ]
  },
  {
   "cell_type": "code",
   "execution_count": 103,
   "metadata": {},
   "outputs": [],
   "source": [
    "tagger_base.apply_model(model,'bilstm-te-en.preds',word_to_ix, all_tags, testfile=TEST_FILE_HIDDEN)"
   ]
  },
  {
   "cell_type": "code",
   "execution_count": 104,
   "metadata": {},
   "outputs": [
    {
     "name": "stdout",
     "output_type": "stream",
     "text": [
      "0.745979381443299\n"
     ]
    }
   ],
   "source": [
    "# you don't have en-ud-test.conllu, so you can't run this\n",
    "te_confusion = scorer.get_confusion(TEST_FILE,'bilstm-te-en.preds')\n",
    "print (scorer.accuracy(te_confusion))"
   ]
  },
  {
   "cell_type": "markdown",
   "metadata": {},
   "source": [
    "### Part of Speech Tagging for Norwegian Using BiLSTM"
   ]
  },
  {
   "cell_type": "code",
   "execution_count": 105,
   "metadata": {},
   "outputs": [],
   "source": [
    "# recalculating all_tags and tag_to_ix for the norwegian language\n",
    "if START_TAG in all_tags_nr:\n",
    "    all_tags_nr.remove(START_TAG)\n",
    "if END_TAG in all_tags_nr:\n",
    "    all_tags_nr.remove(END_TAG)\n",
    "\n",
    "tag_to_ix_nr = {}\n",
    "for tag in all_tags_nr:\n",
    "    if tag not in tag_to_ix_nr:\n",
    "        tag_to_ix_nr[tag] = len(tag_to_ix_nr)"
   ]
  },
  {
   "cell_type": "code",
   "execution_count": 106,
   "metadata": {},
   "outputs": [
    {
     "name": "stdout",
     "output_type": "stream",
     "text": [
      "words in the vocabulary:  7600\n",
      "7599\n"
     ]
    }
   ],
   "source": [
    "# recalculating the vocab for the norwegian language: obtains the most common 7600 words from the file\n",
    "vocab_nr, word_to_ix_nr = most_common.get_word_to_ix(NR_TRAIN_FILE, 7600)\n",
    "print ('words in the vocabulary: ',len(word_to_ix_nr))\n",
    "print (word_to_ix_nr[UNK])"
   ]
  },
  {
   "cell_type": "markdown",
   "metadata": {},
   "source": [
    "- Loading training data for norwegian:"
   ]
  },
  {
   "cell_type": "code",
   "execution_count": 107,
   "metadata": {},
   "outputs": [],
   "source": [
    "reload(preproc);\n",
    "X_tr_nr, Y_tr_nr = preproc.load_data(NR_TRAIN_FILE)"
   ]
  },
  {
   "cell_type": "markdown",
   "metadata": {},
   "source": [
    "- Loading dev data for norwegian:"
   ]
  },
  {
   "cell_type": "code",
   "execution_count": 108,
   "metadata": {},
   "outputs": [],
   "source": [
    "X_dv_nr, Y_dv_nr = preproc.load_data(NR_DEV_FILE)"
   ]
  },
  {
   "cell_type": "markdown",
   "metadata": {},
   "source": [
    "- Loading test data for norwegian:"
   ]
  },
  {
   "cell_type": "code",
   "execution_count": 109,
   "metadata": {},
   "outputs": [],
   "source": [
    "X_te_nr, Y_te_nr = preproc.load_data(NR_TEST_FILE_HIDDEN)"
   ]
  },
  {
   "cell_type": "code",
   "execution_count": 110,
   "metadata": {},
   "outputs": [],
   "source": [
    "# setting up the random seed\n",
    "torch.manual_seed(711);\n",
    "\n",
    "# initializing your model\n",
    "embedding_dim = 30\n",
    "hidden_dim = 30\n",
    "model = bilstm.BiLSTM(len(word_to_ix_nr), tag_to_ix_nr, embedding_dim, hidden_dim)"
   ]
  },
  {
   "cell_type": "code",
   "execution_count": 111,
   "metadata": {},
   "outputs": [
    {
     "name": "stdout",
     "output_type": "stream",
     "text": [
      "Epoch 1: Dev Accuracy: 0.627653471026965\n",
      "Epoch 3: Dev Accuracy: 0.7287435456110155\n",
      "Epoch 5: Dev Accuracy: 0.7669535283993115\n",
      "Epoch 7: Dev Accuracy: 0.7835915088927137\n",
      "Epoch 9: Dev Accuracy: 0.802180149168101\n"
     ]
    }
   ],
   "source": [
    "# training your model for norwegian data\n",
    "loss = torch.nn.CrossEntropyLoss()\n",
    "model, losses, accuracies = bilstm.train_model(loss, model, X_tr_nr,Y_tr_nr, word_to_ix_nr, tag_to_ix_nr, \n",
    "                                        X_dv_nr, Y_dv_nr, num_its=10, status_frequency=2, \n",
    "                                        optim_args = {'lr':0.2,'momentum':0}, param_file = 'best.params')"
   ]
  },
  {
   "cell_type": "code",
   "execution_count": 112,
   "metadata": {},
   "outputs": [
    {
     "data": {
      "image/png": "[encoded data removed]",
      "text/plain": [
       "<Figure size 864x144 with 2 Axes>"
      ]
     },
     "metadata": {
      "needs_background": "light"
     },
     "output_type": "display_data"
    }
   ],
   "source": [
    "reload(bilstm);\n",
    "bilstm.plot_results(losses, accuracies)"
   ]
  },
  {
   "cell_type": "code",
   "execution_count": 113,
   "metadata": {},
   "outputs": [],
   "source": [
    "reload(tagger_base);\n",
    "reload(bilstm);\n",
    "confusion = tagger_base.eval_model(model,'bilstm-dev-nr.preds', word_to_ix_nr, \n",
    "                                   trainfile=NR_TRAIN_FILE, testfile=NR_DEV_FILE)"
   ]
  },
  {
   "cell_type": "code",
   "execution_count": 114,
   "metadata": {},
   "outputs": [
    {
     "name": "stdout",
     "output_type": "stream",
     "text": [
      "0.8059667240390131\n"
     ]
    }
   ],
   "source": [
    "print (scorer.accuracy(confusion))"
   ]
  },
  {
   "cell_type": "code",
   "execution_count": 115,
   "metadata": {},
   "outputs": [],
   "source": [
    "tagger_base.apply_model(model,'bilstm-te-nr.preds',word_to_ix_nr, all_tags_nr, \n",
    "                        trainfile=NR_TRAIN_FILE, testfile=NR_TEST_FILE_HIDDEN)"
   ]
  },
  {
   "cell_type": "code",
   "execution_count": 116,
   "metadata": {},
   "outputs": [
    {
     "name": "stdout",
     "output_type": "stream",
     "text": [
      "0.8050760113372842\n"
     ]
    }
   ],
   "source": [
    "# you don't have no_bokmaal-ud-test.conllu, so you can't run this\n",
    "te_confusion = scorer.get_confusion(NR_TEST_FILE,'bilstm-te-nr.preds')\n",
    "print (scorer.accuracy(te_confusion))"
   ]
  }
 ],
 "metadata": {
  "kernelspec": {
   "display_name": "Python 3 (ipykernel)",
   "language": "python",
   "name": "python3"
  },
  "language_info": {
   "codemirror_mode": {
    "name": "ipython",
    "version": 3
   },
   "file_extension": ".py",
   "mimetype": "text/x-python",
   "name": "python",
   "nbconvert_exporter": "python",
   "pygments_lexer": "ipython3",
   "version": "3.8.13"
  }
 },
 "nbformat": 4,
 "nbformat_minor": 4
}
